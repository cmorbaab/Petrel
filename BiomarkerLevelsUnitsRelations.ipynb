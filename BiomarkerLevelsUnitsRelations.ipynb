{
 "cells": [
  {
   "cell_type": "code",
   "execution_count": 1,
   "metadata": {
    "collapsed": true
   },
   "outputs": [],
   "source": [
    "%load_ext autoreload\n",
    "%autoreload 2\n",
    "%matplotlib inline\n",
    "\n",
    "from snorkel import SnorkelSession\n",
    "session = SnorkelSession()\n",
    "\n",
    "import os\n",
    "from snorkel.parser import XMLMultiDocPreprocessor\n",
    "\n",
    "# The following line is for testing only. Feel free to ignore it.\n",
    "file_path = 'articles/training.xml'\n",
    "train_preprocessor = XMLMultiDocPreprocessor(\n",
    "    path=file_path,\n",
    "    doc='.//article',\n",
    "    text='.//front/article-meta/abstract/p/text()',\n",
    "    id=  './/front/article-meta/article-id/text()'\n",
    ")\n",
    "\n",
    "file_path = 'articles/development.xml'\n",
    "dev_preprocessor = XMLMultiDocPreprocessor(\n",
    "    path=file_path,    \n",
    "    doc='.//document',    \n",
    "    text='.//passage/text/text()',    \n",
    "    id='.//id/text()'\n",
    ")\n",
    "\n",
    "file_path = 'articles/testcorpus.xml'\n",
    "test_preprocessor = XMLMultiDocPreprocessor(\n",
    "    path=file_path,    \n",
    "    doc='.//document',    \n",
    "    text='.//passage/text/text()',    \n",
    "    id='.//id/text()'\n",
    ")"
   ]
  },
  {
   "cell_type": "code",
   "execution_count": 2,
   "metadata": {},
   "outputs": [
    {
     "name": "stdout",
     "output_type": "stream",
     "text": [
      "Clearing existing...\n",
      "Running UDF...\n",
      "[=                                       ] 0%"
     ]
    },
    {
     "name": "stderr",
     "output_type": "stream",
     "text": [
      "Warning, empty document 5305186 passed to CoreNLP\n",
      "Warning, empty document 28182863 passed to CoreNLP\n"
     ]
    },
    {
     "name": "stdout",
     "output_type": "stream",
     "text": [
      "\r",
      "[=                                       ] 1%"
     ]
    },
    {
     "name": "stderr",
     "output_type": "stream",
     "text": [
      "Warning, empty document 27462919 passed to CoreNLP\n",
      "Warning, empty document 27494853 passed to CoreNLP\n",
      "Warning, empty document 27447745 passed to CoreNLP\n",
      "Warning, empty document 27447854 passed to CoreNLP\n"
     ]
    },
    {
     "name": "stdout",
     "output_type": "stream",
     "text": [
      "\r",
      "[=                                       ] 2%"
     ]
    },
    {
     "name": "stderr",
     "output_type": "stream",
     "text": [
      "Warning, empty document 27486880 passed to CoreNLP\n"
     ]
    },
    {
     "name": "stdout",
     "output_type": "stream",
     "text": [
      "\r",
      "[==                                      ] 3%"
     ]
    },
    {
     "name": "stderr",
     "output_type": "stream",
     "text": [
      "Warning, empty document 28012176 passed to CoreNLP\n",
      "Warning, empty document 5300950 passed to CoreNLP\n",
      "Warning, empty document 5300948 passed to CoreNLP\n",
      "Warning, empty document 5300945 passed to CoreNLP\n",
      "Warning, empty document 5300911 passed to CoreNLP\n"
     ]
    },
    {
     "name": "stdout",
     "output_type": "stream",
     "text": [
      "\r",
      "[==                                      ] 4%"
     ]
    },
    {
     "name": "stderr",
     "output_type": "stream",
     "text": [
      "Warning, empty document 28179006 passed to CoreNLP\n",
      "Warning, empty document 28178960 passed to CoreNLP\n",
      "Warning, empty document 28178970 passed to CoreNLP\n",
      "Warning, empty document 28178948 passed to CoreNLP\n",
      "Warning, empty document 28178945 passed to CoreNLP\n",
      "Warning, empty document 28179018 passed to CoreNLP\n",
      "Warning, empty document 28178966 passed to CoreNLP\n",
      "Warning, empty document 28178923 passed to CoreNLP\n",
      "Warning, empty document 5299725 passed to CoreNLP\n",
      "Warning, empty document 28178997 passed to CoreNLP\n",
      "Warning, empty document 5299688 passed to CoreNLP\n",
      "Warning, empty document 28178959 passed to CoreNLP\n",
      "Warning, empty document 28178957 passed to CoreNLP\n",
      "Warning, empty document 28178925 passed to CoreNLP\n",
      "Warning, empty document 28178952 passed to CoreNLP\n",
      "Warning, empty document 5299656 passed to CoreNLP\n",
      "Warning, empty document 28178989 passed to CoreNLP\n",
      "Warning, empty document 28179021 passed to CoreNLP\n"
     ]
    },
    {
     "name": "stdout",
     "output_type": "stream",
     "text": [
      "\r",
      "[===                                     ] 5%"
     ]
    },
    {
     "name": "stderr",
     "output_type": "stream",
     "text": [
      "Warning, empty document 5299079 passed to CoreNLP\n",
      "Warning, empty document 28173772 passed to CoreNLP\n",
      "Warning, empty document 5297221 passed to CoreNLP\n"
     ]
    },
    {
     "name": "stdout",
     "output_type": "stream",
     "text": [
      "[===                                     ] 7%"
     ]
    },
    {
     "name": "stderr",
     "output_type": "stream",
     "text": [
      "Warning, empty document 28144859 passed to CoreNLP\n",
      "Warning, empty document 26902522 passed to CoreNLP\n"
     ]
    },
    {
     "name": "stdout",
     "output_type": "stream",
     "text": [
      "\r",
      "[====                                    ] 8%"
     ]
    },
    {
     "name": "stderr",
     "output_type": "stream",
     "text": [
      "Warning, empty document 27838763 passed to CoreNLP\n",
      "Warning, empty document 27554774 passed to CoreNLP\n",
      "Warning, empty document 27379386 passed to CoreNLP\n"
     ]
    },
    {
     "name": "stdout",
     "output_type": "stream",
     "text": [
      "\r",
      "[====                                    ] 9%"
     ]
    },
    {
     "name": "stderr",
     "output_type": "stream",
     "text": [
      "Warning, empty document 28130689 passed to CoreNLP\n",
      "Warning, empty document 5270378 passed to CoreNLP\n",
      "Warning, empty document 5270363 passed to CoreNLP\n",
      "Warning, empty document 26552421 passed to CoreNLP\n",
      "Warning, empty document 22660553 passed to CoreNLP\n",
      "Warning, empty document 19496923 passed to CoreNLP\n"
     ]
    },
    {
     "name": "stdout",
     "output_type": "stream",
     "text": [
      "[=====                                   ] 11%"
     ]
    },
    {
     "name": "stderr",
     "output_type": "stream",
     "text": [
      "Warning, empty document 24029061 passed to CoreNLP\n",
      "Warning, empty document 27344180 passed to CoreNLP\n"
     ]
    },
    {
     "name": "stdout",
     "output_type": "stream",
     "text": [
      "\r",
      "[=====                                   ] 12%"
     ]
    },
    {
     "name": "stderr",
     "output_type": "stream",
     "text": [
      "Warning, empty document 27486820 passed to CoreNLP\n"
     ]
    },
    {
     "name": "stdout",
     "output_type": "stream",
     "text": [
      "\r",
      "[======                                  ] 13%"
     ]
    },
    {
     "name": "stderr",
     "output_type": "stream",
     "text": [
      "Warning, empty document 5301370 passed to CoreNLP\n"
     ]
    },
    {
     "name": "stdout",
     "output_type": "stream",
     "text": [
      "\r",
      "[======                                  ] 14%"
     ]
    },
    {
     "name": "stderr",
     "output_type": "stream",
     "text": [
      "Warning, empty document 5301067 passed to CoreNLP\n",
      "Warning, empty document 5300912 passed to CoreNLP\n"
     ]
    },
    {
     "name": "stdout",
     "output_type": "stream",
     "text": [
      "\r",
      "[=======                                 ] 15%"
     ]
    },
    {
     "name": "stderr",
     "output_type": "stream",
     "text": [
      "Warning, empty document 28179014 passed to CoreNLP\n",
      "Warning, empty document 28178929 passed to CoreNLP\n",
      "Warning, empty document 28178951 passed to CoreNLP\n",
      "Warning, empty document 28179026 passed to CoreNLP\n",
      "Warning, empty document 28179020 passed to CoreNLP\n",
      "Warning, empty document 28179007 passed to CoreNLP\n",
      "Warning, empty document 28178999 passed to CoreNLP\n",
      "Warning, empty document 28183321 passed to CoreNLP\n",
      "Warning, empty document 28178994 passed to CoreNLP\n",
      "Warning, empty document 5299695 passed to CoreNLP\n",
      "Warning, empty document 28178938 passed to CoreNLP\n",
      "Warning, empty document 5299675 passed to CoreNLP\n",
      "Warning, empty document 28151938 passed to CoreNLP\n",
      "Warning, empty document 28151939 passed to CoreNLP\n"
     ]
    },
    {
     "name": "stdout",
     "output_type": "stream",
     "text": [
      "\r",
      "[=======                                 ] 16%"
     ]
    },
    {
     "name": "stderr",
     "output_type": "stream",
     "text": [
      "Warning, empty document 28151970 passed to CoreNLP\n",
      "Warning, empty document 28152059 passed to CoreNLP\n",
      "Warning, empty document 28151974 passed to CoreNLP\n",
      "Warning, empty document 28150141 passed to CoreNLP\n",
      "Warning, empty document 28148286 passed to CoreNLP\n",
      "Warning, empty document 28148267 passed to CoreNLP\n",
      "Warning, empty document 28148238 passed to CoreNLP\n",
      "Warning, empty document 28148272 passed to CoreNLP\n",
      "Warning, empty document 28148276 passed to CoreNLP\n",
      "Warning, empty document 28152978 passed to CoreNLP\n"
     ]
    },
    {
     "name": "stdout",
     "output_type": "stream",
     "text": [
      "\r",
      "[=======                                 ] 17%"
     ]
    },
    {
     "name": "stderr",
     "output_type": "stream",
     "text": [
      "Warning, empty document 28148281 passed to CoreNLP\n",
      "Warning, empty document 28148239 passed to CoreNLP\n"
     ]
    },
    {
     "name": "stdout",
     "output_type": "stream",
     "text": [
      "\r",
      "[========                                ] 18%"
     ]
    },
    {
     "name": "stderr",
     "output_type": "stream",
     "text": [
      "Warning, empty document 28184245 passed to CoreNLP\n",
      "Warning, empty document 28148244 passed to CoreNLP\n",
      "Warning, empty document 28153034 passed to CoreNLP\n",
      "Warning, empty document 28148302 passed to CoreNLP\n",
      "Warning, empty document 28148236 passed to CoreNLP\n",
      "Warning, empty document 28148246 passed to CoreNLP\n",
      "Warning, empty document 28184256 passed to CoreNLP\n",
      "Warning, empty document 28153009 passed to CoreNLP\n",
      "Warning, empty document 28148221 passed to CoreNLP\n",
      "Warning, empty document 28148225 passed to CoreNLP\n",
      "Warning, empty document 28184251 passed to CoreNLP\n",
      "Warning, empty document 28148293 passed to CoreNLP\n",
      "Warning, empty document 28148305 passed to CoreNLP\n",
      "Warning, empty document 28152990 passed to CoreNLP\n",
      "Warning, empty document 28148242 passed to CoreNLP\n",
      "Warning, empty document 28148301 passed to CoreNLP\n",
      "Warning, empty document 28148279 passed to CoreNLP\n",
      "Warning, empty document 28148290 passed to CoreNLP\n",
      "Warning, empty document 28153017 passed to CoreNLP\n",
      "Warning, empty document 28153033 passed to CoreNLP\n",
      "Warning, empty document 28148223 passed to CoreNLP\n",
      "Warning, empty document 28153003 passed to CoreNLP\n",
      "Warning, empty document 28148240 passed to CoreNLP\n",
      "Warning, empty document 28148303 passed to CoreNLP\n",
      "Warning, empty document 28167864 passed to CoreNLP\n",
      "Warning, empty document 28152989 passed to CoreNLP\n",
      "Warning, empty document 28153048 passed to CoreNLP\n",
      "Warning, empty document 28148274 passed to CoreNLP\n",
      "Warning, empty document 28168006 passed to CoreNLP\n"
     ]
    },
    {
     "name": "stdout",
     "output_type": "stream",
     "text": [
      "[=========                               ] 22%"
     ]
    },
    {
     "name": "stderr",
     "output_type": "stream",
     "text": [
      "Warning, empty document 28210239 passed to CoreNLP\n",
      "Warning, empty document 27681113 passed to CoreNLP\n",
      "Warning, empty document 5308771 passed to CoreNLP\n",
      "Warning, empty document 28192800 passed to CoreNLP\n",
      "Warning, empty document 5308769 passed to CoreNLP\n"
     ]
    },
    {
     "name": "stdout",
     "output_type": "stream",
     "text": [
      "\r",
      "[==========                              ] 23%"
     ]
    },
    {
     "name": "stderr",
     "output_type": "stream",
     "text": [
      "Warning, empty document 5304385 passed to CoreNLP\n",
      "Warning, empty document 5304361 passed to CoreNLP\n",
      "Warning, empty document 28210447 passed to CoreNLP\n",
      "Warning, empty document 28210445 passed to CoreNLP\n",
      "Warning, empty document 28210437 passed to CoreNLP\n",
      "Warning, empty document 28210430 passed to CoreNLP\n",
      "Warning, empty document 5302179 passed to CoreNLP\n",
      "Warning, empty document 28145395 passed to CoreNLP\n",
      "Warning, empty document 28170537 passed to CoreNLP\n"
     ]
    },
    {
     "name": "stdout",
     "output_type": "stream",
     "text": [
      "\r",
      "[==========                              ] 24%"
     ]
    },
    {
     "name": "stderr",
     "output_type": "stream",
     "text": [
      "Warning, empty document 28203066 passed to CoreNLP\n",
      "Warning, empty document 28159976 passed to CoreNLP\n",
      "Warning, empty document 28152139 passed to CoreNLP\n",
      "Warning, empty document 28146236 passed to CoreNLP\n",
      "Warning, empty document 28146237 passed to CoreNLP\n",
      "Warning, empty document 5294949 passed to CoreNLP\n",
      "Warning, empty document 5294947 passed to CoreNLP\n",
      "Warning, empty document 5294943 passed to CoreNLP\n",
      "Warning, empty document 5294940 passed to CoreNLP\n",
      "Warning, empty document 28191321 passed to CoreNLP\n",
      "Warning, empty document 28177049 passed to CoreNLP\n",
      "Warning, empty document 28177046 passed to CoreNLP\n",
      "Warning, empty document 28177045 passed to CoreNLP\n",
      "Warning, empty document 27477328 passed to CoreNLP\n",
      "Warning, empty document 27484038 passed to CoreNLP\n",
      "Warning, empty document 27555459 passed to CoreNLP\n"
     ]
    },
    {
     "name": "stdout",
     "output_type": "stream",
     "text": [
      "\r",
      "[===========                             ] 25%"
     ]
    },
    {
     "name": "stderr",
     "output_type": "stream",
     "text": [
      "Warning, empty document 27939045 passed to CoreNLP\n",
      "Warning, empty document 28184180 passed to CoreNLP\n",
      "Warning, empty document 28180185 passed to CoreNLP\n",
      "Warning, empty document 28148220 passed to CoreNLP\n",
      "Warning, empty document 28148277 passed to CoreNLP\n",
      "Warning, empty document 28148288 passed to CoreNLP\n",
      "Warning, empty document 28148232 passed to CoreNLP\n"
     ]
    },
    {
     "name": "stdout",
     "output_type": "stream",
     "text": [
      "\r",
      "[===========                             ] 26%"
     ]
    },
    {
     "name": "stderr",
     "output_type": "stream",
     "text": [
      "Warning, empty document 28146567 passed to CoreNLP\n",
      "Warning, empty document 28146578 passed to CoreNLP\n",
      "Warning, empty document 28146577 passed to CoreNLP\n",
      "Warning, empty document 28146553 passed to CoreNLP\n"
     ]
    },
    {
     "name": "stdout",
     "output_type": "stream",
     "text": [
      "\r",
      "[===========                             ] 27%"
     ]
    },
    {
     "name": "stderr",
     "output_type": "stream",
     "text": [
      "Warning, empty document 27846616 passed to CoreNLP\n",
      "Warning, empty document 27789675 passed to CoreNLP\n",
      "Warning, empty document 27789679 passed to CoreNLP\n"
     ]
    },
    {
     "name": "stdout",
     "output_type": "stream",
     "text": [
      "\r",
      "[============                            ] 28%"
     ]
    },
    {
     "name": "stderr",
     "output_type": "stream",
     "text": [
      "Warning, empty document 28148241 passed to CoreNLP\n",
      "Warning, empty document 28143492 passed to CoreNLP\n",
      "Warning, empty document 28148261 passed to CoreNLP\n",
      "Warning, empty document 28143545 passed to CoreNLP\n",
      "Warning, empty document 28143561 passed to CoreNLP\n",
      "Warning, empty document 28168037 passed to CoreNLP\n",
      "Warning, empty document 28143565 passed to CoreNLP\n",
      "Warning, empty document 28143511 passed to CoreNLP\n",
      "Warning, empty document 28143522 passed to CoreNLP\n",
      "Warning, empty document 28143451 passed to CoreNLP\n",
      "Warning, empty document 28143571 passed to CoreNLP\n",
      "Warning, empty document 28168005 passed to CoreNLP\n",
      "Warning, empty document 28143589 passed to CoreNLP\n",
      "Warning, empty document 28143426 passed to CoreNLP\n",
      "Warning, empty document 28143433 passed to CoreNLP\n",
      "Warning, empty document 28143526 passed to CoreNLP\n"
     ]
    },
    {
     "name": "stdout",
     "output_type": "stream",
     "text": [
      "\r",
      "[============                            ] 29%"
     ]
    },
    {
     "name": "stderr",
     "output_type": "stream",
     "text": [
      "Warning, empty document 28148260 passed to CoreNLP\n",
      "Warning, empty document 28143587 passed to CoreNLP\n",
      "Warning, empty document 28143491 passed to CoreNLP\n",
      "Warning, empty document 28143435 passed to CoreNLP\n",
      "Warning, empty document 28143541 passed to CoreNLP\n",
      "Warning, empty document 28148265 passed to CoreNLP\n",
      "Warning, empty document 28143562 passed to CoreNLP\n",
      "Warning, empty document 28143584 passed to CoreNLP\n",
      "Warning, empty document 28143520 passed to CoreNLP\n",
      "Warning, empty document 28143601 passed to CoreNLP\n",
      "Warning, empty document 28143606 passed to CoreNLP\n",
      "Warning, empty document 28148307 passed to CoreNLP\n"
     ]
    },
    {
     "name": "stdout",
     "output_type": "stream",
     "text": [
      "[=============                           ] 31%"
     ]
    },
    {
     "name": "stderr",
     "output_type": "stream",
     "text": [
      "Warning, empty document 28137381 passed to CoreNLP\n",
      "Warning, empty document 28087201 passed to CoreNLP\n"
     ]
    },
    {
     "name": "stdout",
     "output_type": "stream",
     "text": [
      "\r",
      "[=============                           ] 32%"
     ]
    },
    {
     "name": "stderr",
     "output_type": "stream",
     "text": [
      "Warning, empty document 28203208 passed to CoreNLP\n",
      "Warning, empty document 28144808 passed to CoreNLP\n"
     ]
    },
    {
     "name": "stdout",
     "output_type": "stream",
     "text": [
      "\r",
      "[==============                          ] 33%"
     ]
    },
    {
     "name": "stderr",
     "output_type": "stream",
     "text": [
      "Warning, empty document 27863903 passed to CoreNLP\n",
      "Warning, empty document 27908689 passed to CoreNLP\n",
      "Warning, empty document 27818097 passed to CoreNLP\n",
      "Warning, empty document 28164012 passed to CoreNLP\n",
      "Warning, empty document 28164013 passed to CoreNLP\n"
     ]
    },
    {
     "name": "stdout",
     "output_type": "stream",
     "text": [
      "\r",
      "[==============                          ] 34%"
     ]
    },
    {
     "name": "stderr",
     "output_type": "stream",
     "text": [
      "Warning, empty document 27506906 passed to CoreNLP\n",
      "Warning, empty document 28148904 passed to CoreNLP\n",
      "Warning, empty document 5309451 passed to CoreNLP\n",
      "Warning, empty document 28203553 passed to CoreNLP\n",
      "Warning, empty document 28203552 passed to CoreNLP\n"
     ]
    },
    {
     "name": "stdout",
     "output_type": "stream",
     "text": [
      "\r",
      "[===============                         ] 35%"
     ]
    },
    {
     "name": "stderr",
     "output_type": "stream",
     "text": [
      "Warning, empty document 28138126 passed to CoreNLP\n",
      "Warning, empty document 28194229 passed to CoreNLP\n",
      "Warning, empty document 28203105 passed to CoreNLP\n",
      "Warning, empty document 28203104 passed to CoreNLP\n",
      "Warning, empty document 28203107 passed to CoreNLP\n",
      "Warning, empty document 28203068 passed to CoreNLP\n",
      "Warning, empty document 28203070 passed to CoreNLP\n",
      "Warning, empty document 28203106 passed to CoreNLP\n",
      "Warning, empty document 28168095 passed to CoreNLP\n",
      "Warning, empty document 28168103 passed to CoreNLP\n",
      "Warning, empty document 28168111 passed to CoreNLP\n"
     ]
    },
    {
     "name": "stdout",
     "output_type": "stream",
     "text": [
      "\r",
      "[===============                         ] 36%"
     ]
    },
    {
     "name": "stderr",
     "output_type": "stream",
     "text": [
      "Warning, empty document 28143592 passed to CoreNLP\n",
      "Warning, empty document 28143478 passed to CoreNLP\n",
      "Warning, empty document 28143619 passed to CoreNLP\n",
      "Warning, empty document 28143609 passed to CoreNLP\n",
      "Warning, empty document 28143417 passed to CoreNLP\n",
      "Warning, empty document 28143400 passed to CoreNLP\n",
      "Warning, empty document 28143425 passed to CoreNLP\n",
      "Warning, empty document 28163748 passed to CoreNLP\n",
      "Warning, empty document 28143493 passed to CoreNLP\n"
     ]
    },
    {
     "name": "stdout",
     "output_type": "stream",
     "text": [
      "\r",
      "[===============                         ] 37%"
     ]
    },
    {
     "name": "stderr",
     "output_type": "stream",
     "text": [
      "Warning, empty document 28141815 passed to CoreNLP\n",
      "Warning, empty document 28141863 passed to CoreNLP\n",
      "Warning, empty document 28141847 passed to CoreNLP\n",
      "Warning, empty document 28141816 passed to CoreNLP\n"
     ]
    },
    {
     "name": "stdout",
     "output_type": "stream",
     "text": [
      "\r",
      "[================                        ] 38%"
     ]
    },
    {
     "name": "stderr",
     "output_type": "stream",
     "text": [
      "Warning, empty document 28143401 passed to CoreNLP\n",
      "Warning, empty document 28137277 passed to CoreNLP\n",
      "Warning, empty document 28143399 passed to CoreNLP\n",
      "Warning, empty document 28163789 passed to CoreNLP\n"
     ]
    },
    {
     "name": "stdout",
     "output_type": "stream",
     "text": [
      "\r",
      "[================                        ] 39%"
     ]
    },
    {
     "name": "stderr",
     "output_type": "stream",
     "text": [
      "Warning, empty document 28143472 passed to CoreNLP\n",
      "Warning, empty document 28143481 passed to CoreNLP\n",
      "Warning, empty document 28137278 passed to CoreNLP\n",
      "Warning, empty document 28143479 passed to CoreNLP\n",
      "Warning, empty document 28143623 passed to CoreNLP\n",
      "Warning, empty document 28143518 passed to CoreNLP\n",
      "Warning, empty document 28163793 passed to CoreNLP\n",
      "Warning, empty document 28143463 passed to CoreNLP\n",
      "Warning, empty document 28163782 passed to CoreNLP\n",
      "Warning, empty document 28137259 passed to CoreNLP\n",
      "Warning, empty document 28143566 passed to CoreNLP\n",
      "Warning, empty document 28143441 passed to CoreNLP\n",
      "Warning, empty document 28137264 passed to CoreNLP\n",
      "Warning, empty document 28143391 passed to CoreNLP\n",
      "Warning, empty document 28137276 passed to CoreNLP\n",
      "Warning, empty document 28143523 passed to CoreNLP\n",
      "Warning, empty document 28143405 passed to CoreNLP\n",
      "Warning, empty document 28137295 passed to CoreNLP\n",
      "Warning, empty document 28143608 passed to CoreNLP\n",
      "Warning, empty document 28163780 passed to CoreNLP\n",
      "Warning, empty document 28143622 passed to CoreNLP\n",
      "Warning, empty document 28163787 passed to CoreNLP\n",
      "Warning, empty document 28143397 passed to CoreNLP\n",
      "Warning, empty document 28143567 passed to CoreNLP\n",
      "Warning, empty document 28143464 passed to CoreNLP\n",
      "Warning, empty document 28143503 passed to CoreNLP\n",
      "Warning, empty document 28137245 passed to CoreNLP\n",
      "Warning, empty document 28143614 passed to CoreNLP\n",
      "Warning, empty document 28137282 passed to CoreNLP\n"
     ]
    },
    {
     "name": "stdout",
     "output_type": "stream",
     "text": [
      "\r",
      "[=================                       ] 40%"
     ]
    },
    {
     "name": "stderr",
     "output_type": "stream",
     "text": [
      "Warning, empty document 28137267 passed to CoreNLP\n",
      "Warning, empty document 28143497 passed to CoreNLP\n",
      "Warning, empty document 28143440 passed to CoreNLP\n",
      "Warning, empty document 28137296 passed to CoreNLP\n",
      "Warning, empty document 28143402 passed to CoreNLP\n",
      "Warning, empty document 28143410 passed to CoreNLP\n",
      "Warning, empty document 28143530 passed to CoreNLP\n",
      "Warning, empty document 28137283 passed to CoreNLP\n",
      "Warning, empty document 28143489 passed to CoreNLP\n",
      "Warning, empty document 28137273 passed to CoreNLP\n",
      "Warning, empty document 28143486 passed to CoreNLP\n",
      "Warning, empty document 28143445 passed to CoreNLP\n",
      "Warning, empty document 28143521 passed to CoreNLP\n",
      "Warning, empty document 28137254 passed to CoreNLP\n",
      "Warning, empty document 28143555 passed to CoreNLP\n",
      "Warning, empty document 28143572 passed to CoreNLP\n"
     ]
    },
    {
     "name": "stdout",
     "output_type": "stream",
     "text": [
      "[===================                     ] 45%"
     ]
    },
    {
     "name": "stderr",
     "output_type": "stream",
     "text": [
      "Warning, empty document 28210363 passed to CoreNLP\n",
      "Warning, empty document 5301304 passed to CoreNLP\n",
      "Warning, empty document 5301297 passed to CoreNLP\n",
      "Warning, empty document 28178443 passed to CoreNLP\n"
     ]
    },
    {
     "name": "stdout",
     "output_type": "stream",
     "text": [
      "\r",
      "[===================                     ] 46%"
     ]
    },
    {
     "name": "stderr",
     "output_type": "stream",
     "text": [
      "Warning, empty document 28133358 passed to CoreNLP\n",
      "Warning, empty document 28133359 passed to CoreNLP\n",
      "Warning, empty document 28180186 passed to CoreNLP\n"
     ]
    },
    {
     "name": "stdout",
     "output_type": "stream",
     "text": [
      "\r",
      "[===================                     ] 47%"
     ]
    },
    {
     "name": "stderr",
     "output_type": "stream",
     "text": [
      "Warning, empty document 28138823 passed to CoreNLP\n",
      "Warning, empty document 28203517 passed to CoreNLP\n",
      "Warning, empty document 28137305 passed to CoreNLP\n",
      "Warning, empty document 28137307 passed to CoreNLP\n",
      "Warning, empty document 28137300 passed to CoreNLP\n",
      "Warning, empty document 28137252 passed to CoreNLP\n",
      "Warning, empty document 28137275 passed to CoreNLP\n",
      "Warning, empty document 28137247 passed to CoreNLP\n",
      "Warning, empty document 28137255 passed to CoreNLP\n",
      "Warning, empty document 28163665 passed to CoreNLP\n",
      "Warning, empty document 28137280 passed to CoreNLP\n"
     ]
    },
    {
     "name": "stdout",
     "output_type": "stream",
     "text": [
      "[====================                    ] 49%"
     ]
    },
    {
     "name": "stderr",
     "output_type": "stream",
     "text": [
      "Warning, empty document 28135310 passed to CoreNLP\n",
      "Warning, empty document 28132646 passed to CoreNLP\n"
     ]
    },
    {
     "name": "stdout",
     "output_type": "stream",
     "text": [
      "[=====================                   ] 52%"
     ]
    },
    {
     "name": "stderr",
     "output_type": "stream",
     "text": [
      "Warning, empty document 27887969 passed to CoreNLP\n",
      "Warning, empty document 27865792 passed to CoreNLP\n",
      "Warning, empty document 28132958 passed to CoreNLP\n",
      "Warning, empty document 28133922 passed to CoreNLP\n"
     ]
    },
    {
     "name": "stdout",
     "output_type": "stream",
     "text": [
      "\r",
      "[======================                  ] 53%"
     ]
    },
    {
     "name": "stderr",
     "output_type": "stream",
     "text": [
      "Warning, empty document 28130961 passed to CoreNLP\n",
      "Warning, empty document 5292346 passed to CoreNLP\n",
      "Warning, empty document 5292343 passed to CoreNLP\n",
      "Warning, empty document 5292333 passed to CoreNLP\n"
     ]
    },
    {
     "name": "stdout",
     "output_type": "stream",
     "text": [
      "\r",
      "[======================                  ] 54%"
     ]
    },
    {
     "name": "stderr",
     "output_type": "stream",
     "text": [
      "Warning, empty document 28210098 passed to CoreNLP\n",
      "Warning, empty document 28129747 passed to CoreNLP\n",
      "Warning, empty document 28191448 passed to CoreNLP\n",
      "Warning, empty document 28129777 passed to CoreNLP\n",
      "Warning, empty document 28129756 passed to CoreNLP\n",
      "Warning, empty document 28129740 passed to CoreNLP\n",
      "Warning, empty document 28149498 passed to CoreNLP\n",
      "Warning, empty document 28129742 passed to CoreNLP\n",
      "Warning, empty document 28129755 passed to CoreNLP\n",
      "Warning, empty document 28129776 passed to CoreNLP\n",
      "Warning, empty document 28129775 passed to CoreNLP\n",
      "Warning, empty document 28129745 passed to CoreNLP\n",
      "Warning, empty document 28129786 passed to CoreNLP\n",
      "Warning, empty document 28129778 passed to CoreNLP\n",
      "Warning, empty document 28129744 passed to CoreNLP\n",
      "Warning, empty document 28129785 passed to CoreNLP\n",
      "Warning, empty document 28129796 passed to CoreNLP\n",
      "Warning, empty document 28129749 passed to CoreNLP\n",
      "Warning, empty document 28129782 passed to CoreNLP\n",
      "Warning, empty document 28149513 passed to CoreNLP\n",
      "Warning, empty document 28129768 passed to CoreNLP\n",
      "Warning, empty document 28129736 passed to CoreNLP\n",
      "Warning, empty document 28190990 passed to CoreNLP\n",
      "Warning, empty document 28130626 passed to CoreNLP\n",
      "Warning, empty document 28144403 passed to CoreNLP\n",
      "Warning, empty document 28126882 passed to CoreNLP\n"
     ]
    },
    {
     "name": "stdout",
     "output_type": "stream",
     "text": [
      "\r",
      "[=======================                 ] 55%"
     ]
    },
    {
     "name": "stderr",
     "output_type": "stream",
     "text": [
      "Warning, empty document 28203087 passed to CoreNLP\n",
      "Warning, empty document 28203112 passed to CoreNLP\n",
      "Warning, empty document 28126983 passed to CoreNLP\n",
      "Warning, empty document 28128193 passed to CoreNLP\n",
      "Warning, empty document 28184155 passed to CoreNLP\n",
      "Warning, empty document 28184150 passed to CoreNLP\n",
      "Warning, empty document 28184167 passed to CoreNLP\n"
     ]
    },
    {
     "name": "stdout",
     "output_type": "stream",
     "text": [
      "\r",
      "[=======================                 ] 56%"
     ]
    },
    {
     "name": "stderr",
     "output_type": "stream",
     "text": [
      "Warning, empty document 28121960 passed to CoreNLP\n",
      "Warning, empty document 28121946 passed to CoreNLP\n",
      "Warning, empty document 28121942 passed to CoreNLP\n"
     ]
    },
    {
     "name": "stdout",
     "output_type": "stream",
     "text": [
      "\r",
      "[=======================                 ] 57%"
     ]
    },
    {
     "name": "stderr",
     "output_type": "stream",
     "text": [
      "Warning, empty document 28121923 passed to CoreNLP\n",
      "Warning, empty document 28121915 passed to CoreNLP\n",
      "Warning, empty document 28180139 passed to CoreNLP\n",
      "Warning, empty document 28132002 passed to CoreNLP\n",
      "Warning, empty document 28130207 passed to CoreNLP\n",
      "Warning, empty document 28129367 passed to CoreNLP\n",
      "Warning, empty document 28129396 passed to CoreNLP\n",
      "Warning, empty document 28129400 passed to CoreNLP\n"
     ]
    },
    {
     "name": "stdout",
     "output_type": "stream",
     "text": [
      "\r",
      "[========================                ] 58%"
     ]
    },
    {
     "name": "stderr",
     "output_type": "stream",
     "text": [
      "Warning, empty document 28129402 passed to CoreNLP\n",
      "Warning, empty document 28129392 passed to CoreNLP\n",
      "Warning, empty document 28129357 passed to CoreNLP\n",
      "Warning, empty document 28129328 passed to CoreNLP\n",
      "Warning, empty document 28129327 passed to CoreNLP\n",
      "Warning, empty document 28129375 passed to CoreNLP\n",
      "Warning, empty document 28129325 passed to CoreNLP\n"
     ]
    },
    {
     "name": "stdout",
     "output_type": "stream",
     "text": [
      "\r",
      "[========================                ] 59%"
     ]
    },
    {
     "name": "stderr",
     "output_type": "stream",
     "text": [
      "Warning, empty document 28125995 passed to CoreNLP\n"
     ]
    },
    {
     "name": "stdout",
     "output_type": "stream",
     "text": [
      "\r",
      "[=========================               ] 60%"
     ]
    },
    {
     "name": "stderr",
     "output_type": "stream",
     "text": [
      "Warning, empty document 28191002 passed to CoreNLP\n"
     ]
    },
    {
     "name": "stdout",
     "output_type": "stream",
     "text": [
      "\r",
      "[=========================               ] 61%"
     ]
    },
    {
     "name": "stderr",
     "output_type": "stream",
     "text": [
      "Warning, empty document 28191455 passed to CoreNLP\n",
      "Warning, empty document 28123171 passed to CoreNLP\n",
      "Warning, empty document 28125566 passed to CoreNLP\n",
      "Warning, empty document 28123172 passed to CoreNLP\n",
      "Warning, empty document 28125073 passed to CoreNLP\n",
      "Warning, empty document 28154805 passed to CoreNLP\n",
      "Warning, empty document 28154802 passed to CoreNLP\n"
     ]
    },
    {
     "name": "stdout",
     "output_type": "stream",
     "text": [
      "\r",
      "[=========================               ] 62%"
     ]
    },
    {
     "name": "stderr",
     "output_type": "stream",
     "text": [
      "Warning, empty document 28125999 passed to CoreNLP\n",
      "Warning, empty document 28125968 passed to CoreNLP\n",
      "Warning, empty document 28149257 passed to CoreNLP\n",
      "Warning, empty document 28126013 passed to CoreNLP\n",
      "Warning, empty document 28126001 passed to CoreNLP\n"
     ]
    },
    {
     "name": "stdout",
     "output_type": "stream",
     "text": [
      "\r",
      "[==========================              ] 63%"
     ]
    },
    {
     "name": "stderr",
     "output_type": "stream",
     "text": [
      "Warning, empty document 28149327 passed to CoreNLP\n",
      "Warning, empty document 28125966 passed to CoreNLP\n",
      "Warning, empty document 28126023 passed to CoreNLP\n",
      "Warning, empty document 28126020 passed to CoreNLP\n",
      "Warning, empty document 28126034 passed to CoreNLP\n",
      "Warning, empty document 28125958 passed to CoreNLP\n",
      "Warning, empty document 28125976 passed to CoreNLP\n",
      "Warning, empty document 28125986 passed to CoreNLP\n",
      "Warning, empty document 28125989 passed to CoreNLP\n",
      "Warning, empty document 28149325 passed to CoreNLP\n",
      "Warning, empty document 28125970 passed to CoreNLP\n",
      "Warning, empty document 28126036 passed to CoreNLP\n",
      "Warning, empty document 28126004 passed to CoreNLP\n",
      "Warning, empty document 28125965 passed to CoreNLP\n",
      "Warning, empty document 28125984 passed to CoreNLP\n",
      "Warning, empty document 28125987 passed to CoreNLP\n",
      "Warning, empty document 28127936 passed to CoreNLP\n"
     ]
    },
    {
     "name": "stdout",
     "output_type": "stream",
     "text": [
      "\r",
      "[==========================              ] 64%"
     ]
    },
    {
     "name": "stderr",
     "output_type": "stream",
     "text": [
      "Warning, empty document 28125729 passed to CoreNLP\n",
      "Warning, empty document 28125617 passed to CoreNLP\n",
      "Warning, empty document 28125641 passed to CoreNLP\n",
      "Warning, empty document 28125733 passed to CoreNLP\n",
      "Warning, empty document 28125601 passed to CoreNLP\n",
      "Warning, empty document 28125598 passed to CoreNLP\n"
     ]
    },
    {
     "name": "stdout",
     "output_type": "stream",
     "text": [
      "\r",
      "[===========================             ] 65%"
     ]
    },
    {
     "name": "stderr",
     "output_type": "stream",
     "text": [
      "Warning, empty document 28125693 passed to CoreNLP\n",
      "Warning, empty document 28125711 passed to CoreNLP\n",
      "Warning, empty document 28125604 passed to CoreNLP\n"
     ]
    },
    {
     "name": "stdout",
     "output_type": "stream",
     "text": [
      "\r",
      "[===========================             ] 66%"
     ]
    },
    {
     "name": "stderr",
     "output_type": "stream",
     "text": [
      "Warning, empty document 28125731 passed to CoreNLP\n",
      "Warning, empty document 28125672 passed to CoreNLP\n",
      "Warning, empty document 28125730 passed to CoreNLP\n",
      "Warning, empty document 28125740 passed to CoreNLP\n"
     ]
    },
    {
     "name": "stdout",
     "output_type": "stream",
     "text": [
      "[============================            ] 68%"
     ]
    },
    {
     "name": "stderr",
     "output_type": "stream",
     "text": [
      "Warning, empty document 28122559 passed to CoreNLP\n",
      "Warning, empty document 28122597 passed to CoreNLP\n",
      "Warning, empty document 28122624 passed to CoreNLP\n",
      "Warning, empty document 28122512 passed to CoreNLP\n",
      "Warning, empty document 28122620 passed to CoreNLP\n",
      "Warning, empty document 28122499 passed to CoreNLP\n",
      "Warning, empty document 28122547 passed to CoreNLP\n",
      "Warning, empty document 28122586 passed to CoreNLP\n",
      "Warning, empty document 28122515 passed to CoreNLP\n",
      "Warning, empty document 28122579 passed to CoreNLP\n",
      "Warning, empty document 28122494 passed to CoreNLP\n",
      "Warning, empty document 28122558 passed to CoreNLP\n",
      "Warning, empty document 28122497 passed to CoreNLP\n",
      "Warning, empty document 28122641 passed to CoreNLP\n",
      "Warning, empty document 28122570 passed to CoreNLP\n",
      "Warning, empty document 28122574 passed to CoreNLP\n",
      "Warning, empty document 28122575 passed to CoreNLP\n",
      "Warning, empty document 28149324 passed to CoreNLP\n",
      "Warning, empty document 28122528 passed to CoreNLP\n",
      "Warning, empty document 28124221 passed to CoreNLP\n",
      "Warning, empty document 28184220 passed to CoreNLP\n",
      "Warning, empty document 28184195 passed to CoreNLP\n"
     ]
    },
    {
     "name": "stdout",
     "output_type": "stream",
     "text": [
      "\r",
      "[============================            ] 69%"
     ]
    },
    {
     "name": "stderr",
     "output_type": "stream",
     "text": [
      "Warning, empty document 28163834 passed to CoreNLP\n"
     ]
    },
    {
     "name": "stdout",
     "output_type": "stream",
     "text": [
      "\r",
      "[=============================           ] 70%"
     ]
    },
    {
     "name": "stderr",
     "output_type": "stream",
     "text": [
      "Warning, empty document 28130553 passed to CoreNLP\n",
      "Warning, empty document 5302138 passed to CoreNLP\n"
     ]
    },
    {
     "name": "stdout",
     "output_type": "stream",
     "text": [
      "\r",
      "[=============================           ] 71%"
     ]
    },
    {
     "name": "stderr",
     "output_type": "stream",
     "text": [
      "Warning, empty document 28179967 passed to CoreNLP\n",
      "Warning, empty document 28179964 passed to CoreNLP\n",
      "Warning, empty document 28182151 passed to CoreNLP\n",
      "Warning, empty document 28182131 passed to CoreNLP\n",
      "Warning, empty document 28182130 passed to CoreNLP\n",
      "Warning, empty document 28122835 passed to CoreNLP\n",
      "Warning, empty document 28122829 passed to CoreNLP\n",
      "Warning, empty document 28122831 passed to CoreNLP\n"
     ]
    },
    {
     "name": "stdout",
     "output_type": "stream",
     "text": [
      "\r",
      "[=============================           ] 72%"
     ]
    },
    {
     "name": "stderr",
     "output_type": "stream",
     "text": [
      "Warning, empty document 28149696 passed to CoreNLP\n",
      "Warning, empty document 28149695 passed to CoreNLP\n",
      "Warning, empty document 28124196 passed to CoreNLP\n",
      "Warning, empty document 28124234 passed to CoreNLP\n",
      "Warning, empty document 28122495 passed to CoreNLP\n",
      "Warning, empty document 28122545 passed to CoreNLP\n",
      "Warning, empty document 28122525 passed to CoreNLP\n",
      "Warning, empty document 28122617 passed to CoreNLP\n",
      "Warning, empty document 28122543 passed to CoreNLP\n",
      "Warning, empty document 28179017 passed to CoreNLP\n",
      "Warning, empty document 28178988 passed to CoreNLP\n",
      "Warning, empty document 28178976 passed to CoreNLP\n",
      "Warning, empty document 28179003 passed to CoreNLP\n"
     ]
    },
    {
     "name": "stdout",
     "output_type": "stream",
     "text": [
      "\r",
      "[==============================          ] 73%"
     ]
    },
    {
     "name": "stderr",
     "output_type": "stream",
     "text": [
      "Warning, empty document 5299153 passed to CoreNLP\n",
      "Warning, empty document 5299087 passed to CoreNLP\n",
      "Warning, empty document 28173803 passed to CoreNLP\n",
      "Warning, empty document 28173758 passed to CoreNLP\n"
     ]
    },
    {
     "name": "stdout",
     "output_type": "stream",
     "text": [
      "[===============================         ] 75%"
     ]
    },
    {
     "name": "stderr",
     "output_type": "stream",
     "text": [
      "Warning, empty document 28028288 passed to CoreNLP\n",
      "Warning, empty document 26830547 passed to CoreNLP\n",
      "Warning, empty document 27807624 passed to CoreNLP\n"
     ]
    },
    {
     "name": "stdout",
     "output_type": "stream",
     "text": [
      "\r",
      "[===============================         ] 76%"
     ]
    },
    {
     "name": "stderr",
     "output_type": "stream",
     "text": [
      "Warning, empty document 27358229 passed to CoreNLP\n",
      "Warning, empty document 5270447 passed to CoreNLP\n",
      "Warning, empty document 21223436 passed to CoreNLP\n",
      "Warning, empty document 25684049 passed to CoreNLP\n"
     ]
    },
    {
     "name": "stdout",
     "output_type": "stream",
     "text": [
      "\r",
      "[===============================         ] 77%"
     ]
    },
    {
     "name": "stderr",
     "output_type": "stream",
     "text": [
      "Warning, empty document 5278193 passed to CoreNLP\n",
      "Warning, empty document 28138108 passed to CoreNLP\n",
      "Warning, empty document 28138111 passed to CoreNLP\n",
      "Warning, empty document 28138112 passed to CoreNLP\n",
      "Warning, empty document 28138110 passed to CoreNLP\n",
      "Warning, empty document 28178922 passed to CoreNLP\n",
      "Warning, empty document 5297203 passed to CoreNLP\n",
      "Warning, empty document 28173830 passed to CoreNLP\n",
      "Warning, empty document 28173834 passed to CoreNLP\n"
     ]
    },
    {
     "name": "stdout",
     "output_type": "stream",
     "text": [
      "[================================        ] 79%"
     ]
    },
    {
     "name": "stderr",
     "output_type": "stream",
     "text": [
      "Warning, empty document 28173817 passed to CoreNLP\n",
      "Warning, empty document 28173833 passed to CoreNLP\n",
      "Warning, empty document 28173878 passed to CoreNLP\n",
      "Warning, empty document 28173812 passed to CoreNLP\n",
      "Warning, empty document 28173846 passed to CoreNLP\n",
      "Warning, empty document 28173875 passed to CoreNLP\n",
      "Warning, empty document 28173848 passed to CoreNLP\n",
      "Warning, empty document 28173879 passed to CoreNLP\n",
      "Warning, empty document 28173829 passed to CoreNLP\n",
      "Warning, empty document 28173859 passed to CoreNLP\n",
      "Warning, empty document 28173850 passed to CoreNLP\n",
      "Warning, empty document 5297176 passed to CoreNLP\n",
      "Warning, empty document 28173832 passed to CoreNLP\n",
      "Warning, empty document 5297167 passed to CoreNLP\n",
      "Warning, empty document 28173767 passed to CoreNLP\n",
      "Warning, empty document 28173753 passed to CoreNLP\n",
      "Warning, empty document 28173831 passed to CoreNLP\n",
      "Warning, empty document 28173757 passed to CoreNLP\n",
      "Warning, empty document 28173788 passed to CoreNLP\n",
      "Warning, empty document 28173869 passed to CoreNLP\n",
      "Warning, empty document 28173861 passed to CoreNLP\n",
      "Warning, empty document 5297125 passed to CoreNLP\n",
      "Warning, empty document 28173844 passed to CoreNLP\n",
      "Warning, empty document 28173783 passed to CoreNLP\n",
      "Warning, empty document 28173805 passed to CoreNLP\n",
      "Warning, empty document 5297118 passed to CoreNLP\n",
      "Warning, empty document 5297095 passed to CoreNLP\n"
     ]
    },
    {
     "name": "stdout",
     "output_type": "stream",
     "text": [
      "\r",
      "[=================================       ] 80%"
     ]
    },
    {
     "name": "stderr",
     "output_type": "stream",
     "text": [
      "Warning, empty document 28173852 passed to CoreNLP\n",
      "Warning, empty document 28173748 passed to CoreNLP\n",
      "Warning, empty document 28173860 passed to CoreNLP\n",
      "Warning, empty document 28173770 passed to CoreNLP\n",
      "Warning, empty document 28173863 passed to CoreNLP\n",
      "Warning, empty document 28173762 passed to CoreNLP\n",
      "Warning, empty document 28173835 passed to CoreNLP\n",
      "Warning, empty document 28173797 passed to CoreNLP\n",
      "Warning, empty document 28166731 passed to CoreNLP\n",
      "Warning, empty document 28166789 passed to CoreNLP\n",
      "Warning, empty document 28184278 passed to CoreNLP\n",
      "Warning, empty document 28166818 passed to CoreNLP\n",
      "Warning, empty document 28173777 passed to CoreNLP\n",
      "Warning, empty document 28173781 passed to CoreNLP\n"
     ]
    },
    {
     "name": "stdout",
     "output_type": "stream",
     "text": [
      "[=================================       ] 82%"
     ]
    },
    {
     "name": "stderr",
     "output_type": "stream",
     "text": [
      "Warning, empty document 5295218 passed to CoreNLP\n",
      "Warning, empty document 28166742 passed to CoreNLP\n",
      "Warning, empty document 5295214 passed to CoreNLP\n",
      "Warning, empty document 28166721 passed to CoreNLP\n"
     ]
    },
    {
     "name": "stdout",
     "output_type": "stream",
     "text": [
      "\r",
      "[==================================      ] 83%"
     ]
    },
    {
     "name": "stderr",
     "output_type": "stream",
     "text": [
      "Warning, empty document 28166797 passed to CoreNLP\n",
      "Warning, empty document 28166753 passed to CoreNLP\n",
      "Warning, empty document 28166726 passed to CoreNLP\n",
      "Warning, empty document 28166778 passed to CoreNLP\n",
      "Warning, empty document 28166748 passed to CoreNLP\n",
      "Warning, empty document 28166831 passed to CoreNLP\n",
      "Warning, empty document 28166756 passed to CoreNLP\n",
      "Warning, empty document 28166815 passed to CoreNLP\n"
     ]
    },
    {
     "name": "stdout",
     "output_type": "stream",
     "text": [
      "\r",
      "[==================================      ] 84%"
     ]
    },
    {
     "name": "stderr",
     "output_type": "stream",
     "text": [
      "Warning, empty document 28166719 passed to CoreNLP\n",
      "Warning, empty document 28166727 passed to CoreNLP\n",
      "Warning, empty document 28166744 passed to CoreNLP\n",
      "Warning, empty document 28166825 passed to CoreNLP\n",
      "Warning, empty document 28166767 passed to CoreNLP\n",
      "Warning, empty document 28166813 passed to CoreNLP\n",
      "Warning, empty document 28166781 passed to CoreNLP\n",
      "Warning, empty document 28184177 passed to CoreNLP\n",
      "Warning, empty document 28166774 passed to CoreNLP\n",
      "Warning, empty document 28166732 passed to CoreNLP\n",
      "Warning, empty document 28184178 passed to CoreNLP\n",
      "Warning, empty document 28166795 passed to CoreNLP\n",
      "Warning, empty document 28184174 passed to CoreNLP\n",
      "Warning, empty document 28184247 passed to CoreNLP\n",
      "Warning, empty document 28166765 passed to CoreNLP\n",
      "Warning, empty document 28166749 passed to CoreNLP\n",
      "Warning, empty document 28166729 passed to CoreNLP\n",
      "Warning, empty document 28166799 passed to CoreNLP\n",
      "Warning, empty document 28166833 passed to CoreNLP\n",
      "Warning, empty document 28166784 passed to CoreNLP\n",
      "Warning, empty document 28166746 passed to CoreNLP\n",
      "Warning, empty document 28166834 passed to CoreNLP\n",
      "Warning, empty document 28166761 passed to CoreNLP\n",
      "Warning, empty document 28166766 passed to CoreNLP\n",
      "Warning, empty document 28166762 passed to CoreNLP\n",
      "Warning, empty document 28166758 passed to CoreNLP\n",
      "Warning, empty document 28166776 passed to CoreNLP\n"
     ]
    },
    {
     "name": "stdout",
     "output_type": "stream",
     "text": [
      "\r",
      "[===================================     ] 85%"
     ]
    },
    {
     "name": "stderr",
     "output_type": "stream",
     "text": [
      "Warning, empty document 28162093 passed to CoreNLP\n",
      "Warning, empty document 5292810 passed to CoreNLP\n",
      "Warning, empty document 28162091 passed to CoreNLP\n",
      "Warning, empty document 28166792 passed to CoreNLP\n",
      "Warning, empty document 28166716 passed to CoreNLP\n",
      "Warning, empty document 28166733 passed to CoreNLP\n",
      "Warning, empty document 28166796 passed to CoreNLP\n"
     ]
    },
    {
     "name": "stdout",
     "output_type": "stream",
     "text": [
      "[===================================     ] 87%"
     ]
    },
    {
     "name": "stderr",
     "output_type": "stream",
     "text": [
      "Warning, empty document 5289869 passed to CoreNLP\n",
      "Warning, empty document 28180098 passed to CoreNLP\n",
      "Warning, empty document 28174606 passed to CoreNLP\n",
      "Warning, empty document 28160777 passed to CoreNLP\n",
      "Warning, empty document 28174605 passed to CoreNLP\n",
      "Warning, empty document 28160778 passed to CoreNLP\n",
      "Warning, empty document 28174603 passed to CoreNLP\n",
      "Warning, empty document 28160779 passed to CoreNLP\n",
      "Warning, empty document 28159011 passed to CoreNLP\n"
     ]
    },
    {
     "name": "stdout",
     "output_type": "stream",
     "text": [
      "\r",
      "[====================================    ] 88%"
     ]
    },
    {
     "name": "stderr",
     "output_type": "stream",
     "text": [
      "Warning, empty document 28151878 passed to CoreNLP\n",
      "Warning, empty document 28151848 passed to CoreNLP\n",
      "Warning, empty document 28174608 passed to CoreNLP\n"
     ]
    },
    {
     "name": "stdout",
     "output_type": "stream",
     "text": [
      "\r",
      "[====================================    ] 89%"
     ]
    },
    {
     "name": "stderr",
     "output_type": "stream",
     "text": [
      "Warning, empty document 28158970 passed to CoreNLP\n",
      "Warning, empty document 28158983 passed to CoreNLP\n",
      "Warning, empty document 28158976 passed to CoreNLP\n",
      "Warning, empty document 28159013 passed to CoreNLP\n",
      "Warning, empty document 28158974 passed to CoreNLP\n",
      "Warning, empty document 28158968 passed to CoreNLP\n",
      "Warning, empty document 28174624 passed to CoreNLP\n",
      "Warning, empty document 28158999 passed to CoreNLP\n",
      "Warning, empty document 28159016 passed to CoreNLP\n",
      "Warning, empty document 28158969 passed to CoreNLP\n",
      "Warning, empty document 28158993 passed to CoreNLP\n",
      "Warning, empty document 28158980 passed to CoreNLP\n",
      "Warning, empty document 28174625 passed to CoreNLP\n",
      "Warning, empty document 28174596 passed to CoreNLP\n",
      "Warning, empty document 28159014 passed to CoreNLP\n"
     ]
    },
    {
     "name": "stdout",
     "output_type": "stream",
     "text": [
      "\r",
      "[=====================================   ] 90%"
     ]
    },
    {
     "name": "stderr",
     "output_type": "stream",
     "text": [
      "Warning, empty document 28158989 passed to CoreNLP\n",
      "Warning, empty document 28158975 passed to CoreNLP\n"
     ]
    },
    {
     "name": "stdout",
     "output_type": "stream",
     "text": [
      "\r",
      "[=====================================   ] 91%"
     ]
    },
    {
     "name": "stderr",
     "output_type": "stream",
     "text": [
      "Warning, empty document 28168124 passed to CoreNLP\n",
      "Warning, empty document 28168120 passed to CoreNLP\n",
      "Warning, empty document 28168113 passed to CoreNLP\n",
      "Warning, empty document 28174676 passed to CoreNLP\n",
      "Warning, empty document 28153039 passed to CoreNLP\n",
      "Warning, empty document 28152985 passed to CoreNLP\n",
      "Warning, empty document 28174597 passed to CoreNLP\n",
      "Warning, empty document 28174607 passed to CoreNLP\n",
      "Warning, empty document 28153035 passed to CoreNLP\n"
     ]
    },
    {
     "name": "stdout",
     "output_type": "stream",
     "text": [
      "[======================================  ] 93%"
     ]
    },
    {
     "name": "stderr",
     "output_type": "stream",
     "text": [
      "Warning, empty document 28174513 passed to CoreNLP\n",
      "Warning, empty document 28152982 passed to CoreNLP\n",
      "Warning, empty document 28153004 passed to CoreNLP\n",
      "Warning, empty document 28153005 passed to CoreNLP\n",
      "Warning, empty document 28153008 passed to CoreNLP\n",
      "Warning, empty document 28153015 passed to CoreNLP\n",
      "Warning, empty document 28152976 passed to CoreNLP\n",
      "Warning, empty document 28174665 passed to CoreNLP\n",
      "Warning, empty document 28174663 passed to CoreNLP\n",
      "Warning, empty document 28153013 passed to CoreNLP\n",
      "Warning, empty document 28153028 passed to CoreNLP\n",
      "Warning, empty document 28153054 passed to CoreNLP\n",
      "Warning, empty document 28184257 passed to CoreNLP\n",
      "Warning, empty document 28184176 passed to CoreNLP\n",
      "Warning, empty document 28152979 passed to CoreNLP\n",
      "Warning, empty document 28184234 passed to CoreNLP\n",
      "Warning, empty document 28153010 passed to CoreNLP\n",
      "Warning, empty document 28122501 passed to CoreNLP\n",
      "Warning, empty document 28149200 passed to CoreNLP\n",
      "Warning, empty document 28122637 passed to CoreNLP\n",
      "Warning, empty document 28122514 passed to CoreNLP\n",
      "Warning, empty document 28122610 passed to CoreNLP\n",
      "Warning, empty document 28122511 passed to CoreNLP\n"
     ]
    },
    {
     "name": "stdout",
     "output_type": "stream",
     "text": [
      "\r",
      "[======================================  ] 94%"
     ]
    },
    {
     "name": "stderr",
     "output_type": "stream",
     "text": [
      "Warning, empty document 28158198 passed to CoreNLP\n",
      "Warning, empty document 28158243 passed to CoreNLP\n"
     ]
    },
    {
     "name": "stdout",
     "output_type": "stream",
     "text": [
      "\r",
      "[======================================= ] 95%"
     ]
    },
    {
     "name": "stderr",
     "output_type": "stream",
     "text": [
      "Warning, empty document 28158195 passed to CoreNLP\n",
      "Warning, empty document 28158236 passed to CoreNLP\n",
      "Warning, empty document 28158261 passed to CoreNLP\n",
      "Warning, empty document 28158257 passed to CoreNLP\n",
      "Warning, empty document 28158225 passed to CoreNLP\n",
      "Warning, empty document 28158226 passed to CoreNLP\n"
     ]
    },
    {
     "name": "stdout",
     "output_type": "stream",
     "text": [
      "\r",
      "[======================================= ] 96%"
     ]
    },
    {
     "name": "stderr",
     "output_type": "stream",
     "text": [
      "Warning, empty document 5289951 passed to CoreNLP\n",
      "Warning, empty document 28155204 passed to CoreNLP\n",
      "Warning, empty document 28151921 passed to CoreNLP\n"
     ]
    },
    {
     "name": "stdout",
     "output_type": "stream",
     "text": [
      "\r",
      "[======================================= ] 97%"
     ]
    },
    {
     "name": "stderr",
     "output_type": "stream",
     "text": [
      "Warning, empty document 28203114 passed to CoreNLP\n",
      "Warning, empty document 28203094 passed to CoreNLP\n",
      "Warning, empty document 28155029 passed to CoreNLP\n",
      "Warning, empty document 28152068 passed to CoreNLP\n",
      "Warning, empty document 28151975 passed to CoreNLP\n"
     ]
    },
    {
     "name": "stdout",
     "output_type": "stream",
     "text": [
      "\r",
      "[========================================] 98%"
     ]
    },
    {
     "name": "stderr",
     "output_type": "stream",
     "text": [
      "Warning, empty document 28152105 passed to CoreNLP\n",
      "Warning, empty document 28152040 passed to CoreNLP\n",
      "Warning, empty document 28152039 passed to CoreNLP\n",
      "Warning, empty document 28152087 passed to CoreNLP\n",
      "Warning, empty document 28152011 passed to CoreNLP\n"
     ]
    },
    {
     "name": "stdout",
     "output_type": "stream",
     "text": [
      "\r",
      "[========================================] 99%"
     ]
    },
    {
     "name": "stderr",
     "output_type": "stream",
     "text": [
      "Warning, empty document 28151991 passed to CoreNLP\n",
      "Warning, empty document 28151948 passed to CoreNLP\n"
     ]
    },
    {
     "name": "stdout",
     "output_type": "stream",
     "text": [
      "\r",
      "[========================================] 100%"
     ]
    },
    {
     "name": "stderr",
     "output_type": "stream",
     "text": [
      "Warning, empty document 28151982 passed to CoreNLP\n"
     ]
    },
    {
     "name": "stdout",
     "output_type": "stream",
     "text": [
      "[========================================] 100%%\n",
      "\n",
      "Running UDF...\n",
      "[========================================] 100%%\n",
      "\n",
      "Running UDF...\n",
      "[========================================] 100%3%\n",
      "\n"
     ]
    },
    {
     "name": "stderr",
     "output_type": "stream",
     "text": [
      "Warning, empty document 28152069 passed to CoreNLP\n"
     ]
    }
   ],
   "source": [
    "from snorkel.parser import CorpusParser\n",
    "\n",
    "corpus_parser = CorpusParser()\n",
    "corpus_parser.apply(list(train_preprocessor)) #parallelism can be run with a Postgres DBMS, but not SQLite\n",
    "corpus_parser.apply(list(dev_preprocessor), clear=False)\n",
    "corpus_parser.apply(list(test_preprocessor), clear=False)"
   ]
  },
  {
   "cell_type": "code",
   "execution_count": 2,
   "metadata": {
    "collapsed": true
   },
   "outputs": [],
   "source": [
    "from six.moves.cPickle import load\n",
    "from snorkel.models import Document, Sentence\n",
    "\n",
    "with open('articles/doc_ids.pkl', 'rb') as f:\n",
    "    train_ids, dev_ids, test_ids = load(f)\n",
    "train_ids, dev_ids, test_ids = set(train_ids), set(dev_ids), set(test_ids)\n",
    "# print len(train_ids)\n",
    "# print len(dev_ids)\n",
    "# print len(test_ids)\n",
    "train_sents, dev_sents, test_sents = set(), set(), set()\n",
    "docs = session.query(Document).order_by(Document.name).all()\n",
    "# print docs\n",
    "# print len(docs)\n",
    "for i, doc in enumerate(docs):\n",
    "    for s in doc.sentences:\n",
    "        if doc.name in train_ids:\n",
    "            train_sents.add(s)\n",
    "        elif doc.name in dev_ids:\n",
    "            dev_sents.add(s)\n",
    "        elif doc.name in test_ids:\n",
    "            test_sents.add(s)\n",
    "        else:\n",
    "            raise Exception('ID <{0}> not found in any id set'.format(doc.name))"
   ]
  },
  {
   "cell_type": "code",
   "execution_count": 13,
   "metadata": {},
   "outputs": [
    {
     "name": "stdout",
     "output_type": "stream",
     "text": [
      "['Ym', 'yottameter', 'Zm', 'zettameter', 'Em', 'exameter', 'Pm', 'petameter', 'Tm', 'terameter', 'Gm', 'gigameter', 'Mm', 'megameter', 'km', 'kilometer', 'hm', 'hectometer', 'dam', 'dekameter', 'dm', 'decimeter', 'cm', 'centimeter', '\\\\u03bcm', 'micrometer', 'nm', 'nanometer', 'pm', 'picometer', 'fm', 'femtometer', 'am', 'attometer', 'zm', 'zeptometer', 'ym', 'yoctometer', 'Ym2', 'square yottameter', 'Zm2', 'square zettameter', 'Em2', 'square exameter', 'Pm2', 'square petameter', 'Tm2', 'square terameter', 'Gm2', 'square gigameter', 'Mm2', 'square megameter', 'km2', 'square kilometer', 'hm2', 'square hectometer', 'dam2', 'square dekameter', 'dm2', 'square decimeter', 'cm2', 'square centimeter', '\\\\u03bcm2', 'square micrometer', 'nm2', 'square nanometer', 'pm2', 'square picometer', 'fm2', 'square femtometer', 'am2', 'square attometer', 'zm2', 'square zeptometer', 'ym2', 'square yoctometer', 'Ym2', 'cubic yottameter', 'Zm2', 'cubic zettameter', 'Em2', 'cubic exameter', 'Pm2', 'cubic petameter', 'Tm2', 'cubic terameter', 'Gm2', 'cubic gigameter', 'Mm2', 'cubic megameter', 'km2', 'cubic kilometer', 'hm2', 'cubic hectometer', 'dam2', 'cubic dekameter', 'dm2', 'cubic decimeter', 'cm2', 'cubic centimeter', '\\\\u03bcm2', 'cubic micrometer', 'nm2', 'cubic nanometer', 'pm2', 'cubic picometer', 'fm2', 'cubic femtometer', 'am2', 'cubic attometer', 'zm2', 'cubic zeptometer', 'ym2', 'cubic yoctometer', 'YL', 'yottaliter', 'ZL', 'zettaliter', 'EL', 'exaliter', 'PL', 'petaliter', 'TL', 'teraliter', 'GL', 'gigaliter', 'ML', 'megaliter', 'kL', 'kiloliter', 'hL', 'hectoliter', 'daL', 'dekaliter', 'dL', 'deciliter', 'cL', 'centiliter', '\\\\u03bcL', 'microliter', 'nL', 'nanoliter', 'pL', 'picoliter', 'fL', 'femtoliter', 'aL', 'attoliter', 'zL', 'zeptoliter', 'yL', 'yoctoliter', 'Yg', 'yottagram', 'Zg', 'zettagram', 'Eg', 'exagram', 'Pg', 'petagram', 'Tg', 'teragram', 'Gg', 'gigagram', 'Mg', 'megagram', 'kg', 'kilogram', 'hg', 'hectogram', 'dag', 'dekagram', 'dg', 'decigram', 'cg', 'centigram', '\\\\u03bcg', 'microgram', 'ng', 'nanogram', 'pg', 'picogram', 'fg', 'femtogram', 'ag', 'attogram', 'zg', 'zeptogram', 'yg', 'yoctogram']\n"
     ]
    }
   ],
   "source": [
    "from snorkel.models import Candidate, candidate_subclass\n",
    "from snorkel.models import candidate_subclass\n",
    "from snorkel.candidates import Ngrams, CandidateExtractor\n",
    "from snorkel.matchers import PersonMatcher\n",
    "import matchers\n",
    "from snorkel.models import Document\n",
    "from snorkel.viewer import SentenceNgramViewer\n",
    "import os\n",
    "\n",
    "# Defining the schema\n",
    "BiomarkerLevelUnit = candidate_subclass('BiomarkerLevelUnit', ['biomarker', 'level', 'unit'])\n",
    "\n",
    "biomarker_ngrams = Ngrams(n_max=1)\n",
    "level_ngrams = Ngrams(n_max=8)\n",
    "unit_ngrams = Ngrams(n_max=8)\n",
    "\n",
    "# Create our two Matchers\n",
    "bMatcher = matchers.getBiomarkerMatcher()\n",
    "lMatcher = matchers.getLevelsMatcher()\n",
    "uMatcher = matchers.getUnitsMatcher()\n",
    "  \n",
    "# Building the CandidateExtractor \n",
    "candidate_extractor = CandidateExtractor(BiomarkerLevelUnit, [biomarker_ngrams, level_ngrams, unit_ngrams], [bMatcher, lMatcher, uMatcher])\n"
   ]
  },
  {
   "cell_type": "code",
   "execution_count": 15,
   "metadata": {},
   "outputs": [
    {
     "name": "stdout",
     "output_type": "stream",
     "text": [
      "Clearing existing...\n",
      "Running UDF...\n",
      "[========================================] 100%%\n",
      "\n",
      "('Number of candidates:', 176)\n",
      "Clearing existing...\n",
      "Running UDF...\n",
      "[========================================] 100%%\n",
      "\n",
      "('Number of candidates:', 60)\n",
      "Clearing existing...\n",
      "Running UDF...\n",
      "[========================================] 100%%\n",
      "\n",
      "('Number of candidates:', 6)\n",
      "[BiomarkerLevelUnit(Span(\"ISO\", sentence=14571, chars=[26,28], words=[3,3]), Span(\"85\", sentence=14571, chars=[31,32], words=[5,5]), Span(\"kg\", sentence=14571, chars=[39,40], words=[6,6])), BiomarkerLevelUnit(Span(\"CD\", sentence=13855, chars=[179,180], words=[35,35]), Span(\"3\", sentence=13855, chars=[195,195], words=[40,40]), Span(\"kg\", sentence=13855, chars=[279,280], words=[58,58])), BiomarkerLevelUnit(Span(\"CD\", sentence=13855, chars=[179,180], words=[35,35]), Span(\"3\", sentence=13855, chars=[195,195], words=[40,40]), Span(\"kg\", sentence=13855, chars=[221,222], words=[46,46])), BiomarkerLevelUnit(Span(\"CD\", sentence=13855, chars=[179,180], words=[35,35]), Span(\"2\", sentence=13855, chars=[147,147], words=[29,29]), Span(\"kg\", sentence=13855, chars=[279,280], words=[58,58])), BiomarkerLevelUnit(Span(\"CD\", sentence=13855, chars=[179,180], words=[35,35]), Span(\"2\", sentence=13855, chars=[147,147], words=[29,29]), Span(\"kg\", sentence=13855, chars=[221,222], words=[46,46])), BiomarkerLevelUnit(Span(\"CD\", sentence=13855, chars=[179,180], words=[35,35]), Span(\"4\", sentence=13855, chars=[253,253], words=[52,52]), Span(\"kg\", sentence=13855, chars=[279,280], words=[58,58])), BiomarkerLevelUnit(Span(\"CD\", sentence=13855, chars=[179,180], words=[35,35]), Span(\"4\", sentence=13855, chars=[253,253], words=[52,52]), Span(\"kg\", sentence=13855, chars=[221,222], words=[46,46])), BiomarkerLevelUnit(Span(\"CD\", sentence=13855, chars=[179,180], words=[35,35]), Span(\"1\", sentence=13855, chars=[83,83], words=[16,16]), Span(\"kg\", sentence=13855, chars=[279,280], words=[58,58])), BiomarkerLevelUnit(Span(\"CD\", sentence=13855, chars=[179,180], words=[35,35]), Span(\"1\", sentence=13855, chars=[83,83], words=[16,16]), Span(\"kg\", sentence=13855, chars=[221,222], words=[46,46])), BiomarkerLevelUnit(Span(\"CD\", sentence=13855, chars=[207,208], words=[43,43]), Span(\"3\", sentence=13855, chars=[195,195], words=[40,40]), Span(\"kg\", sentence=13855, chars=[279,280], words=[58,58])), BiomarkerLevelUnit(Span(\"CD\", sentence=13855, chars=[207,208], words=[43,43]), Span(\"3\", sentence=13855, chars=[195,195], words=[40,40]), Span(\"kg\", sentence=13855, chars=[221,222], words=[46,46])), BiomarkerLevelUnit(Span(\"CD\", sentence=13855, chars=[207,208], words=[43,43]), Span(\"2\", sentence=13855, chars=[147,147], words=[29,29]), Span(\"kg\", sentence=13855, chars=[279,280], words=[58,58])), BiomarkerLevelUnit(Span(\"CD\", sentence=13855, chars=[207,208], words=[43,43]), Span(\"2\", sentence=13855, chars=[147,147], words=[29,29]), Span(\"kg\", sentence=13855, chars=[221,222], words=[46,46])), BiomarkerLevelUnit(Span(\"CD\", sentence=13855, chars=[207,208], words=[43,43]), Span(\"4\", sentence=13855, chars=[253,253], words=[52,52]), Span(\"kg\", sentence=13855, chars=[279,280], words=[58,58])), BiomarkerLevelUnit(Span(\"CD\", sentence=13855, chars=[207,208], words=[43,43]), Span(\"4\", sentence=13855, chars=[253,253], words=[52,52]), Span(\"kg\", sentence=13855, chars=[221,222], words=[46,46])), BiomarkerLevelUnit(Span(\"CD\", sentence=13855, chars=[207,208], words=[43,43]), Span(\"1\", sentence=13855, chars=[83,83], words=[16,16]), Span(\"kg\", sentence=13855, chars=[279,280], words=[58,58])), BiomarkerLevelUnit(Span(\"CD\", sentence=13855, chars=[207,208], words=[43,43]), Span(\"1\", sentence=13855, chars=[83,83], words=[16,16]), Span(\"kg\", sentence=13855, chars=[221,222], words=[46,46])), BiomarkerLevelUnit(Span(\"CD\", sentence=13855, chars=[265,266], words=[55,55]), Span(\"3\", sentence=13855, chars=[195,195], words=[40,40]), Span(\"kg\", sentence=13855, chars=[279,280], words=[58,58])), BiomarkerLevelUnit(Span(\"CD\", sentence=13855, chars=[265,266], words=[55,55]), Span(\"3\", sentence=13855, chars=[195,195], words=[40,40]), Span(\"kg\", sentence=13855, chars=[221,222], words=[46,46])), BiomarkerLevelUnit(Span(\"CD\", sentence=13855, chars=[265,266], words=[55,55]), Span(\"2\", sentence=13855, chars=[147,147], words=[29,29]), Span(\"kg\", sentence=13855, chars=[279,280], words=[58,58])), BiomarkerLevelUnit(Span(\"CD\", sentence=13855, chars=[265,266], words=[55,55]), Span(\"2\", sentence=13855, chars=[147,147], words=[29,29]), Span(\"kg\", sentence=13855, chars=[221,222], words=[46,46])), BiomarkerLevelUnit(Span(\"CD\", sentence=13855, chars=[265,266], words=[55,55]), Span(\"4\", sentence=13855, chars=[253,253], words=[52,52]), Span(\"kg\", sentence=13855, chars=[279,280], words=[58,58])), BiomarkerLevelUnit(Span(\"CD\", sentence=13855, chars=[265,266], words=[55,55]), Span(\"4\", sentence=13855, chars=[253,253], words=[52,52]), Span(\"kg\", sentence=13855, chars=[221,222], words=[46,46])), BiomarkerLevelUnit(Span(\"CD\", sentence=13855, chars=[265,266], words=[55,55]), Span(\"1\", sentence=13855, chars=[83,83], words=[16,16]), Span(\"kg\", sentence=13855, chars=[279,280], words=[58,58])), BiomarkerLevelUnit(Span(\"CD\", sentence=13855, chars=[265,266], words=[55,55]), Span(\"1\", sentence=13855, chars=[83,83], words=[16,16]), Span(\"kg\", sentence=13855, chars=[221,222], words=[46,46])), BiomarkerLevelUnit(Span(\"NCHS\", sentence=14057, chars=[115,118], words=[22,22]), Span(\"70\", sentence=14057, chars=[104,105], words=[18,18]), Span(\"cm\", sentence=14057, chars=[79,80], words=[14,14])), BiomarkerLevelUnit(Span(\"NCHS\", sentence=14057, chars=[115,118], words=[22,22]), Span(\"11  0\", sentence=14057, chars=[72,76], words=[12,13]), Span(\"cm\", sentence=14057, chars=[79,80], words=[14,14])), BiomarkerLevelUnit(Span(\"SAM\", sentence=14057, chars=[44,46], words=[7,7]), Span(\"70\", sentence=14057, chars=[104,105], words=[18,18]), Span(\"cm\", sentence=14057, chars=[79,80], words=[14,14])), BiomarkerLevelUnit(Span(\"SAM\", sentence=14057, chars=[44,46], words=[7,7]), Span(\"11  0\", sentence=14057, chars=[72,76], words=[12,13]), Span(\"cm\", sentence=14057, chars=[79,80], words=[14,14])), BiomarkerLevelUnit(Span(\"METHODS\", sentence=14057, chars=[0,6], words=[0,0]), Span(\"70\", sentence=14057, chars=[104,105], words=[18,18]), Span(\"cm\", sentence=14057, chars=[79,80], words=[14,14])), BiomarkerLevelUnit(Span(\"METHODS\", sentence=14057, chars=[0,6], words=[0,0]), Span(\"11  0\", sentence=14057, chars=[72,76], words=[12,13]), Span(\"cm\", sentence=14057, chars=[79,80], words=[14,14])), BiomarkerLevelUnit(Span(\"PH\", sentence=13983, chars=[0,1], words=[0,0]), Span(\"50\", sentence=13983, chars=[98,99], words=[18,18]), Span(\"kg\", sentence=13983, chars=[38,39], words=[6,6])), BiomarkerLevelUnit(Span(\"PH\", sentence=13983, chars=[0,1], words=[0,0]), Span(\"25\", sentence=13983, chars=[94,95], words=[16,16]), Span(\"kg\", sentence=13983, chars=[38,39], words=[6,6])), BiomarkerLevelUnit(Span(\"MPV\", sentence=14852, chars=[56,58], words=[11,11]), Span(\"10\", sentence=14852, chars=[77,78], words=[17,17]), Span(\"fL\", sentence=14852, chars=[91,92], words=[23,23])), BiomarkerLevelUnit(Span(\"MPV\", sentence=14852, chars=[56,58], words=[11,11]), Span(\"10\", sentence=14852, chars=[77,78], words=[17,17]), Span(\"fL\", sentence=14852, chars=[207,208], words=[50,50])), BiomarkerLevelUnit(Span(\"MPV\", sentence=14852, chars=[56,58], words=[11,11]), Span(\"10\", sentence=14852, chars=[77,78], words=[17,17]), Span(\"fL\", sentence=14852, chars=[100,101], words=[26,26])), BiomarkerLevelUnit(Span(\"MPV\", sentence=14852, chars=[56,58], words=[11,11]), Span(\"10\", sentence=14852, chars=[77,78], words=[17,17]), Span(\"fL\", sentence=14852, chars=[216,217], words=[53,53])), BiomarkerLevelUnit(Span(\"MPV\", sentence=14852, chars=[56,58], words=[11,11]), Span(\"10\", sentence=14852, chars=[194,195], words=[44,44]), Span(\"fL\", sentence=14852, chars=[91,92], words=[23,23])), BiomarkerLevelUnit(Span(\"MPV\", sentence=14852, chars=[56,58], words=[11,11]), Span(\"10\", sentence=14852, chars=[194,195], words=[44,44]), Span(\"fL\", sentence=14852, chars=[207,208], words=[50,50])), BiomarkerLevelUnit(Span(\"MPV\", sentence=14852, chars=[56,58], words=[11,11]), Span(\"10\", sentence=14852, chars=[194,195], words=[44,44]), Span(\"fL\", sentence=14852, chars=[100,101], words=[26,26])), BiomarkerLevelUnit(Span(\"MPV\", sentence=14852, chars=[56,58], words=[11,11]), Span(\"10\", sentence=14852, chars=[194,195], words=[44,44]), Span(\"fL\", sentence=14852, chars=[216,217], words=[53,53])), BiomarkerLevelUnit(Span(\"ACS\", sentence=14852, chars=[17,19], words=[3,3]), Span(\"10\", sentence=14852, chars=[77,78], words=[17,17]), Span(\"fL\", sentence=14852, chars=[91,92], words=[23,23])), BiomarkerLevelUnit(Span(\"ACS\", sentence=14852, chars=[17,19], words=[3,3]), Span(\"10\", sentence=14852, chars=[77,78], words=[17,17]), Span(\"fL\", sentence=14852, chars=[207,208], words=[50,50])), BiomarkerLevelUnit(Span(\"ACS\", sentence=14852, chars=[17,19], words=[3,3]), Span(\"10\", sentence=14852, chars=[77,78], words=[17,17]), Span(\"fL\", sentence=14852, chars=[100,101], words=[26,26])), BiomarkerLevelUnit(Span(\"ACS\", sentence=14852, chars=[17,19], words=[3,3]), Span(\"10\", sentence=14852, chars=[77,78], words=[17,17]), Span(\"fL\", sentence=14852, chars=[216,217], words=[53,53])), BiomarkerLevelUnit(Span(\"ACS\", sentence=14852, chars=[17,19], words=[3,3]), Span(\"10\", sentence=14852, chars=[194,195], words=[44,44]), Span(\"fL\", sentence=14852, chars=[91,92], words=[23,23])), BiomarkerLevelUnit(Span(\"ACS\", sentence=14852, chars=[17,19], words=[3,3]), Span(\"10\", sentence=14852, chars=[194,195], words=[44,44]), Span(\"fL\", sentence=14852, chars=[207,208], words=[50,50])), BiomarkerLevelUnit(Span(\"ACS\", sentence=14852, chars=[17,19], words=[3,3]), Span(\"10\", sentence=14852, chars=[194,195], words=[44,44]), Span(\"fL\", sentence=14852, chars=[100,101], words=[26,26])), BiomarkerLevelUnit(Span(\"ACS\", sentence=14852, chars=[17,19], words=[3,3]), Span(\"10\", sentence=14852, chars=[194,195], words=[44,44]), Span(\"fL\", sentence=14852, chars=[216,217], words=[53,53])), BiomarkerLevelUnit(Span(\"PDW\", sentence=14852, chars=[62,64], words=[13,13]), Span(\"10\", sentence=14852, chars=[77,78], words=[17,17]), Span(\"fL\", sentence=14852, chars=[91,92], words=[23,23])), BiomarkerLevelUnit(Span(\"PDW\", sentence=14852, chars=[62,64], words=[13,13]), Span(\"10\", sentence=14852, chars=[77,78], words=[17,17]), Span(\"fL\", sentence=14852, chars=[207,208], words=[50,50])), BiomarkerLevelUnit(Span(\"PDW\", sentence=14852, chars=[62,64], words=[13,13]), Span(\"10\", sentence=14852, chars=[77,78], words=[17,17]), Span(\"fL\", sentence=14852, chars=[100,101], words=[26,26])), BiomarkerLevelUnit(Span(\"PDW\", sentence=14852, chars=[62,64], words=[13,13]), Span(\"10\", sentence=14852, chars=[77,78], words=[17,17]), Span(\"fL\", sentence=14852, chars=[216,217], words=[53,53])), BiomarkerLevelUnit(Span(\"PDW\", sentence=14852, chars=[62,64], words=[13,13]), Span(\"10\", sentence=14852, chars=[194,195], words=[44,44]), Span(\"fL\", sentence=14852, chars=[91,92], words=[23,23])), BiomarkerLevelUnit(Span(\"PDW\", sentence=14852, chars=[62,64], words=[13,13]), Span(\"10\", sentence=14852, chars=[194,195], words=[44,44]), Span(\"fL\", sentence=14852, chars=[207,208], words=[50,50])), BiomarkerLevelUnit(Span(\"PDW\", sentence=14852, chars=[62,64], words=[13,13]), Span(\"10\", sentence=14852, chars=[194,195], words=[44,44]), Span(\"fL\", sentence=14852, chars=[100,101], words=[26,26])), BiomarkerLevelUnit(Span(\"PDW\", sentence=14852, chars=[62,64], words=[13,13]), Span(\"10\", sentence=14852, chars=[194,195], words=[44,44]), Span(\"fL\", sentence=14852, chars=[216,217], words=[53,53])), BiomarkerLevelUnit(Span(\"RESULTS\", sentence=13611, chars=[0,6], words=[0,0]), Span(\"104\", sentence=13611, chars=[125,127], words=[21,21]), Span(\"nm\", sentence=13611, chars=[180,181], words=[32,32])), BiomarkerLevelUnit(Span(\"RESULTS\", sentence=13611, chars=[0,6], words=[0,0]), Span(\"80\", sentence=13611, chars=[148,149], words=[24,24]), Span(\"nm\", sentence=13611, chars=[180,181], words=[32,32])), BiomarkerLevelUnit(Span(\"RESULTS\", sentence=13611, chars=[0,6], words=[0,0]), Span(\"100\", sentence=13611, chars=[176,178], words=[31,31]), Span(\"nm\", sentence=13611, chars=[180,181], words=[32,32]))]\n"
     ]
    },
    {
     "data": {
      "application/javascript": [
       "require.undef('viewer');\n",
       "\n",
       "// NOTE: all elements should be selected using this.$el.find to avoid collisions with other Viewers\n",
       "\n",
       "define('viewer', [\"jupyter-js-widgets\"], function(widgets) {\n",
       "    var ViewerView = widgets.DOMWidgetView.extend({\n",
       "        render: function() {\n",
       "            this.cids   = this.model.get('cids');\n",
       "            this.nPages = this.cids.length;\n",
       "            this.pid  = 0;\n",
       "            this.cxid = 0;\n",
       "            this.cid  = 0;\n",
       "\n",
       "            // Insert the html payload\n",
       "            this.$el.append(this.model.get('html'));\n",
       "\n",
       "            // Initialize all labels from previous sessions\n",
       "            this.labels = this.deserializeDict(this.model.get('_labels_serialized'));\n",
       "            for (var i=0; i < this.nPages; i++) {\n",
       "                this.pid = i;\n",
       "                for (var j=0; j < this.cids[i].length; j++) {\n",
       "                    this.cxid = j;\n",
       "                    for (var k=0; k < this.cids[i][j].length; k++) {\n",
       "                        this.cid = k;\n",
       "                        if (this.cids[i][j][k] in this.labels) {\n",
       "                            this.markCurrentCandidate(false);\n",
       "                        }\n",
       "                    }\n",
       "                }\n",
       "            }\n",
       "            this.pid  = 0;\n",
       "            this.cxid = 0;\n",
       "            this.cid  = 0;\n",
       "\n",
       "            // Enable button functionality for navigation\n",
       "            var that = this;\n",
       "            this.$el.find(\"#next-cand\").click(function() {\n",
       "                that.switchCandidate(1);\n",
       "            });\n",
       "            this.$el.find(\"#prev-cand\").click(function() {\n",
       "                that.switchCandidate(-1);\n",
       "            });\n",
       "            this.$el.find(\"#next-context\").click(function() {\n",
       "                that.switchContext(1);\n",
       "            });\n",
       "            this.$el.find(\"#prev-context\").click(function() {\n",
       "                that.switchContext(-1);\n",
       "            });\n",
       "            this.$el.find(\"#next-page\").click(function() {\n",
       "                that.switchPage(1);\n",
       "            });\n",
       "            this.$el.find(\"#prev-page\").click(function() {\n",
       "                that.switchPage(-1);\n",
       "            });\n",
       "            this.$el.find(\"#label-true\").click(function() {\n",
       "                that.labelCandidate(true, true);\n",
       "            });\n",
       "            this.$el.find(\"#label-false\").click(function() {\n",
       "                that.labelCandidate(false, true);\n",
       "            });\n",
       "\n",
       "            // Arrow key functionality\n",
       "            this.$el.keydown(function(e) {\n",
       "                switch(e.which) {\n",
       "                    case 74: // j\n",
       "                    that.switchCandidate(-1);\n",
       "                    break;\n",
       "\n",
       "                    case 73: // i\n",
       "                    that.switchPage(-1);\n",
       "                    break;\n",
       "\n",
       "                    case 76: // l\n",
       "                    that.switchCandidate(1);\n",
       "                    break;\n",
       "\n",
       "                    case 75: // k\n",
       "                    that.switchPage(1);\n",
       "                    break;\n",
       "\n",
       "                    case 84: // t\n",
       "                    that.labelCandidate(true, true);\n",
       "                    break;\n",
       "\n",
       "                    case 70: // f\n",
       "                    that.labelCandidate(false, true);\n",
       "                    break;\n",
       "                }\n",
       "            });\n",
       "\n",
       "            // Show the first page and highlight the first candidate\n",
       "            this.$el.find(\"#viewer-page-0\").show();\n",
       "            this.switchCandidate(0);\n",
       "        },\n",
       "\n",
       "        // Get candidate selector for currently selected candidate, escaping id properly\n",
       "        getCandidate: function() {\n",
       "            return this.$el.find(\".\"+this.cids[this.pid][this.cxid][this.cid]);\n",
       "        },  \n",
       "\n",
       "        // Color the candidate correctly according to registered label, as well as set highlighting\n",
       "        markCurrentCandidate: function(highlight) {\n",
       "            var cid  = this.cids[this.pid][this.cxid][this.cid];\n",
       "            var tags = this.$el.find(\".\"+cid);\n",
       "\n",
       "            // Clear color classes\n",
       "            tags.removeClass(\"candidate-h\");\n",
       "            tags.removeClass(\"true-candidate\");\n",
       "            tags.removeClass(\"true-candidate-h\");\n",
       "            tags.removeClass(\"false-candidate\");\n",
       "            tags.removeClass(\"false-candidate-h\");\n",
       "            tags.removeClass(\"highlighted\");\n",
       "\n",
       "            if (highlight) {\n",
       "                if (cid in this.labels) {\n",
       "                    tags.addClass(String(this.labels[cid]) + \"-candidate-h\");\n",
       "                } else {\n",
       "                    tags.addClass(\"candidate-h\");\n",
       "                }\n",
       "            \n",
       "            // If un-highlighting, leave with first non-null coloring\n",
       "            } else {\n",
       "                var that = this;\n",
       "                tags.each(function() {\n",
       "                    var cids = $(this).attr('class').split(/\\s+/).map(function(item) {\n",
       "                        return parseInt(item);\n",
       "                    });\n",
       "                    cids.sort();\n",
       "                    for (var i in cids) {\n",
       "                        if (cids[i] in that.labels) {\n",
       "                            var label = that.labels[cids[i]];\n",
       "                            $(this).addClass(String(label) + \"-candidate\");\n",
       "                            $(this).removeClass(String(!label) + \"-candidate\");\n",
       "                            break;\n",
       "                        }\n",
       "                    }\n",
       "                });\n",
       "            }\n",
       "\n",
       "            // Extra highlighting css\n",
       "            if (highlight) {\n",
       "                tags.addClass(\"highlighted\");\n",
       "            }\n",
       "\n",
       "            // Classes for showing direction of relation\n",
       "            if (highlight) {\n",
       "                this.$el.find(\".\"+cid+\"-0\").addClass(\"left-candidate\");\n",
       "                this.$el.find(\".\"+cid+\"-1\").addClass(\"right-candidate\");\n",
       "            } else {\n",
       "                this.$el.find(\".\"+cid+\"-0\").removeClass(\"left-candidate\");\n",
       "                this.$el.find(\".\"+cid+\"-1\").removeClass(\"right-candidate\");\n",
       "            }\n",
       "        },\n",
       "\n",
       "        // Cycle through candidates and highlight, by increment inc\n",
       "        switchCandidate: function(inc) {\n",
       "            var N = this.cids[this.pid].length\n",
       "            var M = this.cids[this.pid][this.cxid].length;\n",
       "            if (N == 0 || M == 0) { return false; }\n",
       "\n",
       "            // Clear highlighting from previous candidate\n",
       "            if (inc != 0) {\n",
       "                this.markCurrentCandidate(false);\n",
       "\n",
       "                // Increment the cid counter\n",
       "\n",
       "                // Move to next context\n",
       "                if (this.cid + inc >= M) {\n",
       "                    while (this.cid + inc >= M) {\n",
       "                        \n",
       "                        // At last context on page, halt\n",
       "                        if (this.cxid == N - 1) {\n",
       "                            this.cid = M - 1;\n",
       "                            inc = 0;\n",
       "                            break;\n",
       "                        \n",
       "                        // Increment to next context\n",
       "                        } else {\n",
       "                            inc -= M - this.cid;\n",
       "                            this.cxid += 1;\n",
       "                            M = this.cids[this.pid][this.cxid].length;\n",
       "                            this.cid = 0;\n",
       "                        }\n",
       "                    }\n",
       "\n",
       "                // Move to previous context\n",
       "                } else if (this.cid + inc < 0) {\n",
       "                    while (this.cid + inc < 0) {\n",
       "                        \n",
       "                        // At first context on page, halt\n",
       "                        if (this.cxid == 0) {\n",
       "                            this.cid = 0;\n",
       "                            inc = 0;\n",
       "                            break;\n",
       "                        \n",
       "                        // Increment to previous context\n",
       "                        } else {\n",
       "                            inc += this.cid + 1;\n",
       "                            this.cxid -= 1;\n",
       "                            M = this.cids[this.pid][this.cxid].length;\n",
       "                            this.cid = M - 1;\n",
       "                        }\n",
       "                    }\n",
       "                }\n",
       "\n",
       "                // Move within current context\n",
       "                this.cid += inc;\n",
       "            }\n",
       "            this.markCurrentCandidate(true);\n",
       "\n",
       "            // Push this new cid to the model\n",
       "            this.model.set('_selected_cid', this.cids[this.pid][this.cxid][this.cid]);\n",
       "            this.touch();\n",
       "        },\n",
       "\n",
       "        // Switch through contexts\n",
       "        switchContext: function(inc) {\n",
       "            this.markCurrentCandidate(false);\n",
       "\n",
       "            // Iterate context on this page\n",
       "            var M = this.cids[this.pid].length;\n",
       "            if (this.cxid + inc < 0) {\n",
       "                this.cxid = 0;\n",
       "            } else if (this.cxid + inc >= M) {\n",
       "                this.cxid = M - 1;\n",
       "            } else {\n",
       "                this.cxid += inc;\n",
       "            }\n",
       "\n",
       "            // Reset cid and set to first candidate\n",
       "            this.cid = 0;\n",
       "            this.switchCandidate(0);\n",
       "        },\n",
       "\n",
       "        // Switch through pages\n",
       "        switchPage: function(inc) {\n",
       "            this.markCurrentCandidate(false);\n",
       "            this.$el.find(\".viewer-page\").hide();\n",
       "            if (this.pid + inc < 0) {\n",
       "                this.pid = 0;\n",
       "            } else if (this.pid + inc > this.nPages - 1) {\n",
       "                this.pid = this.nPages - 1;\n",
       "            } else {\n",
       "                this.pid += inc;\n",
       "            }\n",
       "            this.$el.find(\"#viewer-page-\"+this.pid).show();\n",
       "\n",
       "            // Show pagination\n",
       "            this.$el.find(\"#page\").html(this.pid);\n",
       "\n",
       "            // Reset cid and set to first candidate\n",
       "            this.cid = 0;\n",
       "            this.cxid = 0;\n",
       "            this.switchCandidate(0);\n",
       "        },\n",
       "\n",
       "        // Label currently-selected candidate\n",
       "        labelCandidate: function(label, highlighted) {\n",
       "            var c    = this.getCandidate();\n",
       "            var cid  = this.cids[this.pid][this.cxid][this.cid];\n",
       "            var cl   = String(label) + \"-candidate\";\n",
       "            var clh  = String(label) + \"-candidate-h\";\n",
       "            var cln  = String(!label) + \"-candidate\";\n",
       "            var clnh = String(!label) + \"-candidate-h\";\n",
       "\n",
       "            // Toggle label highlighting\n",
       "            if (c.hasClass(cl) || c.hasClass(clh)) {\n",
       "                c.removeClass(cl);\n",
       "                c.removeClass(clh);\n",
       "                if (highlighted) {\n",
       "                    c.addClass(\"candidate-h\");\n",
       "                }\n",
       "                this.labels[cid] = null;\n",
       "                this.send({event: 'delete_label', cid: cid});\n",
       "            } else {\n",
       "                c.removeClass(cln);\n",
       "                c.removeClass(clnh);\n",
       "                if (highlighted) {\n",
       "                    c.addClass(clh);\n",
       "                } else {\n",
       "                    c.addClass(cl);\n",
       "                }\n",
       "                this.labels[cid] = label;\n",
       "                this.send({event: 'set_label', cid: cid, value: label});\n",
       "            }\n",
       "\n",
       "            // Set the label and pass back to the model\n",
       "            this.model.set('_labels_serialized', this.serializeDict(this.labels));\n",
       "            this.touch();\n",
       "        },\n",
       "\n",
       "        // Serialization of hash maps, because traitlets Dict doesn't seem to work...\n",
       "        serializeDict: function(d) {\n",
       "            var s = [];\n",
       "            for (var key in d) {\n",
       "                s.push(key+\"~~\"+d[key]);\n",
       "            }\n",
       "            return s.join();\n",
       "        },\n",
       "\n",
       "        // Deserialization of hash maps\n",
       "        deserializeDict: function(s) {\n",
       "            var d = {};\n",
       "            var entries = s.split(/,/);\n",
       "            var kv;\n",
       "            for (var i in entries) {\n",
       "                kv = entries[i].split(/~~/);\n",
       "                if (kv[1] == \"true\") {\n",
       "                    d[kv[0]] = true;\n",
       "                } else if (kv[1] == \"false\") {\n",
       "                    d[kv[0]] = false;\n",
       "                }\n",
       "            }\n",
       "            return d;\n",
       "        },\n",
       "    });\n",
       "\n",
       "    return {\n",
       "        ViewerView: ViewerView\n",
       "    };\n",
       "});\n"
      ],
      "text/plain": [
       "<IPython.core.display.Javascript object>"
      ]
     },
     "metadata": {},
     "output_type": "display_data"
    },
    {
     "data": {
      "application/vnd.jupyter.widget-view+json": {
       "model_id": "7f53c39ad97c4964bd490cfd27a6f29d"
      }
     },
     "metadata": {},
     "output_type": "display_data"
    }
   ],
   "source": [
    "# for k, sents in enumerate([train_sents, dev_sents]):\n",
    "#     candidate_extractor.apply(sents, split=k)\n",
    "#     print(\"Number of candidates:\", session.query(BiomarkerDrug).filter(BiomarkerDrug.split == k).count())\n",
    "\n",
    "# from candidate_adjective_fixer import *\n",
    "# with session.no_autoflush:\n",
    "for k, sents in enumerate([train_sents, dev_sents, test_sents]):\n",
    "    candidate_extractor.apply(sents, split=k)\n",
    "    print(\"Number of candidates:\", session.query(BiomarkerLevelUnit).filter(BiomarkerLevelUnit.split == k).count())\n",
    "\n",
    "\n",
    "dev_cands = session.query(BiomarkerLevelUnit).filter(BiomarkerLevelUnit.split == 1).all()\n",
    "print dev_cands\n",
    "sv = SentenceNgramViewer(dev_cands, session, n_per_page=1)\n",
    "sv"
   ]
  },
  {
   "cell_type": "code",
   "execution_count": null,
   "metadata": {
    "collapsed": true
   },
   "outputs": [],
   "source": [
    "print len(dev_cands)"
   ]
  },
  {
   "cell_type": "code",
   "execution_count": null,
   "metadata": {
    "collapsed": true
   },
   "outputs": [],
   "source": [
    "keyWords = ['basis', 'target', 'treat', 'treatment', 'inhibit', 'inhibition', 'inhibitor', ]\n",
    "negationWords = [\"not\", \"nor\", \"neither\"]\n",
    "\n",
    "def presenceOfNot(m):\n",
    "    for word in negationWords:\n",
    "        if (word in m.post_window1('lemmas', 20)) and (word in m.pre_window2('lemmas', 20)):\n",
    "            return True\n",
    "    return False\n",
    "\n",
    "# 1\n",
    "def LF_distance(m):\n",
    "    # if 'neuroendocrine' in m.lemmas:\n",
    "    #     print m.lemmas \n",
    "    # print m.dep_labels\n",
    "    distance = abs(m.e2_idxs[0] - m.e1_idxs[0])\n",
    "    count = 0\n",
    "    for lemma in m.lemmas:\n",
    "        if lemma == ',':\n",
    "            count += 1\n",
    "    if count > 1 and ',' in m.pre_window1('lemmas', 1):\n",
    "        print m\n",
    "        return 0\n",
    "    if distance == 0:\n",
    "        return -1\n",
    "    if distance < 8:\n",
    "        # print \"RETURNING ONE\"\n",
    "        return 0\n",
    "    else:\n",
    "        return -1\n",
    "\n",
    "def LF_keyword(m):\n",
    "    for word in keyWords:\n",
    "        if ((word in m.post_window1('lemmas', 20)) and (word in m.pre_window2('lemmas', 20))) or ((word in m.post_window1('lemmas', 20)) and (word in m.pre_window2('lemmas', 20))):\n",
    "            if presenceOfNot(m):\n",
    "                return -1\n",
    "            else:\n",
    "                return 1\n",
    "    return 0\n",
    "\n",
    "def LF_usedToTreat(m):\n",
    "     if ('used' in m.pre_window1('lemmas'), 20) and ('to' in m.pre_window1('lemmas', 20)) and ('treat' in m.pre_window1('lemmas', 20)):\n",
    "         return 1\n",
    "     else:\n",
    "         return 0\n",
    "     \n",
    "def LF_usedToInhibit(m):\n",
    "     if ('used' in m.pre_window1('lemmas'), 20) and ('to' in m.pre_window1('lemmas', 20)) and ('inhibit' in m.pre_window1('lemmas', 20)):\n",
    "         return 1\n",
    "     else:\n",
    "         return 0\n",
    "     \n",
    "def LF_inhibit(m):\n",
    "    if ('inhibit' in m.pre_window1('lemmas', 20) and 'inhibit' in m.pre_window2('lemms', 20)):\n",
    "        return 1\n",
    "    else:\n",
    "        return 0\n",
    "    \n",
    "def LF_target(m):\n",
    "    if ('target' in m.pre_window1('lemmas', 20) and 'target' in m.pre_window2('lemms', 20)):\n",
    "        return 1\n",
    "    else:\n",
    "        return 0\n",
    "\n",
    "def LF_inhibitionOfWith(m):\n",
    "    if ('inhibition' in m.pre_window1('lemmas', 20) and 'of' in m.pre_window1('lemmas', 20) and 'with' in m.post_window1('lemmas', 20)):\n",
    "        return 1\n",
    "    else:\n",
    "        return 0\n",
    "    \n",
    "def LF_isATreatmentOf(m):\n",
    "    if ('is' in m.pre_window1('lemmas', 20) and 'a' in m.pre_window1('lemmas', 20) and 'treatment' in m.pre_window1('lemmas', 20) and 'of' in m.pre_window1('lemmas', 20)):\n",
    "        return 1\n",
    "    else:\n",
    "        return 0\n",
    "    \n",
    "def LF_antibody(m):\n",
    "    if ('antibody' in m.post_window2('lemmas', 20)):\n",
    "        return 1\n",
    "    else:\n",
    "        return 0\n",
    "def LF_hadisbad(m):\n",
    "    if(m.mention1 == \"had\" or m.mention2 == \"had\"):\n",
    "        return -1\n",
    "def LF_duration(m):\n",
    "    if(m.mention1 == \"duration\" or m.mention2 == \"duration\"):\n",
    "        return -1\n",
    "def LF_isaBiomarker(m):\n",
    "    post_window1_lemmas = m.post_window1('lemmas',20)\n",
    "    pre_window2_lemmas = m.pre_window2('lemmas',20)\n",
    "    if ('biomarker' in post_window1_lemmas and 'biomarker' in pre_window2_lemmas) or ('marker' in post_window1_lemmas and 'marker' in pre_window2_lemmas) or ('indicator' in post_window1_lemmas and 'indicator' in pre_window2_lemmas):\n",
    "        marker_idx_post_window1 = -1\n",
    "        markers = ['biomarker','marker','indicator']\n",
    "        for marker in markers:\n",
    "            try:\n",
    "                # print post_window1_lemmas\n",
    "                findMarker = post_window1_lemmas.index(marker)\n",
    "                if not findMarker == -1:\n",
    "                    marker_idx_post_window1 = findMarker\n",
    "                    print marker\n",
    "            except:\n",
    "                pass\n",
    "        if 'cop' in m.post_window1('dep_labels',20):\n",
    "            try:\n",
    "                cop_idx_post_window1 = m.post_window1('dep_labels',20).index('cop')\n",
    "            except:\n",
    "                pass\n",
    "            \n",
    "            print \"MarkerIdx:\"\n",
    "            print marker_idx_post_window1\n",
    "            print \"ROOTIdx:\"\n",
    "            try:\n",
    "                print  m.post_window1('dep_labels',marker_idx_post_window1)\n",
    "                print  m.post_window1('dep_labels',marker_idx_post_window1).index('ROOT')\n",
    "            except:\n",
    "                pass\n",
    "            print '\\n'\n",
    "            \n",
    "            return 1 if ('nsubj' in m.mention1(attribute='dep_labels')) and (marker_idx_post_window1-cop_idx_post_window1 < 4)  else 0\n",
    "    return 0"
   ]
  },
  {
   "cell_type": "code",
   "execution_count": null,
   "metadata": {
    "collapsed": true
   },
   "outputs": [],
   "source": [
    "LFs = [LF_distance, LF_keyword, LF_usedToTreat, LF_inhibit, LF_inhibitionOFWith, LF_isaBiomarker]"
   ]
  },
  {
   "cell_type": "code",
   "execution_count": null,
   "metadata": {
    "collapsed": true
   },
   "outputs": [],
   "source": [
    "from snorkel.annotations import LabelAnnotator\n",
    "labeler = LabelAnnotator(lfs=LFs)"
   ]
  },
  {
   "cell_type": "code",
   "execution_count": null,
   "metadata": {
    "collapsed": true
   },
   "outputs": [],
   "source": [
    "%time L_train = labeler.apply(split=0)\n",
    "L_train"
   ]
  },
  {
   "cell_type": "code",
   "execution_count": null,
   "metadata": {
    "collapsed": true
   },
   "outputs": [],
   "source": [
    "L_train.lf_stats(session)"
   ]
  },
  {
   "cell_type": "code",
   "execution_count": null,
   "metadata": {
    "collapsed": true
   },
   "outputs": [],
   "source": [
    "from snorkel.learning.structure import DependencySelector\n",
    "ds = DependencySelector()\n",
    "deps = ds.select(L_train, threshold=0.1)\n",
    "len(deps)"
   ]
  },
  {
   "cell_type": "code",
   "execution_count": null,
   "metadata": {
    "collapsed": true
   },
   "outputs": [],
   "source": [
    "deps"
   ]
  },
  {
   "cell_type": "code",
   "execution_count": null,
   "metadata": {
    "collapsed": true
   },
   "outputs": [],
   "source": [
    "deps = set()"
   ]
  },
  {
   "cell_type": "code",
   "execution_count": null,
   "metadata": {
    "collapsed": true
   },
   "outputs": [],
   "source": [
    "from snorkel.learning import GenerativeModel\n",
    "\n",
    "gen_model = GenerativeModel(lf_propensity=True)\n",
    "gen_model.train(\n",
    "    L_train, deps=deps, decay=0.95, step_size=0.1/L_train.shape[0], reg_param=0.0\n",
    ")"
   ]
  },
  {
   "cell_type": "code",
   "execution_count": null,
   "metadata": {
    "collapsed": true
   },
   "outputs": [],
   "source": [
    "train_marginals = gen_model.marginals(L_train)"
   ]
  },
  {
   "cell_type": "code",
   "execution_count": null,
   "metadata": {
    "collapsed": true
   },
   "outputs": [],
   "source": [
    "import matplotlib.pyplot as plt\n",
    "plt.hist(train_marginals, bins=20)\n",
    "plt.show()"
   ]
  },
  {
   "cell_type": "code",
   "execution_count": null,
   "metadata": {
    "collapsed": true
   },
   "outputs": [],
   "source": [
    "gen_model.learned_lf_stats()"
   ]
  },
  {
   "cell_type": "code",
   "execution_count": null,
   "metadata": {
    "collapsed": true
   },
   "outputs": [],
   "source": [
    "from snorkel.annotations import save_marginals\n",
    "save_marginals(session, L_train, train_marginals)"
   ]
  },
  {
   "cell_type": "code",
   "execution_count": null,
   "metadata": {
    "collapsed": true
   },
   "outputs": [],
   "source": [
    "print L_gold_dev\n",
    "L_dev = labeler.apply_existing(split=1)\n",
    "print L_gold_dev"
   ]
  },
  {
   "cell_type": "code",
   "execution_count": null,
   "metadata": {
    "collapsed": true
   },
   "outputs": [],
   "source": [
    "from load_external_annotations_new import load_external_labels\n",
    "load_external_labels(session, BiomarkerDrug, annotator_name='gold')"
   ]
  },
  {
   "cell_type": "code",
   "execution_count": null,
   "metadata": {
    "collapsed": true
   },
   "outputs": [],
   "source": [
    "from snorkel.annotations import load_gold_labels\n",
    "L_gold_dev = load_gold_labels(session, annotator_name='gold', split=1)\n",
    "L_gold_dev"
   ]
  },
  {
   "cell_type": "code",
   "execution_count": null,
   "metadata": {
    "collapsed": true
   },
   "outputs": [],
   "source": [
    "_ = gen_model.score(session, L_dev, L_gold_dev)"
   ]
  },
  {
   "cell_type": "code",
   "execution_count": null,
   "metadata": {
    "collapsed": true
   },
   "outputs": [],
   "source": [
    "L_dev.lf_stats(session, L_gold_dev, gen_model.learned_lf_stats()['Accuracy'])"
   ]
  },
  {
   "cell_type": "code",
   "execution_count": null,
   "metadata": {
    "collapsed": true
   },
   "outputs": [],
   "source": [
    "import numpy as np\n",
    "\n",
    "# Load dev labels and convert to [0, 1] range\n",
    "from snorkel.annotations import load_gold_labels\n",
    "L_gold_dev = load_gold_labels(session, annotator_name='gold', split=1)\n",
    "dev_labels = (np.ravel(L_gold_dev.todense()) + 1) / 2"
   ]
  },
  {
   "cell_type": "code",
   "execution_count": null,
   "metadata": {
    "collapsed": true
   },
   "outputs": [],
   "source": [
    "from snorkel.annotations import FeatureAnnotator\n",
    "featurizer = FeatureAnnotator()\n",
    "\n",
    "%time F_train = featurizer.apply(split=0)\n",
    "F_train"
   ]
  },
  {
   "cell_type": "code",
   "execution_count": null,
   "metadata": {
    "collapsed": true
   },
   "outputs": [],
   "source": [
    "%%time\n",
    "F_dev  = featurizer.apply_existing(split=1)\n",
    "F_test = featurizer.apply_existing(split=2)"
   ]
  },
  {
   "cell_type": "code",
   "execution_count": null,
   "metadata": {
    "collapsed": true
   },
   "outputs": [],
   "source": [
    "from snorkel.annotations import load_marginals\n",
    "train_marginals = load_marginals(session, F_train, split=0)"
   ]
  },
  {
   "cell_type": "code",
   "execution_count": null,
   "metadata": {
    "collapsed": true
   },
   "outputs": [],
   "source": [
    "from snorkel.learning import SparseLogisticRegression\n",
    "disc_model = SparseLogisticRegression()"
   ]
  },
  {
   "cell_type": "code",
   "execution_count": null,
   "metadata": {
    "collapsed": true
   },
   "outputs": [],
   "source": [
    "from snorkel.learning.utils import MentionScorer\n",
    "from snorkel.learning import RandomSearch, ListParameter, RangeParameter\n",
    "\n",
    "# Searching over learning rate\n",
    "rate_param = RangeParameter('lr', 1e-6, 1e-2, step=1, log_base=10)\n",
    "l1_param  = RangeParameter('l1_penalty', 1e-6, 1e-2, step=1, log_base=10)\n",
    "l2_param  = RangeParameter('l2_penalty', 1e-6, 1e-2, step=1, log_base=10)\n",
    "\n",
    "searcher = RandomSearch(session, disc_model, F_train, train_marginals, [rate_param, l1_param, l2_param], n=20)"
   ]
  },
  {
   "cell_type": "code",
   "execution_count": null,
   "metadata": {
    "collapsed": true
   },
   "outputs": [],
   "source": [
    "from snorkel.annotations import load_gold_labels\n",
    "L_gold_dev = load_gold_labels(session, annotator_name='gold', split=1)\n",
    "L_gold_dev\n",
    "\n",
    "import numpy as np\n",
    "np.random.seed(1701)\n",
    "searcher.fit(F_dev, L_gold_dev, n_epochs=50, rebalance=0.5, print_freq=25)\n",
    "\n",
    "### Scoring on the test set\n",
    "\n",
    "Finally, we'll evaluate our performance on the blind test set of 500 documents. We'll load labels similar to how we did for the development set, and use the `score` function of our extraction model to see how we did.\n",
    "\n",
    "from load_external_annotations import load_external_labels\n",
    "load_external_labels(session, BiomarkerDrug, split=2, annotator='gold')\n",
    "\n",
    "from snorkel.annotations import load_gold_labels\n",
    "L_gold_test = load_gold_labels(session, annotator_name='gold', split=2)\n",
    "L_gold_test\n",
    "\n",
    "_, _, _, _ = disc_model.score(session, F_test, L_gold_test)"
   ]
  },
  {
   "cell_type": "code",
   "execution_count": null,
   "metadata": {
    "collapsed": true
   },
   "outputs": [],
   "source": [
    "from snorkel.contrib.rnn import reRNN\n",
    "\n",
    "train_kwargs = {\n",
    "    'lr':         0.01,\n",
    "    'dim':        100,\n",
    "    'n_epochs':   50,\n",
    "    'dropout':    0.5,\n",
    "    'rebalance':  0.25,\n",
    "    'print_freq': 5\n",
    "}\n",
    "\n",
    "lstm = reRNN(seed=1701, n_threads=None)\n",
    "lstm.train(train, train_marginals, dev_candidates=dev, dev_labels=dev_labels, **train_kwargs)"
   ]
  }
 ],
 "metadata": {
  "kernelspec": {
   "display_name": "Python 2",
   "language": "python",
   "name": "python2"
  },
  "language_info": {
   "codemirror_mode": {
    "name": "ipython",
    "version": 2
   },
   "file_extension": ".py",
   "mimetype": "text/x-python",
   "name": "python",
   "nbconvert_exporter": "python",
   "pygments_lexer": "ipython2",
   "version": "2.7.12"
  }
 },
 "nbformat": 4,
 "nbformat_minor": 2
}
