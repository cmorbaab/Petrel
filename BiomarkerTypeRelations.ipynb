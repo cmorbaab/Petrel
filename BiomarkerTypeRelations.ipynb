{
 "cells": [
  {
   "cell_type": "code",
   "execution_count": 1,
   "metadata": {
    "collapsed": true
   },
   "outputs": [],
   "source": [
    "%load_ext autoreload\n",
    "%autoreload 2\n",
    "%matplotlib inline\n",
    "\n",
    "from snorkel import SnorkelSession\n",
    "session = SnorkelSession()\n",
    "\n",
    "import os\n",
    "from snorkel.parser import XMLMultiDocPreprocessor\n",
    "\n",
    "# The following line is for testing only. Feel free to ignore it.\n",
    "\n",
    "file_path = 'articles/training.xml'\n",
    "train_preprocessor = XMLMultiDocPreprocessor(\n",
    "    path=file_path,\n",
    "    doc='.//article',\n",
    "    text='.//front/article-meta/abstract/p/text()',\n",
    "    id=  './/front/article-meta/article-id/text()'\n",
    ")\n",
    "\n",
    "file_path = 'articles/development.xml'\n",
    "dev_preprocessor = XMLMultiDocPreprocessor(\n",
    "    path=file_path,    \n",
    "    doc='.//document',    \n",
    "    text='.//passage/text/text()',    \n",
    "    id='.//id/text()'\n",
    ")\n",
    "\n",
    "file_path = 'articles/testcorpus.xml'\n",
    "test_preprocessor = XMLMultiDocPreprocessor(\n",
    "    path=file_path,    \n",
    "    doc='.//document',    \n",
    "    text='.//passage/text/text()',    \n",
    "    id='.//id/text()'\n",
    ")"
   ]
  },
  {
   "cell_type": "code",
   "execution_count": 2,
   "metadata": {},
   "outputs": [
    {
     "name": "stdout",
     "output_type": "stream",
     "text": [
      "Clearing existing...\n",
      "Running UDF...\n",
      "[=                                       ] 0%"
     ]
    },
    {
     "name": "stderr",
     "output_type": "stream",
     "text": [
      "Warning, empty document 5305186 passed to CoreNLP\n",
      "Warning, empty document 28182863 passed to CoreNLP\n"
     ]
    },
    {
     "name": "stdout",
     "output_type": "stream",
     "text": [
      "\r",
      "[=                                       ] 1%"
     ]
    },
    {
     "name": "stderr",
     "output_type": "stream",
     "text": [
      "Warning, empty document 27462919 passed to CoreNLP\n",
      "Warning, empty document 27494853 passed to CoreNLP\n",
      "Warning, empty document 27447745 passed to CoreNLP\n",
      "Warning, empty document 27447854 passed to CoreNLP\n"
     ]
    },
    {
     "name": "stdout",
     "output_type": "stream",
     "text": [
      "\r",
      "[=                                       ] 2%"
     ]
    },
    {
     "name": "stderr",
     "output_type": "stream",
     "text": [
      "Warning, empty document 27486880 passed to CoreNLP\n"
     ]
    },
    {
     "name": "stdout",
     "output_type": "stream",
     "text": [
      "\r",
      "[==                                      ] 3%"
     ]
    },
    {
     "name": "stderr",
     "output_type": "stream",
     "text": [
      "Warning, empty document 28012176 passed to CoreNLP\n",
      "Warning, empty document 5300950 passed to CoreNLP\n",
      "Warning, empty document 5300948 passed to CoreNLP\n",
      "Warning, empty document 5300945 passed to CoreNLP\n",
      "Warning, empty document 5300911 passed to CoreNLP\n"
     ]
    },
    {
     "name": "stdout",
     "output_type": "stream",
     "text": [
      "\r",
      "[==                                      ] 4%"
     ]
    },
    {
     "name": "stderr",
     "output_type": "stream",
     "text": [
      "Warning, empty document 28179006 passed to CoreNLP\n",
      "Warning, empty document 28178960 passed to CoreNLP\n",
      "Warning, empty document 28178970 passed to CoreNLP\n",
      "Warning, empty document 28178948 passed to CoreNLP\n",
      "Warning, empty document 28178945 passed to CoreNLP\n",
      "Warning, empty document 28179018 passed to CoreNLP\n",
      "Warning, empty document 28178966 passed to CoreNLP\n",
      "Warning, empty document 28178923 passed to CoreNLP\n",
      "Warning, empty document 5299725 passed to CoreNLP\n",
      "Warning, empty document 28178997 passed to CoreNLP\n",
      "Warning, empty document 5299688 passed to CoreNLP\n",
      "Warning, empty document 28178959 passed to CoreNLP\n",
      "Warning, empty document 28178957 passed to CoreNLP\n",
      "Warning, empty document 28178925 passed to CoreNLP\n",
      "Warning, empty document 28178952 passed to CoreNLP\n",
      "Warning, empty document 5299656 passed to CoreNLP\n",
      "Warning, empty document 28178989 passed to CoreNLP\n",
      "Warning, empty document 28179021 passed to CoreNLP\n"
     ]
    },
    {
     "name": "stdout",
     "output_type": "stream",
     "text": [
      "\r",
      "[===                                     ] 5%"
     ]
    },
    {
     "name": "stderr",
     "output_type": "stream",
     "text": [
      "Warning, empty document 5299079 passed to CoreNLP\n",
      "Warning, empty document 28173772 passed to CoreNLP\n",
      "Warning, empty document 5297221 passed to CoreNLP\n"
     ]
    },
    {
     "name": "stdout",
     "output_type": "stream",
     "text": [
      "[===                                     ] 7%"
     ]
    },
    {
     "name": "stderr",
     "output_type": "stream",
     "text": [
      "Warning, empty document 28144859 passed to CoreNLP\n",
      "Warning, empty document 26902522 passed to CoreNLP\n"
     ]
    },
    {
     "name": "stdout",
     "output_type": "stream",
     "text": [
      "\r",
      "[====                                    ] 8%"
     ]
    },
    {
     "name": "stderr",
     "output_type": "stream",
     "text": [
      "Warning, empty document 27838763 passed to CoreNLP\n",
      "Warning, empty document 27554774 passed to CoreNLP\n",
      "Warning, empty document 27379386 passed to CoreNLP\n"
     ]
    },
    {
     "name": "stdout",
     "output_type": "stream",
     "text": [
      "\r",
      "[====                                    ] 9%"
     ]
    },
    {
     "name": "stderr",
     "output_type": "stream",
     "text": [
      "Warning, empty document 28130689 passed to CoreNLP\n",
      "Warning, empty document 5270378 passed to CoreNLP\n",
      "Warning, empty document 5270363 passed to CoreNLP\n",
      "Warning, empty document 26552421 passed to CoreNLP\n",
      "Warning, empty document 22660553 passed to CoreNLP\n",
      "Warning, empty document 19496923 passed to CoreNLP\n"
     ]
    },
    {
     "name": "stdout",
     "output_type": "stream",
     "text": [
      "[=====                                   ] 11%"
     ]
    },
    {
     "name": "stderr",
     "output_type": "stream",
     "text": [
      "Warning, empty document 24029061 passed to CoreNLP\n",
      "Warning, empty document 27344180 passed to CoreNLP\n"
     ]
    },
    {
     "name": "stdout",
     "output_type": "stream",
     "text": [
      "\r",
      "[=====                                   ] 12%"
     ]
    },
    {
     "name": "stderr",
     "output_type": "stream",
     "text": [
      "Warning, empty document 27486820 passed to CoreNLP\n"
     ]
    },
    {
     "name": "stdout",
     "output_type": "stream",
     "text": [
      "\r",
      "[======                                  ] 13%"
     ]
    },
    {
     "name": "stderr",
     "output_type": "stream",
     "text": [
      "Warning, empty document 5301370 passed to CoreNLP\n"
     ]
    },
    {
     "name": "stdout",
     "output_type": "stream",
     "text": [
      "\r",
      "[======                                  ] 14%"
     ]
    },
    {
     "name": "stderr",
     "output_type": "stream",
     "text": [
      "Warning, empty document 5301067 passed to CoreNLP\n",
      "Warning, empty document 5300912 passed to CoreNLP\n"
     ]
    },
    {
     "name": "stdout",
     "output_type": "stream",
     "text": [
      "\r",
      "[=======                                 ] 15%"
     ]
    },
    {
     "name": "stderr",
     "output_type": "stream",
     "text": [
      "Warning, empty document 28179014 passed to CoreNLP\n",
      "Warning, empty document 28178929 passed to CoreNLP\n",
      "Warning, empty document 28178951 passed to CoreNLP\n",
      "Warning, empty document 28179026 passed to CoreNLP\n",
      "Warning, empty document 28179020 passed to CoreNLP\n",
      "Warning, empty document 28179007 passed to CoreNLP\n",
      "Warning, empty document 28178999 passed to CoreNLP\n",
      "Warning, empty document 28183321 passed to CoreNLP\n",
      "Warning, empty document 28178994 passed to CoreNLP\n",
      "Warning, empty document 5299695 passed to CoreNLP\n",
      "Warning, empty document 28178938 passed to CoreNLP\n",
      "Warning, empty document 5299675 passed to CoreNLP\n",
      "Warning, empty document 28151938 passed to CoreNLP\n",
      "Warning, empty document 28151939 passed to CoreNLP\n"
     ]
    },
    {
     "name": "stdout",
     "output_type": "stream",
     "text": [
      "\r",
      "[=======                                 ] 16%"
     ]
    },
    {
     "name": "stderr",
     "output_type": "stream",
     "text": [
      "Warning, empty document 28151970 passed to CoreNLP\n",
      "Warning, empty document 28152059 passed to CoreNLP\n",
      "Warning, empty document 28151974 passed to CoreNLP\n",
      "Warning, empty document 28150141 passed to CoreNLP\n",
      "Warning, empty document 28148286 passed to CoreNLP\n",
      "Warning, empty document 28148267 passed to CoreNLP\n",
      "Warning, empty document 28148238 passed to CoreNLP\n",
      "Warning, empty document 28148272 passed to CoreNLP\n",
      "Warning, empty document 28148276 passed to CoreNLP\n",
      "Warning, empty document 28152978 passed to CoreNLP\n"
     ]
    },
    {
     "name": "stdout",
     "output_type": "stream",
     "text": [
      "\r",
      "[=======                                 ] 17%"
     ]
    },
    {
     "name": "stderr",
     "output_type": "stream",
     "text": [
      "Warning, empty document 28148281 passed to CoreNLP\n",
      "Warning, empty document 28148239 passed to CoreNLP\n"
     ]
    },
    {
     "name": "stdout",
     "output_type": "stream",
     "text": [
      "\r",
      "[========                                ] 18%"
     ]
    },
    {
     "name": "stderr",
     "output_type": "stream",
     "text": [
      "Warning, empty document 28184245 passed to CoreNLP\n",
      "Warning, empty document 28148244 passed to CoreNLP\n",
      "Warning, empty document 28153034 passed to CoreNLP\n",
      "Warning, empty document 28148302 passed to CoreNLP\n",
      "Warning, empty document 28148236 passed to CoreNLP\n",
      "Warning, empty document 28148246 passed to CoreNLP\n",
      "Warning, empty document 28184256 passed to CoreNLP\n",
      "Warning, empty document 28153009 passed to CoreNLP\n",
      "Warning, empty document 28148221 passed to CoreNLP\n",
      "Warning, empty document 28148225 passed to CoreNLP\n",
      "Warning, empty document 28184251 passed to CoreNLP\n",
      "Warning, empty document 28148293 passed to CoreNLP\n",
      "Warning, empty document 28148305 passed to CoreNLP\n",
      "Warning, empty document 28152990 passed to CoreNLP\n",
      "Warning, empty document 28148242 passed to CoreNLP\n",
      "Warning, empty document 28148301 passed to CoreNLP\n",
      "Warning, empty document 28148279 passed to CoreNLP\n",
      "Warning, empty document 28148290 passed to CoreNLP\n",
      "Warning, empty document 28153017 passed to CoreNLP\n",
      "Warning, empty document 28153033 passed to CoreNLP\n",
      "Warning, empty document 28148223 passed to CoreNLP\n",
      "Warning, empty document 28153003 passed to CoreNLP\n",
      "Warning, empty document 28148240 passed to CoreNLP\n",
      "Warning, empty document 28148303 passed to CoreNLP\n",
      "Warning, empty document 28167864 passed to CoreNLP\n",
      "Warning, empty document 28152989 passed to CoreNLP\n",
      "Warning, empty document 28153048 passed to CoreNLP\n",
      "Warning, empty document 28148274 passed to CoreNLP\n",
      "Warning, empty document 28168006 passed to CoreNLP\n"
     ]
    },
    {
     "name": "stdout",
     "output_type": "stream",
     "text": [
      "[=========                               ] 22%"
     ]
    },
    {
     "name": "stderr",
     "output_type": "stream",
     "text": [
      "Warning, empty document 28210239 passed to CoreNLP\n",
      "Warning, empty document 27681113 passed to CoreNLP\n",
      "Warning, empty document 5308771 passed to CoreNLP\n",
      "Warning, empty document 28192800 passed to CoreNLP\n",
      "Warning, empty document 5308769 passed to CoreNLP\n"
     ]
    },
    {
     "name": "stdout",
     "output_type": "stream",
     "text": [
      "\r",
      "[==========                              ] 23%"
     ]
    },
    {
     "name": "stderr",
     "output_type": "stream",
     "text": [
      "Warning, empty document 5304385 passed to CoreNLP\n",
      "Warning, empty document 5304361 passed to CoreNLP\n",
      "Warning, empty document 28210447 passed to CoreNLP\n",
      "Warning, empty document 28210445 passed to CoreNLP\n",
      "Warning, empty document 28210437 passed to CoreNLP\n",
      "Warning, empty document 28210430 passed to CoreNLP\n",
      "Warning, empty document 5302179 passed to CoreNLP\n",
      "Warning, empty document 28145395 passed to CoreNLP\n",
      "Warning, empty document 28170537 passed to CoreNLP\n"
     ]
    },
    {
     "name": "stdout",
     "output_type": "stream",
     "text": [
      "\r",
      "[==========                              ] 24%"
     ]
    },
    {
     "name": "stderr",
     "output_type": "stream",
     "text": [
      "Warning, empty document 28203066 passed to CoreNLP\n",
      "Warning, empty document 28159976 passed to CoreNLP\n",
      "Warning, empty document 28152139 passed to CoreNLP\n",
      "Warning, empty document 28146236 passed to CoreNLP\n",
      "Warning, empty document 28146237 passed to CoreNLP\n",
      "Warning, empty document 5294949 passed to CoreNLP\n",
      "Warning, empty document 5294947 passed to CoreNLP\n",
      "Warning, empty document 5294943 passed to CoreNLP\n",
      "Warning, empty document 5294940 passed to CoreNLP\n",
      "Warning, empty document 28191321 passed to CoreNLP\n",
      "Warning, empty document 28177049 passed to CoreNLP\n",
      "Warning, empty document 28177046 passed to CoreNLP\n",
      "Warning, empty document 28177045 passed to CoreNLP\n",
      "Warning, empty document 27477328 passed to CoreNLP\n",
      "Warning, empty document 27484038 passed to CoreNLP\n",
      "Warning, empty document 27555459 passed to CoreNLP\n"
     ]
    },
    {
     "name": "stdout",
     "output_type": "stream",
     "text": [
      "\r",
      "[===========                             ] 25%"
     ]
    },
    {
     "name": "stderr",
     "output_type": "stream",
     "text": [
      "Warning, empty document 27939045 passed to CoreNLP\n",
      "Warning, empty document 28184180 passed to CoreNLP\n",
      "Warning, empty document 28180185 passed to CoreNLP\n",
      "Warning, empty document 28148220 passed to CoreNLP\n",
      "Warning, empty document 28148277 passed to CoreNLP\n",
      "Warning, empty document 28148288 passed to CoreNLP\n",
      "Warning, empty document 28148232 passed to CoreNLP\n"
     ]
    },
    {
     "name": "stdout",
     "output_type": "stream",
     "text": [
      "\r",
      "[===========                             ] 26%"
     ]
    },
    {
     "name": "stderr",
     "output_type": "stream",
     "text": [
      "Warning, empty document 28146567 passed to CoreNLP\n",
      "Warning, empty document 28146578 passed to CoreNLP\n",
      "Warning, empty document 28146577 passed to CoreNLP\n",
      "Warning, empty document 28146553 passed to CoreNLP\n"
     ]
    },
    {
     "name": "stdout",
     "output_type": "stream",
     "text": [
      "\r",
      "[===========                             ] 27%"
     ]
    },
    {
     "name": "stderr",
     "output_type": "stream",
     "text": [
      "Warning, empty document 27846616 passed to CoreNLP\n",
      "Warning, empty document 27789675 passed to CoreNLP\n",
      "Warning, empty document 27789679 passed to CoreNLP\n"
     ]
    },
    {
     "name": "stdout",
     "output_type": "stream",
     "text": [
      "\r",
      "[============                            ] 28%"
     ]
    },
    {
     "name": "stderr",
     "output_type": "stream",
     "text": [
      "Warning, empty document 28148241 passed to CoreNLP\n",
      "Warning, empty document 28143492 passed to CoreNLP\n",
      "Warning, empty document 28148261 passed to CoreNLP\n",
      "Warning, empty document 28143545 passed to CoreNLP\n",
      "Warning, empty document 28143561 passed to CoreNLP\n",
      "Warning, empty document 28168037 passed to CoreNLP\n",
      "Warning, empty document 28143565 passed to CoreNLP\n",
      "Warning, empty document 28143511 passed to CoreNLP\n",
      "Warning, empty document 28143522 passed to CoreNLP\n",
      "Warning, empty document 28143451 passed to CoreNLP\n",
      "Warning, empty document 28143571 passed to CoreNLP\n",
      "Warning, empty document 28168005 passed to CoreNLP\n",
      "Warning, empty document 28143589 passed to CoreNLP\n",
      "Warning, empty document 28143426 passed to CoreNLP\n",
      "Warning, empty document 28143433 passed to CoreNLP\n",
      "Warning, empty document 28143526 passed to CoreNLP\n"
     ]
    },
    {
     "name": "stdout",
     "output_type": "stream",
     "text": [
      "\r",
      "[============                            ] 29%"
     ]
    },
    {
     "name": "stderr",
     "output_type": "stream",
     "text": [
      "Warning, empty document 28148260 passed to CoreNLP\n",
      "Warning, empty document 28143587 passed to CoreNLP\n",
      "Warning, empty document 28143491 passed to CoreNLP\n",
      "Warning, empty document 28143435 passed to CoreNLP\n",
      "Warning, empty document 28143541 passed to CoreNLP\n",
      "Warning, empty document 28148265 passed to CoreNLP\n",
      "Warning, empty document 28143562 passed to CoreNLP\n",
      "Warning, empty document 28143584 passed to CoreNLP\n",
      "Warning, empty document 28143520 passed to CoreNLP\n",
      "Warning, empty document 28143601 passed to CoreNLP\n",
      "Warning, empty document 28143606 passed to CoreNLP\n",
      "Warning, empty document 28148307 passed to CoreNLP\n"
     ]
    },
    {
     "name": "stdout",
     "output_type": "stream",
     "text": [
      "[=============                           ] 31%"
     ]
    },
    {
     "name": "stderr",
     "output_type": "stream",
     "text": [
      "Warning, empty document 28137381 passed to CoreNLP\n",
      "Warning, empty document 28087201 passed to CoreNLP\n"
     ]
    },
    {
     "name": "stdout",
     "output_type": "stream",
     "text": [
      "\r",
      "[=============                           ] 32%"
     ]
    },
    {
     "name": "stderr",
     "output_type": "stream",
     "text": [
      "Warning, empty document 28203208 passed to CoreNLP\n",
      "Warning, empty document 28144808 passed to CoreNLP\n"
     ]
    },
    {
     "name": "stdout",
     "output_type": "stream",
     "text": [
      "\r",
      "[==============                          ] 33%"
     ]
    },
    {
     "name": "stderr",
     "output_type": "stream",
     "text": [
      "Warning, empty document 27863903 passed to CoreNLP\n",
      "Warning, empty document 27908689 passed to CoreNLP\n",
      "Warning, empty document 27818097 passed to CoreNLP\n",
      "Warning, empty document 28164012 passed to CoreNLP\n",
      "Warning, empty document 28164013 passed to CoreNLP\n"
     ]
    },
    {
     "name": "stdout",
     "output_type": "stream",
     "text": [
      "\r",
      "[==============                          ] 34%"
     ]
    },
    {
     "name": "stderr",
     "output_type": "stream",
     "text": [
      "Warning, empty document 27506906 passed to CoreNLP\n",
      "Warning, empty document 28148904 passed to CoreNLP\n",
      "Warning, empty document 5309451 passed to CoreNLP\n",
      "Warning, empty document 28203553 passed to CoreNLP\n",
      "Warning, empty document 28203552 passed to CoreNLP\n"
     ]
    },
    {
     "name": "stdout",
     "output_type": "stream",
     "text": [
      "\r",
      "[===============                         ] 35%"
     ]
    },
    {
     "name": "stderr",
     "output_type": "stream",
     "text": [
      "Warning, empty document 28138126 passed to CoreNLP\n",
      "Warning, empty document 28194229 passed to CoreNLP\n",
      "Warning, empty document 28203105 passed to CoreNLP\n",
      "Warning, empty document 28203104 passed to CoreNLP\n",
      "Warning, empty document 28203107 passed to CoreNLP\n",
      "Warning, empty document 28203068 passed to CoreNLP\n",
      "Warning, empty document 28203070 passed to CoreNLP\n",
      "Warning, empty document 28203106 passed to CoreNLP\n",
      "Warning, empty document 28168095 passed to CoreNLP\n",
      "Warning, empty document 28168103 passed to CoreNLP\n",
      "Warning, empty document 28168111 passed to CoreNLP\n"
     ]
    },
    {
     "name": "stdout",
     "output_type": "stream",
     "text": [
      "\r",
      "[===============                         ] 36%"
     ]
    },
    {
     "name": "stderr",
     "output_type": "stream",
     "text": [
      "Warning, empty document 28143592 passed to CoreNLP\n",
      "Warning, empty document 28143478 passed to CoreNLP\n",
      "Warning, empty document 28143619 passed to CoreNLP\n",
      "Warning, empty document 28143609 passed to CoreNLP\n",
      "Warning, empty document 28143417 passed to CoreNLP\n",
      "Warning, empty document 28143400 passed to CoreNLP\n",
      "Warning, empty document 28143425 passed to CoreNLP\n",
      "Warning, empty document 28163748 passed to CoreNLP\n",
      "Warning, empty document 28143493 passed to CoreNLP\n"
     ]
    },
    {
     "name": "stdout",
     "output_type": "stream",
     "text": [
      "\r",
      "[===============                         ] 37%"
     ]
    },
    {
     "name": "stderr",
     "output_type": "stream",
     "text": [
      "Warning, empty document 28141815 passed to CoreNLP\n",
      "Warning, empty document 28141863 passed to CoreNLP\n",
      "Warning, empty document 28141847 passed to CoreNLP\n",
      "Warning, empty document 28141816 passed to CoreNLP\n"
     ]
    },
    {
     "name": "stdout",
     "output_type": "stream",
     "text": [
      "\r",
      "[================                        ] 38%"
     ]
    },
    {
     "name": "stderr",
     "output_type": "stream",
     "text": [
      "Warning, empty document 28143401 passed to CoreNLP\n",
      "Warning, empty document 28137277 passed to CoreNLP\n",
      "Warning, empty document 28143399 passed to CoreNLP\n",
      "Warning, empty document 28163789 passed to CoreNLP\n"
     ]
    },
    {
     "name": "stdout",
     "output_type": "stream",
     "text": [
      "\r",
      "[================                        ] 39%"
     ]
    },
    {
     "name": "stderr",
     "output_type": "stream",
     "text": [
      "Warning, empty document 28143472 passed to CoreNLP\n",
      "Warning, empty document 28143481 passed to CoreNLP\n",
      "Warning, empty document 28137278 passed to CoreNLP\n",
      "Warning, empty document 28143479 passed to CoreNLP\n",
      "Warning, empty document 28143623 passed to CoreNLP\n",
      "Warning, empty document 28143518 passed to CoreNLP\n",
      "Warning, empty document 28163793 passed to CoreNLP\n",
      "Warning, empty document 28143463 passed to CoreNLP\n",
      "Warning, empty document 28163782 passed to CoreNLP\n",
      "Warning, empty document 28137259 passed to CoreNLP\n",
      "Warning, empty document 28143566 passed to CoreNLP\n",
      "Warning, empty document 28143441 passed to CoreNLP\n",
      "Warning, empty document 28137264 passed to CoreNLP\n",
      "Warning, empty document 28143391 passed to CoreNLP\n",
      "Warning, empty document 28137276 passed to CoreNLP\n",
      "Warning, empty document 28143523 passed to CoreNLP\n",
      "Warning, empty document 28143405 passed to CoreNLP\n",
      "Warning, empty document 28137295 passed to CoreNLP\n",
      "Warning, empty document 28143608 passed to CoreNLP\n",
      "Warning, empty document 28163780 passed to CoreNLP\n",
      "Warning, empty document 28143622 passed to CoreNLP\n",
      "Warning, empty document 28163787 passed to CoreNLP\n",
      "Warning, empty document 28143397 passed to CoreNLP\n"
     ]
    },
    {
     "name": "stdout",
     "output_type": "stream",
     "text": [
      "\r",
      "[=================                       ] 40%"
     ]
    },
    {
     "name": "stderr",
     "output_type": "stream",
     "text": [
      "Warning, empty document 28143567 passed to CoreNLP\n",
      "Warning, empty document 28143464 passed to CoreNLP\n",
      "Warning, empty document 28143503 passed to CoreNLP\n",
      "Warning, empty document 28137245 passed to CoreNLP\n",
      "Warning, empty document 28143614 passed to CoreNLP\n",
      "Warning, empty document 28137282 passed to CoreNLP\n",
      "Warning, empty document 28137267 passed to CoreNLP\n",
      "Warning, empty document 28143497 passed to CoreNLP\n",
      "Warning, empty document 28143440 passed to CoreNLP\n",
      "Warning, empty document 28137296 passed to CoreNLP\n",
      "Warning, empty document 28143402 passed to CoreNLP\n",
      "Warning, empty document 28143410 passed to CoreNLP\n",
      "Warning, empty document 28143530 passed to CoreNLP\n",
      "Warning, empty document 28137283 passed to CoreNLP\n",
      "Warning, empty document 28143489 passed to CoreNLP\n",
      "Warning, empty document 28137273 passed to CoreNLP\n",
      "Warning, empty document 28143486 passed to CoreNLP\n",
      "Warning, empty document 28143445 passed to CoreNLP\n",
      "Warning, empty document 28143521 passed to CoreNLP\n",
      "Warning, empty document 28137254 passed to CoreNLP\n",
      "Warning, empty document 28143555 passed to CoreNLP\n",
      "Warning, empty document 28143572 passed to CoreNLP\n"
     ]
    },
    {
     "name": "stdout",
     "output_type": "stream",
     "text": [
      "[===================                     ] 45%"
     ]
    },
    {
     "name": "stderr",
     "output_type": "stream",
     "text": [
      "Warning, empty document 28210363 passed to CoreNLP\n",
      "Warning, empty document 5301304 passed to CoreNLP\n",
      "Warning, empty document 5301297 passed to CoreNLP\n",
      "Warning, empty document 28178443 passed to CoreNLP\n"
     ]
    },
    {
     "name": "stdout",
     "output_type": "stream",
     "text": [
      "\r",
      "[===================                     ] 46%"
     ]
    },
    {
     "name": "stderr",
     "output_type": "stream",
     "text": [
      "Warning, empty document 28133358 passed to CoreNLP\n",
      "Warning, empty document 28133359 passed to CoreNLP\n",
      "Warning, empty document 28180186 passed to CoreNLP\n"
     ]
    },
    {
     "name": "stdout",
     "output_type": "stream",
     "text": [
      "\r",
      "[===================                     ] 47%"
     ]
    },
    {
     "name": "stderr",
     "output_type": "stream",
     "text": [
      "Warning, empty document 28138823 passed to CoreNLP\n",
      "Warning, empty document 28203517 passed to CoreNLP\n",
      "Warning, empty document 28137305 passed to CoreNLP\n",
      "Warning, empty document 28137307 passed to CoreNLP\n",
      "Warning, empty document 28137300 passed to CoreNLP\n",
      "Warning, empty document 28137252 passed to CoreNLP\n",
      "Warning, empty document 28137275 passed to CoreNLP\n",
      "Warning, empty document 28137247 passed to CoreNLP\n",
      "Warning, empty document 28137255 passed to CoreNLP\n",
      "Warning, empty document 28163665 passed to CoreNLP\n",
      "Warning, empty document 28137280 passed to CoreNLP\n"
     ]
    },
    {
     "name": "stdout",
     "output_type": "stream",
     "text": [
      "[====================                    ] 49%"
     ]
    },
    {
     "name": "stderr",
     "output_type": "stream",
     "text": [
      "Warning, empty document 28135310 passed to CoreNLP\n",
      "Warning, empty document 28132646 passed to CoreNLP\n"
     ]
    },
    {
     "name": "stdout",
     "output_type": "stream",
     "text": [
      "[=====================                   ] 52%"
     ]
    },
    {
     "name": "stderr",
     "output_type": "stream",
     "text": [
      "Warning, empty document 27887969 passed to CoreNLP\n",
      "Warning, empty document 27865792 passed to CoreNLP\n",
      "Warning, empty document 28132958 passed to CoreNLP\n",
      "Warning, empty document 28133922 passed to CoreNLP\n"
     ]
    },
    {
     "name": "stdout",
     "output_type": "stream",
     "text": [
      "\r",
      "[======================                  ] 53%"
     ]
    },
    {
     "name": "stderr",
     "output_type": "stream",
     "text": [
      "Warning, empty document 28130961 passed to CoreNLP\n",
      "Warning, empty document 5292346 passed to CoreNLP\n",
      "Warning, empty document 5292343 passed to CoreNLP\n",
      "Warning, empty document 5292333 passed to CoreNLP\n"
     ]
    },
    {
     "name": "stdout",
     "output_type": "stream",
     "text": [
      "\r",
      "[======================                  ] 54%"
     ]
    },
    {
     "name": "stderr",
     "output_type": "stream",
     "text": [
      "Warning, empty document 28210098 passed to CoreNLP\n",
      "Warning, empty document 28129747 passed to CoreNLP\n",
      "Warning, empty document 28191448 passed to CoreNLP\n",
      "Warning, empty document 28129777 passed to CoreNLP\n",
      "Warning, empty document 28129756 passed to CoreNLP\n",
      "Warning, empty document 28129740 passed to CoreNLP\n",
      "Warning, empty document 28149498 passed to CoreNLP\n",
      "Warning, empty document 28129742 passed to CoreNLP\n",
      "Warning, empty document 28129755 passed to CoreNLP\n",
      "Warning, empty document 28129776 passed to CoreNLP\n",
      "Warning, empty document 28129775 passed to CoreNLP\n",
      "Warning, empty document 28129745 passed to CoreNLP\n",
      "Warning, empty document 28129786 passed to CoreNLP\n",
      "Warning, empty document 28129778 passed to CoreNLP\n",
      "Warning, empty document 28129744 passed to CoreNLP\n",
      "Warning, empty document 28129785 passed to CoreNLP\n",
      "Warning, empty document 28129796 passed to CoreNLP\n",
      "Warning, empty document 28129749 passed to CoreNLP\n",
      "Warning, empty document 28129782 passed to CoreNLP\n",
      "Warning, empty document 28149513 passed to CoreNLP\n",
      "Warning, empty document 28129768 passed to CoreNLP\n",
      "Warning, empty document 28129736 passed to CoreNLP\n",
      "Warning, empty document 28190990 passed to CoreNLP\n",
      "Warning, empty document 28130626 passed to CoreNLP\n",
      "Warning, empty document 28144403 passed to CoreNLP\n",
      "Warning, empty document 28126882 passed to CoreNLP\n"
     ]
    },
    {
     "name": "stdout",
     "output_type": "stream",
     "text": [
      "\r",
      "[=======================                 ] 55%"
     ]
    },
    {
     "name": "stderr",
     "output_type": "stream",
     "text": [
      "Warning, empty document 28203087 passed to CoreNLP\n",
      "Warning, empty document 28203112 passed to CoreNLP\n",
      "Warning, empty document 28126983 passed to CoreNLP\n",
      "Warning, empty document 28128193 passed to CoreNLP\n",
      "Warning, empty document 28184155 passed to CoreNLP\n",
      "Warning, empty document 28184150 passed to CoreNLP\n",
      "Warning, empty document 28184167 passed to CoreNLP\n"
     ]
    },
    {
     "name": "stdout",
     "output_type": "stream",
     "text": [
      "\r",
      "[=======================                 ] 56%"
     ]
    },
    {
     "name": "stderr",
     "output_type": "stream",
     "text": [
      "Warning, empty document 28121960 passed to CoreNLP\n",
      "Warning, empty document 28121946 passed to CoreNLP\n",
      "Warning, empty document 28121942 passed to CoreNLP\n"
     ]
    },
    {
     "name": "stdout",
     "output_type": "stream",
     "text": [
      "\r",
      "[=======================                 ] 57%"
     ]
    },
    {
     "name": "stderr",
     "output_type": "stream",
     "text": [
      "Warning, empty document 28121923 passed to CoreNLP\n",
      "Warning, empty document 28121915 passed to CoreNLP\n",
      "Warning, empty document 28180139 passed to CoreNLP\n",
      "Warning, empty document 28132002 passed to CoreNLP\n",
      "Warning, empty document 28130207 passed to CoreNLP\n",
      "Warning, empty document 28129367 passed to CoreNLP\n",
      "Warning, empty document 28129396 passed to CoreNLP\n",
      "Warning, empty document 28129400 passed to CoreNLP\n"
     ]
    },
    {
     "name": "stdout",
     "output_type": "stream",
     "text": [
      "\r",
      "[========================                ] 58%"
     ]
    },
    {
     "name": "stderr",
     "output_type": "stream",
     "text": [
      "Warning, empty document 28129402 passed to CoreNLP\n",
      "Warning, empty document 28129392 passed to CoreNLP\n",
      "Warning, empty document 28129357 passed to CoreNLP\n",
      "Warning, empty document 28129328 passed to CoreNLP\n",
      "Warning, empty document 28129327 passed to CoreNLP\n",
      "Warning, empty document 28129375 passed to CoreNLP\n",
      "Warning, empty document 28129325 passed to CoreNLP\n"
     ]
    },
    {
     "name": "stdout",
     "output_type": "stream",
     "text": [
      "\r",
      "[========================                ] 59%"
     ]
    },
    {
     "name": "stderr",
     "output_type": "stream",
     "text": [
      "Warning, empty document 28125995 passed to CoreNLP\n"
     ]
    },
    {
     "name": "stdout",
     "output_type": "stream",
     "text": [
      "\r",
      "[=========================               ] 60%"
     ]
    },
    {
     "name": "stderr",
     "output_type": "stream",
     "text": [
      "Warning, empty document 28191002 passed to CoreNLP\n"
     ]
    },
    {
     "name": "stdout",
     "output_type": "stream",
     "text": [
      "\r",
      "[=========================               ] 61%"
     ]
    },
    {
     "name": "stderr",
     "output_type": "stream",
     "text": [
      "Warning, empty document 28191455 passed to CoreNLP\n",
      "Warning, empty document 28123171 passed to CoreNLP\n",
      "Warning, empty document 28125566 passed to CoreNLP\n",
      "Warning, empty document 28123172 passed to CoreNLP\n",
      "Warning, empty document 28125073 passed to CoreNLP\n",
      "Warning, empty document 28154805 passed to CoreNLP\n",
      "Warning, empty document 28154802 passed to CoreNLP\n"
     ]
    },
    {
     "name": "stdout",
     "output_type": "stream",
     "text": [
      "\r",
      "[=========================               ] 62%"
     ]
    },
    {
     "name": "stderr",
     "output_type": "stream",
     "text": [
      "Warning, empty document 28125999 passed to CoreNLP\n",
      "Warning, empty document 28125968 passed to CoreNLP\n",
      "Warning, empty document 28149257 passed to CoreNLP\n",
      "Warning, empty document 28126013 passed to CoreNLP\n",
      "Warning, empty document 28126001 passed to CoreNLP\n"
     ]
    },
    {
     "name": "stdout",
     "output_type": "stream",
     "text": [
      "\r",
      "[==========================              ] 63%"
     ]
    },
    {
     "name": "stderr",
     "output_type": "stream",
     "text": [
      "Warning, empty document 28149327 passed to CoreNLP\n",
      "Warning, empty document 28125966 passed to CoreNLP\n",
      "Warning, empty document 28126023 passed to CoreNLP\n",
      "Warning, empty document 28126020 passed to CoreNLP\n",
      "Warning, empty document 28126034 passed to CoreNLP\n",
      "Warning, empty document 28125958 passed to CoreNLP\n",
      "Warning, empty document 28125976 passed to CoreNLP\n",
      "Warning, empty document 28125986 passed to CoreNLP\n",
      "Warning, empty document 28125989 passed to CoreNLP\n",
      "Warning, empty document 28149325 passed to CoreNLP\n",
      "Warning, empty document 28125970 passed to CoreNLP\n",
      "Warning, empty document 28126036 passed to CoreNLP\n",
      "Warning, empty document 28126004 passed to CoreNLP\n",
      "Warning, empty document 28125965 passed to CoreNLP\n",
      "Warning, empty document 28125984 passed to CoreNLP\n",
      "Warning, empty document 28125987 passed to CoreNLP\n",
      "Warning, empty document 28127936 passed to CoreNLP\n"
     ]
    },
    {
     "name": "stdout",
     "output_type": "stream",
     "text": [
      "\r",
      "[==========================              ] 64%"
     ]
    },
    {
     "name": "stderr",
     "output_type": "stream",
     "text": [
      "Warning, empty document 28125729 passed to CoreNLP\n",
      "Warning, empty document 28125617 passed to CoreNLP\n",
      "Warning, empty document 28125641 passed to CoreNLP\n",
      "Warning, empty document 28125733 passed to CoreNLP\n",
      "Warning, empty document 28125601 passed to CoreNLP\n",
      "Warning, empty document 28125598 passed to CoreNLP\n"
     ]
    },
    {
     "name": "stdout",
     "output_type": "stream",
     "text": [
      "\r",
      "[===========================             ] 65%"
     ]
    },
    {
     "name": "stderr",
     "output_type": "stream",
     "text": [
      "Warning, empty document 28125693 passed to CoreNLP\n",
      "Warning, empty document 28125711 passed to CoreNLP\n",
      "Warning, empty document 28125604 passed to CoreNLP\n"
     ]
    },
    {
     "name": "stdout",
     "output_type": "stream",
     "text": [
      "\r",
      "[===========================             ] 66%"
     ]
    },
    {
     "name": "stderr",
     "output_type": "stream",
     "text": [
      "Warning, empty document 28125731 passed to CoreNLP\n",
      "Warning, empty document 28125672 passed to CoreNLP\n",
      "Warning, empty document 28125730 passed to CoreNLP\n",
      "Warning, empty document 28125740 passed to CoreNLP\n"
     ]
    },
    {
     "name": "stdout",
     "output_type": "stream",
     "text": [
      "[============================            ] 68%"
     ]
    },
    {
     "name": "stderr",
     "output_type": "stream",
     "text": [
      "Warning, empty document 28122559 passed to CoreNLP\n",
      "Warning, empty document 28122597 passed to CoreNLP\n",
      "Warning, empty document 28122624 passed to CoreNLP\n",
      "Warning, empty document 28122512 passed to CoreNLP\n",
      "Warning, empty document 28122620 passed to CoreNLP\n",
      "Warning, empty document 28122499 passed to CoreNLP\n",
      "Warning, empty document 28122547 passed to CoreNLP\n",
      "Warning, empty document 28122586 passed to CoreNLP\n",
      "Warning, empty document 28122515 passed to CoreNLP\n",
      "Warning, empty document 28122579 passed to CoreNLP\n",
      "Warning, empty document 28122494 passed to CoreNLP\n",
      "Warning, empty document 28122558 passed to CoreNLP\n",
      "Warning, empty document 28122497 passed to CoreNLP\n",
      "Warning, empty document 28122641 passed to CoreNLP\n",
      "Warning, empty document 28122570 passed to CoreNLP\n",
      "Warning, empty document 28122574 passed to CoreNLP\n",
      "Warning, empty document 28122575 passed to CoreNLP\n",
      "Warning, empty document 28149324 passed to CoreNLP\n",
      "Warning, empty document 28122528 passed to CoreNLP\n",
      "Warning, empty document 28124221 passed to CoreNLP\n",
      "Warning, empty document 28184220 passed to CoreNLP\n",
      "Warning, empty document 28184195 passed to CoreNLP\n"
     ]
    },
    {
     "name": "stdout",
     "output_type": "stream",
     "text": [
      "\r",
      "[============================            ] 69%"
     ]
    },
    {
     "name": "stderr",
     "output_type": "stream",
     "text": [
      "Warning, empty document 28163834 passed to CoreNLP\n"
     ]
    },
    {
     "name": "stdout",
     "output_type": "stream",
     "text": [
      "\r",
      "[=============================           ] 70%"
     ]
    },
    {
     "name": "stderr",
     "output_type": "stream",
     "text": [
      "Warning, empty document 28130553 passed to CoreNLP\n",
      "Warning, empty document 5302138 passed to CoreNLP\n"
     ]
    },
    {
     "name": "stdout",
     "output_type": "stream",
     "text": [
      "\r",
      "[=============================           ] 71%"
     ]
    },
    {
     "name": "stderr",
     "output_type": "stream",
     "text": [
      "Warning, empty document 28179967 passed to CoreNLP\n",
      "Warning, empty document 28179964 passed to CoreNLP\n",
      "Warning, empty document 28182151 passed to CoreNLP\n",
      "Warning, empty document 28182131 passed to CoreNLP\n",
      "Warning, empty document 28182130 passed to CoreNLP\n",
      "Warning, empty document 28122835 passed to CoreNLP\n",
      "Warning, empty document 28122829 passed to CoreNLP\n",
      "Warning, empty document 28122831 passed to CoreNLP\n"
     ]
    },
    {
     "name": "stdout",
     "output_type": "stream",
     "text": [
      "\r",
      "[=============================           ] 72%"
     ]
    },
    {
     "name": "stderr",
     "output_type": "stream",
     "text": [
      "Warning, empty document 28149696 passed to CoreNLP\n",
      "Warning, empty document 28149695 passed to CoreNLP\n",
      "Warning, empty document 28124196 passed to CoreNLP\n",
      "Warning, empty document 28124234 passed to CoreNLP\n",
      "Warning, empty document 28122495 passed to CoreNLP\n",
      "Warning, empty document 28122545 passed to CoreNLP\n",
      "Warning, empty document 28122525 passed to CoreNLP\n",
      "Warning, empty document 28122617 passed to CoreNLP\n",
      "Warning, empty document 28122543 passed to CoreNLP\n",
      "Warning, empty document 28179017 passed to CoreNLP\n",
      "Warning, empty document 28178988 passed to CoreNLP\n",
      "Warning, empty document 28178976 passed to CoreNLP\n",
      "Warning, empty document 28179003 passed to CoreNLP\n"
     ]
    },
    {
     "name": "stdout",
     "output_type": "stream",
     "text": [
      "\r",
      "[==============================          ] 73%"
     ]
    },
    {
     "name": "stderr",
     "output_type": "stream",
     "text": [
      "Warning, empty document 5299153 passed to CoreNLP\n",
      "Warning, empty document 5299087 passed to CoreNLP\n",
      "Warning, empty document 28173803 passed to CoreNLP\n",
      "Warning, empty document 28173758 passed to CoreNLP\n"
     ]
    },
    {
     "name": "stdout",
     "output_type": "stream",
     "text": [
      "[===============================         ] 75%"
     ]
    },
    {
     "name": "stderr",
     "output_type": "stream",
     "text": [
      "Warning, empty document 28028288 passed to CoreNLP\n",
      "Warning, empty document 26830547 passed to CoreNLP\n",
      "Warning, empty document 27807624 passed to CoreNLP\n"
     ]
    },
    {
     "name": "stdout",
     "output_type": "stream",
     "text": [
      "\r",
      "[===============================         ] 76%"
     ]
    },
    {
     "name": "stderr",
     "output_type": "stream",
     "text": [
      "Warning, empty document 27358229 passed to CoreNLP\n",
      "Warning, empty document 5270447 passed to CoreNLP\n",
      "Warning, empty document 21223436 passed to CoreNLP\n",
      "Warning, empty document 25684049 passed to CoreNLP\n"
     ]
    },
    {
     "name": "stdout",
     "output_type": "stream",
     "text": [
      "\r",
      "[===============================         ] 77%"
     ]
    },
    {
     "name": "stderr",
     "output_type": "stream",
     "text": [
      "Warning, empty document 5278193 passed to CoreNLP\n",
      "Warning, empty document 28138108 passed to CoreNLP\n",
      "Warning, empty document 28138111 passed to CoreNLP\n",
      "Warning, empty document 28138112 passed to CoreNLP\n",
      "Warning, empty document 28138110 passed to CoreNLP\n",
      "Warning, empty document 28178922 passed to CoreNLP\n",
      "Warning, empty document 5297203 passed to CoreNLP\n",
      "Warning, empty document 28173830 passed to CoreNLP\n",
      "Warning, empty document 28173834 passed to CoreNLP\n"
     ]
    },
    {
     "name": "stdout",
     "output_type": "stream",
     "text": [
      "[================================        ] 79%"
     ]
    },
    {
     "name": "stderr",
     "output_type": "stream",
     "text": [
      "Warning, empty document 28173817 passed to CoreNLP\n",
      "Warning, empty document 28173833 passed to CoreNLP\n",
      "Warning, empty document 28173878 passed to CoreNLP\n",
      "Warning, empty document 28173812 passed to CoreNLP\n",
      "Warning, empty document 28173846 passed to CoreNLP\n",
      "Warning, empty document 28173875 passed to CoreNLP\n",
      "Warning, empty document 28173848 passed to CoreNLP\n",
      "Warning, empty document 28173879 passed to CoreNLP\n",
      "Warning, empty document 28173829 passed to CoreNLP\n",
      "Warning, empty document 28173859 passed to CoreNLP\n",
      "Warning, empty document 28173850 passed to CoreNLP\n",
      "Warning, empty document 5297176 passed to CoreNLP\n",
      "Warning, empty document 28173832 passed to CoreNLP\n",
      "Warning, empty document 5297167 passed to CoreNLP\n",
      "Warning, empty document 28173767 passed to CoreNLP\n",
      "Warning, empty document 28173753 passed to CoreNLP\n",
      "Warning, empty document 28173831 passed to CoreNLP\n",
      "Warning, empty document 28173757 passed to CoreNLP\n",
      "Warning, empty document 28173788 passed to CoreNLP\n",
      "Warning, empty document 28173869 passed to CoreNLP\n",
      "Warning, empty document 28173861 passed to CoreNLP\n",
      "Warning, empty document 5297125 passed to CoreNLP\n",
      "Warning, empty document 28173844 passed to CoreNLP\n",
      "Warning, empty document 28173783 passed to CoreNLP\n",
      "Warning, empty document 28173805 passed to CoreNLP\n",
      "Warning, empty document 5297118 passed to CoreNLP\n",
      "Warning, empty document 5297095 passed to CoreNLP\n"
     ]
    },
    {
     "name": "stdout",
     "output_type": "stream",
     "text": [
      "\r",
      "[=================================       ] 80%"
     ]
    },
    {
     "name": "stderr",
     "output_type": "stream",
     "text": [
      "Warning, empty document 28173852 passed to CoreNLP\n",
      "Warning, empty document 28173748 passed to CoreNLP\n",
      "Warning, empty document 28173860 passed to CoreNLP\n",
      "Warning, empty document 28173770 passed to CoreNLP\n",
      "Warning, empty document 28173863 passed to CoreNLP\n",
      "Warning, empty document 28173762 passed to CoreNLP\n",
      "Warning, empty document 28173835 passed to CoreNLP\n",
      "Warning, empty document 28173797 passed to CoreNLP\n",
      "Warning, empty document 28166731 passed to CoreNLP\n",
      "Warning, empty document 28166789 passed to CoreNLP\n",
      "Warning, empty document 28184278 passed to CoreNLP\n",
      "Warning, empty document 28166818 passed to CoreNLP\n",
      "Warning, empty document 28173777 passed to CoreNLP\n",
      "Warning, empty document 28173781 passed to CoreNLP\n"
     ]
    },
    {
     "name": "stdout",
     "output_type": "stream",
     "text": [
      "[=================================       ] 82%"
     ]
    },
    {
     "name": "stderr",
     "output_type": "stream",
     "text": [
      "Warning, empty document 5295218 passed to CoreNLP\n",
      "Warning, empty document 28166742 passed to CoreNLP\n",
      "Warning, empty document 5295214 passed to CoreNLP\n",
      "Warning, empty document 28166721 passed to CoreNLP\n",
      "Warning, empty document 28166797 passed to CoreNLP\n",
      "Warning, empty document 28166753 passed to CoreNLP\n",
      "Warning, empty document 28166726 passed to CoreNLP\n",
      "Warning, empty document 28166778 passed to CoreNLP\n",
      "Warning, empty document 28166748 passed to CoreNLP\n"
     ]
    },
    {
     "name": "stdout",
     "output_type": "stream",
     "text": [
      "\r",
      "[==================================      ] 83%"
     ]
    },
    {
     "name": "stderr",
     "output_type": "stream",
     "text": [
      "Warning, empty document 28166831 passed to CoreNLP\n",
      "Warning, empty document 28166756 passed to CoreNLP\n",
      "Warning, empty document 28166815 passed to CoreNLP\n",
      "Warning, empty document 28166719 passed to CoreNLP\n",
      "Warning, empty document 28166727 passed to CoreNLP\n",
      "Warning, empty document 28166744 passed to CoreNLP\n",
      "Warning, empty document 28166825 passed to CoreNLP\n",
      "Warning, empty document 28166767 passed to CoreNLP\n",
      "Warning, empty document 28166813 passed to CoreNLP\n"
     ]
    },
    {
     "name": "stdout",
     "output_type": "stream",
     "text": [
      "\r",
      "[==================================      ] 84%"
     ]
    },
    {
     "name": "stderr",
     "output_type": "stream",
     "text": [
      "Warning, empty document 28166781 passed to CoreNLP\n",
      "Warning, empty document 28184177 passed to CoreNLP\n",
      "Warning, empty document 28166774 passed to CoreNLP\n",
      "Warning, empty document 28166732 passed to CoreNLP\n",
      "Warning, empty document 28184178 passed to CoreNLP\n",
      "Warning, empty document 28166795 passed to CoreNLP\n",
      "Warning, empty document 28184174 passed to CoreNLP\n",
      "Warning, empty document 28184247 passed to CoreNLP\n",
      "Warning, empty document 28166765 passed to CoreNLP\n",
      "Warning, empty document 28166749 passed to CoreNLP\n",
      "Warning, empty document 28166729 passed to CoreNLP\n",
      "Warning, empty document 28166799 passed to CoreNLP\n",
      "Warning, empty document 28166833 passed to CoreNLP\n",
      "Warning, empty document 28166784 passed to CoreNLP\n",
      "Warning, empty document 28166746 passed to CoreNLP\n",
      "Warning, empty document 28166834 passed to CoreNLP\n",
      "Warning, empty document 28166761 passed to CoreNLP\n",
      "Warning, empty document 28166766 passed to CoreNLP\n",
      "Warning, empty document 28166762 passed to CoreNLP\n",
      "Warning, empty document 28166758 passed to CoreNLP\n",
      "Warning, empty document 28166776 passed to CoreNLP\n"
     ]
    },
    {
     "name": "stdout",
     "output_type": "stream",
     "text": [
      "\r",
      "[===================================     ] 85%"
     ]
    },
    {
     "name": "stderr",
     "output_type": "stream",
     "text": [
      "Warning, empty document 28162093 passed to CoreNLP\n",
      "Warning, empty document 5292810 passed to CoreNLP\n",
      "Warning, empty document 28162091 passed to CoreNLP\n",
      "Warning, empty document 28166792 passed to CoreNLP\n",
      "Warning, empty document 28166716 passed to CoreNLP\n",
      "Warning, empty document 28166733 passed to CoreNLP\n",
      "Warning, empty document 28166796 passed to CoreNLP\n"
     ]
    },
    {
     "name": "stdout",
     "output_type": "stream",
     "text": [
      "[===================================     ] 87%"
     ]
    },
    {
     "name": "stderr",
     "output_type": "stream",
     "text": [
      "Warning, empty document 5289869 passed to CoreNLP\n",
      "Warning, empty document 28180098 passed to CoreNLP\n",
      "Warning, empty document 28174606 passed to CoreNLP\n",
      "Warning, empty document 28160777 passed to CoreNLP\n",
      "Warning, empty document 28174605 passed to CoreNLP\n",
      "Warning, empty document 28160778 passed to CoreNLP\n",
      "Warning, empty document 28174603 passed to CoreNLP\n",
      "Warning, empty document 28160779 passed to CoreNLP\n",
      "Warning, empty document 28159011 passed to CoreNLP\n"
     ]
    },
    {
     "name": "stdout",
     "output_type": "stream",
     "text": [
      "\r",
      "[====================================    ] 88%"
     ]
    },
    {
     "name": "stderr",
     "output_type": "stream",
     "text": [
      "Warning, empty document 28151878 passed to CoreNLP\n",
      "Warning, empty document 28151848 passed to CoreNLP\n",
      "Warning, empty document 28174608 passed to CoreNLP\n"
     ]
    },
    {
     "name": "stdout",
     "output_type": "stream",
     "text": [
      "\r",
      "[====================================    ] 89%"
     ]
    },
    {
     "name": "stderr",
     "output_type": "stream",
     "text": [
      "Warning, empty document 28158970 passed to CoreNLP\n",
      "Warning, empty document 28158983 passed to CoreNLP\n",
      "Warning, empty document 28158976 passed to CoreNLP\n",
      "Warning, empty document 28159013 passed to CoreNLP\n",
      "Warning, empty document 28158974 passed to CoreNLP\n",
      "Warning, empty document 28158968 passed to CoreNLP\n",
      "Warning, empty document 28174624 passed to CoreNLP\n",
      "Warning, empty document 28158999 passed to CoreNLP\n",
      "Warning, empty document 28159016 passed to CoreNLP\n",
      "Warning, empty document 28158969 passed to CoreNLP\n",
      "Warning, empty document 28158993 passed to CoreNLP\n",
      "Warning, empty document 28158980 passed to CoreNLP\n",
      "Warning, empty document 28174625 passed to CoreNLP\n",
      "Warning, empty document 28174596 passed to CoreNLP\n",
      "Warning, empty document 28159014 passed to CoreNLP\n"
     ]
    },
    {
     "name": "stdout",
     "output_type": "stream",
     "text": [
      "\r",
      "[=====================================   ] 90%"
     ]
    },
    {
     "name": "stderr",
     "output_type": "stream",
     "text": [
      "Warning, empty document 28158989 passed to CoreNLP\n",
      "Warning, empty document 28158975 passed to CoreNLP\n"
     ]
    },
    {
     "name": "stdout",
     "output_type": "stream",
     "text": [
      "\r",
      "[=====================================   ] 91%"
     ]
    },
    {
     "name": "stderr",
     "output_type": "stream",
     "text": [
      "Warning, empty document 28168124 passed to CoreNLP\n",
      "Warning, empty document 28168120 passed to CoreNLP\n",
      "Warning, empty document 28168113 passed to CoreNLP\n",
      "Warning, empty document 28174676 passed to CoreNLP\n",
      "Warning, empty document 28153039 passed to CoreNLP\n",
      "Warning, empty document 28152985 passed to CoreNLP\n",
      "Warning, empty document 28174597 passed to CoreNLP\n",
      "Warning, empty document 28174607 passed to CoreNLP\n",
      "Warning, empty document 28153035 passed to CoreNLP\n"
     ]
    },
    {
     "name": "stdout",
     "output_type": "stream",
     "text": [
      "\r",
      "[=====================================   ] 92%"
     ]
    },
    {
     "name": "stderr",
     "output_type": "stream",
     "text": [
      "Warning, empty document 28174513 passed to CoreNLP\n",
      "Warning, empty document 28152982 passed to CoreNLP\n",
      "Warning, empty document 28153004 passed to CoreNLP\n",
      "Warning, empty document 28153005 passed to CoreNLP\n",
      "Warning, empty document 28153008 passed to CoreNLP\n",
      "Warning, empty document 28153015 passed to CoreNLP\n",
      "Warning, empty document 28152976 passed to CoreNLP\n",
      "Warning, empty document 28174665 passed to CoreNLP\n",
      "Warning, empty document 28174663 passed to CoreNLP\n",
      "Warning, empty document 28153013 passed to CoreNLP\n",
      "Warning, empty document 28153028 passed to CoreNLP\n",
      "Warning, empty document 28153054 passed to CoreNLP\n",
      "Warning, empty document 28184257 passed to CoreNLP\n",
      "Warning, empty document 28184176 passed to CoreNLP\n",
      "Warning, empty document 28152979 passed to CoreNLP\n",
      "Warning, empty document 28184234 passed to CoreNLP\n",
      "Warning, empty document 28153010 passed to CoreNLP\n",
      "Warning, empty document 28122501 passed to CoreNLP\n",
      "Warning, empty document 28149200 passed to CoreNLP\n"
     ]
    },
    {
     "name": "stdout",
     "output_type": "stream",
     "text": [
      "\r",
      "[======================================  ] 93%"
     ]
    },
    {
     "name": "stderr",
     "output_type": "stream",
     "text": [
      "Warning, empty document 28122637 passed to CoreNLP\n",
      "Warning, empty document 28122514 passed to CoreNLP\n",
      "Warning, empty document 28122610 passed to CoreNLP\n",
      "Warning, empty document 28122511 passed to CoreNLP\n"
     ]
    },
    {
     "name": "stdout",
     "output_type": "stream",
     "text": [
      "\r",
      "[======================================  ] 94%"
     ]
    },
    {
     "name": "stderr",
     "output_type": "stream",
     "text": [
      "Warning, empty document 28158198 passed to CoreNLP\n",
      "Warning, empty document 28158243 passed to CoreNLP\n"
     ]
    },
    {
     "name": "stdout",
     "output_type": "stream",
     "text": [
      "\r",
      "[======================================= ] 95%"
     ]
    },
    {
     "name": "stderr",
     "output_type": "stream",
     "text": [
      "Warning, empty document 28158195 passed to CoreNLP\n",
      "Warning, empty document 28158236 passed to CoreNLP\n",
      "Warning, empty document 28158261 passed to CoreNLP\n",
      "Warning, empty document 28158257 passed to CoreNLP\n",
      "Warning, empty document 28158225 passed to CoreNLP\n",
      "Warning, empty document 28158226 passed to CoreNLP\n"
     ]
    },
    {
     "name": "stdout",
     "output_type": "stream",
     "text": [
      "\r",
      "[======================================= ] 96%"
     ]
    },
    {
     "name": "stderr",
     "output_type": "stream",
     "text": [
      "Warning, empty document 5289951 passed to CoreNLP\n",
      "Warning, empty document 28155204 passed to CoreNLP\n",
      "Warning, empty document 28151921 passed to CoreNLP\n"
     ]
    },
    {
     "name": "stdout",
     "output_type": "stream",
     "text": [
      "\r",
      "[======================================= ] 97%"
     ]
    },
    {
     "name": "stderr",
     "output_type": "stream",
     "text": [
      "Warning, empty document 28203114 passed to CoreNLP\n",
      "Warning, empty document 28203094 passed to CoreNLP\n",
      "Warning, empty document 28155029 passed to CoreNLP\n",
      "Warning, empty document 28152068 passed to CoreNLP\n",
      "Warning, empty document 28151975 passed to CoreNLP\n"
     ]
    },
    {
     "name": "stdout",
     "output_type": "stream",
     "text": [
      "\r",
      "[========================================] 98%"
     ]
    },
    {
     "name": "stderr",
     "output_type": "stream",
     "text": [
      "Warning, empty document 28152105 passed to CoreNLP\n",
      "Warning, empty document 28152040 passed to CoreNLP\n",
      "Warning, empty document 28152039 passed to CoreNLP\n",
      "Warning, empty document 28152087 passed to CoreNLP\n",
      "Warning, empty document 28152011 passed to CoreNLP\n"
     ]
    },
    {
     "name": "stdout",
     "output_type": "stream",
     "text": [
      "\r",
      "[========================================] 99%"
     ]
    },
    {
     "name": "stderr",
     "output_type": "stream",
     "text": [
      "Warning, empty document 28151991 passed to CoreNLP\n",
      "Warning, empty document 28151948 passed to CoreNLP\n"
     ]
    },
    {
     "name": "stdout",
     "output_type": "stream",
     "text": [
      "\r",
      "[========================================] 100%"
     ]
    },
    {
     "name": "stderr",
     "output_type": "stream",
     "text": [
      "Warning, empty document 28151982 passed to CoreNLP\n"
     ]
    },
    {
     "name": "stdout",
     "output_type": "stream",
     "text": [
      "[========================================] 100%%\n",
      "\n",
      "Running UDF...\n",
      "[========================================] 100%%\n",
      "\n",
      "Running UDF...\n",
      "[========================================] 100%3%\n",
      "\n"
     ]
    },
    {
     "name": "stderr",
     "output_type": "stream",
     "text": [
      "Warning, empty document 28152069 passed to CoreNLP\n"
     ]
    }
   ],
   "source": [
    "from snorkel.parser import CorpusParser\n",
    "\n",
    "corpus_parser = CorpusParser()\n",
    "corpus_parser.apply(list(train_preprocessor)) #parallelism can be run with a Postgres DBMS, but not SQLite\n",
    "corpus_parser.apply(list(dev_preprocessor), clear=False)\n",
    "corpus_parser.apply(list(test_preprocessor), clear=False)"
   ]
  },
  {
   "cell_type": "code",
   "execution_count": 3,
   "metadata": {},
   "outputs": [
    {
     "name": "stdout",
     "output_type": "stream",
     "text": [
      "1905\n",
      "160\n",
      "30\n",
      "[Document 21087800, Document 21231269, Document 21993267, Document 22244735, Document 22591752, Document 22660328, Document 23426447, Document 23710160, Document 23774980, Document 24926620, Document 24946761, Document 25404199, Document 25524716, Document 25569616, Document 25625824, Document 25656872, Document 25971098, Document 26206605, Document 26245740, Document 26335740, Document 26419597, Document 26649857, Document 26699378, Document 26729362, Document 26767526, Document 26778574, Document 26900040, Document 26980008, Document 26987530, Document 27031869, Document 27154659, Document 27177653, Document 27191652, Document 27313000, Document 27329598, Document 27329599, Document 27385000, Document 27409165, Document 27409345, Document 27418145, Document 27421140, Document 27429196, Document 27429198, Document 27447560, Document 27447743, Document 27447744, Document 27447749, Document 27447860, Document 27447861, Document 27448961, Document 27462774, Document 27462775, Document 27462779, Document 27462781, Document 27462861, Document 27462864, Document 27463003, Document 27463011, Document 27463015, Document 27472388, Document 27472395, Document 27472396, Document 27472460, Document 27486753, Document 27486754, Document 27486755, Document 27486760, Document 27486763, Document 27486766, Document 27486767, Document 27486768, Document 27486823, Document 27486970, Document 27486972, Document 27486974, Document 27486981, Document 27487139, Document 27487143, Document 27487147, Document 27489353, Document 27489354, Document 27489355, Document 27489357, Document 27489358, Document 27494834, Document 27494845, Document 27494849, Document 27494851, Document 27494855, Document 27494859, Document 27494861, Document 27494863, Document 27494873, Document 27509060, Document 27514541, Document 27514643, Document 27517154, Document 27517628, Document 27527859, Document 27527861, Document 27527864, Document 27527865, Document 27528025, Document 27528026, Document 27528030, Document 27528032, Document 27528226, Document 27528227, Document 27528230, Document 27528231, Document 27530202, Document 27539744, Document 27562956, Document 27595778, Document 27596398, Document 27612989, Document 27621042, Document 27634431, Document 27658435, Document 27658438, Document 27663563, Document 27663637, Document 27666942, Document 27673362, Document 27686375, Document 27693386, Document 27736304, Document 27742770, Document 27758818, Document 27758820, Document 27760082, Document 27771939, Document 27783317, Document 27789678, Document 27790854, Document 27801961, Document 27816499, Document 27846610, Document 27846613, Document 27852671, Document 27859949, Document 27862697, Document 27862769, Document 27864351, Document 27864352, Document 27864472, Document 27865196, Document 27866241, Document 27866242, Document 27871876, Document 27872161, Document 27875242, Document 27881437, Document 27881438, Document 27881557, Document 27890694, Document 27895046, Document 27895051, Document 27895052, Document 27895131, Document 27914982, Document 27920212, Document 27922536, Document 27926996, Document 27927771, Document 27927927, Document 27933352, Document 27933359, Document 27934661, Document 27934662, Document 27935818, Document 27935819, Document 27935821, Document 27956060, Document 27956598, Document 27984116, Document 27984543, Document 27988211, Document 28000020, Document 28007575, Document 28042107, Document 28057769, Document 28060012, Document 28067618, Document 28067628, Document 28067629, Document 28073635, Document 28079521, Document 28079628, Document 28087951, Document 28089995, Document 28112644, Document 28117666, Document 28120820, Document 28120827, Document 28120874, Document 28120895, Document 28120898, Document 28120901, Document 28120920, Document 28120935, Document 28120944, Document 28121926, Document 28121927, Document 28121928, Document 28121932, Document 28121935, Document 28121949, Document 28121954, Document 28121958, Document 28121986, Document 28122229, Document 28122577, Document 28122581, Document 28122590, Document 28122605, Document 28122627, Document 28122638, Document 28122812, Document 28122826, Document 28123004, Document 28123052, Document 28123053, Document 28123056, Document 28124290, Document 28124973, Document 28125396, Document 28125577, Document 28125583, Document 28125586, Document 28125591, Document 28125592, Document 28125602, Document 28125605, Document 28125611, Document 28125612, Document 28125613, Document 28125615, Document 28125622, Document 28125623, Document 28125630, Document 28125633, Document 28125634, Document 28125637, Document 28125638, Document 28125639, Document 28125640, Document 28125644, Document 28125646, Document 28125649, Document 28125650, Document 28125651, Document 28125654, Document 28125662, Document 28125665, Document 28125668, Document 28125669, Document 28125671, Document 28125673, Document 28125674, Document 28125676, Document 28125677, Document 28125681, Document 28125685, Document 28125686, Document 28125689, Document 28125695, Document 28125696, Document 28125697, Document 28125702, Document 28125705, Document 28125707, Document 28125716, Document 28125717, Document 28125719, Document 28125732, Document 28125734, Document 28125736, Document 28125737, Document 28125743, Document 28126008, Document 28126011, Document 28126030, Document 28126732, Document 28126940, Document 28127049, Document 28127934, Document 28128197, Document 28128199, Document 28128200, Document 28128201, Document 28128203, Document 28128204, Document 28128208, Document 28128211, Document 28128212, Document 28128215, Document 28128217, Document 28128219, Document 28128223, Document 28128229, Document 28128280, Document 28128281, Document 28128284, Document 28128285, Document 28128286, Document 28128288, Document 28128294, Document 28128303, Document 28128304, Document 28128305, Document 28128310, Document 28128312, Document 28128321, Document 28128323, Document 28128325, Document 28128330, Document 28128332, Document 28128337, Document 28128338, Document 28128343, Document 28128346, Document 28128356, Document 28128358, Document 28128362, Document 28128365, Document 28128366, Document 28128367, Document 28128370, Document 28129323, Document 28129334, Document 28129336, Document 28129345, Document 28129349, Document 28129351, Document 28129359, Document 28129361, Document 28129369, Document 28129380, Document 28129383, Document 28129387, Document 28129394, Document 28129395, Document 28129403, Document 28129404, Document 28129580, Document 28130454, Document 28130459, Document 28130460, Document 28130552, Document 28130923, Document 28131798, Document 28132839, Document 28134241, Document 28134245, Document 28134246, Document 28134248, Document 28134249, Document 28134251, Document 28134253, Document 28134256, Document 28134261, Document 28134263, Document 28134264, Document 28134269, Document 28134270, Document 28134272, Document 28134273, Document 28134274, Document 28134277, Document 28134278, Document 28134281, Document 28134282, Document 28134285, Document 28134287, Document 28134289, Document 28134290, Document 28134294, Document 28134295, Document 28134299, Document 28134300, Document 28134306, Document 28134307, Document 28134312, Document 28134318, Document 28134320, Document 28134325, Document 28134326, Document 28134327, Document 28134328, Document 28134330, Document 28134332, Document 28134334, Document 28134336, Document 28134339, Document 28134340, Document 28134341, Document 28134346, Document 28134351, Document 28134357, Document 28134933, Document 28134934, Document 28134935, Document 28134937, Document 28135189, Document 28135190, Document 28135273, Document 28135285, Document 28135290, Document 28135296, Document 28135299, Document 28135303, Document 28135312, Document 28135314, Document 28135317, Document 28135322, Document 28135323, Document 28135325, Document 28135327, Document 28135329, Document 28135336, Document 28135339, Document 28135340, Document 28135342, Document 28135344, Document 28137265, Document 28137266, Document 28137272, Document 28137287, Document 28137290, Document 28137292, Document 28137302, Document 28137304, Document 28137308, Document 28137309, Document 28137310, Document 28137313, Document 28137359, Document 28138105, Document 28138119, Document 28138543, Document 28138551, Document 28138552, Document 28138553, Document 28138554, Document 28138555, Document 28138556, Document 28138557, Document 28138558, Document 28138559, Document 28138561, Document 28138563, Document 28138565, Document 28139196, Document 28139197, Document 28139198, Document 28139640, Document 28139663, Document 28139664, Document 28139683, Document 28139685, Document 28139689, Document 28139692, Document 28139693, Document 28139695, Document 28139696, Document 28139701, Document 28139702, Document 28139704, Document 28139706, Document 28139708, Document 28139714, Document 28139716, Document 28139720, Document 28139723, Document 28139724, Document 28139725, Document 28139727, Document 28139728, Document 28139730, Document 28139731, Document 28139732, Document 28139733, Document 28139735, Document 28139736, Document 28139737, Document 28139741, Document 28139744, Document 28139747, Document 28139749, Document 28139754, Document 28139756, Document 28139758, Document 28139767, Document 28139770, Document 28139777, Document 28139974, Document 28141808, Document 28141810, Document 28141814, Document 28141819, Document 28141828, Document 28141839, Document 28141846, Document 28141855, Document 28141856, Document 28141859, Document 28141861, Document 28141865, Document 28141869, Document 28141871, Document 28142087, Document 28143527, Document 28143553, Document 28143577, Document 28143578, Document 28143590, Document 28143593, Document 28143953, Document 28143979, Document 28143980, Document 28143983, Document 28143984, Document 28144400, Document 28144624, Document 28144625, Document 28144815, Document 28145127, Document 28145401, Document 28145408, Document 28145431, Document 28145432, Document 28145449, Document 28145452, Document 28145464, Document 28145465, Document 28145469, Document 28145471, Document 28145474, Document 28145475, Document 28145478, Document 28145479, Document 28145481, Document 28145485, Document 28145488, Document 28145489, Document 28145491, Document 28145495, Document 28145498, Document 28145499, Document 28145503, Document 28145505, Document 28145507, Document 28145508, Document 28145509, Document 28145511, Document 28145519, Document 28145521, Document 28145524, Document 28145528, Document 28145530, Document 28145532, Document 28145864, Document 28145866, Document 28145870, Document 28146216, Document 28146217, Document 28146559, Document 28146565, Document 28146575, Document 28146581, Document 28146588, Document 28147273, Document 28147304, Document 28147305, Document 28148257, Document 28148268, Document 28148295, Document 28148299, Document 28148910, Document 28148911, Document 28148912, Document 28148953, Document 28148961, Document 28148964, Document 28148966, Document 28148968, Document 28149500, Document 28149509, Document 28149519, Document 28149530, Document 28149533, Document 28149534, Document 28149930, Document 28149932, Document 28149933, Document 28149934, Document 28149936, Document 28150105, Document 28150108, Document 28150690, Document 28150691, Document 28150695, Document 28150702, Document 28150703, Document 28150710, Document 28150711, Document 28150718, Document 28150722, Document 28150725, Document 28150727, Document 28150729, Document 28150730, Document 28150734, Document 28150736, Document 28150739, Document 28150740, Document 28150746, Document 28150753, Document 28150799, Document 28150801, Document 28150810, Document 28150812, Document 28150814, Document 28150815, Document 28150817, Document 28150819, Document 28150820, Document 28151847, Document 28151853, Document 28151855, Document 28151864, Document 28151865, Document 28151870, Document 28151872, Document 28151879, Document 28151881, Document 28151884, Document 28151889, Document 28151892, Document 28151912, Document 28151932, Document 28151934, Document 28151935, Document 28151944, Document 28151947, Document 28151949, Document 28151952, Document 28151955, Document 28151956, Document 28151958, Document 28151959, Document 28151961, Document 28151962, Document 28151972, Document 28151978, Document 28151980, Document 28151996, Document 28151999, Document 28152002, Document 28152006, Document 28152008, Document 28152014, Document 28152020, Document 28152021, Document 28152025, Document 28152035, Document 28152046, Document 28152048, Document 28152049, Document 28152050, Document 28152051, Document 28152052, Document 28152055, Document 28152063, Document 28152064, Document 28152071, Document 28152077, Document 28152080, Document 28152086, Document 28152090, Document 28152092, Document 28152098, Document 28152102, Document 28152104, Document 28152107, Document 28152423, Document 28153026, Document 28153029, Document 28153030, Document 28153044, Document 28153046, Document 28154736, Document 28155064, Document 28155199, Document 28155864, Document 28155865, Document 28155867, Document 28155868, Document 28155872, Document 28155873, Document 28155877, Document 28155881, Document 28155885, Document 28155887, Document 28155888, Document 28155894, Document 28155897, Document 28155899, Document 28155908, Document 28155914, Document 28155915, Document 28155918, Document 28155921, Document 28155922, Document 28157180, Document 28157181, Document 28157191, Document 28157193, Document 28157196, Document 28157198, Document 28157201, Document 28157203, Document 28157205, Document 28157212, Document 28157220, Document 28157227, Document 28157235, Document 28157665, Document 28158191, Document 28158196, Document 28158203, Document 28158217, Document 28158221, Document 28158223, Document 28158224, Document 28158230, Document 28158235, Document 28158238, Document 28158239, Document 28158247, Document 28158250, Document 28158253, Document 28158262, Document 28158269, Document 28158270, Document 28158274, Document 28158285, Document 28158287, Document 28158288, Document 28158293, Document 28158294, Document 28158308, Document 28158312, Document 28158315, Document 28158319, Document 28160744, Document 28161563, Document 28162092, Document 28163802, Document 28163803, Document 28163825, Document 28163826, Document 28163828, Document 28163831, Document 28163832, Document 28163911, Document 28163914, Document 28163952, Document 28164041, Document 28164994, Document 28164997, Document 28164999, Document 28165002, Document 28165009, Document 28165010, Document 28165019, Document 28165022, Document 28165027, Document 28165029, Document 28165031, Document 28165032, Document 28165033, Document 28165036, Document 28165045, Document 28165046, Document 28165047, Document 28165048, Document 28165054, Document 28165055, Document 28165057, Document 28165060, Document 28165063, Document 28165064, Document 28165066, Document 28165067, Document 28165459, Document 28165465, Document 28165482, Document 28165486, Document 28165488, Document 28165490, Document 28165496, Document 28165497, Document 28165502, Document 28165503, Document 28165508, Document 28166809, Document 28166810, Document 28166822, Document 28166830, Document 28166838, Document 28167241, Document 28167242, Document 28167243, Document 28167297, Document 28167333, Document 28167817, Document 28167820, Document 28167821, Document 28167824, Document 28167839, Document 28167887, Document 28167891, Document 28168038, Document 28168040, Document 28168106, Document 28168117, Document 28168168, Document 28168217, Document 28168949, Document 28169277, Document 28169278, Document 28169282, Document 28169290, Document 28169298, Document 28169308, Document 28169310, Document 28169314, Document 28169321, Document 28169322, Document 28169323, Document 28169324, Document 28169325, Document 28169328, Document 28169332, Document 28169337, Document 28169341, Document 28169345, Document 28169349, Document 28169351, Document 28169354, Document 28169357, Document 28169360, Document 28169364, Document 28169368, Document 28171818, Document 28173776, Document 28173810, Document 28173864, Document 28174307, Document 28174310, Document 28174312, Document 28174313, Document 28174315, Document 28174512, Document 28174598, Document 28174618, Document 28176788, Document 28176796, Document 28176803, Document 28176805, Document 28176806, Document 28176810, Document 28176811, Document 28176815, Document 28176818, Document 28176819, Document 28176820, Document 28176823, Document 28176824, Document 28176826, Document 28176831, Document 28176833, Document 28176838, Document 28176844, Document 28176845, Document 28176846, Document 28176852, Document 28176853, Document 28176855, Document 28176861, Document 28176867, Document 28176872, Document 28176874, Document 28176879, Document 28176880, Document 28176881, Document 28176884, Document 28177042, Document 28177321, Document 28178408, Document 28178410, Document 28178431, Document 28178437, Document 28178969, Document 28178974, Document 28178984, Document 28179016, Document 28179028, Document 28179969, Document 28179988, Document 28180075, Document 28180106, Document 28181483, Document 28181486, Document 28181487, Document 28181505, Document 28181508, Document 28181511, Document 28181527, Document 28181533, Document 28181537, Document 28181539, Document 28181545, Document 28181546, Document 28181547, Document 28181548, Document 28181552, Document 28181555, Document 28181558, Document 28181559, Document 28181560, Document 28181561, Document 28181564, Document 28181565, Document 28181567, Document 28181569, Document 28181574, Document 28181578, Document 28181586, Document 28181587, Document 28181589, Document 28181591, Document 28181595, Document 28181990, Document 28181991, Document 28182119, Document 28182122, Document 28182867, Document 28182993, Document 28182994, Document 28183062, Document 28184152, Document 28184159, Document 28184183, Document 28184187, Document 28184192, Document 28184194, Document 28184199, Document 28184204, Document 28184211, Document 28184215, Document 28184218, Document 28184219, Document 28184222, Document 28184226, Document 28184228, Document 28184229, Document 28184233, Document 28184260, Document 28184289, Document 28184290, Document 28184292, Document 28184293, Document 28184295, Document 28184297, Document 28184298, Document 28184299, Document 28184302, Document 28184334, Document 28184335, Document 28184336, Document 28184339, Document 28184340, Document 28184354, Document 28184367, Document 28184370, Document 28186109, Document 28186125, Document 28186128, Document 28186136, Document 28186142, Document 28186158, Document 28186159, Document 28186161, Document 28186172, Document 28186173, Document 28186176, Document 28186188, Document 28186192, Document 28186195, Document 28186197, Document 28186200, Document 28186206, Document 28186207, Document 28186209, Document 28189050, Document 28189065, Document 28189067, Document 28190997, Document 28191004, Document 28191006, Document 28191007, Document 28191009, Document 28191452, Document 28194108, Document 28194114, Document 28194115, Document 28194118, Document 28194122, Document 28194128, Document 28194129, Document 28194131, Document 28194133, Document 28194136, Document 28194148, Document 28194149, Document 28194153, Document 28194154, Document 28194228, Document 28194400, Document 28197066, Document 28197068, Document 28197070, Document 28197071, Document 28197072, Document 28197073, Document 28197076, Document 28197080, Document 28197085, Document 28197087, Document 28197092, Document 28197095, Document 28197096, Document 28197098, Document 28197100, Document 28197103, Document 28197106, Document 28197108, Document 28197110, Document 28197120, Document 28197123, Document 28197129, Document 28197130, Document 28197131, Document 28197132, Document 28197134, Document 28197137, Document 28197138, Document 28197141, Document 28197146, Document 28197149, Document 28197150, Document 28197153, Document 28197156, Document 28197157, Document 28197158, Document 28197163, Document 28197164, Document 28197165, Document 28197166, Document 28197167, Document 28197358, Document 28197395, Document 28197403, Document 28197542, Document 28197545, Document 28203043, Document 28203054, Document 28203077, Document 28203079, Document 28203080, Document 28203090, Document 28203091, Document 28203097, Document 28203100, Document 28203101, Document 28203102, Document 28203140, Document 28203142, Document 28203146, Document 28203147, Document 28203148, Document 28203202, Document 28203204, Document 28203205, Document 28203207, Document 28203209, Document 28203210, Document 28203214, Document 28203215, Document 28203230, Document 28203231, Document 28203233, Document 28203237, Document 28203478, Document 28203479, Document 28203480, Document 28203481, Document 28203482, Document 28203483, Document 28203484, Document 28203485, Document 28203534, Document 28203549, Document 28203581, Document 28210027, Document 28210033, Document 28210040, Document 28210043, Document 28210047, Document 28210055, Document 28210056, Document 28210059, Document 28210203, Document 28210205, Document 28210207, Document 28210208, Document 28210209, Document 28210211, Document 28210212, Document 28210215, Document 28210219, Document 28210220, Document 28210221, Document 28210222, Document 28210224, Document 28210225, Document 28210226, Document 28210231, Document 28210240, Document 28210241, Document 28210248, Document 28210249, Document 28210252, Document 28210256, Document 28210257, Document 28210259, Document 28210260, Document 28210262, Document 28210263, Document 28210265, Document 28210266, Document 28210267, Document 28210337, Document 28210540, Document 28210556, Document 28210558, Document 28210563, Document 28210565, Document 28210616, Document 28210705, Document 28210706, Document 28210709, Document 28260162, Document 28260175, Document 28260249, Document 28260295, Document 28260391, Document 28260394, Document 28260408, Document 28260446, Document 28260536, Document 28260615, Document 28260643, Document 28260648, Document 28260649, Document 28260658, Document 28260686, Document 28260693, Document 28260702, Document 28260718, Document 28260756, Document 28260757, Document 28260759, Document 28260767, Document 28260796, Document 28260854, Document 28260899, Document 28260907, Document 28260919, Document 28260933, Document 28260989, Document 28261049, Document 28261064, Document 28261103, Document 28261162, Document 28261171, Document 28261173, Document 28261189, Document 28261196, Document 28261199, Document 28261201, Document 28261204, Document 28261220, Document 28261225, Document 28261284, Document 28261287, Document 28261295, Document 28261310, Document 28261322, Document 28261325, Document 28261333, Document 28261336, Document 28261341, Document 28261345, Document 28261346, Document 28261350, Document 28261371, Document 28261375, Document 28261377, Document 28261422, Document 28261470, Document 28261562, Document 28261684, Document 28261746, Document 28261797, Document 28261818, Document 28261819, Document 28261868, Document 28261872, Document 28261896, Document 28261899, Document 28261908, Document 28261945, Document 28261951, Document 28261953, Document 28261960, Document 28261963, Document 28261965, Document 28261974, Document 28261998, Document 28262114, Document 28262130, Document 28262193, Document 28262197, Document 28262210, Document 28262211, Document 28262214, Document 28262239, Document 28262254, Document 28262266, Document 28262306, Document 28262321, Document 28262322, Document 28262437, Document 28262440, Document 28262537, Document 28262555, Document 28262603, Document 28262611, Document 28262616, Document 28262617, Document 28262635, Document 28262692, Document 28262709, Document 28262740, Document 28262744, Document 28262748, Document 28262773, Document 28262777, Document 28262798, Document 28262851, Document 28262971, Document 28263001, Document 28263037, Document 28263099, Document 28263100, Document 28263172, Document 28263219, Document 28263231, Document 28263294, Document 28263391, Document 28263395, Document 28263432, Document 28263447, Document 28263455, Document 28263489, Document 28263503, Document 28263504, Document 28263514, Document 28263525, Document 28263531, Document 28263532, Document 28263535, Document 28263541, Document 28263542, Document 28263550, Document 28263676, Document 28263701, Document 28263738, Document 28263741, Document 28263742, Document 28263753, Document 28263831, Document 28263860, Document 28263922, Document 28263944, Document 28263949, Document 28263955, Document 28263971, Document 28263981, Document 28264007, Document 28264009, Document 28264037, Document 28264059, Document 28264063, Document 28264072, Document 28264096, Document 28264098, Document 28264149, Document 28264152, Document 28264195, Document 28264198, Document 28722366, Document 28722418, Document 28722422, Document 28722438, Document 28722447, Document 28722495, Document 28722661, Document 28722663, Document 28722665, Document 28722666, Document 28722667, Document 28722675, Document 28722680, Document 28722826, Document 28722937, Document 5276808, Document 5276812, Document 5276816, Document 5276820, Document 5276851, Document 5276855, Document 5276996, Document 5277008, Document 5277010, Document 5278184, Document 5278190, Document 5278192, Document 5278195, Document 5278196, Document 5278197, Document 5278198, Document 5278202, Document 5278203, Document 5278207, Document 5278209, Document 5278210, Document 5278211, Document 5278212, Document 5278216, Document 5278218, Document 5278219, Document 5278222, Document 5278224, Document 5278225, Document 5278226, Document 5278229, Document 5278230, Document 5278231, Document 5278232, Document 5278260, Document 5278518, Document 5281646, Document 5282408, Document 5282418, Document 5282419, Document 5282420, Document 5282421, Document 5282428, Document 5282432, Document 5282433, Document 5282434, Document 5282435, Document 5282436, Document 5282437, Document 5282442, Document 5282445, Document 5282446, Document 5282447, Document 5282448, Document 5282455, Document 5282457, Document 5283505, Document 5283509, Document 5285419, Document 5286466, Document 5286467, Document 5286483, Document 5286488, Document 5286538, Document 5286540, Document 5286542, Document 5286545, Document 5287432, Document 5289305, Document 5289955, Document 5289956, Document 5289957, Document 5289958, Document 5289960, Document 5289964, Document 5289965, Document 5289966, Document 5289968, Document 5289978, Document 5289982, Document 5289984, Document 5289988, Document 5289989, Document 5289990, Document 5289993, Document 5289994, Document 5289995, Document 5290290, Document 5290387, Document 5291319, Document 5291725, Document 5291726, Document 5291727, Document 5291729, Document 5291730, Document 5291731, Document 5291732, Document 5291733, Document 5291735, Document 5291737, Document 5291739, Document 5291831, Document 5292330, Document 5292331, Document 5292350, Document 5292904, Document 5294742, Document 5295146, Document 5295847, Document 5296411, Document 5296412, Document 5297138, Document 5297148, Document 5299068, Document 5299773, Document 5299804, Document 5299815, Document 5299996, Document 5300914, Document 5304469, Document 5304913, Document 5305182, Document 5305183, Document 5305199, Document 5313296, Document 5313297, Document 5313304, Document 5313312]\n",
      "1468\n"
     ]
    }
   ],
   "source": [
    "from six.moves.cPickle import load\n",
    "from snorkel.models import Document, Sentence\n",
    "import cPickle\n",
    "\n",
    "with open('articles/doc_ids.pkl', 'rb') as f:\n",
    "    train_ids, dev_ids, test_ids = load(f)\n",
    "train_ids, dev_ids, test_ids = set(train_ids), set(dev_ids), set(test_ids)\n",
    "print len(train_ids)\n",
    "print len(dev_ids)\n",
    "print len(test_ids)\n",
    "train_sents, dev_sents, test_sents = set(), set(), set()\n",
    "docs = session.query(Document).order_by(Document.name).all()\n",
    "print docs\n",
    "print len(docs)\n",
    "for i, doc in enumerate(docs):\n",
    "    for s in doc.sentences:\n",
    "        if doc.name in train_ids:\n",
    "            train_sents.add(s)\n",
    "        elif doc.name in dev_ids:\n",
    "            dev_sents.add(s)\n",
    "        elif doc.name in test_ids:\n",
    "            test_sents.add(s)\n",
    "        else:\n",
    "            raise Exception('ID <{0}> not found in any id set'.format(doc.name))"
   ]
  },
  {
   "cell_type": "code",
   "execution_count": 4,
   "metadata": {
    "collapsed": true
   },
   "outputs": [],
   "source": [
    "from snorkel.models import Candidate, candidate_subclass\n",
    "\n",
    "BiomarkerType = candidate_subclass('BiomarkerType', ['biomarker', 'typ3'])\n",
    "\n",
    "from snorkel.models import candidate_subclass\n",
    "from snorkel.candidates import Ngrams, CandidateExtractor\n",
    "from snorkel.matchers import PersonMatcher\n",
    "import matchers\n",
    "from snorkel.models import Document\n",
    "from snorkel.viewer import SentenceNgramViewer\n",
    "import os\n",
    "\n",
    "biomarker_ngrams = Ngrams(n_max=1)\n",
    "type_ngrams = Ngrams(n_max=5)\n",
    "\n",
    "# Create our two Matchers\n",
    "bMatcher = matchers.getBiomarkerMatcher()\n",
    "tMatcher = matchers.getTypeMatcher()\n",
    "    \n",
    "# Building the CandidateExtractor \n",
    "candidate_extractor = CandidateExtractor(BiomarkerType, [biomarker_ngrams, type_ngrams], [bMatcher, tMatcher])"
   ]
  },
  {
   "cell_type": "code",
   "execution_count": 5,
   "metadata": {},
   "outputs": [
    {
     "name": "stdout",
     "output_type": "stream",
     "text": [
      "Clearing existing...\n",
      "Running UDF...\n",
      "[========================================] 100%%\n",
      "\n",
      "('Number of candidates:', 1896)\n",
      "Clearing existing...\n",
      "Running UDF...\n",
      "[========================================] 100%%\n",
      "\n",
      "('Number of candidates:', 335)\n",
      "Clearing existing...\n",
      "Running UDF...\n",
      "[========================================] 100%%\n",
      "\n",
      "('Number of candidates:', 35)\n"
     ]
    }
   ],
   "source": [
    "for k, sents in enumerate([train_sents, dev_sents, test_sents]):\n",
    "    candidate_extractor.apply(sents, split=k)\n",
    "    print(\"Number of candidates:\", session.query(BiomarkerType).filter(BiomarkerType.split == k).count())\n",
    "\n",
    "dev_cands = session.query(BiomarkerType).filter(BiomarkerType.split == 1).all()\n"
   ]
  },
  {
   "cell_type": "code",
   "execution_count": 6,
   "metadata": {},
   "outputs": [
    {
     "name": "stderr",
     "output_type": "stream",
     "text": [
      "/usr/local/lib/python2.7/dist-packages/matplotlib/__init__.py:1405: UserWarning: \n",
      "This call to matplotlib.use() has no effect because the backend has already\n",
      "been chosen; matplotlib.use() must be called *before* pylab, matplotlib.pyplot,\n",
      "or matplotlib.backends is imported for the first time.\n",
      "\n",
      "  warnings.warn(_use_error_msg)\n"
     ]
    }
   ],
   "source": [
    "import re\n",
    "#from snorkel.lf_terms import *\n",
    "from snorkel.lf_helpers import  *\n",
    "from snorkel.lf_helpers import get_sent_candidate_spans\n",
    "from snorkel.lf_helpers import get_left_tokens, get_right_tokens\n",
    "from random import randint\n",
    "import cPickle\n",
    "import unicodedata\n",
    "from PyDictionary import PyDictionary\n",
    "sentence_keyword_lemmas = [\"contain\", \"collect\", \"find\", \"sample\", \"fluid\", \"tissue\", \"detection\"]\n",
    "sentences = []\n",
    "\n",
    "knowAbbreviations = []\n",
    "with open('databases/abbreviations.com.pkl', 'rb') as f:\n",
    "    knowAbbreviations = cPickle.load(f)\n",
    "\n",
    "#2 - if the word has a colon after it its generally not a biomarker\n",
    "def LF_colon(c):\n",
    "    words_in_between = []\n",
    "    for thing in get_between_tokens(c):\n",
    "        words_in_between.append(thing)\n",
    "    if(len(words_in_between) > 1 and words_in_between[0] == \":\"):\n",
    "        return -1\n",
    "\n",
    "def LF_known_abs(c):\n",
    "    if(c.biomarker.get_span() in knowAbbreviations):\n",
    "        return -1\n",
    "\n",
    "def LF_single_letter(c):\n",
    "    if(len(c.biomarker.get_span()) < 2):\n",
    "        return -1\n",
    "    else:\n",
    "        return 0\n",
    "def LF_roman_numeral(c):\n",
    "    biomarker = (c.biomarker.get_span())\n",
    "    unicodedata.normalize('NFKD', biomarker).encode('ascii','ignore')\n",
    "    if re.match(r'((?<=\\s)|(?<=^))(M{1,4}(CM|CD|D?C{0,3})(XC|XL|L?X{0,3})(IX|IV|V?I{0,3})|M{0,4}(CM|CD|D?C{1,3})(XC|XL|L?X{0,3})(IX|IV|V?I{0,3})|M{0,4}(CM|CD|D?C{0,3})(XC|XL|L?X{1,3})(IX|IV|V?I{0,3})|M{0,4}(CM|CD|D?C{0,3})(XC|XL|L?X{0,3})(IX|IV|V?I{1,3}))(?=\\s)',\n",
    "                biomarker):\n",
    "        return -1\n",
    "    \n",
    "with open('databases/common2000.pkl', 'rb') as f:\n",
    "    common2000 = cPickle.load(f)\n",
    "\n",
    "def LF_common_2000(c):\n",
    "    if(c.biomarker.get_span() in common2000):\n",
    "        return -1\n",
    "def LF_same_thing(c):\n",
    "    if(c.biomarker.get_span() == c.typ3.get_span()):\n",
    "        return -1"
   ]
  },
  {
   "cell_type": "code",
   "execution_count": 7,
   "metadata": {
    "collapsed": true
   },
   "outputs": [],
   "source": [
    "LFs = [LF_colon, LF_known_abs, LF_single_letter, LF_roman_numeral, LF_common_2000, LF_same_thing]"
   ]
  },
  {
   "cell_type": "code",
   "execution_count": 8,
   "metadata": {
    "collapsed": true
   },
   "outputs": [],
   "source": [
    "from snorkel.annotations import LabelAnnotator\n",
    "labeler = LabelAnnotator(lfs=LFs)"
   ]
  },
  {
   "cell_type": "code",
   "execution_count": 9,
   "metadata": {},
   "outputs": [
    {
     "name": "stdout",
     "output_type": "stream",
     "text": [
      "Clearing existing...\n",
      "Running UDF...\n",
      "[========================================] 100%%\n",
      "\n",
      "CPU times: user 14.4 s, sys: 96 ms, total: 14.5 s\n",
      "Wall time: 14.5 s\n"
     ]
    },
    {
     "data": {
      "text/plain": [
       "<1896x6 sparse matrix of type '<type 'numpy.int64'>'\n",
       "\twith 230 stored elements in Compressed Sparse Row format>"
      ]
     },
     "execution_count": 9,
     "metadata": {},
     "output_type": "execute_result"
    }
   ],
   "source": [
    "%time L_train = labeler.apply(split=0)\n",
    "L_train"
   ]
  },
  {
   "cell_type": "code",
   "execution_count": 10,
   "metadata": {},
   "outputs": [
    {
     "data": {
      "text/html": [
       "<div>\n",
       "<style>\n",
       "    .dataframe thead tr:only-child th {\n",
       "        text-align: right;\n",
       "    }\n",
       "\n",
       "    .dataframe thead th {\n",
       "        text-align: left;\n",
       "    }\n",
       "\n",
       "    .dataframe tbody tr th {\n",
       "        vertical-align: top;\n",
       "    }\n",
       "</style>\n",
       "<table border=\"1\" class=\"dataframe\">\n",
       "  <thead>\n",
       "    <tr style=\"text-align: right;\">\n",
       "      <th></th>\n",
       "      <th>j</th>\n",
       "      <th>Coverage</th>\n",
       "      <th>Overlaps</th>\n",
       "      <th>Conflicts</th>\n",
       "    </tr>\n",
       "  </thead>\n",
       "  <tbody>\n",
       "    <tr>\n",
       "      <th>LF_colon</th>\n",
       "      <td>0</td>\n",
       "      <td>0.002110</td>\n",
       "      <td>0.000000</td>\n",
       "      <td>0.0</td>\n",
       "    </tr>\n",
       "    <tr>\n",
       "      <th>LF_known_abs</th>\n",
       "      <td>1</td>\n",
       "      <td>0.079641</td>\n",
       "      <td>0.011603</td>\n",
       "      <td>0.0</td>\n",
       "    </tr>\n",
       "    <tr>\n",
       "      <th>LF_single_letter</th>\n",
       "      <td>2</td>\n",
       "      <td>0.013713</td>\n",
       "      <td>0.000000</td>\n",
       "      <td>0.0</td>\n",
       "    </tr>\n",
       "    <tr>\n",
       "      <th>LF_roman_numeral</th>\n",
       "      <td>3</td>\n",
       "      <td>0.000000</td>\n",
       "      <td>0.000000</td>\n",
       "      <td>0.0</td>\n",
       "    </tr>\n",
       "    <tr>\n",
       "      <th>LF_common_2000</th>\n",
       "      <td>4</td>\n",
       "      <td>0.001582</td>\n",
       "      <td>0.000000</td>\n",
       "      <td>0.0</td>\n",
       "    </tr>\n",
       "    <tr>\n",
       "      <th>LF_same_thing</th>\n",
       "      <td>5</td>\n",
       "      <td>0.024262</td>\n",
       "      <td>0.011603</td>\n",
       "      <td>0.0</td>\n",
       "    </tr>\n",
       "  </tbody>\n",
       "</table>\n",
       "</div>"
      ],
      "text/plain": [
       "                  j  Coverage  Overlaps  Conflicts\n",
       "LF_colon          0  0.002110  0.000000        0.0\n",
       "LF_known_abs      1  0.079641  0.011603        0.0\n",
       "LF_single_letter  2  0.013713  0.000000        0.0\n",
       "LF_roman_numeral  3  0.000000  0.000000        0.0\n",
       "LF_common_2000    4  0.001582  0.000000        0.0\n",
       "LF_same_thing     5  0.024262  0.011603        0.0"
      ]
     },
     "execution_count": 10,
     "metadata": {},
     "output_type": "execute_result"
    }
   ],
   "source": [
    "L_train.lf_stats(session)"
   ]
  },
  {
   "cell_type": "code",
   "execution_count": 11,
   "metadata": {},
   "outputs": [
    {
     "data": {
      "text/plain": [
       "15"
      ]
     },
     "execution_count": 11,
     "metadata": {},
     "output_type": "execute_result"
    }
   ],
   "source": [
    "from snorkel.learning.structure import DependencySelector\n",
    "ds = DependencySelector()\n",
    "deps = ds.select(L_train, threshold=0.1)\n",
    "len(deps)"
   ]
  },
  {
   "cell_type": "code",
   "execution_count": 12,
   "metadata": {},
   "outputs": [
    {
     "data": {
      "text/plain": [
       "{(0, 1, 0),\n",
       " (0, 2, 0),\n",
       " (0, 3, 0),\n",
       " (0, 4, 0),\n",
       " (0, 5, 0),\n",
       " (1, 2, 0),\n",
       " (1, 3, 0),\n",
       " (1, 4, 0),\n",
       " (1, 5, 0),\n",
       " (2, 3, 0),\n",
       " (2, 4, 0),\n",
       " (2, 5, 0),\n",
       " (3, 4, 0),\n",
       " (3, 5, 0),\n",
       " (4, 5, 0)}"
      ]
     },
     "execution_count": 12,
     "metadata": {},
     "output_type": "execute_result"
    }
   ],
   "source": [
    "deps"
   ]
  },
  {
   "cell_type": "code",
   "execution_count": 13,
   "metadata": {
    "collapsed": true
   },
   "outputs": [],
   "source": [
    "deps = set()"
   ]
  },
  {
   "cell_type": "code",
   "execution_count": 14,
   "metadata": {},
   "outputs": [
    {
     "name": "stdout",
     "output_type": "stream",
     "text": [
      "Inferred cardinality: 2\n"
     ]
    }
   ],
   "source": [
    "from snorkel.learning import GenerativeModel\n",
    "\n",
    "gen_model = GenerativeModel(lf_propensity=True)\n",
    "gen_model.train(\n",
    "    L_train, deps=deps, decay=0.95, step_size=0.1/L_train.shape[0], reg_param=0.0\n",
    ")"
   ]
  },
  {
   "cell_type": "code",
   "execution_count": 15,
   "metadata": {
    "collapsed": true
   },
   "outputs": [],
   "source": [
    "train_marginals = gen_model.marginals(L_train)"
   ]
  },
  {
   "cell_type": "code",
   "execution_count": 16,
   "metadata": {},
   "outputs": [
    {
     "data": {
      "image/png": "[encoded data removed]",
      "text/plain": [
       "<matplotlib.figure.Figure at 0x7f06c1acd5d0>"
      ]
     },
     "metadata": {},
     "output_type": "display_data"
    }
   ],
   "source": [
    "import matplotlib.pyplot as plt\n",
    "plt.hist(train_marginals, bins=20)\n",
    "plt.show()"
   ]
  },
  {
   "cell_type": "code",
   "execution_count": 17,
   "metadata": {},
   "outputs": [
    {
     "data": {
      "text/html": [
       "<div>\n",
       "<style>\n",
       "    .dataframe thead tr:only-child th {\n",
       "        text-align: right;\n",
       "    }\n",
       "\n",
       "    .dataframe thead th {\n",
       "        text-align: left;\n",
       "    }\n",
       "\n",
       "    .dataframe tbody tr th {\n",
       "        vertical-align: top;\n",
       "    }\n",
       "</style>\n",
       "<table border=\"1\" class=\"dataframe\">\n",
       "  <thead>\n",
       "    <tr style=\"text-align: right;\">\n",
       "      <th></th>\n",
       "      <th>Accuracy</th>\n",
       "      <th>Coverage</th>\n",
       "      <th>Precision</th>\n",
       "      <th>Recall</th>\n",
       "    </tr>\n",
       "  </thead>\n",
       "  <tbody>\n",
       "    <tr>\n",
       "      <th>0</th>\n",
       "      <td>0.593187</td>\n",
       "      <td>0.4609</td>\n",
       "      <td>0.606166</td>\n",
       "      <td>0.279424</td>\n",
       "    </tr>\n",
       "    <tr>\n",
       "      <th>1</th>\n",
       "      <td>0.619058</td>\n",
       "      <td>0.4754</td>\n",
       "      <td>0.618038</td>\n",
       "      <td>0.297638</td>\n",
       "    </tr>\n",
       "    <tr>\n",
       "      <th>2</th>\n",
       "      <td>0.593716</td>\n",
       "      <td>0.4583</td>\n",
       "      <td>0.587336</td>\n",
       "      <td>0.269215</td>\n",
       "    </tr>\n",
       "    <tr>\n",
       "      <th>3</th>\n",
       "      <td>0.592698</td>\n",
       "      <td>0.4547</td>\n",
       "      <td>0.591801</td>\n",
       "      <td>0.271617</td>\n",
       "    </tr>\n",
       "    <tr>\n",
       "      <th>4</th>\n",
       "      <td>0.584195</td>\n",
       "      <td>0.4543</td>\n",
       "      <td>0.582096</td>\n",
       "      <td>0.266813</td>\n",
       "    </tr>\n",
       "    <tr>\n",
       "      <th>5</th>\n",
       "      <td>0.593166</td>\n",
       "      <td>0.4653</td>\n",
       "      <td>0.596872</td>\n",
       "      <td>0.275020</td>\n",
       "    </tr>\n",
       "  </tbody>\n",
       "</table>\n",
       "</div>"
      ],
      "text/plain": [
       "   Accuracy  Coverage  Precision    Recall\n",
       "0  0.593187    0.4609   0.606166  0.279424\n",
       "1  0.619058    0.4754   0.618038  0.297638\n",
       "2  0.593716    0.4583   0.587336  0.269215\n",
       "3  0.592698    0.4547   0.591801  0.271617\n",
       "4  0.584195    0.4543   0.582096  0.266813\n",
       "5  0.593166    0.4653   0.596872  0.275020"
      ]
     },
     "execution_count": 17,
     "metadata": {},
     "output_type": "execute_result"
    }
   ],
   "source": [
    "gen_model.learned_lf_stats()"
   ]
  },
  {
   "cell_type": "code",
   "execution_count": 18,
   "metadata": {},
   "outputs": [
    {
     "name": "stdout",
     "output_type": "stream",
     "text": [
      "Saved 1896 marginals\n"
     ]
    }
   ],
   "source": [
    "from snorkel.annotations import save_marginals\n",
    "save_marginals(session, L_train, train_marginals)"
   ]
  },
  {
   "cell_type": "code",
   "execution_count": 19,
   "metadata": {},
   "outputs": [
    {
     "name": "stdout",
     "output_type": "stream",
     "text": [
      "Clearing existing...\n",
      "Running UDF...\n",
      "[========================================] 100%%\n",
      "\n"
     ]
    }
   ],
   "source": [
    "L_dev = labeler.apply_existing(split=1)"
   ]
  },
  {
   "cell_type": "code",
   "execution_count": 21,
   "metadata": {},
   "outputs": [
    {
     "name": "stdout",
     "output_type": "stream",
     "text": [
      "28263753::span:1446:1452\n",
      "BiomarkerType(Span(\"RESULTS\", sentence=13475, chars=[0,6], words=[0,0]), Span(\"protein\", sentence=13475, chars=[383,389], words=[67,67]))\n",
      "28263753::span:1446:1452\n",
      "BiomarkerType(Span(\"RESULTS\", sentence=13475, chars=[0,6], words=[0,0]), Span(\"protein\", sentence=13475, chars=[750,756], words=[127,127]))\n",
      "28263753::span:1721:1723\n",
      "BiomarkerType(Span(\"C-C\", sentence=13475, chars=[275,277], words=[52,52]), Span(\"protein\", sentence=13475, chars=[383,389], words=[67,67]))\n",
      "28263753::span:1721:1723\n",
      "BiomarkerType(Span(\"C-C\", sentence=13475, chars=[275,277], words=[52,52]), Span(\"protein\", sentence=13475, chars=[750,756], words=[127,127]))\n",
      "28260718::span:1154:1158\n",
      "BiomarkerType(Span(\"SETD2\", sentence=14876, chars=[54,58], words=[8,8]), Span(\"protein\", sentence=14876, chars=[60,66], words=[9,9]))\n",
      "28263294::span:2097:2102\n",
      "BiomarkerType(Span(\"COL1A1\", sentence=13741, chars=[96,101], words=[15,15]), Span(\"mRNA\", sentence=13741, chars=[123,126], words=[21,21]))\n",
      "28263294::span:2117:2122\n",
      "BiomarkerType(Span(\"COL3A1\", sentence=13741, chars=[116,121], words=[20,20]), Span(\"mRNA\", sentence=13741, chars=[123,126], words=[21,21]))\n",
      "28263294::span:2105:2110\n",
      "BiomarkerType(Span(\"COL1A2\", sentence=13741, chars=[104,109], words=[17,17]), Span(\"mRNA\", sentence=13741, chars=[123,126], words=[21,21]))\n",
      "28263294::span:2035:2040\n",
      "BiomarkerType(Span(\"LTBP-4\", sentence=13741, chars=[34,39], words=[7,7]), Span(\"mRNA\", sentence=13741, chars=[123,126], words=[21,21]))\n",
      "28263981::span:272:275\n",
      "BiomarkerType(Span(\"ESCC\", sentence=13381, chars=[166,169], words=[29,29]), Span(\"protein\", sentence=13381, chars=[27,33], words=[3,3]))\n",
      "28263981::span:161:164\n",
      "BiomarkerType(Span(\"PCLO\", sentence=13381, chars=[55,58], words=[8,8]), Span(\"protein\", sentence=13381, chars=[27,33], words=[3,3]))\n",
      "28263981::span:242:245\n",
      "BiomarkerType(Span(\"ESCC\", sentence=13381, chars=[136,139], words=[21,21]), Span(\"protein\", sentence=13381, chars=[27,33], words=[3,3]))\n",
      "28260796::span:1212:1215\n",
      "BiomarkerType(Span(\"GMDR\", sentence=14817, chars=[129,132], words=[14,14]), Span(\"gene\", sentence=14817, chars=[5,8], words=[0,0]))\n",
      "28263447::span:1328:1329\n",
      "BiomarkerType(Span(\"PC\", sentence=13677, chars=[139,140], words=[25,25]), Span(\"protein\", sentence=13677, chars=[85,91], words=[12,12]))\n",
      "28263447::span:1321:1325\n",
      "BiomarkerType(Span(\"UCPPS\", sentence=13677, chars=[132,136], words=[23,23]), Span(\"protein\", sentence=13677, chars=[85,91], words=[12,12]))\n",
      "28263391::span:534:537\n",
      "BiomarkerType(Span(\"PBX1\", sentence=13718, chars=[127,130], words=[22,22]), Span(\"gene\", sentence=13718, chars=[28,31], words=[5,5]))\n",
      "28263391::span:534:537\n",
      "BiomarkerType(Span(\"PBX1\", sentence=13718, chars=[127,130], words=[22,22]), Span(\"gene\", sentence=13718, chars=[185,188], words=[32,32]))\n",
      "28263391::span:469:471\n",
      "BiomarkerType(Span(\"CUB\", sentence=13718, chars=[62,64], words=[11,11]), Span(\"gene\", sentence=13718, chars=[28,31], words=[5,5]))\n",
      "28263391::span:469:471\n",
      "BiomarkerType(Span(\"CUB\", sentence=13718, chars=[62,64], words=[11,11]), Span(\"gene\", sentence=13718, chars=[185,188], words=[32,32]))\n",
      "28263391::span:688:690\n",
      "BiomarkerType(Span(\"CUB\", sentence=13719, chars=[79,81], words=[10,10]), Span(\"mRNA\", sentence=13719, chars=[0,3], words=[0,0]))\n",
      "28263391::span:809:815\n",
      "BiomarkerType(Span(\"qRT-PCR\", sentence=13720, chars=[35,41], words=[5,5]), Span(\"Gene\", sentence=13720, chars=[0,3], words=[0,0]))\n",
      "28263391::span:932:937\n",
      "BiomarkerType(Span(\"HMGCS2\", sentence=13722, chars=[22,27], words=[3,3]), Span(\"Protein\", sentence=13722, chars=[0,6], words=[0,0]))\n",
      "28263391::span:943:946\n",
      "BiomarkerType(Span(\"PBX1\", sentence=13722, chars=[33,36], words=[5,5]), Span(\"Protein\", sentence=13722, chars=[0,6], words=[0,0]))\n",
      "28263391::span:1003:1006\n",
      "BiomarkerType(Span(\"PBX1\", sentence=13723, chars=[14,17], words=[3,3]), Span(\"gene\", sentence=13723, chars=[27,30], words=[6,6]))\n",
      "28263391::span:1063:1066\n",
      "BiomarkerType(Span(\"PBX1\", sentence=13723, chars=[74,77], words=[12,12]), Span(\"gene\", sentence=13723, chars=[27,30], words=[6,6]))\n",
      "28263391::span:1100:1101\n",
      "BiomarkerType(Span(\"ER\", sentence=13723, chars=[111,112], words=[19,19]), Span(\"gene\", sentence=13723, chars=[27,30], words=[6,6]))\n",
      "28263391::span:1123:1126\n",
      "BiomarkerType(Span(\"PBX1\", sentence=13723, chars=[134,137], words=[24,24]), Span(\"gene\", sentence=13723, chars=[27,30], words=[6,6]))\n",
      "28263391::span:1131:1140\n",
      "BiomarkerType(Span(\"MDA-MB-453\", sentence=13723, chars=[142,151], words=[26,26]), Span(\"gene\", sentence=13723, chars=[27,30], words=[6,6]))\n",
      "28263391::span:1584:1587\n",
      "BiomarkerType(Span(\"PBX1\", sentence=13727, chars=[12,15], words=[1,1]), Span(\"gene\", sentence=13727, chars=[66,69], words=[10,10]))\n",
      "28263391::span:1592:1601\n",
      "BiomarkerType(Span(\"MDA-MB-453\", sentence=13727, chars=[20,29], words=[3,3]), Span(\"gene\", sentence=13727, chars=[66,69], words=[10,10]))\n",
      "28261162::span:525:527\n",
      "BiomarkerType(Span(\"ITS\", sentence=14708, chars=[358,360], words=[56,56]), Span(\"rRNA\", sentence=14708, chars=[230,233], words=[34,34]))\n",
      "28261162::span:525:527\n",
      "BiomarkerType(Span(\"ITS\", sentence=14708, chars=[358,360], words=[56,56]), Span(\"gene\", sentence=14708, chars=[295,298], words=[46,46]))\n",
      "28261162::span:525:527\n",
      "BiomarkerType(Span(\"ITS\", sentence=14708, chars=[358,360], words=[56,56]), Span(\"gene\", sentence=14708, chars=[235,238], words=[35,35]))\n",
      "28261162::span:397:400\n",
      "BiomarkerType(Span(\"rRNA\", sentence=14708, chars=[230,233], words=[34,34]), Span(\"gene\", sentence=14708, chars=[295,298], words=[46,46]))\n",
      "28261162::span:397:400\n",
      "BiomarkerType(Span(\"rRNA\", sentence=14708, chars=[230,233], words=[34,34]), Span(\"gene\", sentence=14708, chars=[235,238], words=[35,35]))\n",
      "28263447::span:1045:1048\n",
      "BiomarkerType(Span(\"VEGF\", sentence=13676, chars=[170,173], words=[31,31]), Span(\"protein\", sentence=13676, chars=[305,311], words=[53,53]))\n",
      "28263447::span:966:969\n",
      "BiomarkerType(Span(\"NGAL\", sentence=13676, chars=[91,94], words=[15,15]), Span(\"protein\", sentence=13676, chars=[305,311], words=[53,53]))\n",
      "28263447::span:1082:1085\n",
      "BiomarkerType(Span(\"NGAL\", sentence=13676, chars=[207,210], words=[41,41]), Span(\"protein\", sentence=13676, chars=[305,311], words=[53,53]))\n",
      "28263447::span:1052:1055\n",
      "BiomarkerType(Span(\"VEGF\", sentence=13676, chars=[177,180], words=[34,34]), Span(\"protein\", sentence=13676, chars=[305,311], words=[53,53]))\n",
      "28263447::span:909:913\n",
      "BiomarkerType(Span(\"MMP-9\", sentence=13676, chars=[34,38], words=[7,7]), Span(\"protein\", sentence=13676, chars=[305,311], words=[53,53]))\n",
      "28263447::span:1069:1075\n",
      "BiomarkerType(Span(\"VEGF-R1\", sentence=13676, chars=[194,200], words=[38,38]), Span(\"protein\", sentence=13676, chars=[305,311], words=[53,53]))\n",
      "28263447::span:901:903\n",
      "BiomarkerType(Span(\"MMP\", sentence=13676, chars=[26,28], words=[3,3]), Span(\"protein\", sentence=13676, chars=[305,311], words=[53,53]))\n",
      "28263447::span:916:920\n",
      "BiomarkerType(Span(\"MMP-9\", sentence=13676, chars=[41,45], words=[9,9]), Span(\"protein\", sentence=13676, chars=[305,311], words=[53,53]))\n",
      "28261562::span:2204:2206\n",
      "BiomarkerType(Span(\"DNA\", sentence=14431, chars=[136,138], words=[20,20]), Span(\"gene\", sentence=14431, chars=[118,121], words=[17,17]))\n",
      "28262744::span:709:711\n",
      "BiomarkerType(Span(\"LBP\", sentence=13905, chars=[82,84], words=[12,12]), Span(\"protein\", sentence=13905, chars=[73,79], words=[10,10]))\n",
      "28262744::span:778:780\n",
      "BiomarkerType(Span(\"AGT\", sentence=13905, chars=[151,153], words=[24,24]), Span(\"protein\", sentence=13905, chars=[73,79], words=[10,10]))\n",
      "28262744::span:750:753\n",
      "BiomarkerType(Span(\"LRG1\", sentence=13905, chars=[123,126], words=[18,18]), Span(\"protein\", sentence=13905, chars=[73,79], words=[10,10]))\n",
      "28262321::span:1767:1769\n",
      "BiomarkerType(Span(\"PCB\", sentence=14079, chars=[304,306], words=[46,46]), Span(\"amino acid\", sentence=14079, chars=[104,113], words=[14,15]))\n",
      "28262321::span:1767:1769\n",
      "BiomarkerType(Span(\"PCB\", sentence=14079, chars=[304,306], words=[46,46]), Span(\"amino acid\", sentence=14079, chars=[152,161], words=[22,23]))\n",
      "28262321::span:1708:1710\n",
      "BiomarkerType(Span(\"FDR\", sentence=14079, chars=[245,247], words=[35,35]), Span(\"amino acid\", sentence=14079, chars=[104,113], words=[14,15]))\n",
      "28262321::span:1708:1710\n",
      "BiomarkerType(Span(\"FDR\", sentence=14079, chars=[245,247], words=[35,35]), Span(\"amino acid\", sentence=14079, chars=[152,161], words=[22,23]))\n",
      "28261562::span:383:385\n",
      "BiomarkerType(Span(\"AML\", sentence=14419, chars=[37,39], words=[7,7]), Span(\"gene\", sentence=14419, chars=[44,47], words=[9,9]))\n",
      "28261562::span:383:385\n",
      "BiomarkerType(Span(\"AML\", sentence=14419, chars=[37,39], words=[7,7]), Span(\"DNA\", sentence=14419, chars=[62,64], words=[12,12]))\n",
      "28261562::span:408:410\n",
      "BiomarkerType(Span(\"DNA\", sentence=14419, chars=[62,64], words=[12,12]), Span(\"gene\", sentence=14419, chars=[44,47], words=[9,9]))\n",
      "28262197::span:948:950\n",
      "BiomarkerType(Span(\"EPO\", sentence=14168, chars=[109,111], words=[21,21]), Span(\"protein\", sentence=14168, chars=[145,151], words=[29,29]))\n",
      "28262197::span:993:995\n"
     ]
    },
    {
     "name": "stdout",
     "output_type": "stream",
     "text": [
      "BiomarkerType(Span(\"CRP\", sentence=14168, chars=[154,156], words=[31,31]), Span(\"protein\", sentence=14168, chars=[145,151], words=[29,29]))\n",
      "28262197::span:898:899\n",
      "BiomarkerType(Span(\"SF\", sentence=14168, chars=[59,60], words=[10,10]), Span(\"protein\", sentence=14168, chars=[145,151], words=[29,29]))\n",
      "28262197::span:1022:1024\n",
      "BiomarkerType(Span(\"TNF\", sentence=14168, chars=[183,185], words=[39,39]), Span(\"protein\", sentence=14168, chars=[145,151], words=[29,29]))\n",
      "28263955::span:422:429\n",
      "BiomarkerType(Span(\"MATERIAL\", sentence=13405, chars=[0,7], words=[0,0]), Span(\"gene\", sentence=13405, chars=[51,54], words=[7,7]))\n",
      "28263955::span:422:429\n",
      "BiomarkerType(Span(\"MATERIAL\", sentence=13405, chars=[0,7], words=[0,0]), Span(\"protein\", sentence=13405, chars=[116,122], words=[17,17]))\n",
      "28263955::span:435:441\n",
      "BiomarkerType(Span(\"METHODS\", sentence=13405, chars=[13,19], words=[2,2]), Span(\"gene\", sentence=13405, chars=[51,54], words=[7,7]))\n",
      "28263955::span:435:441\n",
      "BiomarkerType(Span(\"METHODS\", sentence=13405, chars=[13,19], words=[2,2]), Span(\"protein\", sentence=13405, chars=[116,122], words=[17,17]))\n",
      "28263955::span:431:433\n",
      "BiomarkerType(Span(\"AND\", sentence=13405, chars=[9,11], words=[1,1]), Span(\"gene\", sentence=13405, chars=[51,54], words=[7,7]))\n",
      "28263955::span:431:433\n",
      "BiomarkerType(Span(\"AND\", sentence=13405, chars=[9,11], words=[1,1]), Span(\"protein\", sentence=13405, chars=[116,122], words=[17,17]))\n",
      "28263955::span:559:561\n",
      "BiomarkerType(Span(\"PPI\", sentence=13405, chars=[137,139], words=[20,20]), Span(\"gene\", sentence=13405, chars=[51,54], words=[7,7]))\n",
      "28263955::span:559:561\n",
      "BiomarkerType(Span(\"PPI\", sentence=13405, chars=[137,139], words=[20,20]), Span(\"protein\", sentence=13405, chars=[116,122], words=[17,17]))\n",
      "28263294::span:466:468\n",
      "BiomarkerType(Span(\"ECM\", sentence=13732, chars=[149,151], words=[24,24]), Span(\"protein\", sentence=13732, chars=[179,185], words=[29,29]))\n",
      "28263294::span:354:357\n",
      "BiomarkerType(Span(\"SMAD\", sentence=13732, chars=[37,40], words=[7,7]), Span(\"protein\", sentence=13732, chars=[179,185], words=[29,29]))\n",
      "28263294::span:556:558\n",
      "BiomarkerType(Span(\"ECM\", sentence=13732, chars=[239,241], words=[41,41]), Span(\"protein\", sentence=13732, chars=[179,185], words=[29,29]))\n",
      "28263294::span:507:512\n",
      "BiomarkerType(Span(\"LTBP-4\", sentence=13732, chars=[190,195], words=[32,32]), Span(\"protein\", sentence=13732, chars=[179,185], words=[29,29]))\n",
      "28263676::span:671:678\n",
      "BiomarkerType(Span(\"EXPOSE-E\", sentence=13519, chars=[74,81], words=[12,12]), Span(\"gene\", sentence=13519, chars=[161,164], words=[23,23]))\n",
      "28261350::span:780:783\n",
      "BiomarkerType(Span(\"KEGG\", sentence=14490, chars=[0,3], words=[0,0]), Span(\"protein\", sentence=14490, chars=[187,193], words=[29,29]))\n",
      "28261350::span:898:900\n",
      "BiomarkerType(Span(\"DCN\", sentence=14490, chars=[118,120], words=[18,18]), Span(\"protein\", sentence=14490, chars=[187,193], words=[29,29]))\n",
      "28261350::span:906:910\n",
      "BiomarkerType(Span(\"HSPD1\", sentence=14490, chars=[126,130], words=[20,20]), Span(\"protein\", sentence=14490, chars=[187,193], words=[29,29]))\n",
      "28263535::span:1596:1601\n",
      "BiomarkerType(Span(\"CYP2C6\", sentence=13578, chars=[59,64], words=[11,11]), Span(\"enzyme\", sentence=13578, chars=[31,36], words=[5,5]))\n",
      "28263535::span:1596:1601\n",
      "BiomarkerType(Span(\"CYP2C6\", sentence=13578, chars=[59,64], words=[11,11]), Span(\"enzyme\", sentence=13578, chars=[4,9], words=[1,1]))\n",
      "28263231::span:1061:1064\n",
      "BiomarkerType(Span(\"cKIT\", sentence=13753, chars=[112,115], words=[26,26]), Span(\"Protein\", sentence=13753, chars=[0,6], words=[0,0]))\n",
      "28263231::span:1049:1052\n",
      "BiomarkerType(Span(\"cMET\", sentence=13753, chars=[100,103], words=[20,20]), Span(\"Protein\", sentence=13753, chars=[0,6], words=[0,0]))\n",
      "28263535::span:1410:1416\n",
      "BiomarkerType(Span(\"CYP2C11\", sentence=13577, chars=[17,23], words=[3,3]), Span(\"protein\", sentence=13577, chars=[25,31], words=[4,4]))\n",
      "28263535::span:1410:1416\n",
      "BiomarkerType(Span(\"CYP2C11\", sentence=13577, chars=[17,23], words=[3,3]), Span(\"enzyme\", sentence=13577, chars=[84,89], words=[16,16]))\n",
      "28263504::span:40:44\n",
      "BiomarkerType(Span(\"CYR61\", sentence=13629, chars=[40,44], words=[6,6]), Span(\"gene\", sentence=13629, chars=[47,50], words=[8,8]))\n",
      "28263504::span:324:328\n",
      "BiomarkerType(Span(\"CYR61\", sentence=13632, chars=[41,45], words=[8,8]), Span(\"gene\", sentence=13632, chars=[47,50], words=[9,9]))\n",
      "28263001::span:531:533\n",
      "BiomarkerType(Span(\"ERT\", sentence=13825, chars=[28,30], words=[4,4]), Span(\"Enzyme\", sentence=13825, chars=[0,5], words=[0,0]))\n",
      "28261953::span:575:580\n",
      "BiomarkerType(Span(\"RT-PCR\", sentence=14263, chars=[130,135], words=[21,21]), Span(\"protein\", sentence=14263, chars=[106,112], words=[18,18]))\n",
      "28261953::span:575:580\n",
      "BiomarkerType(Span(\"RT-PCR\", sentence=14263, chars=[130,135], words=[21,21]), Span(\"mRNA\", sentence=14263, chars=[97,100], words=[16,16]))\n",
      "28261953::span:626:628\n",
      "BiomarkerType(Span(\"CRC\", sentence=14263, chars=[181,183], words=[27,27]), Span(\"protein\", sentence=14263, chars=[106,112], words=[18,18]))\n",
      "28261953::span:626:628\n",
      "BiomarkerType(Span(\"CRC\", sentence=14263, chars=[181,183], words=[27,27]), Span(\"mRNA\", sentence=14263, chars=[97,100], words=[16,16]))\n",
      "28261953::span:542:545\n",
      "BiomarkerType(Span(\"mRNA\", sentence=14263, chars=[97,100], words=[16,16]), Span(\"protein\", sentence=14263, chars=[106,112], words=[18,18]))\n",
      "28261953::span:526:530\n",
      "BiomarkerType(Span(\"CD133\", sentence=14263, chars=[81,85], words=[13,13]), Span(\"protein\", sentence=14263, chars=[106,112], words=[18,18]))\n",
      "28261953::span:526:530\n",
      "BiomarkerType(Span(\"CD133\", sentence=14263, chars=[81,85], words=[13,13]), Span(\"mRNA\", sentence=14263, chars=[97,100], words=[16,16]))\n",
      "28261953::span:861:863\n",
      "BiomarkerType(Span(\"CRC\", sentence=14265, chars=[75,77], words=[14,14]), Span(\"mRNA\", sentence=14265, chars=[55,58], words=[10,10]))\n",
      "28261953::span:861:863\n",
      "BiomarkerType(Span(\"CRC\", sentence=14265, chars=[75,77], words=[14,14]), Span(\"protein\", sentence=14265, chars=[64,70], words=[12,12]))\n",
      "28261953::span:841:844\n",
      "BiomarkerType(Span(\"mRNA\", sentence=14265, chars=[55,58], words=[10,10]), Span(\"protein\", sentence=14265, chars=[64,70], words=[12,12]))\n",
      "28261953::span:825:829\n",
      "BiomarkerType(Span(\"CD133\", sentence=14265, chars=[39,43], words=[7,7]), Span(\"mRNA\", sentence=14265, chars=[55,58], words=[10,10]))\n",
      "28261953::span:825:829\n",
      "BiomarkerType(Span(\"CD133\", sentence=14265, chars=[39,43], words=[7,7]), Span(\"protein\", sentence=14265, chars=[64,70], words=[12,12]))\n",
      "28261953::span:1174:1177\n",
      "BiomarkerType(Span(\"mRNA\", sentence=14267, chars=[155,158], words=[25,25]), Span(\"protein\", sentence=14267, chars=[164,170], words=[27,27]))\n",
      "28262130::span:245:246\n",
      "BiomarkerType(Span(\"OS\", sentence=14187, chars=[170,171], words=[30,30]), Span(\"enzyme\", sentence=14187, chars=[45,50], words=[9,9]))\n",
      "28262130::span:75:83\n",
      "BiomarkerType(Span(\"OBJECTIVE\", sentence=14187, chars=[0,8], words=[0,0]), Span(\"enzyme\", sentence=14187, chars=[45,50], words=[9,9]))\n",
      "28260162::span:618:624\n",
      "BiomarkerType(Span(\"METHODS\", sentence=15045, chars=[0,6], words=[0,0]), Span(\"protein\", sentence=15045, chars=[17,23], words=[3,3]))\n",
      "28261345::span:1222:1223\n",
      "BiomarkerType(Span(\"TS\", sentence=14516, chars=[217,218], words=[39,39]), Span(\"mRNA\", sentence=14516, chars=[122,125], words=[23,23]))\n",
      "28261345::span:1159:1163\n",
      "BiomarkerType(Span(\"BRCA1\", sentence=14516, chars=[154,158], words=[27,27]), Span(\"mRNA\", sentence=14516, chars=[122,125], words=[23,23]))\n",
      "28261345::span:1082:1084\n",
      "BiomarkerType(Span(\"III\", sentence=14516, chars=[77,79], words=[15,15]), Span(\"mRNA\", sentence=14516, chars=[122,125], words=[23,23]))\n",
      "28261345::span:1276:1280\n",
      "BiomarkerType(Span(\"BRCA1\", sentence=14516, chars=[271,275], words=[50,50]), Span(\"mRNA\", sentence=14516, chars=[122,125], words=[23,23]))\n",
      "28261345::span:1359:1363\n",
      "BiomarkerType(Span(\"TOPO1\", sentence=14516, chars=[354,358], words=[70,70]), Span(\"mRNA\", sentence=14516, chars=[122,125], words=[23,23]))\n",
      "28263535::span:1663:1669\n",
      "BiomarkerType(Span(\"CYP2C11\", sentence=13579, chars=[4,10], words=[1,1]), Span(\"protein\", sentence=13579, chars=[12,18], words=[2,2]))\n",
      "28263535::span:1759:1761\n",
      "BiomarkerType(Span(\"EE2\", sentence=13579, chars=[100,102], words=[16,16]), Span(\"protein\", sentence=13579, chars=[12,18], words=[2,2]))\n",
      "28263489::span:1305:1308\n",
      "BiomarkerType(Span(\"mRNA\", sentence=13664, chars=[22,25], words=[4,4]), Span(\"DNA\", sentence=13664, chars=[128,130], words=[20,20]))\n",
      "28263489::span:1283:1292\n",
      "BiomarkerType(Span(\"CONCLUSION\", sentence=13664, chars=[0,9], words=[0,0]), Span(\"mRNA\", sentence=13664, chars=[22,25], words=[4,4]))\n",
      "28263489::span:1283:1292\n",
      "BiomarkerType(Span(\"CONCLUSION\", sentence=13664, chars=[0,9], words=[0,0]), Span(\"DNA\", sentence=13664, chars=[128,130], words=[20,20]))\n",
      "28263489::span:1411:1413\n",
      "BiomarkerType(Span(\"DNA\", sentence=13664, chars=[128,130], words=[20,20]), Span(\"mRNA\", sentence=13664, chars=[22,25], words=[4,4]))\n",
      "28263535::span:2007:2011\n",
      "BiomarkerType(Span(\"CYP3A\", sentence=13581, chars=[34,38], words=[6,6]), Span(\"protein\", sentence=13581, chars=[40,46], words=[7,7]))\n",
      "28263535::span:2007:2011\n",
      "BiomarkerType(Span(\"CYP3A\", sentence=13581, chars=[34,38], words=[6,6]), Span(\"enzyme\", sentence=13581, chars=[94,99], words=[18,18]))\n"
     ]
    },
    {
     "name": "stdout",
     "output_type": "stream",
     "text": [
      "28263535::span:2200:2204\n",
      "BiomarkerType(Span(\"CYP3A\", sentence=13582, chars=[45,49], words=[10,10]), Span(\"enzyme\", sentence=13582, chars=[70,75], words=[14,14]))\n",
      "28263535::span:2257:2259\n",
      "BiomarkerType(Span(\"EE2\", sentence=13582, chars=[102,104], words=[19,19]), Span(\"enzyme\", sentence=13582, chars=[70,75], words=[14,14]))\n",
      "28263860::span:553:556\n",
      "BiomarkerType(Span(\"TSPO\", sentence=13446, chars=[62,65], words=[10,10]), Span(\"protein\", sentence=13446, chars=[83,89], words=[15,15]))\n",
      "28263860::span:618:621\n",
      "BiomarkerType(Span(\"TSPO\", sentence=13446, chars=[127,130], words=[21,21]), Span(\"protein\", sentence=13446, chars=[83,89], words=[15,15]))\n",
      "28263860::span:495:499\n",
      "BiomarkerType(Span(\"PBR-S\", sentence=13446, chars=[4,8], words=[1,1]), Span(\"protein\", sentence=13446, chars=[83,89], words=[15,15]))\n",
      "28262617::span:495:497\n",
      "BiomarkerType(Span(\"GEO\", sentence=13967, chars=[124,126], words=[18,18]), Span(\"microRNA\", sentence=13967, chars=[37,44], words=[6,6]))\n",
      "28262617::span:509:516\n",
      "BiomarkerType(Span(\"GSE26323\", sentence=13967, chars=[138,145], words=[21,21]), Span(\"microRNA\", sentence=13967, chars=[37,44], words=[6,6]))\n",
      "28262617::span:441:443\n",
      "BiomarkerType(Span(\"HCC\", sentence=13967, chars=[70,72], words=[10,10]), Span(\"microRNA\", sentence=13967, chars=[37,44], words=[6,6]))\n",
      "28263432::span:1383:1386\n",
      "BiomarkerType(Span(\"iNOS\", sentence=13697, chars=[162,165], words=[23,23]), Span(\"DNA\", sentence=13697, chars=[67,69], words=[9,9]))\n",
      "28263504::span:1186:1195\n",
      "BiomarkerType(Span(\"CONCLUSION\", sentence=13638, chars=[0,9], words=[0,0]), Span(\"gene\", sentence=13638, chars=[50,53], words=[9,9]))\n",
      "28263504::span:1230:1234\n",
      "BiomarkerType(Span(\"CYR61\", sentence=13638, chars=[44,48], words=[8,8]), Span(\"gene\", sentence=13638, chars=[50,53], words=[9,9]))\n",
      "28263971::span:1560:1563\n",
      "BiomarkerType(Span(\"mRNA\", sentence=13397, chars=[120,123], words=[18,18]), Span(\"protein\", sentence=13397, chars=[206,212], words=[39,39]))\n",
      "28263971::span:1629:1631\n",
      "BiomarkerType(Span(\"TNF\", sentence=13397, chars=[189,191], words=[33,33]), Span(\"protein\", sentence=13397, chars=[206,212], words=[39,39]))\n",
      "28263971::span:1629:1631\n",
      "BiomarkerType(Span(\"TNF\", sentence=13397, chars=[189,191], words=[33,33]), Span(\"mRNA\", sentence=13397, chars=[120,123], words=[18,18]))\n",
      "28263971::span:1598:1600\n",
      "BiomarkerType(Span(\"IFN\", sentence=13397, chars=[158,160], words=[24,24]), Span(\"protein\", sentence=13397, chars=[206,212], words=[39,39]))\n",
      "28263971::span:1598:1600\n",
      "BiomarkerType(Span(\"IFN\", sentence=13397, chars=[158,160], words=[24,24]), Span(\"mRNA\", sentence=13397, chars=[120,123], words=[18,18]))\n",
      "28261201::span:131:133\n",
      "BiomarkerType(Span(\"RNA\", sentence=14647, chars=[62,64], words=[11,11]), Span(\"gene\", sentence=14647, chars=[164,167], words=[24,24]))\n",
      "28261204::span:389:392\n",
      "BiomarkerType(Span(\"GARP\", sentence=14638, chars=[50,53], words=[7,7]), Span(\"glycoprotein\", sentence=14638, chars=[10,21], words=[2,2]))\n",
      "28261204::span:389:392\n",
      "BiomarkerType(Span(\"GARP\", sentence=14638, chars=[50,53], words=[7,7]), Span(\"protein\", sentence=14638, chars=[73,79], words=[12,12]))\n",
      "28264063::span:953:956\n",
      "BiomarkerType(Span(\"GFAP\", sentence=13323, chars=[78,81], words=[10,10]), Span(\"protein\", sentence=13323, chars=[69,75], words=[8,8]))\n",
      "28260919::span:48:51\n",
      "BiomarkerType(Span(\"UBC1\", sentence=14767, chars=[48,51], words=[7,7]), Span(\"RNA\", sentence=14767, chars=[38,40], words=[5,5]))\n",
      "28260919::span:882:885\n",
      "BiomarkerType(Span(\"UBC1\", sentence=14772, chars=[42,45], words=[7,7]), Span(\"RNA\", sentence=14772, chars=[209,211], words=[33,33]))\n",
      "28260919::span:1023:1026\n",
      "BiomarkerType(Span(\"UBC1\", sentence=14772, chars=[183,186], words=[29,29]), Span(\"RNA\", sentence=14772, chars=[209,211], words=[33,33]))\n",
      "28263860::span:170:173\n",
      "BiomarkerType(Span(\"TSPO\", sentence=13444, chars=[66,69], words=[9,9]), Span(\"protein\", sentence=13444, chars=[53,59], words=[7,7]))\n",
      "28263860::span:406:409\n",
      "BiomarkerType(Span(\"TSPO\", sentence=13445, chars=[8,11], words=[1,1]), Span(\"gene\", sentence=13445, chars=[13,16], words=[2,2]))\n",
      "28263860::span:471:475\n",
      "BiomarkerType(Span(\"PBR-S\", sentence=13445, chars=[73,77], words=[13,13]), Span(\"gene\", sentence=13445, chars=[13,16], words=[2,2]))\n",
      "28261345::span:1805:1806\n",
      "BiomarkerType(Span(\"CI\", sentence=14518, chars=[135,136], words=[27,27]), Span(\"gene\", sentence=14518, chars=[91,94], words=[15,15]))\n",
      "28261345::span:1777:1778\n",
      "BiomarkerType(Span(\"HR\", sentence=14518, chars=[107,108], words=[18,18]), Span(\"gene\", sentence=14518, chars=[91,94], words=[15,15]))\n",
      "28261562::span:508:510\n",
      "BiomarkerType(Span(\"AML\", sentence=14420, chars=[83,85], words=[13,13]), Span(\"DNA\", sentence=14420, chars=[160,162], words=[29,29]))\n",
      "28263860::span:642:646\n",
      "BiomarkerType(Span(\"PBR-S\", sentence=13447, chars=[18,22], words=[4,4]), Span(\"protein\", sentence=13447, chars=[24,30], words=[5,5]))\n",
      "28263231::span:1647:1650\n",
      "BiomarkerType(Span(\"BCRP\", sentence=13758, chars=[72,75], words=[11,11]), Span(\"protein\", sentence=13758, chars=[34,40], words=[4,4]))\n",
      "28263231::span:1657:1660\n",
      "BiomarkerType(Span(\"MRP1\", sentence=13758, chars=[82,85], words=[15,15]), Span(\"protein\", sentence=13758, chars=[34,40], words=[4,4]))\n",
      "28263231::span:1667:1669\n",
      "BiomarkerType(Span(\"PGP\", sentence=13758, chars=[92,94], words=[19,19]), Span(\"protein\", sentence=13758, chars=[34,40], words=[4,4]))\n",
      "28261562::span:942:943\n",
      "BiomarkerType(Span(\"H3\", sentence=14423, chars=[92,93], words=[13,13]), Span(\"gene\", sentence=14423, chars=[120,123], words=[21,21]))\n",
      "28261562::span:871:874\n",
      "BiomarkerType(Span(\"EZH2\", sentence=14423, chars=[21,24], words=[3,3]), Span(\"gene\", sentence=14423, chars=[120,123], words=[21,21]))\n",
      "28261562::span:1931:1933\n",
      "BiomarkerType(Span(\"RNA\", sentence=14429, chars=[124,126], words=[20,20]), Span(\"gene\", sentence=14429, chars=[53,56], words=[9,9]))\n",
      "28261562::span:2388:2390\n",
      "BiomarkerType(Span(\"AML\", sentence=14432, chars=[118,120], words=[17,17]), Span(\"DNA\", sentence=14432, chars=[10,12], words=[1,1]))\n",
      "28261684::span:908:911\n",
      "BiomarkerType(Span(\"SYBR\", sentence=14407, chars=[7,10], words=[1,1]), Span(\"mRNA\", sentence=14407, chars=[66,69], words=[13,13]))\n",
      "28261684::span:901:906\n",
      "BiomarkerType(Span(\"TAKARA\", sentence=14407, chars=[0,5], words=[0,0]), Span(\"mRNA\", sentence=14407, chars=[66,69], words=[13,13]))\n",
      "28261684::span:1023:1025\n",
      "BiomarkerType(Span(\"PCR\", sentence=14407, chars=[122,124], words=[21,21]), Span(\"mRNA\", sentence=14407, chars=[66,69], words=[13,13]))\n",
      "28262740::span:410:413\n",
      "BiomarkerType(Span(\"TSPO\", sentence=13912, chars=[110,113], words=[19,19]), Span(\"protein\", sentence=13912, chars=[70,76], words=[10,10]))\n",
      "28262740::span:379:382\n",
      "BiomarkerType(Span(\"TSPO\", sentence=13912, chars=[79,82], words=[12,12]), Span(\"protein\", sentence=13912, chars=[70,76], words=[10,10]))\n",
      "28263860::span:834:838\n",
      "BiomarkerType(Span(\"PBR-S\", sentence=13448, chars=[114,118], words=[18,18]), Span(\"protein\", sentence=13448, chars=[61,67], words=[10,10]))\n",
      "28263860::span:855:858\n",
      "BiomarkerType(Span(\"TSPO\", sentence=13448, chars=[135,138], words=[22,22]), Span(\"protein\", sentence=13448, chars=[61,67], words=[10,10]))\n",
      "28261684::span:492:495\n",
      "BiomarkerType(Span(\"ZEB1\", sentence=14404, chars=[97,100], words=[19,19]), Span(\"mRNA\", sentence=14404, chars=[149,152], words=[28,28]))\n",
      "28262114::span:138:140\n",
      "BiomarkerType(Span(\"RNA\", sentence=14200, chars=[49,51], words=[10,10]), Span(\"protein\", sentence=14200, chars=[106,112], words=[20,20]))\n",
      "28262130::span:1427:1429\n",
      "BiomarkerType(Span(\"GAD\", sentence=14197, chars=[84,86], words=[18,18]), Span(\"enzyme\", sentence=14197, chars=[30,35], words=[7,7]))\n",
      "28263455::span:140:142\n",
      "BiomarkerType(Span(\"HCV\", sentence=13666, chars=[66,68], words=[11,11]), Span(\"virus\", sentence=13666, chars=[59,63], words=[9,9]))\n",
      "28263922::span:250:250\n",
      "BiomarkerType(Span(\"T\", sentence=13429, chars=[134,134], words=[17,17]), Span(\"translocation\", sentence=13429, chars=[57,69], words=[7,7]))\n",
      "28263489::span:0:2\n",
      "BiomarkerType(Span(\"HPV\", sentence=13650, chars=[0,2], words=[0,0]), Span(\"mRNA\", sentence=13650, chars=[20,23], words=[4,4]))\n",
      "28260536::span:946:949\n",
      "BiomarkerType(Span(\"STEC\", sentence=14960, chars=[89,92], words=[14,14]), Span(\"gene\", sentence=14960, chars=[47,50], words=[7,7]))\n",
      "28260536::span:1090:1093\n",
      "BiomarkerType(Span(\"STEC\", sentence=14960, chars=[233,236], words=[35,35]), Span(\"gene\", sentence=14960, chars=[47,50], words=[7,7]))\n",
      "28261199::span:1381:1384\n",
      "BiomarkerType(Span(\"pPKA\", sentence=14663, chars=[77,80], words=[10,10]), Span(\"protein\", sentence=14663, chars=[61,67], words=[7,7]))\n",
      "28261199::span:1381:1384\n",
      "BiomarkerType(Span(\"pPKA\", sentence=14663, chars=[77,80], words=[10,10]), Span(\"protein\", sentence=14663, chars=[142,148], words=[20,20]))\n",
      "28261199::span:1455:1458\n",
      "BiomarkerType(Span(\"CREB\", sentence=14663, chars=[151,154], words=[22,22]), Span(\"protein\", sentence=14663, chars=[61,67], words=[7,7]))\n",
      "28261199::span:1455:1458\n",
      "BiomarkerType(Span(\"CREB\", sentence=14663, chars=[151,154], words=[22,22]), Span(\"protein\", sentence=14663, chars=[142,148], words=[20,20]))\n",
      "28262744::span:874:877\n",
      "BiomarkerType(Span(\"RBP4\", sentence=13906, chars=[53,56], words=[10,10]), Span(\"protein\", sentence=13906, chars=[42,48], words=[7,7]))\n",
      "28263489::span:865:867\n",
      "BiomarkerType(Span(\"DNA\", sentence=13657, chars=[60,62], words=[10,10]), Span(\"mRNA\", sentence=13657, chars=[74,77], words=[13,13]))\n",
      "28263489::span:815:817\n",
      "BiomarkerType(Span(\"PCR\", sentence=13657, chars=[10,12], words=[1,1]), Span(\"mRNA\", sentence=13657, chars=[74,77], words=[13,13]))\n",
      "28263489::span:815:817\n",
      "BiomarkerType(Span(\"PCR\", sentence=13657, chars=[10,12], words=[1,1]), Span(\"DNA\", sentence=13657, chars=[60,62], words=[10,10]))\n",
      "28263489::span:879:882\n",
      "BiomarkerType(Span(\"mRNA\", sentence=13657, chars=[74,77], words=[13,13]), Span(\"DNA\", sentence=13657, chars=[60,62], words=[10,10]))\n",
      "28263489::span:823:827\n",
      "BiomarkerType(Span(\"NASBA\", sentence=13657, chars=[18,22], words=[3,3]), Span(\"mRNA\", sentence=13657, chars=[74,77], words=[13,13]))\n",
      "28263489::span:823:827\n",
      "BiomarkerType(Span(\"NASBA\", sentence=13657, chars=[18,22], words=[3,3]), Span(\"DNA\", sentence=13657, chars=[60,62], words=[10,10]))\n",
      "28263489::span:861:863\n",
      "BiomarkerType(Span(\"HPV\", sentence=13657, chars=[56,58], words=[9,9]), Span(\"mRNA\", sentence=13657, chars=[74,77], words=[13,13]))\n",
      "28263489::span:861:863\n",
      "BiomarkerType(Span(\"HPV\", sentence=13657, chars=[56,58], words=[9,9]), Span(\"DNA\", sentence=13657, chars=[60,62], words=[10,10]))\n",
      "28263489::span:908:910\n",
      "BiomarkerType(Span(\"HPV\", sentence=13658, chars=[9,11], words=[2,2]), Span(\"DNA\", sentence=13658, chars=[13,15], words=[3,3]))\n",
      "28263489::span:899:905\n",
      "BiomarkerType(Span(\"RESULTS\", sentence=13658, chars=[0,6], words=[0,0]), Span(\"DNA\", sentence=13658, chars=[13,15], words=[3,3]))\n",
      "28263489::span:954:956\n",
      "BiomarkerType(Span(\"HPV\", sentence=13659, chars=[0,2], words=[0,0]), Span(\"mRNA\", sentence=13659, chars=[10,13], words=[2,2]))\n",
      "28263489::span:1165:1167\n",
      "BiomarkerType(Span(\"HPV\", sentence=13662, chars=[0,2], words=[0,0]), Span(\"DNA\", sentence=13662, chars=[4,6], words=[1,1]))\n",
      "28261345::span:791:794\n",
      "BiomarkerType(Span(\"mRNA\", sentence=14515, chars=[0,3], words=[0,0]), Span(\"gene\", sentence=14515, chars=[198,201], words=[40,40]))\n",
      "28260718::span:217:221\n",
      "BiomarkerType(Span(\"SETD2\", sentence=14868, chars=[83,87], words=[11,11]), Span(\"gene\", sentence=14868, chars=[78,81], words=[10,10]))\n",
      "28260718::span:217:221\n",
      "BiomarkerType(Span(\"SETD2\", sentence=14868, chars=[83,87], words=[11,11]), Span(\"gene\", sentence=14868, chars=[124,127], words=[18,18]))\n",
      "28260718::span:217:221\n",
      "BiomarkerType(Span(\"SETD2\", sentence=14868, chars=[83,87], words=[11,11]), Span(\"DNA\", sentence=14868, chars=[30,32], words=[4,4]))\n",
      "28260718::span:164:166\n",
      "BiomarkerType(Span(\"DNA\", sentence=14868, chars=[30,32], words=[4,4]), Span(\"gene\", sentence=14868, chars=[78,81], words=[10,10]))\n",
      "28260718::span:164:166\n",
      "BiomarkerType(Span(\"DNA\", sentence=14868, chars=[30,32], words=[4,4]), Span(\"gene\", sentence=14868, chars=[124,127], words=[18,18]))\n",
      "28260718::span:848:852\n",
      "BiomarkerType(Span(\"SETD2\", sentence=14874, chars=[4,8], words=[1,1]), Span(\"gene\", sentence=14874, chars=[91,94], words=[17,17]))\n",
      "28260718::span:848:852\n",
      "BiomarkerType(Span(\"SETD2\", sentence=14874, chars=[4,8], words=[1,1]), Span(\"protein\", sentence=14874, chars=[10,16], words=[2,2]))\n",
      "28260718::span:848:852\n",
      "BiomarkerType(Span(\"SETD2\", sentence=14874, chars=[4,8], words=[1,1]), Span(\"mutation\", sentence=14874, chars=[105,112], words=[19,19]))\n",
      "28260718::span:929:933\n",
      "BiomarkerType(Span(\"SETD2\", sentence=14874, chars=[85,89], words=[16,16]), Span(\"gene\", sentence=14874, chars=[91,94], words=[17,17]))\n",
      "28260718::span:929:933\n",
      "BiomarkerType(Span(\"SETD2\", sentence=14874, chars=[85,89], words=[16,16]), Span(\"protein\", sentence=14874, chars=[10,16], words=[2,2]))\n",
      "28260718::span:929:933\n",
      "BiomarkerType(Span(\"SETD2\", sentence=14874, chars=[85,89], words=[16,16]), Span(\"mutation\", sentence=14874, chars=[105,112], words=[19,19]))\n",
      "28260718::span:981:985\n"
     ]
    },
    {
     "name": "stdout",
     "output_type": "stream",
     "text": [
      "BiomarkerType(Span(\"SETD2\", sentence=14875, chars=[17,21], words=[3,3]), Span(\"protein\", sentence=14875, chars=[23,29], words=[4,4]))\n",
      "28260718::span:1371:1375\n",
      "BiomarkerType(Span(\"SETD2\", sentence=14877, chars=[116,120], words=[20,20]), Span(\"mRNA\", sentence=14877, chars=[122,125], words=[21,21]))\n",
      "28260718::span:1759:1763\n",
      "BiomarkerType(Span(\"SETD2\", sentence=14878, chars=[256,260], words=[41,41]), Span(\"protein\", sentence=14878, chars=[112,118], words=[18,18]))\n",
      "28260718::span:1759:1763\n",
      "BiomarkerType(Span(\"SETD2\", sentence=14878, chars=[256,260], words=[41,41]), Span(\"protein\", sentence=14878, chars=[73,79], words=[11,11]))\n",
      "28260718::span:1609:1613\n",
      "BiomarkerType(Span(\"SETD2\", sentence=14878, chars=[106,110], words=[17,17]), Span(\"protein\", sentence=14878, chars=[112,118], words=[18,18]))\n",
      "28260718::span:1609:1613\n",
      "BiomarkerType(Span(\"SETD2\", sentence=14878, chars=[106,110], words=[17,17]), Span(\"protein\", sentence=14878, chars=[73,79], words=[11,11]))\n",
      "28260718::span:1570:1574\n",
      "BiomarkerType(Span(\"SETD2\", sentence=14878, chars=[67,71], words=[10,10]), Span(\"protein\", sentence=14878, chars=[112,118], words=[18,18]))\n",
      "28260718::span:1570:1574\n",
      "BiomarkerType(Span(\"SETD2\", sentence=14878, chars=[67,71], words=[10,10]), Span(\"protein\", sentence=14878, chars=[73,79], words=[11,11]))\n",
      "28260756::span:132:134\n",
      "BiomarkerType(Span(\"CRP\", sentence=14857, chars=[20,22], words=[3,3]), Span(\"protein\", sentence=14857, chars=[11,17], words=[1,1]))\n",
      "28260649::span:534:535\n",
      "BiomarkerType(Span(\"OS\", sentence=14922, chars=[124,125], words=[19,19]), Span(\"virus\", sentence=14922, chars=[157,161], words=[26,26]))\n",
      "28260649::span:574:576\n",
      "BiomarkerType(Span(\"HBV\", sentence=14922, chars=[164,166], words=[28,28]), Span(\"virus\", sentence=14922, chars=[157,161], words=[26,26]))\n",
      "28260649::span:596:598\n",
      "BiomarkerType(Span(\"HCC\", sentence=14922, chars=[186,188], words=[33,33]), Span(\"virus\", sentence=14922, chars=[157,161], words=[26,26]))\n",
      "28263504::span:482:486\n",
      "BiomarkerType(Span(\"CYR61\", sentence=13633, chars=[62,66], words=[10,10]), Span(\"gene\", sentence=13633, chars=[68,71], words=[11,11]))\n",
      "28263504::span:420:428\n",
      "BiomarkerType(Span(\"MATERIALS\", sentence=13633, chars=[0,8], words=[0,0]), Span(\"gene\", sentence=13633, chars=[68,71], words=[11,11]))\n",
      "28263504::span:434:440\n",
      "BiomarkerType(Span(\"METHODS\", sentence=13633, chars=[14,20], words=[2,2]), Span(\"gene\", sentence=13633, chars=[68,71], words=[11,11]))\n",
      "28263504::span:430:432\n",
      "BiomarkerType(Span(\"AND\", sentence=13633, chars=[10,12], words=[1,1]), Span(\"gene\", sentence=13633, chars=[68,71], words=[11,11]))\n",
      "28263504::span:609:613\n",
      "BiomarkerType(Span(\"CYR61\", sentence=13634, chars=[82,86], words=[21,21]), Span(\"DNA\", sentence=13634, chars=[140,142], words=[32,32]))\n",
      "28263504::span:609:613\n",
      "BiomarkerType(Span(\"CYR61\", sentence=13634, chars=[82,86], words=[21,21]), Span(\"gene\", sentence=13634, chars=[88,91], words=[22,22]))\n",
      "28263504::span:667:669\n",
      "BiomarkerType(Span(\"DNA\", sentence=13634, chars=[140,142], words=[32,32]), Span(\"gene\", sentence=13634, chars=[88,91], words=[22,22]))\n",
      "28263504::span:646:653\n",
      "BiomarkerType(Span(\"PCR-SSCP\", sentence=13634, chars=[119,126], words=[29,29]), Span(\"DNA\", sentence=13634, chars=[140,142], words=[32,32]))\n",
      "28263504::span:646:653\n",
      "BiomarkerType(Span(\"PCR-SSCP\", sentence=13634, chars=[119,126], words=[29,29]), Span(\"gene\", sentence=13634, chars=[88,91], words=[22,22]))\n",
      "28263504::span:712:716\n",
      "BiomarkerType(Span(\"CYR61\", sentence=13635, chars=[29,33], words=[5,5]), Span(\"gene\", sentence=13635, chars=[35,38], words=[6,6]))\n",
      "28263504::span:683:689\n",
      "BiomarkerType(Span(\"RESULTS\", sentence=13635, chars=[0,6], words=[0,0]), Span(\"gene\", sentence=13635, chars=[35,38], words=[6,6]))\n",
      "28261562::span:14:16\n",
      "BiomarkerType(Span(\"DNA\", sentence=14417, chars=[14,16], words=[2,2]), Span(\"Gene\", sentence=14417, chars=[134,137], words=[20,20]))\n",
      "28263535::span:843:845\n",
      "BiomarkerType(Span(\"EE2\", sentence=13573, chars=[74,76], words=[14,14]), Span(\"protein\", sentence=13573, chars=[24,30], words=[5,5]))\n",
      "28263535::span:789:791\n",
      "BiomarkerType(Span(\"CYP\", sentence=13573, chars=[20,22], words=[4,4]), Span(\"protein\", sentence=13573, chars=[24,30], words=[5,5]))\n",
      "28263535::span:769:775\n",
      "BiomarkerType(Span(\"METHODS\", sentence=13573, chars=[0,6], words=[0,0]), Span(\"protein\", sentence=13573, chars=[24,30], words=[5,5]))\n",
      "28263535::span:1202:1204\n",
      "BiomarkerType(Span(\"CYP\", sentence=13575, chars=[182,184], words=[34,34]), Span(\"enzyme\", sentence=13575, chars=[194,199], words=[37,37]))\n",
      "28263535::span:1202:1204\n",
      "BiomarkerType(Span(\"CYP\", sentence=13575, chars=[182,184], words=[34,34]), Span(\"protein\", sentence=13575, chars=[62,68], words=[10,10]))\n",
      "28263535::span:1075:1080\n",
      "BiomarkerType(Span(\"CYP1A1\", sentence=13575, chars=[55,60], words=[9,9]), Span(\"enzyme\", sentence=13575, chars=[194,199], words=[37,37]))\n",
      "28263535::span:1075:1080\n",
      "BiomarkerType(Span(\"CYP1A1\", sentence=13575, chars=[55,60], words=[9,9]), Span(\"protein\", sentence=13575, chars=[62,68], words=[10,10]))\n",
      "28263535::span:1246:1248\n",
      "BiomarkerType(Span(\"EE2\", sentence=13575, chars=[226,228], words=[42,42]), Span(\"enzyme\", sentence=13575, chars=[194,199], words=[37,37]))\n",
      "28263535::span:1246:1248\n",
      "BiomarkerType(Span(\"EE2\", sentence=13575, chars=[226,228], words=[42,42]), Span(\"protein\", sentence=13575, chars=[62,68], words=[10,10]))\n",
      "28263535::span:1020:1026\n",
      "BiomarkerType(Span(\"RESULTS\", sentence=13575, chars=[0,6], words=[0,0]), Span(\"enzyme\", sentence=13575, chars=[194,199], words=[37,37]))\n",
      "28263535::span:1020:1026\n",
      "BiomarkerType(Span(\"RESULTS\", sentence=13575, chars=[0,6], words=[0,0]), Span(\"protein\", sentence=13575, chars=[62,68], words=[10,10]))\n",
      "28263860::span:82:86\n",
      "BiomarkerType(Span(\"PBR-S\", sentence=13443, chars=[82,86], words=[10,10]), Span(\"protein\", sentence=13443, chars=[51,57], words=[6,6]))\n",
      "28261960::span:730:732\n",
      "BiomarkerType(Span(\"NFL\", sentence=14254, chars=[402,404], words=[64,64]), Span(\"protein\", sentence=14254, chars=[459,465], words=[74,74]))\n",
      "28261960::span:689:693\n",
      "BiomarkerType(Span(\"CCL20\", sentence=14254, chars=[361,365], words=[56,56]), Span(\"protein\", sentence=14254, chars=[459,465], words=[74,74]))\n",
      "28261960::span:551:553\n",
      "BiomarkerType(Span(\"CIS\", sentence=14254, chars=[223,225], words=[32,32]), Span(\"protein\", sentence=14254, chars=[459,465], words=[74,74]))\n",
      "28261960::span:696:700\n",
      "BiomarkerType(Span(\"CCL22\", sentence=14254, chars=[368,372], words=[58,58]), Span(\"protein\", sentence=14254, chars=[459,465], words=[74,74]))\n",
      "28261960::span:584:590\n",
      "BiomarkerType(Span(\"METHODS\", sentence=14254, chars=[256,262], words=[37,37]), Span(\"protein\", sentence=14254, chars=[459,465], words=[74,74]))\n",
      "28261960::span:681:686\n",
      "BiomarkerType(Span(\"CXCL13\", sentence=14254, chars=[353,358], words=[54,54]), Span(\"protein\", sentence=14254, chars=[459,465], words=[74,74]))\n",
      "28261960::span:666:670\n",
      "BiomarkerType(Span(\"CXCL8\", sentence=14254, chars=[338,342], words=[50,50]), Span(\"protein\", sentence=14254, chars=[459,465], words=[74,74]))\n",
      "28261960::span:876:878\n",
      "BiomarkerType(Span(\"CSF\", sentence=14254, chars=[548,550], words=[85,85]), Span(\"protein\", sentence=14254, chars=[459,465], words=[74,74]))\n",
      "28261960::span:902:904\n",
      "BiomarkerType(Span(\"CIS\", sentence=14254, chars=[574,576], words=[90,90]), Span(\"protein\", sentence=14254, chars=[459,465], words=[74,74]))\n",
      "28261960::span:420:422\n",
      "BiomarkerType(Span(\"CSF\", sentence=14254, chars=[92,94], words=[11,11]), Span(\"protein\", sentence=14254, chars=[459,465], words=[74,74]))\n",
      "28261960::span:673:678\n",
      "BiomarkerType(Span(\"CXCL10\", sentence=14254, chars=[345,350], words=[52,52]), Span(\"protein\", sentence=14254, chars=[459,465], words=[74,74]))\n",
      "28261960::span:659:663\n",
      "BiomarkerType(Span(\"CXCL1\", sentence=14254, chars=[331,335], words=[48,48]), Span(\"protein\", sentence=14254, chars=[459,465], words=[74,74]))\n",
      "28263037::span:246:249\n",
      "BiomarkerType(Span(\"PTEN\", sentence=13813, chars=[45,48], words=[7,7]), Span(\"gene\", sentence=13813, chars=[84,87], words=[15,15]))\n",
      "28263037::span:201:210\n",
      "BiomarkerType(Span(\"BACKGROUND\", sentence=13813, chars=[0,9], words=[0,0]), Span(\"gene\", sentence=13813, chars=[84,87], words=[15,15]))\n",
      "28261963::span:640:641\n",
      "BiomarkerType(Span(\"A4\", sentence=14243, chars=[31,32], words=[4,4]), Span(\"protein\", sentence=14243, chars=[12,18], words=[1,1]))\n",
      "28261963::span:644:648\n",
      "BiomarkerType(Span(\"ANXA4\", sentence=14243, chars=[35,39], words=[6,6]), Span(\"protein\", sentence=14243, chars=[12,18], words=[1,1]))\n",
      "28261963::span:1470:1474\n",
      "BiomarkerType(Span(\"ANXA4\", sentence=14247, chars=[51,55], words=[7,7]), Span(\"protein\", sentence=14247, chars=[83,89], words=[11,11]))\n",
      "28262616::span:957:961\n",
      "BiomarkerType(Span(\"NOX-4\", sentence=13985, chars=[245,249], words=[40,40]), Span(\"protein\", sentence=13985, chars=[154,160], words=[24,24]))\n",
      "28262616::span:949:951\n",
      "BiomarkerType(Span(\"NOX\", sentence=13985, chars=[237,239], words=[36,36]), Span(\"protein\", sentence=13985, chars=[154,160], words=[24,24]))\n",
      "28262616::span:933:937\n",
      "BiomarkerType(Span(\"NADPH\", sentence=13985, chars=[221,225], words=[32,32]), Span(\"protein\", sentence=13985, chars=[154,160], words=[24,24]))\n",
      "28263971::span:1359:1362\n",
      "BiomarkerType(Span(\"mRNA\", sentence=13396, chars=[134,137], words=[18,18]), Span(\"protein\", sentence=13396, chars=[199,205], words=[31,31]))\n",
      "28263971::span:1409:1412\n",
      "BiomarkerType(Span(\"IL10\", sentence=13396, chars=[184,187], words=[28,28]), Span(\"mRNA\", sentence=13396, chars=[134,137], words=[18,18]))\n",
      "28263971::span:1409:1412\n",
      "BiomarkerType(Span(\"IL10\", sentence=13396, chars=[184,187], words=[28,28]), Span(\"protein\", sentence=13396, chars=[199,205], words=[31,31]))\n",
      "28263971::span:1418:1422\n"
     ]
    },
    {
     "name": "stdout",
     "output_type": "stream",
     "text": [
      "BiomarkerType(Span(\"IL-13\", sentence=13396, chars=[193,197], words=[30,30]), Span(\"mRNA\", sentence=13396, chars=[134,137], words=[18,18]))\n",
      "28263971::span:1418:1422\n",
      "BiomarkerType(Span(\"IL-13\", sentence=13396, chars=[193,197], words=[30,30]), Span(\"protein\", sentence=13396, chars=[199,205], words=[31,31]))\n",
      "28260933::span:462:464\n",
      "BiomarkerType(Span(\"HBV\", sentence=14760, chars=[106,108], words=[18,18]), Span(\"virus\", sentence=14760, chars=[99,103], words=[16,16]))\n",
      "28260933::span:436:438\n",
      "BiomarkerType(Span(\"LMR\", sentence=14760, chars=[80,82], words=[12,12]), Span(\"virus\", sentence=14760, chars=[99,103], words=[16,16]))\n",
      "28262266::span:582:583\n",
      "BiomarkerType(Span(\"SN\", sentence=14100, chars=[297,298], words=[50,50]), Span(\"gene\", sentence=14100, chars=[94,97], words=[17,17]))\n",
      "28262266::span:590:592\n",
      "BiomarkerType(Span(\"CEN\", sentence=14100, chars=[305,307], words=[53,53]), Span(\"gene\", sentence=14100, chars=[94,97], words=[17,17]))\n",
      "28262266::span:577:579\n",
      "BiomarkerType(Span(\"DMN\", sentence=14100, chars=[292,294], words=[48,48]), Span(\"gene\", sentence=14100, chars=[94,97], words=[17,17]))\n",
      "28262266::span:794:798\n",
      "BiomarkerType(Span(\"FKBP5\", sentence=14102, chars=[43,47], words=[9,9]), Span(\"protein\", sentence=14102, chars=[109,115], words=[22,22]))\n",
      "28262266::span:794:798\n",
      "BiomarkerType(Span(\"FKBP5\", sentence=14102, chars=[43,47], words=[9,9]), Span(\"gene\", sentence=14102, chars=[119,122], words=[24,24]))\n",
      "28262266::span:815:818\n",
      "BiomarkerType(Span(\"COMT\", sentence=14102, chars=[64,67], words=[14,14]), Span(\"protein\", sentence=14102, chars=[109,115], words=[22,22]))\n",
      "28262266::span:815:818\n",
      "BiomarkerType(Span(\"COMT\", sentence=14102, chars=[64,67], words=[14,14]), Span(\"gene\", sentence=14102, chars=[119,122], words=[24,24]))\n",
      "28262266::span:780:783\n",
      "BiomarkerType(Span(\"PTSD\", sentence=14102, chars=[29,32], words=[6,6]), Span(\"protein\", sentence=14102, chars=[109,115], words=[22,22]))\n",
      "28262266::span:780:783\n",
      "BiomarkerType(Span(\"PTSD\", sentence=14102, chars=[29,32], words=[6,6]), Span(\"gene\", sentence=14102, chars=[119,122], words=[24,24]))\n",
      "28261171::span:804:807\n",
      "BiomarkerType(Span(\"ISSR\", sentence=14703, chars=[29,32], words=[5,5]), Span(\"gene\", sentence=14703, chars=[69,72], words=[10,10]))\n",
      "28263860::span:1687:1690\n",
      "BiomarkerType(Span(\"TSPO\", sentence=13452, chars=[256,259], words=[41,41]), Span(\"protein\", sentence=13452, chars=[142,148], words=[22,22]))\n",
      "28263860::span:1687:1690\n",
      "BiomarkerType(Span(\"TSPO\", sentence=13452, chars=[256,259], words=[41,41]), Span(\"gene\", sentence=13452, chars=[174,177], words=[27,27]))\n",
      "28263860::span:1687:1690\n",
      "BiomarkerType(Span(\"TSPO\", sentence=13452, chars=[256,259], words=[41,41]), Span(\"protein\", sentence=13452, chars=[30,36], words=[7,7]))\n",
      "28263860::span:1567:1571\n",
      "BiomarkerType(Span(\"PBR-S\", sentence=13452, chars=[136,140], words=[21,21]), Span(\"protein\", sentence=13452, chars=[142,148], words=[22,22]))\n",
      "28263860::span:1567:1571\n",
      "BiomarkerType(Span(\"PBR-S\", sentence=13452, chars=[136,140], words=[21,21]), Span(\"gene\", sentence=13452, chars=[174,177], words=[27,27]))\n",
      "28263860::span:1567:1571\n",
      "BiomarkerType(Span(\"PBR-S\", sentence=13452, chars=[136,140], words=[21,21]), Span(\"protein\", sentence=13452, chars=[30,36], words=[7,7]))\n",
      "28263860::span:1600:1603\n",
      "BiomarkerType(Span(\"TSPO\", sentence=13452, chars=[169,172], words=[26,26]), Span(\"protein\", sentence=13452, chars=[142,148], words=[22,22]))\n",
      "28263860::span:1600:1603\n",
      "BiomarkerType(Span(\"TSPO\", sentence=13452, chars=[169,172], words=[26,26]), Span(\"gene\", sentence=13452, chars=[174,177], words=[27,27]))\n",
      "28263860::span:1600:1603\n",
      "BiomarkerType(Span(\"TSPO\", sentence=13452, chars=[169,172], words=[26,26]), Span(\"protein\", sentence=13452, chars=[30,36], words=[7,7]))\n",
      "28261199::span:1170:1175\n",
      "BiomarkerType(Span(\"JWH133\", sentence=14662, chars=[14,19], words=[2,2]), Span(\"gene\", sentence=14662, chars=[124,127], words=[15,15]))\n",
      "28261199::span:1170:1175\n",
      "BiomarkerType(Span(\"JWH133\", sentence=14662, chars=[14,19], words=[2,2]), Span(\"protein\", sentence=14662, chars=[133,139], words=[17,17]))\n",
      "28261974::span:441:444\n",
      "BiomarkerType(Span(\"COMP\", sentence=14219, chars=[184,187], words=[30,30]), Span(\"protein\", sentence=14219, chars=[175,181], words=[28,28]))\n",
      "28261998::span:40:43\n",
      "BiomarkerType(Span(\"TUPA\", sentence=14209, chars=[40,43], words=[8,8]), Span(\"protein\", sentence=14209, chars=[58,64], words=[12,12]))\n",
      "28263489::span:425:427\n",
      "BiomarkerType(Span(\"HPV\", sentence=13653, chars=[38,40], words=[8,8]), Span(\"mRNA\", sentence=13653, chars=[42,45], words=[9,9]))\n",
      "28263489::span:425:427\n",
      "BiomarkerType(Span(\"HPV\", sentence=13653, chars=[38,40], words=[8,8]), Span(\"DNA\", sentence=13653, chars=[51,53], words=[11,11]))\n",
      "28263489::span:429:432\n",
      "BiomarkerType(Span(\"mRNA\", sentence=13653, chars=[42,45], words=[9,9]), Span(\"DNA\", sentence=13653, chars=[51,53], words=[11,11]))\n",
      "28263489::span:438:440\n",
      "BiomarkerType(Span(\"DNA\", sentence=13653, chars=[51,53], words=[11,11]), Span(\"mRNA\", sentence=13653, chars=[42,45], words=[9,9]))\n",
      "28260989::span:432:437\n",
      "BiomarkerType(Span(\"CHI3L1\", sentence=14748, chars=[28,33], words=[4,4]), Span(\"protein\", sentence=14748, chars=[17,23], words=[1,1]))\n",
      "28260693::span:149:152\n",
      "BiomarkerType(Span(\"GIT2\", sentence=14892, chars=[34,37], words=[5,5]), Span(\"protein\", sentence=14892, chars=[86,92], words=[12,12]))\n",
      "28260693::span:1629:1634\n",
      "BiomarkerType(Span(\"GIT2KO\", sentence=14900, chars=[67,72], words=[7,7]), Span(\"DNA\", sentence=14900, chars=[333,335], words=[56,56]))\n",
      "28264059::span:964:969\n",
      "BiomarkerType(Span(\"HS-CRP\", sentence=13338, chars=[183,188], words=[31,31]), Span(\"protein\", sentence=13338, chars=[174,180], words=[29,29]))\n",
      "28264059::span:964:969\n",
      "BiomarkerType(Span(\"HS-CRP\", sentence=13338, chars=[183,188], words=[31,31]), Span(\"protein\", sentence=13338, chars=[137,143], words=[25,25]))\n",
      "28264059::span:964:969\n",
      "BiomarkerType(Span(\"HS-CRP\", sentence=13338, chars=[183,188], words=[31,31]), Span(\"protein\", sentence=13338, chars=[74,80], words=[13,13]))\n",
      "28264059::span:838:840\n",
      "BiomarkerType(Span(\"WBC\", sentence=13338, chars=[57,59], words=[9,9]), Span(\"protein\", sentence=13338, chars=[174,180], words=[29,29]))\n",
      "28264059::span:838:840\n",
      "BiomarkerType(Span(\"WBC\", sentence=13338, chars=[57,59], words=[9,9]), Span(\"protein\", sentence=13338, chars=[137,143], words=[25,25]))\n",
      "28264059::span:838:840\n",
      "BiomarkerType(Span(\"WBC\", sentence=13338, chars=[57,59], words=[9,9]), Span(\"protein\", sentence=13338, chars=[74,80], words=[13,13]))\n",
      "28264059::span:1121:1126\n",
      "BiomarkerType(Span(\"GM-CSF\", sentence=13338, chars=[340,345], words=[55,55]), Span(\"protein\", sentence=13338, chars=[174,180], words=[29,29]))\n",
      "28264059::span:1121:1126\n",
      "BiomarkerType(Span(\"GM-CSF\", sentence=13338, chars=[340,345], words=[55,55]), Span(\"protein\", sentence=13338, chars=[137,143], words=[25,25]))\n",
      "28264059::span:1121:1126\n",
      "BiomarkerType(Span(\"GM-CSF\", sentence=13338, chars=[340,345], words=[55,55]), Span(\"protein\", sentence=13338, chars=[74,80], words=[13,13]))\n",
      "28264059::span:864:866\n",
      "BiomarkerType(Span(\"CRP\", sentence=13338, chars=[83,85], words=[15,15]), Span(\"protein\", sentence=13338, chars=[174,180], words=[29,29]))\n",
      "28264059::span:864:866\n",
      "BiomarkerType(Span(\"CRP\", sentence=13338, chars=[83,85], words=[15,15]), Span(\"protein\", sentence=13338, chars=[137,143], words=[25,25]))\n",
      "28264059::span:864:866\n",
      "BiomarkerType(Span(\"CRP\", sentence=13338, chars=[83,85], words=[15,15]), Span(\"protein\", sentence=13338, chars=[74,80], words=[13,13]))\n",
      "28264059::span:885:887\n",
      "BiomarkerType(Span(\"PCT\", sentence=13338, chars=[104,106], words=[20,20]), Span(\"protein\", sentence=13338, chars=[174,180], words=[29,29]))\n",
      "28264059::span:885:887\n",
      "BiomarkerType(Span(\"PCT\", sentence=13338, chars=[104,106], words=[20,20]), Span(\"protein\", sentence=13338, chars=[137,143], words=[25,25]))\n",
      "28264059::span:885:887\n",
      "BiomarkerType(Span(\"PCT\", sentence=13338, chars=[104,106], words=[20,20]), Span(\"protein\", sentence=13338, chars=[74,80], words=[13,13]))\n",
      "28260899::span:171:173\n",
      "BiomarkerType(Span(\"MDD\", sentence=14794, chars=[83,85], words=[13,13]), Span(\"gene\", sentence=14794, chars=[158,161], words=[26,26]))\n",
      "28260899::span:288:292\n",
      "BiomarkerType(Span(\"PDGFC\", sentence=14794, chars=[200,204], words=[34,34]), Span(\"gene\", sentence=14794, chars=[158,161], words=[26,26]))\n",
      "28260899::span:271:278\n",
      "BiomarkerType(Span(\"ARHGAP24\", sentence=14794, chars=[183,190], words=[30,30]), Span(\"gene\", sentence=14794, chars=[158,161], words=[26,26]))\n",
      "28260899::span:305:310\n",
      "BiomarkerType(Span(\"SLC6A4\", sentence=14794, chars=[217,222], words=[39,39]), Span(\"gene\", sentence=14794, chars=[158,161], words=[26,26]))\n",
      "28260899::span:295:298\n",
      "BiomarkerType(Span(\"PRNP\", sentence=14794, chars=[207,210], words=[36,36]), Span(\"gene\", sentence=14794, chars=[158,161], words=[26,26]))\n",
      "28260899::span:88:94\n",
      "BiomarkerType(Span(\"PURPOSE\", sentence=14794, chars=[0,6], words=[0,0]), Span(\"gene\", sentence=14794, chars=[158,161], words=[26,26]))\n",
      "28260899::span:281:285\n",
      "BiomarkerType(Span(\"HDAC5\", sentence=14794, chars=[193,197], words=[32,32]), Span(\"gene\", sentence=14794, chars=[158,161], words=[26,26]))\n",
      "28262798::span:474:478\n",
      "BiomarkerType(Span(\"CDK11\", sentence=13863, chars=[148,152], words=[20,20]), Span(\"gene\", sentence=13863, chars=[26,29], words=[4,4]))\n",
      "28262798::span:340:344\n",
      "BiomarkerType(Span(\"CDK11\", sentence=13863, chars=[14,18], words=[2,2]), Span(\"gene\", sentence=13863, chars=[26,29], words=[4,4]))\n",
      "28260899::span:513:520\n",
      "BiomarkerType(Span(\"PATIENTS\", sentence=14796, chars=[0,7], words=[0,0]), Span(\"ribonucleic acid\", sentence=14796, chars=[44,59], words=[7,8]))\n",
      "28260899::span:526:532\n",
      "BiomarkerType(Span(\"METHODS\", sentence=14796, chars=[13,19], words=[2,2]), Span(\"ribonucleic acid\", sentence=14796, chars=[44,59], words=[7,8]))\n",
      "28260899::span:876:878\n",
      "BiomarkerType(Span(\"MDD\", sentence=14796, chars=[363,365], words=[55,55]), Span(\"ribonucleic acid\", sentence=14796, chars=[44,59], words=[7,8]))\n",
      "28260899::span:522:524\n"
     ]
    },
    {
     "name": "stdout",
     "output_type": "stream",
     "text": [
      "BiomarkerType(Span(\"AND\", sentence=14796, chars=[9,11], words=[1,1]), Span(\"ribonucleic acid\", sentence=14796, chars=[44,59], words=[7,8]))\n",
      "28260899::span:778:780\n",
      "BiomarkerType(Span(\"PCR\", sentence=14796, chars=[265,267], words=[37,37]), Span(\"ribonucleic acid\", sentence=14796, chars=[44,59], words=[7,8]))\n",
      "28262798::span:646:650\n",
      "BiomarkerType(Span(\"CDK11\", sentence=13865, chars=[0,4], words=[0,0]), Span(\"gene\", sentence=13865, chars=[49,52], words=[6,6]))\n",
      "28262798::span:692:693\n",
      "BiomarkerType(Span(\"AR\", sentence=13865, chars=[46,47], words=[5,5]), Span(\"gene\", sentence=13865, chars=[49,52], words=[6,6]))\n",
      "28262798::span:728:729\n",
      "BiomarkerType(Span(\"AR\", sentence=13866, chars=[0,1], words=[0,0]), Span(\"protein\", sentence=13866, chars=[3,9], words=[1,1]))\n",
      "28261345::span:550:553\n",
      "BiomarkerType(Span(\"mRNA\", sentence=14514, chars=[86,89], words=[13,13]), Span(\"mRNA\", sentence=14514, chars=[225,228], words=[37,37]))\n",
      "28261345::span:550:553\n",
      "BiomarkerType(Span(\"mRNA\", sentence=14514, chars=[86,89], words=[13,13]), Span(\"mRNA\", sentence=14514, chars=[41,44], words=[7,7]))\n",
      "28261345::span:679:681\n",
      "BiomarkerType(Span(\"III\", sentence=14514, chars=[215,217], words=[33,33]), Span(\"mRNA\", sentence=14514, chars=[86,89], words=[13,13]))\n",
      "28261345::span:679:681\n",
      "BiomarkerType(Span(\"III\", sentence=14514, chars=[215,217], words=[33,33]), Span(\"mRNA\", sentence=14514, chars=[225,228], words=[37,37]))\n",
      "28261345::span:679:681\n",
      "BiomarkerType(Span(\"III\", sentence=14514, chars=[215,217], words=[33,33]), Span(\"mRNA\", sentence=14514, chars=[41,44], words=[7,7]))\n",
      "28261345::span:689:692\n",
      "BiomarkerType(Span(\"mRNA\", sentence=14514, chars=[225,228], words=[37,37]), Span(\"mRNA\", sentence=14514, chars=[86,89], words=[13,13]))\n",
      "28261345::span:689:692\n",
      "BiomarkerType(Span(\"mRNA\", sentence=14514, chars=[225,228], words=[37,37]), Span(\"mRNA\", sentence=14514, chars=[41,44], words=[7,7]))\n",
      "28261345::span:505:508\n",
      "BiomarkerType(Span(\"mRNA\", sentence=14514, chars=[41,44], words=[7,7]), Span(\"mRNA\", sentence=14514, chars=[86,89], words=[13,13]))\n",
      "28261345::span:505:508\n",
      "BiomarkerType(Span(\"mRNA\", sentence=14514, chars=[41,44], words=[7,7]), Span(\"mRNA\", sentence=14514, chars=[225,228], words=[37,37]))\n",
      "28262798::span:1016:1017\n",
      "BiomarkerType(Span(\"AR\", sentence=13868, chars=[13,14], words=[3,3]), Span(\"gene\", sentence=13868, chars=[16,19], words=[4,4]))\n",
      "28261064::span:1131:1133\n",
      "BiomarkerType(Span(\"ISH\", sentence=14732, chars=[31,33], words=[6,6]), Span(\"RNA\", sentence=14732, chars=[4,6], words=[1,1]))\n",
      "28262603::span:1187:1190\n",
      "BiomarkerType(Span(\"fMRI\", sentence=14002, chars=[325,328], words=[52,52]), Span(\"protein\", sentence=14002, chars=[207,213], words=[32,32]))\n",
      "28262603::span:862:868\n",
      "BiomarkerType(Span(\"METHODS\", sentence=14002, chars=[0,6], words=[0,0]), Span(\"protein\", sentence=14002, chars=[207,213], words=[32,32]))\n",
      "28262603::span:1078:1080\n",
      "BiomarkerType(Span(\"CRP\", sentence=14002, chars=[216,218], words=[34,34]), Span(\"protein\", sentence=14002, chars=[207,213], words=[32,32]))\n",
      "28263738::span:19:23\n",
      "BiomarkerType(Span(\"CCAT2\", sentence=13493, chars=[19,23], words=[3,3]), Span(\"RNA\", sentence=13493, chars=[15,17], words=[2,2]))\n",
      "28263738::span:137:141\n",
      "BiomarkerType(Span(\"CCAT2\", sentence=13494, chars=[50,54], words=[8,8]), Span(\"RNA\", sentence=13494, chars=[82,84], words=[15,15]))\n",
      "28263738::span:87:96\n",
      "BiomarkerType(Span(\"BACKGROUND\", sentence=13494, chars=[0,9], words=[0,0]), Span(\"RNA\", sentence=13494, chars=[82,84], words=[15,15]))\n",
      "[GoldLabel (gold = 1), GoldLabel (gold = 1), GoldLabel (gold = 1), GoldLabel (gold = 1), GoldLabel (gold = 1), GoldLabel (gold = 1), GoldLabel (gold = 1), GoldLabel (gold = 1), GoldLabel (gold = 1), GoldLabel (gold = 1), GoldLabel (gold = 1), GoldLabel (gold = 1), GoldLabel (gold = 1), GoldLabel (gold = 1), GoldLabel (gold = 1), GoldLabel (gold = 1), GoldLabel (gold = 1), GoldLabel (gold = 1), GoldLabel (gold = 1), GoldLabel (gold = 1), GoldLabel (gold = 1), GoldLabel (gold = 1), GoldLabel (gold = 1), GoldLabel (gold = -1), GoldLabel (gold = -1), GoldLabel (gold = -1), GoldLabel (gold = -1), GoldLabel (gold = -1), GoldLabel (gold = -1), GoldLabel (gold = -1), GoldLabel (gold = -1), GoldLabel (gold = -1), GoldLabel (gold = -1), GoldLabel (gold = -1), GoldLabel (gold = -1), GoldLabel (gold = -1), GoldLabel (gold = -1), GoldLabel (gold = -1), GoldLabel (gold = -1), GoldLabel (gold = -1), GoldLabel (gold = -1), GoldLabel (gold = -1), GoldLabel (gold = -1), GoldLabel (gold = -1), GoldLabel (gold = -1), GoldLabel (gold = -1), GoldLabel (gold = -1), GoldLabel (gold = -1), GoldLabel (gold = -1), GoldLabel (gold = -1), GoldLabel (gold = -1), GoldLabel (gold = -1), GoldLabel (gold = -1), GoldLabel (gold = -1), GoldLabel (gold = -1), GoldLabel (gold = -1), GoldLabel (gold = -1), GoldLabel (gold = -1), GoldLabel (gold = -1), GoldLabel (gold = -1), GoldLabel (gold = -1), GoldLabel (gold = -1), GoldLabel (gold = -1), GoldLabel (gold = -1), GoldLabel (gold = -1), GoldLabel (gold = -1), GoldLabel (gold = -1), GoldLabel (gold = -1), GoldLabel (gold = -1), GoldLabel (gold = -1), GoldLabel (gold = -1), GoldLabel (gold = -1), GoldLabel (gold = -1), GoldLabel (gold = -1), GoldLabel (gold = -1), GoldLabel (gold = -1), GoldLabel (gold = -1), GoldLabel (gold = -1), GoldLabel (gold = -1), GoldLabel (gold = -1), GoldLabel (gold = -1), GoldLabel (gold = -1), GoldLabel (gold = -1), GoldLabel (gold = -1), GoldLabel (gold = -1), GoldLabel (gold = -1), GoldLabel (gold = -1), GoldLabel (gold = -1), GoldLabel (gold = -1), GoldLabel (gold = -1), GoldLabel (gold = -1), GoldLabel (gold = -1), GoldLabel (gold = -1), GoldLabel (gold = -1), GoldLabel (gold = -1), GoldLabel (gold = -1), GoldLabel (gold = -1), GoldLabel (gold = -1), GoldLabel (gold = -1), GoldLabel (gold = -1), GoldLabel (gold = -1), GoldLabel (gold = -1), GoldLabel (gold = -1), GoldLabel (gold = -1), GoldLabel (gold = -1), GoldLabel (gold = -1), GoldLabel (gold = -1), GoldLabel (gold = -1), GoldLabel (gold = -1), GoldLabel (gold = -1), GoldLabel (gold = -1), GoldLabel (gold = -1), GoldLabel (gold = -1), GoldLabel (gold = -1), GoldLabel (gold = -1), GoldLabel (gold = -1), GoldLabel (gold = -1), GoldLabel (gold = -1), GoldLabel (gold = -1), GoldLabel (gold = -1), GoldLabel (gold = -1), GoldLabel (gold = -1), GoldLabel (gold = -1), GoldLabel (gold = -1), GoldLabel (gold = -1), GoldLabel (gold = -1), GoldLabel (gold = -1), GoldLabel (gold = -1), GoldLabel (gold = -1), GoldLabel (gold = -1), GoldLabel (gold = -1), GoldLabel (gold = -1), GoldLabel (gold = -1), GoldLabel (gold = -1), GoldLabel (gold = -1), GoldLabel (gold = -1), GoldLabel (gold = -1), GoldLabel (gold = -1), GoldLabel (gold = -1), GoldLabel (gold = -1), GoldLabel (gold = -1), GoldLabel (gold = -1), GoldLabel (gold = -1), GoldLabel (gold = -1), GoldLabel (gold = -1), GoldLabel (gold = -1), GoldLabel (gold = -1), GoldLabel (gold = -1), GoldLabel (gold = -1), GoldLabel (gold = -1), GoldLabel (gold = -1), GoldLabel (gold = -1), GoldLabel (gold = -1), GoldLabel (gold = -1), GoldLabel (gold = -1), GoldLabel (gold = -1), GoldLabel (gold = -1), GoldLabel (gold = -1), GoldLabel (gold = -1), GoldLabel (gold = -1), GoldLabel (gold = -1), GoldLabel (gold = -1), GoldLabel (gold = -1), GoldLabel (gold = -1), GoldLabel (gold = -1), GoldLabel (gold = -1), GoldLabel (gold = -1), GoldLabel (gold = -1), GoldLabel (gold = -1), GoldLabel (gold = -1), GoldLabel (gold = -1), GoldLabel (gold = -1), GoldLabel (gold = -1), GoldLabel (gold = -1), GoldLabel (gold = -1), GoldLabel (gold = -1), GoldLabel (gold = -1), GoldLabel (gold = -1), GoldLabel (gold = -1), GoldLabel (gold = -1), GoldLabel (gold = -1), GoldLabel (gold = -1), GoldLabel (gold = -1), GoldLabel (gold = -1), GoldLabel (gold = -1), GoldLabel (gold = -1), GoldLabel (gold = -1), GoldLabel (gold = -1), GoldLabel (gold = -1), GoldLabel (gold = -1), GoldLabel (gold = -1), GoldLabel (gold = -1), GoldLabel (gold = -1), GoldLabel (gold = -1), GoldLabel (gold = -1), GoldLabel (gold = -1), GoldLabel (gold = -1), GoldLabel (gold = -1), GoldLabel (gold = -1), GoldLabel (gold = -1), GoldLabel (gold = -1), GoldLabel (gold = -1), GoldLabel (gold = -1), GoldLabel (gold = -1), GoldLabel (gold = -1), GoldLabel (gold = -1), GoldLabel (gold = -1), GoldLabel (gold = -1), GoldLabel (gold = -1), GoldLabel (gold = -1), GoldLabel (gold = -1), GoldLabel (gold = -1), GoldLabel (gold = -1), GoldLabel (gold = -1), GoldLabel (gold = -1), GoldLabel (gold = -1), GoldLabel (gold = -1), GoldLabel (gold = -1), GoldLabel (gold = -1), GoldLabel (gold = -1), GoldLabel (gold = -1), GoldLabel (gold = -1), GoldLabel (gold = -1), GoldLabel (gold = -1), GoldLabel (gold = -1), GoldLabel (gold = -1), GoldLabel (gold = -1), GoldLabel (gold = -1), GoldLabel (gold = -1), GoldLabel (gold = -1), GoldLabel (gold = -1), GoldLabel (gold = -1), GoldLabel (gold = -1), GoldLabel (gold = -1), GoldLabel (gold = -1), GoldLabel (gold = -1), GoldLabel (gold = -1), GoldLabel (gold = -1), GoldLabel (gold = -1), GoldLabel (gold = -1), GoldLabel (gold = -1), GoldLabel (gold = -1), GoldLabel (gold = -1), GoldLabel (gold = -1), GoldLabel (gold = -1), GoldLabel (gold = -1), GoldLabel (gold = -1), GoldLabel (gold = -1), GoldLabel (gold = -1), GoldLabel (gold = -1), GoldLabel (gold = -1), GoldLabel (gold = -1), GoldLabel (gold = -1), GoldLabel (gold = -1), GoldLabel (gold = -1), GoldLabel (gold = -1), GoldLabel (gold = -1), GoldLabel (gold = -1), GoldLabel (gold = -1), GoldLabel (gold = -1), GoldLabel (gold = -1), GoldLabel (gold = -1), GoldLabel (gold = -1), GoldLabel (gold = -1), GoldLabel (gold = -1), GoldLabel (gold = -1), GoldLabel (gold = -1), GoldLabel (gold = -1), GoldLabel (gold = -1), GoldLabel (gold = -1), GoldLabel (gold = -1), GoldLabel (gold = -1), GoldLabel (gold = -1), GoldLabel (gold = -1), GoldLabel (gold = -1), GoldLabel (gold = -1), GoldLabel (gold = -1), GoldLabel (gold = -1), GoldLabel (gold = -1), GoldLabel (gold = -1), GoldLabel (gold = -1), GoldLabel (gold = -1), GoldLabel (gold = -1), GoldLabel (gold = -1), GoldLabel (gold = -1), GoldLabel (gold = -1), GoldLabel (gold = -1), GoldLabel (gold = -1), GoldLabel (gold = -1), GoldLabel (gold = -1), GoldLabel (gold = -1), GoldLabel (gold = -1), GoldLabel (gold = -1), GoldLabel (gold = -1), GoldLabel (gold = -1), GoldLabel (gold = -1), GoldLabel (gold = -1), GoldLabel (gold = -1), GoldLabel (gold = -1), GoldLabel (gold = -1), GoldLabel (gold = -1), GoldLabel (gold = -1), GoldLabel (gold = -1), GoldLabel (gold = -1), GoldLabel (gold = -1), GoldLabel (gold = -1), GoldLabel (gold = -1), GoldLabel (gold = -1), GoldLabel (gold = -1), GoldLabel (gold = -1), GoldLabel (gold = -1), GoldLabel (gold = -1), GoldLabel (gold = -1), GoldLabel (gold = -1), GoldLabel (gold = -1), GoldLabel (gold = -1), GoldLabel (gold = -1), GoldLabel (gold = -1), GoldLabel (gold = -1), GoldLabel (gold = -1), GoldLabel (gold = -1), GoldLabel (gold = -1), GoldLabel (gold = -1), GoldLabel (gold = -1), GoldLabel (gold = -1), GoldLabel (gold = -1), GoldLabel (gold = -1), GoldLabel (gold = -1), GoldLabel (gold = -1), GoldLabel (gold = -1), GoldLabel (gold = -1), GoldLabel (gold = -1), GoldLabel (gold = -1), GoldLabel (gold = -1), GoldLabel (gold = -1)]\n",
      "AnnotatorLabels created: 335\n"
     ]
    },
    {
     "name": "stdout",
     "output_type": "stream",
     "text": [
      "[]\n",
      "AnnotatorLabels created: 0\n"
     ]
    }
   ],
   "source": [
    "from load_external_annotations_new import load_external_labels\n",
    "load_external_labels(session, BiomarkerType, 'Biomarker', 'Type', 'articles/type_gold_labels.tsv', dev_cands, annotator_name='gold')"
   ]
  },
  {
   "cell_type": "code",
   "execution_count": 22,
   "metadata": {},
   "outputs": [
    {
     "data": {
      "text/plain": [
       "<335x1 sparse matrix of type '<type 'numpy.int64'>'\n",
       "\twith 335 stored elements in Compressed Sparse Row format>"
      ]
     },
     "execution_count": 22,
     "metadata": {},
     "output_type": "execute_result"
    }
   ],
   "source": [
    "from snorkel.annotations import load_gold_labels\n",
    "L_gold_dev = load_gold_labels(session, annotator_name='gold', split=1)\n",
    "L_gold_dev"
   ]
  },
  {
   "cell_type": "code",
   "execution_count": 23,
   "metadata": {},
   "outputs": [
    {
     "name": "stdout",
     "output_type": "stream",
     "text": [
      "Clearing existing...\n",
      "Running UDF...\n",
      "[========================================] 100%%\n",
      "\n",
      "========================================\n",
      "Scores (Un-adjusted)\n",
      "========================================\n",
      "Pos. class accuracy: 0.0\n",
      "Neg. class accuracy: 1.0\n",
      "Precision            0.0\n",
      "Recall               0.0\n",
      "F1                   0.0\n",
      "----------------------------------------\n",
      "TP: 0 | FP: 0 | TN: 312 | FN: 23\n",
      "========================================\n",
      "\n"
     ]
    }
   ],
   "source": [
    "L_dev = labeler.apply_existing(split=1)\n",
    "_ = gen_model.score(session, L_dev, L_gold_dev)"
   ]
  },
  {
   "cell_type": "code",
   "execution_count": 24,
   "metadata": {},
   "outputs": [
    {
     "name": "stderr",
     "output_type": "stream",
     "text": [
      "/home/varun/Documents/MarkerSub/snorkel/snorkel/annotations.py:84: RuntimeWarning: invalid value encountered in divide\n",
      "  ac = (tp+tn).astype(float) / (tp+tn+fp+fn)\n"
     ]
    },
    {
     "data": {
      "text/html": [
       "<div>\n",
       "<style>\n",
       "    .dataframe thead tr:only-child th {\n",
       "        text-align: right;\n",
       "    }\n",
       "\n",
       "    .dataframe thead th {\n",
       "        text-align: left;\n",
       "    }\n",
       "\n",
       "    .dataframe tbody tr th {\n",
       "        vertical-align: top;\n",
       "    }\n",
       "</style>\n",
       "<table border=\"1\" class=\"dataframe\">\n",
       "  <thead>\n",
       "    <tr style=\"text-align: right;\">\n",
       "      <th></th>\n",
       "      <th>j</th>\n",
       "      <th>Coverage</th>\n",
       "      <th>Overlaps</th>\n",
       "      <th>Conflicts</th>\n",
       "      <th>TP</th>\n",
       "      <th>FP</th>\n",
       "      <th>FN</th>\n",
       "      <th>TN</th>\n",
       "      <th>Empirical Acc.</th>\n",
       "      <th>Learned Acc.</th>\n",
       "    </tr>\n",
       "  </thead>\n",
       "  <tbody>\n",
       "    <tr>\n",
       "      <th>LF_colon</th>\n",
       "      <td>0</td>\n",
       "      <td>0.056716</td>\n",
       "      <td>0.0</td>\n",
       "      <td>0.0</td>\n",
       "      <td>0</td>\n",
       "      <td>0</td>\n",
       "      <td>0</td>\n",
       "      <td>19</td>\n",
       "      <td>1.0</td>\n",
       "      <td>NaN</td>\n",
       "    </tr>\n",
       "    <tr>\n",
       "      <th>LF_known_abs</th>\n",
       "      <td>1</td>\n",
       "      <td>0.047761</td>\n",
       "      <td>0.0</td>\n",
       "      <td>0.0</td>\n",
       "      <td>0</td>\n",
       "      <td>0</td>\n",
       "      <td>0</td>\n",
       "      <td>16</td>\n",
       "      <td>1.0</td>\n",
       "      <td>NaN</td>\n",
       "    </tr>\n",
       "    <tr>\n",
       "      <th>LF_single_letter</th>\n",
       "      <td>2</td>\n",
       "      <td>0.002985</td>\n",
       "      <td>0.0</td>\n",
       "      <td>0.0</td>\n",
       "      <td>0</td>\n",
       "      <td>0</td>\n",
       "      <td>0</td>\n",
       "      <td>1</td>\n",
       "      <td>1.0</td>\n",
       "      <td>NaN</td>\n",
       "    </tr>\n",
       "    <tr>\n",
       "      <th>LF_roman_numeral</th>\n",
       "      <td>3</td>\n",
       "      <td>0.000000</td>\n",
       "      <td>0.0</td>\n",
       "      <td>0.0</td>\n",
       "      <td>0</td>\n",
       "      <td>0</td>\n",
       "      <td>0</td>\n",
       "      <td>0</td>\n",
       "      <td>NaN</td>\n",
       "      <td>NaN</td>\n",
       "    </tr>\n",
       "    <tr>\n",
       "      <th>LF_common_2000</th>\n",
       "      <td>4</td>\n",
       "      <td>0.000000</td>\n",
       "      <td>0.0</td>\n",
       "      <td>0.0</td>\n",
       "      <td>0</td>\n",
       "      <td>0</td>\n",
       "      <td>0</td>\n",
       "      <td>0</td>\n",
       "      <td>NaN</td>\n",
       "      <td>NaN</td>\n",
       "    </tr>\n",
       "    <tr>\n",
       "      <th>LF_same_thing</th>\n",
       "      <td>5</td>\n",
       "      <td>0.017910</td>\n",
       "      <td>0.0</td>\n",
       "      <td>0.0</td>\n",
       "      <td>0</td>\n",
       "      <td>0</td>\n",
       "      <td>0</td>\n",
       "      <td>6</td>\n",
       "      <td>1.0</td>\n",
       "      <td>NaN</td>\n",
       "    </tr>\n",
       "  </tbody>\n",
       "</table>\n",
       "</div>"
      ],
      "text/plain": [
       "                  j  Coverage  Overlaps  Conflicts  TP  FP  FN  TN  \\\n",
       "LF_colon          0  0.056716       0.0        0.0   0   0   0  19   \n",
       "LF_known_abs      1  0.047761       0.0        0.0   0   0   0  16   \n",
       "LF_single_letter  2  0.002985       0.0        0.0   0   0   0   1   \n",
       "LF_roman_numeral  3  0.000000       0.0        0.0   0   0   0   0   \n",
       "LF_common_2000    4  0.000000       0.0        0.0   0   0   0   0   \n",
       "LF_same_thing     5  0.017910       0.0        0.0   0   0   0   6   \n",
       "\n",
       "                  Empirical Acc.  Learned Acc.  \n",
       "LF_colon                     1.0           NaN  \n",
       "LF_known_abs                 1.0           NaN  \n",
       "LF_single_letter             1.0           NaN  \n",
       "LF_roman_numeral             NaN           NaN  \n",
       "LF_common_2000               NaN           NaN  \n",
       "LF_same_thing                1.0           NaN  "
      ]
     },
     "execution_count": 24,
     "metadata": {},
     "output_type": "execute_result"
    }
   ],
   "source": [
    "from playsound import *\n",
    "playsound('ding.mp3')\n",
    "L_dev.lf_stats(session, L_gold_dev, gen_model.learned_lf_stats()['Accuracy'])\n"
   ]
  },
  {
   "cell_type": "code",
   "execution_count": null,
   "metadata": {
    "collapsed": true
   },
   "outputs": [],
   "source": [
    "import numpy as np\n",
    "\n",
    "# Load dev labels and convert to [0, 1] range\n",
    "from snorkel.annotations import load_gold_labels\n",
    "L_gold_dev = load_gold_labels(session, annotator_name='gold', split=1)\n",
    "dev_labels = (np.ravel(L_gold_dev.todense()) + 1) / 2"
   ]
  },
  {
   "cell_type": "code",
   "execution_count": null,
   "metadata": {
    "collapsed": true
   },
   "outputs": [],
   "source": [
    "from snorkel.annotations import FeatureAnnotator\n",
    "featurizer = FeatureAnnotator()\n",
    "\n",
    "%time F_train = featurizer.apply(split=0)\n",
    "F_train"
   ]
  },
  {
   "cell_type": "code",
   "execution_count": null,
   "metadata": {
    "collapsed": true
   },
   "outputs": [],
   "source": [
    "%%time\n",
    "F_dev  = featurizer.apply_existing(split=1)\n",
    "F_test = featurizer.apply_existing(split=2)"
   ]
  },
  {
   "cell_type": "code",
   "execution_count": null,
   "metadata": {
    "collapsed": true
   },
   "outputs": [],
   "source": [
    "from snorkel.annotations import load_marginals\n",
    "train_marginals = load_marginals(session, F_train, split=0)"
   ]
  },
  {
   "cell_type": "code",
   "execution_count": null,
   "metadata": {
    "collapsed": true
   },
   "outputs": [],
   "source": [
    "from snorkel.learning import SparseLogisticRegression\n",
    "disc_model = SparseLogisticRegression()"
   ]
  },
  {
   "cell_type": "code",
   "execution_count": null,
   "metadata": {
    "collapsed": true
   },
   "outputs": [],
   "source": [
    "from snorkel.learning.utils import MentionScorer\n",
    "from snorkel.learning import RandomSearch, ListParameter, RangeParameter\n",
    "\n",
    "# Searching over learning rate\n",
    "rate_param = RangeParameter('lr', 1e-6, 1e-2, step=1, log_base=10)\n",
    "l1_param  = RangeParameter('l1_penalty', 1e-6, 1e-2, step=1, log_base=10)\n",
    "l2_param  = RangeParameter('l2_penalty', 1e-6, 1e-2, step=1, log_base=10)\n",
    "\n",
    "searcher = RandomSearch(session, disc_model, F_train, train_marginals, [rate_param, l1_param, l2_param], n=20)"
   ]
  },
  {
   "cell_type": "code",
   "execution_count": null,
   "metadata": {
    "collapsed": true
   },
   "outputs": [],
   "source": [
    "from snorkel.annotations import load_gold_labels\n",
    "L_gold_dev = load_gold_labels(session, annotator_name='gold', split=1)\n",
    "L_gold_dev\n",
    "\n",
    "import numpy as np\n",
    "np.random.seed(1701)\n",
    "searcher.fit(F_dev, L_gold_dev, n_epochs=50, rebalance=0.5, print_freq=25)\n",
    "\n",
    "### Scoring on the test set\n",
    "\n"
   ]
  },
  {
   "cell_type": "code",
   "execution_count": null,
   "metadata": {
    "collapsed": true
   },
   "outputs": [],
   "source": [
    "test_cands = session.query(BiomarkerType).filter(BiomarkerType.split == 2).all()\n",
    "train_cands = session.query(BiomarkerType).filter(BiomarkerType.split == 0).all()"
   ]
  },
  {
   "cell_type": "code",
   "execution_count": null,
   "metadata": {
    "collapsed": true
   },
   "outputs": [],
   "source": [
    "from load_external_annotations_new import load_external_labels\n",
    "load_external_labels(session, BiomarkerMedium, 'Biomarker', 'Medium', 'articles/medium_test_labels.tsv', test_cands, annotator_name='gold')\n",
    "\n",
    "from snorkel.annotations import load_gold_labels\n",
    "L_gold_test = load_gold_labels(session, annotator_name='gold', split=2)\n",
    "L_gold_test\n",
    "\n",
    "tp, fp, tn, fn = disc_model.score(session, F_test, L_gold_test)"
   ]
  },
  {
   "cell_type": "code",
   "execution_count": null,
   "metadata": {
    "collapsed": true
   },
   "outputs": [],
   "source": [
    "print fp"
   ]
  },
  {
   "cell_type": "code",
   "execution_count": null,
   "metadata": {
    "collapsed": true
   },
   "outputs": [],
   "source": [
    "from snorkel.contrib.rnn import reRNN\n",
    "\n",
    "train_kwargs = {\n",
    "    'lr':         0.01,\n",
    "    'dim':        100,\n",
    "    'n_epochs':   50,\n",
    "    'dropout':    0.5,\n",
    "    'rebalance':  0.25,\n",
    "    'print_freq': 5\n",
    "}\n",
    "\n",
    "lstm = reRNN(seed=1701, n_threads=None)\n",
    "lstm.train(train, train_marginals, dev_candidates=dev, dev_labels=dev_labels, **train_kwargs)"
   ]
  },
  {
   "cell_type": "code",
   "execution_count": null,
   "metadata": {
    "collapsed": true
   },
   "outputs": [],
   "source": [
    "lstm.save(\"biomarkertype.lstm\")"
   ]
  }
 ],
 "metadata": {
  "kernelspec": {
   "display_name": "Python 2",
   "language": "python",
   "name": "python2"
  },
  "language_info": {
   "codemirror_mode": {
    "name": "ipython",
    "version": 2
   },
   "file_extension": ".py",
   "mimetype": "text/x-python",
   "name": "python",
   "nbconvert_exporter": "python",
   "pygments_lexer": "ipython2",
   "version": "2.7.12"
  }
 },
 "nbformat": 4,
 "nbformat_minor": 1
}
