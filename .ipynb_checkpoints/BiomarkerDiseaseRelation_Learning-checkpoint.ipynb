{
 "cells": [
  {
   "cell_type": "markdown",
   "metadata": {},
   "source": [
    "# MarkerSub: a Snorkel-powered Biomarker Data Mining Pipeline"
   ]
  },
  {
   "cell_type": "markdown",
   "metadata": {},
   "source": [
    "\n",
    "# 0) Initial Setup\n",
    "Let's begin with imports, as well as environment and figure configuartion."
   ]
  },
  {
   "cell_type": "code",
   "execution_count": 1,
   "metadata": {
    "collapsed": true,
    "scrolled": true
   },
   "outputs": [],
   "source": [
    "# cleanup if setup is reinitialized\n",
    "import os\n",
    "from snorkel import *\n",
    "from snorkel import SnorkelSession\n",
    "import extractions\n",
    "import re\n",
    "import cPickle, sys, matplotlib\n",
    "import unicodedata\n",
    "    \n",
    "# Clear the old DB -- comment out in most instances\n",
    "# try:\n",
    "#     os.remove('snorkel.db')\n",
    "# except OSError:\n",
    "#     pass\n",
    "\n",
    "%load_ext autoreload\n",
    "%autoreload 2\n",
    "%matplotlib inline\n",
    "matplotlib.rcParams['figure.figsize'] = (18,6)\n",
    "\n",
    "# We initialize the Snorkel Session, which initializes a SQLite DB by default\n",
    "session = SnorkelSession()\n"
   ]
  },
  {
   "cell_type": "markdown",
   "metadata": {},
   "source": [
    "\n",
    "# 1) Corpus Preprocessing\n",
    "Preprocessing our raw data files (includes entity tagging) from XML\n",
    "* [1a] Configuring a DocPreprocessor \"sub-parser\"\n",
    "* [1b] Creating a CorpusParser\n",
    "* [1c] Loading our Corpus with a CorpusParser"
   ]
  },
  {
   "cell_type": "code",
   "execution_count": 2,
   "metadata": {},
   "outputs": [
    {
     "name": "stdout",
     "output_type": "stream",
     "text": [
      "Clearing existing...\n",
      "Running UDF...\n",
      "[=                                       ] 0%"
     ]
    },
    {
     "name": "stderr",
     "output_type": "stream",
     "text": [
      "Warning, empty document 5305186 passed to CoreNLP\n",
      "Warning, empty document 28182863 passed to CoreNLP\n"
     ]
    },
    {
     "name": "stdout",
     "output_type": "stream",
     "text": [
      "\r",
      "[=                                       ] 1%"
     ]
    },
    {
     "name": "stderr",
     "output_type": "stream",
     "text": [
      "Warning, empty document 27462919 passed to CoreNLP\n",
      "Warning, empty document 27494853 passed to CoreNLP\n",
      "Warning, empty document 27447745 passed to CoreNLP\n",
      "Warning, empty document 27447854 passed to CoreNLP\n"
     ]
    },
    {
     "name": "stdout",
     "output_type": "stream",
     "text": [
      "\r",
      "[=                                       ] 2%"
     ]
    },
    {
     "name": "stderr",
     "output_type": "stream",
     "text": [
      "Warning, empty document 27486880 passed to CoreNLP\n"
     ]
    },
    {
     "name": "stdout",
     "output_type": "stream",
     "text": [
      "\r",
      "[==                                      ] 3%"
     ]
    },
    {
     "name": "stderr",
     "output_type": "stream",
     "text": [
      "Warning, empty document 28012176 passed to CoreNLP\n",
      "Warning, empty document 5300950 passed to CoreNLP\n",
      "Warning, empty document 5300948 passed to CoreNLP\n",
      "Warning, empty document 5300945 passed to CoreNLP\n",
      "Warning, empty document 5300911 passed to CoreNLP\n"
     ]
    },
    {
     "name": "stdout",
     "output_type": "stream",
     "text": [
      "\r",
      "[==                                      ] 4%"
     ]
    },
    {
     "name": "stderr",
     "output_type": "stream",
     "text": [
      "Warning, empty document 28179006 passed to CoreNLP\n",
      "Warning, empty document 28178960 passed to CoreNLP\n",
      "Warning, empty document 28178970 passed to CoreNLP\n",
      "Warning, empty document 28178948 passed to CoreNLP\n",
      "Warning, empty document 28178945 passed to CoreNLP\n",
      "Warning, empty document 28179018 passed to CoreNLP\n",
      "Warning, empty document 28178966 passed to CoreNLP\n",
      "Warning, empty document 28178923 passed to CoreNLP\n",
      "Warning, empty document 5299725 passed to CoreNLP\n",
      "Warning, empty document 28178997 passed to CoreNLP\n",
      "Warning, empty document 5299688 passed to CoreNLP\n",
      "Warning, empty document 28178959 passed to CoreNLP\n",
      "Warning, empty document 28178957 passed to CoreNLP\n",
      "Warning, empty document 28178925 passed to CoreNLP\n",
      "Warning, empty document 28178952 passed to CoreNLP\n",
      "Warning, empty document 5299656 passed to CoreNLP\n",
      "Warning, empty document 28178989 passed to CoreNLP\n",
      "Warning, empty document 28179021 passed to CoreNLP\n"
     ]
    },
    {
     "name": "stdout",
     "output_type": "stream",
     "text": [
      "\r",
      "[===                                     ] 5%"
     ]
    },
    {
     "name": "stderr",
     "output_type": "stream",
     "text": [
      "Warning, empty document 5299079 passed to CoreNLP\n",
      "Warning, empty document 28173772 passed to CoreNLP\n",
      "Warning, empty document 5297221 passed to CoreNLP\n"
     ]
    },
    {
     "name": "stdout",
     "output_type": "stream",
     "text": [
      "[===                                     ] 7%"
     ]
    },
    {
     "name": "stderr",
     "output_type": "stream",
     "text": [
      "Warning, empty document 28144859 passed to CoreNLP\n",
      "Warning, empty document 26902522 passed to CoreNLP\n"
     ]
    },
    {
     "name": "stdout",
     "output_type": "stream",
     "text": [
      "\r",
      "[====                                    ] 8%"
     ]
    },
    {
     "name": "stderr",
     "output_type": "stream",
     "text": [
      "Warning, empty document 27838763 passed to CoreNLP\n",
      "Warning, empty document 27554774 passed to CoreNLP\n",
      "Warning, empty document 27379386 passed to CoreNLP\n"
     ]
    },
    {
     "name": "stdout",
     "output_type": "stream",
     "text": [
      "\r",
      "[====                                    ] 9%"
     ]
    },
    {
     "name": "stderr",
     "output_type": "stream",
     "text": [
      "Warning, empty document 28130689 passed to CoreNLP\n",
      "Warning, empty document 5270378 passed to CoreNLP\n",
      "Warning, empty document 5270363 passed to CoreNLP\n",
      "Warning, empty document 26552421 passed to CoreNLP\n",
      "Warning, empty document 22660553 passed to CoreNLP\n",
      "Warning, empty document 19496923 passed to CoreNLP\n"
     ]
    },
    {
     "name": "stdout",
     "output_type": "stream",
     "text": [
      "[=====                                   ] 11%"
     ]
    },
    {
     "name": "stderr",
     "output_type": "stream",
     "text": [
      "Warning, empty document 24029061 passed to CoreNLP\n",
      "Warning, empty document 27344180 passed to CoreNLP\n"
     ]
    },
    {
     "name": "stdout",
     "output_type": "stream",
     "text": [
      "\r",
      "[=====                                   ] 12%"
     ]
    },
    {
     "name": "stderr",
     "output_type": "stream",
     "text": [
      "Warning, empty document 27486820 passed to CoreNLP\n"
     ]
    },
    {
     "name": "stdout",
     "output_type": "stream",
     "text": [
      "\r",
      "[======                                  ] 13%"
     ]
    },
    {
     "name": "stderr",
     "output_type": "stream",
     "text": [
      "Warning, empty document 5301370 passed to CoreNLP\n"
     ]
    },
    {
     "name": "stdout",
     "output_type": "stream",
     "text": [
      "\r",
      "[======                                  ] 14%"
     ]
    },
    {
     "name": "stderr",
     "output_type": "stream",
     "text": [
      "Warning, empty document 5301067 passed to CoreNLP\n",
      "Warning, empty document 5300912 passed to CoreNLP\n"
     ]
    },
    {
     "name": "stdout",
     "output_type": "stream",
     "text": [
      "\r",
      "[=======                                 ] 15%"
     ]
    },
    {
     "name": "stderr",
     "output_type": "stream",
     "text": [
      "Warning, empty document 28179014 passed to CoreNLP\n",
      "Warning, empty document 28178929 passed to CoreNLP\n",
      "Warning, empty document 28178951 passed to CoreNLP\n",
      "Warning, empty document 28179026 passed to CoreNLP\n",
      "Warning, empty document 28179020 passed to CoreNLP\n",
      "Warning, empty document 28179007 passed to CoreNLP\n",
      "Warning, empty document 28178999 passed to CoreNLP\n",
      "Warning, empty document 28183321 passed to CoreNLP\n",
      "Warning, empty document 28178994 passed to CoreNLP\n",
      "Warning, empty document 5299695 passed to CoreNLP\n",
      "Warning, empty document 28178938 passed to CoreNLP\n",
      "Warning, empty document 5299675 passed to CoreNLP\n",
      "Warning, empty document 28151938 passed to CoreNLP\n",
      "Warning, empty document 28151939 passed to CoreNLP\n"
     ]
    },
    {
     "name": "stdout",
     "output_type": "stream",
     "text": [
      "\r",
      "[=======                                 ] 16%"
     ]
    },
    {
     "name": "stderr",
     "output_type": "stream",
     "text": [
      "Warning, empty document 28151970 passed to CoreNLP\n",
      "Warning, empty document 28152059 passed to CoreNLP\n",
      "Warning, empty document 28151974 passed to CoreNLP\n",
      "Warning, empty document 28150141 passed to CoreNLP\n",
      "Warning, empty document 28148286 passed to CoreNLP\n",
      "Warning, empty document 28148267 passed to CoreNLP\n",
      "Warning, empty document 28148238 passed to CoreNLP\n",
      "Warning, empty document 28148272 passed to CoreNLP\n",
      "Warning, empty document 28148276 passed to CoreNLP\n",
      "Warning, empty document 28152978 passed to CoreNLP\n"
     ]
    },
    {
     "name": "stdout",
     "output_type": "stream",
     "text": [
      "\r",
      "[=======                                 ] 17%"
     ]
    },
    {
     "name": "stderr",
     "output_type": "stream",
     "text": [
      "Warning, empty document 28148281 passed to CoreNLP\n",
      "Warning, empty document 28148239 passed to CoreNLP\n"
     ]
    },
    {
     "name": "stdout",
     "output_type": "stream",
     "text": [
      "\r",
      "[========                                ] 18%"
     ]
    },
    {
     "name": "stderr",
     "output_type": "stream",
     "text": [
      "Warning, empty document 28184245 passed to CoreNLP\n",
      "Warning, empty document 28148244 passed to CoreNLP\n",
      "Warning, empty document 28153034 passed to CoreNLP\n",
      "Warning, empty document 28148302 passed to CoreNLP\n",
      "Warning, empty document 28148236 passed to CoreNLP\n",
      "Warning, empty document 28148246 passed to CoreNLP\n",
      "Warning, empty document 28184256 passed to CoreNLP\n",
      "Warning, empty document 28153009 passed to CoreNLP\n",
      "Warning, empty document 28148221 passed to CoreNLP\n",
      "Warning, empty document 28148225 passed to CoreNLP\n",
      "Warning, empty document 28184251 passed to CoreNLP\n",
      "Warning, empty document 28148293 passed to CoreNLP\n",
      "Warning, empty document 28148305 passed to CoreNLP\n",
      "Warning, empty document 28152990 passed to CoreNLP\n",
      "Warning, empty document 28148242 passed to CoreNLP\n",
      "Warning, empty document 28148301 passed to CoreNLP\n",
      "Warning, empty document 28148279 passed to CoreNLP\n",
      "Warning, empty document 28148290 passed to CoreNLP\n",
      "Warning, empty document 28153017 passed to CoreNLP\n",
      "Warning, empty document 28153033 passed to CoreNLP\n",
      "Warning, empty document 28148223 passed to CoreNLP\n",
      "Warning, empty document 28153003 passed to CoreNLP\n",
      "Warning, empty document 28148240 passed to CoreNLP\n",
      "Warning, empty document 28148303 passed to CoreNLP\n",
      "Warning, empty document 28167864 passed to CoreNLP\n",
      "Warning, empty document 28152989 passed to CoreNLP\n",
      "Warning, empty document 28153048 passed to CoreNLP\n",
      "Warning, empty document 28148274 passed to CoreNLP\n",
      "Warning, empty document 28168006 passed to CoreNLP\n"
     ]
    },
    {
     "name": "stdout",
     "output_type": "stream",
     "text": [
      "[=========                               ] 22%"
     ]
    },
    {
     "name": "stderr",
     "output_type": "stream",
     "text": [
      "Warning, empty document 28210239 passed to CoreNLP\n",
      "Warning, empty document 27681113 passed to CoreNLP\n",
      "Warning, empty document 5308771 passed to CoreNLP\n",
      "Warning, empty document 28192800 passed to CoreNLP\n",
      "Warning, empty document 5308769 passed to CoreNLP\n"
     ]
    },
    {
     "name": "stdout",
     "output_type": "stream",
     "text": [
      "\r",
      "[==========                              ] 23%"
     ]
    },
    {
     "name": "stderr",
     "output_type": "stream",
     "text": [
      "Warning, empty document 5304385 passed to CoreNLP\n",
      "Warning, empty document 5304361 passed to CoreNLP\n",
      "Warning, empty document 28210447 passed to CoreNLP\n",
      "Warning, empty document 28210445 passed to CoreNLP\n",
      "Warning, empty document 28210437 passed to CoreNLP\n",
      "Warning, empty document 28210430 passed to CoreNLP\n",
      "Warning, empty document 5302179 passed to CoreNLP\n",
      "Warning, empty document 28145395 passed to CoreNLP\n",
      "Warning, empty document 28170537 passed to CoreNLP\n"
     ]
    },
    {
     "name": "stdout",
     "output_type": "stream",
     "text": [
      "\r",
      "[==========                              ] 24%"
     ]
    },
    {
     "name": "stderr",
     "output_type": "stream",
     "text": [
      "Warning, empty document 28203066 passed to CoreNLP\n",
      "Warning, empty document 28159976 passed to CoreNLP\n",
      "Warning, empty document 28152139 passed to CoreNLP\n",
      "Warning, empty document 28146236 passed to CoreNLP\n",
      "Warning, empty document 28146237 passed to CoreNLP\n",
      "Warning, empty document 5294949 passed to CoreNLP\n",
      "Warning, empty document 5294947 passed to CoreNLP\n",
      "Warning, empty document 5294943 passed to CoreNLP\n",
      "Warning, empty document 5294940 passed to CoreNLP\n",
      "Warning, empty document 28191321 passed to CoreNLP\n",
      "Warning, empty document 28177049 passed to CoreNLP\n",
      "Warning, empty document 28177046 passed to CoreNLP\n",
      "Warning, empty document 28177045 passed to CoreNLP\n",
      "Warning, empty document 27477328 passed to CoreNLP\n",
      "Warning, empty document 27484038 passed to CoreNLP\n",
      "Warning, empty document 27555459 passed to CoreNLP\n"
     ]
    },
    {
     "name": "stdout",
     "output_type": "stream",
     "text": [
      "\r",
      "[===========                             ] 25%"
     ]
    },
    {
     "name": "stderr",
     "output_type": "stream",
     "text": [
      "Warning, empty document 27939045 passed to CoreNLP\n",
      "Warning, empty document 28184180 passed to CoreNLP\n",
      "Warning, empty document 28180185 passed to CoreNLP\n",
      "Warning, empty document 28148220 passed to CoreNLP\n",
      "Warning, empty document 28148277 passed to CoreNLP\n",
      "Warning, empty document 28148288 passed to CoreNLP\n",
      "Warning, empty document 28148232 passed to CoreNLP\n"
     ]
    },
    {
     "name": "stdout",
     "output_type": "stream",
     "text": [
      "\r",
      "[===========                             ] 26%"
     ]
    },
    {
     "name": "stderr",
     "output_type": "stream",
     "text": [
      "Warning, empty document 28146567 passed to CoreNLP\n",
      "Warning, empty document 28146578 passed to CoreNLP\n",
      "Warning, empty document 28146577 passed to CoreNLP\n",
      "Warning, empty document 28146553 passed to CoreNLP\n"
     ]
    },
    {
     "name": "stdout",
     "output_type": "stream",
     "text": [
      "\r",
      "[===========                             ] 27%"
     ]
    },
    {
     "name": "stderr",
     "output_type": "stream",
     "text": [
      "Warning, empty document 27846616 passed to CoreNLP\n",
      "Warning, empty document 27789675 passed to CoreNLP\n",
      "Warning, empty document 27789679 passed to CoreNLP\n"
     ]
    },
    {
     "name": "stdout",
     "output_type": "stream",
     "text": [
      "\r",
      "[============                            ] 28%"
     ]
    },
    {
     "name": "stderr",
     "output_type": "stream",
     "text": [
      "Warning, empty document 28148241 passed to CoreNLP\n",
      "Warning, empty document 28143492 passed to CoreNLP\n",
      "Warning, empty document 28148261 passed to CoreNLP\n",
      "Warning, empty document 28143545 passed to CoreNLP\n",
      "Warning, empty document 28143561 passed to CoreNLP\n",
      "Warning, empty document 28168037 passed to CoreNLP\n",
      "Warning, empty document 28143565 passed to CoreNLP\n",
      "Warning, empty document 28143511 passed to CoreNLP\n",
      "Warning, empty document 28143522 passed to CoreNLP\n",
      "Warning, empty document 28143451 passed to CoreNLP\n",
      "Warning, empty document 28143571 passed to CoreNLP\n",
      "Warning, empty document 28168005 passed to CoreNLP\n",
      "Warning, empty document 28143589 passed to CoreNLP\n",
      "Warning, empty document 28143426 passed to CoreNLP\n",
      "Warning, empty document 28143433 passed to CoreNLP\n",
      "Warning, empty document 28143526 passed to CoreNLP\n"
     ]
    },
    {
     "name": "stdout",
     "output_type": "stream",
     "text": [
      "\r",
      "[============                            ] 29%"
     ]
    },
    {
     "name": "stderr",
     "output_type": "stream",
     "text": [
      "Warning, empty document 28148260 passed to CoreNLP\n",
      "Warning, empty document 28143587 passed to CoreNLP\n",
      "Warning, empty document 28143491 passed to CoreNLP\n",
      "Warning, empty document 28143435 passed to CoreNLP\n",
      "Warning, empty document 28143541 passed to CoreNLP\n",
      "Warning, empty document 28148265 passed to CoreNLP\n",
      "Warning, empty document 28143562 passed to CoreNLP\n",
      "Warning, empty document 28143584 passed to CoreNLP\n",
      "Warning, empty document 28143520 passed to CoreNLP\n",
      "Warning, empty document 28143601 passed to CoreNLP\n",
      "Warning, empty document 28143606 passed to CoreNLP\n",
      "Warning, empty document 28148307 passed to CoreNLP\n"
     ]
    },
    {
     "name": "stdout",
     "output_type": "stream",
     "text": [
      "[=============                           ] 31%"
     ]
    },
    {
     "name": "stderr",
     "output_type": "stream",
     "text": [
      "Warning, empty document 28137381 passed to CoreNLP\n",
      "Warning, empty document 28087201 passed to CoreNLP\n"
     ]
    },
    {
     "name": "stdout",
     "output_type": "stream",
     "text": [
      "\r",
      "[=============                           ] 32%"
     ]
    },
    {
     "name": "stderr",
     "output_type": "stream",
     "text": [
      "Warning, empty document 28203208 passed to CoreNLP\n",
      "Warning, empty document 28144808 passed to CoreNLP\n"
     ]
    },
    {
     "name": "stdout",
     "output_type": "stream",
     "text": [
      "\r",
      "[==============                          ] 33%"
     ]
    },
    {
     "name": "stderr",
     "output_type": "stream",
     "text": [
      "Warning, empty document 27863903 passed to CoreNLP\n",
      "Warning, empty document 27908689 passed to CoreNLP\n",
      "Warning, empty document 27818097 passed to CoreNLP\n",
      "Warning, empty document 28164012 passed to CoreNLP\n",
      "Warning, empty document 28164013 passed to CoreNLP\n"
     ]
    },
    {
     "name": "stdout",
     "output_type": "stream",
     "text": [
      "\r",
      "[==============                          ] 34%"
     ]
    },
    {
     "name": "stderr",
     "output_type": "stream",
     "text": [
      "Warning, empty document 27506906 passed to CoreNLP\n",
      "Warning, empty document 28148904 passed to CoreNLP\n",
      "Warning, empty document 5309451 passed to CoreNLP\n",
      "Warning, empty document 28203553 passed to CoreNLP\n",
      "Warning, empty document 28203552 passed to CoreNLP\n"
     ]
    },
    {
     "name": "stdout",
     "output_type": "stream",
     "text": [
      "\r",
      "[===============                         ] 35%"
     ]
    },
    {
     "name": "stderr",
     "output_type": "stream",
     "text": [
      "Warning, empty document 28138126 passed to CoreNLP\n",
      "Warning, empty document 28194229 passed to CoreNLP\n",
      "Warning, empty document 28203105 passed to CoreNLP\n",
      "Warning, empty document 28203104 passed to CoreNLP\n",
      "Warning, empty document 28203107 passed to CoreNLP\n",
      "Warning, empty document 28203068 passed to CoreNLP\n",
      "Warning, empty document 28203070 passed to CoreNLP\n",
      "Warning, empty document 28203106 passed to CoreNLP\n",
      "Warning, empty document 28168095 passed to CoreNLP\n",
      "Warning, empty document 28168103 passed to CoreNLP\n",
      "Warning, empty document 28168111 passed to CoreNLP\n"
     ]
    },
    {
     "name": "stdout",
     "output_type": "stream",
     "text": [
      "\r",
      "[===============                         ] 36%"
     ]
    },
    {
     "name": "stderr",
     "output_type": "stream",
     "text": [
      "Warning, empty document 28143592 passed to CoreNLP\n",
      "Warning, empty document 28143478 passed to CoreNLP\n",
      "Warning, empty document 28143619 passed to CoreNLP\n",
      "Warning, empty document 28143609 passed to CoreNLP\n",
      "Warning, empty document 28143417 passed to CoreNLP\n",
      "Warning, empty document 28143400 passed to CoreNLP\n",
      "Warning, empty document 28143425 passed to CoreNLP\n",
      "Warning, empty document 28163748 passed to CoreNLP\n",
      "Warning, empty document 28143493 passed to CoreNLP\n"
     ]
    },
    {
     "name": "stdout",
     "output_type": "stream",
     "text": [
      "\r",
      "[===============                         ] 37%"
     ]
    },
    {
     "name": "stderr",
     "output_type": "stream",
     "text": [
      "Warning, empty document 28141815 passed to CoreNLP\n",
      "Warning, empty document 28141863 passed to CoreNLP\n",
      "Warning, empty document 28141847 passed to CoreNLP\n",
      "Warning, empty document 28141816 passed to CoreNLP\n"
     ]
    },
    {
     "name": "stdout",
     "output_type": "stream",
     "text": [
      "\r",
      "[================                        ] 38%"
     ]
    },
    {
     "name": "stderr",
     "output_type": "stream",
     "text": [
      "Warning, empty document 28143401 passed to CoreNLP\n",
      "Warning, empty document 28137277 passed to CoreNLP\n",
      "Warning, empty document 28143399 passed to CoreNLP\n",
      "Warning, empty document 28163789 passed to CoreNLP\n"
     ]
    },
    {
     "name": "stdout",
     "output_type": "stream",
     "text": [
      "\r",
      "[================                        ] 39%"
     ]
    },
    {
     "name": "stderr",
     "output_type": "stream",
     "text": [
      "Warning, empty document 28143472 passed to CoreNLP\n",
      "Warning, empty document 28143481 passed to CoreNLP\n",
      "Warning, empty document 28137278 passed to CoreNLP\n",
      "Warning, empty document 28143479 passed to CoreNLP\n",
      "Warning, empty document 28143623 passed to CoreNLP\n",
      "Warning, empty document 28143518 passed to CoreNLP\n",
      "Warning, empty document 28163793 passed to CoreNLP\n",
      "Warning, empty document 28143463 passed to CoreNLP\n",
      "Warning, empty document 28163782 passed to CoreNLP\n",
      "Warning, empty document 28137259 passed to CoreNLP\n",
      "Warning, empty document 28143566 passed to CoreNLP\n",
      "Warning, empty document 28143441 passed to CoreNLP\n",
      "Warning, empty document 28137264 passed to CoreNLP\n",
      "Warning, empty document 28143391 passed to CoreNLP\n",
      "Warning, empty document 28137276 passed to CoreNLP\n",
      "Warning, empty document 28143523 passed to CoreNLP\n",
      "Warning, empty document 28143405 passed to CoreNLP\n",
      "Warning, empty document 28137295 passed to CoreNLP\n",
      "Warning, empty document 28143608 passed to CoreNLP\n",
      "Warning, empty document 28163780 passed to CoreNLP\n",
      "Warning, empty document 28143622 passed to CoreNLP\n",
      "Warning, empty document 28163787 passed to CoreNLP\n",
      "Warning, empty document 28143397 passed to CoreNLP\n"
     ]
    },
    {
     "name": "stdout",
     "output_type": "stream",
     "text": [
      "\r",
      "[=================                       ] 40%"
     ]
    },
    {
     "name": "stderr",
     "output_type": "stream",
     "text": [
      "Warning, empty document 28143567 passed to CoreNLP\n",
      "Warning, empty document 28143464 passed to CoreNLP\n",
      "Warning, empty document 28143503 passed to CoreNLP\n",
      "Warning, empty document 28137245 passed to CoreNLP\n",
      "Warning, empty document 28143614 passed to CoreNLP\n",
      "Warning, empty document 28137282 passed to CoreNLP\n",
      "Warning, empty document 28137267 passed to CoreNLP\n",
      "Warning, empty document 28143497 passed to CoreNLP\n",
      "Warning, empty document 28143440 passed to CoreNLP\n",
      "Warning, empty document 28137296 passed to CoreNLP\n",
      "Warning, empty document 28143402 passed to CoreNLP\n",
      "Warning, empty document 28143410 passed to CoreNLP\n",
      "Warning, empty document 28143530 passed to CoreNLP\n",
      "Warning, empty document 28137283 passed to CoreNLP\n",
      "Warning, empty document 28143489 passed to CoreNLP\n",
      "Warning, empty document 28137273 passed to CoreNLP\n",
      "Warning, empty document 28143486 passed to CoreNLP\n",
      "Warning, empty document 28143445 passed to CoreNLP\n",
      "Warning, empty document 28143521 passed to CoreNLP\n",
      "Warning, empty document 28137254 passed to CoreNLP\n",
      "Warning, empty document 28143555 passed to CoreNLP\n",
      "Warning, empty document 28143572 passed to CoreNLP\n"
     ]
    },
    {
     "name": "stdout",
     "output_type": "stream",
     "text": [
      "[===================                     ] 45%"
     ]
    },
    {
     "name": "stderr",
     "output_type": "stream",
     "text": [
      "Warning, empty document 28210363 passed to CoreNLP\n",
      "Warning, empty document 5301304 passed to CoreNLP\n",
      "Warning, empty document 5301297 passed to CoreNLP\n",
      "Warning, empty document 28178443 passed to CoreNLP\n"
     ]
    },
    {
     "name": "stdout",
     "output_type": "stream",
     "text": [
      "\r",
      "[===================                     ] 46%"
     ]
    },
    {
     "name": "stderr",
     "output_type": "stream",
     "text": [
      "Warning, empty document 28133358 passed to CoreNLP\n",
      "Warning, empty document 28133359 passed to CoreNLP\n",
      "Warning, empty document 28180186 passed to CoreNLP\n"
     ]
    },
    {
     "name": "stdout",
     "output_type": "stream",
     "text": [
      "\r",
      "[===================                     ] 47%"
     ]
    },
    {
     "name": "stderr",
     "output_type": "stream",
     "text": [
      "Warning, empty document 28138823 passed to CoreNLP\n",
      "Warning, empty document 28203517 passed to CoreNLP\n",
      "Warning, empty document 28137305 passed to CoreNLP\n",
      "Warning, empty document 28137307 passed to CoreNLP\n",
      "Warning, empty document 28137300 passed to CoreNLP\n",
      "Warning, empty document 28137252 passed to CoreNLP\n",
      "Warning, empty document 28137275 passed to CoreNLP\n",
      "Warning, empty document 28137247 passed to CoreNLP\n",
      "Warning, empty document 28137255 passed to CoreNLP\n",
      "Warning, empty document 28163665 passed to CoreNLP\n",
      "Warning, empty document 28137280 passed to CoreNLP\n"
     ]
    },
    {
     "name": "stdout",
     "output_type": "stream",
     "text": [
      "[====================                    ] 49%"
     ]
    },
    {
     "name": "stderr",
     "output_type": "stream",
     "text": [
      "Warning, empty document 28135310 passed to CoreNLP\n",
      "Warning, empty document 28132646 passed to CoreNLP\n"
     ]
    },
    {
     "name": "stdout",
     "output_type": "stream",
     "text": [
      "[=====================                   ] 52%"
     ]
    },
    {
     "name": "stderr",
     "output_type": "stream",
     "text": [
      "Warning, empty document 27887969 passed to CoreNLP\n",
      "Warning, empty document 27865792 passed to CoreNLP\n",
      "Warning, empty document 28132958 passed to CoreNLP\n",
      "Warning, empty document 28133922 passed to CoreNLP\n"
     ]
    },
    {
     "name": "stdout",
     "output_type": "stream",
     "text": [
      "\r",
      "[======================                  ] 53%"
     ]
    },
    {
     "name": "stderr",
     "output_type": "stream",
     "text": [
      "Warning, empty document 28130961 passed to CoreNLP\n",
      "Warning, empty document 5292346 passed to CoreNLP\n",
      "Warning, empty document 5292343 passed to CoreNLP\n",
      "Warning, empty document 5292333 passed to CoreNLP\n"
     ]
    },
    {
     "name": "stdout",
     "output_type": "stream",
     "text": [
      "\r",
      "[======================                  ] 54%"
     ]
    },
    {
     "name": "stderr",
     "output_type": "stream",
     "text": [
      "Warning, empty document 28210098 passed to CoreNLP\n",
      "Warning, empty document 28129747 passed to CoreNLP\n",
      "Warning, empty document 28191448 passed to CoreNLP\n",
      "Warning, empty document 28129777 passed to CoreNLP\n",
      "Warning, empty document 28129756 passed to CoreNLP\n",
      "Warning, empty document 28129740 passed to CoreNLP\n",
      "Warning, empty document 28149498 passed to CoreNLP\n",
      "Warning, empty document 28129742 passed to CoreNLP\n",
      "Warning, empty document 28129755 passed to CoreNLP\n",
      "Warning, empty document 28129776 passed to CoreNLP\n",
      "Warning, empty document 28129775 passed to CoreNLP\n",
      "Warning, empty document 28129745 passed to CoreNLP\n",
      "Warning, empty document 28129786 passed to CoreNLP\n",
      "Warning, empty document 28129778 passed to CoreNLP\n",
      "Warning, empty document 28129744 passed to CoreNLP\n",
      "Warning, empty document 28129785 passed to CoreNLP\n",
      "Warning, empty document 28129796 passed to CoreNLP\n",
      "Warning, empty document 28129749 passed to CoreNLP\n",
      "Warning, empty document 28129782 passed to CoreNLP\n",
      "Warning, empty document 28149513 passed to CoreNLP\n",
      "Warning, empty document 28129768 passed to CoreNLP\n",
      "Warning, empty document 28129736 passed to CoreNLP\n",
      "Warning, empty document 28190990 passed to CoreNLP\n",
      "Warning, empty document 28130626 passed to CoreNLP\n",
      "Warning, empty document 28144403 passed to CoreNLP\n",
      "Warning, empty document 28126882 passed to CoreNLP\n"
     ]
    },
    {
     "name": "stdout",
     "output_type": "stream",
     "text": [
      "\r",
      "[=======================                 ] 55%"
     ]
    },
    {
     "name": "stderr",
     "output_type": "stream",
     "text": [
      "Warning, empty document 28203087 passed to CoreNLP\n",
      "Warning, empty document 28203112 passed to CoreNLP\n",
      "Warning, empty document 28126983 passed to CoreNLP\n",
      "Warning, empty document 28128193 passed to CoreNLP\n",
      "Warning, empty document 28184155 passed to CoreNLP\n",
      "Warning, empty document 28184150 passed to CoreNLP\n",
      "Warning, empty document 28184167 passed to CoreNLP\n"
     ]
    },
    {
     "name": "stdout",
     "output_type": "stream",
     "text": [
      "\r",
      "[=======================                 ] 56%"
     ]
    },
    {
     "name": "stderr",
     "output_type": "stream",
     "text": [
      "Warning, empty document 28121960 passed to CoreNLP\n",
      "Warning, empty document 28121946 passed to CoreNLP\n",
      "Warning, empty document 28121942 passed to CoreNLP\n"
     ]
    },
    {
     "name": "stdout",
     "output_type": "stream",
     "text": [
      "\r",
      "[=======================                 ] 57%"
     ]
    },
    {
     "name": "stderr",
     "output_type": "stream",
     "text": [
      "Warning, empty document 28121923 passed to CoreNLP\n",
      "Warning, empty document 28121915 passed to CoreNLP\n",
      "Warning, empty document 28180139 passed to CoreNLP\n",
      "Warning, empty document 28132002 passed to CoreNLP\n",
      "Warning, empty document 28130207 passed to CoreNLP\n",
      "Warning, empty document 28129367 passed to CoreNLP\n",
      "Warning, empty document 28129396 passed to CoreNLP\n",
      "Warning, empty document 28129400 passed to CoreNLP\n"
     ]
    },
    {
     "name": "stdout",
     "output_type": "stream",
     "text": [
      "\r",
      "[========================                ] 58%"
     ]
    },
    {
     "name": "stderr",
     "output_type": "stream",
     "text": [
      "Warning, empty document 28129402 passed to CoreNLP\n",
      "Warning, empty document 28129392 passed to CoreNLP\n",
      "Warning, empty document 28129357 passed to CoreNLP\n",
      "Warning, empty document 28129328 passed to CoreNLP\n",
      "Warning, empty document 28129327 passed to CoreNLP\n",
      "Warning, empty document 28129375 passed to CoreNLP\n",
      "Warning, empty document 28129325 passed to CoreNLP\n"
     ]
    },
    {
     "name": "stdout",
     "output_type": "stream",
     "text": [
      "\r",
      "[========================                ] 59%"
     ]
    },
    {
     "name": "stderr",
     "output_type": "stream",
     "text": [
      "Warning, empty document 28125995 passed to CoreNLP\n"
     ]
    },
    {
     "name": "stdout",
     "output_type": "stream",
     "text": [
      "\r",
      "[=========================               ] 60%"
     ]
    },
    {
     "name": "stderr",
     "output_type": "stream",
     "text": [
      "Warning, empty document 28191002 passed to CoreNLP\n"
     ]
    },
    {
     "name": "stdout",
     "output_type": "stream",
     "text": [
      "\r",
      "[=========================               ] 61%"
     ]
    },
    {
     "name": "stderr",
     "output_type": "stream",
     "text": [
      "Warning, empty document 28191455 passed to CoreNLP\n",
      "Warning, empty document 28123171 passed to CoreNLP\n",
      "Warning, empty document 28125566 passed to CoreNLP\n",
      "Warning, empty document 28123172 passed to CoreNLP\n",
      "Warning, empty document 28125073 passed to CoreNLP\n",
      "Warning, empty document 28154805 passed to CoreNLP\n",
      "Warning, empty document 28154802 passed to CoreNLP\n"
     ]
    },
    {
     "name": "stdout",
     "output_type": "stream",
     "text": [
      "\r",
      "[=========================               ] 62%"
     ]
    },
    {
     "name": "stderr",
     "output_type": "stream",
     "text": [
      "Warning, empty document 28125999 passed to CoreNLP\n",
      "Warning, empty document 28125968 passed to CoreNLP\n",
      "Warning, empty document 28149257 passed to CoreNLP\n",
      "Warning, empty document 28126013 passed to CoreNLP\n",
      "Warning, empty document 28126001 passed to CoreNLP\n"
     ]
    },
    {
     "name": "stdout",
     "output_type": "stream",
     "text": [
      "\r",
      "[==========================              ] 63%"
     ]
    },
    {
     "name": "stderr",
     "output_type": "stream",
     "text": [
      "Warning, empty document 28149327 passed to CoreNLP\n",
      "Warning, empty document 28125966 passed to CoreNLP\n",
      "Warning, empty document 28126023 passed to CoreNLP\n",
      "Warning, empty document 28126020 passed to CoreNLP\n",
      "Warning, empty document 28126034 passed to CoreNLP\n",
      "Warning, empty document 28125958 passed to CoreNLP\n",
      "Warning, empty document 28125976 passed to CoreNLP\n",
      "Warning, empty document 28125986 passed to CoreNLP\n",
      "Warning, empty document 28125989 passed to CoreNLP\n",
      "Warning, empty document 28149325 passed to CoreNLP\n",
      "Warning, empty document 28125970 passed to CoreNLP\n",
      "Warning, empty document 28126036 passed to CoreNLP\n",
      "Warning, empty document 28126004 passed to CoreNLP\n",
      "Warning, empty document 28125965 passed to CoreNLP\n",
      "Warning, empty document 28125984 passed to CoreNLP\n",
      "Warning, empty document 28125987 passed to CoreNLP\n",
      "Warning, empty document 28127936 passed to CoreNLP\n"
     ]
    },
    {
     "name": "stdout",
     "output_type": "stream",
     "text": [
      "\r",
      "[==========================              ] 64%"
     ]
    },
    {
     "name": "stderr",
     "output_type": "stream",
     "text": [
      "Warning, empty document 28125729 passed to CoreNLP\n",
      "Warning, empty document 28125617 passed to CoreNLP\n",
      "Warning, empty document 28125641 passed to CoreNLP\n",
      "Warning, empty document 28125733 passed to CoreNLP\n",
      "Warning, empty document 28125601 passed to CoreNLP\n",
      "Warning, empty document 28125598 passed to CoreNLP\n"
     ]
    },
    {
     "name": "stdout",
     "output_type": "stream",
     "text": [
      "\r",
      "[===========================             ] 65%"
     ]
    },
    {
     "name": "stderr",
     "output_type": "stream",
     "text": [
      "Warning, empty document 28125693 passed to CoreNLP\n",
      "Warning, empty document 28125711 passed to CoreNLP\n",
      "Warning, empty document 28125604 passed to CoreNLP\n"
     ]
    },
    {
     "name": "stdout",
     "output_type": "stream",
     "text": [
      "\r",
      "[===========================             ] 66%"
     ]
    },
    {
     "name": "stderr",
     "output_type": "stream",
     "text": [
      "Warning, empty document 28125731 passed to CoreNLP\n",
      "Warning, empty document 28125672 passed to CoreNLP\n",
      "Warning, empty document 28125730 passed to CoreNLP\n",
      "Warning, empty document 28125740 passed to CoreNLP\n"
     ]
    },
    {
     "name": "stdout",
     "output_type": "stream",
     "text": [
      "[============================            ] 68%"
     ]
    },
    {
     "name": "stderr",
     "output_type": "stream",
     "text": [
      "Warning, empty document 28122559 passed to CoreNLP\n",
      "Warning, empty document 28122597 passed to CoreNLP\n",
      "Warning, empty document 28122624 passed to CoreNLP\n",
      "Warning, empty document 28122512 passed to CoreNLP\n",
      "Warning, empty document 28122620 passed to CoreNLP\n",
      "Warning, empty document 28122499 passed to CoreNLP\n",
      "Warning, empty document 28122547 passed to CoreNLP\n",
      "Warning, empty document 28122586 passed to CoreNLP\n",
      "Warning, empty document 28122515 passed to CoreNLP\n",
      "Warning, empty document 28122579 passed to CoreNLP\n",
      "Warning, empty document 28122494 passed to CoreNLP\n",
      "Warning, empty document 28122558 passed to CoreNLP\n",
      "Warning, empty document 28122497 passed to CoreNLP\n",
      "Warning, empty document 28122641 passed to CoreNLP\n",
      "Warning, empty document 28122570 passed to CoreNLP\n",
      "Warning, empty document 28122574 passed to CoreNLP\n",
      "Warning, empty document 28122575 passed to CoreNLP\n",
      "Warning, empty document 28149324 passed to CoreNLP\n",
      "Warning, empty document 28122528 passed to CoreNLP\n",
      "Warning, empty document 28124221 passed to CoreNLP\n",
      "Warning, empty document 28184220 passed to CoreNLP\n",
      "Warning, empty document 28184195 passed to CoreNLP\n"
     ]
    },
    {
     "name": "stdout",
     "output_type": "stream",
     "text": [
      "\r",
      "[============================            ] 69%"
     ]
    },
    {
     "name": "stderr",
     "output_type": "stream",
     "text": [
      "Warning, empty document 28163834 passed to CoreNLP\n"
     ]
    },
    {
     "name": "stdout",
     "output_type": "stream",
     "text": [
      "\r",
      "[=============================           ] 70%"
     ]
    },
    {
     "name": "stderr",
     "output_type": "stream",
     "text": [
      "Warning, empty document 28130553 passed to CoreNLP\n",
      "Warning, empty document 5302138 passed to CoreNLP\n"
     ]
    },
    {
     "name": "stdout",
     "output_type": "stream",
     "text": [
      "\r",
      "[=============================           ] 71%"
     ]
    },
    {
     "name": "stderr",
     "output_type": "stream",
     "text": [
      "Warning, empty document 28179967 passed to CoreNLP\n",
      "Warning, empty document 28179964 passed to CoreNLP\n",
      "Warning, empty document 28182151 passed to CoreNLP\n",
      "Warning, empty document 28182131 passed to CoreNLP\n",
      "Warning, empty document 28182130 passed to CoreNLP\n",
      "Warning, empty document 28122835 passed to CoreNLP\n",
      "Warning, empty document 28122829 passed to CoreNLP\n",
      "Warning, empty document 28122831 passed to CoreNLP\n"
     ]
    },
    {
     "name": "stdout",
     "output_type": "stream",
     "text": [
      "\r",
      "[=============================           ] 72%"
     ]
    },
    {
     "name": "stderr",
     "output_type": "stream",
     "text": [
      "Warning, empty document 28149696 passed to CoreNLP\n",
      "Warning, empty document 28149695 passed to CoreNLP\n",
      "Warning, empty document 28124196 passed to CoreNLP\n",
      "Warning, empty document 28124234 passed to CoreNLP\n",
      "Warning, empty document 28122495 passed to CoreNLP\n",
      "Warning, empty document 28122545 passed to CoreNLP\n",
      "Warning, empty document 28122525 passed to CoreNLP\n",
      "Warning, empty document 28122617 passed to CoreNLP\n",
      "Warning, empty document 28122543 passed to CoreNLP\n",
      "Warning, empty document 28179017 passed to CoreNLP\n",
      "Warning, empty document 28178988 passed to CoreNLP\n",
      "Warning, empty document 28178976 passed to CoreNLP\n",
      "Warning, empty document 28179003 passed to CoreNLP\n"
     ]
    },
    {
     "name": "stdout",
     "output_type": "stream",
     "text": [
      "\r",
      "[==============================          ] 73%"
     ]
    },
    {
     "name": "stderr",
     "output_type": "stream",
     "text": [
      "Warning, empty document 5299153 passed to CoreNLP\n",
      "Warning, empty document 5299087 passed to CoreNLP\n",
      "Warning, empty document 28173803 passed to CoreNLP\n",
      "Warning, empty document 28173758 passed to CoreNLP\n"
     ]
    },
    {
     "name": "stdout",
     "output_type": "stream",
     "text": [
      "[===============================         ] 75%"
     ]
    },
    {
     "name": "stderr",
     "output_type": "stream",
     "text": [
      "Warning, empty document 28028288 passed to CoreNLP\n",
      "Warning, empty document 26830547 passed to CoreNLP\n",
      "Warning, empty document 27807624 passed to CoreNLP\n"
     ]
    },
    {
     "name": "stdout",
     "output_type": "stream",
     "text": [
      "\r",
      "[===============================         ] 76%"
     ]
    },
    {
     "name": "stderr",
     "output_type": "stream",
     "text": [
      "Warning, empty document 27358229 passed to CoreNLP\n",
      "Warning, empty document 5270447 passed to CoreNLP\n",
      "Warning, empty document 21223436 passed to CoreNLP\n",
      "Warning, empty document 25684049 passed to CoreNLP\n"
     ]
    },
    {
     "name": "stdout",
     "output_type": "stream",
     "text": [
      "\r",
      "[===============================         ] 77%"
     ]
    },
    {
     "name": "stderr",
     "output_type": "stream",
     "text": [
      "Warning, empty document 5278193 passed to CoreNLP\n",
      "Warning, empty document 28138108 passed to CoreNLP\n",
      "Warning, empty document 28138111 passed to CoreNLP\n",
      "Warning, empty document 28138112 passed to CoreNLP\n",
      "Warning, empty document 28138110 passed to CoreNLP\n",
      "Warning, empty document 28178922 passed to CoreNLP\n",
      "Warning, empty document 5297203 passed to CoreNLP\n",
      "Warning, empty document 28173830 passed to CoreNLP\n",
      "Warning, empty document 28173834 passed to CoreNLP\n"
     ]
    },
    {
     "name": "stdout",
     "output_type": "stream",
     "text": [
      "[================================        ] 79%"
     ]
    },
    {
     "name": "stderr",
     "output_type": "stream",
     "text": [
      "Warning, empty document 28173817 passed to CoreNLP\n",
      "Warning, empty document 28173833 passed to CoreNLP\n",
      "Warning, empty document 28173878 passed to CoreNLP\n",
      "Warning, empty document 28173812 passed to CoreNLP\n",
      "Warning, empty document 28173846 passed to CoreNLP\n",
      "Warning, empty document 28173875 passed to CoreNLP\n",
      "Warning, empty document 28173848 passed to CoreNLP\n",
      "Warning, empty document 28173879 passed to CoreNLP\n",
      "Warning, empty document 28173829 passed to CoreNLP\n",
      "Warning, empty document 28173859 passed to CoreNLP\n",
      "Warning, empty document 28173850 passed to CoreNLP\n",
      "Warning, empty document 5297176 passed to CoreNLP\n",
      "Warning, empty document 28173832 passed to CoreNLP\n",
      "Warning, empty document 5297167 passed to CoreNLP\n",
      "Warning, empty document 28173767 passed to CoreNLP\n",
      "Warning, empty document 28173753 passed to CoreNLP\n",
      "Warning, empty document 28173831 passed to CoreNLP\n",
      "Warning, empty document 28173757 passed to CoreNLP\n",
      "Warning, empty document 28173788 passed to CoreNLP\n",
      "Warning, empty document 28173869 passed to CoreNLP\n",
      "Warning, empty document 28173861 passed to CoreNLP\n",
      "Warning, empty document 5297125 passed to CoreNLP\n",
      "Warning, empty document 28173844 passed to CoreNLP\n",
      "Warning, empty document 28173783 passed to CoreNLP\n",
      "Warning, empty document 28173805 passed to CoreNLP\n",
      "Warning, empty document 5297118 passed to CoreNLP\n",
      "Warning, empty document 5297095 passed to CoreNLP\n"
     ]
    },
    {
     "name": "stdout",
     "output_type": "stream",
     "text": [
      "\r",
      "[=================================       ] 80%"
     ]
    },
    {
     "name": "stderr",
     "output_type": "stream",
     "text": [
      "Warning, empty document 28173852 passed to CoreNLP\n",
      "Warning, empty document 28173748 passed to CoreNLP\n",
      "Warning, empty document 28173860 passed to CoreNLP\n",
      "Warning, empty document 28173770 passed to CoreNLP\n",
      "Warning, empty document 28173863 passed to CoreNLP\n",
      "Warning, empty document 28173762 passed to CoreNLP\n",
      "Warning, empty document 28173835 passed to CoreNLP\n",
      "Warning, empty document 28173797 passed to CoreNLP\n",
      "Warning, empty document 28166731 passed to CoreNLP\n",
      "Warning, empty document 28166789 passed to CoreNLP\n",
      "Warning, empty document 28184278 passed to CoreNLP\n",
      "Warning, empty document 28166818 passed to CoreNLP\n",
      "Warning, empty document 28173777 passed to CoreNLP\n",
      "Warning, empty document 28173781 passed to CoreNLP\n"
     ]
    },
    {
     "name": "stdout",
     "output_type": "stream",
     "text": [
      "[=================================       ] 82%"
     ]
    },
    {
     "name": "stderr",
     "output_type": "stream",
     "text": [
      "Warning, empty document 5295218 passed to CoreNLP\n",
      "Warning, empty document 28166742 passed to CoreNLP\n",
      "Warning, empty document 5295214 passed to CoreNLP\n",
      "Warning, empty document 28166721 passed to CoreNLP\n",
      "Warning, empty document 28166797 passed to CoreNLP\n",
      "Warning, empty document 28166753 passed to CoreNLP\n",
      "Warning, empty document 28166726 passed to CoreNLP\n",
      "Warning, empty document 28166778 passed to CoreNLP\n",
      "Warning, empty document 28166748 passed to CoreNLP\n"
     ]
    },
    {
     "name": "stdout",
     "output_type": "stream",
     "text": [
      "\r",
      "[==================================      ] 83%"
     ]
    },
    {
     "name": "stderr",
     "output_type": "stream",
     "text": [
      "Warning, empty document 28166831 passed to CoreNLP\n",
      "Warning, empty document 28166756 passed to CoreNLP\n",
      "Warning, empty document 28166815 passed to CoreNLP\n"
     ]
    },
    {
     "name": "stdout",
     "output_type": "stream",
     "text": [
      "\r",
      "[==================================      ] 84%"
     ]
    },
    {
     "name": "stderr",
     "output_type": "stream",
     "text": [
      "Warning, empty document 28166719 passed to CoreNLP\n",
      "Warning, empty document 28166727 passed to CoreNLP\n",
      "Warning, empty document 28166744 passed to CoreNLP\n",
      "Warning, empty document 28166825 passed to CoreNLP\n",
      "Warning, empty document 28166767 passed to CoreNLP\n",
      "Warning, empty document 28166813 passed to CoreNLP\n",
      "Warning, empty document 28166781 passed to CoreNLP\n",
      "Warning, empty document 28184177 passed to CoreNLP\n",
      "Warning, empty document 28166774 passed to CoreNLP\n",
      "Warning, empty document 28166732 passed to CoreNLP\n",
      "Warning, empty document 28184178 passed to CoreNLP\n",
      "Warning, empty document 28166795 passed to CoreNLP\n",
      "Warning, empty document 28184174 passed to CoreNLP\n",
      "Warning, empty document 28184247 passed to CoreNLP\n",
      "Warning, empty document 28166765 passed to CoreNLP\n",
      "Warning, empty document 28166749 passed to CoreNLP\n",
      "Warning, empty document 28166729 passed to CoreNLP\n",
      "Warning, empty document 28166799 passed to CoreNLP\n",
      "Warning, empty document 28166833 passed to CoreNLP\n",
      "Warning, empty document 28166784 passed to CoreNLP\n",
      "Warning, empty document 28166746 passed to CoreNLP\n",
      "Warning, empty document 28166834 passed to CoreNLP\n",
      "Warning, empty document 28166761 passed to CoreNLP\n",
      "Warning, empty document 28166766 passed to CoreNLP\n",
      "Warning, empty document 28166762 passed to CoreNLP\n",
      "Warning, empty document 28166758 passed to CoreNLP\n",
      "Warning, empty document 28166776 passed to CoreNLP\n"
     ]
    },
    {
     "name": "stdout",
     "output_type": "stream",
     "text": [
      "\r",
      "[===================================     ] 85%"
     ]
    },
    {
     "name": "stderr",
     "output_type": "stream",
     "text": [
      "Warning, empty document 28162093 passed to CoreNLP\n",
      "Warning, empty document 5292810 passed to CoreNLP\n",
      "Warning, empty document 28162091 passed to CoreNLP\n",
      "Warning, empty document 28166792 passed to CoreNLP\n",
      "Warning, empty document 28166716 passed to CoreNLP\n",
      "Warning, empty document 28166733 passed to CoreNLP\n",
      "Warning, empty document 28166796 passed to CoreNLP\n"
     ]
    },
    {
     "name": "stdout",
     "output_type": "stream",
     "text": [
      "[===================================     ] 87%"
     ]
    },
    {
     "name": "stderr",
     "output_type": "stream",
     "text": [
      "Warning, empty document 5289869 passed to CoreNLP\n",
      "Warning, empty document 28180098 passed to CoreNLP\n",
      "Warning, empty document 28174606 passed to CoreNLP\n",
      "Warning, empty document 28160777 passed to CoreNLP\n",
      "Warning, empty document 28174605 passed to CoreNLP\n",
      "Warning, empty document 28160778 passed to CoreNLP\n",
      "Warning, empty document 28174603 passed to CoreNLP\n",
      "Warning, empty document 28160779 passed to CoreNLP\n",
      "Warning, empty document 28159011 passed to CoreNLP\n"
     ]
    },
    {
     "name": "stdout",
     "output_type": "stream",
     "text": [
      "\r",
      "[====================================    ] 88%"
     ]
    },
    {
     "name": "stderr",
     "output_type": "stream",
     "text": [
      "Warning, empty document 28151878 passed to CoreNLP\n",
      "Warning, empty document 28151848 passed to CoreNLP\n",
      "Warning, empty document 28174608 passed to CoreNLP\n"
     ]
    },
    {
     "name": "stdout",
     "output_type": "stream",
     "text": [
      "\r",
      "[====================================    ] 89%"
     ]
    },
    {
     "name": "stderr",
     "output_type": "stream",
     "text": [
      "Warning, empty document 28158970 passed to CoreNLP\n",
      "Warning, empty document 28158983 passed to CoreNLP\n",
      "Warning, empty document 28158976 passed to CoreNLP\n",
      "Warning, empty document 28159013 passed to CoreNLP\n",
      "Warning, empty document 28158974 passed to CoreNLP\n",
      "Warning, empty document 28158968 passed to CoreNLP\n",
      "Warning, empty document 28174624 passed to CoreNLP\n",
      "Warning, empty document 28158999 passed to CoreNLP\n",
      "Warning, empty document 28159016 passed to CoreNLP\n",
      "Warning, empty document 28158969 passed to CoreNLP\n",
      "Warning, empty document 28158993 passed to CoreNLP\n",
      "Warning, empty document 28158980 passed to CoreNLP\n",
      "Warning, empty document 28174625 passed to CoreNLP\n",
      "Warning, empty document 28174596 passed to CoreNLP\n",
      "Warning, empty document 28159014 passed to CoreNLP\n"
     ]
    },
    {
     "name": "stdout",
     "output_type": "stream",
     "text": [
      "\r",
      "[=====================================   ] 90%"
     ]
    },
    {
     "name": "stderr",
     "output_type": "stream",
     "text": [
      "Warning, empty document 28158989 passed to CoreNLP\n",
      "Warning, empty document 28158975 passed to CoreNLP\n"
     ]
    },
    {
     "name": "stdout",
     "output_type": "stream",
     "text": [
      "\r",
      "[=====================================   ] 91%"
     ]
    },
    {
     "name": "stderr",
     "output_type": "stream",
     "text": [
      "Warning, empty document 28168124 passed to CoreNLP\n",
      "Warning, empty document 28168120 passed to CoreNLP\n",
      "Warning, empty document 28168113 passed to CoreNLP\n",
      "Warning, empty document 28174676 passed to CoreNLP\n",
      "Warning, empty document 28153039 passed to CoreNLP\n",
      "Warning, empty document 28152985 passed to CoreNLP\n",
      "Warning, empty document 28174597 passed to CoreNLP\n",
      "Warning, empty document 28174607 passed to CoreNLP\n",
      "Warning, empty document 28153035 passed to CoreNLP\n"
     ]
    },
    {
     "name": "stdout",
     "output_type": "stream",
     "text": [
      "\r",
      "[=====================================   ] 92%"
     ]
    },
    {
     "name": "stderr",
     "output_type": "stream",
     "text": [
      "Warning, empty document 28174513 passed to CoreNLP\n",
      "Warning, empty document 28152982 passed to CoreNLP\n",
      "Warning, empty document 28153004 passed to CoreNLP\n",
      "Warning, empty document 28153005 passed to CoreNLP\n",
      "Warning, empty document 28153008 passed to CoreNLP\n",
      "Warning, empty document 28153015 passed to CoreNLP\n",
      "Warning, empty document 28152976 passed to CoreNLP\n",
      "Warning, empty document 28174665 passed to CoreNLP\n",
      "Warning, empty document 28174663 passed to CoreNLP\n",
      "Warning, empty document 28153013 passed to CoreNLP\n",
      "Warning, empty document 28153028 passed to CoreNLP\n",
      "Warning, empty document 28153054 passed to CoreNLP\n",
      "Warning, empty document 28184257 passed to CoreNLP\n",
      "Warning, empty document 28184176 passed to CoreNLP\n",
      "Warning, empty document 28152979 passed to CoreNLP\n",
      "Warning, empty document 28184234 passed to CoreNLP\n",
      "Warning, empty document 28153010 passed to CoreNLP\n",
      "Warning, empty document 28122501 passed to CoreNLP\n",
      "Warning, empty document 28149200 passed to CoreNLP\n"
     ]
    },
    {
     "name": "stdout",
     "output_type": "stream",
     "text": [
      "\r",
      "[======================================  ] 93%"
     ]
    },
    {
     "name": "stderr",
     "output_type": "stream",
     "text": [
      "Warning, empty document 28122637 passed to CoreNLP\n",
      "Warning, empty document 28122514 passed to CoreNLP\n",
      "Warning, empty document 28122610 passed to CoreNLP\n",
      "Warning, empty document 28122511 passed to CoreNLP\n"
     ]
    },
    {
     "name": "stdout",
     "output_type": "stream",
     "text": [
      "\r",
      "[======================================  ] 94%"
     ]
    },
    {
     "name": "stderr",
     "output_type": "stream",
     "text": [
      "Warning, empty document 28158198 passed to CoreNLP\n",
      "Warning, empty document 28158243 passed to CoreNLP\n"
     ]
    },
    {
     "name": "stdout",
     "output_type": "stream",
     "text": [
      "\r",
      "[======================================= ] 95%"
     ]
    },
    {
     "name": "stderr",
     "output_type": "stream",
     "text": [
      "Warning, empty document 28158195 passed to CoreNLP\n",
      "Warning, empty document 28158236 passed to CoreNLP\n",
      "Warning, empty document 28158261 passed to CoreNLP\n",
      "Warning, empty document 28158257 passed to CoreNLP\n",
      "Warning, empty document 28158225 passed to CoreNLP\n",
      "Warning, empty document 28158226 passed to CoreNLP\n"
     ]
    },
    {
     "name": "stdout",
     "output_type": "stream",
     "text": [
      "\r",
      "[======================================= ] 96%"
     ]
    },
    {
     "name": "stderr",
     "output_type": "stream",
     "text": [
      "Warning, empty document 5289951 passed to CoreNLP\n",
      "Warning, empty document 28155204 passed to CoreNLP\n",
      "Warning, empty document 28151921 passed to CoreNLP\n"
     ]
    },
    {
     "name": "stdout",
     "output_type": "stream",
     "text": [
      "\r",
      "[======================================= ] 97%"
     ]
    },
    {
     "name": "stderr",
     "output_type": "stream",
     "text": [
      "Warning, empty document 28203114 passed to CoreNLP\n",
      "Warning, empty document 28203094 passed to CoreNLP\n",
      "Warning, empty document 28155029 passed to CoreNLP\n",
      "Warning, empty document 28152068 passed to CoreNLP\n",
      "Warning, empty document 28151975 passed to CoreNLP\n"
     ]
    },
    {
     "name": "stdout",
     "output_type": "stream",
     "text": [
      "\r",
      "[========================================] 98%"
     ]
    },
    {
     "name": "stderr",
     "output_type": "stream",
     "text": [
      "Warning, empty document 28152105 passed to CoreNLP\n",
      "Warning, empty document 28152040 passed to CoreNLP\n",
      "Warning, empty document 28152039 passed to CoreNLP\n",
      "Warning, empty document 28152087 passed to CoreNLP\n",
      "Warning, empty document 28152011 passed to CoreNLP\n"
     ]
    },
    {
     "name": "stdout",
     "output_type": "stream",
     "text": [
      "\r",
      "[========================================] 99%"
     ]
    },
    {
     "name": "stderr",
     "output_type": "stream",
     "text": [
      "Warning, empty document 28151991 passed to CoreNLP\n",
      "Warning, empty document 28151948 passed to CoreNLP\n"
     ]
    },
    {
     "name": "stdout",
     "output_type": "stream",
     "text": [
      "\r",
      "[========================================] 100%"
     ]
    },
    {
     "name": "stderr",
     "output_type": "stream",
     "text": [
      "Warning, empty document 28151982 passed to CoreNLP\n",
      "Warning, empty document 28152069 passed to CoreNLP\n"
     ]
    },
    {
     "name": "stdout",
     "output_type": "stream",
     "text": [
      "[========================================] 100%%\n",
      "\n",
      "Running UDF...\n",
      "[========================================] 100%%\n",
      "\n",
      "('Documents:', 1438)\n",
      "('Sentences:', 13625)\n"
     ]
    }
   ],
   "source": [
    "# Step 1a\n",
    "#------------------------------------------------------------------------------\n",
    "# We bgin by initializing a Document Preprocessor\n",
    "#------------------------------------------------------------------------------\n",
    "from snorkel.parser import XMLMultiDocPreprocessor\n",
    "from snorkel.parser import CorpusParser\n",
    "from snorkel.models import Document, Sentence\n",
    "\n",
    "# training corpus\n",
    "file_path = 'articles/training.xml'\n",
    "train_preprocessor = XMLMultiDocPreprocessor(\n",
    "    path=file_path,\n",
    "    doc='.//article',\n",
    "    text='.//front/article-meta/abstract/p/text()',\n",
    "    id=  './/front/article-meta/article-id/text()'\n",
    ")\n",
    "\n",
    "# dev corpus\n",
    "file_path = 'articles/development.xml'\n",
    "dev_preprocessor = XMLMultiDocPreprocessor(\n",
    "    path=file_path,    \n",
    "    doc='.//document',    \n",
    "    text='.//passage/text/text()',    \n",
    "    id='.//id/text()'\n",
    ")\n",
    "\n",
    "# Steps 1b-c\n",
    "#------------------------------------------------------------------------------\n",
    "# Next, we set up a CorpusParser and run it on our corpus\n",
    "#------------------------------------------------------------------------------\n",
    "corpus_parser = CorpusParser()\n",
    "corpus_parser.apply(list(train_preprocessor)) #parallelism can be run with a Postgres DBMS, but not SQLite\n",
    "corpus_parser.apply(list(dev_preprocessor), clear=False)\n",
    "# Let's now analayze the counts of documents and sentences in our corpus\n",
    "# ... Go ahead and ignore the \"empty document\" message - they're being read, \n",
    "#     but they're in a non-standard structure \n",
    "\n",
    "print(\"Documents:\", session.query(Document).count())\n",
    "print(\"Sentences:\", session.query(Sentence).count())\n"
   ]
  },
  {
   "cell_type": "markdown",
   "metadata": {},
   "source": [
    "# 2) Candidate (Relation) Extraction\n",
    "The next step is to extract _candidates_ from our corpus. A `candidate` in Snorkel are the objects for which we want to make predictions. In this case, the candidates are pairs of people mentioned in sentences, and our task is to predict which pairs are described as married in the associated text.\n",
    "\n",
    "* [2a] Defining a Candidate Schema\n",
    "* [2b] Constructing a Candidate Extractor\n",
    "* [2c] Loading Sentences and Partitioning by Document\n",
    "* [2d] Candidate Extraction\n",
    "* [2e] Inspecting Candidates in the Viewer\n",
    "* [2f] Loading External \"Gold\" Labels\n",
    "* [2f] Relations Generation."
   ]
  },
  {
   "cell_type": "code",
   "execution_count": 3,
   "metadata": {},
   "outputs": [
    {
     "name": "stdout",
     "output_type": "stream",
     "text": [
      "1438\n"
     ]
    }
   ],
   "source": [
    "from snorkel.models import candidate_subclass\n",
    "from snorkel.candidates import Ngrams, CandidateExtractor\n",
    "from snorkel.matchers import PersonMatcher\n",
    "import matchers\n",
    "from snorkel.models import Document\n",
    "from snorkel.viewer import SentenceNgramViewer\n",
    "import os\n",
    "\n",
    "# Step 2a\n",
    "#------------------------------------------------------------------------------\n",
    "# We define the schema of the relation mention we want to extract.\n",
    "#------------------------------------------------------------------------------\n",
    "BiomarkerCondition = candidate_subclass('BiomarkerCondition', ['biomarker', 'condition'])\n",
    "\n",
    "# Step 2b\n",
    "#------------------------------------------------------------------------------\n",
    "# We write a basic function to extract candidate relation (biomarker-condition) \n",
    "# mentions from the corpus. Utilizes the SentenceParser instantiated.\n",
    "#------------------------------------------------------------------------------\n",
    "# N-gram creation\n",
    "biomarker_ngrams = Ngrams(n_max=1)\n",
    "condition_ngrams = Ngrams(n_max=5)\n",
    "\n",
    "# Create our two Matchers\n",
    "bMatcher = matchers.getBiomarkerMatcher()\n",
    "cMatcher = matchers.getDiseaseMatcher()\n",
    "    \n",
    "# Building the CandidateExtractor \n",
    "cand_extractor = CandidateExtractor(BiomarkerCondition, [biomarker_ngrams, condition_ngrams], [bMatcher, cMatcher])\n",
    "\n",
    "# Step 2c\n",
    "#------------------------------------------------------------------------------\n",
    "# Let's load the training sentences \n",
    "#------------------------------------------------------------------------------\n",
    "docs = session.query(Document).order_by(Document.name).all()\n",
    "ld = len(docs)\n",
    "print ld\n",
    "train_sents = set()\n",
    "dev_sents = set()\n",
    "for i,doc in enumerate(docs):\n",
    "    if(i >= len(docs) - 160):\n",
    "        for s in doc.sentences:\n",
    "            dev_sents.add(s)\n",
    "    else:\n",
    "        for s in doc.sentences:\n",
    "            train_sents.add(s)\n",
    "#Insert Dev and Test!!!!\n"
   ]
  },
  {
   "cell_type": "code",
   "execution_count": 5,
   "metadata": {},
   "outputs": [],
   "source": [
    "# Step 2d\n",
    "#------------------------------------------------------------------------------\n",
    "# Now, we run our CandidateExtractor and pull the candidate relations\n",
    "#------------------------------------------------------------------------------\n",
    "# %time cand_extractor.apply(train_sents, split=0)\n",
    "# train_cands = session.query(BiomarkerCondition).filter(BiomarkerCondition.split == 0).all()\n",
    "# print(\"Number of candidates:\", len(train_cands))\n",
    "\n",
    "\n",
    "# %time cand_extractor.apply(dev_sents, split=0)\n",
    "# dev_cands = session.query(BiomarkerCondition).filter(BiomarkerCondition.split == 0).all()\n",
    "# print(\"Number of candidates:\", len(dev_cands))\n",
    "\n",
    "train_cands = session.query(BiomarkerCondition).filter(BiomarkerCondition.split == 0).all()\n",
    "dev_cands = session.query(BiomarkerCondition).filter(BiomarkerCondition.split == 1).all()\n",
    "\n",
    "\n",
    "# %time\n",
    "# for i, sents in enumerate([dev_sents, train_sents]):\n",
    "#     cand_extractor.apply(sents, split=i+1)\n",
    "#     train_cands = session.query(BiomarkerCondition).filter(BiomarkerCondition.split == i+1)\n",
    "\n",
    "\n",
    "# Step 2e\n",
    "#------------------------------------------------------------------------------\n",
    "# Time for inspection! Manually generating labels with the viewer.\n",
    "#------------------------------------------------------------------------------\n",
    "\n",
    "# for some reason, the viewer isn't responding....\n"
   ]
  },
  {
   "cell_type": "code",
   "execution_count": 6,
   "metadata": {},
   "outputs": [
    {
     "name": "stdout",
     "output_type": "stream",
     "text": [
      "Here are some CANDIDATES extracted: \n",
      "[]\n",
      "\n",
      " Here are some SENTENCES extracted: \n",
      "\n",
      "Sentence(Document 21993267,0,In an effort to identify neuronal repair mechanisms of the major pelvic ganglion (MPG), we evaluated changes in the expression of nestin, an intermediate filament protein and neural stem cell marker following cavernous nerve crush injury (CNI).)\n",
      "Sentence(Document 24946761,0,Malignant gliomas are devastating tumours that frequently kill patients within 1 year of diagnosis.)\n",
      "Sentence(Document 25404199,0,Epidermal growth factor receptor (EGFR) tyrosine kinase inhibitors (TKIs) such as gefitinib are one of gold standard treatment options for nonsmall-cell lung cancer (NSCLC) patients, which eventually fail due to the acquired resistance and relapse because of the development of secondary activating mutations such as T790M in EGFR.)\n",
      "Sentence(Document 26206605,0,Neuropsychological research on adults with ADHD showed deficits in various aspects of attention.)\n",
      "Sentence(Document 26245740,0,In the latter half of the 20th century, among participants of the Framingham Heart Study, incidence of heart failure (HF) has declined by about a third in women but not in men and survival after the onset of HF has improved in both sexes; however, HF remains highly lethal with over 50% dying within 5 years after onset of HF.)\n",
      "Sentence(Document 26335740,0,Motor impairments in autism spectrum disorders (ASD) have received far less research attention than core social-communication and cognitive features.)\n",
      "Sentence(Document 26419597,0,Adults with attention deficit hyperactivity disorder (ADHD) suffer from various impairments of cognitive, emotional and social functioning, which can have considerable consequences for many areas of daily living.)\n",
      "Sentence(Document 26649857,0,Many psychiatric disorders, like schizophrenia, affective disorders, addictions and different forms of dementia are associated with sleep disturbances.)\n",
      "Sentence(Document 26699378,0,Evidence on ethnic enclave-health associations for Asian Americans is limited due to an inconsistent definition of ethnic enclave.)\n",
      "Sentence(Document 26729362,0,Obstructive sleep apnea (OSA) can negatively affect the patient’s physical and psychological functioning, as well as their quality of life.)\n",
      "Sentence(Document 26767526,0,Despite the lack of placebo-controlled trials, glucocorticoids are considered the mainstay of initial treatment for idiopathic inflammatory myopathy (IIMs) and myositis-associated ILD (MA-ILD).)\n",
      "Sentence(Document 26778574,0,Herpesviruses, like most DNA viruses, replicate their genomes in the host cell nucleus.)\n",
      "Sentence(Document 26900040,0,We investigate the role of distal, proximal, and child risk factors as predictors of reading readiness and attention and behavior in children at risk of dyslexia.)\n",
      "Sentence(Document 26980008,0,Cytosolic and mitochondrial human branched chain aminotransferase (hBCATc and hBCATm, respectively) play an integral role in brain glutamate metabolism.)\n",
      "Sentence(Document 26987530,0,Epigenetic biomarkers, such as DNA methylation, can increase cancer risk through altering gene expression.)\n",
      "Sentence(Document 27031869,0,Measuring population health with morbidity and mortality data, often collected at the site of care, fails to capture the individual's perspective on health and well-being.)\n",
      "Sentence(Document 27177653,0,Mass cytometry is a novel platform for high-dimensional phenotypic and functional analysis of single cells.)\n",
      "Sentence(Document 27191652,0,Recent success of using agents inhibiting the major immune check point, programmed cell death-1 (PD-1) pathway, offers a great promise for effective cancer therapy.)\n",
      "Sentence(Document 27313000,0,Cryo-electron tomography (cryoET) allows 3D structural information to be obtained from cells and other biological samples in their close-to-native state.)\n",
      "Sentence(Document 27329598,0,Near-infrared fluorescence (NIRF) imaging agents are promising tools for noninvasive cancer imaging.)\n",
      "Sentence(Document 27329599,0,In recent years, recurrent somatic mutations in epigenetic regulators have been identified in patients with hematological malignancies.)\n",
      "Sentence(Document 27385000,0,There is strong evidence supporting the role of the plasminogen activator system in head and neck squamous cell carcinoma (HNSCC), particularly of its uPA (urokinase plasminogen activator) / uPAR (urokinase plasminogen activator receptor) and SERPINE1 components.)\n",
      "Sentence(Document 27409165,0,Maspin is a tumor suppressor that stimulates apoptosis and inhibits metastasis in various cancer types, including hepatocellular carcinoma (HCC).)\n",
      "Sentence(Document 27409345,0,Previously, we reported that MYC oncoprotein down-regulates the transcription of human MC-let-7a-1~let-7d microRNA cluster in hepatocarcinoma (HCC).)\n",
      "Sentence(Document 27418145,0,High-throughput next-generation sequencing methods have recently provided a detailed picture of the genetic landscape of neuroendocrine tumors (NETs), revealing recurrent mutations of chromatin-remodeling genes and little-to-no pathogenetic role for oncogenes commonly mutated in cancer.)\n",
      "Sentence(Document 27421140,0,The RNAse III endonuclease DICER is a key regulator of microRNA (miRNA) biogenesis and is frequently decreased in a variety of malignancies.)\n",
      "Sentence(Document 27429196,0,Pancreatic cancer (PC) is one of the most common causes of cancer-related death.)\n",
      "Sentence(Document 27429198,0,While the mechanisms underlying apoptosis and autophagy have been well characterized over recent decades, another regulated cell death event, necroptosis, remains poorly understood.)\n",
      "Sentence(Document 27447560,0,Influencing cancer metabolism by lifestyle changes is an attractive strategy as - if effective - exercise-induced problems may be less severe than those induced by classical anti-cancer therapies.)\n",
      "Sentence(Document 27447743,0,Here, we found that both SAHA and MG132 synergistically inhibited proliferation, glycolysis and mitochondrial oxidization, induced cell cycle arrest and apoptosis in MGC-803 and MKN28 cells.)\n",
      "Sentence(Document 27447744,0,The X-linked inhibitor of apoptosis protein (XIAP) contains three N-terminal BIR domains that mediate anti-apoptosis and one C-terminal RING finger domain whose function(s) are not fully defined.)\n",
      "Sentence(Document 27447749,0,Human cancers exhibit significant cellular heterogeneity featuring tumorigenic cancer stem cells (CSCs) in addition to more differentiated progeny with limited tumor-initiating capabilities.)\n",
      "Sentence(Document 27447860,0,Cervical cancer is the second cause of cancer death in females in their 20s and 30s, but there were limited studies about its prognosis.)\n",
      "Sentence(Document 27447861,0,Metabolic reprogramming toward aerobic glycolysis and lactate fermentation supplies cancer cells with intermediate metabolites, which are used as macromolecule precursors.)\n",
      "Sentence(Document 27448961,0,Colorectal cancer lethality usually results from post-treatment relapse in the majority of stage II-IV patients, due to the enhanced resistance of Cancer Stem Cells (CSCs).)\n",
      "Sentence(Document 27462774,0,Despite significant improvement in treatment of childhood acute myeloid leukemia (AML), 30% of patients experience disease recurrence, which is still the major cause of treatment failure and death in these patients.)\n",
      "Sentence(Document 27462775,0,Cell death is a critical biological process involved in many important functions, and defects in this system are usually linked with numerous human diseases including cancers.)\n",
      "Sentence(Document 27462779,0,Around, 30–40% of HER2-positive breast cancers do not show substantial clinical benefit from the targeted therapy and, thus, the mechanisms underlying resistance remain partially unknown.)\n",
      "Sentence(Document 27462781,0,Cytarabine (Ara-C) is a first line clinical therapeutic agent for treatment of acute myeloid leukemia (AML).)\n",
      "Sentence(Document 27462861,0,Human papilloma virus (HPV)-associated head and neck squamous cell carcinoma (HNSCC) has a better prognosis than it's HPV negative (HPV(−)) counterpart.)\n",
      "Sentence(Document 27462864,0,The abnormality of DNA methylation is one of the major epigenetic alterations in the human hepatocellular carcinoma (HCC).)\n",
      "Sentence(Document 27463003,0,Renal ischemia-reperfusion (rI/R) could cause remote acute lung injury (ALI) and combination of these two organ injuries can remarkably increase the mortality.)\n",
      "Sentence(Document 27463011,0,Porcine reproductive and respiratory syndrome virus (PRRSV) causes acute mitochondrial dysfunction by elevating the level of reactive oxygen species.)\n",
      "Sentence(Document 27463015,0,Apolipoprotein E ( ) genetic polymorphisms have been implicated in the long term outcome of subarachnoid haemorrhage (SAH), but little is known about the effect of   on the early brain injury (EBI) after SAH.)\n",
      "Sentence(Document 27472388,0,Chemoresistance in pancreatic cancer has been attributed to tumor-initiating cells (TICs), a minor sub-population of tumor cells.)\n",
      "Sentence(Document 27472395,0,The complexity of the IGF-1 signalling axis is clearly a roadblock in targeting this receptor in cancer therapy.)\n",
      "Sentence(Document 27472396,0,Conventional chemotherapy is commonly used for advanced stages of transitional cell carcinoma (TCC) with modest success and high morbidity; however, TCC eventually develops resistance.)\n",
      "Sentence(Document 27472460,0,Polycomb group (PcG) proteins are highly conserved epigenetic effectors that maintain the silenced state of genes.)\n",
      "Sentence(Document 27486753,0,( ) is a documented tumor suppressor and a key subunit of the SWI/SNF chromatin remodeling complex that is silenced in many cancer types.)\n",
      "Sentence(Document 27486754,0,Cyclin-dependent kinases (CDKs) are potential cancer therapeutic targets because of their critical role in promoting cell growth.)\n",
      "Sentence(Document 27486755,0,The estrogen receptor-alpha (ERα) is used as a predictive marker for anti-estrogen therapy in breast cancer patients.)\n",
      "Sentence(Document 27486760,0,P-glycoprotein (P-gp) overexpression is associated with poor prognosis and drug-resistance in osteosarcoma (OS), but the underlying mechanisms remain incompletely understood.)\n",
      "Sentence(Document 27486763,0,In the present work we show that multiple lung cancer cell lines contain cisplatin resistant cell subpopulations expressing the Colony-Stimulating-Factor-Receptor-1 (CSF-1R) and surviving chemotherapy-induced stress.)\n",
      "Sentence(Document 27486766,0,Inactivating mutations in   are found in a broad spectrum of cancer types, with the highest frequency in gynecologic cancers.)\n",
      "Sentence(Document 27486767,0,Biomarkers are critically needed for the early detection of pancreatic cancer (PC) are urgently needed.)\n",
      "Sentence(Document 27486768,0,Studies of cell line-derived human tumor xenografts have suggested that the lymphatics seen in immunohistochemical preparations from non-peripheral regions of tumors are nonfunctional.)\n",
      "Sentence(Document 27486823,0,The metastasis-associated lung adenocarcinoma transcript 1 (MALAT1) is frequently over-expressed and serves as a prognostic marker in human cancers.)\n",
      "Sentence(Document 27486970,0,Hepatocellular carcinoma (HCC) is one of the most common cancers and a leading cause of cancer mortality.)\n",
      "Sentence(Document 27486972,0,Cdc42 is a Rho-GTPase which plays a major role in regulating cell polarity and migration by specifying the localization of filopodia.)\n",
      "Sentence(Document 27486974,0,In chronic lymphocytic leukemia (CLL), telomere dysfunction is associated with poor outcomes.)\n",
      "Sentence(Document 27486981,0,Clonal cytogenetic abnormalities are found in 20-30% of patients with chronic myelomonocytic leukemia (CMML), while gene mutations are present in >90% of cases.)\n",
      "Sentence(Document 27487139,0,It is increasing evidence that ceRNA activity of long non-coding RNAs (lncRNAs) played critical roles in both normal physiology and tumorigenesis.)\n",
      "Sentence(Document 27487143,0,The transcription factor Zinc finger protein 148 ( β) interacts physically with the tumor suppressor p53, but the significance of this interaction is not known.)\n",
      "Sentence(Document 27487147,0,Methylation changes of CpG islands can be determined using PCR-based assays.)\n",
      "Sentence(Document 27489353,0,High-risk human papillomavirus (HPV), especially HPV16, correlates with cancerogenesis of human esophageal squamous cell carcinoma (ESCC) and we have reported that HPV16 related with a poor prognosis of ESCC patients in China.)\n",
      "Sentence(Document 27489354,0,Accumulated evidences demonstrated that GLB1 is involved in cell senescence and cancer development.)\n",
      "Sentence(Document 27489355,0,The prognostic value of cancer stem cells (CSCs) marker CD133 in non-small-cell lung cancer (NSCLC) remains controversial.)\n",
      "Sentence(Document 27489357,0,T helper (Th) 22 cells play important roles in the pathogenesis of autoimmune and inflammatory diseases, and their function in tumors remains uncertain.)\n",
      "Sentence(Document 27489358,0,CD133 is considered as a stem-like cell marker in some cancers including gastric cancers, and Notch1 signaling is known to play an important role in the maintenance and differentiation of stem-like cells.)\n",
      "Sentence(Document 27494834,0,During the process of tumorigenesis, inactivation of tumor suppressors is a critical step.)\n",
      "Sentence(Document 27494845,0,Bcl2 and IAP families are anti-apoptotic proteins deregulated in multiple myeloma (MM) cells.)\n",
      "Sentence(Document 27494849,0,Colorectal cancer (CRC) with microsatellite instability (MSI) may exhibit impaired epithelial-mesenchymal transition (EMT), but little is known about the underlying mechanisms of this phenomenon.)\n",
      "Sentence(Document 27494851,0,The possible correlation between cyclooxygenase-2 (COX-2) expression and disease progression in melanoma is still a matter of debate.)\n",
      "Sentence(Document 27494855,0,The growing number of particle therapy facilities worldwide landmarks a novel era of precision oncology.)\n",
      "Sentence(Document 27494859,0,Hepatic stellate cells (HSCs) induce immune privilege and promote hepatocellular carcinoma (HCC) by suppressing the immune system.)\n",
      "Sentence(Document 27494861,0,Fucosylation is an important oligosaccharide modification associated with cancer and inflammation.)\n",
      "Sentence(Document 27494863,0,Hepatocellular carcinoma (HCC) is an aggressive malignancy and the 5-year survival rate of advanced HCC is < 10%.)\n",
      "Sentence(Document 27494873,0,The clinical management of malignant peripheral nerve sheath tumors (MPNSTs) is challenging not only due to its aggressive and invasive nature, but also limited therapeutic options.)\n",
      "Sentence(Document 27509060,0,Human CD34+ hematopoietic stem and progenitor cells (HSPC) expressing fusion protein AML1-ETO (AE), generated by the t(8;21)(q22;q22) rearrangement, manifest enhanced self-renewal and dysregulated differentiation without leukemic transformation, representing a pre-leukemia stage.)\n",
      "Sentence(Document 27514541,0,Experimental reports suggest that cartilage damage depends on strain magnitude.)\n",
      "Sentence(Document 27514643,0,The group 1 metabotropic glutamate receptor, mGluR5, is found on the cell surface as well as on intracellular membranes where it can mediate both overlapping and unique signaling effects.)\n",
      "Sentence(Document 27517154,0,Age-related macular degeneration (AMD) is the leading cause of blindness in aging populations of industrialized countries.)\n",
      "Sentence(Document 27517628,0,Radial glial-like cells (RGLs) in the adult dentate gyrus (DG) function as progenitor cells for adult hippocampal neurogenesis, a process involved in the stress-related pathophysiology and treatment efficiency of depression.)\n",
      "Sentence(Document 27527859,0,Our aim was to decipher the role and clinical relevance of the YAP/TAZ transcriptional coactivators in the regulation of the proliferation/quiescence balance in human colon cancer cells (CCC) and survival after 5FU-based chemotherapy.)\n",
      "Sentence(Document 27527861,0,Identifying biomarkers of the resistance in multiple myeloma (MM) is a key research challenge.)\n",
      "Sentence(Document 27527864,0,Autophagy is a catabolic degradation process and maintains cellular homeostasis.)\n",
      "Sentence(Document 27527865,0,Vascular endothelial growth factor (VEGF) has become a major target in cancer treatment as it promotes tumor angiogenesis.)\n",
      "Sentence(Document 27528025,0,The non-steroidal anti-inflammatory drugs (NSAIDs) celecoxib and sulindac have been reported to suppress lung cancer migration and invasion.)\n",
      "Sentence(Document 27528026,0,Prostate cancer (PC) is one of the most common solid tumors in men.)\n",
      "Sentence(Document 27528030,0,Tamoxifen is an effective anti-estrogen treatment for patients with estrogen receptor-positive (ER+) breast cancer, however, tamoxifen resistance is frequently observed.)\n",
      "Sentence(Document 27528032,0,is oncogenic for head and neck squamous cell carcinoma (HNSCC).)\n",
      "Sentence(Document 27528226,0,Lymphovascular emboli is a prognostic factor in stage II CRC, but the significance of intravascular emboli (IVE) in stage III is unclear.)\n",
      "Sentence(Document 27528227,0,Dietary supplementation of butyrate can prevent diet-induced obesity through increasing mitochondrial function in mice, yet the up-stream signaling pathway remains elusive.)\n",
      "Sentence(Document 27528230,0,A mutation in the   gene has been linked to a severe neurodevelopmental disorder with similarities to the Angelman syndrome.)\n",
      "Sentence(Document 27528231,0,Decreased expression of NKG2D ligands on HBV-infected human hepatoma cells impairs NK cells lysis.)\n",
      "Sentence(Document 27530202,0,The infection of   cells by bacteriophage lambda results in bifurcated means of propagation, where the phage decides between the lytic and lysogenic pathways.)\n",
      "Sentence(Document 27539744,0,Poly‐γ‐glutamic acid (γ  ) is an important natural biopolymer that is used widely in fields of foods, medicine, cosmetics, and agriculture.)\n",
      "Sentence(Document 27562956,0,The major barrier to research and development of effective interventions for human noroviruses (HuNoVs) has been the lack of a robust and reproducible   cultivation system.)\n",
      "Sentence(Document 27595778,0,Outer membrane protein A (OmpA) is a key outer membrane protein found in Gram‐negative bacteria that contributes to several crucial processes in bacterial virulence.)\n",
      "Sentence(Document 27596398,0,This work reports a new screening protocol for addressing issues of coffee authenticity using low-field (60 MHz) bench-top  H NMR spectroscopy.)\n",
      "Sentence(Document 27612989,0,The zinc finger transcription factor Wilms tumor gene 1 ( ) acts as an oncogene in acute myeloid leukemia.)\n",
      "Sentence(Document 27621042,0,Increasing evidence has indicated that aberrant expression of miRNAs has been shown to be strongly implicated in the initiation and progression of glioblastoma.)\n",
      "Sentence(Document 27634431,0,Cilia mediate an astonishing diversity of processes.)\n",
      "Sentence(Document 27658435,0,Interleukin-6 has an important role in the pathophysiology of multiple myeloma where it supports the growth and survival of the malignant plasma cells in the bone marrow.)\n",
      "Sentence(Document 27658438,0,Flow cytometric analysis is a recommended tool in the diagnosis of myelodysplastic syndromes.)\n",
      "Sentence(Document 27663563,0,Recombinant tau protein is widely used to study the biochemical, cellular and pathological aspects of tauopathies, including Alzheimer's disease and frontotemporal dementia with Parkinsonism linked to chromosome 17 (FTPD-17).)\n",
      "Sentence(Document 27663637,0,Variants in  , which encodes a transcription repressor of the E26 transformation-specific family, have recently been reported to be responsible for inherited thrombocytopenia and hematologic malignancy.)\n",
      "Sentence(Document 27666942,0,Endophytic bacterial communities play a key role in promoting plant growth and combating plant diseases.)\n",
      "Sentence(Document 27673362,0,Limited data are available on anal squamous intraepithelial lesions (ASILs) and anal human papillomavirus (HPV) infection in young, Black populations.)\n",
      "Sentence(Document 27686375,0,Central nervous system infiltration and relapse are poorly understood in childhood acute lymphoblastic leukemia.)\n",
      "Sentence(Document 27693386,0,Chronic lymphocytic leukemia (CLL) is characterized by the accumulation of clonally derived mature CD5  B cells; however, the cellular origin of CLL is still unknown.)\n",
      "Sentence(Document 27736304,0,Semaphorins were originally identified as axon guidance cues that regulate the functional activity of axons in the nervous system.)\n",
      "Sentence(Document 27742770,0,Histone methylation and demethylation regulate B-cell development, and their deregulation correlates with tumor chemoresistance in diffuse large B-cell lymphoma, limiting cure rates.)\n",
      "Sentence(Document 27758818,0,Current recommendations for diagnosing myelodysplastic syndromes endorse flow cytometry as an informative tool.)\n",
      "Sentence(Document 27758820,0,Previous studies identified the Ser/Thr protein kinase, AKT, as a therapeutic target in thrombo-inflammatory diseases.)\n",
      "Sentence(Document 27760082,0,Supplemental Digital Content is available in the text)\n",
      "Sentence(Document 27771939,0,Expression of the archaellum, the archaeal‐type   pilus‐like rotating motility structure is upregulated under nutrient limitation.)\n",
      "Sentence(Document 27783317,0,Type and reference strains of members of the onygenalean family   have been sequenced for rDNA ITS and partial LSU, the ribosomal 60S protein, and fragments of β-tubulin and translation elongation factor 3.)\n",
      "Sentence(Document 27789678,0,Combined Janus kinase 1 (JAK1) and JAK2 inhibition therapy effectively reduces splenomegaly and symptom burden related to myelofibrosis but is associated with dose-dependent anemia and thrombocytopenia.)\n",
      "Sentence(Document 27790854,0,We propose an innovative, repeatable, and reliable experimental workflow to concentrate and detect environmental bacteria in drinking water using molecular techniques.)\n",
      "Sentence(Document 27801961,0,Alcohol consumption is an established risk factor, and also a potential prognostic factor, for squamous cell carcinoma of the head and neck ( ).)\n",
      "Sentence(Document 27816499,0,Noise-induced cochlear synaptopathy has been demonstrated in numerous rodent studies.)\n",
      "Sentence(Document 27846610,0,Autoimmune lymphoproliferative syndrome is a rare genetic disorder characterized by defective FAS-mediated apoptosis, autoimmune disease, accumulation of mature T-cell receptor alpha/beta positive, CD4 and CD8 double-negative T cells and increased risk of lymphoma.)\n",
      "Sentence(Document 27846613,0,Diffuse large B-cell lymphoma patients have a 5% overall risk of central nervous system events (relapse or progression), which account for high morbidity and frequently fatal outcomes,  and shortened overall survival of <6 months.)\n",
      "Sentence(Document 27852671,0,The tests for diagnosing latent tuberculosis infection (LTBI) are limited by a poor predictive value for identifying people at the highest risk for progressing to active tuberculosis (TB) and have various sensitivities and specificities in different populations.)\n",
      "Sentence(Document 27859949,0,Colorectal cancer ( ) is one of the leading causes of cancer‐related death worldwide.)\n",
      "Sentence(Document 27862697,0,Due to its aggressive nature, pancreatic ductal adenocarcinoma ( ) is one of the most lethal and hard‐to‐treat malignancies.)\n",
      "Sentence(Document 27862769,0,The molecular mechanism underlying non‐alcoholic fatty liver disease progression to hepatocellular carcinoma ( ) remains unknown.)\n",
      "Sentence(Document 27864351,0,Microbial growth curves are used to study differential effects of media, genetics, and stress on microbial population growth.)\n",
      "Sentence(Document 27864352,0,Blood glucose levels are tightly controlled by the coordinated action of at least four cell types constituting pancreatic islets.)\n",
      "Sentence(Document 27864472,0,Besides degrading aberrant mRNAs that harbor a premature translation termination codon (PTC), nonsense-mediated mRNA decay (NMD) also targets many seemingly “normal” mRNAs that encode for full-length proteins.)\n",
      "Sentence(Document 27865196,0,Excess visceral adiposity, in particular that located adjacent to the heart and coronary arteries is associated with increased cardiovascular risk.)\n",
      "Sentence(Document 27866241,0,Regulatory T cells (Tregs) play an important role in the suppression of the immune response in lung cancer.)\n",
      "Sentence(Document 27866242,0,Interleukin (IL)-7 is a cytokine essential for protective immunity, and it is considered as a promising agent for cancer immunotherapy.)\n",
      "Sentence(Document 27871876,0,We are facing a major challenge in bridging the gap between identifying subtypes of asthma to understand causal mechanisms and translating this knowledge into personalized prevention and management strategies.)\n",
      "Sentence(Document 27872161,0,In chronic kidney disease (CKD), the decline in the glomerular filtration rate is associated with increased morbidity and mortality and thus poses a major challenge for healthcare systems.)\n",
      "Sentence(Document 27875242,0,Migraine is a highly prevalent headache disorder, especially in women.)\n",
      "Sentence(Document 27881437,0,Centrosomes are the primary microtubule-organizing centers that orchestrate microtubule dynamics during the cell cycle.)\n",
      "Sentence(Document 27881438,0,Macroautophagy, a major degradation pathway of cytoplasmic components, is carried out through formation of a double-membrane structure, the autophagosome.)\n",
      "Sentence(Document 27881557,0,Supplemental Digital Content is available in the text.)\n",
      "Sentence(Document 27890694,0,Young infants are less susceptible to severe episodes of malaria but the targets and mechanisms of protection are not clear.)\n",
      "Sentence(Document 27895046,0,The association between the downregulation of genes and DNA methylation in their CpG islands has been extensively studied as a mechanism that favors carcinogenesis.)\n",
      "Sentence(Document 27895051,0,Insect larvae are reported to be a major component of the simple but highly productive trophic web found in Lake Magadi (Kenya, Africa), which is considered to be one of the most extreme aquatic environments on Earth.)\n",
      "Sentence(Document 27895052,0,Within anurans (frogs and toads), cane toads ( ) perform particularly controlled landings in which the forelimbs are exclusively used to decelerate and stabilize the body after impact.)\n",
      "Sentence(Document 27895131,0,Recent studies have shown that immune responses against the cell-traversal protein for   ookinetes and sporozoites (CelTOS) can inhibit parasite infection.)\n",
      "Sentence(Document 27914982,0,In culture isolated bone marrow mesenchymal stem cells (more precisely termed skeletal stem cells, SSCs) spontaneously differentiate into fibroblasts, preventing the growth of large numbers of multipotent SSCs for use in regenerative medicine.)\n",
      "Sentence(Document 27920212,0,Enterohemorrhagic   (EHEC) and enteropathogenic   (EPEC) are enteric bacterial pathogens of worldwide importance.)\n",
      "Sentence(Document 27922536,0,Supplemental Digital Content is available in the text.)\n",
      "Sentence(Document 27926996,0,Accumulating evidence suggests that modulating the sigma 2 receptor (Sig2R) can provide beneficial effects for neurodegenerative diseases.)\n",
      "Sentence(Document 27927771,0,Neutrophils, early mediators of the innate immune defense, are recruited to developing thrombi in different types of thrombosis.)\n",
      "Sentence(Document 27927927,0,American tegumentary leishmaniasis (ATL) (also known as cutaneous leishmaniasis [CL]) is caused by various species of protozoa of the genus  .)\n",
      "Sentence(Document 27933352,0,Local drug application to the inner ear offers a number of advantages over systemic delivery.)\n",
      "Sentence(Document 27933359,0,Anthropogenic pollutants disrupt global biodiversity, and terrestrial sentinels of pollution can provide a warning system for ecosystem-wide contamination.)\n",
      "Sentence(Document 27934661,0,Mitochondrial content is a fundamental cellular bioenergetic phenotype.)\n",
      "Sentence(Document 27934662,0,Myocardial injury in mammals leads to heart failure through pathological cardiac remodelling that includes hypertrophy, fibrosis and ventricular dilatation.)\n",
      "Sentence(Document 27935818,0,Septo-optic dysplasia (SOD) is a congenital disorder characterized by optic nerve, pituitary and midline brain malformations.)\n",
      "Sentence(Document 27935819,0,Somatic mutations activating MAPK and PI3K signalling play a pivotal role in both tumours and brain developmental disorders.)\n",
      "Sentence(Document 27935821,0,It is widely appreciated that reactive stroma or carcinoma-associated fibroblasts can influence epithelial tumor progression.)\n",
      "Sentence(Document 27956060,0,Modern controlled human malaria infection (CHMI) clinical trials have almost entirely focussed on  , providing a highly informative means to investigate host–pathogen interactions as well as assess potential new prophylactic and therapeutic interventions.)\n",
      "Sentence(Document 27956598,0,Lyme disease is caused by members of the     species complex.)\n",
      "Sentence(Document 27984116,0,Rhabdomyosarcomas (RMS) in children and adolescents are heterogeneous sarcomas broadly defined by skeletal muscle features and the presence/absence of   fusion genes.)\n",
      "Sentence(Document 27984543,0,Autism spectrum disorder (ASD) is a severe neurodevelopment disorder.)\n",
      "Sentence(Document 27988211,0,Chronic antibody-mediated rejection, a common cause of renal transplant failure, has a variable clinical phenotype.)\n",
      "Sentence(Document 28000020,0,We hypothesize that it is plausible that biologically distinct developmental ASD–ADHD subtypes are present, each characterized by a distinct time of onset of symptoms, progression and combination of symptoms.)\n",
      "Sentence(Document 28007575,0,Covalent hemoglobin binding to membranes leads to band 3 (AE1) clustering and the removal of erythrocytes from the circulation; it is also implicated in blood storage lesions.)\n",
      "Sentence(Document 28042107,0,is able to thrive in harsh northern climates through adaptations in life-history traits and physiological mechanisms that allow for survival through the winter.)\n",
      "Sentence(Document 28057769,0,Estradiol (E2) signaling via estrogen receptor alpha (ERα) is important for the male skeleton as demonstrated by ERα inactivation in both mice and man.)\n",
      "Sentence(Document 28060012,0,Supplemental Digital Content is available in the text)\n",
      "Sentence(Document 28067618,0,RbpA and CarD are essential transcription regulators in mycobacteria.)\n",
      "Sentence(Document 28067628,0,Even with many advances in treatment over the past decades, cancer still remains a leading cause of death worldwide.)\n",
      "Sentence(Document 28067629,0,The zebrafish ( ) is an increasingly popular model organism in cardiovascular research.)\n",
      "Sentence(Document 28073635,0,Proliferating cell nuclear antigen (PCNA) is an essential cofactor for DNA replication and repair, recruiting multiple proteins to their sites of action.)\n",
      "Sentence(Document 28079521,0,Protein kinase A (PKA) plays critical roles in neuronal function that are mediated by different regulatory (R) subunits.)\n",
      "Sentence(Document 28079628,0,Inflammatory cytokines are potential modulators of infarct progression in acute ischaemic stroke, and are therefore possible targets for future treatment strategies.)\n",
      "Sentence(Document 28087951,0,Cisplatin-based concurrent chemoradiotherapy for patients with unresectable, locally advanced esophageal squamous cell carcinoma (ESCC) is associated with significant toxicities that are often intolerable.)\n",
      "Sentence(Document 28089995,0,Low efficiency of somatic cell reprogramming and heterogeneity among human induced pluripotent stem cells (hiPSCs) demand extensive characterization of isolated clones before their use in downstream applications.)\n",
      "Sentence(Document 28112644,0,Notch is a critical regulator of T cell differentiation and is activated through proteolytic cleavage in response to ligand engagement.)\n",
      "Sentence(Document 28117666,0,Crude oil spills are a worldwide ocean conservation threat.)\n",
      "Sentence(Document 28120820,0,Genetic heterogeneity between and within tumours is a major factor determining cancer progression and therapy response.)\n",
      "Sentence(Document 28120827,0,Cheaters disrupt cooperation by reaping the benefits without paying their fair share of associated costs.)\n",
      "Sentence(Document 28120874,0,Proteins, made up of either single or multiple chains, are designed to carry out specific biological functions.)\n",
      "Sentence(Document 28120895,0,The objective of this study was to identify genes targeted by both copy number and copy-neutral changes in the right coronary arteries in the area of advanced atherosclerotic plaques and intact internal mammary arteries derived from the same individuals with comorbid coronary artery disease and metabolic syndrome.)\n",
      "Sentence(Document 28120898,0,Cassava (  Crantz) is an important tropical starchy root crop that is adapted to drought but extremely cold sensitive.)\n",
      "Sentence(Document 28120901,0,Idiosyncratic drug-induced hepatotoxicity is a major cause of liver damage and drug pipeline failure, and is difficult to study as patient-specific features are not readily incorporated in traditional hepatotoxicity testing approaches using population pooled cell sources.)\n",
      "Sentence(Document 28120920,0,Personalized medicine is a promising tool not only for prevention, screening and development of more efficient treatment strategies, but also for diminishing the side effects caused by current therapies.)\n",
      "Sentence(Document 28120935,0,With the aim of identifying sex determinants of fig, we generated the first draft genome sequence of fig and conducted the subsequent analyses.)\n",
      "Sentence(Document 28120944,0,Atypically-shaped cardiomyocytes (ACMs) are beating heart cells identified in the cultures of cardiomyocyte-removed fractions obtained from adult mouse hearts.)\n",
      "Sentence(Document 28121926,0,Postmenopausal osteoporosis is an important metabolic bone disease characterized by rapid bone loss occurring in the postmenopausal period.)\n",
      "Sentence(Document 28121927,0,Primary intracranial melanomas are uncommon and constitute approximately 1% of all melanoma cases and 0.07% of all brain tumors.)\n",
      "Sentence(Document 28121928,0,Controversies on the surgical protocols and efficacies of total hip arthroplasty (THA) in ankylosing spondylitis (AS) still exist.)\n",
      "Sentence(Document 28121932,0,The aim of the study was to determine the prognostic role of systemic immune-inflammation index (SII) in patients with esophageal squamous cell carcinoma (ESCC).)\n",
      "Sentence(Document 28121935,0,This study aimed to investigate the effects of citicoline therapy on the network connectivity of the corpus callosum in patients with leukoaraiosis (LA) by diffusion tension imaging (DTI).)\n",
      "Sentence(Document 28121949,0,Reactive oxygen species modulator 1 (Romo1) is a novel protein that plays an important role in intracellular reactive oxygen species generation.)\n",
      "Sentence(Document 28121954,0,The serum C-reactive protein (CRP) is an inflammatory marker.)\n",
      "Sentence(Document 28121958,0,Gestational hypertension (GH) and preeclampsia (PE) are characterized by an imbalance in angiogenic factors.)\n",
      "Sentence(Document 28121986,0,Many animals have an intrinsic growth checkpoint during juvenile development, after which an irreversible decision is made to upregulate steroidogenesis, triggering the metamorphic juvenile-to-adult transition.)\n",
      "Sentence(Document 28122229,0,Vascular mural cells (vMCs) are essential components of the vertebrate vascular system, controlling blood vessel maturation and homeostasis.)\n",
      "Sentence(Document 28122577,0,Inhibitors of DNA binding and cell differentiation (Id) proteins are members of the large family of the helix-loop-helix (HLH) transcription factors, but they lack any DNA-binding motif.)\n",
      "Sentence(Document 28122581,0,Treatment of acute myeloid leukemia (AML), an aggressive and heterogeneous hematological malignancy, remains a challenge.)\n",
      "Sentence(Document 28122590,0,The current success of targeted inhibition against cytotoxic T-lymphocyte-associated protein 4 (CTLA-4) and Programmed Death 1/Programmed Death Ligand 1 (PD-1/PD-L1, herein collectively referred to as PD) pathways is hailed as a cancer immunotherapy breakthrough.)\n",
      "Sentence(Document 28122605,0,We present a set of statistical methods for the analysis of DNA methylation microarray data, which account for tumor purity.)\n",
      "Sentence(Document 28122627,0,Converging evidence from genetic, pathological and experimental studies have increasingly suggested an important role for autophagy impairment in Parkinson’s Disease (PD).)\n",
      "Sentence(Document 28122638,0,The past decade has seen dramatic progress in our understanding of membrane contact sites (MCS).)\n",
      "Sentence(Document 28122812,0,To examine the role of psychological distress (anxiety and depression) as a potential predictor of site specific cancer mortality.)\n",
      "Sentence(Document 28122826,0,High‐intensity exercise may pose a risk to patients with postconcussion syndrome ( ) when symptomatic during exertion.)\n",
      "Sentence(Document 28123004,0,Signaling through the   and   pathways controls cell proliferation.)\n",
      "Sentence(Document 28123052,0,Certain members of the microbiota genus   are known to positively influence host well-being.)\n",
      "Sentence(Document 28123053,0,Signalling by TGFβ superfamily factors plays an important role in tissue growth and cell proliferation.)\n",
      "Sentence(Document 28123056,0,We know a great deal about the development of the mammalian embryo until the time that the blastocyst implants into the uterus.)\n",
      "Sentence(Document 28124290,0,The basidiospores of most   are ballistospores.)\n",
      "Sentence(Document 28124973,0,Nuclear exclusion of the transcriptional regulators and potent oncoproteins, YAP/TAZ, is considered necessary for adult tissue homeostasis.)\n",
      "Sentence(Document 28125396,0,The nuclear lamina is a critical structural domain for the maintenance of genomic stability and whole-cell mechanics.)\n",
      "Sentence(Document 28125577,0,Understanding the immune response upon infection with the filarial nematode   and the mechanisms that evolved in this parasite to evade immune mediated elimination is essential to expand the toolbox available for diagnostics, therapeutics and vaccines development.)\n",
      "Sentence(Document 28125583,0,In natural populations, quantitative trait dynamics often do not appear to follow evolutionary predictions.)\n",
      "Sentence(Document 28125586,0,A-type lamins, the intermediate filament proteins participating in nuclear structure and function, are encoded by  .)\n",
      "Sentence(Document 28125591,0,Maternal obesity has a major impact on pregnancy outcomes.)\n",
      "Sentence(Document 28125592,0,Temperament is fundamental to animal production due to its direct influence on the animal-herdsman relationship.)\n",
      "Sentence(Document 28125602,0,We revise the chronostratigraphy of several sedimentary successions cropping out along a 5 km-long tract of the Aniene River Valley in Rome (Italy), which yielded six hominin remains previously attributed to proto- or archaic Neanderthal individuals, as well as a large number of lithic artefacts showing intermediate characteristics somewhere between the local Acheulean and Mousterian cultures.)\n",
      "Sentence(Document 28125605,0,Coastal ecosystems, which provide numerous essential ecological functions for fish, are threatened by the proliferation of green macroalgae that significantly modify habitat conditions in intertidal areas.)\n",
      "Sentence(Document 28125611,0,Lung squamous cell carcinoma (SqCC), the second most common subtype of lung cancer, is strongly associated with tobacco smoking and exhibits genomic instability.)\n",
      "Sentence(Document 28125612,0,Cells of the innate and adaptive immune system are key factors in the progression of atherosclerotic plaque, leading to plaque instability and rupture, potentially resulting in acute atherothrombotic events such as coronary artery disease, cerebrovascular disease and peripheral arterial disease.)\n",
      "Sentence(Document 28125613,0,The interior of cells is a highly complex medium, containing numerous organelles, a matrix of different fibers and a viscous, aqueous fluid of proteins and small molecules.)\n",
      "Sentence(Document 28125615,0,The Yangtze River Delta White Goat is the only goat breed that produces high-quality brush hair, or type III hair, which is specialized for use in top-grade writing brushes.)\n",
      "Sentence(Document 28125622,0,Calgranulin genes ( ,   and  ) play key immune response roles in inflammatory disorders, including cardiovascular disease.)\n",
      "Sentence(Document 28125623,0,As a standard testing organism in soil ecosystems, the earthworm   has been used widely in toxicity studies.)\n",
      "Sentence(Document 28125630,0,This study aimed to preliminary investigate the role of activin receptor-like kinase (ALK) 5 as one of TGF-βR1 subtypes in bone turnover and osteoblastic differentiation induced by fluoride.)\n",
      "Sentence(Document 28125633,0,Despite an increasing demand for Burgundy truffles ( ), gaps remain in our understanding of the fungus’ overall lifecycle and ecology.)\n",
      "Sentence(Document 28125634,0,Ketamine administration is a well-established approach to mimic experimentally some aspects of schizophrenia.)\n",
      "Sentence(Document 28125637,0,Drought stress can trigger the production of ABA in plants, in response to adverse conditions, which induces the transcript of stress-related marker genes.)\n",
      "Sentence(Document 28125638,0,( .  ))\n",
      "Sentence(Document 28125639,0,Idiopathic pulmonary fibrosis (IPF) and chronic obstructive pulmonary disease (COPD) are both debilitating lung diseases which can lead to hypoxemia and pulmonary hypertension (PH).)\n",
      "Sentence(Document 28125640,0,Whole-genome comparisons of   subsp.)\n",
      "Sentence(Document 28125644,0,Active brown adipose tissue is responsible for non-shivering thermogenesis in mammals which affects energy homeostasis.)\n",
      "Sentence(Document 28125646,0,Progression through the meiotic cell cycle must be strictly regulated in oocytes to generate viable embryos and offspring.)\n",
      "Sentence(Document 28125649,0,We have examined the remains of a Pilgrim burial from St Mary Magdalen, Winchester.)\n",
      "Sentence(Document 28125650,0,infections (CDI) are a leading cause of nosocomial diarrhea in the developed world.)\n",
      "Sentence(Document 28125651,0,Meningoencephalomyelitis of unknown origin (MUO) is a common, naturally-occurring, clinical disease of pet dogs.)\n",
      "Sentence(Document 28125654,0,Human dental tissues are sources of neural crest origin multipotent stem cells whose regenerative potential is a focus of extensive studies.)\n",
      "Sentence(Document 28125662,0,Abdominal obesity is a key contributor of metabolic disease.)\n",
      "Sentence(Document 28125665,0,Role of lncRNAs in human adaptive immune response to TB infection is largely unexplored.)\n",
      "Sentence(Document 28125668,0,Bio-analysis of insects is increasingly dependent on highly sensitive methods that require high quality biological material, such as hemolymph.)\n",
      "Sentence(Document 28125669,0,Stably Expressed Genes (SEGs) whose expression varies within a narrow range may be involved in core cellular processes necessary for basic functions.)\n",
      "Sentence(Document 28125671,0,Telomere length has garnered interest due to the potential role it may play as a biomarker for the cellular aging process.)\n",
      "Sentence(Document 28125673,0,Neutral lipids—involved in many cellular processes—are stored as lipid droplets (LD), those mainly cytosolic (cLD) along with a small nuclear population (nLD).)\n",
      "Sentence(Document 28125674,0,Chemotherapy-induced peripheral neuropathy (CIPN) and associated neuropathic pain is a debilitating adverse effect of cancer treatment.)\n",
      "Sentence(Document 28125676,0,Conventional magnetic resonance imaging (MRI) at term equivalent age (TEA) is suggested to be a reliable tool to predict the outcome of very premature infants.)\n",
      "Sentence(Document 28125677,0,Fingolimod, the first oral, disease-modifying therapy for MS, has been recently proposed to modulate glutamate transmission in the central nervous system (CNS) of mice suffering from Experimental Autoimmune Encephalomyelitis (EAE) and in MS patients.)\n",
      "Sentence(Document 28125681,0,While moving through the environment, our central nervous system accumulates sensory information over time to provide an estimate of our self-motion, allowing for completing crucial tasks such as maintaining balance.)\n",
      "Sentence(Document 28125685,0,Casein kinase 1 delta (CK1δ) is a conserved serine/threonine protein kinase that regulates diverse cellular processes.)\n",
      "Sentence(Document 28125686,0,Intentional mislabelling of seafood is a widespread problem, particularly with high-value species like tuna.)\n",
      "Sentence(Document 28125689,0,Mutations of hepatocyte growth factor activator inhibitor (HAI)-2 in humans cause sodium loss in the gastrointestinal (GI) tract in patients with syndromic congenital sodium diarrhea (SCSD).)\n",
      "Sentence(Document 28125695,0,As their names imply, parvoviruses of the genus   rely for their efficient replication on the concurrent presence of a helpervirus, such as herpesvirus, adenovirus, or papilloma virus.)\n",
      "Sentence(Document 28125696,0,One hundred and fifty-two blood samples of non-human primates of thirteen rescue centers in Costa Rica were analyzed to determine the presence of species of   using thick blood smears, semi-nested multiplex polymerase chain reaction (SnM-PCR) for species differentiation, cloning and sequencing for confirmation.)\n",
      "Sentence(Document 28125697,0,The application of MALDI-TOF MS for identifying streptococcal isolates recovered from clinical specimens of diseased pigs was evaluated.)\n",
      "Sentence(Document 28125702,0,Ovarian carcinosarcoma (OCS) accounts for high mortality and lacks effective therapeutic methods.)\n",
      "Sentence(Document 28125705,0,Senescence restricts the development of applications involving mesenchymal stem cells (MSCs) in research fields, such as tissue engineering, and stem cell therapeutic strategies.)\n",
      "Sentence(Document 28125707,0,Applications of precision oncology strategies rely on accurate tumor genotyping from clinically available specimens.)\n",
      "Sentence(Document 28125716,0,The interactions between the Aβ  molecules species and the copper ions (Cu(II)) were intensively investigated due to their potential role in the development of the Alzheimer Disease (AD).)\n",
      "Sentence(Document 28125717,0,Endometriosis is characterized by growth of endometrial-like tissue outside the uterine cavity.)\n",
      "Sentence(Document 28125719,0,Tuberculosis is a global health problem and at least one-third of the world’s population is infected with   (MTB).)\n",
      "Sentence(Document 28125732,0,HIV-1 infection is associated with an early and profound depletion of mucosal memory CD4  T cells, a population that plays an indispensable role in the regulation of isotype switching and transepithelial transport of antibodies.)\n",
      "Sentence(Document 28125734,0,MicroRNAs (miRNAs) are small non-coding RNAs that regulate mRNA expression mainly by silencing target transcripts via binding to miRNA recognition elements (MREs) in the 3’untranslated region (3’UTR).)\n",
      "Sentence(Document 28125736,0,Grape Phylloxera,  , is a gall-forming insect that feeds on the leaves and roots of many   species.)\n",
      "Sentence(Document 28125737,0,Immunological prevention of infectious disease, especially viral, is based on antigen-specific long-lived memory B cells.)\n",
      "Sentence(Document 28125743,0,Streptokinase is a virulence factor of streptococci and acts as a plasminogen activator to generate the serine protease plasmin which promotes bacterial metastasis.)\n",
      "Sentence(Document 28126008,0,Mutations resulting in haploinsufficiency of progranulin (PGRN) cause frontotemporal lobar degeneration with TDP-43-positive inclusions (FTLD-TDP), a devastating neurodegenerative disease.)\n",
      "Sentence(Document 28126011,0,Metformin, an inexpensive and well-tolerated oral agent commonly used in the first-line treatment of type 2 diabetes, has become the focus of intense research as a candidate anticancer agent.)\n",
      "Sentence(Document 28126030,0,Radiotherapy based on magnetic resonance imaging as the sole modality (MRI-only RT) is an area of growing scientific interest due to the increasing use of MRI for both target and normal tissue delineation and the development of MR based delivery systems.)\n",
      "Sentence(Document 28126732,0,Systemic lupus erythematosus ( ) is an autoimmune disease with a high prevalence of hypertension.)\n",
      "Sentence(Document 28126940,0,Representatives of the genus   are common milk contaminants that cause spoilage and flavor alterations of dairy products.)\n",
      "Sentence(Document 28127049,0,Tumor growth is governed by the coordinated action of various types of cells that are present in the tumor environment.)\n",
      "Sentence(Document 28127934,0,Antipsychotic polypharmacy in schizophrenia is much debated, since it is common and costly with unclear evidence for its efficacy and safety.)\n",
      "Sentence(Document 28128197,0,The interfaces within bones, teeth and other hybrid biomaterials are of paramount importance but remain particularly difficult to characterize at the molecular level because both sensitive and selective techniques are mandatory.)\n",
      "Sentence(Document 28128199,0,The adipokine adipocyte fatty acid-binding protein (A-FABP) has been implicated in obesity-related cardio-metabolic complications.)\n",
      "Sentence(Document 28128200,0,Inflammation is recognized as one of the drivers of cancer.)\n",
      "Sentence(Document 28128201,0,The parasympathetic nervous system plays an important role in the pathophysiology of atrial fibrillation.)\n",
      "Sentence(Document 28128203,0,Keratin 16 (K16) is a cytoskeletal scaffolding protein highly expressed at pressure-bearing sites of the mammalian footpad.)\n",
      "Sentence(Document 28128204,0,Disturbance of endoplasmic reticulum (ER) homoeostasis induces ER stress and leads to activation of the unfolded protein response (UPR), which is an adaptive reaction that promotes cell survival or triggers apoptosis, when homoeostasis is not restored.)\n",
      "Sentence(Document 28128208,0,Alternatively activated macrophages (M2) have an important function in innate immune responses to parasitic helminths, and emerging evidence also indicates these cells are regulators of systemic metabolism.)\n",
      "Sentence(Document 28128211,0,Astrocyte responds to neuronal activity with calcium waves and modulates synaptic transmission through the release of gliotransmitters.)\n",
      "Sentence(Document 28128212,0,Breast cancer amplified sequence 2 (BCAS2) is involved in multiple biological processes, including pre-mRNA splicing.)\n",
      "Sentence(Document 28128215,0,Genetic variation in dispersal ability may result in the spatial sorting of alleles during range expansion.)\n",
      "Sentence(Document 28128217,0,The protective effects of mycobacterial infections on lung allergy are well documented.)\n",
      "Sentence(Document 28128219,0,Astrogliosis as seen in Multiple Sclerosis (MS) develops into astroglial scarring, which is beneficial because it seals off the site of central nervous system (CNS) damage.)\n",
      "Sentence(Document 28128223,0,The aim of the study was to evaluate the diagnostic accuracy of urinary neutrophil gelatinase- associated lipocalin (uNGAL) in patients with chronic kidney disease (CKD) as an early biomarker for contrast induced acute kidney injury (CI-AKI) and to investigate whether patients with an uNGAL increase might benefit from an additional intravenous volume expansion with regard to CI-AKI-incidence.)\n",
      "Sentence(Document 28128229,0,The C-reactive protein/albumin ratio (CAR) has been shown to play a significant prognostic role in several cancers.)\n",
      "Sentence(Document 28128280,0,Use of 10,129 singleton SNPs of known genomic location in tetraploid cotton provided unique opportunities to characterize genome-wide diversity among 440   and 219   cultivars and landrace accessions of widespread origin.)\n",
      "Sentence(Document 28128281,0,The actin cytoskeleton is an attractive target for bacterial toxins.)\n",
      "Sentence(Document 28128284,0,Sensory and autonomic neuropathy affects the majority of type II diabetic patients.)\n",
      "Sentence(Document 28128285,0,Cardiovascular diseases due to atherosclerosis are the leading cause of death globally.)\n",
      "Sentence(Document 28128286,0,Proteins may undergo a type of posttranslational modification – polyglutamylation, where a glutamate residue is enzymatically linked to the γ-carboxyl group of a glutamate in the primary sequence of proteins and additional glutamates are then sequentially added via α-carboxyl–linkages to the growing glutamate side chain.)\n",
      "Sentence(Document 28128288,0,Activating mutations leading to ligand-independent signaling of the stem cell factor receptor KIT are associated with several hematopoietic malignancies.)\n",
      "Sentence(Document 28128294,0,Lymphangiogenesis, the formation of new lymphatic vessels, occurs in primary tumors and in draining lymph nodes leading to pre-metastatic niche formation.)\n",
      "Sentence(Document 28128303,0,The unicellular alga   is a highly salt-tolerant organism, capable of accumulating glycerol, glycine betaine and β-carotene under salt stress, and has been considered as an excellent model organism to investigate the molecular mechanisms of salt stress responses.)\n",
      "Sentence(Document 28128304,0,The underlying mechanism of the reduced bone formation during the development of glucocorticoid-induced osteoporosis (GIO) remains unclear.)\n",
      "Sentence(Document 28128305,0,Alien predators have on average twice the impact on native prey populations than do native predators, and are a severe threat to wildlife globally.)\n",
      "Sentence(Document 28128310,0,Gastric cancer (GC) is a common aggressive malignant tumor with high incidence and mortality worldwide.)\n",
      "Sentence(Document 28128312,0,Risk assessment in patients with acute coronary syndromes (ACS) is critical in order to provide adequate treatment.)\n",
      "Sentence(Document 28128321,0,Rhythm generating neurons are thought to be ipsilaterally-projecting excitatory neurons in the thoracolumbar mammalian spinal cord.)\n",
      "Sentence(Document 28128323,0,Previously, we found that arsenite (As ) oxidation could improve the generation of ATP/NADH to support the growth of   GW4.)\n",
      "Sentence(Document 28128325,0,Alcoholic liver disease (ALD) is an important worldwide public health issue with no satisfying treatment available since now.)\n",
      "Sentence(Document 28128330,0,Cold-inducible RNA-binding protein (CIRP), released into the circulation during sepsis, causes lung injury via an as yet unknown mechanism.)\n",
      "Sentence(Document 28128332,0,Interleukin (IL)-6 is known to indirectly enhance osteoclast formation by promoting receptor activator of nuclear factor kappa-B ligand (RANKL) production by osteoblastic/stromal cells.)\n",
      "Sentence(Document 28128337,0,The cornea is the transparent outermost surface of the eye, consisting of a stratified epithelium, a collagenous stroma and an innermost single-cell layered endothelium and providing 2/3 of the refractive power of the eye.)\n",
      "Sentence(Document 28128338,0,B-Myb, a highly conserved member of the Myb transcription factor family, is expressed ubiquitously in proliferating cells and controls the cell cycle dependent transcription of G2/M-phase genes.)\n",
      "Sentence(Document 28128343,0,The nonsense mediated decay (NMD) pathway is a critical surveillance mechanism for identifying aberrant mRNA transcripts.)\n",
      "Sentence(Document 28128346,0,Both land plants and metazoa have the capacity to reprogram differentiated cells to stem cells.)\n",
      "Sentence(Document 28128356,0,Graphene oxide (GO) can be potentially used in many medical and industrial fields.)\n",
      "Sentence(Document 28128358,0,Traumatic brain injury (TBI) is currently a major cause of morbidity and poor quality of life in Western society, with an estimate of 2.5 million people affected per year in Europe, indicating the need for advances in TBI treatment.)\n",
      "Sentence(Document 28128362,0,Club cells are known to function as regional progenitor cells to repair the bronchiolar epithelium in response to lung damage.)\n",
      "Sentence(Document 28128365,0,Moldless lens manufacturing techniques using standard droplet dispensing technology often require precise control over pressure to initiate fluid flow and control droplet formation.)\n",
      "Sentence(Document 28128366,0,We investigated the phylogeography of the smooth-coated otter ( ) to determine its spatial genetic structure for aiding an adaptive conservation management of the species.)\n",
      "Sentence(Document 28128367,0,Serotonin, a central neuromodulator with ancient ties to feeding and metabolism, is a major driver of body fat loss.)\n",
      "Sentence(Document 28128370,0,Retinal diseases generally are vision-threatening conditions that warrant appropriate clinical decision-making which currently solely dependents upon extensive clinical screening by specialized ophthalmologists.)\n",
      "Sentence(Document 28129323,0,Human movements are prone to errors that arise from inaccuracies in both our perceptual processing and execution of motor commands.)\n",
      "Sentence(Document 28129334,0,Sunitinib is a tyrosine kinase inhibitor approved for the treatment of multiple solid tumors.)\n",
      "Sentence(Document 28129336,0,Preterm birth exposes the developing lung to an environment with direct exposure to bacteria, often facilitated by endotracheal intubation.)\n",
      "Sentence(Document 28129345,0,extracts are known for their anti-cancerous, anti-inflammatory and antioxidative properties.)\n",
      "Sentence(Document 28129349,0,Aldehyde dehydrogenase enzymes (ALDHs) have a broad spectrum of biological activities through the oxidation of both endogenous and exogenous aldehydes.)\n",
      "Sentence(Document 28129351,0,Identifying Alzheimer’s disease (AD) at its early stage is of major interest in AD research.)\n",
      "Sentence(Document 28129359,0,To date, no large scale, systematic description of the blood serum proteome has been performed in inflammatory bowel disease (IBD) patients.)\n",
      "Sentence(Document 28129361,0,In this randomized blinded study, we investigated caffeine 5 mg/kg treatment given directly after neonatal brain hypoxia ischemia.)\n",
      "Sentence(Document 28129369,0,Burkitt lymphoma (BL) is a rare and highly aggressive type of non-Hodgkin lymphoma.)\n",
      "Sentence(Document 28129380,0,The chemokine (C motif) receptor 1 (XCR1) and its ligandXCL1 have been intensively studied in the mouse and human immune systems.)\n",
      "Sentence(Document 28129383,0,In surveillance of subterranean fauna, especially in the case of rare or elusive aquatic species, traditional techniques used for epigean species are often not feasible.)\n",
      "Sentence(Document 28129387,0,In photosynthesis, the pigments chlorophyll a/b absorb light energy to convert to chemical energy in chloroplasts.)\n",
      "Sentence(Document 28129394,0,Neutrophils have an important role in the antimicrobial defense and resolution of urinary tract infections (UTIs).)\n",
      "Sentence(Document 28129395,0,Human Cytomegalovirus (CMV) can lead to primary infection or reactivation in CMV-seronegative or -seropositive kidney transplant recipients, respectively.)\n",
      "Sentence(Document 28129403,0,Human chitotriosidase (HCHT) is involved in immune response to chitin-containing pathogens in humans.)\n",
      "Sentence(Document 28129404,0,Generally, the antagonism between host restriction factors and viral countermeasures decides on cellular permissiveness or resistance to virus infection.)\n",
      "Sentence(Document 28129580,0,Immunotherapy using dendritic cell (DC) vaccine has the potential to overcome the bottleneck of cancer therapy.)\n",
      "Sentence(Document 28130454,0,The Meliponini, also known as stingless bees, are distributed in tropical and subtropical areas of the world and plays an essential role in pollinating many wild plants and crops These bees can build nests in cavities of trees or walls, underground or in associations with ants or termites; interestingly, these nests are sometimes found in aggregations.)\n",
      "Sentence(Document 28130459,0,Boisduval (Saturniidae, Lepidoptera) produces a silken cocoon that has been the focus of efforts to create a commercial wild silk industry in Madagascar.)\n",
      "Sentence(Document 28130460,0,In insects, some developmentally related traits are negatively correlated.)\n",
      "Sentence(Document 28130552,0,This one-year double blind randomized control trial assessed the effects of nightly melatonin, strontium (citrate), vitamin D3 and vitamin K2 (MK7; MSDK) on bone mineral density (BMD) and quality of life (QOL) in postmenopausal osteopenic women (ages 49-75).)\n",
      "Sentence(Document 28130923,0,Myelination speeds conduction of the nerve impulse, enhancing cognitive power.)\n",
      "Sentence(Document 28131798,0,Renal cell carcinoma (RCC) is the most lethal urological malignancy with high risk of recurrence; thus, new prognostic biomarkers are needed.)\n",
      "Sentence(Document 28132839,0,In the quantitative model of cell-cycle control, progression from G1 through S phase and into mitosis is ordered by thresholds of increasing cyclin-dependent kinase (Cdk) activity.)\n",
      "Sentence(Document 28134241,0,Chloroquine (CQ) resistance in   is determined by the mutations in the chloroquine resistance transporter ( ) gene.)\n",
      "Sentence(Document 28134245,0,We describe and share a device, methodology and image analysis algorithms, which allow up to 66 spheroids to be arranged into a gel-based array directly from a culture plate for downstream processing and analysis.)\n",
      "Sentence(Document 28134246,0,Protein:protein interactions are fundamental in living organism homeostasis.)\n",
      "Sentence(Document 28134248,0,Natural killer (NK) cells eradicate infected cells and tumors following the triggering of activating receptors, like the Natural Cytotoxicity Receptors (NCRs), which include NKp30, NKp44 and NKp46.)\n",
      "Sentence(Document 28134249,0,Protein ubiquitination is mediated sequentially by ubiquitin activating enzyme E1, ubiquitin conjugating enzyme E2 and ubiquitin ligase E3.)\n",
      "Sentence(Document 28134251,0,Dysfunction of cell-cell tight junction (TJ) adhesions is a major feature in the pathogenesis of various diseases.)\n",
      "Sentence(Document 28134253,0,The Structural Maintenance of Chromosomes (SMC) complexes: cohesin, condensin and Smc5/6 are involved in the organization of higher-order chromosome structure—which is essential for accurate chromosome duplication and segregation.)\n",
      "Sentence(Document 28134256,0,Diverse cellular proteins and RNAs are tightly regulated in their subcellular localization to exert their local function.)\n",
      "Sentence(Document 28134261,0,) is a remarkable species with high nutritional value and good biomass production, which can be used as livestock fodder.)\n",
      "Sentence(Document 28134263,0,The probe materials play a significant role in improving the detection efficiency and sensitivity of lateral-flow immunochromatographic test strip (ICTS).)\n",
      "Sentence(Document 28134264,0,Over-expression of a gene by increasing its copy number is often desirable in the model yeast  .)\n",
      "Sentence(Document 28134269,0,Understanding soil microbial communities in agroecosystems has the potential to contribute to the improvement of agricultural productivity and sustainability.)\n",
      "Sentence(Document 28134270,0,, bone morphogenetic protein 2 (BMP-2) exists both in solution and bound to the extracellular matrix (ECM).)\n",
      "Sentence(Document 28134272,0,Cortical GABAergic interneurons constitute a highly diverse population of inhibitory neurons that are key regulators of cortical microcircuit function.)\n",
      "Sentence(Document 28134273,0,The microscopic viscosity plays an essential role in cellular biophysics by controlling the rates of diffusion and bimolecular reactions within the cell interior.)\n",
      "Sentence(Document 28134274,0,Superparamagnetic iron oxide nanoparticles (SPIONs) have mainly been used as cellular carriers for genes and therapeutic products, while their use in subcellular organelle isolation remains underexploited.)\n",
      "Sentence(Document 28134277,0,We describe highly effective adhesion culture of human pluripotent stem cells (hPSCs) using laminin fragments without precoating.)\n",
      "Sentence(Document 28134278,0,A Chinese wheat mini core collection was genotyped using the wheat 9 K iSelect SNP array.)\n",
      "Sentence(Document 28134281,0,Circadian locomotor behaviour is controlled by a pacemaker circuit composed of clock-containing neurons.)\n",
      "Sentence(Document 28134282,0,Von Willebrand factor (vWF) is a biomarker of endothelial dysfunction.)\n",
      "Sentence(Document 28134285,0,Hepatocellular carcinoma (HCC) remains the leading cause of cancer mortality with limited therapeutic targets.)\n",
      "Sentence(Document 28134287,0,Neural stem cells (NSCs) are defined by their dual ability to self-renew through mitotic cell division or differentiate into the varied neural cell types of the CNS.)\n",
      "Sentence(Document 28134289,0,Tumor invasion and chemotherapy resistance, which are associated with epithelial-mesenchymal transition (EMT), remain as major challenges in hepatocellular carcinoma (HCC) treatment.)\n",
      "Sentence(Document 28134290,0,Pancreatic cancer is predominantly lethal, and is primarily treated using gemcitabine, with increasing resistance.)\n",
      "Sentence(Document 28134294,0,The prognostic role of N-terminal pro-brain natriuretic peptide (NT-proBNP) in the general population remains controversial.)\n",
      "Sentence(Document 28134295,0,An interfacial coordination nanoparticle successfully exhibited an upconversion blue emission excited by very low-power light irradiation, such as sunlight.)\n",
      "Sentence(Document 28134299,0,Sr is one of the radionuclides released after nuclear accidents that can significantly impact human health in the long term.)\n",
      "Sentence(Document 28134300,0,Aminoacyl-tRNA synthetases are the key enzymes for protein synthesis.)\n",
      "Sentence(Document 28134306,0,Bacterial translocation (BT) is thought to play an important role in the development of liver cirrhosis, but the mechanisms have not been fully explored.)\n",
      "Sentence(Document 28134307,0,Fingolimod, also known as FTY720, is an analogue of the sphingolipid sphingosine, which has been proved to be neuroprotective in rodent models of Alzheimer’s disease (AD).)\n",
      "Sentence(Document 28134312,0,The role of cancer stem cells (CSCs) in inducing the recurrence of hepatocellular carcinoma (HCC) after radiofrequency ablation (RFA) remains unclear.)\n",
      "Sentence(Document 28134318,0,Although internet gaming disorder (IGD) and obsessive-compulsive disorder (OCD) represent opposite ends of the impulsivity and compulsivity dimensions, the two disorders share common neurocognitive deficits in response inhibition.)\n",
      "Sentence(Document 28134320,0,Nitric oxide (NO)-induced apoptosis in neurons is an important cause of neurodegenerative disease in humans.)\n",
      "Sentence(Document 28134325,0,Basophils are rare, circulating granulocytes proposed to be involved in T helper (T ) type 2 immunity, mainly through secretion of interleukin (IL)-4.)\n",
      "Sentence(Document 28134326,0,Jasmonic acid (JA) signalling helps plants to defend themselves against necrotrophic pathogens and herbivorous insects and has been shown to influence the root microbiome of  .)\n",
      "Sentence(Document 28134327,0,Patients with rheumatoid arthritis (RA) are at higher risk of developing cardiovascular diseases (CVD).)\n",
      "Sentence(Document 28134328,0,Diabetes can affect many parts of the body and is associated with serious complications.)\n",
      "Sentence(Document 28134330,0,Observational studies suggest associations of triglyceride levels with longevity and frailty.)\n",
      "Sentence(Document 28134332,0,Gait and balance impairment is highly prevalent in older people.)\n",
      "Sentence(Document 28134334,0,In this paper, an efficient and convenient Fe O /PMG/IDA-Ni  nanoparticles that applied to purify and immobilize his-tagged β-glucosidase was synthesized, in which, Fe O /PMG (poly ( methylenebisacrylamide-co-glycidyl methacrylate) core/shell microspheres were synthesized firstly using distillation-precipitation polymerization, then iminodiacetic acid (IDA) was used to open epoxy rings on the shell of microspheres to the combination of Ni .)\n",
      "Sentence(Document 28134336,0,Thermal chemical vapour deposition techniques for graphene fabrication, while promising, are thus far limited by resource-consuming and energy-intensive principles.)\n",
      "Sentence(Document 28134339,0,In rodents, brown adipose tissue (BAT) plays an important role in producing heat to defend against the cold and can metabolize large amounts of dietary fatty acids (DFA).)\n",
      "Sentence(Document 28134340,0,Ciliary membrane composition is controlled by transition zone (TZ) proteins such as RPGRIP1, RPGRIPL and NPHP4, which are vital for balanced coordination of diverse signalling systems like the Sonic hedgehog (Shh) pathway.)\n",
      "Sentence(Document 28134341,0,Chloroplast development is an important subject in botany.)\n",
      "Sentence(Document 28134346,0,Tinnitus is primarily an auditory symptom.)\n",
      "Sentence(Document 28134351,0,is frequently detected with heavy infection of   in plaque-biofilms from children affected with early-childhood caries, a prevalent and costly oral disease.)\n",
      "Sentence(Document 28134357,0,Age-related macular degeneration (AMD) is a major cause of blindness in developed countries, and the molecular pathogenesis of early events of AMD is poorly understood.)\n",
      "Sentence(Document 28134933,0,Integrins, a family of heterodimeric receptors for extracellular matrix, are promising therapeutic targets for ovarian cancer, particularly high-grade serous-type (HGSOC), as they drive tumor cell attachment, migration, proliferation and survival by activating focal adhesion kinase (FAK)-dependent signaling.)\n",
      "Sentence(Document 28134934,0,PRH/HHEX (proline-rich homeodomain protein/haematopoietically expressed homeobox protein) is a transcription factor that controls cell proliferation, cell differentiation and cell migration.)\n",
      "Sentence(Document 28134935,0,Although hepatocellular carcinoma (HCC) is usually response to radiation therapy, radioresistance is still the major obstacle that limits the efficacy of radiotherapy for HCC patients.)\n",
      "Sentence(Document 28134937,0,A major drawback of radiotherapy is the accelerated growth of the surviving tumor cells.)\n",
      "Sentence(Document 28135189,0,The joints of mammals are lined with cartilage, comprised of individual chondrocytes embedded in a specialized extracellular matrix.)\n",
      "Sentence(Document 28135190,0,Adult-born neurons are continually produced in the dentate gyrus but it is unclear whether synaptic integration of new neurons affects the pre-existing circuit.)\n",
      "Sentence(Document 28135273,0,The   genus member Japanese encephalitis (JE) virus (JEV), causes severe brain disease in tens of thousands of children across Asia every year.)\n",
      "Sentence(Document 28135285,0,Insulin resistance and compensatory hyperinsulinemia are characteristic features of obesity and polycystic ovary syndrome, and both are associated with reduced fertility and implantation.)\n",
      "Sentence(Document 28135290,0,Mechanical ventilation (MV) is a life-saving intervention for many critically ill patients.)\n",
      "Sentence(Document 28135296,0,Genome-wide association studies (GWAS) using single nucleotide polymorphisms (SNPs) have identified more than 50 loci associated with estimated glomerular filtration rate (eGFR), a measure of kidney function.)\n",
      "Sentence(Document 28135299,0,Association mapping is usually performed by testing the correlation between a single marker and phenotypes.)\n",
      "Sentence(Document 28135303,0,Lyme disease is caused by infection with the bacterium  , which is transmitted to humans by deer ticks.)\n",
      "Sentence(Document 28135312,0,Myeloperoxidase is the major peroxidase enzyme in neutrophil granules and implicated in contributing to inflammatory lung damage in cystic fibrosis.)\n",
      "Sentence(Document 28135314,0,L. is a widely distributed species in Eurasia with high economic value.)\n",
      "Sentence(Document 28135317,0,in wheat is a non-race-specific gene that confers resistance against multiple fungal pathogens.)\n",
      "Sentence(Document 28135322,0,Naturally acquired immunity against invasive pneumococcal disease (IPD) is thought to be dependent on anti-capsular antibody.)\n",
      "Sentence(Document 28135323,0,Recently, we developed a small molecule responsive hyperactive Mpl-based Cell Growth Switch (CGS) that drives erythropoiesis associated with macrophages in the absence of exogenous cytokines.)\n",
      "Sentence(Document 28135325,0,In chronic myeloid leukemia (CML), early treatment prediction is important to identify patients with inferior overall outcomes.)\n",
      "Sentence(Document 28135327,0,The aim of this study was to characterize multidrug resistant  .)\n",
      "Sentence(Document 28135329,0,The vitamin B  analog hydroxy-cobalamin[c-lactam] (HCCL) impairs hepatic mitochondrial protein synthesis and function of the electron transport chain in rats.)\n",
      "Sentence(Document 28135336,0,Ankylosing spondylitis (AS) is a chronic inflammatory arthritis of unknown origin.)\n",
      "Sentence(Document 28135339,0,Glioblastoma is a common malignant brain tumor and it is refractory to therapy because it usually contains a mixture of cell types.)\n",
      "Sentence(Document 28135340,0,Adequate genetic information is essential for sustainable crustacean fisheries and aquaculture management.)\n",
      "Sentence(Document 28135342,0,Next-generation sequencing is becoming increasingly accessible to researchers asking biosystematic questions, but current best practice in both choosing a specific approach and effectively analysing the resulting data set is still being explored.)\n",
      "Sentence(Document 28135344,0,Iron is crucial for many biological functions, but quantitatively the most important use of iron is in the production of hemoglobin in red blood cell precursors.)\n",
      "Sentence(Document 28137265,0,Acute myeloid leukemia (AML) is the most commonly diagnosed leukemia in adults (25%) and comprises 15–20% in children.)\n",
      "Sentence(Document 28137266,0,Alzheimer’s disease (AD) is characterized by the accumulation of extracellular amyloid β-protein (Aβ) and intracellular hyperphosphorylated tau proteins.)\n",
      "Sentence(Document 28137272,0,Epithelial-to-mesenchymal transition (EMT) is associated with metastasis formation as well as with generation and maintenance of cancer stem cells.)\n",
      "Sentence(Document 28137287,0,We thank Hattab and colleagues for their correspondence and their investigation of cell-type mixture correction methods in methyl-CG binding domain sequencing.)\n",
      "Sentence(Document 28137290,0,Epithelial-mesenchymal transition (EMT) and cancer stem-like cells (CSC) are becoming highly relevant targets in anticancer drug discovery.)\n",
      "Sentence(Document 28137292,0,Based on an extensive simulation study, McGregor and colleagues recently recommended the use of surrogate variable analysis (SVA) to control for the confounding effects of cell-type heterogeneity in DNA methylation association studies in scenarios where no cell-type proportions are available.)\n",
      "Sentence(Document 28137302,0,The insulin-like growth factor-I (IGF-I) signaling induces epithelial to mesenchymal transition (EMT) program and contributes to metastasis and drug resistance in several subtypes of tumors.)\n",
      "Sentence(Document 28137304,0,Since leukemic stem cells (LSCs) or cancer stem cells (CSCs) were found in acute myeloid leukemia (AML) in 1997, extensive studies have been contributed to identification and characterization of such cell populations in various tissues.)\n",
      "Sentence(Document 28137308,0,Melanoma is a form of cancer that initiates in melanocytes.)\n",
      "Sentence(Document 28137309,0,Radiation therapy is one of the major tools of cancer treatment, and is widely used for a variety of malignant tumours.)\n",
      "Sentence(Document 28137310,0,MicroRNAs (miRNAs) are attractive molecules to utilize as one of the blood-based biomarkers for neurodegenerative disorders such as Alzheimer’s disease (AD) because miRNAs are relatively stable in biofluid, including serum or plasma.)\n",
      "Sentence(Document 28137313,0,Liver cancer is an often fatal malignant tumor with a high recurrence rate and chemoresistance.)\n",
      "Sentence(Document 28137359,0,Pharmacological targeting of transcription factors holds great promise for the development of new therapeutics, but strategies based on blockade of DNA binding, nuclear shuttling, or individual protein partner recruitment have yielded limited success to date.)\n",
      "Sentence(Document 28138105,0,Attention-deficit hyperactivity disorder (ADHD) is notorious for its debilitating consequences and early age of onset.)\n",
      "Sentence(Document 28138119,0,Major depressive disorder, especially in later life, has heterogeneous clinical characteristics and treatment responses.)\n",
      "Sentence(Document 28138543,0,Label-free molecular imaging of the tumor microenvironment interrelates well-known events in carcinogenesis across spatial scales.)\n",
      "Sentence(Document 28138551,0,A role for oxidative stress in the brain has been suggested in the pathogenesis of diet-induced obesity (DIO), although the underlying neural regions and mechanisms remain incompletely defined.)\n",
      "Sentence(Document 28138552,0,Anti-neutrophil cytoplasmic antibody (ANCA) vasculitis is characterized by the presence of autoantibodies to myeloperoxidase and proteinase-3, which bind monocytes in addition to neutrophils.)\n",
      "Sentence(Document 28138553,0,Loss of function or overexpression of methyl-CpG-binding protein 2 (MeCP2) results in the severe neurodevelopmental disorders Rett syndrome and MeCP2 duplication syndrome, respectively.)\n",
      "Sentence(Document 28138554,0,Clinical trials revealed limited response duration of glioblastomas to VEGF-neutralizing antibody bevacizumab.)\n",
      "Sentence(Document 28138555,0,The neonatal mouse kidney retains nephron progenitor cells in a nephrogenic zone for 3 days after birth.)\n",
      "Sentence(Document 28138556,0,BACKGROUND.)\n",
      "Sentence(Document 28138557,0,Bladder outlet obstruction (BOO) induces significant organ remodeling, leading to lower urinary tract symptoms accompanied by urodynamic changes in bladder function.)\n",
      "Sentence(Document 28138558,0,HIV-1–specific broadly neutralizing antibodies (bnAbs) typically develop in individuals with continuous high-level viral replication and increased immune activation, conditions that cannot be reproduced during prophylactic immunization.)\n",
      "Sentence(Document 28138559,0,Adoptive cell therapy is a potentially curative therapeutic approach for patients with cancer.)\n",
      "Sentence(Document 28138561,0,Vascular abnormalities are a common component of eye diseases that often lead to vision loss.)\n",
      "Sentence(Document 28138563,0,The sympathetic nervous system (SNS) accelerates heart rate, increases cardiac contractility, and constricts resistance vessels.)\n",
      "Sentence(Document 28138565,0,Idiopathic pulmonary fibrosis (IPF) is a fatal progressive fibrotic lung disease characterized by the presence of invasive myofibroblasts in the lung.)\n",
      "Sentence(Document 28139196,0,For group-living animals traveling through heterogeneous landscapes, collective movement can be influenced by both habitat structure and social interactions.)\n",
      "Sentence(Document 28139197,0,Desmoplasia, a fibrotic mass including cancer-associated fibroblasts (CAFs) and self-sustaining extracellular matrix (D-ECM), is a puzzling feature of pancreatic ductal adenocarcinoma (PDACs).)\n",
      "Sentence(Document 28139198,0,Mutations in the synaptic gene   lead to a neurodevelopmental disorder known as Phelan-McDermid syndrome (PMS).)\n",
      "Sentence(Document 28139640,0,Duchenne muscular dystrophy (DMD) is characterized by muscle degeneration and progressive weakness.)\n",
      "Sentence(Document 28139663,0,Injuries to the Anterior Cruciate Ligament (ACL) and Rotator Cuff Tendon (RCT) are common in physically active and elderly individuals.)\n",
      "Sentence(Document 28139664,0,Sensory disturbance is associated with socio-emotional problems in individuals with autism spectrum disorder (ASD).)\n",
      "Sentence(Document 28139683,0,The peripheral nervous system (PNS) regenerates after injury.)\n",
      "Sentence(Document 28139685,0,Bisphosphonate-related osteonecrosis of the jaw (BRONJ) has been associated with long-term oral or intravenous administration of nitrogen-containing bisphosphonates (BPs).)\n",
      "Sentence(Document 28139689,0,Nuclear factor kappa-B (NF-κB) activation is a common phenomenon in cancers, which results in the aberrant expression of NF-κB target genes and leads to malignant transformation, metastatic dissemination, abnormal cell proliferation or resistance to cell death.)\n",
      "Sentence(Document 28139692,0,Monitoring of neuronal activity within circuits facilitates integrated responses and rapid changes in behavior.)\n",
      "Sentence(Document 28139693,0,Prostate-specific antigen (PSA) levels have been used for detection and surveillance of prostate cancer (PCa).)\n",
      "Sentence(Document 28139695,0,To understand how diverse progenitor cells contribute to human neocortex development, we examined forebrain progenitor behaviour using timelapse imaging.)\n",
      "Sentence(Document 28139696,0,Plants can be engineered to sustainably produce compounds of nutritional, industrial or pharmaceutical relevance.)\n",
      "Sentence(Document 28139701,0,To evaluate the potential clinical value of the time-shift analysis (TSA) approach for resting-state fMRI (rs-fMRI) blood oxygenation level-dependent (BOLD) data in detecting hypoperfusion of subacute stroke patients through comparison with dynamic susceptibility contrast perfusion weighted imaging (DSC-PWI).)\n",
      "Sentence(Document 28139702,0,Pancancer studies have identified many genes that are frequently somatically altered across multiple tumour types, suggesting that pathway-targeted therapies can be deployed across diverse cancers.)\n",
      "Sentence(Document 28139704,0,Molecular analysis of the mutation status for   and   are now routine in the management of non-small cell lung cancer.)\n",
      "Sentence(Document 28139706,0,Researchers in the field of mitochondrial biology are increasingly unveiling of the complex mechanisms between mitochondrial dysfunction and noncoding RNAs (ncRNAs).)\n",
      "Sentence(Document 28139708,0,Marital status have been found as an independent prognostic factor for survival and spousal support could provide a survival advantage in various cancer types.)\n",
      "Sentence(Document 28139714,0,Detection of volatile organic compounds (VOCs) at parts-per-billion (ppb) level is one of the most challenging tasks for miniature gas sensors because of the high requirement on sensitivity and the possible interference from moisture.)\n",
      "Sentence(Document 28139716,0,The complexity and diversity of a neural network requires regulated elongation and branching of axons, as well as the formation of synapses between neurons.)\n",
      "Sentence(Document 28139720,0,Fatty infiltration in muscle is often observed in patients with sizable rotator cuff tear (RCT) and is thought to be an irreversible event that significantly compromises muscle plasticity and contraction strength.)\n",
      "Sentence(Document 28139723,0,As well as being a significant source of environmental radiation exposure, α-particles are increasingly considered for use in targeted radiation therapy.)\n",
      "Sentence(Document 28139724,0,Duplications of Methyl CpG binding protein 2 ( ) -containing segments lead to the   duplication syndrome, in which severe autistic symptoms were identified.)\n",
      "Sentence(Document 28139725,0,Isoleucyl-tRNA synthetase (IleRS) is an aminoacyl-tRNA synthetase whose essential function is to aminoacylate tRNA  with isoleucine.)\n",
      "Sentence(Document 28139727,0,First Nations people globally have a higher incidence of mental disorders and non-communicable diseases.)\n",
      "Sentence(Document 28139728,0,The mechanisms involved in the chronic hepatitis C progression are incompletely understood.)\n",
      "Sentence(Document 28139730,0,Hypocotyl elongation is considered an important typical seedling trait contributing directly to an increase in and stabilization of the yield in  , but its molecular genetic mechanism is poorly understood.)\n",
      "Sentence(Document 28139731,0,Histo-blood group   gene polymorphism is crucial in transfusion medicine.)\n",
      "Sentence(Document 28139732,0,Glioblastoma (GBM) is a hypervascular primary brain tumor with poor prognosis.)\n",
      "Sentence(Document 28139733,0,Targeting the autophagic pathway is currently regarded as an attractive strategy for cancer drug discovery.)\n",
      "Sentence(Document 28139735,0,Peroxisome proliferation activated receptor α (PPARα) is an important transcriptional regulator of lipid metabolism and is activated by high-fat diet (HFD) and fibrates in mammals.)\n",
      "Sentence(Document 28139736,0,Bone marrow (BM) reconstitution with young BM cells in aged recipients restores the functionality of cardiac resident BM-derived progenitors.)\n",
      "Sentence(Document 28139737,0,While chromatin remodeling mediated by post-translational modification of histone is extensively studied in carcinogenesis and cancer cell’s response to chemotherapy and radiotherapy, little is known about the role of histone expression in chemoresistance.)\n",
      "Sentence(Document 28139741,0,Heterotetramer voltage-gated K  (K ) channels K 2.1/K 6.4 display a gating charge-voltage (Q ) distribution composed by two separate components.)\n",
      "Sentence(Document 28139744,0,Transcriptional variation in histologically- and genetically- identical cells is a widespread phenomenon in tissues, yet the processes conferring this heterogeneity are not well understood.)\n",
      "Sentence(Document 28139747,0,Roxatidine is an active metabolite of roxatidine acetate hydrochloride which is a histamine H -receptor antagonist that is used to treat gastric and duodenal ulcers.)\n",
      "Sentence(Document 28139749,0,Patients with multiple primary cancers (MPCs) are suspected to have a hereditary cancer syndrome.)\n",
      "Sentence(Document 28139754,0,The ability of a novel intranasally delivered amnion cell derived biologic to suppress inflammation, prevent neuronal damage and preserve neurologic function in the experimental autoimmune encephalomyelitis animal model of multiple sclerosis was assessed.)\n",
      "Sentence(Document 28139756,0,Retinopathies are a group of monogenetic or complex retinal diseases associated with high unmet medical need.)\n",
      "Sentence(Document 28139758,0,The role of urokinase plasminogen activator (uPA) in idiopathic pulmonary fibrosis (IPF) remains unclear.)\n",
      "Sentence(Document 28139767,0,Endoribonucleases participate in almost every step of eukaryotic RNA metabolism, acting either as degradative or biosynthetic enzymes.)\n",
      "Sentence(Document 28139770,0,Thrombocytopenia is common in patients with dengue virus (DENV) infections.)\n",
      "Sentence(Document 28139777,0,Leaf senescence is a complex biological process and defense responses play vital role for rice development, their molecular mechanisms, however, remain elusive in rice.)\n",
      "Sentence(Document 28139974,0,The visual responses of vertebrates are sensitive to the overall composition of retinal interneurons including amacrine cells, which tune the activity of the retinal circuitry.)\n",
      "Sentence(Document 28141808,0,Advanced glycation end-products (AGEs) are increased and predict mortality in patients with chronic kidney disease (CKD) who are undergoing hemodialysis, irrespective of the presence of type 2 diabetes.)\n",
      "Sentence(Document 28141810,0,The purpose of this study was to assess the accuracy of fractional blood volume ( ) estimates in low-perfused and low-vascularized tissue using dynamic contrast-enhanced magnetic resonance imaging (DCE-MRI).)\n",
      "Sentence(Document 28141814,0,Like embryonic stem cells, induced pluripotent stem cells (iPSCs) can differentiate into all three germ layers in an   system.)\n",
      "Sentence(Document 28141819,0,Malignant transformation is known to involve substantial rearrangement of the molecular genetic landscape of the cell.)\n",
      "Sentence(Document 28141828,0,In sea urchin development, structures derived from neurogenic territory control the swimming and feeding responses of the pluteus as well as the process of metamorphosis.)\n",
      "Sentence(Document 28141839,0,Triple negative breast cancer (TNBC) progresses rapidly but lacks effective targeted therapies.)\n",
      "Sentence(Document 28141846,0,O157:H7 is a foodborne pathogen that colonizes ruminants.)\n",
      "Sentence(Document 28141855,0,Harpins, encoded by   (hypersensitive response and pathogenicity) genes of Gram-negative plant pathogens, are elicitors of hypersensitive response (HR).)\n",
      "Sentence(Document 28141856,0,Visceral Leishmaniasis (VL), caused by the intracellular protozoan  , is characterized by relentlessly increasing visceral parasite replication, cachexia, massive splenomegaly, pancytopenia and ultimately death.)\n",
      "Sentence(Document 28141859,0,In songbirds, neurogenesis in the song control nucleus HVC is sensitive to the hormonal and social environment but the dynamics of this process is difficult to assess with a single exogenous marker of new neurons.)\n",
      "Sentence(Document 28141861,0,Face-to-face conversations are central to human communication and a fascinating example of joint action.)\n",
      "Sentence(Document 28141865,0,In an analysis of 979,912 term singleton pregnancies, Stamatina Iliodromiti and colleagues compare using customised and noncustomised birth weight centiles for prediction of stillbirth and infant mortality and morbidity.)\n",
      "Sentence(Document 28141869,0,Advanced lung cancer has poor survival with few therapies.)\n",
      "Sentence(Document 28141871,0,Adipose tissue macrophages (ATM) are implicated in adipose tissue inflammation and obesity-related insulin resistance.)\n",
      "Sentence(Document 28142087,0,Anaplastic thyroid carcinoma (ATC) although rare is the most deadly form of thyroid cancer.)\n",
      "Sentence(Document 28143527,0,Immune interferon (IFN), also known as IFN-γ, promotes not only immunomodulation but also antimicrobial and anticancer activity.)\n",
      "Sentence(Document 28143553,0,Epigenetic modifications are heritable changes in gene expression that do not directly alter DNA sequence.)\n",
      "Sentence(Document 28143577,0,α-Synuclein is a protein implicated in the etiopathogenesis of Parkinson’s disease (PD).)\n",
      "Sentence(Document 28143578,0,CircRNAs are a novel type of RNAs.)\n",
      "Sentence(Document 28143590,0,Obesity is recognized as the second highest risk factor for cancer.)\n",
      "Sentence(Document 28143593,0,Sea lice infestations caused by   are a main concern to the salmon farming industry due to associated economic losses.)\n",
      "Sentence(Document 28143953,0,Hemolysis occurring in hematologic diseases is often associated with an iron loading anemia.)\n",
      "Sentence(Document 28143979,0,The blood-brain barrier (BBB) protects the central nervous system (CNS) by restricting the passage of molecules and microorganisms.)\n",
      "Sentence(Document 28143980,0,Adaptation to alternating CO  concentrations is crucial for all organisms.)\n",
      "Sentence(Document 28143983,0,Compared to other fungal pathogens,   is particularly adept at avoiding detection by innate immune cells.)\n",
      "Sentence(Document 28143984,0,Coronavirus (CoV) replication and transcription are carried out in close proximity to restructured endoplasmic reticulum (ER) membranes in replication/transcription complexes (RTC).)\n",
      "Sentence(Document 28144400,0,Today, the use of cardiovascular magnetic resonance (CMR) is widespread in clinical practice.)\n",
      "Sentence(Document 28144624,0,The olfactory cortex is part of the mammalian cerebral cortex together with the neocortex and the hippocampus.)\n",
      "Sentence(Document 28144625,0,Juvenile social play behavior is a shared trait across a wide variety of mammalian species.)\n",
      "Sentence(Document 28144815,0,Human papilloma virus (HPV) is considered to be responsible for a large part of vaginal and vulvar carcinomas, and the p53 codon 72 polymorphism has been implicated in susceptibility to cancer induced by this virus, but with contradicting results.)\n",
      "Sentence(Document 28145127,0,There is little data documenting cortisol levels in children with diabetic ketoacidosis (DKA), despite the fact that untreated adrenal insufficiency (AI) could worsen the outcome of DKA.)\n",
      "Sentence(Document 28145401,0,L-plastin is a calcium-regulated actin-bundling protein that is expressed in cells of hematopoietic origin and in most metastatic cancer cells.)\n",
      "Sentence(Document 28145408,0,Plant peroxisomes maintain a plethora of key life processes including fatty acid β-oxidation, photorespiration, synthesis of hormones, and homeostasis of reactive oxygen species (ROS).)\n",
      "Sentence(Document 28145431,0,Epithelial–mesenchymal transition (EMT) and Notch signaling are important for the growth and invasion of pancreatic cancer, which is a leading cause of cancer-related deaths worldwide.)\n",
      "Sentence(Document 28145432,0,α-tocopherol succinate (α-TOS), γ-tocotrienol (GT3) and δ-tocotrienol (DT3) have drawn large attention due to their efficacy as radioprotective agents.)\n",
      "Sentence(Document 28145449,0,Within the chloroplasts reactive oxygen species (ROS) are generated during photosynthesis and stressful conditions.)\n",
      "Sentence(Document 28145452,0,Despite sharing the same sequence specificity   and  , CCCTC-binding factor (CTCF) and its paralog  rother  f the  egulator of  mprinted  ites (BORIS) are simultaneously expressed in germ cells.)\n",
      "Sentence(Document 28145464,0,Antibiotic tolerance - the ability for prolonged survival under bactericidal treatments - is a potentially clinically significant phenomenon that is commonly overlooked in the clinical microbiology laboratory.)\n",
      "Sentence(Document 28145465,0,Pancreatic ductal adenocarcinoma (PDAC) has generally a poor prognosis, but recent data suggest that there are molecular subtypes differing in clinical outcome.)\n",
      "Sentence(Document 28145469,0,Autism spectrum disorder (ASD) is a heterogeneous group of neurodevelopmental disorders without any defined uniting pathophysiology.)\n",
      "Sentence(Document 28145471,0,Metformin or glucagon-like peptide-1 (GLP-1) analogue liraglutide has cardiovascular benefits.)\n",
      "Sentence(Document 28145474,0,Long-term comparisons of infrared image can facilitate the assessment of breast cancer tissue growth and early tumor detection, in which longitudinal infrared image registration is a necessary step.)\n",
      "Sentence(Document 28145475,0,Adipose (fat) tissue is a complex metabolic organ that is highly active and essential.)\n",
      "Sentence(Document 28145478,0,The scented gland is an organ responsible for producing musk in muskrats.)\n",
      "Sentence(Document 28145479,0,MicroRNAs (miRNAs) function as critical regulators of gene expression and their deregulation is associated with the development and progression of various cancers.)\n",
      "Sentence(Document 28145481,0,Serum prealbumin is a clinically relevant indicator of nutritional status and inflammation in patients with acute kidney injury (AKI).)\n",
      "Sentence(Document 28145485,0,Doping   self-assembled macromolecules might offer a solution for developing single atom electronics by precisely placing individual dopants at arbitrary location to meet the requirement for circuit design.)\n",
      "Sentence(Document 28145488,0,The Adelaide geosyncline, a mountainous region in central southern Australia, is purported to be an important continental refugium for Mediterranean and semi-arid Australian biota, yet few population genetic studies have been conducted to test this theory.)\n",
      "Sentence(Document 28145489,0,High-sensitive cardiac troponin T (hs-TnT) is a critical biomarker in diagnosis of acute myocardial infarction (AMI).)\n",
      "Sentence(Document 28145491,0,MicroRNAs (miRNAs) play an important role in regulating gene expression and immune responses.)\n",
      "Sentence(Document 28145495,0,Aminoglycoside antibiotics including gentamicin (GM) induce delayed ototoxic effects such as hearing loss after long-term use, unlike the early-onset ototoxicity caused by cisplatin.)\n",
      "Sentence(Document 28145498,0,In this study, the anticancer potential and cytotoxicity of natural deep eutectic solvents (NADESs) were assessed using HelaS3, PC3, A375, AGS, MCF-7, and WRL-68 hepatic cell lines.)\n",
      "Sentence(Document 28145499,0,Earlier we introduced the concept of ‘ ’ i.e. the use of nanotechnology to improve the outcome of cancer chemoprevention.)\n",
      "Sentence(Document 28145503,0,GRP78, a multifunctional protein with potent cytoprotective properties, is an emerging therapeutic target to combat cancer development, progression and drug resistance.)\n",
      "Sentence(Document 28145505,0,Humans are able to judge the speed of an object’s motion by touch.)\n",
      "Sentence(Document 28145507,0,Oligodendrocyte precursor cells (OPCs) have the ability to repair demyelinated lesions by maturing into myelin-producing oligodendrocytes.)\n",
      "Sentence(Document 28145508,0,The task of identifying genomic regions conferring yield stability is challenging in any crop and requires large experimental data sets in conjunction with complex analytical approaches.)\n",
      "Sentence(Document 28145509,0,In previous works we showed the overexpression of some proteins in biological fluids from patients suffering chronic pain.)\n",
      "Sentence(Document 28145511,0,The sustainable production of fuels and chemicals using microbial cell factories is now well established.)\n",
      "Sentence(Document 28145519,0,Plant forms display a wide variety of architectures, depending on the number of lateral branches, internode elongation and phyllotaxy.)\n",
      "Sentence(Document 28145521,0,Several recent genome-wide association studies (GWASs) have suggested that the histone deacetylase 9 ( ) gene is associated with stroke, but the reliability of these findings remains controversial, particularly for the data derived from different ethnicities and geographical locations.)\n",
      "Sentence(Document 28145524,0,Multidimensional data are integral to many community-ecological studies and come in various forms, such as stable isotopes, compound specific analyses (e.g., amino acids and fatty acids), and both biodiversity and life history traits.)\n",
      "Sentence(Document 28145528,0,Lung immaturity is a major cause of morbidity and mortality in premature infants.)\n",
      "Sentence(Document 28145530,0,Polygenic risk scores (PRS) from genome-wide association studies (GWAS) are increasingly used to predict disease risks.)\n",
      "Sentence(Document 28145532,0,We seek to characterize differences in the shape of the prostate and the central gland (combined central and transitional zones) between men with biopsy confirmed prostate cancer and men who were identified as not having prostate cancer either on account of a negative biopsy or had pelvic imaging done for a non-prostate malignancy.)\n",
      "Sentence(Document 28145864,0,Lateralization is a fundamental principle of nervous system organization but its molecular determinants are mostly unknown.)\n",
      "Sentence(Document 28145866,0,Inhibitors that target the receptor tyrosine kinase (RTK)/Ras/mitogen-activated protein kinase (MAPK) pathway have led to clinical responses in lung and other cancers, but some patients fail to respond and in those that do resistance inevitably occurs ( ;  ;  ;  ).)\n",
      "Sentence(Document 28145870,0,Researchers and clinicians in environmental health and medicine increasingly show respect for participants and patients by involving them in decision-making.)\n",
      "Sentence(Document 28146216,0,We evaluated serum total bilirubin levels as a predictor for metabolic syndrome (MetS) and investigated the relationship between serum total bilirubin levels and MetS prevalence.)\n",
      "Sentence(Document 28146217,0,The purpose of this study was to retrospectively review the pathologic complete response (pCR) rate from patients (n=86) with stage II and III HER2-positive breast cancer treated with neoadjuvant chemotherapy at our institution from 2008 to 2013 and to determine possible predictive and prognostic factors.)\n",
      "Sentence(Document 28146559,0,Here we conduct research to understand the evolutionary history of a shrubby species known as Agarito ( lata), an endemic species to the Chihuahuan Desert.)\n",
      "Sentence(Document 28146565,0,Planctomycetes are distinguished from other Bacteria by compartmentalization of cells via internal membranes, interpretation of which has been subject to recent debate regarding potential relations to Gram-negative cell structure.)\n",
      "Sentence(Document 28146575,0,Individuals with autism spectrum disorder (ASD) show superior performance in processing fine detail, but often exhibit impaired gestalt face perception.)\n",
      "Sentence(Document 28146581,0,The inferred phylogenetic relationships between organisms often depend on the molecular marker studied due to the diverse evolutionary mode and unlike evolutionary histories of different parts of the genome.)\n",
      "Sentence(Document 28146588,0,Human epidermal growth factor receptor 2 (HER2 or ErbB2) can be overexpressed, amplified and/or mutated in malignant tumors, and is a candidate for therapeutic targeting.)\n",
      "Sentence(Document 28147273,0,During brain wiring, cue-induced axon behaviors such as directional steering and branching are aided by localized mRNA translation.)\n",
      "Sentence(Document 28147304,0,Esophageal cancer is among the most deadly malignant diseases.)\n",
      "Sentence(Document 28147305,0,Heparanase activity is highly implicated in cellular invasion and tumor metastasis, a consequence of cleavage of heparan sulfate and remodeling of the extracellular matrix underlying epithelial and endothelial cells.)\n",
      "Sentence(Document 28148257,0,Compelling evidence have demonstrated that bulk tumors can arise from a unique subset of cells commonly termed “cancer stem cells” that has been proposed to be a strong driving force of tumorigenesis and a key mechanism of therapeutic resistance.)\n",
      "Sentence(Document 28148268,0,Tumour progression is dependent on the interaction between tumour cells and cells of the surrounding microenvironment.)\n",
      "Sentence(Document 28148295,0,Modern concepts of osteoarthritis (OA) have been forever changed by modern imaging phenotypes demonstrating complex and multi-tissue pathologies involving cartilage, subchondral bone and (increasingly recognized) inflammation of the synovium.)\n",
      "Sentence(Document 28148299,0,α-Synuclein is a defining, key component of Lewy bodies and Lewy neurites in Parkinson’s disease (PD) and dementia with Lewy bodies (DLB), as well as glial cytoplasmic inclusions in multiple system atrophy (MSA).)\n",
      "Sentence(Document 28148910,0,CVB3 is a common human pathogen to be highly lethal to newborns and causes viral myocarditis and pancreatitis in adults.)\n",
      "Sentence(Document 28148911,0,Atherosclerotic cardiovascular disease (CVD) represents the largest cause of mortality in end-stage renal disease (ESRD).)\n",
      "Sentence(Document 28148912,0,Cardiac homeostasis requires proper control of protein turnover.)\n",
      "Sentence(Document 28148953,0,CVD risk prediction in diabetics is imperfect, as risk models are derived mainly from the general population.)\n",
      "Sentence(Document 28148961,0,Differentiation of myoblasts is essential in the development and regeneration of skeletal muscles to form multinucleated, contractile muscle fibers.)\n",
      "Sentence(Document 28148964,0,Cellular prion protein (PrP ) is a mammalian glycoprotein which is usually found anchored to the plasma membrane via a glycophosphatidylinositol (GPI) anchor.)\n",
      "Sentence(Document 28148966,0,Endoplasmic reticulum (ER) stress is implicated in chronic kidney disease (CKD) development in patients and in animal models.)\n",
      "Sentence(Document 28148968,0,Lack of high-quality antibodies against transmembrane proteins is a widely recognized hindrance in biomedical and cell biological research.)\n",
      "Sentence(Document 28149500,0,Despite widespread agreement that nursing homes’ use of antipsychotic medications for residents without specific psychiatric diagnoses is a marker of poor quality of care, prevalence remains high.)\n",
      "Sentence(Document 28149509,0,Alzheimer’s Disease (AD) is a global health issue given the increasing prevalence rate and the limitations of drug effects.)\n",
      "Sentence(Document 28149519,0,Concentrations of the chemical pentosidine in the bodies of endotherms are highly correlated with age, providing a useful biomarker for ageing individuals and potentially for assessing demographic structure in endangered populations.)\n",
      "Sentence(Document 28149530,0,Despite considerable recent progress in defining neutrophil functions and behaviors in tissue repair, much remains to be determined with regards to its overall role in the tissue integration of biomaterials.)\n",
      "Sentence(Document 28149533,0,Tumour necrosis factor-  (TNF- ) is a double-edged cytokine associated with pathogenesis of inflammatory-related cancers being also able to induce cancer cell death.)\n",
      "Sentence(Document 28149534,0,The pathogenic process of intervertebral disc degeneration (IDD) is characterized by imbalance in the extracellular matrix (ECM) metabolism.)\n",
      "Sentence(Document 28149930,0,Research efforts targeting the identification of bladder cancer biomarkers have been extensive during the past decade.)\n",
      "Sentence(Document 28149932,0,We have previously provided molecular evidence of expression of aquaporin 3 (AQP3) in normal human urothelium and in UBC of various stages.)\n",
      "Sentence(Document 28149933,0,Level I evidence supports the use of cisplatin-based neoadjuvant chemotherapy (NAC) for muscle-invasive bladder cancer prior to radical cystectomy (RC).)\n",
      "Sentence(Document 28149934,0,There is a lack of evidence supporting the routine use of laboratory tests to detect bladder cancer.)\n",
      "Sentence(Document 28149936,0,Sarcopenia, or the age-related loss of skeletal muscle mass and function, has been investigated as a potential marker of adverse outcomes among surgical patients.)\n",
      "Sentence(Document 28150105,0,Skin cancer, including both melanoma and non-melanoma, is the most common type of malignancy in the Caucasian population.)\n",
      "Sentence(Document 28150108,0,Non-steroidal anti-inflammatory drugs (NSAIDs) are a chemically diverse class of drugs that target the cyclooxygenase (COX) pathway and have anti-inflammatory, analgesic, and antipyretic properties.)\n",
      "Sentence(Document 28150690,0,Multiple factors help shape the infant intestinal microbiota early in life.)\n",
      "Sentence(Document 28150691,0,This study aims to investigate the repair of bone defects with prefabricated vascularized bone grafts and double-labeled bone marrow-derived mesenchymal stem cells (BMSCs) in a rat model.)\n",
      "Sentence(Document 28150695,0,In recent years it has become increasingly clear that articular cartilage harbours a viable pool of progenitor cells and interest has focussed on their role during development and disease.)\n",
      "Sentence(Document 28150702,0,Para rubber tree ( ) is an important economic species as it is the sole commercial producer of high-quality natural rubber.)\n",
      "Sentence(Document 28150703,0,Pulmonary arterial hypertension (PAH) is a fatal condition for which there is no cure.)\n",
      "Sentence(Document 28150710,0,Foliar fungi of silver birch ( ) in an experimental Finnish forest were investigated across a gradient of tree species richness using molecular high-throughput sequencing and visual macroscopic assessment.)\n",
      "Sentence(Document 28150711,0,Bile salt export pump (BSEP) plays an important role in hepatic secretion of bile acids and its deficiency results in severe cholestasis and liver failure.)\n",
      "Sentence(Document 28150718,0,A TCRβ enhancer, known as the Eβ enhancer, plays a critical role in V(D)J recombination and transcription of the   gene.)\n",
      "Sentence(Document 28150722,0,rs895819 is a loop-stem structure single nucleotide polymorphism affecting mature miR-27a function.)\n",
      "Sentence(Document 28150725,0,A probabilistic model was used to predict decompression sickness (DCS) outcome in pig (70 and 20 kg), hamster (100 g), rat (220 g) and mouse (20 g) following air saturation dives.)\n",
      "Sentence(Document 28150727,0,For sponges (phylum Porifera), there is no reliable molecular protocol available for species identification.)\n",
      "Sentence(Document 28150729,0,T antigen, mucin-type core 1  -glycan, is highly expressed in the embryonic central nervous system (CNS) and co-localizes with a   CNS marker, BP102 antigen.)\n",
      "Sentence(Document 28150730,0,Validation of imaging contrast agents, such as fluorescently labeled imaging antibodies, has been recognized as a critical challenge in clinical and preclinical studies.)\n",
      "Sentence(Document 28150734,0,Dagger and needle nematodes included in the family Longidoridae ( , and  ) are highly polyphagous plant-parasitic nematodes in wild and cultivated plants and some of them are plant-virus vectors (nepovirus).)\n",
      "Sentence(Document 28150736,0,B7-1 is thought to play a pathogenic role in minimal-change disease (MCD).)\n",
      "Sentence(Document 28150739,0,Rett syndrome (RTT) is a neurodevelopmental disease that leads to intellectual deficit, motor disability, epilepsy and increased risk of sudden death.)\n",
      "Sentence(Document 28150740,0,Although most papillary thyroid carcinomas (PTCs) have a good prognosis, a small but certain fraction shows aggressive behavior.)\n",
      "Sentence(Document 28150746,0,The ability to isolate specific, viable cell populations from mixed ensembles with minimal manipulation and within intra-operative time would provide significant advantages for autologous, cell-based therapies in regenerative medicine.)\n",
      "Sentence(Document 28150753,0,Acquired tamoxifen resistance (TamR) remains a major challenge in breast cancer endocrine therapy.)\n",
      "Sentence(Document 28150799,0,Anion channelrhodopsin-2 (ACR2) was recently identified from the cryptophyte algae   and has become a focus of interest in part because of its novel light-gated anion channel activity and its extremely high neural silencing activity.)\n",
      "Sentence(Document 28150801,0,Implicit emotion regulation defined as goal-driven processes modulates emotion experiences and responses automatically without awareness.)\n",
      "Sentence(Document 28150810,0,, a sex-determining gene, induces testis development in chromosomally female (XX) individuals.)\n",
      "Sentence(Document 28150812,0,Drug assays with patient-derived cells such as circulating tumor cells requires manipulating small sample volumes without loss of rare disease-causing cells.)\n",
      "Sentence(Document 28150814,0,Mice deficient in P-Selectin presented altered immunity/tolerance balance.)\n",
      "Sentence(Document 28150815,0,Gestational weight gain (GWG) is an important modifiable factor known to influence fetal outcomes including birth weight and adiposity.)\n",
      "Sentence(Document 28150817,0,Diabetes Mellitus type 2 (DM2) is associated with increased cancer risk.)\n",
      "Sentence(Document 28150819,0,Nitrate content of surface waters results from complex mixing of multiple sources, whose signatures can be modified through N reactions occurring within the different compartments of the whole catchment.)\n",
      "Sentence(Document 28150820,0,Dysfunction of energy metabolism is involved in inflammatory bowel disease (IBD).)\n",
      "Sentence(Document 28151847,0,Th aim of this study was to develop a new facile chemical method for early screening of colorectal cancer.)\n",
      "Sentence(Document 28151853,0,Promoter mutations in telomerase reverse transcriptase ( ) and telomere length have been studied in various tumors.)\n",
      "Sentence(Document 28151855,0,Uromodulin is the most abundant urine protein under physiological conditions.)\n",
      "Sentence(Document 28151864,0,Supplemental Digital Content is available in the text The relationship between systolic blood pressure (SBP) change during hospitalization of patients with heart failure (HF) and clinical outcomes has never been thoroughly investigated.)\n",
      "Sentence(Document 28151865,0,Preterm birth (PTB, <37 weeks of gestation) is influenced by a wide range of environmental, genetic and psychosocial factors, and their interactions.)\n",
      "Sentence(Document 28151870,0,Gastric polyps are frequently reported in patients undergoing upper endoscopic procedures.)\n",
      "Sentence(Document 28151872,0,Supplemental Digital Content is available in the text Several reports showed that interleukin-6 (IL-6) or -8 (IL-8) might be useful inflammatory biomarkers for pancreatic ductal adenocarcinoma (PDAC), although these clinical impact is still open to debate.)\n",
      "Sentence(Document 28151879,0,Hematologic parameters of systemic inflammation are receiving attention as promising prognostic indicators in cancer patients.)\n",
      "Sentence(Document 28151881,0,Some observational studies have shown that elevated serum selenium levels are associated with reduced prostate cancer risk; however, not all published studies support these results.)\n",
      "Sentence(Document 28151884,0,Adenoid cystic carcinoma (ACC) is characterized by slow growth, frequent local recurrences, and high incidence of distant metastasis (DM).)\n",
      "Sentence(Document 28151889,0,Evaluation of acute white matter injuries caused by carbon monoxide (CO) poisoning can be limited by conventional magnetic resonance (MR) imaging.)\n",
      "Sentence(Document 28151892,0,Stent thrombosis is a rare but potentially fatal complication of percutaneous coronary interventions (PCIs).)\n",
      "Sentence(Document 28151912,0,Supplemental Digital Content is available in the text Donor nephrectomy in living-donor kidney transplantation may result in hyperfiltration injury in remnant kidney; however, its clinical implication in partial recovery of kidney function (PRKF) in remnant kidney and chronic kidney disease (CKD) progression remains unclear.)\n",
      "Sentence(Document 28151932,0,Drug-induced toxicity is a significant problem in clinical care.)\n",
      "Sentence(Document 28151934,0,Many viruses modulate calcium (Ca ) signaling to create a cellular environment that is more permissive to viral replication, but for most viruses that regulate Ca  signaling, the mechanism underlying this regulation is not well understood.)\n",
      "Sentence(Document 28151935,0,Cannabinoid CB1 antagonists have been investigated for possible treatment of e.g. obesity-related disorders.)\n",
      "Sentence(Document 28151944,0,Heart rate variability (HRV) has become an increasingly popular index of cardiac autonomic control in the biobehavioral sciences due to its relationship with mental illness and cognitive traits.)\n",
      "Sentence(Document 28151947,0,Decellularized extracellular matrix (ECM) contains complex tissue-specific components that work in concert to promote tissue repair and constructive remodeling and has been used experimentally and clinically to accelerate epithelial wound repair, leading us to hypothesize that lung-derived ECM could mitigate acute lung injury.)\n",
      "Sentence(Document 28151949,0,The fungal vacuole is a large acidified organelle that performs a variety of cellular functions.)\n",
      "Sentence(Document 28151952,0,Insecticide resistance in mosquito populations threatens recent successes in malaria prevention.)\n",
      "Sentence(Document 28151955,0,The unprecedented spread of EVD across the fragile healthcare systems of West Africa during the 2013–2015 outbreak infected over 28,600 patients and established it as a disease for which low-income countries are at disproportionate risk.)\n",
      "Sentence(Document 28151956,0,is the causative agent of cholera, a dehydrating diarrheal disease.)\n",
      "Sentence(Document 28151958,0,This study aimed to evaluate the influence of acute and chronic exercise on erythrocyte membrane stability and various blood indices in a population consisting of five national-level male swimmers, over 18 weeks of training.)\n",
      "Sentence(Document 28151959,0,High percentage of human cancers involves alteration or mutation in Ras proteins, including the most aggressive malignancies, such as lung, colon and pancreatic cancers.)\n",
      "Sentence(Document 28151961,0,Central auditory pathway maturation in children depends on auditory sensory stimulation.)\n",
      "Sentence(Document 28151962,0,Tobacco smoking is inconsistently associated with breast cancer.)\n",
      "Sentence(Document 28151972,0,Stapf ex Wardleworth (jaborandi, Rutaceae) is one of the most important Brazilian medicinal species owing to its content of pilocarpine (PIL), an alkaloid used for treating glaucoma and xerostomia.)\n",
      "Sentence(Document 28151978,0,A newly assay, up-converting phosphor technology-based lateral flow (UPT-LF) assay, was developed for rapid and quantitative detection of N-terminal fragment of B-type natriuretic peptide precursor (NT-proBNP), one of the most important serum molecular maker of heat failure, in plasma samples as a point of care testing (POCT) method for diagnosis of acute heart failure.)\n",
      "Sentence(Document 28151980,0,Lhx8 is an important transcription factor that is preferentially expressed in germ cells.)\n",
      "Sentence(Document 28151996,0,T-cell acute lymphoblastic leukemia (T-ALL) cells represent developmentally arrested T-cell progenitors, subsets of which aberrantly express homeobox genes of the NKL subclass, including TLX1, TLX3, NKX2-1, NKX2-5, NKX3-1 and MSX1.)\n",
      "Sentence(Document 28151999,0,Chronic kidney disease (CKD) is usually diagnosed using the estimated glomerular filtration rate (eGFR) or kidney damage markers.)\n",
      "Sentence(Document 28152002,0,Global climate change not only leads to elevated seawater temperatures but also to episodic anomalously high or low temperatures lasting for several hours to days.)\n",
      "Sentence(Document 28152006,0,Zinc fingers and homeoboxes (ZHX) is a transcription repressor family that contains three members; ZHX1, ZHX2, and ZHX3.)\n",
      "Sentence(Document 28152008,0,Somatic mutation in human epidermal growth factor receptor-related 2 gene ( ) is one of the driver mutations in lung cancer.)\n",
      "Sentence(Document 28152014,0,Pancreatic cancer (PC) evades immune destruction by favoring the development of regulatory T cells (Tregs) that inhibit effector T cells.)\n",
      "Sentence(Document 28152020,0,There are limited numbers of models to study hepatocellular carcinoma (HCC)   in immunocompetent hosts.)\n",
      "Sentence(Document 28152021,0,Calgranulin B is known to be involved in tumor development, but the underlying molecular mechanism is not clear.)\n",
      "Sentence(Document 28152025,0,Glucose-6-Phosphate Dehydrogenase (G6PD) enzyme deficiency is known to offer protection against malaria and an increased selection of mutant genes in malaria endemic regions is expected.)\n",
      "Sentence(Document 28152035,0,Nik-related kinase (Nrk) is a Ser/Thr kinase and was initially discovered as a molecule that was predominantly detected in skeletal muscles during development.)\n",
      "Sentence(Document 28152046,0,An intentionally modified head is a visually distinctive sign of group identity.)\n",
      "Sentence(Document 28152048,0,Zika virus (ZIKV) is an emerging mosquito-borne flavivirus that is causally linked to severe neonatal birth defects, including microcephaly, and is associated with Guillain-Barre syndrome in adults.)\n",
      "Sentence(Document 28152049,0,Mineral and bone disorder (MBD) is observed universally in patients with chronic kidney disease (CKD).)\n",
      "Sentence(Document 28152050,0,Karnal bunt disease in wheat is caused by hemibiotrophic fungus,   that has been placed as quarantine pest in more than 70 countries.)\n",
      "Sentence(Document 28152051,0,It is now well established that both inherited and acquired forms of hemolytic disease can promote pulmonary vascular disease consequent of free hemoglobin (Hb) induced NO scavenging, elevations in reactive oxygen species and lipid peroxidation.)\n",
      "Sentence(Document 28152052,0,Intersections in hepatic methyl group metabolism pathways highlights potential competition or compensation of methyl donors.)\n",
      "Sentence(Document 28152055,0,Higher body mass index (BMI) measured before endometrial cancer diagnosis has been associated with greater risk of developing endometrial cancer and higher mortality, but the association between BMI measured after diagnosis and mortality risk is unclear.)\n",
      "Sentence(Document 28152063,0,Treatment management for Major Depressive Disorder (MDD) has been challenging.)\n",
      "Sentence(Document 28152064,0,Accumulation of reactive oxygen species (ROS) is an important pathogenic mechanism underling the loss of bone mass and strength with aging and other conditions leading to osteoporosis.)\n",
      "Sentence(Document 28152071,0,This research study analysed the rheological properties of potato amylose and potato amylopectin in binary solutions of the following water and dimethyl sulfoxide concentrations: 90% DMSO (1), 80% DMSO (2) and 50% DMSO (3), with preparation methodology involving the dissolution at the temperature of 98°C.)\n",
      "Sentence(Document 28152077,0,Collective invasion of cells plays a fundamental role in tissue growth, wound healing, immune response and cancer metastasis.)\n",
      "Sentence(Document 28152080,0,Mouse F9 cells differentiate to primitive endoderm (PrE) when treated with retinoic acid (RA).)\n",
      "Sentence(Document 28152086,0,Invariant NKT (iNKT) cells can be activated to stimulate a broad inflammatory response.)\n",
      "Sentence(Document 28152090,0,Disease resistance exerts a fitness cost on plants, presumably due to the extra consumption of energy and carbon.)\n",
      "Sentence(Document 28152092,0,Mapping quantitative trait loci through the use of linkage disequilibrium (LD) in populations of unrelated individuals provides a valuable approach for dissecting the genetic basis of complex traits in soybean ( ).)\n",
      "Sentence(Document 28152098,0,Fertilization sensitivity to heat in rice is a major issue within climate change scenarios in the tropics.)\n",
      "Sentence(Document 28152102,0,Fasciolosis an economically important global disease of ruminants in the temperate and tropical regions, caused by   and  .)\n",
      "Sentence(Document 28152104,0,Recent studies indicate that glutamatergic signaling involves, and is regulated by, thiol modifying and redox-active compounds.)\n",
      "Sentence(Document 28152107,0,Mesenchymal stem/stromal cells (MSCs) exhibit undesired phenotypic changes during   expansion, limiting production of the large quantities of high quality primary MSCs needed for both basic research and cell therapies.)\n",
      "Sentence(Document 28152423,0,Patients with Barrett's esophagus (BO) are at increased risk of developing esophageal adenocarcinoma (EAC).)\n",
      "Sentence(Document 28153026,0,Acute myeloid leukemia (AML) is the most common type of acute leukemia in adults.)\n",
      "Sentence(Document 28153029,0,Angiogenesis is a critical process in the progression of advanced renal cell carcinoma.)\n",
      "Sentence(Document 28153030,0,Methylation of N  adenosine (m A) is known to be important for diverse biological processes including gene expression control, translation of protein, and messenger RNA (mRNA) splicing.)\n",
      "Sentence(Document 28153044,0,This editorial highlights some of the advances that occurred in relation to brain barriers and brain fluid research in 2016.)\n",
      "Sentence(Document 28153046,0,Mitochondria play a key role in common neurodegenerative diseases and contain their own genome: mtDNA.)\n",
      "Sentence(Document 28154736,0,Cell therapy has the potential to improve healing of ischemic heart, repopulate injured myocardium and restore cardiac function.)\n",
      "Sentence(Document 28155064,0,Central nervous system (CNS)-hemophagocytic lymphohistiocytosis (HLH) is not a disease in itself, but it is part of a systemic immune response.)\n",
      "Sentence(Document 28155199,0,As yeast is commonly used for RNA production, it is industrially important to breed strains with high RNA contents.)\n",
      "Sentence(Document 28155864,0,Impairments in working memory are among the most prevalent features of HIV-associated neurocognitive disorders (HAND), yet their origins are unknown, with some studies arguing that encoding operations are disturbed and others supporting deficits in memory maintenance.)\n",
      "Sentence(Document 28155865,0,Mathematics ability is a complex cognitive trait with polygenic heritability.)\n",
      "Sentence(Document 28155867,0,Activation of the kynurenine pathway (KP) of tryptophan metabolism results from chronic inflammation and is known to exacerbate progression of neurodegenerative disease.)\n",
      "Sentence(Document 28155868,0,Reprogramming of somatic cells to induced pluripotent stem cells (iPSCs) holds enormous promise for regenerative medicine.)\n",
      "Sentence(Document 28155872,0,In neuropathology research, induced pluripotent stem cell (iPSC)-derived neurons are considered a tool closely resembling the patient brain.)\n",
      "Sentence(Document 28155873,0,Prognostic relevant pathways of leukocyte involvement in human myocardial ischemic-reperfusion injury are largely unknown.)\n",
      "Sentence(Document 28155877,0,Most evolutionary new centromeres (ENC) are composed of large arrays of satellite DNA and surrounded by segmental duplications.)\n",
      "Sentence(Document 28155881,0,Dormant blastocysts during delayed implantation undergo autophagic activation, which is an adaptive response to prolonged survival in utero during less favorable environment.)\n",
      "Sentence(Document 28155885,0,Chromosome rearrangement is clinically and physiologically important because it can produce oncogenic fusion genes.)\n",
      "Sentence(Document 28155887,0,The influence of parasite genetic factors on immune responses and development of severe pathology of malaria is largely unknown.)\n",
      "Sentence(Document 28155888,0,One of the latest developments in next generation sequencing is the Oxford Nanopore Technologies’ (ONT) MinION nanopore sequencer.)\n",
      "Sentence(Document 28155894,0,Gold nanorods are effective photothermal agents in diagnosis and treatment of cancer due to their specific near-infrared laser absorption.)\n",
      "Sentence(Document 28155897,0,Facial attractiveness has been suggested to provide signals of biological quality, particularly health, in humans.)\n",
      "Sentence(Document 28155899,0,Multiple sclerosis is a demyelinating disease affecting the central nervous system.)\n",
      "Sentence(Document 28155908,0,Cancer complexome comprises a heterogeneous and multifactorial milieu that varies in cytology, physiology, signaling mechanisms and response to therapy.)\n",
      "Sentence(Document 28155914,0,is a spore forming bacterium and the leading cause of colitis and antibiotic associated diarrhoea in the developed world.)\n",
      "Sentence(Document 28155915,0,Studying host parasite interactions and their implications for evolution and ecology recently received increasing attention, particularly with regard to host physiology and immunity.)\n",
      "Sentence(Document 28155918,0,The alarming increase of pathogenic bacteria that are resistant to multiple antibiotics is now recognized as a major health issue fuelling demand for new drugs.)\n",
      "Sentence(Document 28155921,0,Efficient generation of plants carrying mutations in multiple genes remains a challenge.)\n",
      "Sentence(Document 28155922,0,Chronic manganese (Mn) exposure is associated with neuromotor and neurocognitive deficits, but the exact mechanism of Mn neurotoxicity is still unclear.)\n",
      "Sentence(Document 28157180,0,Mequindox (MEQ) is a synthetic antimicrobial agent of quinoxaline-1,4-dioxide group (QdNOs).)\n",
      "Sentence(Document 28157181,0,The polymeric structure of secretory IgM allows efficient antigen binding and complement fixation.)\n",
      "Sentence(Document 28157191,0,Chronic kidney disease (CKD) poses a serious threat to the quality of human life and health with an increasing incidence worldwide.)\n",
      "Sentence(Document 28157193,0,Understanding the diversification of polyploid crops in the circum-Mediterranean region is a challenging issue in evolutionary biology.)\n",
      "Sentence(Document 28157196,0,Dendritic cells (DCs) play a pivotal role in the host response to implanted biomaterials.)\n",
      "Sentence(Document 28157198,0,Patients with neuromyelitis optica (NMO) have shown structural and functional impairments in the visual cortex.)\n",
      "Sentence(Document 28157201,0,Molecular mechanisms regulating liver repair following cholestatic injury remain largely unknown.)\n",
      "Sentence(Document 28157203,0,Idiopathic Pulmonary Fibrosis (IPF) is a progressive, irreversible lung disease with complex pathophysiology.)\n",
      "Sentence(Document 28157205,0,Epithelial cell adhesion molecule (EpCAM) was reported to be cleaved into extracellular domain of EpCAM (EpEX) and intracellular domain of EpCAM (EpICD).)\n",
      "Sentence(Document 28157212,0,Human pluripotent stem cells harbor hope in regenerative medicine, but have limited application in treating clinical diseases due to teratoma formation.)\n",
      "Sentence(Document 28157220,0,Single-nucleotide polymorphisms (SNPs) in cytokine genes can affect gene expression and thereby modulate inflammation and carcinogenesis.)\n",
      "Sentence(Document 28157227,0,Hypertension, diabetes and obesity are cardiovascular risk factors closely associated to the development of renal and cardiovascular target organ damage.)\n",
      "Sentence(Document 28157235,0,This study clarified the role of Cygb, the fourth globin in mammals originally discovered in rat hepatic stellate cells (HSCs), in cholestatic liver disease.)\n",
      "Sentence(Document 28157665,0,We recently reported that knockdown of delta-5-desaturase (a key enzyme that converts dihomo-γ-linolenic acid, DGLA, to the downstream ω-6 arachidonic acid) promotes formation of an anti-cancer byproduct 8-hydroxyoctanoic acid from cyclooxygenase (COX)-catalyzed DGLA peroxidation.)\n",
      "Sentence(Document 28158191,0,ATP6V1H is a component of a large protein complex with vacuolar ATPase (V-ATPase) activity.)\n",
      "Sentence(Document 28158196,0,Mitochondrial dysfunction contributes to myriad monogenic and complex pathologies.)\n",
      "Sentence(Document 28158203,0,Silymarin (SM), and its flavonolignan components, alter cellular metabolism and inhibit inflammatory status in human liver and T cell lines.)\n",
      "Sentence(Document 28158217,0,3,4-dihydroxyphenylacetate (DHPA) dioxygenase (DHPAO) from   (PaDHPAO) was overexpressed in   and purified to homogeneity.)\n",
      "Sentence(Document 28158221,0,Increased glycemic exposure, even below the diagnostic criteria for diabetes mellitus, is crucial in the pathogenesis of diabetic microvascular complications represented by microalbuminuria.)\n",
      "Sentence(Document 28158223,0,Fibroblast activation protein alpha (FAP) is a unique dual peptidase of the S9B serine protease family, being capable of both dipeptidyl peptidase and endopeptidase activities.)\n",
      "Sentence(Document 28158224,0,Immunochromatography (IC) is widely used to detect target molecules in biological fluids.)\n",
      "Sentence(Document 28158230,0,Due to controversial evidence in the literature pertaining to the activity of plasminogen activator inhibitor-1 in platelets, we examined the effects of residual platelets present in plasma (a potential pre-analytical variable) on various plasminogen activator inhibitor-1 and plasminogen activator inhibitor-1-related assays.)\n",
      "Sentence(Document 28158235,0,The effects of a computer-aided diagnosis (CAD) system based on quantitative intensity features with magnetic resonance (MR) imaging (MRI) were evaluated by examining radiologists' performance in grading gliomas.)\n",
      "Sentence(Document 28158238,0,Transcriptome sequencing could facilitate discovery of sex-biased genes, biological pathways and molecular markers, which could help clarify the molecular mechanism of sex determination and sexual dimorphism, and assist with selective breeding in aquaculture.)\n",
      "Sentence(Document 28158239,0,This study tested the psychological benefits of a 14-day preregistered clinical intervention to increase fruit and vegetable (FV) consumption in 171 low-FV-consuming young adults (67% female, aged 18–25).)\n",
      "Sentence(Document 28158247,0,Dexmedetomidine (DEX) is a highly selective agonist of α2-receptors with sedative, anxiolytic, and analgesic properties.)\n",
      "Sentence(Document 28158250,0,Cellular senescence is classified into two groups: replicative and premature senescence.)\n",
      "Sentence(Document 28158253,0,Recently, we investigated the effect of the wheat 90K single nucleotide polymorphic (SNP) array and three gene-specific ( ,   and  ) markers on quantitative trait loci (QTL) detection in a recombinant inbred lines (RILs) population derived from a cross between two spring wheat (  L.) cultivars, ‘Attila’ and ‘CDC Go’, and evaluated for eight agronomic traits at three environments under organic management.)\n",
      "Sentence(Document 28158262,0,Severe xerostomia (dry mouth) compromises the quality of life in patients with Sjögren’s syndrome or radiation therapy for head and neck cancer.)\n",
      "Sentence(Document 28158269,0,Opioids are increasingly used for treatment of chronic pain.)\n",
      "Sentence(Document 28158270,0,In female mice, the experience of being shipped from the breeder facility or a single injection of the bacterial endotoxin, lipopolysaccharide (LPS), during pubertal development alters the behavioral response to estradiol in adulthood as demonstrated by perturbations of estradiol’s effects on sexual behavior, cognitive function, as well as its anxiolytic and anti-depressive properties.)\n",
      "Sentence(Document 28158274,0,In this study, we investigated the effects of peritoneal dialysis on hemorheological and hematological parameters and their relations with oxidant and antioxidant status of uremic patients.)\n",
      "Sentence(Document 28158285,0,Spatial memory, among many other brain processes, shows hemispheric lateralization.)\n",
      "Sentence(Document 28158287,0,Autophagy plays a role in deciding the fate of cells by inducing either survival or death.)\n",
      "Sentence(Document 28158288,0,Wnt signaling pathways are essential for bone formation.)\n",
      "Sentence(Document 28158293,0,Phosphorylated H2AX (γ-H2AX) is a sensitive marker for DNA double-strand breaks (DSBs), but the variability of H2AX expression in different cell and tissue types makes it difficult to interpret the meaning of the γ-H2AX level.)\n",
      "Sentence(Document 28158294,0,Cutaneous melanoma is a malignant tumor of skin melanocytes that are pigment-producing cells located in the basal layer (stratum basale) of epidermis.)\n",
      "Sentence(Document 28158308,0,Failure in cancer drug development exacts heavy burdens on patients and research systems.)\n",
      "Sentence(Document 28158312,0,Elevated serum haptoglobin (Hp) is identified as a prognostic marker in multiple types of solid tumors, which is correlated with poor prognosis.)\n",
      "Sentence(Document 28158315,0,Development, tissue homeostasis and tumor suppression depend critically on the correct regulation of cell division.)\n",
      "Sentence(Document 28158319,0,Methylation is an important issue in gene expression regulation and also in the fields of genetics and reproduction.)\n",
      "Sentence(Document 28160744,0,Mitochondria have been in the focus of oxidative stress and aging research for decades due to their permanent production of ROS during the oxidative phosphorylation.)\n",
      "Sentence(Document 28161563,0,Companion diagnostics rely on genomic testing of molecular alterations to enable effective cancer treatment.)\n",
      "Sentence(Document 28162092,0,Leprosy is a chronic infectious disease caused by  .)\n",
      "Sentence(Document 28163802,0,Infection and chronic inflammation have been recognized as important factors for carcinogenesis.)\n",
      "Sentence(Document 28163803,0,Breast cancer is one of the most commonly diagnosed female cancers and a leading cause of cancer-related death in women.)\n",
      "Sentence(Document 28163825,0,The genomes of four strains (MB11, MB14, MB30, and MB66) of the species   biovar equi were sequenced on the Ion Torrent PGM platform, completely assembled, and their gene content and structure were analyzed.)\n",
      "Sentence(Document 28163826,0,We report here the draft genome sequences of eight bacterial strains of the genera  ,   and  .)\n",
      "Sentence(Document 28163828,0,The article provides an overview of the genomic features of   strain 3872.)\n",
      "Sentence(Document 28163831,0,Statins have become a cornerstone of risk modification for ischaemic heart disease patients.)\n",
      "Sentence(Document 28163832,0,Vitamin D deficiency is a prevalent condition, cutting across all ethnicities and among all age groups, and occurring in about 30%-50% of the population.)\n",
      "Sentence(Document 28163911,0,Adult muscle stem cells, originally called satellite cells, are essential for muscle repair and regeneration throughout life.)\n",
      "Sentence(Document 28163914,0,Noroviruses are the leading cause of acute gastroenteritis around the world.)\n",
      "Sentence(Document 28163952,0,Cre/loxP technology has been widely used to study cell type-specific functions of genes.)\n",
      "Sentence(Document 28164041,0,Mitochondrial DNA (mtDNA) has been studied intensely for “its own” merit.)\n",
      "Sentence(Document 28164994,0,Serum bilirubin is a potent endogenous antioxidant and has been identified as cardiovascular risk in cohort studies, while the relation to type 2 diabetes (T2D) in the elderly remains unclear.)\n",
      "Sentence(Document 28164997,0,Elite parental lines are of great significance to crop breeding.)\n",
      "Sentence(Document 28164999,0,The accurate determination of cellular forces using Traction Force Microscopy at increasingly small focal attachments to the extracellular environment presents an important yet substantial technical challenge.)\n",
      "Sentence(Document 28165002,0,The present study was performed to evaluate the effects of CO − or HCl-induced seawater acidification (pH 7.7 or 7.1; control: pH 8.1) on haemocytes of  , and the changes in the structure and immune function were investigated during a 21-day experiment.)\n",
      "Sentence(Document 28165009,0,Patients with stress urinary incontinence mainly suffer from malfunction of the urethra closure mechanism.)\n",
      "Sentence(Document 28165010,0,Animals have evolved limb proportions adapted to different environments, but it is not yet clear to what extent these proportions are directly influenced by the environment during prenatal development.)\n",
      "Sentence(Document 28165019,0,Diverse fungal endophytes are rich fungal resources for the production of an enormous quantity of natural products.)\n",
      "Sentence(Document 28165022,0,The ATP-binding cassette sub-family G member 1 (ABCG1) exports cellular cholesterol to high-density lipoproteins (HDL).)\n",
      "Sentence(Document 28165027,0,Specific factors from the corneal epithelium underlying the stimulation of stromal fibrosis and myofibroblast formation in corneal wound healing have not been fully elucidated.)\n",
      "Sentence(Document 28165029,0,With the rapid development of high-throughput quantitative proteomic and transcriptomic approaches, the molecular mechanisms of cancers have been comprehensively explored.)\n",
      "Sentence(Document 28165031,0,Representative biomarkers (e.g.,  -alkanes), diversity and microbial community in the aquifers contaminated by high concentration of arsenic (As) in different sediment depth (0–30 m) in Jianghan Plain, Hubei, China, were analyzed to investigate the potential mechanism of As enrichment in groundwater.)\n",
      "Sentence(Document 28165032,0,The prognosis of patients with gastric cancer (GC) with hematogenous metastasis is dismal.)\n",
      "Sentence(Document 28165033,0,A major obstacle to therapy in intensive care units is sepsis caused by severe infection.)\n",
      "Sentence(Document 28165036,0,The simultaneous increases in blood lactic acid and erythrocytes after intense exercise could suggest a link between lactate and the erythropoiesis.)\n",
      "Sentence(Document 28165045,0,The endolymphatic sac (ES) is a cystic structure of the inner ear connected to the cochlea and vestibule, which plays a role in regulating ion homeostasis in inner ear fluid.)\n",
      "Sentence(Document 28165046,0,Until now, the potential of NGS for the construction of barcode libraries or integrative taxonomy has been seldom realised.)\n",
      "Sentence(Document 28165047,0,Mortalin/mtHsp70 is a member of Hsp70 family of proteins.)\n",
      "Sentence(Document 28165048,0,Human endogenous retroviruses (HERVs), which make up approximately 8% of the human genome, are overexpressed in some breast cancer cells and tissues but without regard to cancer subtype.)\n",
      "Sentence(Document 28165054,0,Chronic graft-versus-host disease (cGVHD) is a notorious complication of allogeneic hematopoietic stem cell transplantation and causes disabling systemic inflammation and fibrosis.)\n",
      "Sentence(Document 28165055,0,Human pluripotent stem cells (hPSCs) are adhesion-dependent cells that require cultivation in colonies to maintain growth and pluripotency.)\n",
      "Sentence(Document 28165057,0,Thrombosis and stroke are major causes of disability and death worldwide.)\n",
      "Sentence(Document 28165060,0,Sampling various compartments within the lower airways to examine human bronchial epithelial cells (HBEC) is essential for understanding numerous lung diseases.)\n",
      "Sentence(Document 28165063,0,Chronic graft-versus-host disease (cGVHD) is a major complication of hematopoietic stem cell transplantation.)\n",
      "Sentence(Document 28165064,0,Prostacyclin, also termed as prostaglandin I  (PGI ), evokes contraction in vessels with limited expression of the prostacyclin receptor.)\n",
      "Sentence(Document 28165066,0,Multidrug resistance (MDR) correlates with treatment failure and poor prognosis among breast cancer patients.)\n",
      "Sentence(Document 28165067,0,There is still an ongoing demand for a simple broad-spectrum molecular diagnostic assay for pathogenic bacteria.)\n",
      "Sentence(Document 28165459,0,Colorectal cancer is one of the most common causes of cancer-related death in humans.)\n",
      "Sentence(Document 28165465,0,Apical dendrites of Betz cells are important sites for the integration of cortical input, however their health has not been fully assessed in ALS patients.)\n",
      "Sentence(Document 28165482,0,The role for c-Jun N-terminal Kinase (JNK) in the control of feeding and energy balance is not well understood.)\n",
      "Sentence(Document 28165486,0,Altered DNA methylation in addiction-related genes may modify the susceptibility to alcohol or drug dependence (AD or ND).)\n",
      "Sentence(Document 28165488,0,To date, there is no   drug delivery method available in the clinic to prevent restenotic failure of open vascular reconstructions.)\n",
      "Sentence(Document 28165490,0,Isolating actively proliferating cardioblasts is the first crucial step for cardiac regeneration through cell implantation.)\n",
      "Sentence(Document 28165496,0,Microinjection of small noncoding RNAs in one-cell embryos was reported in several instances to result in transcriptional activation of target genes.)\n",
      "Sentence(Document 28165497,0,Wnt7a is a protein that plays a critical role in skeletal development.)\n",
      "Sentence(Document 28165502,0,Genetic models for polyploid crop adaptation provide important information relevant for future breeding prospects.)\n",
      "Sentence(Document 28165503,0,Fcγ receptors (FcγRs) for IgG couple innate and adaptive immunity through activation of effector cells by antigen-antibody complexes.)\n",
      "Sentence(Document 28165508,0,Wet meadows are one of the most important ecological components in floodplain, and are among the most dynamic ecosystems.)\n",
      "Sentence(Document 28166809,0,Atherosclerosis is considered as an inflammatory and chronic disorder with an important immunologic component, which underlies the majority of cardiovascular diseases; condition that belongs to a group of noncommunicable diseases that to date and despite of prevention and treatment approaches, they remain as the main cause of death worldwide, with 17.5 million of deaths every year.)\n",
      "Sentence(Document 28166810,0,Enteriditis and   Typhimurium are commonly isolated during egg-related outbreaks of salmonellosis and represent a significant international public health issue.)\n",
      "Sentence(Document 28166822,0,is an important pathogen that causes septicemia anserum exsudativa in ducks.)\n",
      "Sentence(Document 28166830,0,We generated and characterized site-directed HA mutants on the genetic backbone of H5N1 clade 2.3.4 virus preferentially binding to α-2,3 receptors in order to identify the key determinants in hemagglutinin rendering the dual affinity to both α-2,3 (avian-type) and α-2,6 (human-type) linked sialic acid receptors of the current clade 2.3.4.4 H5NX subtype avian influenza reassortants.)\n",
      "Sentence(Document 28166838,0,Environmental parasitology deals with the interactions between parasites and pollutants in the environment.)\n",
      "Sentence(Document 28167241,0,The effect of antiangiogenic agents targeting the vascular endothelial growth factor A (VEGF-A) pathway has been reported to vary substantially in preclinical studies.)\n",
      "Sentence(Document 28167242,0,Epigenetic changes, including CpG island hypermethylation, occur frequently in bladder cancer (BC) and may be exploited for BC detection and distinction between high-grade (HG) and low-grade (LG) disease.)\n",
      "Sentence(Document 28167243,0,To investigate the prognostic value of preoperative intratumoral  F-FDG uptake heterogeneity (IFH) derived from positron emission tomography (PET)/computed tomography (CT) in patients with endometrioid endometrial cancer.)\n",
      "Sentence(Document 28167297,0,Medulloblastoma is the most common malignant brain tumor in children.)\n",
      "Sentence(Document 28167333,0,The objective of the present study is to characterize the metabolic and antioxidant profile of white muscle of shi drum in two sites of the body, anterior dorsal (AM) and posterior dorsal (PM) portions.)\n",
      "Sentence(Document 28167817,0,The human blood proteome is frequently assessed by protein abundance profiling using a combination of liquid chromatography and tandem mass spectrometry (LC-MS/MS).)\n",
      "Sentence(Document 28167820,0,Endothelial mesenchymal transition (EndMT) plays a critical role in the pathogenesis and progression of interstitial and perivascular fibrosis after acute myocardial infarction (AMI).)\n",
      "Sentence(Document 28167821,0,The current difficulty facing risk evaluations of  ) crops on nontarget arthropods (NTAs) is the lack of criteria for determining what represents unacceptable risk.)\n",
      "Sentence(Document 28167824,0,MYB transcription factors of the R2R3-MYB family have been shown to play important roles in many plant processes.)\n",
      "Sentence(Document 28167839,0,Niemann-Pick disease type C (NPC) is a rare neurovisceral disease caused mainly by mutations in the   gene.)\n",
      "Sentence(Document 28167887,0,A survey was conducted to determine the status of   (LTSV) in three high-yielding alfalfa regions in central Saudi Arabia (Riyadh, Qassim, and Hail) during 2014.)\n",
      "Sentence(Document 28167891,0,One of the major problems in strawberry production is difficulty in diagnosis of anthracnose caused by   or   in latent infection stage.)\n",
      "Sentence(Document 28168038,0,Echocardiography is an invaluable tool in the management of patients with extracorporeal cardiopulmonary resuscitation (ECPR) and subsequent extracorporeal membrane oxygenation (ECMO) support and weaning.)\n",
      "Sentence(Document 28168040,0,Sepsis remains a major clinical problem with high morbidity and mortality.)\n",
      "Sentence(Document 28168106,0,A metabolomic study has been performed to identify sensitive and robust biomarkers of malnutrition in farmed fish, using gilthead sea bream ( ) as a model.)\n",
      "Sentence(Document 28168117,0,Crabs of the genus   have the remarkable habit of holding a sea anemone in each of their claws.)\n",
      "Sentence(Document 28168168,0,Hand, foot and mouth disease (HFMD) is a highly contagious viral infection affecting young children during the spring to fall seasons.)\n",
      "Sentence(Document 28168217,0,Palladium nanoparticles develop a structure composed of core, shell, and skin, each having its unique H loading and properties.)\n",
      "Sentence(Document 28168949,0,Voltage- and calcium-dependent BK channels regulate calcium-dependent cellular events such as neurotransmitter release by limiting calcium influx.)\n",
      "Sentence(Document 28169277,0,EPH signaling deregulation has been shown to be important for colorectal carcinogenesis and genome-wide sequencing efforts have identified   as one of the most frequently mutated genes in these tumors.)\n",
      "Sentence(Document 28169278,0,Mesenchymal stem cells (MSC) are promising therapeutics for critical limb ischemia (CLI).)\n",
      "Sentence(Document 28169282,0,, the rat lungworm, is an important aetiologic agent of eosinophilic meningitis and meningoencephalitis in humans.)\n",
      "Sentence(Document 28169290,0,Cellulose is the major component of cell wall materials.)\n",
      "Sentence(Document 28169298,0,Delta neutrophil index (DNI) is the fraction of circulating immature granulocytes, which reflects severe bacterial infections and septic condition but has not been studied in urinary tract infection (UTI).)\n",
      "Sentence(Document 28169308,0,(FOS like antigen 1) is one kind of proto-oncogene, and may play a vital role in carcinogenesis of multiple cancers.)\n",
      "Sentence(Document 28169310,0,Cognitive impairment is one of the most common problem saffecting older adults.)\n",
      "Sentence(Document 28169314,0,Defective autophagy and deranged metabolic pathways are common in cancer; pharmacologic targeting of these two pathways could provide a viable therapeutic option.)\n",
      "Sentence(Document 28169321,0,Burial conditions play a crucial role in archaeological heritage preservation.)\n",
      "Sentence(Document 28169322,0,The microenvironment plays a pivotal role for cell survival and functional regulation, and directs the cell fate determination.)\n",
      "Sentence(Document 28169323,0,Social interaction inherently involves the subjective evaluation of cues salient to social inclusion and exclusion.)\n",
      "Sentence(Document 28169324,0,We investigate the metabolomic profile of reactive persulfides and polysulfides in the aqueous and vitreous humors.)\n",
      "Sentence(Document 28169325,0,Direct Electron Transfer biosensors, facilitating direct communication between the biomolecule of interest and electrode surface, are preferable compared to enzymatic and mediator based sensors.)\n",
      "Sentence(Document 28169328,0,Single-marker genome-wide association study (GWAS) is a convenient strategy of genetic analysis that has been successful in detecting the association of a number of single-nucleotide polymorphisms (SNPs) with quantitative traits.)\n",
      "Sentence(Document 28169332,0,We explored the role of secreted frizzled-related protein 1 (sFRP1) overexpression in gastric cancer and its relationship with radiological findings from dual-energy spectral CT(DEsCT) and positron emission tomography/computed tomography (PET/CT).)\n",
      "Sentence(Document 28169337,0,Lantibiotics are ribosomally synthesized antimicrobial peptides secreted by mainly Gram-positive bacteria.)\n",
      "Sentence(Document 28169341,0,We aimed to quantitatively assess intracranial pressure (ICP) using optic nerve sheath diameter (ONSD) measurements.)\n",
      "Sentence(Document 28169345,0,Lung cancer configures as one of the deadliest types of cancer.)\n",
      "Sentence(Document 28169349,0,Resective neurosurgery carries the risk of postoperative cognitive deterioration.)\n",
      "Sentence(Document 28169351,0,Photodynamic therapy (PDT) is a clinically established and highly evolving treatment modality for cancer.)\n",
      "Sentence(Document 28169354,0,Spinal cord injuries (SCI) often lead to persistent neurological dysfunction due to failure in axon regeneration.)\n",
      "Sentence(Document 28169357,0,An increasing amount of evidence has highlighted the critical roles that copy number variants play in cancer progression.)\n",
      "Sentence(Document 28169360,0,Discs Large Homolog 5 (DLG5) plays an important role in the maintenance of epithelial cell polarity.)\n",
      "Sentence(Document 28169364,0,Nodule development directly affects nitrogen fixation efficiency during soybean growth.)\n",
      "Sentence(Document 28169368,0,Auxin resistant 1/like aux1 ( / ), pin-formed ( ) and ATP binding cassette subfamily B ( / / ) are three families of auxin transport genes.)\n",
      "Sentence(Document 28171818,0,is an intestinal parasite that causes giardiasis, a widespread human gastrointestinal disease.)\n",
      "Sentence(Document 28173776,0,The “TOPical Imiquimod treatment of high-grade Cervical intraepithelial neoplasia” (TOPIC) trial was stopped preliminary, due to lagging inclusions.)\n",
      "Sentence(Document 28173810,0,Cardiovascular disease (CVD) is the leading cause of death worldwide, and so the search for innovative and accurate biomarkers for guiding prevention, diagnosis, and treatment is a valuable clinical and economic endeavor.)\n",
      "Sentence(Document 28173864,0,Adverse cardiac remodeling leads to impaired ventricular function and heart failure, remaining a major cause of mortality and morbidity in patients with acute myocardial infarction.)\n",
      "Sentence(Document 28174307,0,Antimicrobial resistance presents one of the most significant threats to human health, with the emergence of totally drug-resistant organisms.)\n",
      "Sentence(Document 28174310,0,Members of the genus   are the most prevalent cause of infectious diseases.)\n",
      "Sentence(Document 28174312,0,Whole-genome sequencing (WGS) of microbial pathogens from clinical samples is a highly sensitive tool used to gain a deeper understanding of the biology, epidemiology, and drug resistance mechanisms of many infections.)\n",
      "Sentence(Document 28174313,0,Persisters are dormant variants that form a subpopulation of cells tolerant to antibiotics.)\n",
      "Sentence(Document 28174315,0,Invasive aspergillosis (IA), caused by the filamentous fungal pathogen  , is a major cause of death among immunocompromised patients.)\n",
      "Sentence(Document 28174512,0,Life expectancy and the number of elderly people are progressively increasing around the world.)\n",
      "Sentence(Document 28174598,0,Almost one fifth of human cancers worldwide are associated with infectious agents, either bacteria or viruses, and this makes the possible association between infections and tumors a relevant research issue.)\n",
      "Sentence(Document 28174618,0,Rats are a standard experimental animal for cancer bioassay and toxicological research for chemicals.)\n",
      "Sentence(Document 28176788,0,STING (stimulator of interferon genes) has recently been found to play an important role in host defenses against virus and intracellular bacteria via the regulation of type-I IFN signaling and innate immunity.)\n",
      "Sentence(Document 28176796,0,The aim of this study was the evaluation of 15 days dietary regimen of depurinized (DP) milk (obtained using our patented technological procedures) or 1.5% fat UHT milk instead of standard chow diet, on rat thymus and bone marrow MyD88/Akt/p38, NF-κB, caspase-1 and endonuclease pathways, in relation to peripheral blood cell composition.)\n",
      "Sentence(Document 28176803,0,Gnathodiaphyseal dysplasia (GDD; MIM#166260) is an autosomal dominant syndrome with characteristic cemento-osseous lesions of jawbones, bone fragility, and diaphyseal sclerosis of tubular bones.)\n",
      "Sentence(Document 28176805,0,We investigated the appearance and progression of disease-relevant signs in the B6.)\n",
      "Sentence(Document 28176806,0,(garden asparagus) is a dioecious perennial crop.)\n",
      "Sentence(Document 28176810,0,The black rhinoceros is again on the verge of extinction due to unsustainable poaching in its native range.)\n",
      "Sentence(Document 28176811,0,Although the existence of cancer stem cells in intestine tumors has been suggested, direct evidence has not been yet provided.)\n",
      "Sentence(Document 28176815,0,The forced oscillation technique provides information concerning respiratory impedance, which comprises resistance and reactance of the respiratory system.)\n",
      "Sentence(Document 28176818,0,Acute myeloid leukemia (AML) continues to be a challenging disease to treat, thus new treatment strategies are needed.)\n",
      "Sentence(Document 28176819,0,Alzheimer’s disease is the most common form of dementia in the western world, however there is no cure available for this devastating neurodegenerative disorder.)\n",
      "Sentence(Document 28176820,0,Although chronic kidney disease (CKD) is associated with functional decline, whether proteinuria alone is associated with functional statuses over the course of acute illnesses independent of CKD is unclear.)\n",
      "Sentence(Document 28176823,0,Neurovascular coupling describes the link between neuronal activity and cerebral blood flow.)\n",
      "Sentence(Document 28176824,0,Skeletal muscle plays important roles in whole-body energy homeostasis.)\n",
      "Sentence(Document 28176826,0,Only a limited number of human cells can fuse to form a multinucleated syncytium.)\n",
      "Sentence(Document 28176831,0,Early assessment of necrotising soft tissue infection (NSTI) is challenging.)\n",
      "Sentence(Document 28176833,0,Infiltrating macrophages have been proven as a pivotal pathological inflammatory cell subset in coxsackievirus B3 (CVB3) induced viral myocarditis.)\n",
      "Sentence(Document 28176838,0,N,N-Dimethylacetamide (DMA) is a water-miscible solvent, FDA approved as excipient and therefore widely used as drug-delivery vehicle.)\n",
      "Sentence(Document 28176844,0,Previously genome-wide association methods in patients with classic bladder exstrophy (CBE) found association with  , a master control gene expressed in pericloacal mesenchyme.)\n",
      "Sentence(Document 28176845,0,During development, dopaminergic neurons born in the substantia nigra extend their axons toward the striatum.)\n",
      "Sentence(Document 28176846,0,Microarray data is used to screen the genes of oral squamous cell carcinoma (OSCC).)\n",
      "Sentence(Document 28176852,0,The tumour microenvironment is critical for various characteristics of tumour malignancies.)\n",
      "Sentence(Document 28176853,0,Tumor associated macrophages (TAMs) are associated with tumor growth and metastasis.)\n",
      "Sentence(Document 28176855,0,Although there is a growing amount of evidence that arbuscular mycorrhizal fungi (AMF) influence the decomposition process, the extent of their involvement remains unclear.)\n",
      "Sentence(Document 28176861,0,Moyamoya disease (MMD) is an idiopathic disease associated with recurrent stroke.)\n",
      "Sentence(Document 28176867,0,Macrophages play an essential role in the early immune response to   and are the cell type preferentially infected  .)\n",
      "Sentence(Document 28176872,0,Culture conditions play an important role in regulating the genomic integrity of Human Pluripotent Stem Cells (HPSCs).)\n",
      "Sentence(Document 28176874,0,The activation of CXCL12/CXCR4 axis is associated with potential progression of cancer, such as invasion, metastasis and chemoresistance.)\n",
      "Sentence(Document 28176879,0,Emerging evidence has shown that adding poly(ADP-ribose) polymerase (PARP) inhibitors to chemotherapy regimens is superior to the control regimens alone in BRCA1-mutated triple-negative breast cancer (TNBC) patients, but their underlying mechanisms have not been fully elucidated.)\n",
      "Sentence(Document 28176880,0,Clustered regulatory interspaced short palindromic repeats (CRISPR)/CRISPR-associated protein 9 (Cas9) technology is a powerful tool to manipulate the genome with extraordinary simplicity and speed.)\n",
      "Sentence(Document 28176881,0,Organ interactions resulting from drug, metabolite or xenobiotic transport between organs are key components of human metabolism that impact therapeutic action and toxic side effects.)\n",
      "Sentence(Document 28176884,0,We assessed the impact of including peritumoral edema in radiotherapy volumes on recurrence patterns among glioblastoma multiforme (GBM) patients treated with standard chemoradiotherapy (CRT).)\n",
      "Sentence(Document 28177042,0,Arthropods harbor a diverse array of microbes that profoundly influence many aspects of host biology, including vector competence.)\n",
      "Sentence(Document 28177321,0,The crystal structure of PD1 from the   surface fibril was determined at a resolution of 3.3 Å, revealing a novel domain arrangement.)\n",
      "Sentence(Document 28178408,0,Intracerebral hemorrhage (ICH) is the second most common subtype of stroke and a critical disease usually leading to severe disability or death.)\n",
      "Sentence(Document 28178410,0,To date, reperfusion with tissue plasminogen activator (tPA) remains the gold standard treatment for ischemic stroke.)\n",
      "Sentence(Document 28178431,0,Neuropsychiatric involvement in systemic lupus erythematosus (NPSLE) is a complex condition that remains poorly understood, and includes heterogeneous manifestations involving both the central and peripheral nervous system, with disabling effects.)\n",
      "Sentence(Document 28178437,0,Dr Gerald Loewi was Senior Research Scientist and Consultant Pathologist at the Medical Research Council (MRC) Rheumatism Research Unit at Taplow, England and subsequently the MRC Clinical Research Centre, Harrow, England.)\n",
      "Sentence(Document 28178969,0,Neuroblastoma is an embryonic malignancy of early childhood originating from neural crest cells and showing heterogeneous biological, morphological, genetic and clinical characteristics.)\n",
      "Sentence(Document 28178974,0,About half of people who take antidepressants do not respond and many experience adverse effects.)\n",
      "Sentence(Document 28178984,0,The fecal coliform can contaminate water of human consumption causing problems to public health.)\n",
      "Sentence(Document 28179016,0,One quarter of patients suffering from acute critical illness such as severe trauma, sepsis, myocardial infarction (MI) or post cardiac arrest syndrome (PCAS) develop severe hemostatic aberrations and coagulopathy, which are associated with excess mortality.)\n",
      "Sentence(Document 28179028,0,Betanodavirus, also referred to nervous necrosis virus (NNV), is the causative agent of the fatal disease, viral nervous necrosis and has brought significant economic losses in marine and freshwater cultured fish, especially larvae and juveniles.)\n",
      "Sentence(Document 28179969,0,An 18-year-old African-American female presented with an episode of syncope.)\n",
      "Sentence(Document 28179988,0,One attractive strategy to treat cancers is to deliver an exogenous enzyme that will convert a non-toxic compound to a highly toxic derivative.)\n",
      "Sentence(Document 28180075,0,The purpose of this study was to determine whether white matter microstructure measured by diffusion magnetic resonance imaging (dMRI) provides independent information about baseline level or change in executive function (EF) or memory (MEM) in older adults with and without cognitive impairment.)\n",
      "Sentence(Document 28180106,0,Primary intrapulmonary thymoma (PIT) is a very rare lesion of uncertain pathogenesis.)\n",
      "Sentence(Document 28181483,0,The axon initial segment (AIS) is a neuronal compartment defined by ankyrin-G expression.)\n",
      "Sentence(Document 28181486,0,To clarify the relationship between aldo-keto reductase family 1 member B10 (AKR1B10) expression and early hepatocellular carcinoma (HCC) recurrence, this study detected AKR1B10 expression in tumor and adjacent non-tumor tissues from 110 patients with hepatitis B virus (HBV)-related HCC underwent liver resection and analyzed its correlations with clinicopathological characteristics and prognosis of these patients.)\n",
      "Sentence(Document 28181487,0,Myocardial ischemia reperfusion injury is a negative pathophysiological event that may result in cardiac cell apoptosis and is a result of coronary revascularization and cardiac intervention procedures.)\n",
      "Sentence(Document 28181505,0,The maintenance of T-cell homeostasis must be tightly regulated.)\n",
      "Sentence(Document 28181508,0,Performance traits are economically important and are targets for selection in breeding programs, especially in the poultry industry.)\n",
      "Sentence(Document 28181511,0,Brain Natriuretic Peptide (BNP) injections in adult “healthy” or infarcted mice led to increased number of non-myocyte cells (NMCs) expressing the nuclear transcription factor Nkx2.5.)\n",
      "Sentence(Document 28181527,0,Colorectal cancer (CRC) is the third most prevalent cancer and the third highest cancer-related mortality in the United States.)\n",
      "Sentence(Document 28181533,0,Ebola virus (EBOV) survivors are affected by a variety of serious illnesses of unknown origin for years after viral clearance from the circulation.)\n",
      "Sentence(Document 28181537,0,Traditional cultivars of rice in India exhibit tolerance to drought stress due to their inherent genetic variations.)\n",
      "Sentence(Document 28181539,0,Brown adipocytes regulate energy expenditure via mitochondrial uncoupling, which makes them attractive therapeutic targets to tackle obesity.)\n",
      "Sentence(Document 28181545,0,Studies of developmental and functional biology largely rely on conditional expression of genes in a cell type-specific manner.)\n",
      "Sentence(Document 28181546,0,The use of optical coherence tomography (OCT) to study ocular diseases associated with choroidal physiology is sharply limited by the lack of available automated segmentation tools.)\n",
      "Sentence(Document 28181547,0,Medullary thyroid cancer (MTC) can be caused by germline mutations of the   proto-oncogene or occurs as a sporadic form.)\n",
      "Sentence(Document 28181548,0,Multidrug resistance (MDR) attenuates the chemotherapy efficacy and increases the probability of cancer recurrence.)\n",
      "Sentence(Document 28181552,0,In this study, we discovered that shrimp miR-100 was up-regulated at 24 h after WSSV or   infection, confirming its participation in the innate immune system of shrimp.)\n",
      "Sentence(Document 28181555,0,Determination of biological activity of gonadotropin hormones is essential in reproductive medicine and pharmaceutical manufacturing of the hormonal preparations.)\n",
      "Sentence(Document 28181558,0,We developed an air-liquid interphase culture procedure for mammalian oviduct epithelial cells leading to the formation of functional epithelial tissues, which generate oviduct fluid surrogates.)\n",
      "Sentence(Document 28181559,0,Sirtuin1 (Sirt1) is a class III histone deacetylase that regulates a variety of physiological processes, including endothelial function.)\n",
      "Sentence(Document 28181560,0,The concentration of CO  in many aquatic systems is variable, often lower than the K  of the primary carboxylating enzyme Rubisco, and in order to photosynthesize efficiently, many algae operate a facultative CO  concentrating mechanism (CCM).)\n",
      "Sentence(Document 28181561,0,Multiple sclerosis (MS)-induced neuropathic pain deteriorates quality of life in patients but is often refractory to treatment.)\n",
      "Sentence(Document 28181564,0,and   gene fusions are important predictive biomarkers for tyrosine kinase inhibitors in lung cancer.)\n",
      "Sentence(Document 28181565,0,Many single nucleotide polymorphisms (SNPs) have been associated with lung cancer but lack confirmation and functional characterization.)\n",
      "Sentence(Document 28181567,0,The gene   encodes ribonucleic acid export 1 (RAE1), which is involved in mRNA export and is known to serve as a mitotic checkpoint regulator.)\n",
      "Sentence(Document 28181569,0,Inorganic phosphate solubilizing bacteria (iPSB) are essential to facilitate phosphorus (P) mobilization in alkaline soil, however, the phylogenetic structure of iPSB communities remains poorly characterized.)\n",
      "Sentence(Document 28181574,0,p53 is a key component of a signaling network that protects cells against various stresses.)\n",
      "Sentence(Document 28181578,0,Cancers are the major cause of death worldwide.)\n",
      "Sentence(Document 28181586,0,Hyperglycemia induced advanced glycation end products-receptor for advanced glycation end products (AGE-RAGE) activation is thought to involve in the development of cardiovascular disease in diabetics.)\n",
      "Sentence(Document 28181587,0,Genomic prediction shows promise for personalised medicine in which diagnosis and treatment are tailored to individuals based on their genetic profiles for complex diseases.)\n",
      "Sentence(Document 28181589,0,We investigated whether the developmental stage of mouse cardiac fibroblasts (CFs) influences the formation and function of engineered cardiac tissues made of mouse embryonic stem cell-derived cardiomyocytes (mESC-CMs).)\n",
      "Sentence(Document 28181591,0,Lumican, a small leucine rich proteoglycan (SLRP), is a component of extracellular matrix which also functions as a matrikine regulating multiple cell activities.)\n",
      "Sentence(Document 28181595,0,The global change in protein abundance in colorectal cancer (CRC) and its contribution to tumorigenesis have not been comprehensively analyzed.)\n",
      "Sentence(Document 28181990,0,The Irish Travellers are a population with a history of nomadism; consanguineous unions are common and they are socially isolated from the surrounding, ‘settled’ Irish people.)\n",
      "Sentence(Document 28181991,0,Dance is a universal human behaviour that is observed particularly in courtship contexts, and that provides information that could be useful to potential partners.)\n",
      "Sentence(Document 28182119,0,Scaffold supplements such as nanoparticles, components of the extracellular matrix, or growth factors have been incorporated in conventional scaffold materials to produce smart scaffolds for tissue engineering of damaged hard tissues.)\n",
      "Sentence(Document 28182122,0,Superparamagnetic iron oxide nanoparticles (SPIONs) have been used for diagnoses in biomedical applications, due to their unique properties and their apparent safety for humans.)\n",
      "Sentence(Document 28182867,0,During apoptosis, Bak and Bax undergo major conformational change and form symmetric dimers that coalesce to perforate the mitochondrial outer membrane via an unknown mechanism.)\n",
      "Sentence(Document 28182993,0,Cancer stem cells (CSCs) are considered a pivotal target for the eradication of hepatocellular carcinoma (HCC).)\n",
      "Sentence(Document 28182994,0,The ataxia telangiectasia mutated (ATM) protein kinase plays a central role in the cellular response to DNA damage.)\n",
      "Sentence(Document 28183062,0,Thioredoxins (Trxs), key components of cellular redox regulation, act by controlling the redox status of many target proteins, and have been shown to play an essential role in cell survival and growth.)\n",
      "Sentence(Document 28184152,0,The blood–brain barrier (BBB) plays a fundamental role in protecting and maintaining the homeostasis of the brain.)\n",
      "Sentence(Document 28184159,0,The aim of this study was to investigate the use of different types of microneedles (MNs) and nanocarriers for in vitro skin permeation and in vivo immunization of plasmid DNA encoding ovalbumin (pOVA).)\n",
      "Sentence(Document 28184183,0,Previous evidence showed a 75.5% best accuracy in the classification of 120 Alzheimer's disease (AD) patients with dementia and 100 matched normal elderly (Nold) subjects based on cortical source current density and linear lagged connectivity estimated by eLORETA freeware from resting state eyes-closed electroencephalographic (rsEEG) rhythms (Babiloni et al.,  ).)\n",
      "Sentence(Document 28184187,0,The axon initial segment (AIS) is a highly specialized neuronal compartment that plays a key role in neuronal development and excitability.)\n",
      "Sentence(Document 28184192,0,Research has demonstrated that short meditation training may yield higher pain tolerance in acute experimental pain.)\n",
      "Sentence(Document 28184194,0,Compared with the well documented neurophysiological findings on negative emotions, much less is known about positive emotions.)\n",
      "Sentence(Document 28184199,0,Still little is known about the role of oxidative stress (OS) in the pathogenesis of the salivary gland dysfunction in the course of insulin resistance (IR).)\n",
      "Sentence(Document 28184204,0,Several studies have identified associations between poverty and development of self-regulation during childhood, which is broadly defined as those skills involved in cognitive, emotional, and stress self-regulation.)\n",
      "Sentence(Document 28184211,0,Saccades rapidly direct the line of sight to targets of interest to make use of the high acuity foveal region of the retina.)\n",
      "Sentence(Document 28184215,0,Nanotechnology is a cutting-edge field of science with the potential to revolutionize today’s technological advances including industrial applications.)\n",
      "Sentence(Document 28184218,0,Intranasal infection with vaccine strain of Venezuelan equine encephalitis virus (TC83) caused persistent viral infection in the brains of mice without functional αβ T-cells (αβ-TCR -/-).)\n",
      "Sentence(Document 28184219,0,Bacterial surface proteins can be good vaccine candidates.)\n",
      "Sentence(Document 28184222,0,Janus kinase (JAK)–signal transducer and activator of transcription (STAT) signal transduction mediates cytokine responses.)\n",
      "Sentence(Document 28184226,0,Charasomes are convoluted plasma membrane domains in characean green algae.)\n",
      "Sentence(Document 28184228,0,Pusa Basmati 1121 (PB1121), an elite Basmati rice cultivar is vulnerable to salinity at seedling stage.)\n",
      "Sentence(Document 28184229,0,The trihelix family genes have important functions in light-relevant and other developmental processes, but their roles in response to adverse environment are largely unclear.)\n",
      "Sentence(Document 28184233,0,The cuticle is composed of cutin and cuticular wax.)\n",
      "Sentence(Document 28184260,0,Anesthesiologists frequently see asymptomatic patients with diastolic dysfunction or heart failure for various surgeries.)\n",
      "Sentence(Document 28184289,0,Hypertension, or high blood pressure, is a prevalent yet modifiable risk factor for cardiovascular disease.)\n",
      "Sentence(Document 28184290,0,Endometrial cancer is the most common gynecologic malignancy in the United States, with yearly rates continuing to increase.)\n",
      "Sentence(Document 28184292,0,Rituximab, a monoclonal antibody targeting the B cell marker CD20, was initially approved in 1997 by the United States Food and Drug Administration (FDA) for the treatment of non-Hodgkin lymphoma.)\n",
      "Sentence(Document 28184293,0,Ovarian cancer, a term that encompasses ovarian, fallopian, and peritoneal cancers, is the leading cause of gynecologic cancer mortality.)\n",
      "Sentence(Document 28184295,0,How the main components in systemic sclerosis—namely autoimmunity, vasculopathy, and fibrosis—fit together is still not sufficiently clear.)\n",
      "Sentence(Document 28184297,0,Platelet concentrates are universally prepared with a standard method and stored for 5 days at room temperature (20–24°C) in gentle agitation.)\n",
      "Sentence(Document 28184298,0,The ability of non-genotoxic agents to induce cancer has been documented and clearly requires a reassessment of testing for environmental and human safety.)\n",
      "Sentence(Document 28184299,0,The cDC1 subset of classical dendritic cells is specialized for priming CD8 T cell responses through the process of cross-presentation.)\n",
      "Sentence(Document 28184302,0,Exosomes are small vesicles secreted by most cell types including neurons that function in intercellular communication through transfer of their cargo or encapsulate and eliminate unnecessary cellular components and therefore have a broad impact on nerve development, activation and regeneration.)\n",
      "Sentence(Document 28184334,0,Many bipolar disorder patients exhibit mixed affective states, which portend a generally more severe illness course and treatment resistance.)\n",
      "Sentence(Document 28184335,0,Coronary artery disease (CAD) has been reported to be a major cause of death worldwide.)\n",
      "Sentence(Document 28184336,0,Caveolin-1 (Cav-1) is a trans-membrane protein that is a major component of the caveolae structure on the plasma membrane.)\n",
      "Sentence(Document 28184339,0,The present study was done to scrutinize the possible relation between infective genes and antimicrobial resistance in   and  .)\n",
      "Sentence(Document 28184340,0,The present study investigated the prognostic factors predicting survival of patients with sepsis and acute kidney injury (AKI) undergoing continuous renal replacement therapy (CRRT).)\n",
      "Sentence(Document 28184354,0,is a challenging pathogen due to both innate and acquired resistance to antibiotics.)\n",
      "Sentence(Document 28184367,0,Autoimmune hepatitis (AIH) is a multifactorial autoimmune disease of unknown pathogenesis, characterized by a loss of immunological tolerance against liver autoantigens resulting in the progressive destruction of the hepatic parenchyma.)\n",
      "Sentence(Document 28184370,0,Classic studies on phylotype profiling are limited to the identification of microbial constituents, where information is lacking about the molecular interaction of these bacterial communities with the host genome and the possible outcomes in host biology.)\n",
      "Sentence(Document 28186109,0,Neurotoxicity is a major side effect of platinum derivatives both during and after treatment.)\n",
      "Sentence(Document 28186125,0,To examine the responses of the secondary lepidopteran pest   to two   (Bt) corn hybrids [5422Bt1 (Event Bt11), 5422CBCL (MON810)] expressing Cry1Ab, larval bioassays with Cry1Ab toxin, corn leaves or kernels and bagging on corn plants were conducted.)\n",
      "Sentence(Document 28186128,0,In this work, a novel label-free electrochemical immunosensor was developed for the quantitative detection of alpha fetoprotein (AFP).)\n",
      "Sentence(Document 28186136,0,Recently, microRNAs (miRNAs) have been identified as key regulators of the proliferation and differentiation of mesenchymal stem cells (MSCs).)\n",
      "Sentence(Document 28186142,0,Since at least the 17  century there has been the idea that there are four simple and perceptually pure “unique” hues: red, yellow, green, and blue, and that all other hues are perceived as mixtures of these four hues.)\n",
      "Sentence(Document 28186158,0,is a hemibiotrophic pathogen and causes anthracnose on lentil.)\n",
      "Sentence(Document 28186159,0,Kampo is the general designation for traditional Japanese herbal medicines, which are recognized as official medicines and listed in the Japanese pharmacopoeia (JP).)\n",
      "Sentence(Document 28186161,0,Recent many studies indicated a novel dinucleotide variant in ss469415590 (TT vs. ΔG) of interferon-λ 4 ( ) gene strongly associated with hepatitis C virus clearance.)\n",
      "Sentence(Document 28186172,0,2,4-Dinitrobenzene sulfonic acid (DNBS)-induced colitis is an experimental model that mimics Crohn’s disease.)\n",
      "Sentence(Document 28186173,0,Visual short-term memory binding tasks are a promising early marker for Alzheimer’s disease (AD).)\n",
      "Sentence(Document 28186176,0,A novel immunomagnetic nanobeads -based lateral flow test strip was developed for the simultaneous quantitative detection of neuron specific enolase (NSE) and carcinoembryonic antigen (CEA), which are sensitive and specific in the clinical diagnosis of small cell lung cancer.)\n",
      "Sentence(Document 28186188,0,While live 3D high resolution microscopy techniques are developing rapidly, their use for biological applications is partially hampered by practical difficulties such as the lack of a versatile sample chamber.)\n",
      "Sentence(Document 28186192,0,In previous work we reported that ApoeKO mice transplanted with bone marrow cells deficient in the Transient Receptor Potential Canonical 3 (TRPC3) channel have reduced necrosis and number of apoptotic macrophages in advanced atherosclerotic plaques.)\n",
      "Sentence(Document 28186195,0,Centromeres are chromosomal domains essential for genomic stability.)\n",
      "Sentence(Document 28186197,0,Marine actinobacteria are drawing more and more attention as a promising source of new natural products.)\n",
      "Sentence(Document 28186200,0,The role of marginal populations for the long-term maintenance of species’ genetic diversity and evolutionary potential is particularly timely in view of the range shifts caused by climate change.)\n",
      "Sentence(Document 28186206,0,The major component of complex genomes is repetitive elements, which remain recalcitrant to characterization.)\n",
      "Sentence(Document 28186207,0,Protein-protein interactions play a vital role in cellular processes as exemplified by assembly of the intricate multi-enzyme cellulosome complex.)\n",
      "Sentence(Document 28186209,0,Cellular responses to hypoxia are mediated by the hypoxia-inducible factors (HIF).)\n",
      "Sentence(Document 28189050,0,The long noncoding (lnc) RNA H19 was involved in the tumorigenesis of many types of cancer.)\n",
      "Sentence(Document 28189065,0,MUC5B is glycoprotein secreted by bronchial glands.)\n",
      "Sentence(Document 28189067,0,Dysregulation of microRNAs (miRNAs) is actively involved in the pathogenesis and tumorigenicity of hepatocellular carcinoma (HCC).)\n",
      "Sentence(Document 28190997,0,The International 10/20 system is an important head-surface-based positioning system for transcranial brain mapping techniques, e.g., fNIRS and TMS.)\n",
      "Sentence(Document 28191004,0,Part of circulating ghrelin is bound to immunoglobulins (Ig) protecting it from degradation and preserving its functional activity.)\n",
      "Sentence(Document 28191006,0,During inflammatory reaction, neutrophils exhibit numerous cellular and immunological functions, notably the formation of neutrophil extracellular traps (NETs) and autophagy.)\n",
      "Sentence(Document 28191007,0,Unlike systemic infections, little is known about the role of repeated localized infections on (re)shaping pathogen-specific memory CD8 T cell responses.)\n",
      "Sentence(Document 28191009,0,In the colon, a sophisticated balance between immune reaction and tolerance is absolutely required.)\n",
      "Sentence(Document 28191452,0,Precision medicine with molecularly directed therapeutics is rapidly expanding in all subspecialties of oncology.)\n",
      "Sentence(Document 28194108,0,Epidemiologic studies show an inverse correlation between garlic consumption and progression of cardiovascular disease.)\n",
      "Sentence(Document 28194114,0,Aging alters cellular and molecular processes, including those of stem cells biology.)\n",
      "Sentence(Document 28194115,0,Low-level laser therapy (LLLT) has been targeted as a promising approach that can mitigate post-infarction cardiac remodeling.)\n",
      "Sentence(Document 28194118,0,The present research examined the influence of perceived ownership (self/other) and perceived chooser (self/other) of stocks on brain activity, and investigated whether differential brain responses to stock outcomes as a result of perceived differences in ownership of stock would be modulated by perceived chooser of stock.)\n",
      "Sentence(Document 28194122,0,We investigate the learning of contextual meaning by adults in an artificial language.)\n",
      "Sentence(Document 28194128,0,Recent studies have shown that substance dependence (addiction) is accompanied with altered activity patterns of the default mode network (DMN).)\n",
      "Sentence(Document 28194129,0,According to the literature, simple shapes induce emotional responses.)\n",
      "Sentence(Document 28194131,0,Dystonia belongs to a group of rare diseases (RDs) characterized by etiologic heterogeneity, affection often in childhood, severe and variable clinical manifestation.)\n",
      "Sentence(Document 28194133,0,Up to one-third of patients with epilepsy are medically intractable and need resective surgery.)\n",
      "Sentence(Document 28194136,0,Neurohormones diffuse in sweat and epidermis leading skin bacterial microflora to be largely exposed to these host factors.)\n",
      "Sentence(Document 28194148,0,The pathogenesis of clinical manifestations caused by newly emerging tick-borne phleboviruses [i.e., Severe fever with thrombocytopenia syndrome virus (SFTSV) and Heartland virus (HRTV)], such as severe thrombocytopenia and lymphocytopenia, are not yet fully understood.)\n",
      "Sentence(Document 28194149,0,Superoxide generation is inevitable in aerobic organisms, most of which have developed mechanisms to detoxify superoxides.)\n",
      "Sentence(Document 28194153,0,Mesenchymal stromal cells (MSCs) are considered adult progenitor stem cells and have been studied in a multitude of tissues.)\n",
      "Sentence(Document 28194154,0,T follicular helper cells (TFh) are key components of the adaptive immune system; they are primarily found in germinal centers (GCs) where their interaction with B cells supports humoral immune responses and efficient antibody production.)\n",
      "Sentence(Document 28194228,0,Neuroendocrine tumours are a heterogeneous group of diseases with a significant variety of diagnostic tests and treatment modalities.)\n",
      "Sentence(Document 28194400,0,Atherosclerosis is the primary cause of coronary heart disease (CHD), ischemic stroke, and peripheral arterial disease.)\n",
      "Sentence(Document 28197066,0,Magnetic resonance spectroscopic imaging (MRSI) provides complementary information to conventional magnetic resonance imaging.)\n",
      "Sentence(Document 28197068,0,Exosomes are extracellular nanovesicles (30–100 nm) generated from endosomal membranes and known to be released by all cell lineages of the Central Nervous System (CNS).)\n",
      "Sentence(Document 28197070,0,Following the discovery that the amyloid precursor protein (APP) is the source of β-amyloid peptides (Aβ) that accumulate in Alzheimer’s disease (AD), structural analyses suggested that the holoprotein resembles a transmembrane receptor.)\n",
      "Sentence(Document 28197071,0,D-Penicillamine (PA), a copper chelator, and one of the recommended drugs for treatment of Wilson disease (WD) has been reported to worsen the symptoms of patients with neurologic presentations.)\n",
      "Sentence(Document 28197072,0,Parkinson’s disease (PD), a progressive neurodegenerative disorder, is characterized by irreversible dopaminergic neuron loss and intra-neuronal α-synuclein aggregation.)\n",
      "Sentence(Document 28197073,0,The amyloid precursor protein (APP) interacts with the tropomyosin receptor kinase A (TrkA) in normal rat, mouse, and human brain tissue but not in Alzheimer’s disease (AD) brain tissue.)\n",
      "Sentence(Document 28197076,0,Alzheimer’s disease (AD) is ultimately linked to the amyloid precursor protein (APP).)\n",
      "Sentence(Document 28197080,0,Hippocampal neurogenesis persists throughout adult life and plays an important role in learning and memory.)\n",
      "Sentence(Document 28197085,0,Older adults frequently experience a decrease in balance control that leads to increased numbers of falls, injuries and hospitalization.)\n",
      "Sentence(Document 28197087,0,The objective of this study was to examine the association between perseverative cognition in the form of work-related rumination, and heart rate variability (HRV).)\n",
      "Sentence(Document 28197092,0,The ability to develop Brain-Computer Interfaces (BCI) to Intelligent Systems would offer new perspectives in terms of human supervision of complex Artificial Intelligence (AI) systems, as well as supporting new types of applications.)\n",
      "Sentence(Document 28197095,0,Heterozygous missense mutations in the triggering receptor expressed on myeloid cells 2 (TREM2) have been reported to significantly increase the risk of developing Alzheimer’s disease (AD).)\n",
      "Sentence(Document 28197096,0,Resting-state functional magnetic resonance imaging (fMRI) studies have revealed abnormal neural activity in patients with type 2 diabetes mellitus (T2DM).)\n",
      "Sentence(Document 28197098,0,Natural products are considered potent sources for novel drug discovery and development.)\n",
      "Sentence(Document 28197100,0,Despite an improved understanding of the genetic background and the pathomechanisms of amyotrophic lateral sclerosis (ALS) no novel disease-modifying therapies have been successfully implemented in clinical routine.)\n",
      "Sentence(Document 28197103,0,Proton magnetic resonance spectroscopy ( H-MRS) in ultra-high magnetic field can be used for non-invasive quantitative assessment of brain glutamate (Glu) and glutamine (Gln)  .)\n",
      "Sentence(Document 28197106,0,The calcium/calmodulin-gated KCa3.1 channel regulates normal and abnormal mitogenesis by controlling K -efflux, cell volume, and membrane hyperpolarization-driven calcium-entry.)\n",
      "Sentence(Document 28197108,0,Though the spontaneous emotion regulation has received long discussions, few studies have explored the regulatory effects of spontaneous expressive suppression in neural activations, especially in collectivistic cultural context.)\n",
      "Sentence(Document 28197110,0,The construct of the “self” is conceived as being fundamental in promoting survival.)\n",
      "Sentence(Document 28197120,0,Inhibition of return (IOR) is a mechanism that indicates individuals’ faster responses or higher accuracy to targets appearing in the novel location relative to the cued location.)\n",
      "Sentence(Document 28197123,0,Obesity is associated with a number of health problems, especial insulin resistance and Type 2 diabetes.)\n",
      "Sentence(Document 28197129,0,Bacteria and fungi constitute important organisms in many ecosystems, in particular terrestrial ones.)\n",
      "Sentence(Document 28197130,0,Despite their potential importance as analogs of primitive microbial metabolisms, the knowledge of the structure and functioning of the deep ecosystems associated with serpentinizing environments is hampered by the lack of accessibility to relevant systems.)\n",
      "Sentence(Document 28197131,0,Several products of industrial interest are produced by  , including enzymes, antibiotics, amino acids, insecticides, biosurfactants and bacteriocins.)\n",
      "Sentence(Document 28197132,0,Carbohydrates represent an important fraction of labile and semi-labile marine organic matter that is mainly comprised of exopolymeric substances derived from phytoplankton exudation and decay.)\n",
      "Sentence(Document 28197134,0,The obligate bitrophic fungus   f. sp.)\n",
      "Sentence(Document 28197137,0,Enteric pathogens from biofertilizer can accumulate in the soil, subsequently contaminating water and crops.)\n",
      "Sentence(Document 28197138,0,Recurrent Vulvovaginal Infections (RVVI) is common problem associated with women of reproductive age.)\n",
      "Sentence(Document 28197141,0,Corrosion processes in two North Sea oil production pipelines were studied by analyzing pig envelope samples via metagenomic and metabolomic techniques.)\n",
      "Sentence(Document 28197146,0,Epstein-Barr virus (EBV) is a human gammaherpesvirus associated with several malignancies.)\n",
      "Sentence(Document 28197149,0,Inflammatory bowel disease (IBD) in young children can be a clinical manifestation of various primary immunodeficiency syndromes.)\n",
      "Sentence(Document 28197150,0,Periprosthetic inflammatory osteolysis and subsequent aseptic loosening are commonly observed in total joint arthroplasty.)\n",
      "Sentence(Document 28197153,0,Peanut is an important crop, economically and nutritiously, but high production cost is a serious challenge to peanut farmers as exemplified by chemical spray to control foliar diseases such as leaf spots and thrips, the vectors of tomato spotted wilt virus (TSWV).)\n",
      "Sentence(Document 28197156,0,Increasing the rate of leaf photosynthesis is one important approach for increasing grain yield in rice ( ).)\n",
      "Sentence(Document 28197157,0,phylotype I mulberry strains are causative agent of bacterial wilt of mulberry.)\n",
      "Sentence(Document 28197158,0,4-Hydroxy-3-methylbut-2-enyl diphosphate reductase (HDR) catalyzes the last step of the 2-C-methyl- -erythritol 4- phosphate (MEP) pathway to synthesize isopentenyl pyrophosphate (IPP) and dimethylallyl diphosphate (DMAPP).)\n",
      "Sentence(Document 28197163,0,Quinolizidine alkaloids (QAs) are toxic secondary metabolites found within the genus  , some species of which are commercially important grain legume crops including   (narrow-leafed lupin, NLL),   (yellow lupin),   (white lupin), and   (pearl lupin), with NLL grain being the most largely produced of the four species in Australia and worldwide.)\n",
      "Sentence(Document 28197164,0,Cytokinins play important roles in regulating plant development, including shoot and root meristems, leaf longevity, and grain yield.)\n",
      "Sentence(Document 28197165,0,Vivipary, germination of seeds on the maternal plant, is observed in nature and provides ecological advantages in certain wild species, such as mangroves.)\n",
      "Sentence(Document 28197166,0,WRKY transcription factors are known to play important roles in plant responses to biotic stresses.)\n",
      "Sentence(Document 28197167,0,is a hermaphrodite subspecies, while its ancestor,  , is dioecious.)\n",
      "Sentence(Document 28197358,0,Alzheimer’s disease (AD) represents one major health concern for our growing elderly population.)\n",
      "Sentence(Document 28197395,0,Tumors are often characterized by hypoxia, vascular abnormalities, low extracellular pH, increased interstitial fluid pressure, altered choline-phospholipid metabolism, and aerobic glycolysis (Warburg effect).)\n",
      "Sentence(Document 28197403,0,Gliomas are the most frequent primary brain tumors and include a variety of different histological tumor types and malignancy grades.)\n",
      "Sentence(Document 28197542,0,An intronic hexanucleotide repeat expansion (HRE) mutation in the   gene is the most common cause of familial ALS and frontotemporal dementia (FTD) and is found in ∼7% of individuals with apparently sporadic disease.)\n",
      "Sentence(Document 28197545,0,Peripheral nerves can regenerate and, when injured, may cause neuropathic pain.)\n",
      "Sentence(Document 28203043,0,Previous animal studies have indicated that excessive prenatal circulating glucocorticoid (GC) levels induced by the antenatal administration of synthetic GC (sGC) significantly alter neuronal development in the cerebellar and hippocampal neurons of the offspring.)\n",
      "Sentence(Document 28203054,0,Uveal melanoma (UM) is the most common intraocular malignancy and arises from melanocytes in the iris, ciliary body, or choroid.)\n",
      "Sentence(Document 28203077,0,Non-glucose biomarker-DNA oxidative damage biomarker 8-hydroxy-2′-deoxyguanosine (8-OHdG) has been successfully detected using a smartphone-enabled glucose meter.)\n",
      "Sentence(Document 28203079,0,Stroke is one of the leading causes of death and probably the greatest cause of adult disability worldwide.)\n",
      "Sentence(Document 28203080,0,It is proposed that lithium’s therapeutic effects occur indirectly by augmenting a cascade of protective “fail-safe” pathways pre-configured to activate in response to a dangerous low cell [Mg ] situation, eg, posttraumatic brain injury, alongside relative cell adenosine triphosphate depletion.)\n",
      "Sentence(Document 28203090,0,Despite multimodal therapeutic treatments of osteosarcoma (OS), some patients develop resistance to currently available regimens and eventually end up with recurrent or metastatic outcomes.)\n",
      "Sentence(Document 28203091,0,The clear cell renal cell carcinoma (ccRCC) is one of the most fatal urologic tumors, and the prognosis remains very poor for advanced or metastatic ccRCC.)\n",
      "Sentence(Document 28203097,0,Cerebral malaria is a medical emergency.)\n",
      "Sentence(Document 28203100,0,This paper describes the evolution of our understanding of the biological role played by synthetic and natural antimicrobial cationic peptides and by the highly basic nuclear histones as modulators of infection, postinfectious sequelae, trauma, and coagulation phenomena.)\n",
      "Sentence(Document 28203101,0,This study analyzed clinically actionable pharmacogenotypes for clopidogrel, warfarin, statins, thiopurines, and tacrolimus using microarray data for 2121 participants (55–85 years) from the Australian Hunter Community Study (HCS).)\n",
      "Sentence(Document 28203102,0,Carbamazepine (CBZ) is an effective anticonvulsant that can sometimes cause hypersensitivity reactions that vary in frequency and severity.)\n",
      "Sentence(Document 28203140,0,Adult neurogenesis is a tightly regulated process continuously taking place in the central nervous system of most mammalian species.)\n",
      "Sentence(Document 28203142,0,Interlimb neural coupling might underlie human bipedal locomotion, which is reflected in the fact that people swing their arms synchronously with leg movement in normal gait.)\n",
      "Sentence(Document 28203146,0,Insulin-like growth factor 1 (IGF1) is a polypeptide hormone structurally similar to insulin.)\n",
      "Sentence(Document 28203147,0,Slow inward currents (SICs) are known as excitatory events of neurons caused by astrocytic glutamate release and consequential activation of neuronal extrasynaptic NMDA receptors.)\n",
      "Sentence(Document 28203148,0,Substantia nigra pars reticulata (SNr), the major output nucleus of the basal ganglia, receives dopamine from dendrites extending from dopaminergic neurons of the adjacent nucleus pars compacta (SNc), which is known for its selective degeneration in Parkinson's disease.)\n",
      "Sentence(Document 28203202,0,Exosomes, a type of extracellular vesicle, have been shown to be involved in many disorders, including Alzheimer’s disease (AD).)\n",
      "Sentence(Document 28203204,0,Cancer stem cells with stem-cell properties are regarded as tumor initiating cells.)\n",
      "Sentence(Document 28203205,0,Current hydration assessments involve biological fluids that are either compromised in dehydrated individuals or require laboratory equipment, making timely results unfeasible.)\n",
      "Sentence(Document 28203207,0,The bicuspid aortic valve (BAV) is a major risk factor for secondary aortopathy such as aortic dilation.)\n",
      "Sentence(Document 28203209,0,The role of personality trait variation in psychopathology and its influence on the outcome of psychotherapy is a burgeoning field.)\n",
      "Sentence(Document 28203210,0,Deaf children who receive a cochlear implant early in life and engage in intensive oral/aural therapy often make great strides in spoken language acquisition.)\n",
      "Sentence(Document 28203214,0,During natural speech perception, listeners rely on a wide range of cues to support comprehension, from semantic context to prosodic information.)\n",
      "Sentence(Document 28203215,0,Financial risky decisions and evaluations pervade many human everyday activities.)\n",
      "Sentence(Document 28203230,0,Human cytomegalovirus (HCMV) is the prototypic beta-herpesvirus and widespread throughout the human population.)\n",
      "Sentence(Document 28203231,0,is an alpha subunit of the tripartite protein complex of DNA polymerase III that is responsible for the replication of bacterial genome.)\n",
      "Sentence(Document 28203233,0,MicroRNAs (miRNAs) are small regulatory RNAs that play important roles in animals, plants, and viruses.)\n",
      "Sentence(Document 28203237,0,( ), an intracellular pathogenic Gram-positive bacterium, is the cause of tuberculosis (TB), a major worldwide human infectious disease.)\n",
      "Sentence(Document 28203478,0,Accumulating evidence has shown that the lung is one of the target organs for microangiopathy in patients with either type 1 or type 2 diabetes mellitus (DM).)\n",
      "Sentence(Document 28203479,0,Metformin is an oral anti-diabetic used as first-line therapy for type 2 diabetes.)\n",
      "Sentence(Document 28203480,0,Parkinson’s disease (PD) is one of the most common age-related neurodegenerative diseases.)\n",
      "Sentence(Document 28203481,0,In previous studies, we reported the presence of a large number of low-molecular-weight (LMW) peptides in aged and cataract human lens tissues.)\n",
      "Sentence(Document 28203482,0,Long non-coding RNA H19 (lncRNA H19) was found to be upregulated by hypoxia, its expression and function have never been tested in cerebral ischemia and reperfusion (I/R) injury.)\n",
      "Sentence(Document 28203483,0,Galanin (GAL) plays key role in many pathophysiological processes, but its role in ischemic stroke remains unclear.)\n",
      "Sentence(Document 28203484,0,Glycosylation is one of the most common eukaryotic post-translational modifications, and aberrant glycosylation has been linked to many diseases.)\n",
      "Sentence(Document 28203485,0,To investigate the changes of circulating endothelial progenitor cells (EPCs) and stromal cell-derived factor-1α (SDF-1α)/CXCR4 expression in patients with mild traumatic brain injury (TBI) and the correlation between EPC level and the prognosis of mild TBI.)\n",
      "Sentence(Document 28203534,0,Methodological differences among laboratories are recognized as significant sources of variation in quantification of hair cortisol concentration (HCC).)\n",
      "Sentence(Document 28203549,0,A distinctive syndrome caused by hypermucoviscous   (HMKP) including pyogenic liver abscess (PLA) is now becoming a globally emerging disease.)\n",
      "Sentence(Document 28203581,0,Rituximab (R), a chimeric monoclonal antibody targeting CD20 antigen on B-cells, has become a standard of care in the treatment of B-cell malignancies, most often in conjunction with cytotoxic chemotherapy.)\n",
      "Sentence(Document 28210027,0,[Purpose] To estimate the effect of Klapp method on idiopathic scoliosis in school students.)\n",
      "Sentence(Document 28210033,0,[Purpose] The purpose of this study was to clarify the impact of postural changes during tidal breathing on the configuration and motion of chest-wall in order to further breathing motion evaluation.)\n",
      "Sentence(Document 28210040,0,[Purpose] Grip strength is used as an indicator of overall body muscular strength.)\n",
      "Sentence(Document 28210043,0,[Purpose] The purpose of this study was to examine the hypoglycemic effect of a postprandial exercise program using brief stair climbing-descending exercise in people with type 2 diabetes.)\n",
      "Sentence(Document 28210047,0,[Purpose] The aims of this study was to investigate mean velocity and angle of shoulder joint, activation of tibialis anterior and gastrocnemius according to both eyes, dominant eye and non-dominant eye condition during reaching task in normal adults.)\n",
      "Sentence(Document 28210055,0,[Purpose] Hormone replacement therapy has been reported to be effective for alleviating menopausal symptoms, its side effects have been a concern.)\n",
      "Sentence(Document 28210056,0,[Purpose] To investigate the effects of pre-induced muscle damage vibration stimulation on the pressure-pain threshold and muscle-fatigue-related metabolites of exercise-induced muscle damage.)\n",
      "Sentence(Document 28210059,0,[Purpose] Fluidity in the sit-to-walk task has been quantitatively measured with three-dimensional motion analysis system.)\n",
      "Sentence(Document 28210203,0,Preplacement of compensatory tissue repair (CTR) by exposure to a nonlethal dose of a toxicant protects animals against a lethal dose of another toxicant.)\n",
      "Sentence(Document 28210205,0,Despite the progress made in the development of new antiepileptic drugs (AEDs), the biggest challenges that epilepsy presents to drug development have remained unchanged for the last 80 years: finding a treatment with potential for modifying disease progression and reducing the percentage of patients resistant to all pharmacological interventions.)\n",
      "Sentence(Document 28210207,0,As a consequence of an increasingly aging population, the number of people affected by neurodegenerative disorders, such as Alzheimer's disease, Parkinson's disease and Huntington's disease, is rapidly increasing.)\n",
      "Sentence(Document 28210208,0,IgLON family is composed of five genes: Lsamp, Ntm, Opcml, Negr1, and Iglon5; encoding for five highly homologous neural adhesion proteins that regulate neurite outgrowth and synapse formation.)\n",
      "Sentence(Document 28210209,0,Understanding brain energy metabolism—neuroenergetics—is becoming increasingly important as it can be identified repeatedly as the source of neurological perturbations.)\n",
      "Sentence(Document 28210211,0,Despite its key role in the molecular pathology of Alzheimer’s disease (AD), the physiological function of amyloid precursor protein (APP) is unknown.)\n",
      "Sentence(Document 28210212,0,Adolescence is a critical period with ongoing maturational processes in stress-sensitive systems.)\n",
      "Sentence(Document 28210215,0,Microglia are the resident macrophages in the central nervous system (CNS) and play essential roles in neuronal homeostasis and neuroinflammatory pathologies.)\n",
      "Sentence(Document 28210219,0,The cholinergic system has extensive projections to the olfactory bulb (OB) where it produces a state-dependent regulation of sensory gating.)\n",
      "Sentence(Document 28210220,0,Late-life depression (LLD) is associated with development of different types of dementia.)\n",
      "Sentence(Document 28210221,0,has long been used in China and India as anti-inflammatory agent to treat a wide variety of conditions and also as a spice for varied curry preparations.)\n",
      "Sentence(Document 28210222,0,Beta-amyloid (Aβ) deposition, associated neuronal apoptosis and neuroinflammation are considered as the important factors which lead to cognitive deficits in Alzheimer’s disease (AD).)\n",
      "Sentence(Document 28210224,0,The skin mucus of gilthead sea bream was mapped by one-dimensional gel electrophoresis followed by liquid chromatography coupled to high resolution mass spectrometry using a quadrupole time-of-flight mass analyzer.)\n",
      "Sentence(Document 28210225,0,The central nervous system plays a vital role in the development of hypertension, but the molecular regulatory mechanisms are not fully understood.)\n",
      "Sentence(Document 28210226,0,Recently, multipotent mesenchymal stem cells (MSCs) have attracted much attention in the field of regenerative medicine due to their ability to give rise to different cell types, including chondrocytes.)\n",
      "Sentence(Document 28210231,0,We investigated whether the patterns of coordination that emerged during a three-participant (triadic) jumping task were defined by the symmetries of the (multi) agent-environment task space.)\n",
      "Sentence(Document 28210240,0,To date, nuclear localization signals (NLSs) that target proteins to nuclei in oomycetes have not been defined, but have been assumed to be the same as in higher eukaryotes.)\n",
      "Sentence(Document 28210241,0,Outer membrane proteins of Gram-negative bacteria play key roles in antibiotic resistance.)\n",
      "Sentence(Document 28210248,0,To describe the genetic environment, transferability, and antibiotic susceptibility of one clinical   isolate harboring both   and   on different plasmids from a Chinese hospital.)\n",
      "Sentence(Document 28210249,0,There is limited knowledge about the impact of long-term feeding a high-concentrate (HC) diet on rumen microbiota, metabolome, and host cell functions.)\n",
      "Sentence(Document 28210252,0,Sulfate-reducing bacteria (SRB) have been studied extensively in the petroleum industry due to their role in corrosion, but very little is known about sulfur-oxidizing bacteria (SOB), which drive the oxidization of sulfur-compounds produced by the activity of SRB in petroleum reservoirs.)\n",
      "Sentence(Document 28210256,0,CRL1505 and   CRL1506 are immunobiotic strains able to increase protection against viral intestinal infections as demonstrated in animal models and humans.)\n",
      "Sentence(Document 28210257,0,NK cells are defective in acute myeloid leukemia (AML) at diagnosis.)\n",
      "Sentence(Document 28210259,0,Inflammation is a protective response that eliminates harmful stimuli and restores tissue homeostasis, whereas the failure to resolve inflammation leads to the development of malignancies.)\n",
      "Sentence(Document 28210260,0,Erythropoiesis is a highly regulated process where sequential events ensure the proper differentiation of hematopoietic stem cells into, ultimately, red blood cells (RBCs).)\n",
      "Sentence(Document 28210262,0,In an effort to develop more effective therapy for tuberculosis (TB), research efforts are looking toward host-directed therapy, reprograming the body’s natural defenses to better control the infection.)\n",
      "Sentence(Document 28210263,0,B lymphocytes contribute to acute and chronic allograft rejection through their production of donor-specific antibodies (DSAs).)\n",
      "Sentence(Document 28210265,0,Genetic improvement in industrially important guar ( , L. Taub.))\n",
      "Sentence(Document 28210266,0,The   genus comprises many economically important worldwide cultivated crops.)\n",
      "Sentence(Document 28210267,0,Non-small cell lung cancer (NSCLC) comprises about 84% of all lung cancers.)\n",
      "Sentence(Document 28210337,0,The Topographic Attentive Mapping (TAM) network is a biologically-inspired classifier that bears similarities to the human visual system.)\n",
      "Sentence(Document 28210540,0,We describe a case of an unusual fast growing lung micropapillary-predominant adenocarcinoma in a nonsmoker male patient without pre-existing lung disease.)\n",
      "Sentence(Document 28210556,0,Despite the dramatic advances in breast cancer treatment over the past two decades, it is still the most common malignancies in women.)\n",
      "Sentence(Document 28210558,0,Bisphosphonates (BPs) are indicated to treat skeletal-related events (SREs) for cancer patients with bone metastasis.)\n",
      "Sentence(Document 28210563,0,The complexity of managing early stage breast cancer is well known.)\n",
      "Sentence(Document 28210565,0,Breast cancer is one of the most commonly diagnosed types of cancer among women.)\n",
      "Sentence(Document 28210616,0,One Health involves the multifaceted environment-animal-human web: nevertheless, the role of toxicological issues has yet to be fully explored in this context.)\n",
      "Sentence(Document 28210705,0,We sometimes perform gastric endoscopic submucosal dissection (ESD) for total pathologic diagnosis when preoperative diagnosis is difficult.)\n",
      "Sentence(Document 28210706,0,Clinical impact of single-balloon enteroscopy (SBE) is fairly known, as well as its diagnostic yield comparing with other small bowel gastrointestinal investigations.)\n",
      "Sentence(Document 28210709,0,Data on clinical outcomes of endoscopic drainage of debris-free pseudocysts (PDF) versus pseudocysts containing solid debris (PSD) are very limited.)\n",
      "Sentence(Document 28260162,0,Tumoral cubilin is a predictive marker for treatment of renal cancer patients with sunitinib and sorafenib.)\n",
      "Sentence(Document 28260175,0,Involvement of the Bufadienolides in the Detection and Therapy of the Acute Respiratory Distress Syndrome.)\n",
      "Sentence(Document 28260249,0,Recent theoretical, neural, and clinical advances in sustained attention research.)\n",
      "Sentence(Document 28260295,0,[Experimental study on the immune response of fusion tumor vaccine of HepG2 and dendritic cells in vitro].)\n",
      "Sentence(Document 28260391,0,Endothelial glycocalyx damage and renal dysfunction in HIV patients receiving combined antiretroviral therapy.)\n",
      "Sentence(Document 28260394,0,Evidence for behaviorally segregated, spatio-temporally overlapping subnetworks in phantom sound perception.)\n",
      "Sentence(Document 28260408,0,Dynamic workplace interactions for improving patient safety climate.)\n",
      "Sentence(Document 28260446,0,Kinetic Glomerular Filtration Rate Estimation Compared With Other Formulas for Evaluating Acute Kidney Injury Stage Early After Kidney Donation.)\n",
      "Sentence(Document 28260536,0,Nationwide investigation of Shiga toxin-producing Escherichia coli among cattle in Japan revealed the risk factors and potentially virulent subgroups.)\n",
      "Sentence(Document 28260615,0,Hypoxia effects on oxidative stress and immunocompetence biomarkers in the mussel Perna perna (Mytilidae, Bivalvia).)\n",
      "Sentence(Document 28260643,0,The use of the Duchenne marker and symmetry of the expression in the judgment of smiles in schizophrenia.)\n",
      "Sentence(Document 28260648,0,Impact of freeze-thaw cycles on circulating inflammation marker measurements.)\n",
      "Sentence(Document 28260649,0,Higher serum interleukin-17A levels as a potential biomarker for predicting early disease progression in patients with hepatitis B virus-associated advanced hepatocellular carcinoma treated with sorafenib.)\n",
      "Sentence(Document 28260658,0,Comparative biotoxicity of N-Phenyl-1-naphthylamine and N-Phenyl-2-naphthylamine on cyanobacteria Microcystis aeruginosa.)\n",
      "Sentence(Document 28260686,0,Application of cDNA-AFLP to biomarker exploration in a non-model species Grandidierella japonica.)\n",
      "Sentence(Document 28260693,0,Genomic deletion of GIT2 induces a premature age-related thymic dysfunction and systemic immune system disruption.)\n",
      "Sentence(Document 28260702,0,Effects of 50 mg vildagliptin twice daily vs. 50 mg sitagliptin once daily on blood glucose fluctuations evaluated by long-term self-monitoring of blood glucose.)\n",
      "Sentence(Document 28260718,0,Loss of SETD2, but not H3K36me3, correlates with aggressive clinicopathological features of clear cell renal cell carcinoma patients.)\n",
      "Sentence(Document 28260756,0,C-reactive Protein Level in Type-2 Diabetic Patients Attending Mymensingh Medical College Hospital, Mymensingh.)\n",
      "Sentence(Document 28260757,0,Diagnostic Importance of Platelet in Patients with Acute Coronary Syndrome Admitted in Mymensingh Medical College Hospital.)\n",
      "Sentence(Document 28260759,0,Risk Factor Pattern of Ischemic Heart Disease in Young Male Patients with Vertex Baldness.)\n",
      "Sentence(Document 28260767,0,Correlation of Systemic Inflammatory Status and Cardiac Myonecrosis in Patients Undergoing Percutaneoues Coronary Intervention.)\n",
      "Sentence(Document 28260796,0,Association between well-characterized lung cancer lncRNA polymorphisms and platinum-based chemotherapy toxicity in Chinese patients with lung cancer.)\n",
      "Sentence(Document 28260854,0,Cytokine biomarkers in tear film for primary open-angle glaucoma.)\n",
      "Sentence(Document 28260899,0,Gene expression-based biological test for major depressive disorder: an advanced study.)\n",
      "Sentence(Document 28260907,0,Effect of orlistat on periostin, adiponectin, inflammatory markers and ultrasound grades of fatty liver in obese NAFLD patients.)\n",
      "Sentence(Document 28260919,0,Overexpression of the long non-coding RNA, linc-UBC1, is associated with poor prognosis and facilitates cell proliferation, migration, and invasion in colorectal cancer.)\n",
      "Sentence(Document 28260933,0,Preoperative lymphocyte-to-monocyte ratio predicts survival in primary hepatitis B virus-positive hepatocellular carcinoma after curative resection.)\n",
      "Sentence(Document 28260989,0,Correlation of Chitinase 3-Like 1 Single Nucleotide Polymorphisms with Hepatocellular Carcinoma in Taiwan.)\n",
      "Sentence(Document 28261049,0,Brain Network Dynamics Adhere to a Power Law.)\n",
      "Sentence(Document 28261064,0,Expression of sept3, sept5a and sept5b in the Developing and Adult Nervous System of the Zebrafish (Danio rerio).)\n",
      "Sentence(Document 28261103,0,Novel Computational Analysis of Left Atrial Anatomy Improves Prediction of Atrial Fibrillation Recurrence after Ablation.)\n",
      "Sentence(Document 28261162,0,Critical Issues in Mycobiota Analysis.)\n",
      "Sentence(Document 28261171,0,Congolese Rhizospheric Soils as a Rich Source of New Plant Growth-Promoting Endophytic Piriformospora Isolates.)\n",
      "Sentence(Document 28261173,0,Gut Microbial Diversity Assessment of Indian Type-2-Diabetics Reveals Alterations in Eubacteria, Archaea, and Eukaryotes.)\n",
      "Sentence(Document 28261189,0,Association Mapping Reveals Genetic Loci Associated with Important Agronomic Traits in Lentinula edodes, Shiitake Mushroom.)\n",
      "Sentence(Document 28261196,0,Potential Value of miR-221/222 as Diagnostic, Prognostic, and Therapeutic Biomarkers for Diseases.)\n",
      "Sentence(Document 28261199,0,Inflammatory Regulation by Driving Microglial M2 Polarization: Neuroprotective Effects of Cannabinoid Receptor-2 Activation in Intracerebral Hemorrhage.)\n",
      "Sentence(Document 28261201,0,Circulating microRNAs as Potential Biomarkers of Infectious Disease.)\n",
      "Sentence(Document 28261204,0,Expression of GARP Is Increased in Tumor-Infiltrating Regulatory T Cells and Is Correlated to Clinicopathology of Lung Cancer Patients.)\n",
      "Sentence(Document 28261220,0,Dual Role of Natural Killer Cells on Graft Rejection and Control of Cytomegalovirus Infection in Renal Transplantation.)\n",
      "Sentence(Document 28261225,0,Metabolic Fingerprint of PS3-Induced Resistance of Grapevine Leaves against Plasmopara viticola Revealed Differences in Elicitor-Triggered Defenses.)\n",
      "Sentence(Document 28261284,0,Sterile leukocyturia affects urine neutrophil gelatinase-associated lipocalin concentration in type 2 diabetic patients.)\n",
      "Sentence(Document 28261287,0,The diagnostic value of alcohol dehydrogenase (ADH) isoenzymes and aldehyde dehydrogenase (ALDH) measurement in the sera of patients with brain tumor.)\n",
      "Sentence(Document 28261295,0,Pretreatment neutrophil-to-lymphocyte ratio in peripheral blood was associated with pulmonary tuberculosis retreatment.)\n",
      "Sentence(Document 28261310,0,Antioxidant Properties and Cardioprotective Mechanism of Malaysian Propolis in Rats.)\n",
      "Sentence(Document 28261322,0,Immune Regulation of sickle Cell Alloimmunization.)\n",
      "Sentence(Document 28261325,0,Technical advances in global DNA methylation analysis in human cancers.)\n",
      "Sentence(Document 28261333,0,Surveilling the Potential for Precision Medicine-driven PD-1/PD-L1-targeted Therapy in HNSCC.)\n",
      "Sentence(Document 28261336,0,High Infiltration of Polarized CD163(+) Tumor-Associated Macrophages Correlates with Aberrant Expressions of CSCs Markers, and Predicts Prognosis in Patients with Recurrent Gastric Cancer.)\n",
      "Sentence(Document 28261341,0,Plasma Fibrinogen Correlates with Metastasis and is Associated with Prognosis in Human Nasopharyngeal Carcinoma.)\n",
      "Sentence(Document 28261345,0,Plasma mRNA as liquid biopsy predicts chemo-sensitivity in advanced gastric cancer patients.)\n",
      "Sentence(Document 28261346,0,The Role of GOLPH3L in the Prognosis and NACT response in Cervical Cancer.)\n",
      "Sentence(Document 28261350,0,Identifying DCN and HSPD1 as Potential Biomarkers in Colon Cancer Using 2D-LC-MS/MS Combined with iTRAQ Technology.)\n",
      "Sentence(Document 28261371,0,Vitamin D and Cardiovascular Disease: Can Novel Measures of Vitamin D Status Improve Risk Prediction and Address the Vitamin D Racial Paradox?)\n",
      "Sentence(Document 28261375,0,Parental High-Fat Diet Promotes Inflammatory and Senescence-Related Changes in Prostate.)\n",
      "Sentence(Document 28261377,0,Identification of Patients Affected by Mitral Valve Prolapse with Severe Regurgitation: A Multivariable Regression Model.)\n",
      "Sentence(Document 28261422,0,A Comprehensive Analysis of the Causes and Predictors of 30-Day Mortality Following Hip Fracture Surgery.)\n",
      "Sentence(Document 28261470,0,Using a multiscale image processing method to characterize the periodic growth patterns on scallop shells.)\n",
      "Sentence(Document 28261562,0,Inhibition of DNA and Histone Methylation by 5-Aza-2'-Deoxycytidine (Decitabine) and 3-Deazaneplanocin-A on Antineoplastic Action and Gene Expression in Myeloid Leukemic Cells.)\n",
      "Sentence(Document 28261684,0,Evaluation of zinc finger E-box binding homeobox 1 and transforming growth factor-beta2 expression in bladder cancer tissue in comparison with healthy adjacent tissue.)\n",
      "Sentence(Document 28261746,0,Bone resorptive activity in symptomatic and asymptomatic apical lesions of endodontic origin.)\n",
      "Sentence(Document 28261797,0,The pro-cognitive mechanisms of physical exercise in people with schizophrenia.)\n",
      "Sentence(Document 28261818,0,On the impact of smoothing and noise on robustness of CT and CBCT radiomics features for patients with head and neck cancers.)\n",
      "Sentence(Document 28261819,0,Structural and functional alterations in Malpighian tubules as biomarkers of environmental pollution: synopsis and prospective.)\n",
      "Sentence(Document 28261868,0,In vivo assessment of intracellular redox state in rat liver using hyperpolarized [1-(13) C]Alanine.)\n",
      "Sentence(Document 28261872,0,Tracking discrete off-resonance markers with three spokes (trackDOTS) for compensation of head motion and B0 perturbations: Accuracy and performance in anatomical imaging.)\n",
      "Sentence(Document 28261896,0,Identifying Low-risk Patients for Early Discharge From Emergency Department Without Using Subjective Descriptions of Chest Pain: Insights From Providing Rapid Out of Hospital Acute Cardiovascular Treatment (PROACT) 3 and 4 Trials.)\n",
      "Sentence(Document 28261899,0,Recalcitrant hypertrophic herpes genitalis in HIV-infected patient successfully treated with topical imiquimod.)\n",
      "Sentence(Document 28261908,0,Acute Coronary Syndrome Screening and Diagnostic Practice Variation.)\n",
      "Sentence(Document 28261945,0,Cognitive decline and slower reaction time in elderly individuals with mild cognitive impairment.)\n",
      "Sentence(Document 28261951,0,Susceptibility to disinfectants in antimicrobial-resistant and -susceptible isolates of Escherichia coli, Enterococcus faecalis and Enterococcus faecium from poultry-ESBL/AmpC-phenotype of E.  coli is not associated with resistance to a quaternary ammonium compound, DDAC.)\n",
      "Sentence(Document 28261953,0,Prognostic significance of CD133 and ezrin expression in colorectal carcinoma.)\n",
      "Sentence(Document 28261960,0,Neurofilament light chain in cerebrospinal fluid and prediction of disease activity in clinically isolated syndrome and relapsing-remitting multiple sclerosis.)\n",
      "Sentence(Document 28261963,0,Phosphoproteome analysis of synoviocytes from patients with rheumatoid arthritis.)\n",
      "Sentence(Document 28261965,0,Relationship between cytokine levels in the cerebrospinal fluid and 11C-Pittsburgh compound  B retention in patients with mild cognitive impairment.)\n",
      "Sentence(Document 28261974,0,Does long term colchicine prevent degradation of collagen fiber network in osteoarthritis?)\n",
      "Sentence(Document 28261998,0,Use of a Targeted Urine Proteome Assay (TUPA) to identify protein biomarkers of delayed recovery after kidney transplant.)\n",
      "Sentence(Document 28262114,0,MicroRNAs mediate therapeutic and preventive effects of natural agents in breast cancer.)\n",
      "Sentence(Document 28262130,0,Oxidative status and prolidase activities in generalized anxiety disorder.)\n",
      "Sentence(Document 28262193,0,Short-term Changes in Gal 3 Circulating Levels After Acute Myocardial Infarction.)\n",
      "Sentence(Document 28262197,0,Longitudinal Analysis of the Interaction Between Obesity and Pregnancy on Iron Homeostasis: Role of Hepcidin.)\n",
      "Sentence(Document 28262210,0,Pentraxin 3, a Predicator for 28-Day Mortality in Patients With Septic Shock.)\n",
      "Sentence(Document 28262211,0,Complement Alternative Pathway* s Activation in Patients With Lupus Nephritis.)\n",
      "Sentence(Document 28262214,0,Hospital Management of Acute Decompensated Heart Failure.)\n",
      "Sentence(Document 28262239,0,LMWH in IVF - Biomarkers and benefits.)\n",
      "Sentence(Document 28262254,0,Diagnostic value of chromogranin A in pancreatic neuroendocrine tumors depends on tumor size: A prospective observational study from a single institute.)\n",
      "Sentence(Document 28262266,0,PTSD in Court II: Risk factors, endophenotypes, and biological underpinnings in PTSD.)\n",
      "Sentence(Document 28262306,0,Immunohistochemical analysis of PTEN, HER2/neu, and ki67 expression in patients with gastric cancer and their association with survival.)\n",
      "Sentence(Document 28262321,0,Exploration of potential biomarkers and related biological pathways for PCB exposure in maternal and cord serum: A pilot birth cohort study in Chiba, Japan.)\n",
      "Sentence(Document 28262322,0,Biochemical and anthropometric correlates of bio-electrical impedance parameters in severely malnourished children: A cross-sectional study.)\n",
      "Sentence(Document 28262437,0,Myocardial fibrosis predicts ventricular tachyarrhythmias.)\n",
      "Sentence(Document 28262440,0,Telomere length in patients with pulmonary fibrosis associated with chronic lung allograft dysfunction and post-lung transplantation survival.)\n",
      "Sentence(Document 28262537,0,Robot-assisted retroperitoneal lymph node dissection (RA-RPLND) in the adolescent population.)\n",
      "Sentence(Document 28262555,0,Membrane-Proximal Epitope Facilitates Efficient T Cell Synapse Formation by Anti-FcRH5/CD3 and Is a Requirement for Myeloma Cell Killing.)\n",
      "Sentence(Document 28262603,0,Biological profiling of prospective antidepressant response in major depressive disorder: Associations with (neuro)inflammation, fatty acid metabolism, and amygdala-reactivity.)\n",
      "Sentence(Document 28262611,0,Nano optical probe samarium tetracycline complex for early diagnosis of histidinemia in new born children.)\n",
      "Sentence(Document 28262616,0,Protective effects of aloperine on monocrotaline-induced pulmonary hypertension in rats.)\n",
      "Sentence(Document 28262617,0,microRNA-23b suppresses epithelial-mesenchymal transition (EMT) and metastasis in hepatocellular carcinoma via targeting Pyk2.)\n",
      "Sentence(Document 28262635,0,Anisakis (Nematoda: Ascaridoidea) from Indonesia.)\n",
      "Sentence(Document 28262692,0,MiR-139-5p as a novel serum biomarker for recurrence and metastasis in colorectal cancer.)\n",
      "Sentence(Document 28262709,0,A standardized method for lectin microarray-based tissue glycome mapping.)\n",
      "Sentence(Document 28262740,0,Effect of Cigarette Smoking on a Marker for Neuroinflammation: A [(11)C]DAA1106 Positron Emission Tomography Study.)\n",
      "Sentence(Document 28262744,0,Identification of candidate diagnostic serum biomarkers for Kawasaki disease using proteomic analysis.)\n",
      "Sentence(Document 28262748,0,Diagnostic implication of fibrin degradation products and D-dimer in aortic dissection.)\n",
      "Sentence(Document 28262773,0,Metabolomics for clinical use and research in chronic kidney disease.)\n",
      "Sentence(Document 28262777,0,The role of the complement system in diabetic nephropathy.)\n",
      "Sentence(Document 28262798,0,Androgen receptor is a potential novel prognostic marker and oncogenic target in osteosarcoma with dependence on CDK11.)\n",
      "Sentence(Document 28262851,0,Effects of Selenium Yeast on Blood Glucose and Antioxidant Biomarkers in Cholesterol Fed Diet Induced Type 2 Diabetes Mellitus in Wistar Rats.)\n",
      "Sentence(Document 28262971,0,The Opportunity of Precision Medicine for Breast Cancer with Context-Sensitive Tumor Suppressor Maspin.)\n",
      "Sentence(Document 28263001,0,Assessment of Bone Health in Patients with Type 1 Gaucher Disease Using Impact Microindentation.)\n",
      "Sentence(Document 28263037,0,Loss of phosphatase and tensin homolog expression correlates with clinicopathological features of non-small cell lung cancer patients and its impact on survival: A systematic review and meta-analysis.)\n",
      "Sentence(Document 28263099,0,Modulation of the peripheral immune system after low-dose radon spa therapy: Detailed longitudinal immune monitoring of patients within the RAD-ON01 study.)\n",
      "Sentence(Document 28263100,0,Decreased serum DNase1-activity in patients with autoimmune liver diseases.)\n",
      "Sentence(Document 28263172,0,Duration of red blood cell storage and inflammatory marker generation.)\n",
      "Sentence(Document 28263219,0,INFLUENCE OF VITRECTOMY SURGERY ON THE INTEGRITY OF OUTER RETINAL LAYERS IN DIABETIC MACULAR EDEMA.)\n",
      "Sentence(Document 28263231,0,Appendix-derived Pseudomyxoma Peritonei (PMP): Molecular Profiling Toward Treatment of a Rare Malignancy.)\n",
      "Sentence(Document 28263294,0,Increased expression of latent TGF-b-binding protein 4 affects the fibrotic process in scleroderma by TGF-b/SMAD signaling.)\n",
      "Sentence(Document 28263391,0,Overexpression of lipid metabolism genes and PBX1 in the contralateral breasts of women with estrogen receptor-negative breast cancer.)\n",
      "Sentence(Document 28263395,0,Heterogeneous treatment effects in stratified clinical trials with time-to-event endpoints.)\n",
      "Sentence(Document 28263432,0,The effect of cell debris within biologic scaffolds upon the macrophage response.)\n",
      "Sentence(Document 28263447,0,Identification of novel non-invasive biomarkers of urinary chronic pelvic pain syndrome: findings from the Multidisciplinary Approach to the Study of Chronic Pelvic Pain (MAPP) Research Network.)\n",
      "Sentence(Document 28263455,0,Liver Disease and Fibrosis Assessment in Substance Use-Related Disorders.)\n",
      "Sentence(Document 28263489,0,HPV types and E6/E7 mRNA expression in cervical samples from Turkish women with abnormal cytology in Ankara, Turkey.)\n",
      "Sentence(Document 28263503,0,Can ischemia-modified albumin be used to differentiate between generalized seizures and pseudoseizures?)\n",
      "Sentence(Document 28263504,0,Identification of the cysteine-rich 61 (CYR61) gene variations in osteosarcoma patients.)\n",
      "Sentence(Document 28263514,0,Pentoxifylline attenuates mucosal damage in an experimental model of rat colitis by modulating tissue biomarkers of inflammation, oxidative stress, and fibrosis.)\n",
      "Sentence(Document 28263525,0,Markers of nucleic acids and proteins oxidation among office workers exposed to air pollutants including (nano)TiO2 particles.)\n",
      "Sentence(Document 28263531,0,The effects of cypermethrin on oxidative stress and antioxidant biomarkers in marbled crayfish (Procambarus fallax f. virginalis).)\n",
      "Sentence(Document 28263532,0,Acute toxicity effect of cypermethrin on common carp (Cyprinus carpio).)\n",
      "Sentence(Document 28263535,0,Exposure of rats to exogenous endocrine disruptors 17alpha-ethinylestradiol and benzo(a)pyrene and an estrogenic hormone estradiol induces expression of cytochromes P450 involved in their metabolism.)\n",
      "Sentence(Document 28263541,0,Phone camera detection of glucose blood level based on magnetic particles entrapped inside bubble wrap.)\n",
      "Sentence(Document 28263542,0,Smartphone-based colorimetric detection of glutathione.)\n",
      "Sentence(Document 28263550,0,Immunochemical detection of a-synuclein autoantibodies in Parkinson's disease: correlation between plasma and CSF levels.)\n",
      "Sentence(Document 28263676,0,Survival and DNA Damage in Plant Seeds Exposed for 558 and 682 Days outside the International Space Station.)\n",
      "Sentence(Document 28263701,0,Early Sorafenib-related Biomarkers for Combination Treatment with Transarterial Chemoembolization and Sorafenib in Patients with Hepatocellular Carcinoma.)\n",
      "Sentence(Document 28263738,0,Long noncoding RNA CCAT2 can predict metastasis and a poor prognosis: A meta-analysis.)\n",
      "Sentence(Document 28263741,0,The impact of automated hippocampal volumetry on diagnostic confidence in patients with suspected Alzheimer's disease: An EADC study.)\n",
      "Sentence(Document 28263742,0,Two-level diagnostic classification using cerebrospinal fluid YKL-40 in Alzheimer's disease.)\n",
      "Sentence(Document 28263753,0,The maternal plasma proteome changes as a function of gestational age in normal pregnancy: a longitudinal study.)\n",
      "Sentence(Document 28263831,0,Involvement of serotonin 2A receptor activation in modulating medial prefrontal cortex and amygdala neuronal activation during novelty-exposure.)\n",
      "Sentence(Document 28263860,0,Subcellular distribution of the 18kDa translocator protein and transcript variant PBR-S in human cells.)\n",
      "Sentence(Document 28263922,0,Citrulline and Monocyte-Derived Macrophage Reactivity Prior to Conditioning Predict Acute Graft-Verus-Host Disease.)\n",
      "Sentence(Document 28263944,0,Big Science: Research Collaboration for Evidence-Based Care.)\n",
      "Sentence(Document 28263949,0,Comparison of 2D and 3D modeled tumor motion estimation/prediction for dynamic tumor tracking during arc radiotherapy.)\n",
      "Sentence(Document 28263955,0,Pathway Cross-Talk Analysis in Detecting Significant Pathways in Barrett's Esophagus Patients.)\n",
      "Sentence(Document 28263971,0,EGFR-mediated macrophage activation promotes colitis-associated tumorigenesis.)\n",
      "Sentence(Document 28263981,0,Piccolo mediates EGFR signaling and acts as a prognostic biomarker in esophageal squamous cell carcinoma.)\n",
      "Sentence(Document 28264007,0,Biomarkers are used to predict quantitative metabolite concentration profiles in human red blood cells.)\n",
      "Sentence(Document 28264009,0,Assessment of intratumor hypoxia by integrated 18F-FDG PET / perfusion CT in a liver tumor model.)\n",
      "Sentence(Document 28264037,0,Cognitive change trajectories in virally suppressed HIV-infected individuals indicate high prevalence of disease activity.)\n",
      "Sentence(Document 28264059,0,Biomarker-based diagnosis of pacemaker and implantable cardioverter defibrillator pocket infections: A prospective, multicentre, case-control evaluation.)\n",
      "Sentence(Document 28264063,0,Acute death of astrocytes in blast-exposed rat organotypic hippocampal slice cultures.)\n",
      "Sentence(Document 28264072,0,The brain-specific RasGEF very-KIND is required for normal dendritic growth in cerebellar granule cells and proper motor coordination.)\n",
      "Sentence(Document 28264096,0,Diagnostic and Prognostic Biomarkers in Amyotrophic Lateral Sclerosis: Neurofilament Light Chain Levels in Definite Subtypes of Disease.)\n",
      "Sentence(Document 28264098,0,Intravitreally Injected Fluid Dispersion: Importance of Injection Technique.)\n",
      "Sentence(Document 28264149,0,Hippocampal a7 nicotinic ACh receptors contribute to modulation of depression-like behaviour in C57BL/6J mice.)\n",
      "Sentence(Document 28264152,0,Building Electromagnetic Hot Spots in Living Cells via Target-Triggered Nanoparticle Dimerization.)\n",
      "Sentence(Document 28264195,0,Paleoproterozoic sterol biosynthesis and the rise of oxygen.)\n",
      "Sentence(Document 28264198,0,Risk Assessment Scores for Cancer-Associated Venous Thromboembolic Disease.)\n",
      "Sentence(Document 5276808,0,The aim of the study is to investigate the relationship among age, first- and second-order Theory of Mind and the increasing ability of children to understand and produce different kinds of communicative acts – sincere, ironic, and deceitful communicative acts – expressed through linguistic and extralinguistic expressive means.)\n",
      "Sentence(Document 5276812,0,The sphincter of Oddi (SO) is a smooth muscle valve regulating the flow of biliary and pancreatic secretions into the duodenum, initially described in 1887 by the Italian anatomist, Ruggero Oddi.)\n",
      "Sentence(Document 5276816,0,Neuroendocrine tumors (NETs) comprise a heterogeneous group of malignancies that express neuropeptides as synaptophysin, chromogranin A (CgA), and specific neuronal enolase (NSE), among others.)\n",
      "Sentence(Document 5276820,0,Organ tissue engineering, including cardiovascular tissues, has been an area of intense investigation.)\n",
      "Sentence(Document 5276851,0,Recirculating aquaculture systems (RAS) are unique engineered ecosystems that minimize environmental perturbation by reducing nutrient pollution discharge.)\n",
      "Sentence(Document 5276855,0,Cardiovascular disease is a common co-morbidity and leading cause of death in patients with type 2 diabetes mellitus (T2DM).)\n",
      "Sentence(Document 5276996,0,Vascular endothelial growth factor (VEGF) is well known as the growth factor with wide-ranging functions even in the central nervous system (CNS).)\n",
      "Sentence(Document 5277008,0,The immune system is complex and pervasive as it functions to prevent or limit infections in the human body.)\n",
      "Sentence(Document 5277010,0,Consumption of a Western Diet (WD) that is high in saturated fat and added sugars negatively impacts cognitive function, particularly mnemonic processes that rely on the integrity of the hippocampus.)\n",
      "Sentence(Document 5278184,0,To identify the cause of a sudden binocular vision decrease in patients with retinitis pigmentosa and bilateral idiopathic demyelinating optic neuritis is difficult, but early diagnosis and treatment significantly improve the prognosis.)\n",
      "Sentence(Document 5278190,0,Understanding the mechanisms of glioblastoma at the molecular and structural level is not only interesting for basic science but also valuable for biotechnological application, such as the clinical treatment.)\n",
      "Sentence(Document 5278192,0,Xinnaoshutong capsule (XC) is a traditional Chinese prescription derived from the ripe fruit of  L. (TT).)\n",
      "Sentence(Document 5278195,0,Hormone replacement therapy (HRT) increases the risk of endometrial and breast cancer.)\n",
      "Sentence(Document 5278196,0,Autoimmune liver diseases (AILDs) often coexist with other extrahepatic autoimmune diseases (EHAIDs).)\n",
      "Sentence(Document 5278197,0,.)\n",
      "Sentence(Document 5278198,0,Silicon (Si) is one of the most prevalent elements in the soil.)\n",
      "Sentence(Document 5278202,0,Diabetic polyneuropathy (DPN) encompasses multiple syndromes with a common pathogenesis.)\n",
      "Sentence(Document 5278203,0,The control of gene expression by microRNAs (miRNAs, miR) influences many cellular functions, including cellular differentiation, cell proliferation, cell development, and functional regulation of the immune system.)\n",
      "Sentence(Document 5278207,0,is the causative agent of cholera and annually leads to death of thousands of people around the globe.)\n",
      "Sentence(Document 5278209,0,RNA-binding proteins (RBPs) and miRNAs are capable of controlling processes in normal development and cancer.)\n",
      "Sentence(Document 5278210,0,The physical properties of the extracellular matrix (ECM), such as stiffness, are involved in the determination of the characteristics of cancer cells, including chemotherapy sensitivity.)\n",
      "Sentence(Document 5278211,0,To investigate the expression and target genes of pigment epithelium-derived factor (PEDF) in cartilage and chondrocytes, respectively.)\n",
      "Sentence(Document 5278212,0,Anaemia is common in inflammatory bowel disease (IBD), frequently resulting from a combination of iron deficiency and of anaemia of chronic disease (ACD).)\n",
      "Sentence(Document 5278216,0,This study was designed to explore the impact of Yoga and Meditation based lifestyle intervention (YMLI) on cellular aging in apparently healthy individuals.)\n",
      "Sentence(Document 5278218,0,Hybrid Assistive Neuromuscular Dynamic Stimulation (HANDS) therapy is one of the neurorehabilitation therapeutic approaches that facilitates the use of the paretic upper extremity (UE) in daily life by combining closed-loop electromyography- (EMG-) controlled neuromuscular electrical stimulation (NMES) with a wrist-hand splint.)\n",
      "Sentence(Document 5278219,0,Mitochondrial ferritin (FtMt) is a mitochondrial iron storage protein which protects mitochondria from iron-induced oxidative damage.)\n",
      "Sentence(Document 5278222,0,Psychological distress, defined as depression, anxiety, and insomnia in this study, can occur following the birth of a baby as new mothers, in addition to marked physiological changes, are faced with adapting to new roles and responsibilities.)\n",
      "Sentence(Document 5278224,0,Mesenchymal progenitor cell characteristics that can identify progenitor populations with specific functions in immunity are actively being investigated.)\n",
      "Sentence(Document 5278225,0,Oxidative stress is involved in pathophysiology and pathological conditions of numerous human diseases.)\n",
      "Sentence(Document 5278226,0,Induced pluripotent stem cells (iPSC) constitute a powerful tool to study cardiac physiology and represents a promising treatment strategy to tackle cardiac disease.)\n",
      "Sentence(Document 5278229,0,Recently, the cytotoxic effects of apigenin (4′,5,7-trihydroxyflavone), particularly its marked inhibition of cancer cell viability both in vitro and in vivo, have attracted the attention of the anticancer drug discovery field.)\n",
      "Sentence(Document 5278230,0,Monocyte-derived macrophages participate in infaust inflammatory responses by secreting various types of proinflammatory factors, resulting in further inflammatory reactions in atherosclerotic plaques.)\n",
      "Sentence(Document 5278231,0,Despite evidences of association between basic redox biology and metabolic syndrome (MetS), few studies have evaluated indices that account for multiple oxidative effectors for MetS.)\n",
      "Sentence(Document 5278232,0,Chronic alcohol consumption causes hippocampal neuronal impairment, which is associated with oxidative stress and apoptosis.)\n",
      "Sentence(Document 5278260,0,Huntington’s disease (HD) is a progressive, monogenic dominant neurodegenerative disorder caused by repeat expansion mutation in the huntingtin gene.)\n",
      "Sentence(Document 5278518,0,We investigated the harmful effects of exposure to a toner with external additives by a long-term inhalation study using rats, examining pulmonary inflammation, oxidative stress, and histopathological changes in the lung.)\n",
      "Sentence(Document 5281646,0,Herring-eating killer whales debilitate herring with underwater tail slaps and likely herd herring into tighter schools using a feeding-specific low-frequency pulsed call (‘herding’ call).)\n",
      "Sentence(Document 5282408,0,Polymyositis (PM) is a chronic disease characterized by muscle pain, weakness, and increase in muscle-related enzymes, accompanied with inflammations in lymphocytes.)\n",
      "Sentence(Document 5282418,0,.)\n",
      "Sentence(Document 5282419,0,The most common malignant tumor of the urinary bladder is transitional cell carcinoma (TCC).)\n",
      "Sentence(Document 5282420,0,Bunge is an important traditional Chinese medicine (TCM).)\n",
      "Sentence(Document 5282421,0,The overuse of glucocorticoid may cause the metabolic disorders affecting the long term outcome of liver transplantation.)\n",
      "Sentence(Document 5282428,0,The present study describes the use of the traditional species  for treating wounds, such as ulcers scarring and antileishmanial wounds.)\n",
      "Sentence(Document 5282432,0,.)\n",
      "Sentence(Document 5282433,0,Because the human heart has limited potential for regeneration, the loss of cardiomyocytes during cardiac myopathy and ischaemic injury can result in heart failure and death.)\n",
      "Sentence(Document 5282434,0,.)\n",
      "Sentence(Document 5282435,0,A full-length cDNA of lebocin 5 (BmLeb5) was first cloned from silkworm, , by rapid amplification of cDNA ends.)\n",
      "Sentence(Document 5282436,0,.)\n",
      "Sentence(Document 5282437,0,There is accumulating evidence that the intestinal barrier and the microbiota may play a role in the systemic inflammation present in HD patients.)\n",
      "Sentence(Document 5282442,0,Critical limb ischemia (CLI) is the end stage of lower extremity peripheral vascular disease (PVD) in which severe obstruction of blood flow results in ischemic rest pain, ulcers and/or gangrene, and a significant risk of limb loss.)\n",
      "Sentence(Document 5282445,0,L. (noni) has been shown to treat different disorders.)\n",
      "Sentence(Document 5282446,0,Hypoxia is an important and influential factor in development.)\n",
      "Sentence(Document 5282447,0,In humans and other mammals, the neural retina does not spontaneously regenerate, and damage to the retina that kills retinal neurons results in permanent blindness.)\n",
      "Sentence(Document 5282448,0,p53 constitutes an extremely versatile molecule, primarily involved in sensing the variety of cellular stresses.)\n",
      "Sentence(Document 5282455,0,Diabetic nephropathy (DN) is the leading cause of end-stage renal disease, partly because of the lack of effective treatments for DN.)\n",
      "Sentence(Document 5282457,0,Cell-SELEX is performed to select for cell binding aptamers.)\n",
      "Sentence(Document 5283505,0,Behavioral observation techniques which relate action to personality have long been neglected (Furr and Funder in Handbook of research methods in personality psychology, The Guilford Press, New York,  ) and, when employed, often use human judges to code behavior.)\n",
      "Sentence(Document 5283509,0,We examined the effects of social and cultural contexts on smiles displayed by children during gameplay.)\n",
      "Sentence(Document 5285419,0,The genetic architecture determinants of yield traits in peanut (  L.) are poorly understood.)\n",
      "Sentence(Document 5286466,0,Cytoplasmic stress granules (SGs) are critical for facilitating stress responses and for preventing the accumulation of misfolded proteins.)\n",
      "Sentence(Document 5286467,0,Oxidative stress plays a pivotal role in developing and accelerating retinal diseases including age-related macular degeneration (AMD), glaucoma, diabetic retinopathy (DR), and retinal vein occlusion (RVO).)\n",
      "Sentence(Document 5286483,0,Pyrroline-5-carboxylate reductase (P5CR1) is a universal housekeeping enzyme that catalyzes the reduction of Δ1-pyrroline-5-carboxylate (P5C) to proline with concomitant oxidation of NAD(P)H to NAD(P) .)\n",
      "Sentence(Document 5286488,0,We aim to identify levels of signal factors secreted by MSCs cultured in 2D monolayers (2D-MSCs), spheroids (spheroids MSCs), and cocultures of microvesicles (MVs) derived from 2D-MSCs or spheroid MSCs and retinal photoreceptor neurons.)\n",
      "Sentence(Document 5286538,0,Recently, clinical studies demonstrated that magnetic resonance relaxometry with determination of relaxation times T1 and T2  may aid in staging and management of liver fibrosis in patients suffering from viral hepatitis and steatohepatitis.)\n",
      "Sentence(Document 5286540,0,To explore the mechanisms by which andrographolide inhibits gastric cancer cell proliferation and metastasis, we employed the gastric cell line SGC7901 to investigate the anticancer effects of andrographolide.)\n",
      "Sentence(Document 5286542,0,is of major significance in food safety and human and veterinary medicine.)\n",
      "Sentence(Document 5286545,0,L. (MAL) extract has been used in traditional medicine for its cardioprotective and antiplatelet effects, while another herbal remedy,  (SCC), has been reported to have anti-inflammatory and antioxidant properties.)\n",
      "Sentence(Document 5287432,0,Food and agriculture commodity boards have become important funders of nutrition research.)\n",
      "Sentence(Document 5289305,0,We report high-pressure neutron powder diffraction measurements of the most hydrated phase in the MgSO –H O system, magnesium sulfate undecahydrate, including an analysis of the elastic strain tensor and observations concerning phase changes that occur at high pressure.)\n",
      "Sentence(Document 5289955,0,Tumor-associated lymphatic vessels (LVs) play multiple roles during tumor progression, including promotion of metastasis and regulation of antitumor immune responses by delivering antigen from the tumor bed to draining lymph nodes (LNs).)\n",
      "Sentence(Document 5289956,0,Aberrant activation of inflammation and excess accumulation of lipids play crucial role in the occurrence and progression of atherosclerosis (AS).)\n",
      "Sentence(Document 5289957,0,The present study was undertaken to compare the use of flow cytometry (FCM) and traditional culture methods for efficacy assessment of six disinfectants used in Quebec hospitals including: two quaternary ammonium-based, two activated hydrogen peroxide-based, one phenol-based, and one sodium hypochlorite-based.)\n",
      "Sentence(Document 5289958,0,Schizophrenia is a genetically related mental illness, in which the majority of genetic alterations occur in the non-coding regions of the human genome.)\n",
      "Sentence(Document 5289960,0,Phosphoprotein (P) of the Rabies virus (RABV) is critically required for viral replication and pathogenicity.)\n",
      "Sentence(Document 5289964,0,Anxiety impairs both inhibition of distraction and attentional focus.)\n",
      "Sentence(Document 5289965,0,1-octanol is a therapeutic candidate for disorders involving the abnormal activation of the T-type calcium current since it blocks this current specifically.)\n",
      "Sentence(Document 5289966,0,Invasive candidiasis is a leading cause of nosocomial bloodstream infection.)\n",
      "Sentence(Document 5289968,0,Lakes are significant sources of methane (CH ) to the atmosphere.)\n",
      "Sentence(Document 5289978,0,Epidemics caused by fungal plant pathogens pose a major threat to agro-ecosystems and impact global food security.)\n",
      "Sentence(Document 5289982,0,Intricate molecular interactions between neurons and glial cells underlie the creation of unique domains that are essential for saltatory conduction of action potentials by myelinated axons.)\n",
      "Sentence(Document 5289984,0,Aluminum-containing adjuvants usually referred as Alum are considered as T helper type-2 (Th2) adjuvants, while agonists of toll-like receptors (TLRs) are viewed as adjuvants that favor Th1/Th17 immunity.)\n",
      "Sentence(Document 5289988,0,Alzheimer's disease (AD) is a debilitating neurodegenerative disease that is affecting an increasing number of people.)\n",
      "Sentence(Document 5289989,0,(L.) R. Br.)\n",
      "Sentence(Document 5289990,0,Electroencephalography (EEG) offers a platform for studying the relationships between behavioral measures, such as blink rate and duration, with neural correlates of fatigue and attention, such as theta and alpha band power.)\n",
      "Sentence(Document 5289993,0,Particular groups of plant-beneficial fluorescent pseudomonads are not only root colonizers that provide plant disease suppression, but in addition are able to infect and kill insect larvae.)\n",
      "Sentence(Document 5289994,0,, or Group B   (GBS), is a gram-positive bacterial pathogen associated with infection during pregnancy and is a major cause of morbidity and mortality in neonates.)\n",
      "Sentence(Document 5289995,0,Although the biological fixation of CO  by chemolithoautotrophs provides a diverse suite of organic compounds utilized by chemoorganoheterotrophs as a carbon and energy source, the relative amounts of autotrophic C in chemotrophic microbial communities are not well-established.)\n",
      "Sentence(Document 5290290,0,Alfalfa is the most extensively cultivated forage legume, yet most alfalfa cultivars are not aluminum tolerant, and the molecular mechanisms underlying alfalfa responses to Al stress are largely unknown.)\n",
      "Sentence(Document 5290387,0,Virulence genes from different   pathotypes are blended in hybrid strains.)\n",
      "Sentence(Document 5291319,0,Rural communities value   in farming systems and pastoralism.)\n",
      "Sentence(Document 5291725,0,Canavan disease (CD) is a debilitating and lethal leukodystrophy caused by mutations in the aspartoacylase ( ) gene and the resulting defect in  -acetylaspartate (NAA) metabolism in the CNS and peripheral tissues.)\n",
      "Sentence(Document 5291726,0,Levamisole, an anthelmintic drug with cholinergic properties, has been implicated in cases of drug-induced vasculitis when added to cocaine for profit purposes.)\n",
      "Sentence(Document 5291727,0,There is tremendous excitement for the potential of epigenetic therapies in cancer, but the ability to predict and monitor response to these drugs remains elusive.)\n",
      "Sentence(Document 5291729,0,In the central nervous system, endothelial cells (ECs) and pericytes (PCs) of blood vessel walls cooperatively form a physical and chemical barrier to maintain neural homeostasis.)\n",
      "Sentence(Document 5291730,0,Chronic urethral obstruction and the ensuing bladder wall remodeling can lead to diminished bladder smooth muscle (BSM) contractility and debilitating lower urinary tract symptoms.)\n",
      "Sentence(Document 5291731,0,The heme oxygenase-1 ( ; HO-1) pathway was tested for defense of mitochondrial quality control in cardiomyocyte-specific   KO mice (HO-1[CM] ) exposed to oxidative stress (100% O ).)\n",
      "Sentence(Document 5291732,0,The fibrotic reaction, which can account for over 70%–80% of the tumor mass, is a characteristic feature of human pancreatic ductal adenocarcinoma (PDAC) tumors.)\n",
      "Sentence(Document 5291733,0,Excessive ROS promote allergic asthma, a condition characterized by airway inflammation, eosinophilic inflammation, and increased airway hyperreactivity (AHR).)\n",
      "Sentence(Document 5291735,0,No laboratory test can predict the risk of nonrelapse mortality (NRM) or severe graft-versus-host disease (GVHD) after hematopoietic cellular transplantation (HCT) prior to the onset of GVHD symptoms.)\n",
      "Sentence(Document 5291737,0,Pathogen-specific polyfunctional T cell responses have been associated with favorable clinical outcomes, but it is not known whether molecular differences exist between polyfunctional and monofunctional cytokine-producing T cells.)\n",
      "Sentence(Document 5291739,0,Rat and human CD4  and CD8  Tregs expressing low levels of CD45RC have strong immunoregulatory properties.)\n",
      "Sentence(Document 5291831,0,Over the past two decades, there has been a significant evolution in the technologies and techniques employed within the radiation oncology environment.)\n",
      "Sentence(Document 5292330,0,Chronic atrophic autoimmune gastritis (CAAG) is an organ-specific autoimmune disease characterized by an immune response, which is directed towards the parietal cells and intrinsic factor of the gastric body and fundus and leads to hypochlorhydria, hypergastrinemia and inadequate production of the intrinsic factor.)\n",
      "Sentence(Document 5292331,0,The upper digestive tract is routinely scoped for several causes of malabsorption, and the number of duodenal biopsy specimens has increased notably in the last 10 years.)\n",
      "Sentence(Document 5292350,0,The use of radio-opaque markers and abdominal X-ray is the standard method for determining colonic transit time (CTT).)\n",
      "Sentence(Document 5292904,0,Animal bodies are inhabited by a taxonomically and functionally diverse community of symbiotic and commensal microorganisms.)\n",
      "Sentence(Document 5294742,0,YB-1 (Y-box binding protein 1) is a multifunctional cold-shock protein that has been implicated in all hallmarks of cancer.)\n",
      "Sentence(Document 5295146,0,The Cockcroft-Gault (CG) equation has become perhaps the most popular practical approach for estimating renal function among health care professionals.)\n",
      "Sentence(Document 5295847,0,Bone is the single most frequent site for bone metastasis in breast cancer patients.)\n",
      "Sentence(Document 5296411,0,The human gastrointestinal microbiota functions as an important mediator of diet for host metabolism.)\n",
      "Sentence(Document 5296412,0,Understanding biogeographic patterns is a precursor to improving our knowledge of the function of microbiomes and to predicting ecosystem responses to environmental change.)\n",
      "Sentence(Document 5297138,0,CD20 negative B cell non-Hodgkin lymphoma (NHL) is rare and accounts for approximately 1-2% of B cell lymphomas.)\n",
      "Sentence(Document 5297148,0,Synovial sarcoma (SS) is an aggressive soft tissue sarcoma (STS) that typically occurs in the extremities near a joint.)\n",
      "Sentence(Document 5299068,0,Despite the fundamental importance of antibiotic therapies to human health, their functional impact on the intestinal microbiome and its subsequent ability to recover are poorly understood.)\n",
      "Sentence(Document 5299773,0,Angioimmunoblastic T-cell lymphoma (AITL) is one of the most common subtypes of peripheral T-cell lymphoma.)\n",
      "Sentence(Document 5299804,0,This article traces the history and evolution of statistics in the era of evidence based medicine, and focuses on the Indian perspective of this growth of statistics as a discipline for clinical research.)\n",
      "Sentence(Document 5299815,0,Occupational heat stress is a major health burden with several potential negative health and well-being outcomes.)\n",
      "Sentence(Document 5299996,0,Localized genomic variability is crucial for the ongoing conflicts between infectious microbes and their hosts.)\n",
      "Sentence(Document 5300914,0,Electronic cigarettes are novel tobacco products that are frequently used these days.)\n",
      "Sentence(Document 5304469,0,Bacterial pathogenicity islands and other contiguous operons can be difficult to clone using conventional methods due to their large size.)\n",
      "Sentence(Document 5304913,0,Seafood provides essential polyunsaturated fatty acids (PUFA) and other nutrients to pregnant women and their fetus(es) while a diet rich in finfish can be a major pathway of monomethyl mercury (MeHg ) exposure.)\n",
      "Sentence(Document 5305182,0,Amyotrophic lateral sclerosis (ALS) is a neurodegenerative disease with an average survival of 3–5 years.)\n",
      "Sentence(Document 5305183,0,Triple Negative Breast Cancer (TNBC) is characterized as a lack of expression of the hormonal receptors, estrogen and progesterone, and Human epidermal growth factor receptor 2 (HER2) and as such is unresponsive to current targeted therapy.)\n",
      "Sentence(Document 5305199,0,Children with autism spectrum disorder tend to have little interest in the presence, actions, and motives of other persons.)\n",
      "Sentence(Document 5313296,0,Epidemiological studies consistently show that prevalence of erectile dysfunction (ED) increases with ageing.)\n",
      "Sentence(Document 5313297,0,Erectile dysfunction (ED) is the most common male sexual dysfunction, and shares many risk factors with systemic conditions including cardiovascular disease (CVD) and the metabolic syndrome (MetS).)\n",
      "Sentence(Document 5313304,0,Hypoxia, the insufficient delivery of oxygen for the demand of a tissue, contributes to the development of an aggressive phenotype, resistance to radiation therapy and chemotherapy, and is predictive of a poor outcome in numerous tumor types.)\n",
      "Sentence(Document 5313312,0,Extracellular tumors found with the spermatic cord, known as neoplasms, are usually identified to be benign.)\n"
     ]
    }
   ],
   "source": [
    "import re\n",
    "#from snorkel.lf_terms import *\n",
    "from snorkel.lf_helpers import get_doc_candidate_spans\n",
    "from snorkel.lf_helpers import get_sent_candidate_spans\n",
    "from snorkel.lf_helpers import get_left_tokens, get_right_tokens\n",
    "\n",
    "#umls_dict              = load_umls_dictionary()\n",
    "#chemicals              = load_chemdner_dictionary()\n",
    "#abbrv2text, text2abbrv = load_specialist_abbreviations()\n",
    "\n",
    "keyWords = [\"associate\", \"express\", \"marker\", \"biomarker\", \"elevated\", \"decreased\",\n",
    "            \"correlation\", \"correlates\", \"found\", \"diagnose\", \"variant\", \"appear\",\n",
    "            \"connect\", \"relate\", \"exhibit\", \"indicate\", \"signify\", \"show\", \"demonstrate\",\n",
    "            \"reveal\", \"suggest\", \"evidence\", \"elevation\", \"indication\", \"diagnosis\",\n",
    "            \"variation\", \"modification\", \"suggestion\", \"link\", \"derivation\", \"denote\",\n",
    "            \"denotation\", \"demonstration\", \"magnification\", \"depression\", \"boost\", \"level\",\n",
    "            \"advance\", \"augmentation\", \"lessening\", \"enhancement\", \"expression\", \"buildup\",\n",
    "            \"diminishing\", \"diminishment\", \"reduction\", \"drop\", \"dwindling\", \"lowering\"]\n",
    "\n",
    "negationWords = [\"not\", \"nor\", \"neither\"]\n",
    "\n",
    "# Document-level LFs:\n",
    "#--------------------\n",
    "#def LF_undefined_abbreviation(c):\n",
    "#    '''Candidate is a known abbreviation, but no corresponding full name in document'''\n",
    "#    doc_spans = get_doc_candidate_spans(c)\n",
    "#    phrase = c[0].get_span().lower()\n",
    "#    mentions = set([s.get_span().lower() for s in doc_spans])\n",
    "#    if len(phrase) > 1 and phrase in abbrv2text and not set(abbrv2text[phrase].keys()).intersection(mentions):\n",
    "#        return -\n",
    "    \n",
    "# Sentence-level LFs:\n",
    "#---------------------\n",
    "def LF_contiguous_mentions(c):\n",
    "    '''Contiguous candidates are likely wrong'''\n",
    "    neighbor_spans = get_sent_candidate_spans(c)\n",
    "    start, end = c[0].get_word_start(), c[0].get_word_end()\n",
    "    for s in neighbor_spans:\n",
    "        if s.get_word_end() + 1 == start or s.get_word_start() - 1 == end:\n",
    "            return -1\n",
    "    return 0\n",
    "\n",
    "# Mention-level LFs:\n",
    "#-------------------\n",
    "def LF_tumors_growths(c):\n",
    "    phrase = \" \".join(c[0].get_attrib_tokens('lemmas'))\n",
    "    return 1 if re.search(\"^(\\w* ){0,2}(['] )*(tumor|tumour|polyp|pilomatricoma|cyst|lipoma)$\", phrase) else 0\n",
    "\n",
    "def LF_cancer(c):\n",
    "    '''<TYPE> cancer'''\n",
    "    phrase = \" \".join(c[0].get_attrib_tokens('lemmas'))\n",
    "    return 1 if re.search(\"\\w* cancer\",phrase) else 0\n",
    "\n",
    "def LF_disease_syndrome(c):\n",
    "    '''<TYPE> disease or <TYPE> syndrome'''\n",
    "    phrase = \" \".join(c[0].get_attrib_tokens('lemmas'))\n",
    "    return 1 if re.search(\"\\w* (disease|syndrome)+\",phrase) else 0\n",
    "\n",
    "#def LF_indicators(c):\n",
    "#    '''Indicator words'''\n",
    "#    return 1 if \" \".join(c[0].get_attrib_tokens()).lower() in indicators else 0\n",
    "\n",
    "#def LF_common_disease(c):\n",
    "#    '''Common disease'''\n",
    "#    return 1 if \" \".join(c[0].get_attrib_tokens()).lower() in common_disease else 0\n",
    "\n",
    "#def LF_common_disease_acronyms(c):\n",
    "#    '''Common disease acronyms'''\n",
    "#    return 1 if \" \".join(c[0].get_attrib_tokens()) in common_disease_acronyms else 0\n",
    "\n",
    "def LF_deficiency_of(c):\n",
    "    '''deficiency of <TYPE>'''\n",
    "    phrase = \" \".join(c[0].get_attrib_tokens()).lower()\n",
    "    return 1 if phrase.endswith('deficiency') or phrase.startswith('deficiency') or phrase.endswith('dysfunction') else 0\n",
    "\n",
    "#def LF_positive_indicator(c):\n",
    "#    flag = False\n",
    "#    for i in c[0].get_attrib_tokens():\n",
    "#        if i.lower() in positive_indicator:\n",
    "#            flag = True\n",
    "#            break\n",
    "#    return 1 if flag else 0\n",
    "\n",
    "def LF_left_positive_argument(c):    \n",
    "    phrase = \" \".join(c[0].get_attrib_tokens('lemmas')).lower()\n",
    "    pattern = \"(\\w+ ){1,2}(infection|lesion|neoplasm|attack|defect|anomaly|abnormality|degeneration|carcinoma|lymphoma|tumor|tumour|deficiency|malignancy|hypoplasia|disorder|deafness|weakness|condition|dysfunction|dystrophy)$\"\n",
    "    return 1 if re.search(pattern,phrase) else 0\n",
    "\n",
    "def LF_right_negative_argument(c):    \n",
    "    phrase = \" \".join(c[0].get_attrib_tokens('lemmas')).lower()\n",
    "    pattern = \"^(history of|mitochondrial|amino acid)( \\w+){1,2}\"\n",
    "    return 1 if re.search(pattern, phrase) else 0\n",
    "\n",
    "def LF_medical_afixes(c):\n",
    "    pattern = \"(\\w+(pathy|stasis|trophy|plasia|itis|osis|oma|asis|asia)$|^(hyper|hypo)\\w+)\"\n",
    "    phrase = \" \".join(c[0].get_attrib_tokens('lemmas')).lower()\n",
    "    return 1 if re.search(pattern,phrase) else 0\n",
    "\n",
    "#def LF_adj_diseases(c):\n",
    "#    return 1 if ' '.join(c[0].get_attrib_tokens()) in adj_diseases else 0\n",
    "\n",
    "\n",
    "# Dictionary LFs:\n",
    "#----------------\n",
    "#def LF_SNOWMED_CT_sign_or_symptom(c):\n",
    "#    return 1 if c[0].get_span() in umls_dict[\"snomedct\"][\"sign_or_symptom\"] else 0\n",
    "\n",
    "#def LF_SNOWMED_CT_disease_or_syndrome(c):\n",
    "#    return 1 if c[0].get_span() in umls_dict[\"snomedct\"][\"disease_or_syndrome\"] else 0\n",
    "\n",
    "#def LF_MESH_disease_or_syndrome(c):\n",
    "#    return 1 if c[0].get_span() in umls_dict[\"mesh\"][\"disease_or_syndrome\"] else 0\n",
    "\n",
    "#def LF_MESH_sign_or_symptom(c):\n",
    "#    return 1 if c[0].get_span() in umls_dict[\"mesh\"][\"sign_or_symptom\"] else 0\n",
    "\n",
    "\n",
    "# Negative LFs:\n",
    "#--------------\n",
    "#def LF_organs(c):\n",
    "#    phrase = \" \".join(c[0].get_attrib_tokens()).lower()\n",
    "#    return -1 if phrase in organs else 0      \n",
    "\n",
    "#def LF_chemical_name(c):\n",
    "#    phrase = \" \".join(c[0].get_attrib_tokens())\n",
    "#    return -1 if phrase in chemicals and not phrase.isupper() else 0\n",
    "\n",
    "#def LF_bodysym(c):\n",
    "#    phrase = \" \".join(c[0].get_attrib_tokens()).lower()\n",
    "#    return -1 if phrase in bodysym else 0  \n",
    "\n",
    "def LF_protein_chemical_abbrv(c):\n",
    "    '''Gene/protein/chemical name'''\n",
    "    lemma = \" \".join(c[0].get_attrib_tokens('lemmas'))\n",
    "    return -1 if re.search(\"\\d+\",lemma) else 0\n",
    "\n",
    "def LF_base_pair_seq(c): \n",
    "    lemma = \" \".join(c[0].get_attrib_tokens('lemmas'))\n",
    "    return -1 if re.search(\"^[GACT]{2,}$\",lemma) else 0\n",
    "\n",
    "#def LF_too_vague(c):\n",
    "#    phrase = \" \".join(c[0].get_attrib_tokens('lemmas')).lower()\n",
    "#    phrase_ = \" \".join(c[0].get_attrib_tokens()).lower()\n",
    "#    return -1 if phrase in vague or phrase_ in vague else 0\n",
    "\n",
    "def LF_neg_surfix(c):\n",
    "    terms = ['deficiency', 'the', 'the', 'of', 'to', 'a']\n",
    "    rw = get_right_tokens(c, window=1, attrib='lemmas')\n",
    "    if len(rw) > 0 and rw[0].lower() in terms:\n",
    "        return -1\n",
    "    return 0\n",
    "\n",
    "#def LF_non_common_disease(c):\n",
    "#    '''Non common diseases'''\n",
    "#    return -1 if \" \".join(c[0].get_attrib_tokens()).lower() in non_common_disease else 0\n",
    "\n",
    "#def LF_non_disease_acronyms(c):\n",
    "#    '''Non common disease acronyms'''\n",
    "#    return -1 if \" \".join(c[0].get_attrib_tokens()) in non_disease_acronyms else 0\n",
    "\n",
    "def LF_pos_in(c):\n",
    "    '''Candidates beginning with a preposition or subordinating conjunction'''\n",
    "    pos_tags = c[0].get_attrib_tokens('pos_tags')\n",
    "    return -1 if \"IN\" in pos_tags[0:1] else 0\n",
    "\n",
    "\n",
    "#def LF_right_window_incomplete(c):\n",
    "#    return -1 if right_terms.intersection(get_right_tokens(c, window=2, attrib='lemmas')) else 0\n",
    "\n",
    "#def LF_negative_indicator(c):\n",
    "#    flag = False\n",
    "#    for i in c[0].get_attrib_tokens():\n",
    "#        if i.lower() in negative_indicator:\n",
    "#            flag = True\n",
    "#            break\n",
    "#    return -1 if flag else 0\n",
    "\n",
    "x = '''\n",
    "# extra custom\n",
    "#--------------\n",
    "def presenceOfNot(m):\n",
    "    for word in negationWords:\n",
    "        if (word in m[0].get_right_tokens('lemmas', 20)) and (word in m.pre_window2('lemmas', 20)):\n",
    "            return True\n",
    "    return False\n",
    "# 1\n",
    "def LF_remove_same_word(m):\n",
    "    if(m.mention1(attribute='words')[0] == m.mention2(attribute='words')[0]):\n",
    "        return -1\n",
    "    \n",
    "def LF_distance(m):\n",
    "    print \"FIRST\"\n",
    "    print type(m)\n",
    "    # if 'neuroendocrine' in m.lemmas:\n",
    "    #     print m.lemmas\n",
    "    # print m.dep_labels\n",
    "    distance = abs(m.e2_idxs[0] - m.e1_idxs[0])\n",
    "    count = 0\n",
    "    for lemma in m.lemmas:\n",
    "        if lemma == ',':\n",
    "            count += 1\n",
    "    if count > 1 and ',' in m.pre_window1('lemmas', 1):\n",
    "        print m\n",
    "        return 0\n",
    "    if distance == 0:\n",
    "        return -1\n",
    "    if distance < 8:\n",
    "        # print \"RETURNING ONE\"\n",
    "        return 0\n",
    "    else:\n",
    "        return -1\n",
    "    \n",
    "def LF_roman_numeral(m):\n",
    "    biomarker = (m.mention1(attribute='words')[0])\n",
    "    unicodedata.normalize('NFKD', biomarker).encode('ascii','ignore')\n",
    "    if re.match(r'((?<=\\s)|(?<=^))(M{1,4}(CM|CD|D?C{0,3})(XC|XL|L?X{0,3})(IX|IV|V?I{0,3})|M{0,4}(CM|CD|D?C{1,3})(XC|XL|L?X{0,3})(IX|IV|V?I{0,3})|M{0,4}(CM|CD|D?C{0,3})(XC|XL|L?X{1,3})(IX|IV|V?I{0,3})|M{0,4}(CM|CD|D?C{0,3})(XC|XL|L?X{0,3})(IX|IV|V?I{1,3}))(?=\\s)',\n",
    "                biomarker):\n",
    "        print \"MATCHED ROMAN\"\n",
    "        print m.mention1(attribute='words')\n",
    "        return -1\n",
    "\n",
    "# 4\n",
    "def LF_marker(m):\n",
    "    return 1 if ( ('marker' in m[0].get_attrib_tokens('lemmas', 6) or 'biomarker' in m[.post_window1('lemmas', 6)) and (\n",
    "        'marker' in m.pre_window2('lemmas', 6) or 'biomarker' in m.pre_window2('lemmas', 6)) ) or (('marker' in m.pre_window1('lemmas', 6) or 'biomarker' in m.pre_window1('lemmas', 6)) and (\n",
    "        'marker' in m.post_window2('lemmas', 6) or 'biomarker' in m.post_window2('lemmas', 6)))  else 0\n",
    "\n",
    "# 9 (-1 if biomarker is confused with a name of a person)\n",
    "def LF_People(m):\n",
    "    return -1 if ('NNP' in m.mention1(attribute='poses')) else 0\n",
    "# 51\n",
    "def LF_possible(m):\n",
    "    return -1 if ('possible' in m.pre_window1('lemmas', 20)) else 0\n",
    "# 52\n",
    "def LF_explore(m):\n",
    "    return -1 if ('explore' in m.pre_window1('lemmas', 20)) else 0\n",
    "# 53\n",
    "def LF_key(m):\n",
    "    # print m.pre_window1('lemmas', 20)\n",
    "    return -1 if ('abbreviation' in m.pre_window1('lemmas', 20) or (\n",
    "        'word' in m.pre_window1('lemmas', 20) and 'key' in m.pre_window1('lemmas', 20))) else 0\n",
    "# 54\n",
    "def LF_investigate(m):\n",
    "    return -1 if ('investigate' in m.pre_window1('lemmas', 20)) else 0\n",
    "# 55\n",
    "def LF_yetToBeConfirmed(m):\n",
    "    return -1 if ('yet' in m.post_window1('lemmas', 20) and 'to' in m.post_window1('lemmas', 20) and 'be' in m.post_window1(\n",
    "        'lemmas', 20) and 'confirmed' in m.post_window1('lemmas', 20)) else 0\n",
    "# 56\n",
    "def LF_notAssociated(m):\n",
    "    return -1 if ('not' in m.post_window1('lemmas', 20) and 'associated' in m.post_window2('lemmas', 20)) else 0\n",
    "# 56\n",
    "def LF_notRelated(m):\n",
    "    return -1 if ('not' in m.post_window1('lemmas', 20) and 'related' in m.post_window2('lemmas', 20)) else 0\n",
    "# 57\n",
    "def LF_doesNotShow(m):\n",
    "    return -1 if (\n",
    "        'does' in m.post_window1('lemmas', 20) and 'not' in m.post_window1('lemmas', 20) and 'show' in m.post_window2(\n",
    "            'lemmas', 20)) else 0\n",
    "# 58\n",
    "def LF_notLinked(m):\n",
    "    return -1 if ('not' in m.post_window1('lemmas', 20) and 'linked' in m.post_window2('lemmas', 20)) else 0\n",
    "# 59\n",
    "def LF_notCorrelated(m):\n",
    "    return -1 if ('not' in m.post_window1('lemmas', 20) and 'correlated' in m.post_window2('lemmas', 20)) else 0\n",
    "# 60\n",
    "def LF_disprove(m):\n",
    "    return -1 if ('disprove' in m.post_window1('lemmas', 20)) else 0\n",
    "# 62\n",
    "def LF_doesNotSignify(m):\n",
    "    return -1 if (\n",
    "        'does' in m.post_window1('lemmas', 20) and 'not' in m.post_window1('lemmas', 20) and 'signify' in m.post_window(\n",
    "            'lemmas', 20)) else 0\n",
    "# 63\n",
    "def LF_doesNotIndicate(m):\n",
    "    print \"SECOND\"\n",
    "    return -1 if (\n",
    "        'does' in m.post_window1('lemmas', 20) and 'not' in m.post_window1('lemmas', 20) and 'indicate' in m.post_window(\n",
    "            'lemmas', 20)) else 0\n",
    "# 64\n",
    "def LF_doesNotImply(m):\n",
    "    print \"THIRD\"\n",
    "    return -1 if (\n",
    "        'does' in m.post_window1('lemmas', 20) and 'not' in m.post_window1('lemmas', 20) and 'imply' in m.post_window(\n",
    "            'lemmas', 20)) else 0\n",
    "# 65\n",
    "def LF_studies(m):\n",
    "    return 1 if (\n",
    "        'studies' in m.pre_window1('lemmas', 20) and 'have' in m.pre_window1('lemmas', 20) and'reported' in m.pre_window1(\n",
    "            'lemmas', 20)) else 0\n",
    "# 66\n",
    "def LF_studies2(m):\n",
    "    return 1 if (\n",
    "        'studies' in m.pre_window1('lemmas', 20) and 'have' in m.pre_window1('lemmas', 20) and 'disclosed' in m.pre_window1(\n",
    "            'lemmas', 20)) else 0\n",
    "# 67\n",
    "def LF_studies3(m):\n",
    "    return 1 if (\n",
    "        'studies' in m.pre_window1('lemmas', 20) and 'have' in m.pre_window1('lemmas', 20) and'disclosed' in m.pre_window1('lemmas', 20)) else 0\n",
    "# 68\n",
    "def LF_studies4(m):\n",
    "    return 1 if (\n",
    "        'studies' in m.pre_window1('lemmas', 20) and 'have' in m.pre_window1('lemmas', 20) and 'expressed' in m.pre_window1(\n",
    "            'lemmas', 20)) else 0\n",
    "# 69\n",
    "def LF_interesting(m):\n",
    "    return 1 if (\n",
    "        'is' in m.post_window1('lemmas', 20) and 'an' in m.post_window1('lemmas', 20) and 'interesting' in m.post_window1(\n",
    "            'lemmas', 20) and 'target' in m.post_window1('lemmas', 20) and 'is' in m.pre_window2('lemmas', 20) and 'an' in\n",
    "        m.pre_window2('lemmas', 20) and 'interesting' in m.pre_window2('lemmas', 20) and 'target' in m.pre_window2(\n",
    "            'lemmas', 20)) else 0\n",
    "# 70\n",
    "def LF_discussion(m):\n",
    "    return 1 if (\n",
    "        'discussion' in m.pre_window1('lemmas', 20)) else 0\n",
    "# 71\n",
    "def LF_conclusion(m):\n",
    "    if ('conclusion' in m.pre_window1('lemmas', 20) or 'conclusion' in m.pre_window2('lemmas', 20)):\n",
    "        # print \"FOUND\"\n",
    "        return 1\n",
    "    else:\n",
    "        return 0\n",
    "# 72\n",
    "def LF_recently(m):\n",
    "    return 1 if (\n",
    "        'recently' in m.pre_window1('lemmas', 20) or 'recently' in m.post_window1('lemmas', 20)) else 0\n",
    "# 73\n",
    "def LF_induced(m):\n",
    "    return 1 if (\n",
    "        'induced' in m.post_window1('lemmas', 20) and 'induced' in m.pre_window2('lemmas', 20)) else 0\n",
    "# 74\n",
    "def LF_treatment(m):\n",
    "    return 1 if (\n",
    "        'treatment' in m.pre_window1('lemmas', 20) or 'treatment' in m.post_window1('lemmas', 20)) else 0\n",
    "# 75\n",
    "def LF_auxpass(m):\n",
    "    if not ('auxpass' and 'aux') in (m.post_window1('dep_labels', 20) and m.pre_window2('dep_labels', 20)):\n",
    "        return -1\n",
    "    else:\n",
    "        return 0\n",
    "# 75\n",
    "def LF_inbetween(m):\n",
    "    # with open('diseaseDatabase.pickle', 'rb') as f:\n",
    "    #     diseaseDictionary = pickle.load(f)\n",
    "    # with open('diseaseAbbreviationsDatabase.pickle', 'rb') as f:\n",
    "    #     diseaseAbb = pickle.load(f)\n",
    "    # with open('markerData.pickle', 'rb') as f:\n",
    "    #     markerDatabase = pickle.load(f)\n",
    "    # for marker in markerDatabase:\n",
    "    #     if(marker in list[m.e1_idxs[0] : m.e2_idxs[0]]):\n",
    "    #         return -1\n",
    "    # for disease in diseaseDictionary:\n",
    "    #     if (disease in list[m.e1_idxs[0]: m.e2_idxs[0]]):\n",
    "    #         return -1\n",
    "    # for disease in diseaseAbb:\n",
    "    #     if (marker in list[m.e1_idxs[0]: m.e2_idxs[0]]):\n",
    "    #         return -1\n",
    "    return 0\n",
    "# 76\n",
    "def LF_patientsWith(m):\n",
    "    return 1 if ('patient' in m.post_window2('lemmas', 3)) and ('with' in m.post_window2('lemmas',2)) else 0\n",
    "# 77\n",
    "def LF_isaBiomarker(m):\n",
    "    post_window1_lemmas = m.post_window1('lemmas',20)\n",
    "    pre_window2_lemmas = m.pre_window2('lemmas',20)\n",
    "    if ('biomarker' in post_window1_lemmas and 'biomarker' in pre_window2_lemmas) or ('marker' in post_window1_lemmas and 'marker' in pre_window2_lemmas) or ('indicator' in post_window1_lemmas and 'indicator' in pre_window2_lemmas):\n",
    "        marker_idx_post_window1 = -1\n",
    "        markers = ['biomarker','marker','indicator']\n",
    "        for marker in markers:\n",
    "            try:\n",
    "                # print post_window1_lemmas\n",
    "                findMarker = post_window1_lemmas.index(marker)\n",
    "                if not findMarker == -1:\n",
    "                    marker_idx_post_window1 = findMarker\n",
    "                    print marker\n",
    "            except:\n",
    "                pass\n",
    "        if 'cop' in m.post_window1('dep_labels',20):\n",
    "            try:\n",
    "                cop_idx_post_window1 = m.post_window1('dep_labels',20).index('cop')\n",
    "            except:\n",
    "                pass\n",
    "            \n",
    "            print \"MarkerIdx:\"\n",
    "            print marker_idx_post_window1\n",
    "            print \"ROOTIdx:\"\n",
    "            try:\n",
    "                print  m.post_window1('dep_labels',marker_idx_post_window1)\n",
    "                print  m.post_window1('dep_labels',marker_idx_post_window1).index('ROOT')\n",
    "            except:\n",
    "                pass\n",
    "            print '\\n'\n",
    "            \n",
    "            return 1 if ('nsubj' in m.mention1(attribute='dep_labels')) and (marker_idx_post_window1-cop_idx_post_window1 < 4)  else 0\n",
    "    return 0\n",
    "# 78\n",
    "def LF_suspect(m):\n",
    "    return -1 if ('suspect' in m.pre_window1('lemmas', 20) or 'suspect' in m.post_window1('lemmas', 20)) else 0\n",
    "# 79\n",
    "def LF_mark(m):\n",
    "    return -1 if ( 'vmod' in m.post_window1('dep_labels', 20) and 'mark' in m.post_window1('dep_labels', 20) or'vmod' in m.pre_window1('dep_labels', 20) and 'mark' in m.pre_window1('dep_labels', 20)) else 0\n",
    "'''\n",
    "        "
   ]
  },
  {
   "cell_type": "code",
   "execution_count": null,
   "metadata": {
    "collapsed": true
   },
   "outputs": [],
   "source": [
    "LFs = [LF_contiguous_mentions, LF_tumors_growths, LF_cancer, LF_disease_syndrome, LF_deficiency_of, LF_left_positive_argument, LF_right_negative_argument, LF_medical_afixes, LF_protein_chemical_abbrv, LF_base_pair_seq, LF_neg_surfix, LF_pos_in]\n",
    "from snorkel.annotations import LabelAnnotator\n",
    "labeler = LabelAnnotator(lfs=LFs)\n",
    "%time L_train = labeler.apply(split=0)\n",
    "L_train\n",
    "L_train.lf_stats(session)"
   ]
  },
  {
   "cell_type": "markdown",
   "metadata": {},
   "source": [
    "## Training the Generative Model"
   ]
  },
  {
   "cell_type": "code",
   "execution_count": null,
   "metadata": {
    "collapsed": true
   },
   "outputs": [],
   "source": [
    "from snorkel.learning.structure import DependencySelector\n",
    "ds = DependencySelector()\n",
    "deps = ds.select(L_train, threshold=0.1)\n",
    "len(deps)"
   ]
  },
  {
   "cell_type": "code",
   "execution_count": null,
   "metadata": {
    "collapsed": true
   },
   "outputs": [],
   "source": [
    "deps"
   ]
  },
  {
   "cell_type": "code",
   "execution_count": null,
   "metadata": {
    "collapsed": true
   },
   "outputs": [],
   "source": [
    "deps = set()"
   ]
  },
  {
   "cell_type": "code",
   "execution_count": null,
   "metadata": {
    "collapsed": true
   },
   "outputs": [],
   "source": [
    "from snorkel.learning import GenerativeModel\n",
    "\n",
    "gen_model = GenerativeModel(lf_propensity=True)\n",
    "gen_model.train(\n",
    "    L_train, deps=deps, decay=0.95, step_size=0.1/L_train.shape[0], reg_param=0.0\n",
    ")"
   ]
  },
  {
   "cell_type": "code",
   "execution_count": null,
   "metadata": {
    "collapsed": true
   },
   "outputs": [],
   "source": [
    "train_marginals = gen_model.marginals(L_train)"
   ]
  },
  {
   "cell_type": "code",
   "execution_count": null,
   "metadata": {
    "collapsed": true
   },
   "outputs": [],
   "source": [
    "import matplotlib.pyplot as plt\n",
    "plt.hist(train_marginals, bins=20)\n",
    "plt.show()"
   ]
  },
  {
   "cell_type": "code",
   "execution_count": null,
   "metadata": {
    "collapsed": true
   },
   "outputs": [],
   "source": [
    "gen_model.learned_lf_stats()"
   ]
  },
  {
   "cell_type": "code",
   "execution_count": null,
   "metadata": {
    "collapsed": true
   },
   "outputs": [],
   "source": [
    "from snorkel.annotations import save_marginals\n",
    "save_marginals(session, L_train, train_marginals)"
   ]
  },
  {
   "cell_type": "markdown",
   "metadata": {},
   "source": [
    "## Now, gold labels"
   ]
  },
  {
   "cell_type": "code",
   "execution_count": 9,
   "metadata": {
    "scrolled": true
   },
   "outputs": [
    {
     "name": "stdout",
     "output_type": "stream",
     "text": [
      "defaultdict(<type 'set'>, {'28261310': set([('b1', 'c2'), ('b1', 'c1'), ('b1', 'c3')]), '28263676': set([('A@1645-1664@@Biomarker@protective seed coat', 'A@1708-1726@@Condition@longer space travel')]), '28260796': set([('b4', 'b7')]), '28260391': set([('b1', 'b2')]), '28261953': set([('b1', 'd1'), ('b2', 'd1')]), '28261797': set([('b1', 'c1')]), '28262777': set([('b2', 'c1'), ('b1', 'c1'), ('b3', 'c1')]), '28263447': set([('b3', 'cond1'), ('b2', 'cond1'), ('b1', 'cond1'), ('b5', 'cond1'), ('b4', 'cond1')]), '28262773': set([('b2', 'c1'), ('b1', 'c1')]), '28263037': set([('b', 'd')]), '28261220': set([('b1', 'c2'), ('b2', 'c2'), ('b1', 'c1'), ('b2', 'c1'), ('b3', 'c1'), ('b3', 'c2')]), '28261422': set([('b1', 'b2')]), '28261819': set([('b1', 'c1')]), '28263172': set([('b1', 'c1')]), '28261562': set([('b1', 'b2')]), '28263701': set([('b1', 'b2')]), '28262555': set([('b2', 'c1'), ('b1', 'c1')]), '28262798': set([('b2', 'c1'), ('b1', 'c1')]), '28260718': set([('b1', 'c1')]), '28261963': set([('b1', 'd2'), ('b1', 'd1')]), '28261960': set([('b1', 'b10')]), '28262971': set([('b1', 'c1')]), '28261965': set([('b4', 'b5'), ('b4', 'c1')]), '28264037': set([('A@1395-1410@@Biomarker@HAND at baseline', 'A@217-241@@Condition@rate of cognitive decline'), ('A@1588-1623@@Biomarker@history of HAND prior to study entry', 'A@217-241@@Condition@rate of cognitive decline'), ('A@1716-1748@@Biomarker@results on the 18-month follow up', 'A@217-241@@Condition@rate of cognitive decline'), ('A@1641-1674@@Biomarker@results on the baseline assessment', 'A@217-241@@Condition@rate of cognitive decline')]), '28260899': set([('b3', 'cond'), ('b2', 'cond'), ('b1', 'cond'), ('b5', 'cond'), ('b4', 'cond')]), '28260658': set([('b2', 'c1'), ('b1', 'c1'), ('b4', 'c1'), ('b3', 'c1')]), '28262306': set([('b2', 'c1'), ('b1', 'c1'), ('b3', 'c1')]), '28261371': set([('b1', 'c1')]), '28261377': set([('b1', 'b3'), ('b3', 'c1'), ('b2', 'c1')]), '28261375': set([('b1', 'c2'), ('b2', 'c2'), ('b1', 'c1'), ('b6', 'c2'), ('b2', 'c1'), ('b6', 'c1'), ('b4', 'c2'), ('b5', 'c2'), ('b3', 'c1'), ('b5', 'c1'), ('b3', 'c2'), ('b4', 'c1')]), '28263542': set([('b2', 'c1'), ('b1', 'c1')]), '28261974': set([('b1', 'c1')]), '28263541': set([('b1', 'd1')]), '28263971': set([('b1', 'b2')]), '28264009': set([('b1', 'c2'), ('b1', 'c1')]), '28261295': set([('b1', 'c1')]), '28260175': set([('b1', 'b2')]), '28260702': set([('b2', 'c1'), ('b1', 'c1'), ('b4', 'c1'), ('b3', 'c1')]), '28260757': set([('b1', 'c2'), ('b1', 'c4'), ('b1', 'c1')]), '28260446': set([('b1', 'b2')]), '28261998': set([('b1', 'c1')]), '28262239': set([('b1', 'c2'), ('b2', 'c2'), ('b2', 'c1'), ('b1', 'c1')]), '28263001': set([('b1', 'd1'), ('b2', 'd1')]), '28263489': set([('b1', 'b2')]), '28261346': set([('b1', 'cond5'), ('b1', 'cond4'), ('b1', 'cond7'), ('b1', 'cond1'), ('b1', 'cond3'), ('b1', 'cond2')]), '28263391': set([('b1', 'b10')]), '28261345': set([('b3', 'cond1'), ('b2', 'cond1'), ('b1', 'cond1')]), '28261341': set([('b1', 'c2'), ('b1', 'c1')]), '28263550': set([('b1', 'c1')]), '28260162': set([('b1', 'b2')]), '28263099': set([('b', 'cond1')]), '28264096': set([('b1', 'c2'), ('b1', 'c4'), ('b1', 'c1'), ('b1', 'c3')]), '28261746': set([('b1', 'b2')]), '28262254': set([('b1', 'c1')]), '28264149': set([('b3', 'd1'), ('b4', 'd1'), ('b3', 'd2'), ('b5', 'd3'), ('b3', 'd3'), ('b5', 'd1'), ('b6', 'd3'), ('b6', 'd2'), ('b2', 'd3'), ('b6', 'd1'), ('b2', 'd2'), ('b4', 'd2'), ('b2', 'd1'), ('b5', 'd2')]), '28262130': set([('b1', 'c2'), ('b1', 'c1')]), '28261196': set([('b1', 'c2'), ('b2', 'c2'), ('b1', 'c1'), ('both', 'c2'), ('both', 'c1'), ('b2', 'c1')]), '28260615': set([('b1', 'b2')]), '28262440': set([('b1', 'c2'), ('b1', 'c1')]), '28260854': set([('b1', 'b10')]), '28261199': set([('b3', 'cond1'), ('b2', 'cond1'), ('b1', 'cond1'), ('b4', 'cond1')]), '28261350': set([('b2', 'cond1'), ('b1', 'cond1')]), '28260693': set([('b1', 'c2'), ('b1', 'c1')]), '28260919': set([('b', 'c')]), '28263955': set([('b2', 'c1'), ('b1', 'c1'), ('b4', 'c1'), ('b3', 'c1')]), '28260295': set([('b1', 'b2')]), '28264063': set([('b1', 'c1')]), '28263525': set([('b1', 'c1'), ('b2', 'c1'), ('b6', 'c1'), ('b4', 'c1'), ('b3', 'c1'), ('b5', 'c1')]), '28260767': set([('b1', 'c2'), ('b2', 'c2'), ('b1', 'c1'), ('b2', 'c1'), ('b3', 'c1'), ('b3', 'c2')]), '28260648': set([('b1', 'c1')]), '28262437': set([('b1', 'c1')]), '28260649': set([('b1', 'cond1')]), '28262692': set([('b1', 'c1')]), '28261204': set([('b1', 'd1')]), '28260536': set([('b1', 'b2')]), '28263741': set([('bm', 'c1')]), '28263742': set([('bm', 'c1'), ('bm', 'c2')]), '28260907': set([('b1', 'c2'), ('b2', 'c1'), ('b1', 'c1')]), '28261325': set([('b5', 'c1'), ('b2', 'c1'), ('b1', 'c1'), ('b4', 'c1'), ('b3', 'c1')]), '28261322': set([('b2', 'cond1'), ('b1', 'cond1')]), '28261287': set([('b2', 'c1'), ('b1', 'c1')]), '28261284': set([('b1', 'c2'), ('b2', 'c2'), ('b2', 'c1'), ('b1', 'c1')]), '28263432': set([('b2', 'c1'), ('b1', 'c1'), ('b3', 'c1')]), '28263922': set([('b1', 'b2'), ('b2', 'cond'), ('b1', 'cond'), ('b6', 'cond')]), '28261684': set([('b2', 'c1'), ('b1', 'c1')]), '28264072': set([('b1', 'd4'), ('b1', 'd5'), ('b2', 'd5'), ('b1', 'd2'), ('b2', 'd4'), ('b1', 'd1'), ('b2', 'd2'), ('b2', 'd1')]), '28263531': set([('b7', 'c1'), ('b1', 'c1')]), '28260756': set([('b1', 'c2'), ('b1', 'c1'), ('b1', 'c3')]), '28263738': set([('b1', 'c1')]), '28263535': set([('b1', 'c1')]), '28260643': set([('b1', 'c1')]), '28263753': set([('b10', 'c1'), ('b1', 'c1'), ('b7', 'c1'), ('b2', 'c1'), ('b6', 'c1'), ('b4', 'c1'), ('b3', 'c1'), ('b5', 'c1'), ('b8', 'c1'), ('b9', 'c1')]), '28260933': set([('b1', 'cond1')]), '28261336': set([('b1', 'c1')]), '28262603': set([('b2', 'c1'), ('b1', 'c1'), ('b4', 'c1'), ('b3', 'c1')]), '28262193': set([('b1', 'c2'), ('b1', 'c1'), ('b2', 'c1'), ('b1', 'c4'), ('b3', 'c1'), ('b1', 'c3')]), '28262611': set([('b1', 'c1')]), '28262617': set([('b2', 'c1'), ('b1', 'c1')]), '28262616': set([('b1', 'c2'), ('b2', 'c2'), ('b1', 'c1'), ('b6', 'c2'), ('b5', 'c2'), ('b4', 'c2'), ('b3', 'c2')]), '28263504': set([('b1', 'c1')]), '28263503': set([('bm', 'c1'), ('bm', 'c3'), ('bm', 'c2')]), '28260989': set([('b3', 'cond1')]), '28262210': set([('b1', 'c1')]), '28263981': set([('b1', 'c1')]), '28261899': set([('b1', 'c2'), ('b2', 'c2'), ('b3', 'c2')]), '28263219': set([('b1', 'c1')]), '28263294': set([('b1', 'c2'), ('b1', 'c1')]), '28264059': set([('b2', 'cond1'), ('b7', 'cond1')]), '28262851': set([('b2', 'c'), ('b1', 'c'), ('b3', 'c')]), '28261945': set([('b1', 'c1')]), '28263514': set([('bm', 'c1')]), '28263100': set([('b4', 'cond3'), ('b5', 'cond3'), ('b1', 'cond4'), ('b1', 'c'), ('b1', 'c5'), ('b1', 'cond1'), ('b2', 'cond3'), ('b1', 'cond3'), ('b1', 'cond2')]), '28262740': set([('b1', 'c1')]), '28262211': set([('b1', 'c2'), ('b2', 'c2'), ('b1', 'c1'), ('b6', 'c2'), ('b9', 'c1'), ('b7', 'c1'), ('b2', 'c1'), ('b6', 'c1'), ('b5', 'c1'), ('b7', 'c2'), ('b5', 'c2'), ('b3', 'c1'), ('b9', 'c2'), ('b4', 'c2'), ('b8', 'c1'), ('b3', 'c2'), ('b8', 'c2'), ('b4', 'c1')]), '28263455': set([('b2', 'c1'), ('b1', 'c1'), ('b2', 'c3'), ('b1', 'c3')]), '28262744': set([('b2', 'c1'), ('b1', 'c1'), ('b4', 'c1'), ('b3', 'c1')]), '28262748': set([('b2', 'c1'), ('b1', 'c1')])})\n",
      "AnnotatorLabels created: 0\n"
     ]
    }
   ],
   "source": [
    "# Now, we load external labels\n",
    "from snorkel.annotations import load_gold_labels\n",
    "from load_external_annotations import load_external_labels\n",
    "\n",
    "load_external_labels(session, BiomarkerCondition, split=1, annotator='gold')\n",
    "L_gold_dev = load_gold_labels(session, annotator_name='gold', split=1)\n",
    "L_gold_dev"
   ]
  },
  {
   "cell_type": "code",
   "execution_count": 10,
   "metadata": {},
   "outputs": [
    {
     "name": "stdout",
     "output_type": "stream",
     "text": [
      "\n"
     ]
    }
   ],
   "source": [
    "L_dev = labeler.apply_existing(split=1)\n",
    "temp = gen_model.score(session, L_dev, L_gold_dev)"
   ]
  },
  {
   "cell_type": "code",
   "execution_count": null,
   "metadata": {
    "collapsed": true
   },
   "outputs": [],
   "source": [
    "L_dev.lf_stats(session, L_gold_dev, gen_model.learned_lf_stats()['Accuracy'])"
   ]
  },
  {
   "cell_type": "markdown",
   "metadata": {},
   "source": [
    "\n",
    "# 4) IGNORE BELOW\n",
    "Training Model via Data Programming\n",
    "We train our statistical mosel to differentiate between TRUE and FALSE Disease mentions.\n",
    "This training will be achieved via data programming, enabling us to train a model using only a modest amount of hand-labeled data for validation and testing. We will not use any training labels provided with the skipped usage of training data to simulate a more realistic scenario.\n",
    "\n",
    "\n",
    "\n",
    "\n"
   ]
  },
  {
   "cell_type": "code",
   "execution_count": 22,
   "metadata": {},
   "outputs": [
    {
     "ename": "NameError",
     "evalue": "name 'CandidateSet' is not defined",
     "output_type": "error",
     "traceback": [
      "\u001b[0;31m---------------------------------------------------------------------------\u001b[0m",
      "\u001b[0;31mNameError\u001b[0m                                 Traceback (most recent call last)",
      "\u001b[0;32m<ipython-input-22-a9f3fcfabe7b>\u001b[0m in \u001b[0;36m<module>\u001b[0;34m()\u001b[0m\n\u001b[1;32m      2\u001b[0m \u001b[0;34m\u001b[0m\u001b[0m\n\u001b[1;32m      3\u001b[0m \u001b[0;31m# set up\u001b[0m\u001b[0;34m\u001b[0m\u001b[0;34m\u001b[0m\u001b[0m\n\u001b[0;32m----> 4\u001b[0;31m \u001b[0mtrain\u001b[0m \u001b[0;34m=\u001b[0m \u001b[0msession\u001b[0m\u001b[0;34m.\u001b[0m\u001b[0mquery\u001b[0m\u001b[0;34m(\u001b[0m\u001b[0mCandidateSet\u001b[0m\u001b[0;34m)\u001b[0m\u001b[0;34m.\u001b[0m\u001b[0mfilter\u001b[0m\u001b[0;34m(\u001b[0m\u001b[0mCandidateSet\u001b[0m\u001b[0;34m.\u001b[0m\u001b[0mname\u001b[0m \u001b[0;34m==\u001b[0m \u001b[0;34m'BD Training Candidates'\u001b[0m\u001b[0;34m)\u001b[0m\u001b[0;34m.\u001b[0m\u001b[0mone\u001b[0m\u001b[0;34m(\u001b[0m\u001b[0;34m)\u001b[0m\u001b[0;34m\u001b[0m\u001b[0m\n\u001b[0m\u001b[1;32m      5\u001b[0m \u001b[0;31m#dont have yet:\u001b[0m\u001b[0;34m\u001b[0m\u001b[0;34m\u001b[0m\u001b[0m\n\u001b[1;32m      6\u001b[0m \u001b[0;31m#dev = session.query(CandidateSet).filter(CandidateSet.name == 'BD Development Candidates').one()\u001b[0m\u001b[0;34m\u001b[0m\u001b[0;34m\u001b[0m\u001b[0m\n",
      "\u001b[0;31mNameError\u001b[0m: name 'CandidateSet' is not defined"
     ]
    }
   ],
   "source": [
    "import numpy as np\n",
    "\n",
    "# set up\n",
    "train = session.query(CandidateSet).filter(CandidateSet.name == 'BD Training Candidates').one()\n",
    "#dont have yet:\n",
    "#dev = session.query(CandidateSet).filter(CandidateSet.name == 'BD Development Candidates').one()\n"
   ]
  },
  {
   "cell_type": "markdown",
   "metadata": {},
   "source": [
    "\n",
    "# Generate Features \n",
    "We can do so automatically via Snorkel. Recall that the goal is to distinguish TRUE vs FALSE mentions of biomarker-Disease Relations. Hence, we embed our `BD Training Candidates` in a feature space.\n"
   ]
  },
  {
   "cell_type": "code",
   "execution_count": null,
   "metadata": {
    "collapsed": true
   },
   "outputs": [],
   "source": [
    "from snorkel.annotations import FeatureManager\n",
    "\n",
    "feature_manager = FeatureManager()\n",
    "\n",
    "# create a feature set\n",
    "%time F_train = feature_manager.create(session, train, 'Train Features')\n",
    "\n",
    "# stuff that we have with features...can load interns' features as well (via mindtagger)\n",
    "#%time F_train2 = feature_manager.load(session, train, 'Train Features')\n",
    "\n",
    "F_train\n",
    "F_train.get_candidate(0)\n",
    "F_train.get_key(0)\n",
    "\n",
    "#maybe write to another features file: articles"
   ]
  },
  {
   "cell_type": "code",
   "execution_count": null,
   "metadata": {
    "collapsed": true
   },
   "outputs": [],
   "source": []
  },
  {
   "cell_type": "markdown",
   "metadata": {},
   "source": [
    "\n",
    "# Creating Labeling Functions\n",
    "Labeling functions are a core tool of data programming. These are heuristic functions that inform the search about the direction to a goal, and therefore aim to classify candidates correctly. Their outputs will be automatically combined and denoised to estimate the probabilities of training labels for the training data.\n",
    "\n",
    "*Note: We should be creating document-, sentence-, and mention-level labeleing functions.*"
   ]
  },
  {
   "cell_type": "markdown",
   "metadata": {},
   "source": [
    "\n",
    "# Apply the Labeling Functions\n"
   ]
  },
  {
   "cell_type": "code",
   "execution_count": null,
   "metadata": {
    "collapsed": true
   },
   "outputs": [],
   "source": [
    "# LFs = LFs_mention + LFs_dicts + LFs_false\n",
    "\n",
    "#LFs = [LF_investigate, LF_key, LF_distance, LF_auxpass, LF_inbetween,\n",
    "#       LF_possible, LF_explore, LF_key, LF_investigate, LF_yetToBeConfirmed, LF_notAssociated, LF_notRelated,\n",
    "#       LF_doesNotShow, LF_notLinked, LF_notCorrelated, LF_disprove, LF_doesNotSignify,\n",
    "#       LF_doesNotIndicate, LF_doesNotImply, LF_studies, LF_studies2, LF_studies3, LF_studies4, LF_interesting,\n",
    "#       LF_discussion, LF_conclusion, LF_recently, LF_induced, LF_treatment, LF_isaBiomarker, LF_marker, LF_suspect, LF_mark, LF_People]\n",
    "\n",
    "LFs = [LF_contiguous_mentions, LF_tumors_growths, LF_cancer, LF_disease_syndrome, LF_deficiency_of, LF_left_positive_argument, LF_right_negative_argument, LF_medical_afixes, LF_protein_chemical_abbrv, LF_base_pair_seq, LF_neg_surfix, LF_pos_in]\n",
    "\n",
    "# First, we construct a `CandidateLabeler`.\n",
    "from snorkel.annotations import LabelManager\n",
    "label_manager = LabelManager()\n",
    "\n",
    "# Next we run the `CandidateLabeler` to to apply the labeling functions to the training `CandidateSet`. \n",
    "# We'll start with some of our labeling functions:\n",
    "%time L_train = label_manager.create(session, train, 'LF Labels', f=LFs)\n",
    "L_train\n",
    "\n",
    "# statistical summary:\n",
    "L_train.lf_stats()"
   ]
  },
  {
   "cell_type": "markdown",
   "metadata": {},
   "source": [
    "\n",
    "# Fitting the Generative Model\n",
    "We estimate the accuracies of the labeling functions without supervision. Specifically, we estimate the parameters of a NaiveBayes generative model.\n"
   ]
  },
  {
   "cell_type": "code",
   "execution_count": null,
   "metadata": {
    "collapsed": true,
    "scrolled": true
   },
   "outputs": [],
   "source": [
    "from snorkel.learning import NaiveBayes\n",
    "\n",
    "gen_model = NaiveBayes()\n",
    "gen_model.train(L_train, n_iter=3000, rate=1e-5)\n",
    "gen_model.save(session, 'Generative Params')\n",
    "\n",
    "# We now apply the generative model to the training candidates.\n",
    "train_marginals = gen_model.marginals(L_train)"
   ]
  },
  {
   "cell_type": "markdown",
   "metadata": {},
   "source": [
    "\n",
    "# Training the Discriminative Model\n",
    "We use the estimated probabilites to train a discriminative model that classifies each `Candidate` as a true or false mention.\n"
   ]
  },
  {
   "cell_type": "code",
   "execution_count": null,
   "metadata": {
    "collapsed": true,
    "scrolled": false
   },
   "outputs": [],
   "source": [
    "from snorkel.learning import LogReg\n",
    "\n",
    "disc_model = LogReg()\n",
    "disc_model.train(F_train, train_marginals, n_iter=5000, rate=1e-3)\n",
    "disc_model.w.shape\n",
    "%time disc_model.save(session, \"Discriminative Params\")"
   ]
  },
  {
   "cell_type": "markdown",
   "metadata": {},
   "source": [
    "# Calibration and Accuracy"
   ]
  },
  {
   "cell_type": "code",
   "execution_count": null,
   "metadata": {
    "collapsed": true
   },
   "outputs": [],
   "source": []
  },
  {
   "cell_type": "code",
   "execution_count": null,
   "metadata": {
    "collapsed": true
   },
   "outputs": [],
   "source": []
  },
  {
   "cell_type": "code",
   "execution_count": null,
   "metadata": {
    "collapsed": true
   },
   "outputs": [],
   "source": []
  },
  {
   "cell_type": "code",
   "execution_count": null,
   "metadata": {
    "collapsed": true
   },
   "outputs": [],
   "source": []
  }
 ],
 "metadata": {
  "kernelspec": {
   "display_name": "Python 2",
   "language": "python",
   "name": "python2"
  },
  "language_info": {
   "codemirror_mode": {
    "name": "ipython",
    "version": 2
   },
   "file_extension": ".py",
   "mimetype": "text/x-python",
   "name": "python",
   "nbconvert_exporter": "python",
   "pygments_lexer": "ipython2",
   "version": "2.7.12"
  }
 },
 "nbformat": 4,
 "nbformat_minor": 1
}
