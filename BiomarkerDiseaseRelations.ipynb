{
 "cells": [
  {
   "cell_type": "code",
   "execution_count": 1,
   "metadata": {
    "collapsed": true
   },
   "outputs": [],
   "source": [
    "%load_ext autoreload\n",
    "%autoreload 2\n",
    "%matplotlib inline\n",
    "\n",
    "from snorkel import SnorkelSession\n",
    "session = SnorkelSession()\n",
    "\n",
    "import os\n",
    "from snorkel.parser import XMLMultiDocPreprocessor\n",
    "\n",
    "# The following line is for testing only. Feel free to ignore it.\n",
    "\n",
    "file_path = 'articles/training.xml'\n",
    "train_preprocessor = XMLMultiDocPreprocessor(\n",
    "    path=file_path,\n",
    "    doc='.//article',\n",
    "    text='.//front/article-meta/abstract/p/text()',\n",
    "    id=  './/front/article-meta/article-id/text()'\n",
    ")\n",
    "\n",
    "file_path = 'articles/development.xml'\n",
    "dev_preprocessor = XMLMultiDocPreprocessor(\n",
    "    path=file_path,    \n",
    "    doc='.//document',    \n",
    "    text='.//passage/text/text()',    \n",
    "    id='.//id/text()'\n",
    ")\n",
    "\n",
    "file_path = 'articles/testcorpus.xml'\n",
    "test_preprocessor = XMLMultiDocPreprocessor(\n",
    "    path=file_path,    \n",
    "    doc='.//document',    \n",
    "    text='.//passage/text/text()',    \n",
    "    id='.//id/text()'\n",
    ")\n",
    "\n"
   ]
  },
  {
   "cell_type": "code",
   "execution_count": 2,
   "metadata": {
    "scrolled": true
   },
   "outputs": [
    {
     "name": "stdout",
     "output_type": "stream",
     "text": [
      "Clearing existing...\n",
      "Running UDF...\n",
      "[=                                       ] 0%"
     ]
    },
    {
     "name": "stderr",
     "output_type": "stream",
     "text": [
      "Warning, empty document 5305186 passed to CoreNLP\n",
      "Warning, empty document 28182863 passed to CoreNLP\n"
     ]
    },
    {
     "name": "stdout",
     "output_type": "stream",
     "text": [
      "\r",
      "[=                                       ] 1%"
     ]
    },
    {
     "name": "stderr",
     "output_type": "stream",
     "text": [
      "Warning, empty document 27462919 passed to CoreNLP\n",
      "Warning, empty document 27494853 passed to CoreNLP\n",
      "Warning, empty document 27447745 passed to CoreNLP\n",
      "Warning, empty document 27447854 passed to CoreNLP\n"
     ]
    },
    {
     "name": "stdout",
     "output_type": "stream",
     "text": [
      "\r",
      "[=                                       ] 2%"
     ]
    },
    {
     "name": "stderr",
     "output_type": "stream",
     "text": [
      "Warning, empty document 27486880 passed to CoreNLP\n"
     ]
    },
    {
     "name": "stdout",
     "output_type": "stream",
     "text": [
      "\r",
      "[==                                      ] 3%"
     ]
    },
    {
     "name": "stderr",
     "output_type": "stream",
     "text": [
      "Warning, empty document 28012176 passed to CoreNLP\n",
      "Warning, empty document 5300950 passed to CoreNLP\n",
      "Warning, empty document 5300948 passed to CoreNLP\n",
      "Warning, empty document 5300945 passed to CoreNLP\n",
      "Warning, empty document 5300911 passed to CoreNLP\n",
      "Warning, empty document 28179006 passed to CoreNLP\n",
      "Warning, empty document 28178960 passed to CoreNLP\n",
      "Warning, empty document 28178970 passed to CoreNLP\n",
      "Warning, empty document 28178948 passed to CoreNLP\n"
     ]
    },
    {
     "name": "stdout",
     "output_type": "stream",
     "text": [
      "\r",
      "[==                                      ] 4%"
     ]
    },
    {
     "name": "stderr",
     "output_type": "stream",
     "text": [
      "Warning, empty document 28178945 passed to CoreNLP\n",
      "Warning, empty document 28179018 passed to CoreNLP\n",
      "Warning, empty document 28178966 passed to CoreNLP\n",
      "Warning, empty document 28178923 passed to CoreNLP\n",
      "Warning, empty document 5299725 passed to CoreNLP\n",
      "Warning, empty document 28178997 passed to CoreNLP\n",
      "Warning, empty document 5299688 passed to CoreNLP\n",
      "Warning, empty document 28178959 passed to CoreNLP\n",
      "Warning, empty document 28178957 passed to CoreNLP\n",
      "Warning, empty document 28178925 passed to CoreNLP\n",
      "Warning, empty document 28178952 passed to CoreNLP\n",
      "Warning, empty document 5299656 passed to CoreNLP\n",
      "Warning, empty document 28178989 passed to CoreNLP\n",
      "Warning, empty document 28179021 passed to CoreNLP\n"
     ]
    },
    {
     "name": "stdout",
     "output_type": "stream",
     "text": [
      "\r",
      "[===                                     ] 5%"
     ]
    },
    {
     "name": "stderr",
     "output_type": "stream",
     "text": [
      "Warning, empty document 5299079 passed to CoreNLP\n",
      "Warning, empty document 28173772 passed to CoreNLP\n",
      "Warning, empty document 5297221 passed to CoreNLP\n"
     ]
    },
    {
     "name": "stdout",
     "output_type": "stream",
     "text": [
      "[===                                     ] 7%"
     ]
    },
    {
     "name": "stderr",
     "output_type": "stream",
     "text": [
      "Warning, empty document 28144859 passed to CoreNLP\n",
      "Warning, empty document 26902522 passed to CoreNLP\n"
     ]
    },
    {
     "name": "stdout",
     "output_type": "stream",
     "text": [
      "\r",
      "[====                                    ] 8%"
     ]
    },
    {
     "name": "stderr",
     "output_type": "stream",
     "text": [
      "Warning, empty document 27838763 passed to CoreNLP\n",
      "Warning, empty document 27554774 passed to CoreNLP\n",
      "Warning, empty document 27379386 passed to CoreNLP\n"
     ]
    },
    {
     "name": "stdout",
     "output_type": "stream",
     "text": [
      "\r",
      "[====                                    ] 9%"
     ]
    },
    {
     "name": "stderr",
     "output_type": "stream",
     "text": [
      "Warning, empty document 28130689 passed to CoreNLP\n",
      "Warning, empty document 5270378 passed to CoreNLP\n",
      "Warning, empty document 5270363 passed to CoreNLP\n",
      "Warning, empty document 26552421 passed to CoreNLP\n",
      "Warning, empty document 22660553 passed to CoreNLP\n",
      "Warning, empty document 19496923 passed to CoreNLP\n"
     ]
    },
    {
     "name": "stdout",
     "output_type": "stream",
     "text": [
      "[=====                                   ] 11%"
     ]
    },
    {
     "name": "stderr",
     "output_type": "stream",
     "text": [
      "Warning, empty document 24029061 passed to CoreNLP\n",
      "Warning, empty document 27344180 passed to CoreNLP\n"
     ]
    },
    {
     "name": "stdout",
     "output_type": "stream",
     "text": [
      "\r",
      "[=====                                   ] 12%"
     ]
    },
    {
     "name": "stderr",
     "output_type": "stream",
     "text": [
      "Warning, empty document 27486820 passed to CoreNLP\n"
     ]
    },
    {
     "name": "stdout",
     "output_type": "stream",
     "text": [
      "\r",
      "[======                                  ] 13%"
     ]
    },
    {
     "name": "stderr",
     "output_type": "stream",
     "text": [
      "Warning, empty document 5301370 passed to CoreNLP\n"
     ]
    },
    {
     "name": "stdout",
     "output_type": "stream",
     "text": [
      "\r",
      "[======                                  ] 14%"
     ]
    },
    {
     "name": "stderr",
     "output_type": "stream",
     "text": [
      "Warning, empty document 5301067 passed to CoreNLP\n",
      "Warning, empty document 5300912 passed to CoreNLP\n"
     ]
    },
    {
     "name": "stdout",
     "output_type": "stream",
     "text": [
      "\r",
      "[=======                                 ] 15%"
     ]
    },
    {
     "name": "stderr",
     "output_type": "stream",
     "text": [
      "Warning, empty document 28179014 passed to CoreNLP\n",
      "Warning, empty document 28178929 passed to CoreNLP\n",
      "Warning, empty document 28178951 passed to CoreNLP\n",
      "Warning, empty document 28179026 passed to CoreNLP\n",
      "Warning, empty document 28179020 passed to CoreNLP\n",
      "Warning, empty document 28179007 passed to CoreNLP\n",
      "Warning, empty document 28178999 passed to CoreNLP\n",
      "Warning, empty document 28183321 passed to CoreNLP\n",
      "Warning, empty document 28178994 passed to CoreNLP\n",
      "Warning, empty document 5299695 passed to CoreNLP\n",
      "Warning, empty document 28178938 passed to CoreNLP\n",
      "Warning, empty document 5299675 passed to CoreNLP\n",
      "Warning, empty document 28151938 passed to CoreNLP\n",
      "Warning, empty document 28151939 passed to CoreNLP\n"
     ]
    },
    {
     "name": "stdout",
     "output_type": "stream",
     "text": [
      "\r",
      "[=======                                 ] 16%"
     ]
    },
    {
     "name": "stderr",
     "output_type": "stream",
     "text": [
      "Warning, empty document 28151970 passed to CoreNLP\n",
      "Warning, empty document 28152059 passed to CoreNLP\n",
      "Warning, empty document 28151974 passed to CoreNLP\n",
      "Warning, empty document 28150141 passed to CoreNLP\n",
      "Warning, empty document 28148286 passed to CoreNLP\n",
      "Warning, empty document 28148267 passed to CoreNLP\n",
      "Warning, empty document 28148238 passed to CoreNLP\n",
      "Warning, empty document 28148272 passed to CoreNLP\n",
      "Warning, empty document 28148276 passed to CoreNLP\n",
      "Warning, empty document 28152978 passed to CoreNLP\n"
     ]
    },
    {
     "name": "stdout",
     "output_type": "stream",
     "text": [
      "\r",
      "[=======                                 ] 17%"
     ]
    },
    {
     "name": "stderr",
     "output_type": "stream",
     "text": [
      "Warning, empty document 28148281 passed to CoreNLP\n",
      "Warning, empty document 28148239 passed to CoreNLP\n"
     ]
    },
    {
     "name": "stdout",
     "output_type": "stream",
     "text": [
      "\r",
      "[========                                ] 18%"
     ]
    },
    {
     "name": "stderr",
     "output_type": "stream",
     "text": [
      "Warning, empty document 28184245 passed to CoreNLP\n",
      "Warning, empty document 28148244 passed to CoreNLP\n",
      "Warning, empty document 28153034 passed to CoreNLP\n",
      "Warning, empty document 28148302 passed to CoreNLP\n",
      "Warning, empty document 28148236 passed to CoreNLP\n",
      "Warning, empty document 28148246 passed to CoreNLP\n",
      "Warning, empty document 28184256 passed to CoreNLP\n",
      "Warning, empty document 28153009 passed to CoreNLP\n",
      "Warning, empty document 28148221 passed to CoreNLP\n",
      "Warning, empty document 28148225 passed to CoreNLP\n",
      "Warning, empty document 28184251 passed to CoreNLP\n",
      "Warning, empty document 28148293 passed to CoreNLP\n",
      "Warning, empty document 28148305 passed to CoreNLP\n",
      "Warning, empty document 28152990 passed to CoreNLP\n",
      "Warning, empty document 28148242 passed to CoreNLP\n",
      "Warning, empty document 28148301 passed to CoreNLP\n",
      "Warning, empty document 28148279 passed to CoreNLP\n",
      "Warning, empty document 28148290 passed to CoreNLP\n",
      "Warning, empty document 28153017 passed to CoreNLP\n",
      "Warning, empty document 28153033 passed to CoreNLP\n",
      "Warning, empty document 28148223 passed to CoreNLP\n",
      "Warning, empty document 28153003 passed to CoreNLP\n",
      "Warning, empty document 28148240 passed to CoreNLP\n",
      "Warning, empty document 28148303 passed to CoreNLP\n",
      "Warning, empty document 28167864 passed to CoreNLP\n",
      "Warning, empty document 28152989 passed to CoreNLP\n",
      "Warning, empty document 28153048 passed to CoreNLP\n",
      "Warning, empty document 28148274 passed to CoreNLP\n",
      "Warning, empty document 28168006 passed to CoreNLP\n"
     ]
    },
    {
     "name": "stdout",
     "output_type": "stream",
     "text": [
      "[=========                               ] 22%"
     ]
    },
    {
     "name": "stderr",
     "output_type": "stream",
     "text": [
      "Warning, empty document 28210239 passed to CoreNLP\n",
      "Warning, empty document 27681113 passed to CoreNLP\n",
      "Warning, empty document 5308771 passed to CoreNLP\n",
      "Warning, empty document 28192800 passed to CoreNLP\n",
      "Warning, empty document 5308769 passed to CoreNLP\n"
     ]
    },
    {
     "name": "stdout",
     "output_type": "stream",
     "text": [
      "\r",
      "[==========                              ] 23%"
     ]
    },
    {
     "name": "stderr",
     "output_type": "stream",
     "text": [
      "Warning, empty document 5304385 passed to CoreNLP\n",
      "Warning, empty document 5304361 passed to CoreNLP\n",
      "Warning, empty document 28210447 passed to CoreNLP\n",
      "Warning, empty document 28210445 passed to CoreNLP\n",
      "Warning, empty document 28210437 passed to CoreNLP\n",
      "Warning, empty document 28210430 passed to CoreNLP\n",
      "Warning, empty document 5302179 passed to CoreNLP\n",
      "Warning, empty document 28145395 passed to CoreNLP\n",
      "Warning, empty document 28170537 passed to CoreNLP\n"
     ]
    },
    {
     "name": "stdout",
     "output_type": "stream",
     "text": [
      "\r",
      "[==========                              ] 24%"
     ]
    },
    {
     "name": "stderr",
     "output_type": "stream",
     "text": [
      "Warning, empty document 28203066 passed to CoreNLP\n",
      "Warning, empty document 28159976 passed to CoreNLP\n",
      "Warning, empty document 28152139 passed to CoreNLP\n",
      "Warning, empty document 28146236 passed to CoreNLP\n",
      "Warning, empty document 28146237 passed to CoreNLP\n",
      "Warning, empty document 5294949 passed to CoreNLP\n",
      "Warning, empty document 5294947 passed to CoreNLP\n",
      "Warning, empty document 5294943 passed to CoreNLP\n",
      "Warning, empty document 5294940 passed to CoreNLP\n",
      "Warning, empty document 28191321 passed to CoreNLP\n",
      "Warning, empty document 28177049 passed to CoreNLP\n",
      "Warning, empty document 28177046 passed to CoreNLP\n",
      "Warning, empty document 28177045 passed to CoreNLP\n",
      "Warning, empty document 27477328 passed to CoreNLP\n",
      "Warning, empty document 27484038 passed to CoreNLP\n",
      "Warning, empty document 27555459 passed to CoreNLP\n"
     ]
    },
    {
     "name": "stdout",
     "output_type": "stream",
     "text": [
      "\r",
      "[===========                             ] 25%"
     ]
    },
    {
     "name": "stderr",
     "output_type": "stream",
     "text": [
      "Warning, empty document 27939045 passed to CoreNLP\n",
      "Warning, empty document 28184180 passed to CoreNLP\n",
      "Warning, empty document 28180185 passed to CoreNLP\n",
      "Warning, empty document 28148220 passed to CoreNLP\n",
      "Warning, empty document 28148277 passed to CoreNLP\n",
      "Warning, empty document 28148288 passed to CoreNLP\n",
      "Warning, empty document 28148232 passed to CoreNLP\n"
     ]
    },
    {
     "name": "stdout",
     "output_type": "stream",
     "text": [
      "\r",
      "[===========                             ] 26%"
     ]
    },
    {
     "name": "stderr",
     "output_type": "stream",
     "text": [
      "Warning, empty document 28146567 passed to CoreNLP\n",
      "Warning, empty document 28146578 passed to CoreNLP\n",
      "Warning, empty document 28146577 passed to CoreNLP\n",
      "Warning, empty document 28146553 passed to CoreNLP\n"
     ]
    },
    {
     "name": "stdout",
     "output_type": "stream",
     "text": [
      "\r",
      "[===========                             ] 27%"
     ]
    },
    {
     "name": "stderr",
     "output_type": "stream",
     "text": [
      "Warning, empty document 27846616 passed to CoreNLP\n",
      "Warning, empty document 27789675 passed to CoreNLP\n",
      "Warning, empty document 27789679 passed to CoreNLP\n"
     ]
    },
    {
     "name": "stdout",
     "output_type": "stream",
     "text": [
      "\r",
      "[============                            ] 28%"
     ]
    },
    {
     "name": "stderr",
     "output_type": "stream",
     "text": [
      "Warning, empty document 28148241 passed to CoreNLP\n",
      "Warning, empty document 28143492 passed to CoreNLP\n",
      "Warning, empty document 28148261 passed to CoreNLP\n",
      "Warning, empty document 28143545 passed to CoreNLP\n",
      "Warning, empty document 28143561 passed to CoreNLP\n",
      "Warning, empty document 28168037 passed to CoreNLP\n",
      "Warning, empty document 28143565 passed to CoreNLP\n",
      "Warning, empty document 28143511 passed to CoreNLP\n",
      "Warning, empty document 28143522 passed to CoreNLP\n",
      "Warning, empty document 28143451 passed to CoreNLP\n",
      "Warning, empty document 28143571 passed to CoreNLP\n",
      "Warning, empty document 28168005 passed to CoreNLP\n",
      "Warning, empty document 28143589 passed to CoreNLP\n",
      "Warning, empty document 28143426 passed to CoreNLP\n",
      "Warning, empty document 28143433 passed to CoreNLP\n",
      "Warning, empty document 28143526 passed to CoreNLP\n"
     ]
    },
    {
     "name": "stdout",
     "output_type": "stream",
     "text": [
      "\r",
      "[============                            ] 29%"
     ]
    },
    {
     "name": "stderr",
     "output_type": "stream",
     "text": [
      "Warning, empty document 28148260 passed to CoreNLP\n",
      "Warning, empty document 28143587 passed to CoreNLP\n",
      "Warning, empty document 28143491 passed to CoreNLP\n",
      "Warning, empty document 28143435 passed to CoreNLP\n",
      "Warning, empty document 28143541 passed to CoreNLP\n",
      "Warning, empty document 28148265 passed to CoreNLP\n",
      "Warning, empty document 28143562 passed to CoreNLP\n",
      "Warning, empty document 28143584 passed to CoreNLP\n",
      "Warning, empty document 28143520 passed to CoreNLP\n",
      "Warning, empty document 28143601 passed to CoreNLP\n",
      "Warning, empty document 28143606 passed to CoreNLP\n",
      "Warning, empty document 28148307 passed to CoreNLP\n"
     ]
    },
    {
     "name": "stdout",
     "output_type": "stream",
     "text": [
      "[=============                           ] 31%"
     ]
    },
    {
     "name": "stderr",
     "output_type": "stream",
     "text": [
      "Warning, empty document 28137381 passed to CoreNLP\n",
      "Warning, empty document 28087201 passed to CoreNLP\n"
     ]
    },
    {
     "name": "stdout",
     "output_type": "stream",
     "text": [
      "\r",
      "[=============                           ] 32%"
     ]
    },
    {
     "name": "stderr",
     "output_type": "stream",
     "text": [
      "Warning, empty document 28203208 passed to CoreNLP\n",
      "Warning, empty document 28144808 passed to CoreNLP\n"
     ]
    },
    {
     "name": "stdout",
     "output_type": "stream",
     "text": [
      "\r",
      "[==============                          ] 33%"
     ]
    },
    {
     "name": "stderr",
     "output_type": "stream",
     "text": [
      "Warning, empty document 27863903 passed to CoreNLP\n",
      "Warning, empty document 27908689 passed to CoreNLP\n",
      "Warning, empty document 27818097 passed to CoreNLP\n",
      "Warning, empty document 28164012 passed to CoreNLP\n",
      "Warning, empty document 28164013 passed to CoreNLP\n",
      "Warning, empty document 27506906 passed to CoreNLP\n"
     ]
    },
    {
     "name": "stdout",
     "output_type": "stream",
     "text": [
      "\r",
      "[==============                          ] 34%"
     ]
    },
    {
     "name": "stderr",
     "output_type": "stream",
     "text": [
      "Warning, empty document 28148904 passed to CoreNLP\n",
      "Warning, empty document 5309451 passed to CoreNLP\n",
      "Warning, empty document 28203553 passed to CoreNLP\n",
      "Warning, empty document 28203552 passed to CoreNLP\n"
     ]
    },
    {
     "name": "stdout",
     "output_type": "stream",
     "text": [
      "\r",
      "[===============                         ] 35%"
     ]
    },
    {
     "name": "stderr",
     "output_type": "stream",
     "text": [
      "Warning, empty document 28138126 passed to CoreNLP\n",
      "Warning, empty document 28194229 passed to CoreNLP\n",
      "Warning, empty document 28203105 passed to CoreNLP\n",
      "Warning, empty document 28203104 passed to CoreNLP\n",
      "Warning, empty document 28203107 passed to CoreNLP\n",
      "Warning, empty document 28203068 passed to CoreNLP\n",
      "Warning, empty document 28203070 passed to CoreNLP\n",
      "Warning, empty document 28203106 passed to CoreNLP\n",
      "Warning, empty document 28168095 passed to CoreNLP\n",
      "Warning, empty document 28168103 passed to CoreNLP\n",
      "Warning, empty document 28168111 passed to CoreNLP"
     ]
    },
    {
     "name": "stdout",
     "output_type": "stream",
     "text": [
      "\r",
      "[===============                         ] 36%"
     ]
    },
    {
     "name": "stderr",
     "output_type": "stream",
     "text": [
      "\n",
      "Warning, empty document 28143592 passed to CoreNLP\n",
      "Warning, empty document 28143478 passed to CoreNLP\n",
      "Warning, empty document 28143619 passed to CoreNLP\n",
      "Warning, empty document 28143609 passed to CoreNLP\n",
      "Warning, empty document 28143417 passed to CoreNLP\n",
      "Warning, empty document 28143400 passed to CoreNLP\n",
      "Warning, empty document 28143425 passed to CoreNLP\n",
      "Warning, empty document 28163748 passed to CoreNLP\n",
      "Warning, empty document 28143493 passed to CoreNLP\n"
     ]
    },
    {
     "name": "stdout",
     "output_type": "stream",
     "text": [
      "\r",
      "[===============                         ] 37%"
     ]
    },
    {
     "name": "stderr",
     "output_type": "stream",
     "text": [
      "Warning, empty document 28141815 passed to CoreNLP\n",
      "Warning, empty document 28141863 passed to CoreNLP\n",
      "Warning, empty document 28141847 passed to CoreNLP\n",
      "Warning, empty document 28141816 passed to CoreNLP\n"
     ]
    },
    {
     "name": "stdout",
     "output_type": "stream",
     "text": [
      "\r",
      "[================                        ] 38%"
     ]
    },
    {
     "name": "stderr",
     "output_type": "stream",
     "text": [
      "Warning, empty document 28143401 passed to CoreNLP\n",
      "Warning, empty document 28137277 passed to CoreNLP\n",
      "Warning, empty document 28143399 passed to CoreNLP\n",
      "Warning, empty document 28163789 passed to CoreNLP\n"
     ]
    },
    {
     "name": "stdout",
     "output_type": "stream",
     "text": [
      "\r",
      "[================                        ] 39%"
     ]
    },
    {
     "name": "stderr",
     "output_type": "stream",
     "text": [
      "Warning, empty document 28143472 passed to CoreNLP\n",
      "Warning, empty document 28143481 passed to CoreNLP\n",
      "Warning, empty document 28137278 passed to CoreNLP\n",
      "Warning, empty document 28143479 passed to CoreNLP\n",
      "Warning, empty document 28143623 passed to CoreNLP\n",
      "Warning, empty document 28143518 passed to CoreNLP\n",
      "Warning, empty document 28163793 passed to CoreNLP\n",
      "Warning, empty document 28143463 passed to CoreNLP\n",
      "Warning, empty document 28163782 passed to CoreNLP\n",
      "Warning, empty document 28137259 passed to CoreNLP\n",
      "Warning, empty document 28143566 passed to CoreNLP\n",
      "Warning, empty document 28143441 passed to CoreNLP\n",
      "Warning, empty document 28137264 passed to CoreNLP\n",
      "Warning, empty document 28143391 passed to CoreNLP\n",
      "Warning, empty document 28137276 passed to CoreNLP\n",
      "Warning, empty document 28143523 passed to CoreNLP\n",
      "Warning, empty document 28143405 passed to CoreNLP\n",
      "Warning, empty document 28137295 passed to CoreNLP\n",
      "Warning, empty document 28143608 passed to CoreNLP\n",
      "Warning, empty document 28163780 passed to CoreNLP\n",
      "Warning, empty document 28143622 passed to CoreNLP\n",
      "Warning, empty document 28163787 passed to CoreNLP\n",
      "Warning, empty document 28143397 passed to CoreNLP\n",
      "Warning, empty document 28143567 passed to CoreNLP\n",
      "Warning, empty document 28143464 passed to CoreNLP\n",
      "Warning, empty document 28143503 passed to CoreNLP\n",
      "Warning, empty document 28137245 passed to CoreNLP\n",
      "Warning, empty document 28143614 passed to CoreNLP\n",
      "Warning, empty document 28137282 passed to CoreNLP\n"
     ]
    },
    {
     "name": "stdout",
     "output_type": "stream",
     "text": [
      "\r",
      "[=================                       ] 40%"
     ]
    },
    {
     "name": "stderr",
     "output_type": "stream",
     "text": [
      "Warning, empty document 28137267 passed to CoreNLP\n",
      "Warning, empty document 28143497 passed to CoreNLP\n",
      "Warning, empty document 28143440 passed to CoreNLP\n",
      "Warning, empty document 28137296 passed to CoreNLP\n",
      "Warning, empty document 28143402 passed to CoreNLP\n",
      "Warning, empty document 28143410 passed to CoreNLP\n",
      "Warning, empty document 28143530 passed to CoreNLP\n",
      "Warning, empty document 28137283 passed to CoreNLP\n",
      "Warning, empty document 28143489 passed to CoreNLP\n",
      "Warning, empty document 28137273 passed to CoreNLP\n",
      "Warning, empty document 28143486 passed to CoreNLP\n",
      "Warning, empty document 28143445 passed to CoreNLP\n",
      "Warning, empty document 28143521 passed to CoreNLP\n",
      "Warning, empty document 28137254 passed to CoreNLP\n",
      "Warning, empty document 28143555 passed to CoreNLP\n",
      "Warning, empty document 28143572 passed to CoreNLP\n"
     ]
    },
    {
     "name": "stdout",
     "output_type": "stream",
     "text": [
      "[===================                     ] 45%"
     ]
    },
    {
     "name": "stderr",
     "output_type": "stream",
     "text": [
      "Warning, empty document 28210363 passed to CoreNLP\n",
      "Warning, empty document 5301304 passed to CoreNLP\n",
      "Warning, empty document 5301297 passed to CoreNLP\n",
      "Warning, empty document 28178443 passed to CoreNLP\n"
     ]
    },
    {
     "name": "stdout",
     "output_type": "stream",
     "text": [
      "\r",
      "[===================                     ] 46%"
     ]
    },
    {
     "name": "stderr",
     "output_type": "stream",
     "text": [
      "Warning, empty document 28133358 passed to CoreNLP\n",
      "Warning, empty document 28133359 passed to CoreNLP\n",
      "Warning, empty document 28180186 passed to CoreNLP\n"
     ]
    },
    {
     "name": "stdout",
     "output_type": "stream",
     "text": [
      "\r",
      "[===================                     ] 47%"
     ]
    },
    {
     "name": "stderr",
     "output_type": "stream",
     "text": [
      "Warning, empty document 28138823 passed to CoreNLP\n",
      "Warning, empty document 28203517 passed to CoreNLP\n",
      "Warning, empty document 28137305 passed to CoreNLP\n",
      "Warning, empty document 28137307 passed to CoreNLP\n",
      "Warning, empty document 28137300 passed to CoreNLP\n",
      "Warning, empty document 28137252 passed to CoreNLP\n",
      "Warning, empty document 28137275 passed to CoreNLP\n",
      "Warning, empty document 28137247 passed to CoreNLP\n",
      "Warning, empty document 28137255 passed to CoreNLP\n",
      "Warning, empty document 28163665 passed to CoreNLP\n",
      "Warning, empty document 28137280 passed to CoreNLP\n"
     ]
    },
    {
     "name": "stdout",
     "output_type": "stream",
     "text": [
      "[====================                    ] 49%"
     ]
    },
    {
     "name": "stderr",
     "output_type": "stream",
     "text": [
      "Warning, empty document 28135310 passed to CoreNLP\n",
      "Warning, empty document 28132646 passed to CoreNLP\n"
     ]
    },
    {
     "name": "stdout",
     "output_type": "stream",
     "text": [
      "[=====================                   ] 52%"
     ]
    },
    {
     "name": "stderr",
     "output_type": "stream",
     "text": [
      "Warning, empty document 27887969 passed to CoreNLP\n",
      "Warning, empty document 27865792 passed to CoreNLP\n",
      "Warning, empty document 28132958 passed to CoreNLP\n",
      "Warning, empty document 28133922 passed to CoreNLP\n"
     ]
    },
    {
     "name": "stdout",
     "output_type": "stream",
     "text": [
      "\r",
      "[======================                  ] 53%"
     ]
    },
    {
     "name": "stderr",
     "output_type": "stream",
     "text": [
      "Warning, empty document 28130961 passed to CoreNLP\n",
      "Warning, empty document 5292346 passed to CoreNLP\n",
      "Warning, empty document 5292343 passed to CoreNLP\n",
      "Warning, empty document 5292333 passed to CoreNLP\n"
     ]
    },
    {
     "name": "stdout",
     "output_type": "stream",
     "text": [
      "\r",
      "[======================                  ] 54%"
     ]
    },
    {
     "name": "stderr",
     "output_type": "stream",
     "text": [
      "Warning, empty document 28210098 passed to CoreNLP\n",
      "Warning, empty document 28129747 passed to CoreNLP\n",
      "Warning, empty document 28191448 passed to CoreNLP\n",
      "Warning, empty document 28129777 passed to CoreNLP\n",
      "Warning, empty document 28129756 passed to CoreNLP\n",
      "Warning, empty document 28129740 passed to CoreNLP\n",
      "Warning, empty document 28149498 passed to CoreNLP\n",
      "Warning, empty document 28129742 passed to CoreNLP\n",
      "Warning, empty document 28129755 passed to CoreNLP\n",
      "Warning, empty document 28129776 passed to CoreNLP\n",
      "Warning, empty document 28129775 passed to CoreNLP\n",
      "Warning, empty document 28129745 passed to CoreNLP\n",
      "Warning, empty document 28129786 passed to CoreNLP\n",
      "Warning, empty document 28129778 passed to CoreNLP\n",
      "Warning, empty document 28129744 passed to CoreNLP\n",
      "Warning, empty document 28129785 passed to CoreNLP\n",
      "Warning, empty document 28129796 passed to CoreNLP\n",
      "Warning, empty document 28129749 passed to CoreNLP\n",
      "Warning, empty document 28129782 passed to CoreNLP\n",
      "Warning, empty document 28149513 passed to CoreNLP\n",
      "Warning, empty document 28129768 passed to CoreNLP\n",
      "Warning, empty document 28129736 passed to CoreNLP\n",
      "Warning, empty document 28190990 passed to CoreNLP\n",
      "Warning, empty document 28130626 passed to CoreNLP\n",
      "Warning, empty document 28144403 passed to CoreNLP\n",
      "Warning, empty document 28126882 passed to CoreNLP\n"
     ]
    },
    {
     "name": "stdout",
     "output_type": "stream",
     "text": [
      "\r",
      "[=======================                 ] 55%"
     ]
    },
    {
     "name": "stderr",
     "output_type": "stream",
     "text": [
      "Warning, empty document 28203087 passed to CoreNLP\n",
      "Warning, empty document 28203112 passed to CoreNLP\n",
      "Warning, empty document 28126983 passed to CoreNLP\n",
      "Warning, empty document 28128193 passed to CoreNLP\n",
      "Warning, empty document 28184155 passed to CoreNLP\n",
      "Warning, empty document 28184150 passed to CoreNLP\n",
      "Warning, empty document 28184167 passed to CoreNLP\n"
     ]
    },
    {
     "name": "stdout",
     "output_type": "stream",
     "text": [
      "\r",
      "[=======================                 ] 56%"
     ]
    },
    {
     "name": "stderr",
     "output_type": "stream",
     "text": [
      "Warning, empty document 28121960 passed to CoreNLP\n",
      "Warning, empty document 28121946 passed to CoreNLP\n",
      "Warning, empty document 28121942 passed to CoreNLP\n"
     ]
    },
    {
     "name": "stdout",
     "output_type": "stream",
     "text": [
      "\r",
      "[=======================                 ] 57%"
     ]
    },
    {
     "name": "stderr",
     "output_type": "stream",
     "text": [
      "Warning, empty document 28121923 passed to CoreNLP\n",
      "Warning, empty document 28121915 passed to CoreNLP\n",
      "Warning, empty document 28180139 passed to CoreNLP\n",
      "Warning, empty document 28132002 passed to CoreNLP\n",
      "Warning, empty document 28130207 passed to CoreNLP\n",
      "Warning, empty document 28129367 passed to CoreNLP\n",
      "Warning, empty document 28129396 passed to CoreNLP\n",
      "Warning, empty document 28129400 passed to CoreNLP\n"
     ]
    },
    {
     "name": "stdout",
     "output_type": "stream",
     "text": [
      "\r",
      "[========================                ] 58%"
     ]
    },
    {
     "name": "stderr",
     "output_type": "stream",
     "text": [
      "Warning, empty document 28129402 passed to CoreNLP\n",
      "Warning, empty document 28129392 passed to CoreNLP\n",
      "Warning, empty document 28129357 passed to CoreNLP\n",
      "Warning, empty document 28129328 passed to CoreNLP\n",
      "Warning, empty document 28129327 passed to CoreNLP\n",
      "Warning, empty document 28129375 passed to CoreNLP\n",
      "Warning, empty document 28129325 passed to CoreNLP\n"
     ]
    },
    {
     "name": "stdout",
     "output_type": "stream",
     "text": [
      "\r",
      "[========================                ] 59%"
     ]
    },
    {
     "name": "stderr",
     "output_type": "stream",
     "text": [
      "Warning, empty document 28125995 passed to CoreNLP\n"
     ]
    },
    {
     "name": "stdout",
     "output_type": "stream",
     "text": [
      "\r",
      "[=========================               ] 60%"
     ]
    },
    {
     "name": "stderr",
     "output_type": "stream",
     "text": [
      "Warning, empty document 28191002 passed to CoreNLP\n"
     ]
    },
    {
     "name": "stdout",
     "output_type": "stream",
     "text": [
      "\r",
      "[=========================               ] 61%"
     ]
    },
    {
     "name": "stderr",
     "output_type": "stream",
     "text": [
      "Warning, empty document 28191455 passed to CoreNLP\n",
      "Warning, empty document 28123171 passed to CoreNLP\n",
      "Warning, empty document 28125566 passed to CoreNLP\n",
      "Warning, empty document 28123172 passed to CoreNLP\n",
      "Warning, empty document 28125073 passed to CoreNLP\n",
      "Warning, empty document 28154805 passed to CoreNLP\n",
      "Warning, empty document 28154802 passed to CoreNLP\n"
     ]
    },
    {
     "name": "stdout",
     "output_type": "stream",
     "text": [
      "\r",
      "[=========================               ] 62%"
     ]
    },
    {
     "name": "stderr",
     "output_type": "stream",
     "text": [
      "Warning, empty document 28125999 passed to CoreNLP\n",
      "Warning, empty document 28125968 passed to CoreNLP\n",
      "Warning, empty document 28149257 passed to CoreNLP\n",
      "Warning, empty document 28126013 passed to CoreNLP\n",
      "Warning, empty document 28126001 passed to CoreNLP\n"
     ]
    },
    {
     "name": "stdout",
     "output_type": "stream",
     "text": [
      "\r",
      "[==========================              ] 63%"
     ]
    },
    {
     "name": "stderr",
     "output_type": "stream",
     "text": [
      "Warning, empty document 28149327 passed to CoreNLP\n",
      "Warning, empty document 28125966 passed to CoreNLP\n",
      "Warning, empty document 28126023 passed to CoreNLP\n",
      "Warning, empty document 28126020 passed to CoreNLP\n",
      "Warning, empty document 28126034 passed to CoreNLP\n",
      "Warning, empty document 28125958 passed to CoreNLP\n",
      "Warning, empty document 28125976 passed to CoreNLP\n",
      "Warning, empty document 28125986 passed to CoreNLP\n",
      "Warning, empty document 28125989 passed to CoreNLP\n",
      "Warning, empty document 28149325 passed to CoreNLP\n",
      "Warning, empty document 28125970 passed to CoreNLP\n",
      "Warning, empty document 28126036 passed to CoreNLP\n",
      "Warning, empty document 28126004 passed to CoreNLP\n",
      "Warning, empty document 28125965 passed to CoreNLP\n",
      "Warning, empty document 28125984 passed to CoreNLP\n",
      "Warning, empty document 28125987 passed to CoreNLP\n",
      "Warning, empty document 28127936 passed to CoreNLP\n"
     ]
    },
    {
     "name": "stdout",
     "output_type": "stream",
     "text": [
      "\r",
      "[==========================              ] 64%"
     ]
    },
    {
     "name": "stderr",
     "output_type": "stream",
     "text": [
      "Warning, empty document 28125729 passed to CoreNLP\n",
      "Warning, empty document 28125617 passed to CoreNLP\n",
      "Warning, empty document 28125641 passed to CoreNLP\n",
      "Warning, empty document 28125733 passed to CoreNLP\n",
      "Warning, empty document 28125601 passed to CoreNLP\n",
      "Warning, empty document 28125598 passed to CoreNLP\n"
     ]
    },
    {
     "name": "stdout",
     "output_type": "stream",
     "text": [
      "\r",
      "[===========================             ] 65%"
     ]
    },
    {
     "name": "stderr",
     "output_type": "stream",
     "text": [
      "Warning, empty document 28125693 passed to CoreNLP\n",
      "Warning, empty document 28125711 passed to CoreNLP\n",
      "Warning, empty document 28125604 passed to CoreNLP\n"
     ]
    },
    {
     "name": "stdout",
     "output_type": "stream",
     "text": [
      "\r",
      "[===========================             ] 66%"
     ]
    },
    {
     "name": "stderr",
     "output_type": "stream",
     "text": [
      "Warning, empty document 28125731 passed to CoreNLP\n",
      "Warning, empty document 28125672 passed to CoreNLP\n",
      "Warning, empty document 28125730 passed to CoreNLP\n",
      "Warning, empty document 28125740 passed to CoreNLP\n"
     ]
    },
    {
     "name": "stdout",
     "output_type": "stream",
     "text": [
      "[============================            ] 68%"
     ]
    },
    {
     "name": "stderr",
     "output_type": "stream",
     "text": [
      "Warning, empty document 28122559 passed to CoreNLP\n",
      "Warning, empty document 28122597 passed to CoreNLP\n",
      "Warning, empty document 28122624 passed to CoreNLP\n",
      "Warning, empty document 28122512 passed to CoreNLP\n",
      "Warning, empty document 28122620 passed to CoreNLP\n",
      "Warning, empty document 28122499 passed to CoreNLP\n",
      "Warning, empty document 28122547 passed to CoreNLP\n",
      "Warning, empty document 28122586 passed to CoreNLP\n",
      "Warning, empty document 28122515 passed to CoreNLP\n",
      "Warning, empty document 28122579 passed to CoreNLP\n",
      "Warning, empty document 28122494 passed to CoreNLP\n",
      "Warning, empty document 28122558 passed to CoreNLP\n",
      "Warning, empty document 28122497 passed to CoreNLP\n",
      "Warning, empty document 28122641 passed to CoreNLP\n",
      "Warning, empty document 28122570 passed to CoreNLP\n",
      "Warning, empty document 28122574 passed to CoreNLP\n",
      "Warning, empty document 28122575 passed to CoreNLP\n",
      "Warning, empty document 28149324 passed to CoreNLP\n",
      "Warning, empty document 28122528 passed to CoreNLP\n",
      "Warning, empty document 28124221 passed to CoreNLP\n",
      "Warning, empty document 28184220 passed to CoreNLP\n",
      "Warning, empty document 28184195 passed to CoreNLP\n"
     ]
    },
    {
     "name": "stdout",
     "output_type": "stream",
     "text": [
      "\r",
      "[============================            ] 69%"
     ]
    },
    {
     "name": "stderr",
     "output_type": "stream",
     "text": [
      "Warning, empty document 28163834 passed to CoreNLP\n"
     ]
    },
    {
     "name": "stdout",
     "output_type": "stream",
     "text": [
      "\r",
      "[=============================           ] 70%"
     ]
    },
    {
     "name": "stderr",
     "output_type": "stream",
     "text": [
      "Warning, empty document 28130553 passed to CoreNLP\n",
      "Warning, empty document 5302138 passed to CoreNLP\n"
     ]
    },
    {
     "name": "stdout",
     "output_type": "stream",
     "text": [
      "\r",
      "[=============================           ] 71%"
     ]
    },
    {
     "name": "stderr",
     "output_type": "stream",
     "text": [
      "Warning, empty document 28179967 passed to CoreNLP\n",
      "Warning, empty document 28179964 passed to CoreNLP\n",
      "Warning, empty document 28182151 passed to CoreNLP\n",
      "Warning, empty document 28182131 passed to CoreNLP\n",
      "Warning, empty document 28182130 passed to CoreNLP\n",
      "Warning, empty document 28122835 passed to CoreNLP\n",
      "Warning, empty document 28122829 passed to CoreNLP\n",
      "Warning, empty document 28122831 passed to CoreNLP\n"
     ]
    },
    {
     "name": "stdout",
     "output_type": "stream",
     "text": [
      "\r",
      "[=============================           ] 72%"
     ]
    },
    {
     "name": "stderr",
     "output_type": "stream",
     "text": [
      "Warning, empty document 28149696 passed to CoreNLP\n",
      "Warning, empty document 28149695 passed to CoreNLP\n",
      "Warning, empty document 28124196 passed to CoreNLP\n",
      "Warning, empty document 28124234 passed to CoreNLP\n",
      "Warning, empty document 28122495 passed to CoreNLP\n",
      "Warning, empty document 28122545 passed to CoreNLP\n",
      "Warning, empty document 28122525 passed to CoreNLP\n",
      "Warning, empty document 28122617 passed to CoreNLP\n",
      "Warning, empty document 28122543 passed to CoreNLP\n",
      "Warning, empty document 28179017 passed to CoreNLP\n",
      "Warning, empty document 28178988 passed to CoreNLP\n",
      "Warning, empty document 28178976 passed to CoreNLP\n",
      "Warning, empty document 28179003 passed to CoreNLP\n"
     ]
    },
    {
     "name": "stdout",
     "output_type": "stream",
     "text": [
      "\r",
      "[==============================          ] 73%"
     ]
    },
    {
     "name": "stderr",
     "output_type": "stream",
     "text": [
      "Warning, empty document 5299153 passed to CoreNLP\n",
      "Warning, empty document 5299087 passed to CoreNLP\n",
      "Warning, empty document 28173803 passed to CoreNLP\n",
      "Warning, empty document 28173758 passed to CoreNLP\n"
     ]
    },
    {
     "name": "stdout",
     "output_type": "stream",
     "text": [
      "[===============================         ] 75%"
     ]
    },
    {
     "name": "stderr",
     "output_type": "stream",
     "text": [
      "Warning, empty document 28028288 passed to CoreNLP\n",
      "Warning, empty document 26830547 passed to CoreNLP\n",
      "Warning, empty document 27807624 passed to CoreNLP\n"
     ]
    },
    {
     "name": "stdout",
     "output_type": "stream",
     "text": [
      "\r",
      "[===============================         ] 76%"
     ]
    },
    {
     "name": "stderr",
     "output_type": "stream",
     "text": [
      "Warning, empty document 27358229 passed to CoreNLP\n",
      "Warning, empty document 5270447 passed to CoreNLP\n",
      "Warning, empty document 21223436 passed to CoreNLP\n",
      "Warning, empty document 25684049 passed to CoreNLP\n"
     ]
    },
    {
     "name": "stdout",
     "output_type": "stream",
     "text": [
      "\r",
      "[===============================         ] 77%"
     ]
    },
    {
     "name": "stderr",
     "output_type": "stream",
     "text": [
      "Warning, empty document 5278193 passed to CoreNLP\n",
      "Warning, empty document 28138108 passed to CoreNLP\n",
      "Warning, empty document 28138111 passed to CoreNLP\n",
      "Warning, empty document 28138112 passed to CoreNLP\n",
      "Warning, empty document 28138110 passed to CoreNLP\n",
      "Warning, empty document 28178922 passed to CoreNLP\n",
      "Warning, empty document 5297203 passed to CoreNLP\n",
      "Warning, empty document 28173830 passed to CoreNLP\n",
      "Warning, empty document 28173834 passed to CoreNLP\n"
     ]
    },
    {
     "name": "stdout",
     "output_type": "stream",
     "text": [
      "[================================        ] 79%"
     ]
    },
    {
     "name": "stderr",
     "output_type": "stream",
     "text": [
      "Warning, empty document 28173817 passed to CoreNLP\n",
      "Warning, empty document 28173833 passed to CoreNLP\n",
      "Warning, empty document 28173878 passed to CoreNLP\n",
      "Warning, empty document 28173812 passed to CoreNLP\n",
      "Warning, empty document 28173846 passed to CoreNLP\n",
      "Warning, empty document 28173875 passed to CoreNLP\n",
      "Warning, empty document 28173848 passed to CoreNLP\n",
      "Warning, empty document 28173879 passed to CoreNLP\n",
      "Warning, empty document 28173829 passed to CoreNLP\n",
      "Warning, empty document 28173859 passed to CoreNLP\n",
      "Warning, empty document 28173850 passed to CoreNLP\n",
      "Warning, empty document 5297176 passed to CoreNLP\n",
      "Warning, empty document 28173832 passed to CoreNLP\n",
      "Warning, empty document 5297167 passed to CoreNLP\n",
      "Warning, empty document 28173767 passed to CoreNLP\n",
      "Warning, empty document 28173753 passed to CoreNLP\n",
      "Warning, empty document 28173831 passed to CoreNLP\n",
      "Warning, empty document 28173757 passed to CoreNLP\n",
      "Warning, empty document 28173788 passed to CoreNLP\n",
      "Warning, empty document 28173869 passed to CoreNLP\n",
      "Warning, empty document 28173861 passed to CoreNLP\n",
      "Warning, empty document 5297125 passed to CoreNLP\n",
      "Warning, empty document 28173844 passed to CoreNLP\n",
      "Warning, empty document 28173783 passed to CoreNLP\n",
      "Warning, empty document 28173805 passed to CoreNLP\n",
      "Warning, empty document 5297118 passed to CoreNLP\n",
      "Warning, empty document 5297095 passed to CoreNLP\n"
     ]
    },
    {
     "name": "stdout",
     "output_type": "stream",
     "text": [
      "\r",
      "[=================================       ] 80%"
     ]
    },
    {
     "name": "stderr",
     "output_type": "stream",
     "text": [
      "Warning, empty document 28173852 passed to CoreNLP\n",
      "Warning, empty document 28173748 passed to CoreNLP\n",
      "Warning, empty document 28173860 passed to CoreNLP\n",
      "Warning, empty document 28173770 passed to CoreNLP\n",
      "Warning, empty document 28173863 passed to CoreNLP\n",
      "Warning, empty document 28173762 passed to CoreNLP\n",
      "Warning, empty document 28173835 passed to CoreNLP\n",
      "Warning, empty document 28173797 passed to CoreNLP\n",
      "Warning, empty document 28166731 passed to CoreNLP\n",
      "Warning, empty document 28166789 passed to CoreNLP\n",
      "Warning, empty document 28184278 passed to CoreNLP\n",
      "Warning, empty document 28166818 passed to CoreNLP\n",
      "Warning, empty document 28173777 passed to CoreNLP\n",
      "Warning, empty document 28173781 passed to CoreNLP\n"
     ]
    },
    {
     "name": "stdout",
     "output_type": "stream",
     "text": [
      "[=================================       ] 82%"
     ]
    },
    {
     "name": "stderr",
     "output_type": "stream",
     "text": [
      "Warning, empty document 5295218 passed to CoreNLP\n",
      "Warning, empty document 28166742 passed to CoreNLP\n",
      "Warning, empty document 5295214 passed to CoreNLP\n",
      "Warning, empty document 28166721 passed to CoreNLP\n",
      "Warning, empty document 28166797 passed to CoreNLP\n",
      "Warning, empty document 28166753 passed to CoreNLP\n",
      "Warning, empty document 28166726 passed to CoreNLP\n",
      "Warning, empty document 28166778 passed to CoreNLP\n",
      "Warning, empty document 28166748 passed to CoreNLP\n"
     ]
    },
    {
     "name": "stdout",
     "output_type": "stream",
     "text": [
      "\r",
      "[==================================      ] 83%"
     ]
    },
    {
     "name": "stderr",
     "output_type": "stream",
     "text": [
      "Warning, empty document 28166831 passed to CoreNLP\n",
      "Warning, empty document 28166756 passed to CoreNLP\n",
      "Warning, empty document 28166815 passed to CoreNLP\n",
      "Warning, empty document 28166719 passed to CoreNLP\n",
      "Warning, empty document 28166727 passed to CoreNLP\n",
      "Warning, empty document 28166744 passed to CoreNLP\n",
      "Warning, empty document 28166825 passed to CoreNLP\n",
      "Warning, empty document 28166767 passed to CoreNLP\n",
      "Warning, empty document 28166813 passed to CoreNLP\n"
     ]
    },
    {
     "name": "stdout",
     "output_type": "stream",
     "text": [
      "\r",
      "[==================================      ] 84%"
     ]
    },
    {
     "name": "stderr",
     "output_type": "stream",
     "text": [
      "Warning, empty document 28166781 passed to CoreNLP\n",
      "Warning, empty document 28184177 passed to CoreNLP\n",
      "Warning, empty document 28166774 passed to CoreNLP\n",
      "Warning, empty document 28166732 passed to CoreNLP\n",
      "Warning, empty document 28184178 passed to CoreNLP\n",
      "Warning, empty document 28166795 passed to CoreNLP\n",
      "Warning, empty document 28184174 passed to CoreNLP\n",
      "Warning, empty document 28184247 passed to CoreNLP\n",
      "Warning, empty document 28166765 passed to CoreNLP\n",
      "Warning, empty document 28166749 passed to CoreNLP\n",
      "Warning, empty document 28166729 passed to CoreNLP\n",
      "Warning, empty document 28166799 passed to CoreNLP\n",
      "Warning, empty document 28166833 passed to CoreNLP\n",
      "Warning, empty document 28166784 passed to CoreNLP\n",
      "Warning, empty document 28166746 passed to CoreNLP\n",
      "Warning, empty document 28166834 passed to CoreNLP\n",
      "Warning, empty document 28166761 passed to CoreNLP\n",
      "Warning, empty document 28166766 passed to CoreNLP\n",
      "Warning, empty document 28166762 passed to CoreNLP\n",
      "Warning, empty document 28166758 passed to CoreNLP\n",
      "Warning, empty document 28166776 passed to CoreNLP\n"
     ]
    },
    {
     "name": "stdout",
     "output_type": "stream",
     "text": [
      "\r",
      "[===================================     ] 85%"
     ]
    },
    {
     "name": "stderr",
     "output_type": "stream",
     "text": [
      "Warning, empty document 28162093 passed to CoreNLP\n",
      "Warning, empty document 5292810 passed to CoreNLP\n",
      "Warning, empty document 28162091 passed to CoreNLP\n",
      "Warning, empty document 28166792 passed to CoreNLP\n",
      "Warning, empty document 28166716 passed to CoreNLP\n",
      "Warning, empty document 28166733 passed to CoreNLP\n",
      "Warning, empty document 28166796 passed to CoreNLP\n"
     ]
    },
    {
     "name": "stdout",
     "output_type": "stream",
     "text": [
      "[===================================     ] 87%"
     ]
    },
    {
     "name": "stderr",
     "output_type": "stream",
     "text": [
      "Warning, empty document 5289869 passed to CoreNLP\n",
      "Warning, empty document 28180098 passed to CoreNLP\n",
      "Warning, empty document 28174606 passed to CoreNLP\n",
      "Warning, empty document 28160777 passed to CoreNLP\n",
      "Warning, empty document 28174605 passed to CoreNLP\n",
      "Warning, empty document 28160778 passed to CoreNLP\n",
      "Warning, empty document 28174603 passed to CoreNLP\n",
      "Warning, empty document 28160779 passed to CoreNLP\n",
      "Warning, empty document 28159011 passed to CoreNLP\n"
     ]
    },
    {
     "name": "stdout",
     "output_type": "stream",
     "text": [
      "\r",
      "[====================================    ] 88%"
     ]
    },
    {
     "name": "stderr",
     "output_type": "stream",
     "text": [
      "Warning, empty document 28151878 passed to CoreNLP\n",
      "Warning, empty document 28151848 passed to CoreNLP\n",
      "Warning, empty document 28174608 passed to CoreNLP\n"
     ]
    },
    {
     "name": "stdout",
     "output_type": "stream",
     "text": [
      "\r",
      "[====================================    ] 89%"
     ]
    },
    {
     "name": "stderr",
     "output_type": "stream",
     "text": [
      "Warning, empty document 28158970 passed to CoreNLP\n",
      "Warning, empty document 28158983 passed to CoreNLP\n",
      "Warning, empty document 28158976 passed to CoreNLP\n",
      "Warning, empty document 28159013 passed to CoreNLP\n",
      "Warning, empty document 28158974 passed to CoreNLP\n",
      "Warning, empty document 28158968 passed to CoreNLP\n",
      "Warning, empty document 28174624 passed to CoreNLP\n",
      "Warning, empty document 28158999 passed to CoreNLP\n",
      "Warning, empty document 28159016 passed to CoreNLP\n",
      "Warning, empty document 28158969 passed to CoreNLP\n",
      "Warning, empty document 28158993 passed to CoreNLP\n",
      "Warning, empty document 28158980 passed to CoreNLP\n",
      "Warning, empty document 28174625 passed to CoreNLP\n",
      "Warning, empty document 28174596 passed to CoreNLP\n",
      "Warning, empty document 28159014 passed to CoreNLP\n"
     ]
    },
    {
     "name": "stdout",
     "output_type": "stream",
     "text": [
      "\r",
      "[=====================================   ] 90%"
     ]
    },
    {
     "name": "stderr",
     "output_type": "stream",
     "text": [
      "Warning, empty document 28158989 passed to CoreNLP\n",
      "Warning, empty document 28158975 passed to CoreNLP\n"
     ]
    },
    {
     "name": "stdout",
     "output_type": "stream",
     "text": [
      "\r",
      "[=====================================   ] 91%"
     ]
    },
    {
     "name": "stderr",
     "output_type": "stream",
     "text": [
      "Warning, empty document 28168124 passed to CoreNLP\n",
      "Warning, empty document 28168120 passed to CoreNLP\n",
      "Warning, empty document 28168113 passed to CoreNLP\n",
      "Warning, empty document 28174676 passed to CoreNLP\n",
      "Warning, empty document 28153039 passed to CoreNLP\n",
      "Warning, empty document 28152985 passed to CoreNLP\n",
      "Warning, empty document 28174597 passed to CoreNLP\n",
      "Warning, empty document 28174607 passed to CoreNLP\n",
      "Warning, empty document 28153035 passed to CoreNLP\n"
     ]
    },
    {
     "name": "stdout",
     "output_type": "stream",
     "text": [
      "\r",
      "[=====================================   ] 92%"
     ]
    },
    {
     "name": "stderr",
     "output_type": "stream",
     "text": [
      "Warning, empty document 28174513 passed to CoreNLP\n",
      "Warning, empty document 28152982 passed to CoreNLP\n",
      "Warning, empty document 28153004 passed to CoreNLP\n",
      "Warning, empty document 28153005 passed to CoreNLP\n",
      "Warning, empty document 28153008 passed to CoreNLP\n",
      "Warning, empty document 28153015 passed to CoreNLP\n",
      "Warning, empty document 28152976 passed to CoreNLP\n",
      "Warning, empty document 28174665 passed to CoreNLP\n",
      "Warning, empty document 28174663 passed to CoreNLP\n",
      "Warning, empty document 28153013 passed to CoreNLP\n",
      "Warning, empty document 28153028 passed to CoreNLP\n",
      "Warning, empty document 28153054 passed to CoreNLP\n",
      "Warning, empty document 28184257 passed to CoreNLP\n",
      "Warning, empty document 28184176 passed to CoreNLP\n",
      "Warning, empty document 28152979 passed to CoreNLP\n",
      "Warning, empty document 28184234 passed to CoreNLP\n",
      "Warning, empty document 28153010 passed to CoreNLP\n",
      "Warning, empty document 28122501 passed to CoreNLP\n",
      "Warning, empty document 28149200 passed to CoreNLP\n"
     ]
    },
    {
     "name": "stdout",
     "output_type": "stream",
     "text": [
      "\r",
      "[======================================  ] 93%"
     ]
    },
    {
     "name": "stderr",
     "output_type": "stream",
     "text": [
      "Warning, empty document 28122637 passed to CoreNLP\n",
      "Warning, empty document 28122514 passed to CoreNLP\n",
      "Warning, empty document 28122610 passed to CoreNLP\n",
      "Warning, empty document 28122511 passed to CoreNLP\n"
     ]
    },
    {
     "name": "stdout",
     "output_type": "stream",
     "text": [
      "\r",
      "[======================================  ] 94%"
     ]
    },
    {
     "name": "stderr",
     "output_type": "stream",
     "text": [
      "Warning, empty document 28158198 passed to CoreNLP\n",
      "Warning, empty document 28158243 passed to CoreNLP\n"
     ]
    },
    {
     "name": "stdout",
     "output_type": "stream",
     "text": [
      "\r",
      "[======================================= ] 95%"
     ]
    },
    {
     "name": "stderr",
     "output_type": "stream",
     "text": [
      "Warning, empty document 28158195 passed to CoreNLP\n",
      "Warning, empty document 28158236 passed to CoreNLP\n",
      "Warning, empty document 28158261 passed to CoreNLP\n",
      "Warning, empty document 28158257 passed to CoreNLP\n",
      "Warning, empty document 28158225 passed to CoreNLP\n",
      "Warning, empty document 28158226 passed to CoreNLP\n"
     ]
    },
    {
     "name": "stdout",
     "output_type": "stream",
     "text": [
      "\r",
      "[======================================= ] 96%"
     ]
    },
    {
     "name": "stderr",
     "output_type": "stream",
     "text": [
      "Warning, empty document 5289951 passed to CoreNLP\n",
      "Warning, empty document 28155204 passed to CoreNLP\n",
      "Warning, empty document 28151921 passed to CoreNLP\n"
     ]
    },
    {
     "name": "stdout",
     "output_type": "stream",
     "text": [
      "\r",
      "[======================================= ] 97%"
     ]
    },
    {
     "name": "stderr",
     "output_type": "stream",
     "text": [
      "Warning, empty document 28203114 passed to CoreNLP\n",
      "Warning, empty document 28203094 passed to CoreNLP\n",
      "Warning, empty document 28155029 passed to CoreNLP\n",
      "Warning, empty document 28152068 passed to CoreNLP\n",
      "Warning, empty document 28151975 passed to CoreNLP\n"
     ]
    },
    {
     "name": "stdout",
     "output_type": "stream",
     "text": [
      "\r",
      "[========================================] 98%"
     ]
    },
    {
     "name": "stderr",
     "output_type": "stream",
     "text": [
      "Warning, empty document 28152105 passed to CoreNLP\n",
      "Warning, empty document 28152040 passed to CoreNLP\n",
      "Warning, empty document 28152039 passed to CoreNLP\n",
      "Warning, empty document 28152087 passed to CoreNLP\n",
      "Warning, empty document 28152011 passed to CoreNLP\n"
     ]
    },
    {
     "name": "stdout",
     "output_type": "stream",
     "text": [
      "\r",
      "[========================================] 99%"
     ]
    },
    {
     "name": "stderr",
     "output_type": "stream",
     "text": [
      "Warning, empty document 28151991 passed to CoreNLP\n",
      "Warning, empty document 28151948 passed to CoreNLP\n"
     ]
    },
    {
     "name": "stdout",
     "output_type": "stream",
     "text": [
      "\r",
      "[========================================] 100%"
     ]
    },
    {
     "name": "stderr",
     "output_type": "stream",
     "text": [
      "Warning, empty document 28151982 passed to CoreNLP\n"
     ]
    },
    {
     "name": "stdout",
     "output_type": "stream",
     "text": [
      "[========================================] 100%%\n",
      "\n",
      "Running UDF...\n",
      "[========================================] 100%%\n",
      "\n",
      "Running UDF...\n",
      "[========================================] 100%3%\n",
      "\n"
     ]
    },
    {
     "name": "stderr",
     "output_type": "stream",
     "text": [
      "Warning, empty document 28152069 passed to CoreNLP\n"
     ]
    }
   ],
   "source": [
    "from snorkel.parser import CorpusParser\n",
    "\n",
    "corpus_parser = CorpusParser()\n",
    "corpus_parser.apply(list(train_preprocessor)) #parallelism can be run with a Postgres DBMS, but not SQLite\n",
    "corpus_parser.apply(list(dev_preprocessor), clear=False)\n",
    "corpus_parser.apply(list(test_preprocessor), clear=False)"
   ]
  },
  {
   "cell_type": "code",
   "execution_count": 2,
   "metadata": {},
   "outputs": [
    {
     "name": "stdout",
     "output_type": "stream",
     "text": [
      "1905\n",
      "160\n",
      "30\n"
     ]
    }
   ],
   "source": [
    "from six.moves.cPickle import load\n",
    "from snorkel.models import Document, Sentence\n",
    "import cPickle\n",
    "\n",
    "with open('articles/doc_ids.pkl', 'rb') as f:\n",
    "    train_ids, dev_ids, test_ids = load(f)\n",
    "train_ids, dev_ids, test_ids = set(train_ids), set(dev_ids), set(test_ids)\n",
    "print len(train_ids)\n",
    "print len(dev_ids)\n",
    "print len(test_ids)\n",
    "train_sents, dev_sents, test_sents = set(), set(), set()\n",
    "docs = session.query(Document).order_by(Document.name).all()\n",
    "for i, doc in enumerate(docs):\n",
    "    for s in doc.sentences:\n",
    "        if doc.name in train_ids:\n",
    "            train_sents.add(s)\n",
    "        elif doc.name in dev_ids:\n",
    "            dev_sents.add(s)\n",
    "        elif doc.name in test_ids:\n",
    "            test_sents.add(s)\n",
    "        else:\n",
    "            raise Exception('ID <{0}> not found in any id set'.format(doc.name))\n",
    "    "
   ]
  },
  {
   "cell_type": "code",
   "execution_count": 3,
   "metadata": {},
   "outputs": [
    {
     "name": "stdout",
     "output_type": "stream",
     "text": [
      "ASDFASDF\n"
     ]
    }
   ],
   "source": [
    "from snorkel.models import Candidate, candidate_subclass\n",
    "\n",
    "BiomarkerCondition = candidate_subclass('BiomarkerCondition', ['biomarker', 'condition'])\n",
    "\n",
    "from snorkel.models import candidate_subclass\n",
    "from snorkel.candidates import Ngrams, CandidateExtractor\n",
    "from snorkel.matchers import PersonMatcher\n",
    "import matchers\n",
    "from snorkel.models import Document\n",
    "from snorkel.viewer import SentenceNgramViewer\n",
    "import os\n",
    "\n",
    "biomarker_ngrams = Ngrams(n_max=1)\n",
    "condition_ngrams = Ngrams(n_max=7)\n",
    "\n",
    "# Create our two Matchers\n",
    "bMatcher = matchers.getBiomarkerMatcher()\n",
    "cMatcher = matchers.getDiseaseMatcher()\n",
    "    \n",
    "# Building the CandidateExtractor \n",
    "candidate_extractor = CandidateExtractor(BiomarkerCondition, [biomarker_ngrams, condition_ngrams], [bMatcher, cMatcher])\n"
   ]
  },
  {
   "cell_type": "code",
   "execution_count": 5,
   "metadata": {},
   "outputs": [
    {
     "name": "stderr",
     "output_type": "stream",
     "text": [
      "/usr/local/lib/python2.7/dist-packages/matplotlib/__init__.py:1405: UserWarning: \n",
      "This call to matplotlib.use() has no effect because the backend has already\n",
      "been chosen; matplotlib.use() must be called *before* pylab, matplotlib.pyplot,\n",
      "or matplotlib.backends is imported for the first time.\n",
      "\n",
      "  warnings.warn(_use_error_msg)\n"
     ]
    },
    {
     "name": "stdout",
     "output_type": "stream",
     "text": [
      "Clearing existing...\n",
      "Running UDF...\n",
      "[========================================] 100%%\n",
      "\n",
      "('Number of candidates:', 1916)\n",
      "Clearing existing...\n",
      "Running UDF...\n",
      "[========================================] 100%%\n",
      "\n",
      "('Number of candidates:', 571)\n",
      "Clearing existing...\n",
      "Running UDF...\n",
      "[========================================] 100%%\n",
      "\n",
      "('Number of candidates:', 105)\n"
     ]
    }
   ],
   "source": [
    "from candidate_adjective_fixer import *\n",
    "for k, sents in enumerate([train_sents, dev_sents, test_sents]):\n",
    "    candidate_extractor.apply(sents, split=k)\n",
    "    print(\"Number of candidates:\", session.query(BiomarkerCondition).filter(BiomarkerCondition.split == k).count())\n",
    "\n",
    "\n",
    "dev_cands = session.query(BiomarkerCondition).filter(BiomarkerCondition.split == 1).all()\n"
   ]
  },
  {
   "cell_type": "code",
   "execution_count": 8,
   "metadata": {
    "scrolled": true
   },
   "outputs": [
    {
     "name": "stdout",
     "output_type": "stream",
     "text": [
      "(Span(\"EADC\", sentence=13484, chars=[122,125], words=[18,18]), Span(\"Alzheimer's disease\", sentence=13484, chars=[98,116], words=[13,15]))\n",
      "(Span(\"INTRODUCTION\", sentence=13485, chars=[0,11], words=[0,0]), Span(\"Alzheimer's disease\", sentence=13485, chars=[56,74], words=[9,11]))\n",
      "(Span(\"HIV\", sentence=13359, chars=[119,121], words=[18,18]), Span(\"disease\", sentence=13359, chars=[123,129], words=[19,19]))\n",
      "Checking Biomarker: 28264037::span:2572:2574\n",
      "Checking Condition: 28264037::span:107:129\n",
      "1\n",
      "(Span(\"HAND\", sentence=13359, chars=[97,100], words=[14,14]), Span(\"disease\", sentence=13359, chars=[123,129], words=[19,19]))\n",
      "Checking Biomarker: 28264037::span:2550:2553\n",
      "Checking Condition: 28264037::span:107:129\n",
      "1\n",
      "(Span(\"PTEN\", sentence=13820, chars=[20,23], words=[4,4]), Span(\"lung cancer\", sentence=13820, chars=[106,116], words=[17,18]))\n",
      "Checking Biomarker: 28263037::span:1332:1335\n",
      "Checking Condition: 28263037::span:91:116\n",
      "1\n",
      "(Span(\"CONCLUSION\", sentence=13820, chars=[0,9], words=[0,0]), Span(\"lung cancer\", sentence=13820, chars=[106,116], words=[17,18]))\n",
      "Checking Biomarker: 28263037::span:1312:1321\n",
      "Checking Condition: 28263037::span:91:116\n",
      "1\n",
      "(Span(\"ADC\", sentence=13820, chars=[148,150], words=[24,24]), Span(\"lung cancer\", sentence=13820, chars=[106,116], words=[17,18]))\n",
      "Checking Biomarker: 28263037::span:1460:1462\n",
      "Checking Condition: 28263037::span:91:116\n",
      "1\n",
      "(Span(\"LTBP-4\", sentence=13734, chars=[40,45], words=[7,7]), Span(\"scleroderma\", sentence=13734, chars=[56,66], words=[10,10]))\n",
      "Checking Biomarker: 28263294::span:834:839\n",
      "Checking Condition: 28263294::span:50:66\n",
      "1\n",
      "(Span(\"POAG\", sentence=14801, chars=[110,113], words=[18,18]), Span(\"open-angle glaucoma\", sentence=14801, chars=[89,107], words=[15,16]))\n",
      "Checking Biomarker: 28260854::span:176:179\n",
      "Checking Condition: 28260854::span:75:107\n",
      "1\n",
      "(Span(\"PURPOSE\", sentence=14801, chars=[0,6], words=[0,0]), Span(\"open-angle glaucoma\", sentence=14801, chars=[89,107], words=[15,16]))\n",
      "Checking Biomarker: 28260854::span:66:72\n",
      "Checking Condition: 28260854::span:75:107\n",
      "1\n",
      "(Span(\"CONCLUSIONS\", sentence=15052, chars=[0,10], words=[0,0]), Span(\"cancer\", sentence=15052, chars=[146,151], words=[24,24]))\n",
      "Checking Biomarker: 28260162::span:1553:1563\n",
      "Checking Condition: 28260162::span:124:151\n",
      "1\n",
      "(Span(\"POAG\", sentence=14802, chars=[26,29], words=[4,4]), Span(\"glaucoma\", sentence=14802, chars=[133,140], words=[20,20]))\n",
      "Checking Biomarker: 28260854::span:209:212\n",
      "Checking Condition: 28260854::span:109:140\n",
      "1\n",
      "(Span(\"POAG\", sentence=14802, chars=[81,84], words=[13,13]), Span(\"glaucoma\", sentence=14802, chars=[133,140], words=[20,20]))\n",
      "Checking Biomarker: 28260854::span:264:267\n",
      "Checking Condition: 28260854::span:109:140\n",
      "1\n",
      "(Span(\"METHODS\", sentence=14802, chars=[0,6], words=[0,0]), Span(\"glaucoma\", sentence=14802, chars=[133,140], words=[20,20]))\n",
      "Checking Biomarker: 28260854::span:183:189\n",
      "Checking Condition: 28260854::span:109:140\n",
      "1\n",
      "(Span(\"NPC\", sentence=14521, chars=[192,194], words=[27,27]), Span(\"carcinoma\", sentence=14521, chars=[181,189], words=[25,25]))\n",
      "Checking Biomarker: 28261341::span:305:307\n",
      "Checking Condition: 28261341::span:166:189\n",
      "1\n",
      "(Span(\"ARDS\", sentence=15028, chars=[50,53], words=[8,8]), Span(\"syndrome\", sentence=15028, chars=[40,47], words=[6,6]))\n",
      "Checking Biomarker: 28260175::span:157:160\n",
      "Checking Condition: 28260175::span:13:47\n",
      "1\n",
      "(Span(\"PURPOSE\", sentence=15028, chars=[0,6], words=[0,0]), Span(\"syndrome\", sentence=15028, chars=[40,47], words=[6,6]))\n",
      "Checking Biomarker: 28260175::span:107:113\n",
      "Checking Condition: 28260175::span:13:47\n",
      "1\n",
      "(Span(\"BACKGROUND\", sentence=14083, chars=[0,9], words=[0,0]), Span(\"cancer\", sentence=14083, chars=[129,134], words=[19,19]))\n",
      "(Span(\"BACKGROUND\", sentence=14083, chars=[0,9], words=[0,0]), Span(\"cancer\", sentence=14083, chars=[68,73], words=[10,10]))\n",
      "Checking Biomarker: 28262306::span:137:146\n",
      "Checking Condition: 28262306::span:60:73\n",
      "1\n",
      "(Span(\"AOM-DSS\", sentence=13393, chars=[14,20], words=[2,2]), Span(\"colitis\", sentence=13393, chars=[197,203], words=[27,27]))\n",
      "(Span(\"mRNA\", sentence=14509, chars=[7,10], words=[1,1]), Span(\"cancer\", sentence=14509, chars=[76,81], words=[10,10]))\n",
      "Checking Biomarker: 28261345::span:7:10\n",
      "Checking Condition: 28261345::span:59:81\n",
      "1\n",
      "(Span(\"HIV\", sentence=13361, chars=[158,160], words=[25,25]), Span(\"disease\", sentence=13361, chars=[66,72], words=[13,13]))\n",
      "(Span(\"CYR61\", sentence=13631, chars=[0,4], words=[0,0]), Span(\"osteosarcoma\", sentence=13631, chars=[117,128], words=[19,19]))\n",
      "(Span(\"SETD2\", sentence=14874, chars=[4,8], words=[1,1]), Span(\"protein deficiency\", sentence=14874, chars=[10,27], words=[2,3]))\n",
      "Checking Biomarker: 28260718::span:848:852\n",
      "Checking Condition: 28260718::span:4:27\n",
      "1\n",
      "(Span(\"SETD2\", sentence=14874, chars=[85,89], words=[16,16]), Span(\"protein deficiency\", sentence=14874, chars=[10,27], words=[2,3]))\n",
      "Checking Biomarker: 28260718::span:929:933\n",
      "Checking Condition: 28260718::span:4:27\n",
      "1\n",
      "(Span(\"uNGAL\", sentence=14606, chars=[85,89], words=[14,14]), Span(\"kidney disease\", sentence=14606, chars=[174,187], words=[30,31]))\n",
      "Checking Biomarker: 28261284::span:487:491\n",
      "Checking Condition: 28261284::span:165:187\n",
      "1\n",
      "(Span(\"MVP\", sentence=14458, chars=[23,25], words=[4,4]), Span(\"Mitral valve prolapse\", sentence=14458, chars=[0,20], words=[0,2]))\n",
      "(Span(\"BACKGROUND\", sentence=14297, chars=[0,9], words=[0,0]), Span(\"syndrome\", sentence=14297, chars=[58,65], words=[10,10]))\n",
      "Checking Biomarker: 28261908::span:69:78\n",
      "Checking Condition: 28261908::span:43:65\n",
      "1\n",
      "(Span(\"ACS\", sentence=14297, chars=[68,70], words=[12,12]), Span(\"syndrome\", sentence=14297, chars=[58,65], words=[10,10]))\n",
      "Checking Biomarker: 28261908::span:137:139\n",
      "Checking Condition: 28261908::span:43:65\n",
      "1\n",
      "(Span(\"NLR\", sentence=14579, chars=[72,74], words=[11,11]), Span(\"pulmonary tuberculosis\", sentence=14579, chars=[80,101], words=[13,14]))\n",
      "(Span(\"PTB\", sentence=14579, chars=[104,106], words=[16,16]), Span(\"pulmonary tuberculosis\", sentence=14579, chars=[80,101], words=[13,14]))\n",
      "(Span(\"BACKGROUND\", sentence=14921, chars=[0,9], words=[0,0]), Span(\"hepatocellular carcinoma\", sentence=14921, chars=[106,129], words=[16,17]))\n",
      "Checking Biomarker: 28260649::span:206:215\n",
      "Checking Condition: 28260649::span:97:129\n",
      "1\n",
      "(Span(\"HCC\", sentence=14921, chars=[132,134], words=[19,19]), Span(\"hepatocellular carcinoma\", sentence=14921, chars=[106,129], words=[16,17]))\n",
      "Checking Biomarker: 28260649::span:338:340\n",
      "Checking Condition: 28260649::span:97:129\n",
      "1\n",
      "(Span(\"METHODS\", sentence=14113, chars=[0,6], words=[0,0]), Span(\"neuroendocrine tumor\", sentence=14113, chars=[95,114], words=[16,17]))\n",
      "Checking Biomarker: 28262254::span:519:525\n",
      "Checking Condition: 28262254::span:84:114\n",
      "1\n",
      "(Span(\"HCC\", sentence=14922, chars=[186,188], words=[33,33]), Span(\"cancer\", sentence=14922, chars=[83,88], words=[13,13]))\n",
      "(Span(\"HCC\", sentence=14922, chars=[186,188], words=[33,33]), Span(\"hepatitis B\", sentence=14922, chars=[145,155], words=[24,25]))\n",
      "(Span(\"OS\", sentence=14922, chars=[124,125], words=[19,19]), Span(\"cancer\", sentence=14922, chars=[83,88], words=[13,13]))\n",
      "(Span(\"OS\", sentence=14922, chars=[124,125], words=[19,19]), Span(\"hepatitis B\", sentence=14922, chars=[145,155], words=[24,25]))\n",
      "(Span(\"HBV\", sentence=14922, chars=[164,166], words=[28,28]), Span(\"cancer\", sentence=14922, chars=[83,88], words=[13,13]))\n",
      "(Span(\"HBV\", sentence=14922, chars=[164,166], words=[28,28]), Span(\"hepatitis B\", sentence=14922, chars=[145,155], words=[24,25]))\n",
      "(Span(\"ISO\", sentence=14569, chars=[102,104], words=[16,16]), Span(\"myocardial infarction\", sentence=14569, chars=[116,136], words=[20,21]))\n",
      "(Span(\"EGFR\", sentence=13380, chars=[17,20], words=[2,2]), Span(\"squamous cell carcinoma\", sentence=13380, chars=[81,103], words=[12,14]))\n",
      "Checking Biomarker: 28263981::span:17:20\n",
      "Checking Condition: 28263981::span:70:103\n",
      "1\n",
      "(Span(\"ESCC\", sentence=13381, chars=[136,139], words=[21,21]), Span(\"squamous cell carcinoma\", sentence=13381, chars=[111,133], words=[17,19]))\n",
      "Checking Biomarker: 28263981::span:242:245\n",
      "Checking Condition: 28263981::span:100:133\n",
      "1\n",
      "(Span(\"ESCC\", sentence=13381, chars=[166,169], words=[29,29]), Span(\"squamous cell carcinoma\", sentence=13381, chars=[111,133], words=[17,19]))\n",
      "Checking Biomarker: 28263981::span:272:275\n",
      "Checking Condition: 28263981::span:100:133\n",
      "1\n",
      "(Span(\"PCLO\", sentence=13381, chars=[55,58], words=[8,8]), Span(\"squamous cell carcinoma\", sentence=13381, chars=[111,133], words=[17,19]))\n",
      "Checking Biomarker: 28263981::span:161:164\n",
      "Checking Condition: 28263981::span:100:133\n",
      "1\n",
      "(Span(\"CSF\", sentence=14232, chars=[270,272], words=[44,44]), Span(\"Alzheimer's disease\", sentence=14232, chars=[235,253], words=[39,41]))\n",
      "Checking Biomarker: 28261965::span:1139:1141\n",
      "Checking Condition: 28261965::span:231:253\n",
      "1\n",
      "(Span(\"CSF\", sentence=14232, chars=[270,272], words=[44,44]), Span(\"Alzheimer's disease\", sentence=14232, chars=[40,58], words=[7,9]))\n",
      "(Span(\"CSF\", sentence=14232, chars=[231,233], words=[38,38]), Span(\"Alzheimer's disease\", sentence=14232, chars=[235,253], words=[39,41]))\n",
      "Checking Biomarker: 28261965::span:1100:1102\n",
      "Checking Condition: 28261965::span:231:253\n",
      "1\n",
      "(Span(\"CSF\", sentence=14232, chars=[231,233], words=[38,38]), Span(\"Alzheimer's disease\", sentence=14232, chars=[40,58], words=[7,9]))\n",
      "(Span(\"tau\", sentence=14232, chars=[104,106], words=[17,17]), Span(\"Alzheimer's disease\", sentence=14232, chars=[235,253], words=[39,41]))\n",
      "Checking Biomarker: 28261965::span:973:975\n",
      "Checking Condition: 28261965::span:231:253\n",
      "1\n",
      "(Span(\"tau\", sentence=14232, chars=[104,106], words=[17,17]), Span(\"Alzheimer's disease\", sentence=14232, chars=[40,58], words=[7,9]))\n",
      "(Span(\"tau\", sentence=14232, chars=[112,114], words=[19,19]), Span(\"Alzheimer's disease\", sentence=14232, chars=[235,253], words=[39,41]))\n",
      "Checking Biomarker: 28261965::span:981:983\n",
      "Checking Condition: 28261965::span:231:253\n",
      "1\n",
      "(Span(\"tau\", sentence=14232, chars=[112,114], words=[19,19]), Span(\"Alzheimer's disease\", sentence=14232, chars=[40,58], words=[7,9]))\n",
      "(Span(\"CSF\", sentence=14232, chars=[16,18], words=[3,3]), Span(\"Alzheimer's disease\", sentence=14232, chars=[235,253], words=[39,41]))\n",
      "Checking Biomarker: 28261965::span:885:887\n",
      "Checking Condition: 28261965::span:231:253\n",
      "1\n",
      "(Span(\"CSF\", sentence=14232, chars=[16,18], words=[3,3]), Span(\"Alzheimer's disease\", sentence=14232, chars=[40,58], words=[7,9]))\n",
      "(Span(\"BACKGROUND\", sentence=14930, chars=[0,9], words=[0,0]), Span(\"cancer\", sentence=14930, chars=[115,120], words=[14,14]))\n",
      "(Span(\"ECM\", sentence=13731, chars=[158,160], words=[21,21]), Span(\"Scleroderma\", sentence=13731, chars=[0,10], words=[0,0]))\n",
      "(Span(\"AIM\", sentence=14218, chars=[0,2], words=[0,0]), Span(\"disease\", sentence=14218, chars=[134,140], words=[24,24]))\n",
      "(Span(\"AIM\", sentence=14218, chars=[0,2], words=[0,0]), Span(\"osteoarthritis\", sentence=14218, chars=[96,109], words=[16,16]))\n",
      "Checking Biomarker: 28261974::span:91:93\n",
      "Checking Condition: 28261974::span:91:109\n",
      "1\n",
      "(Span(\"LTBP-4\", sentence=13735, chars=[46,51], words=[8,8]), Span(\"scleroderma\", sentence=13735, chars=[56,66], words=[10,10]))\n",
      "(Span(\"LTBP-4\", sentence=13736, chars=[0,5], words=[0,0]), Span(\"systemic scleroderma\", sentence=13736, chars=[63,82], words=[8,9]))\n",
      "(Span(\"LTBP-4\", sentence=13736, chars=[0,5], words=[0,0]), Span(\"localized scleroderma\", sentence=13736, chars=[291,311], words=[55,56]))\n",
      "(Span(\"LTBP-4\", sentence=13736, chars=[138,143], words=[21,21]), Span(\"systemic scleroderma\", sentence=13736, chars=[63,82], words=[8,9]))\n",
      "(Span(\"LTBP-4\", sentence=13736, chars=[138,143], words=[21,21]), Span(\"localized scleroderma\", sentence=13736, chars=[291,311], words=[55,56]))\n",
      "(Span(\"COMP\", sentence=14223, chars=[15,18], words=[3,3]), Span(\"disease\", sentence=14223, chars=[276,282], words=[46,46]))\n",
      "(Span(\"COMP\", sentence=14223, chars=[172,175], words=[29,29]), Span(\"disease\", sentence=14223, chars=[276,282], words=[46,46]))\n",
      "(Span(\"RESULTS\", sentence=14223, chars=[0,6], words=[0,0]), Span(\"disease\", sentence=14223, chars=[276,282], words=[46,46]))\n",
      "(Span(\"LTBP-4\", sentence=13743, chars=[115,120], words=[19,19]), Span(\"scleroderma\", sentence=13743, chars=[75,85], words=[12,12]))\n",
      "(Span(\"LTBP-4\", sentence=13743, chars=[115,120], words=[19,19]), Span(\"disease\", sentence=13743, chars=[189,195], words=[32,32]))\n",
      "(Span(\"LTBP-4\", sentence=13743, chars=[40,45], words=[7,7]), Span(\"scleroderma\", sentence=13743, chars=[75,85], words=[12,12]))\n",
      "(Span(\"LTBP-4\", sentence=13743, chars=[40,45], words=[7,7]), Span(\"disease\", sentence=13743, chars=[189,195], words=[32,32]))\n",
      "(Span(\"ACS\", sentence=14839, chars=[25,27], words=[4,4]), Span(\"syndrome\", sentence=14839, chars=[15,22], words=[2,2]))\n",
      "Checking Biomarker: 28260759::span:116:118\n",
      "Checking Condition: 28260759::span:0:22\n",
      "1\n",
      "(Span(\"RESULTS\", sentence=14804, chars=[0,6], words=[0,0]), Span(\"glaucoma\", sentence=14804, chars=[70,77], words=[12,12]))\n"
     ]
    },
    {
     "name": "stdout",
     "output_type": "stream",
     "text": [
      "(Span(\"AML-3\", sentence=14427, chars=[126,130], words=[20,20]), Span(\"myeloid leukemia\", sentence=14427, chars=[98,113], words=[15,16]))\n",
      "Checking Biomarker: 28261562::span:1627:1631\n",
      "Checking Condition: 28261562::span:85:113\n",
      "1\n",
      "(Span(\"METHODS\", sentence=15045, chars=[0,6], words=[0,0]), Span(\"cancer\", sentence=15045, chars=[119,124], words=[19,19]))\n",
      "Checking Biomarker: 28260162::span:618:624\n",
      "Checking Condition: 28260162::span:97:124\n",
      "1\n",
      "(Span(\"CD133\", sentence=14259, chars=[27,31], words=[3,3]), Span(\"carcinoma\", sentence=14259, chars=[68,76], words=[9,9]))\n",
      "Checking Biomarker: 28261953::span:27:31\n",
      "Checking Condition: 28261953::span:57:76\n",
      "1\n",
      "(Span(\"BDNF\", sentence=14389, chars=[141,144], words=[21,21]), Span(\"schizophrenia\", sentence=14389, chars=[53,65], words=[9,9]))\n",
      "(Span(\"UBC1\", sentence=14767, chars=[48,51], words=[7,7]), Span(\"colorectal cancer\", sentence=14767, chars=[151,167], words=[24,25]))\n",
      "(Span(\"RNA\", sentence=14767, chars=[38,40], words=[5,5]), Span(\"colorectal cancer\", sentence=14767, chars=[151,167], words=[24,25]))\n",
      "(Span(\"UBC1\", sentence=14769, chars=[45,48], words=[7,7]), Span(\"cancer\", sentence=14769, chars=[30,35], words=[4,4]))\n",
      "Checking Biomarker: 28260919::span:311:314\n",
      "Checking Condition: 28260919::span:22:35\n",
      "1\n",
      "(Span(\"UBC1\", sentence=14769, chars=[45,48], words=[7,7]), Span(\"cancer\", sentence=14769, chars=[98,103], words=[17,17]))\n",
      "Checking Biomarker: 28260919::span:311:314\n",
      "Checking Condition: 28260919::span:90:103\n",
      "1\n",
      "(Span(\"UBC1\", sentence=14769, chars=[45,48], words=[7,7]), Span(\"colorectal cancer\", sentence=14769, chars=[159,175], words=[28,29]))\n",
      "(Span(\"CRC\", sentence=14769, chars=[178,180], words=[31,31]), Span(\"cancer\", sentence=14769, chars=[30,35], words=[4,4]))\n",
      "Checking Biomarker: 28260919::span:444:446\n",
      "Checking Condition: 28260919::span:22:35\n",
      "1\n",
      "(Span(\"CRC\", sentence=14769, chars=[178,180], words=[31,31]), Span(\"cancer\", sentence=14769, chars=[98,103], words=[17,17]))\n",
      "Checking Biomarker: 28260919::span:444:446\n",
      "Checking Condition: 28260919::span:90:103\n",
      "1\n",
      "(Span(\"CRC\", sentence=14769, chars=[178,180], words=[31,31]), Span(\"colorectal cancer\", sentence=14769, chars=[159,175], words=[28,29]))\n",
      "(Span(\"OBJECTIVE\", sentence=14143, chars=[0,8], words=[0,0]), Span(\"lupus nephritis\", sentence=14143, chars=[191,205], words=[31,32]))\n",
      "Checking Biomarker: 28262211::span:79:87\n",
      "Checking Condition: 28262211::span:185:205\n",
      "1\n",
      "(Span(\"NFL\", sentence=13305, chars=[4,6], words=[1,1]), Span(\"disease\", sentence=13305, chars=[113,119], words=[19,19]))\n",
      "(Span(\"PURPOSE\", sentence=14402, chars=[0,6], words=[0,0]), Span(\"cancer\", sentence=14402, chars=[31,36], words=[6,6]))\n",
      "Checking Biomarker: 28261684::span:168:174\n",
      "Checking Condition: 28261684::span:24:36\n",
      "1\n",
      "(Span(\"PURPOSE\", sentence=14402, chars=[0,6], words=[0,0]), Span(\"cancer\", sentence=14402, chars=[62,67], words=[11,11]))\n",
      "Checking Biomarker: 28261684::span:168:174\n",
      "Checking Condition: 28261684::span:54:67\n",
      "1\n",
      "(Span(\"CT\", sentence=14361, chars=[91,92], words=[12,12]), Span(\"cancer\", sentence=14361, chars=[169,174], words=[29,29]))\n",
      "Checking Biomarker: 28261818::span:217:218\n",
      "Checking Condition: 28261818::span:155:174\n",
      "1\n",
      "(Span(\"pCT\", sentence=14361, chars=[95,97], words=[14,14]), Span(\"cancer\", sentence=14361, chars=[169,174], words=[29,29]))\n",
      "Checking Biomarker: 28261818::span:221:223\n",
      "Checking Condition: 28261818::span:155:174\n",
      "1\n",
      "(Span(\"CBCT\", sentence=14361, chars=[118,121], words=[21,21]), Span(\"cancer\", sentence=14361, chars=[169,174], words=[29,29]))\n",
      "Checking Biomarker: 28261818::span:244:247\n",
      "Checking Condition: 28261818::span:155:174\n",
      "1\n",
      "(Span(\"CT\", sentence=14361, chars=[114,115], words=[19,19]), Span(\"cancer\", sentence=14361, chars=[169,174], words=[29,29]))\n",
      "Checking Biomarker: 28261818::span:240:241\n",
      "Checking Condition: 28261818::span:155:174\n",
      "1\n",
      "(Span(\"PURPOSE\", sentence=14361, chars=[0,6], words=[0,0]), Span(\"cancer\", sentence=14361, chars=[169,174], words=[29,29]))\n",
      "Checking Biomarker: 28261818::span:126:132\n",
      "Checking Condition: 28261818::span:155:174\n",
      "1\n",
      "(Span(\"PCR-SSCP\", sentence=13634, chars=[119,126], words=[29,29]), Span(\"osteosarcoma\", sentence=13634, chars=[96,107], words=[24,24]))\n",
      "(Span(\"CYR61\", sentence=13634, chars=[82,86], words=[21,21]), Span(\"osteosarcoma\", sentence=13634, chars=[96,107], words=[24,24]))\n",
      "(Span(\"DNA\", sentence=13634, chars=[140,142], words=[32,32]), Span(\"osteosarcoma\", sentence=13634, chars=[96,107], words=[24,24]))\n",
      "(Span(\"MAPP\", sentence=13673, chars=[171,174], words=[25,25]), Span(\"syndrome\", sentence=13673, chars=[79,86], words=[10,10]))\n",
      "Checking Biomarker: 28263447::span:171:174\n",
      "Checking Condition: 28263447::span:51:86\n",
      "1\n",
      "(Span(\"LMR\", sentence=14760, chars=[80,82], words=[12,12]), Span(\"hepatitis B\", sentence=14760, chars=[87,97], words=[14,15]))\n",
      "(Span(\"LMR\", sentence=14760, chars=[80,82], words=[12,12]), Span(\"hepatocellular carcinoma\", sentence=14760, chars=[119,142], words=[22,23]))\n",
      "Checking Biomarker: 28260933::span:436:438\n",
      "Checking Condition: 28260933::span:111:142\n",
      "1\n",
      "(Span(\"HBV\", sentence=14760, chars=[106,108], words=[18,18]), Span(\"hepatitis B\", sentence=14760, chars=[87,97], words=[14,15]))\n",
      "(Span(\"HBV\", sentence=14760, chars=[106,108], words=[18,18]), Span(\"hepatocellular carcinoma\", sentence=14760, chars=[119,142], words=[22,23]))\n",
      "Checking Biomarker: 28260933::span:462:464\n",
      "Checking Condition: 28260933::span:111:142\n",
      "1\n",
      "(Span(\"maspin\", sentence=13848, chars=[49,54], words=[7,7]), Span(\"breast cancer\", sentence=13848, chars=[146,158], words=[22,23]))\n",
      "(Span(\"TACE\", sentence=13503, chars=[214,217], words=[33,33]), Span(\"hepatocellular carcinoma\", sentence=13503, chars=[101,124], words=[15,16]))\n",
      "(Span(\"TACE\", sentence=13503, chars=[178,181], words=[25,25]), Span(\"hepatocellular carcinoma\", sentence=13503, chars=[101,124], words=[15,16]))\n",
      "(Span(\"HCC\", sentence=13503, chars=[127,129], words=[18,18]), Span(\"hepatocellular carcinoma\", sentence=13503, chars=[101,124], words=[15,16]))\n",
      "(Span(\"HSPD1\", sentence=14486, chars=[20,24], words=[3,3]), Span(\"Colon Cancer\", sentence=14486, chars=[53,64], words=[8,9]))\n",
      "(Span(\"iTRAQ\", sentence=14486, chars=[98,102], words=[14,14]), Span(\"Colon Cancer\", sentence=14486, chars=[53,64], words=[8,9]))\n",
      "(Span(\"DCN\", sentence=14486, chars=[12,14], words=[1,1]), Span(\"Colon Cancer\", sentence=14486, chars=[53,64], words=[8,9]))\n",
      "(Span(\"NNCM\", sentence=14488, chars=[280,283], words=[36,36]), Span(\"colon cancer\", sentence=14488, chars=[44,55], words=[6,7]))\n",
      "(Span(\"NNCM\", sentence=14488, chars=[280,283], words=[36,36]), Span(\"colon cancer\", sentence=14488, chars=[232,243], words=[29,30]))\n",
      "(Span(\"C5a\", sentence=14144, chars=[87,89], words=[20,20]), Span(\"systemic lupus erythematosus\", sentence=14144, chars=[290,317], words=[51,53]))\n",
      "Checking Biomarker: 28262211::span:392:394\n",
      "Checking Condition: 28262211::span:283:317\n",
      "1\n",
      "(Span(\"C5a\", sentence=14144, chars=[87,89], words=[20,20]), Span(\"lupus nephritis\", sentence=14144, chars=[202,216], words=[36,37]))\n",
      "Checking Biomarker: 28262211::span:392:394\n",
      "Checking Condition: 28262211::span:181:216\n",
      "1\n",
      "(Span(\"C5a\", sentence=14144, chars=[87,89], words=[20,20]), Span(\"lupus nephritis\", sentence=14144, chars=[236,250], words=[42,43]))\n",
      "(Span(\"AND\", sentence=14144, chars=[10,12], words=[1,1]), Span(\"systemic lupus erythematosus\", sentence=14144, chars=[290,317], words=[51,53]))\n",
      "Checking Biomarker: 28262211::span:315:317\n",
      "Checking Condition: 28262211::span:283:317\n",
      "1\n",
      "(Span(\"AND\", sentence=14144, chars=[10,12], words=[1,1]), Span(\"lupus nephritis\", sentence=14144, chars=[202,216], words=[36,37]))\n",
      "Checking Biomarker: 28262211::span:315:317\n",
      "Checking Condition: 28262211::span:181:216\n",
      "1\n",
      "(Span(\"AND\", sentence=14144, chars=[10,12], words=[1,1]), Span(\"lupus nephritis\", sentence=14144, chars=[236,250], words=[42,43]))\n",
      "(Span(\"C3\", sentence=14144, chars=[78,79], words=[16,16]), Span(\"systemic lupus erythematosus\", sentence=14144, chars=[290,317], words=[51,53]))\n",
      "Checking Biomarker: 28262211::span:383:384\n",
      "Checking Condition: 28262211::span:283:317\n",
      "1\n",
      "(Span(\"C3\", sentence=14144, chars=[78,79], words=[16,16]), Span(\"lupus nephritis\", sentence=14144, chars=[202,216], words=[36,37]))\n",
      "Checking Biomarker: 28262211::span:383:384\n",
      "Checking Condition: 28262211::span:181:216\n",
      "1\n",
      "(Span(\"C3\", sentence=14144, chars=[78,79], words=[16,16]), Span(\"lupus nephritis\", sentence=14144, chars=[236,250], words=[42,43]))\n",
      "(Span(\"METHODS\", sentence=14144, chars=[14,20], words=[2,2]), Span(\"systemic lupus erythematosus\", sentence=14144, chars=[290,317], words=[51,53]))\n",
      "Checking Biomarker: 28262211::span:319:325\n",
      "Checking Condition: 28262211::span:283:317\n",
      "1\n",
      "(Span(\"METHODS\", sentence=14144, chars=[14,20], words=[2,2]), Span(\"lupus nephritis\", sentence=14144, chars=[202,216], words=[36,37]))\n",
      "Checking Biomarker: 28262211::span:319:325\n",
      "Checking Condition: 28262211::span:181:216\n",
      "1\n",
      "(Span(\"METHODS\", sentence=14144, chars=[14,20], words=[2,2]), Span(\"lupus nephritis\", sentence=14144, chars=[236,250], words=[42,43]))\n",
      "(Span(\"C3a\", sentence=14144, chars=[82,84], words=[18,18]), Span(\"systemic lupus erythematosus\", sentence=14144, chars=[290,317], words=[51,53]))\n",
      "Checking Biomarker: 28262211::span:387:389\n",
      "Checking Condition: 28262211::span:283:317\n"
     ]
    },
    {
     "name": "stdout",
     "output_type": "stream",
     "text": [
      "1\n",
      "(Span(\"C3a\", sentence=14144, chars=[82,84], words=[18,18]), Span(\"lupus nephritis\", sentence=14144, chars=[202,216], words=[36,37]))\n",
      "Checking Biomarker: 28262211::span:387:389\n",
      "Checking Condition: 28262211::span:181:216\n",
      "1\n",
      "(Span(\"C3a\", sentence=14144, chars=[82,84], words=[18,18]), Span(\"lupus nephritis\", sentence=14144, chars=[236,250], words=[42,43]))\n",
      "(Span(\"MATERIALS\", sentence=14144, chars=[0,8], words=[0,0]), Span(\"systemic lupus erythematosus\", sentence=14144, chars=[290,317], words=[51,53]))\n",
      "Checking Biomarker: 28262211::span:305:313\n",
      "Checking Condition: 28262211::span:283:317\n",
      "1\n",
      "(Span(\"MATERIALS\", sentence=14144, chars=[0,8], words=[0,0]), Span(\"lupus nephritis\", sentence=14144, chars=[202,216], words=[36,37]))\n",
      "Checking Biomarker: 28262211::span:305:313\n",
      "Checking Condition: 28262211::span:181:216\n",
      "1\n",
      "(Span(\"MATERIALS\", sentence=14144, chars=[0,8], words=[0,0]), Span(\"lupus nephritis\", sentence=14144, chars=[236,250], words=[42,43]))\n",
      "(Span(\"CONCLUSION\", sentence=14766, chars=[0,9], words=[0,0]), Span(\"hepatocellular carcinoma\", sentence=14766, chars=[94,117], words=[13,14]))\n",
      "Checking Biomarker: 28260933::span:1476:1485\n",
      "Checking Condition: 28260933::span:73:117\n",
      "1\n",
      "(Span(\"LMR\", sentence=14766, chars=[12,14], words=[2,2]), Span(\"hepatocellular carcinoma\", sentence=14766, chars=[94,117], words=[13,14]))\n",
      "Checking Biomarker: 28260933::span:1488:1490\n",
      "Checking Condition: 28260933::span:73:117\n",
      "1\n",
      "(Span(\"KEGG\", sentence=14490, chars=[0,3], words=[0,0]), Span(\"cancer\", sentence=14490, chars=[97,102], words=[14,14]))\n",
      "(Span(\"DCN\", sentence=14490, chars=[118,120], words=[18,18]), Span(\"cancer\", sentence=14490, chars=[97,102], words=[14,14]))\n",
      "(Span(\"HSPD1\", sentence=14490, chars=[126,130], words=[20,20]), Span(\"cancer\", sentence=14490, chars=[97,102], words=[14,14]))\n",
      "(Span(\"PBX1\", sentence=13715, chars=[45,48], words=[6,6]), Span(\"breast cancer\", sentence=13715, chars=[120,132], words=[16,17]))\n",
      "Checking Biomarker: 28263391::span:45:48\n",
      "Checking Condition: 28263391::span:93:132\n",
      "1\n",
      "(Span(\"CAD\", sentence=14179, chars=[71,73], words=[13,13]), Span(\"Coronary Artery Disease\", sentence=14179, chars=[46,68], words=[9,11]))\n",
      "(Span(\"CAD\", sentence=14179, chars=[71,73], words=[13,13]), Span(\"acute myocardial infarction\", sentence=14179, chars=[136,162], words=[27,29]))\n",
      "(Span(\"AMI\", sentence=14179, chars=[165,167], words=[31,31]), Span(\"Coronary Artery Disease\", sentence=14179, chars=[46,68], words=[9,11]))\n",
      "(Span(\"AMI\", sentence=14179, chars=[165,167], words=[31,31]), Span(\"acute myocardial infarction\", sentence=14179, chars=[136,162], words=[27,29]))\n",
      "(Span(\"BACKGROUND\", sentence=13822, chars=[0,9], words=[0,0]), Span(\"disease\", sentence=13822, chars=[20,26], words=[3,3]))\n",
      "Checking Biomarker: 28263001::span:97:106\n",
      "Checking Condition: 28263001::span:12:26\n",
      "1\n",
      "(Span(\"GD\", sentence=13822, chars=[29,30], words=[5,5]), Span(\"disease\", sentence=13822, chars=[20,26], words=[3,3]))\n",
      "Checking Biomarker: 28263001::span:126:127\n",
      "Checking Condition: 28263001::span:12:26\n",
      "1\n",
      "(Span(\"OBJECTIVES\", sentence=14964, chars=[0,9], words=[0,0]), Span(\"Disease\", sentence=14964, chars=[133,139], words=[20,20]))\n",
      "Checking Biomarker: 28260446::span:145:154\n",
      "Checking Condition: 28260446::span:127:139\n",
      "1\n",
      "(Span(\"GD1\", sentence=13826, chars=[83,85], words=[13,13]), Span(\"disease\", sentence=13826, chars=[74,80], words=[11,11]))\n",
      "Checking Biomarker: 28263001::span:661:663\n",
      "Checking Condition: 28263001::span:66:80\n",
      "1\n",
      "(Span(\"GD\", sentence=13826, chars=[129,130], words=[22,22]), Span(\"disease\", sentence=13826, chars=[74,80], words=[11,11]))\n",
      "Checking Biomarker: 28263001::span:707:708\n",
      "Checking Condition: 28263001::span:66:80\n",
      "1\n",
      "(Span(\"METHODS\", sentence=13826, chars=[0,6], words=[0,0]), Span(\"disease\", sentence=13826, chars=[74,80], words=[11,11]))\n",
      "Checking Biomarker: 28263001::span:578:584\n",
      "Checking Condition: 28263001::span:66:80\n",
      "1\n",
      "(Span(\"HCC\", sentence=14746, chars=[26,28], words=[3,3]), Span(\"Hepatocellular carcinoma\", sentence=14746, chars=[0,23], words=[0,1]))\n",
      "(Span(\"HCC\", sentence=14746, chars=[26,28], words=[3,3]), Span(\"cancer\", sentence=14746, chars=[62,67], words=[11,11]))\n",
      "(Span(\"RNA\", sentence=13494, chars=[82,84], words=[15,15]), Span(\"Colon cancer\", sentence=13494, chars=[12,23], words=[2,3]))\n",
      "(Span(\"CCAT2\", sentence=13494, chars=[50,54], words=[8,8]), Span(\"Colon cancer\", sentence=13494, chars=[12,23], words=[2,3]))\n",
      "(Span(\"BACKGROUND\", sentence=13494, chars=[0,9], words=[0,0]), Span(\"Colon cancer\", sentence=13494, chars=[12,23], words=[2,3]))\n",
      "(Span(\"OBJECTIVE\", sentence=13674, chars=[0,8], words=[0,0]), Span(\"syndrome\", sentence=13674, chars=[87,94], words=[14,14]))\n",
      "Checking Biomarker: 28263447::span:195:203\n",
      "Checking Condition: 28263447::span:56:94\n",
      "1\n",
      "(Span(\"UCPPS\", sentence=13674, chars=[97,101], words=[16,16]), Span(\"syndrome\", sentence=13674, chars=[87,94], words=[14,14]))\n",
      "Checking Biomarker: 28263447::span:292:296\n",
      "Checking Condition: 28263447::span:56:94\n",
      "1\n",
      "(Span(\"CRC\", sentence=14260, chars=[93,95], words=[14,14]), Span(\"colorectal cancer\", sentence=14260, chars=[74,90], words=[11,12]))\n",
      "(Span(\"INTRODUCTION\", sentence=14056, chars=[0,11], words=[0,0]), Span(\"malnutrition\", sentence=14056, chars=[316,327], words=[45,45]))\n",
      "Checking Biomarker: 28262322::span:141:152\n",
      "Checking Condition: 28262322::span:303:327\n",
      "1\n",
      "(Span(\"SAM\", sentence=14056, chars=[330,332], words=[47,47]), Span(\"malnutrition\", sentence=14056, chars=[316,327], words=[45,45]))\n",
      "Checking Biomarker: 28262322::span:471:473\n",
      "Checking Condition: 28262322::span:303:327\n",
      "1\n",
      "(Span(\"OBJECTIVE\", sentence=14056, chars=[141,149], words=[21,21]), Span(\"malnutrition\", sentence=14056, chars=[316,327], words=[45,45]))\n",
      "Checking Biomarker: 28262322::span:282:290\n",
      "Checking Condition: 28262322::span:303:327\n",
      "1\n",
      "(Span(\"CT\", sentence=14376, chars=[56,57], words=[7,7]), Span(\"cancer\", sentence=14376, chars=[103,108], words=[15,15]))\n",
      "Checking Biomarker: 28261818::span:3493:3494\n",
      "Checking Condition: 28261818::span:93:108\n",
      "1\n",
      "(Span(\"CONCLUSIONS\", sentence=14376, chars=[0,10], words=[0,0]), Span(\"cancer\", sentence=14376, chars=[103,108], words=[15,15]))\n",
      "Checking Biomarker: 28261818::span:3437:3447\n",
      "Checking Condition: 28261818::span:93:108\n",
      "1\n",
      "(Span(\"CBCT\", sentence=14376, chars=[69,72], words=[10,10]), Span(\"cancer\", sentence=14376, chars=[103,108], words=[15,15]))\n",
      "Checking Biomarker: 28261818::span:3506:3509\n",
      "Checking Condition: 28261818::span:93:108\n",
      "1\n",
      "(Span(\"CAD\", sentence=14842, chars=[101,103], words=[18,18]), Span(\"Syndrome\", sentence=14842, chars=[140,147], words=[26,26]))\n",
      "Checking Biomarker: 28260759::span:570:572\n",
      "Checking Condition: 28260759::span:125:147\n",
      "1\n",
      "(Span(\"CAD\", sentence=14842, chars=[101,103], words=[18,18]), Span(\"coronary artery disease\", sentence=14842, chars=[76,98], words=[14,16]))\n",
      "Checking Biomarker: 28260759::span:570:572\n",
      "Checking Condition: 28260759::span:66:98\n",
      "1\n",
      "(Span(\"HNSCC\", sentence=14541, chars=[201,205], words=[30,30]), Span(\"head and neck squamous cell carcinoma\", sentence=14541, chars=[162,198], words=[23,28]))\n",
      "Checking Biomarker: 28261333::span:295:299\n",
      "Checking Condition: 28261333::span:151:198\n",
      "1\n",
      "(Span(\"HNSCC\", sentence=14541, chars=[201,205], words=[30,30]), Span(\"cancer\", sentence=14541, chars=[80,85], words=[11,11]))\n",
      "(Span(\"CD163\", sentence=14528, chars=[31,35], words=[4,4]), Span(\"Cancer\", sentence=14528, chars=[181,186], words=[26,26]))\n",
      "Checking Biomarker: 28261336::span:31:35\n",
      "Checking Condition: 28261336::span:163:186\n",
      "1\n",
      "(Span(\"GC\", sentence=14531, chars=[83,84], words=[15,15]), Span(\"cancer\", sentence=14531, chars=[75,80], words=[13,13]))\n",
      "Checking Biomarker: 28261336::span:573:574\n",
      "Checking Condition: 28261336::span:67:80\n",
      "1\n",
      "(Span(\"EMT\", sentence=13964, chars=[59,61], words=[5,5]), Span(\"hepatocellular carcinoma\", sentence=13964, chars=[82,105], words=[10,11]))\n",
      "(Span(\"HCC\", sentence=13965, chars=[124,126], words=[20,20]), Span(\"hepatocellular carcinoma\", sentence=13965, chars=[98,121], words=[17,18]))\n",
      "(Span(\"GSE26323\", sentence=13967, chars=[138,145], words=[21,21]), Span(\"lung metastasis\", sentence=13967, chars=[103,117], words=[15,16]))\n",
      "(Span(\"HCC\", sentence=13967, chars=[70,72], words=[10,10]), Span(\"lung metastasis\", sentence=13967, chars=[103,117], words=[15,16]))\n",
      "(Span(\"GEO\", sentence=13967, chars=[124,126], words=[18,18]), Span(\"lung metastasis\", sentence=13967, chars=[103,117], words=[15,16]))\n",
      "(Span(\"mRNA\", sentence=14514, chars=[86,89], words=[13,13]), Span(\"cancer\", sentence=14514, chars=[192,197], words=[29,29]))\n",
      "Checking Biomarker: 28261345::span:550:553\n",
      "Checking Condition: 28261345::span:175:197\n",
      "1\n",
      "(Span(\"III\", sentence=14514, chars=[215,217], words=[33,33]), Span(\"cancer\", sentence=14514, chars=[192,197], words=[29,29]))\n",
      "Checking Biomarker: 28261345::span:679:681\n",
      "Checking Condition: 28261345::span:175:197\n",
      "1\n",
      "(Span(\"mRNA\", sentence=14514, chars=[225,228], words=[37,37]), Span(\"cancer\", sentence=14514, chars=[192,197], words=[29,29]))\n",
      "Checking Biomarker: 28261345::span:689:692\n",
      "Checking Condition: 28261345::span:175:197\n",
      "1\n"
     ]
    },
    {
     "name": "stdout",
     "output_type": "stream",
     "text": [
      "(Span(\"mRNA\", sentence=14514, chars=[41,44], words=[7,7]), Span(\"cancer\", sentence=14514, chars=[192,197], words=[29,29]))\n",
      "Checking Biomarker: 28261345::span:505:508\n",
      "Checking Condition: 28261345::span:175:197\n",
      "1\n",
      "(Span(\"C3b\", sentence=14148, chars=[0,2], words=[0,0]), Span(\"lupus nephritis\", sentence=14148, chars=[51,65], words=[10,11]))\n",
      "(Span(\"mRNA\", sentence=14519, chars=[7,10], words=[1,1]), Span(\"cancer\", sentence=14519, chars=[109,114], words=[16,16]))\n",
      "Checking Biomarker: 28261345::span:1839:1842\n",
      "Checking Condition: 28261345::span:101:114\n",
      "1\n",
      "(Span(\"NACT\", sentence=14507, chars=[84,87], words=[12,12]), Span(\"cervical squamous cell carcinoma\", sentence=14507, chars=[115,146], words=[17,20]))\n",
      "(Span(\"ARDS\", sentence=15033, chars=[36,39], words=[6,6]), Span(\"syndrome\", sentence=15033, chars=[10,17], words=[3,3]))\n",
      "(Span(\"METHOD\", sentence=15033, chars=[0,5], words=[0,0]), Span(\"syndrome\", sentence=15033, chars=[10,17], words=[3,3]))\n",
      "(Span(\"CONCLUSION\", sentence=13638, chars=[0,9], words=[0,0]), Span(\"osteosarcoma\", sentence=13638, chars=[68,79], words=[12,12]))\n",
      "(Span(\"CYR61\", sentence=13638, chars=[44,48], words=[8,8]), Span(\"osteosarcoma\", sentence=13638, chars=[68,79], words=[12,12]))\n",
      "(Span(\"MEG3\", sentence=14822, chars=[25,28], words=[5,5]), Span(\"lung cancer\", sentence=14822, chars=[188,198], words=[27,28]))\n",
      "(Span(\"ANRIL\", sentence=14822, chars=[15,19], words=[3,3]), Span(\"lung cancer\", sentence=14822, chars=[188,198], words=[27,28]))\n",
      "(Span(\"NACT\", sentence=14492, chars=[41,44], words=[8,8]), Span(\"Cervical Cancer\", sentence=14492, chars=[58,72], words=[11,12]))\n",
      "(Span(\"GOLPH3L\", sentence=14492, chars=[12,18], words=[3,3]), Span(\"Cervical Cancer\", sentence=14492, chars=[58,72], words=[11,12]))\n",
      "(Span(\"MACE\", sentence=14321, chars=[73,76], words=[12,12]), Span(\"syndrome\", sentence=14321, chars=[112,119], words=[20,20]))\n",
      "Checking Biomarker: 28261896::span:1315:1318\n",
      "Checking Condition: 28261896::span:97:119\n",
      "1\n",
      "(Span(\"ACS\", sentence=14321, chars=[122,124], words=[22,22]), Span(\"syndrome\", sentence=14321, chars=[112,119], words=[20,20]))\n",
      "Checking Biomarker: 28261896::span:1364:1366\n",
      "Checking Condition: 28261896::span:97:119\n",
      "1\n",
      "(Span(\"GOLPH3L\", sentence=14494, chars=[12,18], words=[3,3]), Span(\"cervical cancer\", sentence=14494, chars=[23,37], words=[5,6]))\n",
      "(Span(\"GOLPH3L\", sentence=14495, chars=[49,55], words=[6,6]), Span(\"cervical squamous cell carcinoma\", sentence=14495, chars=[120,151], words=[16,19]))\n",
      "(Span(\"GOLPH3L\", sentence=14495, chars=[109,115], words=[14,14]), Span(\"cervical squamous cell carcinoma\", sentence=14495, chars=[120,151], words=[16,19]))\n",
      "(Span(\"NPC\", sentence=14527, chars=[171,173], words=[25,25]), Span(\"disease\", sentence=14527, chars=[211,217], words=[31,31]))\n",
      "Checking Biomarker: 28261341::span:1446:1448\n",
      "Checking Condition: 28261341::span:200:217\n",
      "1\n",
      "(Span(\"GOLPH3L\", sentence=14496, chars=[86,92], words=[13,13]), Span(\"cervical squamous cell carcinoma\", sentence=14496, chars=[97,128], words=[15,18]))\n",
      "(Span(\"GOLPH3L\", sentence=14500, chars=[9,15], words=[2,2]), Span(\"cervical cancer\", sentence=14500, chars=[34,48], words=[5,6]))\n",
      "(Span(\"CKD\", sentence=13888, chars=[88,90], words=[11,11]), Span(\"diabetes mellitus\", sentence=13888, chars=[160,176], words=[23,24]))\n",
      "(Span(\"CKD\", sentence=13888, chars=[88,90], words=[11,11]), Span(\"cancer\", sentence=13888, chars=[215,220], words=[31,31]))\n",
      "(Span(\"CKD\", sentence=13888, chars=[88,90], words=[11,11]), Span(\"syndrome\", sentence=13888, chars=[150,157], words=[21,21]))\n",
      "Checking Biomarker: 28262773::span:1334:1336\n",
      "Checking Condition: 28262773::span:140:157\n",
      "1\n",
      "(Span(\"NFL\", sentence=13292, chars=[75,77], words=[13,13]), Span(\"amyotrophic lateral sclerosis\", sentence=13292, chars=[98,126], words=[19,21]))\n",
      "(Span(\"ALS\", sentence=13292, chars=[129,131], words=[23,23]), Span(\"amyotrophic lateral sclerosis\", sentence=13292, chars=[98,126], words=[19,21]))\n",
      "(Span(\"CYR61\", sentence=13632, chars=[41,45], words=[8,8]), Span(\"osteosarcoma\", sentence=13632, chars=[66,77], words=[12,12]))\n",
      "(Span(\"AND\", sentence=13633, chars=[10,12], words=[1,1]), Span(\"osteosarcoma\", sentence=13633, chars=[93,104], words=[16,16]))\n",
      "(Span(\"CYR61\", sentence=13633, chars=[62,66], words=[10,10]), Span(\"osteosarcoma\", sentence=13633, chars=[93,104], words=[16,16]))\n",
      "(Span(\"MATERIALS\", sentence=13633, chars=[0,8], words=[0,0]), Span(\"osteosarcoma\", sentence=13633, chars=[93,104], words=[16,16]))\n",
      "(Span(\"METHODS\", sentence=13633, chars=[14,20], words=[2,2]), Span(\"osteosarcoma\", sentence=13633, chars=[93,104], words=[16,16]))\n",
      "(Span(\"MBL\", sentence=13878, chars=[59,61], words=[9,9]), Span(\"disease\", sentence=13878, chars=[204,210], words=[35,35]))\n",
      "(Span(\"MBL\", sentence=13878, chars=[240,242], words=[41,41]), Span(\"disease\", sentence=13878, chars=[204,210], words=[35,35]))\n",
      "(Span(\"C3\", sentence=13878, chars=[277,278], words=[47,47]), Span(\"disease\", sentence=13878, chars=[204,210], words=[35,35]))\n",
      "(Span(\"CYR61\", sentence=13635, chars=[29,33], words=[5,5]), Span(\"osteosarcoma\", sentence=13635, chars=[12,23], words=[3,3]))\n",
      "(Span(\"RESULTS\", sentence=13635, chars=[0,6], words=[0,0]), Span(\"osteosarcoma\", sentence=13635, chars=[12,23], words=[3,3]))\n",
      "(Span(\"CDK11\", sentence=13860, chars=[113,117], words=[16,16]), Span(\"osteosarcoma\", sentence=13860, chars=[81,92], words=[12,12]))\n",
      "(Span(\"CDK11\", sentence=13862, chars=[59,63], words=[10,10]), Span(\"osteosarcoma\", sentence=13862, chars=[94,105], words=[16,16]))\n",
      "(Span(\"CDK11\", sentence=13863, chars=[14,18], words=[2,2]), Span(\"osteosarcoma\", sentence=13863, chars=[179,190], words=[26,26]))\n",
      "Checking Biomarker: 28262798::span:340:344\n",
      "Checking Condition: 28262798::span:169:190\n",
      "1\n",
      "(Span(\"CDK11\", sentence=13863, chars=[148,152], words=[20,20]), Span(\"osteosarcoma\", sentence=13863, chars=[179,190], words=[26,26]))\n",
      "Checking Biomarker: 28262798::span:474:478\n",
      "Checking Condition: 28262798::span:169:190\n",
      "1\n",
      "(Span(\"AR\", sentence=13864, chars=[75,76], words=[10,10]), Span(\"osteosarcoma\", sentence=13864, chars=[107,118], words=[17,17]))\n",
      "(Span(\"CDK11\", sentence=13864, chars=[88,92], words=[14,14]), Span(\"osteosarcoma\", sentence=13864, chars=[107,118], words=[17,17]))\n",
      "(Span(\"VTE\", sentence=13241, chars=[95,97], words=[13,13]), Span(\"cancer\", sentence=13241, chars=[48,53], words=[6,6]))\n",
      "(Span(\"ALS\", sentence=13298, chars=[45,47], words=[8,8]), Span(\"frontotemporal dementia\", sentence=13298, chars=[129,151], words=[34,35]))\n",
      "(Span(\"FTD\", sentence=13298, chars=[154,156], words=[37,37]), Span(\"frontotemporal dementia\", sentence=13298, chars=[129,151], words=[34,35]))\n",
      "(Span(\"ALS\", sentence=13294, chars=[133,135], words=[22,22]), Span(\"disease\", sentence=13294, chars=[93,99], words=[16,16]))\n",
      "(Span(\"ALS\", sentence=13294, chars=[177,179], words=[28,28]), Span(\"disease\", sentence=13294, chars=[93,99], words=[16,16]))\n",
      "(Span(\"IHD\", sentence=14846, chars=[88,90], words=[14,14]), Span(\"diabetes mellitus\", sentence=14846, chars=[4,20], words=[1,2]))\n",
      "(Span(\"IHD\", sentence=14846, chars=[88,90], words=[14,14]), Span(\"syndrome\", sentence=14846, chars=[33,40], words=[5,5]))\n",
      "Checking Biomarker: 28260759::span:1119:1121\n",
      "Checking Condition: 28260759::span:23:40\n",
      "1\n",
      "(Span(\"IHD\", sentence=14846, chars=[88,90], words=[14,14]), Span(\"heart disease\", sentence=14846, chars=[73,85], words=[11,12]))\n",
      "Checking Biomarker: 28260759::span:1119:1121\n",
      "Checking Condition: 28260759::span:64:85\n",
      "1\n",
      "(Span(\"HR\", sentence=13300, chars=[27,28], words=[5,5]), Span(\"progressive bulbar palsy\", sentence=13300, chars=[49,72], words=[13,15]))\n",
      "(Span(\"HR\", sentence=13300, chars=[27,28], words=[5,5]), Span(\"progressive muscular atrophy\", sentence=13300, chars=[316,343], words=[86,88]))\n",
      "(Span(\"HR\", sentence=13300, chars=[27,28], words=[5,5]), Span(\"syndrome\", sentence=13300, chars=[259,266], words=[68,68]))\n",
      "Checking Biomarker: 28264096::span:1618:1619\n",
      "Checking Condition: 28264096::span:255:266\n",
      "1\n",
      "(Span(\"HR\", sentence=13300, chars=[75,76], words=[17,17]), Span(\"progressive bulbar palsy\", sentence=13300, chars=[49,72], words=[13,15]))\n",
      "(Span(\"HR\", sentence=13300, chars=[75,76], words=[17,17]), Span(\"progressive muscular atrophy\", sentence=13300, chars=[316,343], words=[86,88]))\n",
      "(Span(\"HR\", sentence=13300, chars=[75,76], words=[17,17]), Span(\"syndrome\", sentence=13300, chars=[259,266], words=[68,68]))\n",
      "Checking Biomarker: 28264096::span:1666:1667\n",
      "Checking Condition: 28264096::span:255:266\n",
      "1\n",
      "(Span(\"HR\", sentence=13300, chars=[269,270], words=[70,70]), Span(\"progressive bulbar palsy\", sentence=13300, chars=[49,72], words=[13,15]))\n",
      "(Span(\"HR\", sentence=13300, chars=[269,270], words=[70,70]), Span(\"progressive muscular atrophy\", sentence=13300, chars=[316,343], words=[86,88]))\n",
      "(Span(\"HR\", sentence=13300, chars=[269,270], words=[70,70]), Span(\"syndrome\", sentence=13300, chars=[259,266], words=[68,68]))\n",
      "Checking Biomarker: 28264096::span:1860:1861\n",
      "Checking Condition: 28264096::span:255:266\n",
      "1\n",
      "(Span(\"CI\", sentence=13300, chars=[169,170], words=[46,46]), Span(\"progressive bulbar palsy\", sentence=13300, chars=[49,72], words=[13,15]))\n",
      "(Span(\"CI\", sentence=13300, chars=[169,170], words=[46,46]), Span(\"progressive muscular atrophy\", sentence=13300, chars=[316,343], words=[86,88]))\n"
     ]
    },
    {
     "name": "stdout",
     "output_type": "stream",
     "text": [
      "(Span(\"CI\", sentence=13300, chars=[169,170], words=[46,46]), Span(\"syndrome\", sentence=13300, chars=[259,266], words=[68,68]))\n",
      "Checking Biomarker: 28264096::span:1760:1761\n",
      "Checking Condition: 28264096::span:255:266\n",
      "1\n",
      "(Span(\"ALS\", sentence=13300, chars=[22,24], words=[3,3]), Span(\"progressive bulbar palsy\", sentence=13300, chars=[49,72], words=[13,15]))\n",
      "(Span(\"ALS\", sentence=13300, chars=[22,24], words=[3,3]), Span(\"progressive muscular atrophy\", sentence=13300, chars=[316,343], words=[86,88]))\n",
      "(Span(\"ALS\", sentence=13300, chars=[22,24], words=[3,3]), Span(\"syndrome\", sentence=13300, chars=[259,266], words=[68,68]))\n",
      "Checking Biomarker: 28264096::span:1613:1615\n",
      "Checking Condition: 28264096::span:255:266\n",
      "1\n",
      "(Span(\"HR\", sentence=13300, chars=[346,347], words=[90,90]), Span(\"progressive bulbar palsy\", sentence=13300, chars=[49,72], words=[13,15]))\n",
      "(Span(\"HR\", sentence=13300, chars=[346,347], words=[90,90]), Span(\"progressive muscular atrophy\", sentence=13300, chars=[316,343], words=[86,88]))\n",
      "(Span(\"HR\", sentence=13300, chars=[346,347], words=[90,90]), Span(\"syndrome\", sentence=13300, chars=[259,266], words=[68,68]))\n",
      "Checking Biomarker: 28264096::span:1937:1938\n",
      "Checking Condition: 28264096::span:255:266\n",
      "1\n",
      "(Span(\"HR\", sentence=13300, chars=[155,156], words=[40,40]), Span(\"progressive bulbar palsy\", sentence=13300, chars=[49,72], words=[13,15]))\n",
      "(Span(\"HR\", sentence=13300, chars=[155,156], words=[40,40]), Span(\"progressive muscular atrophy\", sentence=13300, chars=[316,343], words=[86,88]))\n",
      "(Span(\"HR\", sentence=13300, chars=[155,156], words=[40,40]), Span(\"syndrome\", sentence=13300, chars=[259,266], words=[68,68]))\n",
      "Checking Biomarker: 28264096::span:1746:1747\n",
      "Checking Condition: 28264096::span:255:266\n",
      "1\n",
      "(Span(\"ALS\", sentence=13300, chars=[150,152], words=[38,38]), Span(\"progressive bulbar palsy\", sentence=13300, chars=[49,72], words=[13,15]))\n",
      "(Span(\"ALS\", sentence=13300, chars=[150,152], words=[38,38]), Span(\"progressive muscular atrophy\", sentence=13300, chars=[316,343], words=[86,88]))\n",
      "(Span(\"ALS\", sentence=13300, chars=[150,152], words=[38,38]), Span(\"syndrome\", sentence=13300, chars=[259,266], words=[68,68]))\n",
      "Checking Biomarker: 28264096::span:1741:1743\n",
      "Checking Condition: 28264096::span:255:266\n",
      "1\n",
      "(Span(\"CI\", sentence=13300, chars=[360,361], words=[96,96]), Span(\"progressive bulbar palsy\", sentence=13300, chars=[49,72], words=[13,15]))\n",
      "(Span(\"CI\", sentence=13300, chars=[360,361], words=[96,96]), Span(\"progressive muscular atrophy\", sentence=13300, chars=[316,343], words=[86,88]))\n",
      "(Span(\"CI\", sentence=13300, chars=[360,361], words=[96,96]), Span(\"syndrome\", sentence=13300, chars=[259,266], words=[68,68]))\n",
      "Checking Biomarker: 28264096::span:1951:1952\n",
      "Checking Condition: 28264096::span:255:266\n",
      "1\n",
      "(Span(\"CI\", sentence=13300, chars=[89,90], words=[23,23]), Span(\"progressive bulbar palsy\", sentence=13300, chars=[49,72], words=[13,15]))\n",
      "(Span(\"CI\", sentence=13300, chars=[89,90], words=[23,23]), Span(\"progressive muscular atrophy\", sentence=13300, chars=[316,343], words=[86,88]))\n",
      "(Span(\"CI\", sentence=13300, chars=[89,90], words=[23,23]), Span(\"syndrome\", sentence=13300, chars=[259,266], words=[68,68]))\n",
      "Checking Biomarker: 28264096::span:1680:1681\n",
      "Checking Condition: 28264096::span:255:266\n",
      "1\n",
      "(Span(\"CI\", sentence=13300, chars=[283,284], words=[76,76]), Span(\"progressive bulbar palsy\", sentence=13300, chars=[49,72], words=[13,15]))\n",
      "(Span(\"CI\", sentence=13300, chars=[283,284], words=[76,76]), Span(\"progressive muscular atrophy\", sentence=13300, chars=[316,343], words=[86,88]))\n",
      "(Span(\"CI\", sentence=13300, chars=[283,284], words=[76,76]), Span(\"syndrome\", sentence=13300, chars=[259,266], words=[68,68]))\n",
      "Checking Biomarker: 28264096::span:1874:1875\n",
      "Checking Condition: 28264096::span:255:266\n",
      "1\n",
      "(Span(\"NFL\", sentence=13300, chars=[218,220], words=[59,59]), Span(\"progressive bulbar palsy\", sentence=13300, chars=[49,72], words=[13,15]))\n",
      "(Span(\"NFL\", sentence=13300, chars=[218,220], words=[59,59]), Span(\"progressive muscular atrophy\", sentence=13300, chars=[316,343], words=[86,88]))\n",
      "(Span(\"NFL\", sentence=13300, chars=[218,220], words=[59,59]), Span(\"syndrome\", sentence=13300, chars=[259,266], words=[68,68]))\n",
      "Checking Biomarker: 28264096::span:1809:1811\n",
      "Checking Condition: 28264096::span:255:266\n",
      "1\n",
      "(Span(\"PATIENTS\", sentence=14761, chars=[0,7], words=[0,0]), Span(\"hepatocellular carcinoma\", sentence=14761, chars=[72,95], words=[12,13]))\n",
      "Checking Biomarker: 28260933::span:526:533\n",
      "Checking Condition: 28260933::span:51:95\n",
      "1\n",
      "(Span(\"METHODS\", sentence=14761, chars=[13,19], words=[2,2]), Span(\"hepatocellular carcinoma\", sentence=14761, chars=[72,95], words=[12,13]))\n",
      "Checking Biomarker: 28260933::span:539:545\n",
      "Checking Condition: 28260933::span:51:95\n",
      "1\n",
      "(Span(\"AND\", sentence=14761, chars=[9,11], words=[1,1]), Span(\"hepatocellular carcinoma\", sentence=14761, chars=[72,95], words=[12,13]))\n",
      "Checking Biomarker: 28260933::span:535:537\n",
      "Checking Condition: 28260933::span:51:95\n",
      "1\n",
      "(Span(\"CI\", sentence=14149, chars=[154,155], words=[28,28]), Span(\"lupus nephritis\", sentence=14149, chars=[189,203], words=[39,40]))\n",
      "(Span(\"CI\", sentence=14149, chars=[154,155], words=[28,28]), Span(\"disease\", sentence=14149, chars=[61,67], words=[9,9]))\n",
      "Checking Biomarker: 28262211::span:1569:1570\n",
      "Checking Condition: 28262211::span:55:67\n",
      "1\n",
      "(Span(\"DCN\", sentence=14491, chars=[121,123], words=[21,21]), Span(\"colon cancer\", sentence=14491, chars=[187,198], words=[32,33]))\n",
      "(Span(\"HSPD1\", sentence=14491, chars=[129,133], words=[23,23]), Span(\"colon cancer\", sentence=14491, chars=[187,198], words=[32,33]))\n",
      "(Span(\"BLA\", sentence=13463, chars=[70,72], words=[9,9]), Span(\"Cholera\", sentence=13463, chars=[105,111], words=[16,16]))\n",
      "(Span(\"CONCLUSION\", sentence=14806, chars=[0,9], words=[0,0]), Span(\"glaucoma\", sentence=14806, chars=[84,91], words=[12,12]))\n",
      "(Span(\"CD3\", sentence=14012, chars=[15,17], words=[3,3]), Span(\"multiple myeloma\", sentence=14012, chars=[116,131], words=[20,21]))\n",
      "(Span(\"TDB\", sentence=14012, chars=[58,60], words=[9,9]), Span(\"multiple myeloma\", sentence=14012, chars=[116,131], words=[20,21]))\n",
      "(Span(\"T\", sentence=14012, chars=[19,19], words=[4,4]), Span(\"multiple myeloma\", sentence=14012, chars=[116,131], words=[20,21]))\n",
      "(Span(\"CONCLUSIONS\", sentence=14150, chars=[0,10], words=[0,0]), Span(\"lupus nephritis\", sentence=14150, chars=[150,164], words=[23,24]))\n",
      "(Span(\"CONCLUSIONS\", sentence=14150, chars=[0,10], words=[0,0]), Span(\"disease\", sentence=14150, chars=[227,233], words=[37,37]))\n",
      "Checking Biomarker: 28262211::span:1627:1637\n",
      "Checking Condition: 28262211::span:221:233\n",
      "1\n",
      "(Span(\"MDD\", sentence=13999, chars=[27,29], words=[4,4]), Span(\"Major depressive disorder\", sentence=13999, chars=[0,24], words=[0,2]))\n",
      "(Span(\"CB2R\", sentence=14660, chars=[32,35], words=[5,5]), Span(\"brain edema\", sentence=14660, chars=[84,94], words=[14,15]))\n",
      "(Span(\"JWH133\", sentence=14660, chars=[64,69], words=[11,11]), Span(\"brain edema\", sentence=14660, chars=[84,94], words=[14,15]))\n",
      "(Span(\"ICH\", sentence=14660, chars=[187,189], words=[31,31]), Span(\"brain edema\", sentence=14660, chars=[84,94], words=[14,15]))\n",
      "(Span(\"PTEN\", sentence=14097, chars=[42,45], words=[7,7]), Span(\"cancer\", sentence=14097, chars=[95,100], words=[15,15]))\n",
      "Checking Biomarker: 28262306::span:1880:1883\n",
      "Checking Condition: 28262306::span:87:100\n",
      "1\n",
      "(Span(\"GAD\", sentence=14188, chars=[70,72], words=[12,12]), Span(\"generalized anxiety disorder\", sentence=14188, chars=[40,67], words=[8,10]))\n",
      "(Span(\"GOLPH3L\", sentence=14508, chars=[23,29], words=[4,4]), Span(\"cervical cancer\", sentence=14508, chars=[34,48], words=[6,7]))\n",
      "(Span(\"OF\", sentence=15054, chars=[8,9], words=[1,1]), Span(\"disease\", sentence=15054, chars=[221,227], words=[34,34]))\n",
      "Checking Biomarker: 28261371::span:151:152\n",
      "Checking Condition: 28261371::span:206:227\n",
      "1\n",
      "(Span(\"CVD\", sentence=15054, chars=[230,232], words=[36,36]), Span(\"disease\", sentence=15054, chars=[221,227], words=[34,34]))\n",
      "Checking Biomarker: 28261371::span:373:375\n",
      "Checking Condition: 28261371::span:206:227\n",
      "1\n",
      "(Span(\"REVIEW\", sentence=15054, chars=[11,16], words=[2,2]), Span(\"disease\", sentence=15054, chars=[221,227], words=[34,34]))\n",
      "Checking Biomarker: 28261371::span:154:159\n",
      "Checking Condition: 28261371::span:206:227\n",
      "1\n",
      "(Span(\"PURPOSE\", sentence=15054, chars=[0,6], words=[0,0]), Span(\"disease\", sentence=15054, chars=[221,227], words=[34,34]))\n",
      "Checking Biomarker: 28261371::span:143:149\n",
      "Checking Condition: 28261371::span:206:227\n",
      "1\n",
      "(Span(\"PMP\", sentence=13745, chars=[41,43], words=[4,4]), Span(\"Pseudomyxoma Peritonei\", sentence=13745, chars=[17,38], words=[1,2]))\n",
      "Checking Biomarker: 28263231::span:41:43\n",
      "Checking Condition: 28263231::span:0:38\n",
      "1\n",
      "(Span(\"OBJECTIVES\", sentence=13746, chars=[0,9], words=[0,0]), Span(\"Pseudomyxoma peritonei\", sentence=13746, chars=[12,33], words=[2,3]))\n",
      "(Span(\"PMP\", sentence=13746, chars=[36,38], words=[5,5]), Span(\"Pseudomyxoma peritonei\", sentence=13746, chars=[12,33], words=[2,3]))\n",
      "(Span(\"FINDINGS\", sentence=15055, chars=[7,14], words=[1,1]), Span(\"Vitamin D deficiency\", sentence=15055, chars=[17,36], words=[3,5]))\n",
      "(Span(\"RECENT\", sentence=15055, chars=[0,5], words=[0,0]), Span(\"Vitamin D deficiency\", sentence=15055, chars=[17,36], words=[3,5]))\n",
      "(Span(\"OS\", sentence=14517, chars=[221,222], words=[60,60]), Span(\"cancer\", sentence=14517, chars=[40,45], words=[6,6]))\n",
      "Checking Biomarker: 28261345::span:1648:1649\n",
      "Checking Condition: 28261345::span:31:45\n",
      "1\n",
      "(Span(\"PFS\", sentence=14517, chars=[237,239], words=[66,66]), Span(\"cancer\", sentence=14517, chars=[40,45], words=[6,6]))\n",
      "Checking Biomarker: 28261345::span:1664:1666\n",
      "Checking Condition: 28261345::span:31:45\n",
      "1\n",
      "(Span(\"CI\", sentence=14517, chars=[143,144], words=[40,40]), Span(\"cancer\", sentence=14517, chars=[40,45], words=[6,6]))\n",
      "Checking Biomarker: 28261345::span:1570:1571\n",
      "Checking Condition: 28261345::span:31:45\n",
      "1\n",
      "(Span(\"OS\", sentence=14517, chars=[70,71], words=[14,14]), Span(\"cancer\", sentence=14517, chars=[40,45], words=[6,6]))\n",
      "Checking Biomarker: 28261345::span:1497:1498\n",
      "Checking Condition: 28261345::span:31:45\n",
      "1\n",
      "(Span(\"CI\", sentence=14517, chars=[102,103], words=[24,24]), Span(\"cancer\", sentence=14517, chars=[40,45], words=[6,6]))\n",
      "Checking Biomarker: 28261345::span:1529:1530\n",
      "Checking Condition: 28261345::span:31:45\n",
      "1\n",
      "(Span(\"PFS\", sentence=14517, chars=[125,127], words=[33,33]), Span(\"cancer\", sentence=14517, chars=[40,45], words=[6,6]))\n",
      "Checking Biomarker: 28261345::span:1552:1554\n",
      "Checking Condition: 28261345::span:31:45\n",
      "1\n",
      "(Span(\"PBX1\", sentence=13718, chars=[127,130], words=[22,22]), Span(\"leukemia\", sentence=13718, chars=[106,113], words=[19,19]))\n",
      "Checking Biomarker: 28263391::span:534:537\n",
      "Checking Condition: 28263391::span:95:113\n",
      "1\n",
      "(Span(\"CUB\", sentence=13718, chars=[62,64], words=[11,11]), Span(\"leukemia\", sentence=13718, chars=[106,113], words=[19,19]))\n",
      "Checking Biomarker: 28263391::span:469:471\n",
      "Checking Condition: 28263391::span:95:113\n",
      "1\n"
     ]
    },
    {
     "name": "stdout",
     "output_type": "stream",
     "text": [
      "(Span(\"RESULTS\", sentence=14970, chars=[0,6], words=[0,0]), Span(\"Disease\", sentence=14970, chars=[145,151], words=[25,25]))\n",
      "Checking Biomarker: 28260446::span:1175:1181\n",
      "Checking Condition: 28260446::span:139:151\n",
      "1\n",
      "(Span(\"CONCLUSIONS\", sentence=14973, chars=[0,10], words=[0,0]), Span(\"Disease\", sentence=14973, chars=[252,258], words=[42,42]))\n",
      "Checking Biomarker: 28260446::span:1877:1887\n",
      "Checking Condition: 28260446::span:246:258\n",
      "1\n",
      "(Span(\"METHODS\", sentence=14923, chars=[0,6], words=[0,0]), Span(\"Cancer\", sentence=14923, chars=[94,99], words=[13,13]))\n",
      "(Span(\"UICC\", sentence=14923, chars=[110,113], words=[16,16]), Span(\"Cancer\", sentence=14923, chars=[94,99], words=[13,13]))\n",
      "(Span(\"HCC\", sentence=14923, chars=[56,58], words=[7,7]), Span(\"Cancer\", sentence=14923, chars=[94,99], words=[13,13]))\n",
      "(Span(\"STEC\", sentence=14958, chars=[185,188], words=[28,28]), Span(\"disease\", sentence=14958, chars=[214,220], words=[34,34]))\n",
      "Checking Biomarker: 28260536::span:727:730\n",
      "Checking Condition: 28260536::span:207:220\n",
      "1\n",
      "(Span(\"PURPOSE\", sentence=15041, chars=[0,6], words=[0,0]), Span(\"cancer\", sentence=15041, chars=[114,119], words=[17,17]))\n",
      "Checking Biomarker: 28260162::span:108:114\n",
      "Checking Condition: 28260162::span:92:119\n",
      "1\n",
      "(Span(\"CYR61\", sentence=13639, chars=[26,30], words=[4,4]), Span(\"osteosarcoma\", sentence=13639, chars=[83,94], words=[13,13]))\n",
      "(Span(\"COMPANION\", sentence=14140, chars=[680,688], words=[102,102]), Span(\"Congestive Heart Failure\", sentence=14140, chars=[373,396], words=[53,55]))\n",
      "(Span(\"REDHOT\", sentence=14140, chars=[587,592], words=[86,86]), Span(\"Congestive Heart Failure\", sentence=14140, chars=[373,396], words=[53,55]))\n",
      "(Span(\"DOSE\", sentence=14140, chars=[284,287], words=[37,37]), Span(\"Congestive Heart Failure\", sentence=14140, chars=[373,396], words=[53,55]))\n",
      "(Span(\"TIME-CHF\", sentence=14140, chars=[399,406], words=[57,57]), Span(\"Congestive Heart Failure\", sentence=14140, chars=[373,396], words=[53,55]))\n",
      "(Span(\"OPTIMIZE-HF\", sentence=14140, chars=[510,520], words=[74,74]), Span(\"Congestive Heart Failure\", sentence=14140, chars=[373,396], words=[53,55]))\n",
      "(Span(\"TNBS\", sentence=13618, chars=[115,118], words=[17,17]), Span(\"colitis\", sentence=13618, chars=[129,135], words=[21,21]))\n",
      "(Span(\"PDGFC\", sentence=14794, chars=[200,204], words=[34,34]), Span(\"major depressive disorder\", sentence=14794, chars=[56,80], words=[9,11]))\n",
      "(Span(\"ARHGAP24\", sentence=14794, chars=[183,190], words=[30,30]), Span(\"major depressive disorder\", sentence=14794, chars=[56,80], words=[9,11]))\n",
      "(Span(\"SLC6A4\", sentence=14794, chars=[217,222], words=[39,39]), Span(\"major depressive disorder\", sentence=14794, chars=[56,80], words=[9,11]))\n",
      "(Span(\"PRNP\", sentence=14794, chars=[207,210], words=[36,36]), Span(\"major depressive disorder\", sentence=14794, chars=[56,80], words=[9,11]))\n",
      "(Span(\"PURPOSE\", sentence=14794, chars=[0,6], words=[0,0]), Span(\"major depressive disorder\", sentence=14794, chars=[56,80], words=[9,11]))\n",
      "(Span(\"MDD\", sentence=14794, chars=[83,85], words=[13,13]), Span(\"major depressive disorder\", sentence=14794, chars=[56,80], words=[9,11]))\n",
      "(Span(\"HDAC5\", sentence=14794, chars=[193,197], words=[32,32]), Span(\"major depressive disorder\", sentence=14794, chars=[56,80], words=[9,11]))\n",
      "(Span(\"C3a\", sentence=14146, chars=[84,86], words=[17,17]), Span(\"systemic lupus erythematosus\", sentence=14146, chars=[220,247], words=[39,41]))\n",
      "Checking Biomarker: 28262211::span:889:891\n",
      "Checking Condition: 28262211::span:213:247\n",
      "1\n",
      "(Span(\"C3a\", sentence=14146, chars=[84,86], words=[17,17]), Span(\"lupus nephritis\", sentence=14146, chars=[163,177], words=[30,31]))\n",
      "Checking Biomarker: 28262211::span:889:891\n",
      "Checking Condition: 28262211::span:156:177\n",
      "1\n",
      "(Span(\"C5a\", sentence=14146, chars=[89,91], words=[19,19]), Span(\"systemic lupus erythematosus\", sentence=14146, chars=[220,247], words=[39,41]))\n",
      "Checking Biomarker: 28262211::span:894:896\n",
      "Checking Condition: 28262211::span:213:247\n",
      "1\n",
      "(Span(\"C5a\", sentence=14146, chars=[89,91], words=[19,19]), Span(\"lupus nephritis\", sentence=14146, chars=[163,177], words=[30,31]))\n",
      "Checking Biomarker: 28262211::span:894:896\n",
      "Checking Condition: 28262211::span:156:177\n",
      "1\n",
      "(Span(\"C3\", sentence=14146, chars=[34,35], words=[7,7]), Span(\"systemic lupus erythematosus\", sentence=14146, chars=[220,247], words=[39,41]))\n",
      "Checking Biomarker: 28262211::span:839:840\n",
      "Checking Condition: 28262211::span:213:247\n",
      "1\n",
      "(Span(\"C3\", sentence=14146, chars=[34,35], words=[7,7]), Span(\"lupus nephritis\", sentence=14146, chars=[163,177], words=[30,31]))\n",
      "Checking Biomarker: 28262211::span:839:840\n",
      "Checking Condition: 28262211::span:156:177\n",
      "1\n",
      "(Span(\"RESULTS\", sentence=14146, chars=[0,6], words=[0,0]), Span(\"systemic lupus erythematosus\", sentence=14146, chars=[220,247], words=[39,41]))\n",
      "Checking Biomarker: 28262211::span:805:811\n",
      "Checking Condition: 28262211::span:213:247\n",
      "1\n",
      "(Span(\"RESULTS\", sentence=14146, chars=[0,6], words=[0,0]), Span(\"lupus nephritis\", sentence=14146, chars=[163,177], words=[30,31]))\n",
      "Checking Biomarker: 28262211::span:805:811\n",
      "Checking Condition: 28262211::span:156:177\n",
      "1\n",
      "(Span(\"HCV\", sentence=13666, chars=[66,68], words=[11,11]), Span(\"hepatitis C\", sentence=13666, chars=[47,57], words=[7,8]))\n",
      "(Span(\"NAFLD\", sentence=14780, chars=[127,131], words=[21,21]), Span(\"obesity\", sentence=14780, chars=[44,50], words=[7,7]))\n",
      "(Span(\"NAFLD\", sentence=14780, chars=[127,131], words=[21,21]), Span(\"fatty liver disease\", sentence=14780, chars=[106,124], words=[17,19]))\n",
      "Checking Biomarker: 28260907::span:256:260\n",
      "Checking Condition: 28260907::span:93:124\n",
      "1\n",
      "(Span(\"CRC\", sentence=13935, chars=[43,45], words=[7,7]), Span(\"colorectal cancer\", sentence=13935, chars=[24,40], words=[4,5]))\n",
      "(Span(\"PATIENTS\", sentence=14796, chars=[0,7], words=[0,0]), Span(\"bipolar disorder\", sentence=14796, chars=[192,207], words=[28,29]))\n",
      "(Span(\"PATIENTS\", sentence=14796, chars=[0,7], words=[0,0]), Span(\"schizophrenia\", sentence=14796, chars=[157,169], words=[23,23]))\n",
      "(Span(\"METHODS\", sentence=14796, chars=[13,19], words=[2,2]), Span(\"bipolar disorder\", sentence=14796, chars=[192,207], words=[28,29]))\n",
      "(Span(\"METHODS\", sentence=14796, chars=[13,19], words=[2,2]), Span(\"schizophrenia\", sentence=14796, chars=[157,169], words=[23,23]))\n",
      "(Span(\"MDD\", sentence=14796, chars=[363,365], words=[55,55]), Span(\"bipolar disorder\", sentence=14796, chars=[192,207], words=[28,29]))\n",
      "(Span(\"MDD\", sentence=14796, chars=[363,365], words=[55,55]), Span(\"schizophrenia\", sentence=14796, chars=[157,169], words=[23,23]))\n",
      "(Span(\"AND\", sentence=14796, chars=[9,11], words=[1,1]), Span(\"bipolar disorder\", sentence=14796, chars=[192,207], words=[28,29]))\n",
      "(Span(\"AND\", sentence=14796, chars=[9,11], words=[1,1]), Span(\"schizophrenia\", sentence=14796, chars=[157,169], words=[23,23]))\n",
      "(Span(\"PCR\", sentence=14796, chars=[265,267], words=[37,37]), Span(\"bipolar disorder\", sentence=14796, chars=[192,207], words=[28,29]))\n",
      "(Span(\"PCR\", sentence=14796, chars=[265,267], words=[37,37]), Span(\"schizophrenia\", sentence=14796, chars=[157,169], words=[23,23]))\n",
      "(Span(\"VTE\", sentence=13242, chars=[9,11], words=[2,2]), Span(\"cancer\", sentence=13242, chars=[38,43], words=[6,6]))\n",
      "(Span(\"VTE\", sentence=13243, chars=[40,42], words=[5,5]), Span(\"disease\", sentence=13243, chars=[98,104], words=[17,17]))\n",
      "(Span(\"VTE\", sentence=13243, chars=[40,42], words=[5,5]), Span(\"cancer\", sentence=13243, chars=[80,85], words=[13,13]))\n",
      "(Span(\"SRED\", sentence=13787, chars=[66,69], words=[8,8]), Span(\"autoimmune hepatitis\", sentence=13787, chars=[106,125], words=[16,17]))\n",
      "(Span(\"SRED\", sentence=13787, chars=[66,69], words=[8,8]), Span(\"primary sclerosing cholangitis\", sentence=13787, chars=[187,216], words=[33,35]))\n",
      "(Span(\"SRED\", sentence=13787, chars=[66,69], words=[8,8]), Span(\"primary biliary cirrhosis\", sentence=13787, chars=[143,167], words=[24,26]))\n",
      "(Span(\"PSC\", sentence=13787, chars=[219,221], words=[37,37]), Span(\"autoimmune hepatitis\", sentence=13787, chars=[106,125], words=[16,17]))\n",
      "(Span(\"PSC\", sentence=13787, chars=[219,221], words=[37,37]), Span(\"primary sclerosing cholangitis\", sentence=13787, chars=[187,216], words=[33,35]))\n",
      "(Span(\"PSC\", sentence=13787, chars=[219,221], words=[37,37]), Span(\"primary biliary cirrhosis\", sentence=13787, chars=[143,167], words=[24,26]))\n",
      "(Span(\"AIH\", sentence=13787, chars=[128,130], words=[19,19]), Span(\"autoimmune hepatitis\", sentence=13787, chars=[106,125], words=[16,17]))\n",
      "(Span(\"AIH\", sentence=13787, chars=[128,130], words=[19,19]), Span(\"primary sclerosing cholangitis\", sentence=13787, chars=[187,216], words=[33,35]))\n",
      "(Span(\"AIH\", sentence=13787, chars=[128,130], words=[19,19]), Span(\"primary biliary cirrhosis\", sentence=13787, chars=[143,167], words=[24,26]))\n",
      "(Span(\"PBC\", sentence=13787, chars=[170,172], words=[28,28]), Span(\"autoimmune hepatitis\", sentence=13787, chars=[106,125], words=[16,17]))\n",
      "(Span(\"PBC\", sentence=13787, chars=[170,172], words=[28,28]), Span(\"primary sclerosing cholangitis\", sentence=13787, chars=[187,216], words=[33,35]))\n",
      "(Span(\"PBC\", sentence=13787, chars=[170,172], words=[28,28]), Span(\"primary biliary cirrhosis\", sentence=13787, chars=[143,167], words=[24,26]))\n",
      "(Span(\"MI\", sentence=13892, chars=[147,148], words=[22,22]), Span(\"abdominal aortic aneurysm\", sentence=13892, chars=[202,226], words=[37,39]))\n",
      "(Span(\"MI\", sentence=13892, chars=[147,148], words=[22,22]), Span(\"myocardial infarction\", sentence=13892, chars=[124,144], words=[19,20]))\n",
      "(Span(\"AML\", sentence=14418, chars=[92,94], words=[14,14]), Span(\"acute myeloid leukemia\", sentence=14418, chars=[68,89], words=[10,12]))\n",
      "(Span(\"CKD\", sentence=13881, chars=[24,26], words=[4,4]), Span(\"disease\", sentence=13881, chars=[191,197], words=[33,33]))\n",
      "(Span(\"CKD\", sentence=13881, chars=[24,26], words=[4,4]), Span(\"Chronic kidney disease\", sentence=13881, chars=[0,21], words=[0,2]))\n",
      "(Span(\"AIH\", sentence=13790, chars=[43,45], words=[5,5]), Span(\"viral hepatitis\", sentence=13790, chars=[72,86], words=[12,13]))\n",
      "(Span(\"PBC\", sentence=13790, chars=[48,50], words=[7,7]), Span(\"viral hepatitis\", sentence=13790, chars=[72,86], words=[12,13]))\n",
      "(Span(\"PSC\", sentence=13790, chars=[56,58], words=[9,9]), Span(\"viral hepatitis\", sentence=13790, chars=[72,86], words=[12,13]))\n",
      "(Span(\"FDG\", sentence=13365, chars=[58,60], words=[10,10]), Span(\"carcinoma\", sentence=13365, chars=[163,171], words=[27,27]))\n",
      "Checking Biomarker: 28264009::span:413:415\n",
      "Checking Condition: 28264009::span:159:171\n",
      "1\n",
      "(Span(\"CT\", sentence=13365, chars=[46,47], words=[7,7]), Span(\"carcinoma\", sentence=13365, chars=[163,171], words=[27,27]))\n",
      "Checking Biomarker: 28264009::span:401:402\n",
      "Checking Condition: 28264009::span:159:171\n",
      "1\n",
      "(Span(\"METHODS\", sentence=13365, chars=[0,6], words=[0,0]), Span(\"carcinoma\", sentence=13365, chars=[163,171], words=[27,27]))\n",
      "Checking Biomarker: 28264009::span:355:361\n",
      "Checking Condition: 28264009::span:159:171\n",
      "1\n",
      "(Span(\"VX2\", sentence=13365, chars=[159,161], words=[26,26]), Span(\"carcinoma\", sentence=13365, chars=[163,171], words=[27,27]))\n",
      "Checking Biomarker: 28264009::span:514:516\n",
      "Checking Condition: 28264009::span:159:171\n",
      "1\n",
      "(Span(\"PET\", sentence=13365, chars=[92,94], words=[15,15]), Span(\"carcinoma\", sentence=13365, chars=[163,171], words=[27,27]))\n",
      "Checking Biomarker: 28264009::span:447:449\n",
      "Checking Condition: 28264009::span:159:171\n",
      "1\n",
      "(Span(\"OS\", sentence=13510, chars=[236,237], words=[37,37]), Span(\"hypertension\", sentence=13510, chars=[75,86], words=[10,10]))\n",
      "Checking Biomarker: 28263701::span:1335:1336\n",
      "Checking Condition: 28263701::span:57:86\n",
      "1\n",
      "(Span(\"CRP\", sentence=14857, chars=[20,22], words=[3,3]), Span(\"hyperglycemia\", sentence=14857, chars=[109,121], words=[15,15]))\n",
      "(Span(\"HCC\", sentence=13514, chars=[150,152], words=[20,20]), Span(\"hypertension\", sentence=13514, chars=[30,41], words=[5,5]))\n",
      "(Span(\"TACE\", sentence=13514, chars=[167,170], words=[23,23]), Span(\"hypertension\", sentence=13514, chars=[30,41], words=[5,5]))\n",
      "(Span(\"PTEN\", sentence=14084, chars=[62,65], words=[11,11]), Span(\"cancer\", sentence=14084, chars=[142,147], words=[23,23]))\n",
      "Checking Biomarker: 28262306::span:358:361\n",
      "Checking Condition: 28262306::span:134:147\n",
      "1\n",
      "(Span(\"DFS\", sentence=14084, chars=[211,213], words=[37,37]), Span(\"cancer\", sentence=14084, chars=[142,147], words=[23,23]))\n",
      "Checking Biomarker: 28262306::span:507:509\n",
      "Checking Condition: 28262306::span:134:147\n",
      "1\n",
      "(Span(\"OS\", sentence=14084, chars=[204,205], words=[35,35]), Span(\"cancer\", sentence=14084, chars=[142,147], words=[23,23]))\n",
      "Checking Biomarker: 28262306::span:500:501\n",
      "Checking Condition: 28262306::span:134:147\n",
      "1\n",
      "(Span(\"AND\", sentence=14085, chars=[9,11], words=[1,1]), Span(\"carcinoma\", sentence=14085, chars=[83,91], words=[13,13]))\n",
      "Checking Biomarker: 28262306::span:521:523\n",
      "Checking Condition: 28262306::span:75:91\n",
      "1\n",
      "(Span(\"PATIENTS\", sentence=14085, chars=[0,7], words=[0,0]), Span(\"carcinoma\", sentence=14085, chars=[83,91], words=[13,13]))\n",
      "Checking Biomarker: 28262306::span:512:519\n",
      "Checking Condition: 28262306::span:75:91\n",
      "1\n",
      "(Span(\"METHODS\", sentence=14085, chars=[13,19], words=[2,2]), Span(\"carcinoma\", sentence=14085, chars=[83,91], words=[13,13]))\n",
      "Checking Biomarker: 28262306::span:525:531\n",
      "Checking Condition: 28262306::span:75:91\n",
      "1\n",
      "(Span(\"PTEN\", sentence=14090, chars=[113,116], words=[16,16]), Span(\"carcinoma\", sentence=14090, chars=[77,85], words=[11,11]))\n",
      "Checking Biomarker: 28262306::span:1068:1071\n",
      "Checking Condition: 28262306::span:69:85\n",
      "1\n",
      "(Span(\"GARP\", sentence=14635, chars=[14,17], words=[2,2]), Span(\"Lung Cancer\", sentence=14635, chars=[114,124], words=[16,17]))\n",
      "(Span(\"T\", sentence=14635, chars=[65,65], words=[8,8]), Span(\"Lung Cancer\", sentence=14635, chars=[114,124], words=[16,17]))\n",
      "(Span(\"MCI\", sentence=14284, chars=[75,77], words=[13,13]), Span(\"Alzheimer's disease\", sentence=14284, chars=[97,115], words=[21,23]))\n",
      "(Span(\"METHODS\", sentence=14284, chars=[0,6], words=[0,0]), Span(\"Alzheimer's disease\", sentence=14284, chars=[97,115], words=[21,23]))\n",
      "(Span(\"GARP\", sentence=14640, chars=[49,52], words=[9,9]), Span(\"lung cancer\", sentence=14640, chars=[115,125], words=[23,24]))\n",
      "(Span(\"GARP\", sentence=14641, chars=[63,66], words=[9,9]), Span(\"lung cancer\", sentence=14641, chars=[116,126], words=[17,18]))\n",
      "(Span(\"GARP\", sentence=14642, chars=[71,74], words=[13,13]), Span(\"lung cancer\", sentence=14642, chars=[58,68], words=[10,11]))\n",
      "(Span(\"GARP\", sentence=14643, chars=[157,160], words=[23,23]), Span(\"cancer\", sentence=14643, chars=[119,124], words=[17,17]))\n",
      "Checking Biomarker: 28261204::span:1301:1304\n",
      "Checking Condition: 28261204::span:110:124\n",
      "1\n",
      "(Span(\"GARP\", sentence=14643, chars=[79,82], words=[11,11]), Span(\"cancer\", sentence=14643, chars=[119,124], words=[17,17]))\n",
      "Checking Biomarker: 28261204::span:1223:1226\n",
      "Checking Condition: 28261204::span:110:124\n",
      "1\n",
      "(Span(\"GARP\", sentence=14644, chars=[105,108], words=[16,16]), Span(\"lung cancer\", sentence=14644, chars=[51,61], words=[7,8]))\n",
      "Checking Biomarker: 28261204::span:1451:1454\n",
      "Checking Condition: 28261204::span:45:61\n",
      "1\n",
      "(Span(\"GARP\", sentence=14645, chars=[59,62], words=[9,9]), Span(\"cancer\", sentence=14645, chars=[88,93], words=[14,14]))\n",
      "(Span(\"FRT\", sentence=14291, chars=[58,60], words=[11,11]), Span(\"Alzheimer's disease\", sentence=14291, chars=[85,103], words=[16,18]))\n",
      "(Span(\"CASI\", sentence=14291, chars=[36,39], words=[5,5]), Span(\"Alzheimer's disease\", sentence=14291, chars=[85,103], words=[16,18]))\n",
      "(Span(\"SRT\", sentence=14291, chars=[49,51], words=[8,8]), Span(\"Alzheimer's disease\", sentence=14291, chars=[85,103], words=[16,18]))\n",
      "(Span(\"RESULTS\", sentence=14291, chars=[0,6], words=[0,0]), Span(\"Alzheimer's disease\", sentence=14291, chars=[85,103], words=[16,18]))\n",
      "(Span(\"CYR61\", sentence=13629, chars=[40,44], words=[6,6]), Span(\"osteosarcoma\", sentence=13629, chars=[66,77], words=[11,11]))\n",
      "(Span(\"ACS\", sentence=14845, chars=[82,84], words=[13,13]), Span(\"syndrome\", sentence=14845, chars=[15,22], words=[2,2]))\n",
      "Checking Biomarker: 28260759::span:915:917\n",
      "Checking Condition: 28260759::span:0:22\n",
      "1\n",
      "(Span(\"CVD\", sentence=15056, chars=[119,121], words=[18,18]), Span(\"vitamin D deficiency\", sentence=15056, chars=[77,96], words=[10,12]))\n",
      "(Span(\"SCD\", sentence=14557, chars=[103,105], words=[18,18]), Span(\"disease\", sentence=14557, chars=[94,100], words=[16,16]))\n",
      "Checking Biomarker: 28261322::span:154:156\n"
     ]
    },
    {
     "name": "stdout",
     "output_type": "stream",
     "text": [
      "Checking Condition: 28261322::span:82:100\n",
      "1\n",
      "(Span(\"RBC\", sentence=14557, chars=[16,18], words=[4,4]), Span(\"disease\", sentence=14557, chars=[94,100], words=[16,16]))\n",
      "Checking Biomarker: 28261322::span:67:69\n",
      "Checking Condition: 28261322::span:82:100\n",
      "1\n",
      "(Span(\"SCD\", sentence=14558, chars=[9,11], words=[2,2]), Span(\"alloimmunization\", sentence=14558, chars=[44,59], words=[10,10]))\n",
      "(Span(\"SCD\", sentence=14559, chars=[96,98], words=[15,15]), Span(\"alloimmunization\", sentence=14559, chars=[17,32], words=[4,4]))\n",
      "(Span(\"SCD\", sentence=14564, chars=[175,177], words=[27,27]), Span(\"alloimmunization\", sentence=14564, chars=[349,364], words=[56,56]))\n",
      "Checking Biomarker: 28261322::span:1331:1333\n",
      "Checking Condition: 28261322::span:341:364\n",
      "1\n",
      "(Span(\"SCD\", sentence=14564, chars=[48,50], words=[8,8]), Span(\"alloimmunization\", sentence=14564, chars=[349,364], words=[56,56]))\n",
      "Checking Biomarker: 28261322::span:1204:1206\n",
      "Checking Condition: 28261322::span:341:364\n",
      "1\n",
      "(Span(\"T\", sentence=14565, chars=[102,102], words=[13,13]), Span(\"alloimmunization\", sentence=14565, chars=[209,224], words=[29,29]))\n",
      "(Span(\"SCD\", sentence=14565, chars=[136,138], words=[18,18]), Span(\"alloimmunization\", sentence=14565, chars=[209,224], words=[29,29]))\n",
      "(Span(\"BPCN\", sentence=13406, chars=[62,65], words=[10,10]), Span(\"disease\", sentence=13406, chars=[123,129], words=[24,24]))\n",
      "(Span(\"PPI\", sentence=13406, chars=[107,109], words=[19,19]), Span(\"disease\", sentence=13406, chars=[123,129], words=[24,24]))\n",
      "(Span(\"DPCN\", sentence=13406, chars=[159,162], words=[29,29]), Span(\"disease\", sentence=13406, chars=[123,129], words=[24,24]))\n",
      "(Span(\"PPI\", sentence=13406, chars=[212,214], words=[38,38]), Span(\"disease\", sentence=13406, chars=[123,129], words=[24,24]))\n",
      "(Span(\"AF\", sentence=14715, chars=[78,79], words=[17,17]), Span(\"atrial fibrillation\", sentence=14715, chars=[57,75], words=[14,15]))\n",
      "(Span(\"ER\", sentence=13716, chars=[39,40], words=[6,6]), Span(\"breast cancer\", sentence=13716, chars=[52,64], words=[10,11]))\n",
      "Checking Biomarker: 28263391::span:174:175\n",
      "Checking Condition: 28263391::span:43:64\n",
      "1\n",
      "(Span(\"ER\", sentence=13716, chars=[39,40], words=[6,6]), Span(\"breast cancer\", sentence=13716, chars=[87,99], words=[16,17]))\n",
      "(Span(\"DNA\", sentence=14549, chars=[52,54], words=[9,9]), Span(\"cancer\", sentence=14549, chars=[124,129], words=[19,19]))\n",
      "Checking Biomarker: 28261325::span:564:566\n",
      "Checking Condition: 28261325::span:116:129\n",
      "1\n",
      "(Span(\"CDK11\", sentence=13865, chars=[0,4], words=[0,0]), Span(\"osteosarcoma\", sentence=13865, chars=[57,68], words=[8,8]))\n",
      "(Span(\"AR\", sentence=13865, chars=[46,47], words=[5,5]), Span(\"osteosarcoma\", sentence=13865, chars=[57,68], words=[8,8]))\n",
      "(Span(\"AR\", sentence=13866, chars=[0,1], words=[0,0]), Span(\"osteosarcoma\", sentence=13866, chars=[43,54], words=[7,7]))\n",
      "Checking Biomarker: 28262798::span:728:729\n",
      "Checking Condition: 28262798::span:35:54\n",
      "1\n",
      "(Span(\"AR\", sentence=13869, chars=[62,63], words=[9,9]), Span(\"osteosarcoma\", sentence=13869, chars=[30,41], words=[5,5]))\n",
      "(Span(\"CDK11\", sentence=13870, chars=[28,32], words=[4,4]), Span(\"osteosarcoma\", sentence=13870, chars=[155,166], words=[26,26]))\n",
      "(Span(\"AR\", sentence=13870, chars=[82,83], words=[14,14]), Span(\"osteosarcoma\", sentence=13870, chars=[155,166], words=[26,26]))\n",
      "(Span(\"AR\", sentence=13870, chars=[67,68], words=[11,11]), Span(\"osteosarcoma\", sentence=13870, chars=[155,166], words=[26,26]))\n",
      "(Span(\"NFL\", sentence=14256, chars=[50,52], words=[9,9]), Span(\"disease\", sentence=14256, chars=[173,179], words=[31,31]))\n",
      "(Span(\"CSF\", sentence=14256, chars=[57,59], words=[11,11]), Span(\"disease\", sentence=14256, chars=[173,179], words=[31,31]))\n",
      "(Span(\"RESULTS\", sentence=14256, chars=[0,6], words=[0,0]), Span(\"disease\", sentence=14256, chars=[173,179], words=[31,31]))\n",
      "(Span(\"BACKGROUND\", sentence=13403, chars=[0,9], words=[0,0]), Span(\"Barrett's esophagus\", sentence=13403, chars=[41,59], words=[5,7]))\n",
      "(Span(\"EGFR\", sentence=13392, chars=[70,73], words=[10,10]), Span(\"colitis\", sentence=13392, chars=[117,123], words=[17,17]))\n",
      "(Span(\"CONCLUSION\", sentence=14175, chars=[0,9], words=[0,0]), Span(\"obesity\", sentence=14175, chars=[28,34], words=[3,3]))\n",
      "Checking Biomarker: 28262197::span:1697:1706\n",
      "Checking Condition: 28262197::span:12:34\n",
      "1\n",
      "(Span(\"ER\", sentence=13721, chars=[53,54], words=[7,7]), Span(\"cancer\", sentence=13721, chars=[84,89], words=[12,12]))\n",
      "Checking Biomarker: 28263391::span:871:872\n",
      "Checking Condition: 28263391::span:70:89\n",
      "1\n",
      "(Span(\"AND\", sentence=14253, chars=[11,13], words=[1,1]), Span(\"multiple sclerosis\", sentence=14253, chars=[143,160], words=[20,21]))\n",
      "(Span(\"BACKGROUND\", sentence=14253, chars=[0,9], words=[0,0]), Span(\"multiple sclerosis\", sentence=14253, chars=[143,160], words=[20,21]))\n",
      "(Span(\"PURPOSE\", sentence=14253, chars=[15,21], words=[2,2]), Span(\"multiple sclerosis\", sentence=14253, chars=[143,160], words=[20,21]))\n",
      "(Span(\"CSF\", sentence=14254, chars=[92,94], words=[11,11]), Span(\"syndrome\", sentence=14254, chars=[213,220], words=[30,30]))\n",
      "(Span(\"CSF\", sentence=14254, chars=[92,94], words=[11,11]), Span(\"disease\", sentence=14254, chars=[131,137], words=[18,18]))\n",
      "(Span(\"CCL20\", sentence=14254, chars=[361,365], words=[56,56]), Span(\"syndrome\", sentence=14254, chars=[213,220], words=[30,30]))\n",
      "(Span(\"CCL20\", sentence=14254, chars=[361,365], words=[56,56]), Span(\"disease\", sentence=14254, chars=[131,137], words=[18,18]))\n",
      "(Span(\"CXCL10\", sentence=14254, chars=[345,350], words=[52,52]), Span(\"syndrome\", sentence=14254, chars=[213,220], words=[30,30]))\n",
      "(Span(\"CXCL10\", sentence=14254, chars=[345,350], words=[52,52]), Span(\"disease\", sentence=14254, chars=[131,137], words=[18,18]))\n",
      "(Span(\"CXCL1\", sentence=14254, chars=[331,335], words=[48,48]), Span(\"syndrome\", sentence=14254, chars=[213,220], words=[30,30]))\n",
      "(Span(\"CXCL1\", sentence=14254, chars=[331,335], words=[48,48]), Span(\"disease\", sentence=14254, chars=[131,137], words=[18,18]))\n",
      "(Span(\"CIS\", sentence=14254, chars=[574,576], words=[90,90]), Span(\"syndrome\", sentence=14254, chars=[213,220], words=[30,30]))\n",
      "(Span(\"CIS\", sentence=14254, chars=[574,576], words=[90,90]), Span(\"disease\", sentence=14254, chars=[131,137], words=[18,18]))\n",
      "(Span(\"CIS\", sentence=14254, chars=[223,225], words=[32,32]), Span(\"syndrome\", sentence=14254, chars=[213,220], words=[30,30]))\n",
      "(Span(\"CIS\", sentence=14254, chars=[223,225], words=[32,32]), Span(\"disease\", sentence=14254, chars=[131,137], words=[18,18]))\n",
      "(Span(\"CCL22\", sentence=14254, chars=[368,372], words=[58,58]), Span(\"syndrome\", sentence=14254, chars=[213,220], words=[30,30]))\n",
      "(Span(\"CCL22\", sentence=14254, chars=[368,372], words=[58,58]), Span(\"disease\", sentence=14254, chars=[131,137], words=[18,18]))\n",
      "(Span(\"METHODS\", sentence=14254, chars=[256,262], words=[37,37]), Span(\"syndrome\", sentence=14254, chars=[213,220], words=[30,30]))\n",
      "(Span(\"METHODS\", sentence=14254, chars=[256,262], words=[37,37]), Span(\"disease\", sentence=14254, chars=[131,137], words=[18,18]))\n",
      "(Span(\"CXCL13\", sentence=14254, chars=[353,358], words=[54,54]), Span(\"syndrome\", sentence=14254, chars=[213,220], words=[30,30]))\n",
      "(Span(\"CXCL13\", sentence=14254, chars=[353,358], words=[54,54]), Span(\"disease\", sentence=14254, chars=[131,137], words=[18,18]))\n",
      "(Span(\"CXCL8\", sentence=14254, chars=[338,342], words=[50,50]), Span(\"syndrome\", sentence=14254, chars=[213,220], words=[30,30]))\n",
      "(Span(\"CXCL8\", sentence=14254, chars=[338,342], words=[50,50]), Span(\"disease\", sentence=14254, chars=[131,137], words=[18,18]))\n",
      "(Span(\"NFL\", sentence=14254, chars=[402,404], words=[64,64]), Span(\"syndrome\", sentence=14254, chars=[213,220], words=[30,30]))\n",
      "(Span(\"NFL\", sentence=14254, chars=[402,404], words=[64,64]), Span(\"disease\", sentence=14254, chars=[131,137], words=[18,18]))\n",
      "(Span(\"CSF\", sentence=14254, chars=[548,550], words=[85,85]), Span(\"syndrome\", sentence=14254, chars=[213,220], words=[30,30]))\n",
      "(Span(\"CSF\", sentence=14254, chars=[548,550], words=[85,85]), Span(\"disease\", sentence=14254, chars=[131,137], words=[18,18]))\n",
      "(Span(\"CSF\", sentence=13529, chars=[110,112], words=[14,14]), Span(\"Parkinson's disease\", sentence=13529, chars=[58,76], words=[6,8]))\n",
      "(Span(\"LGE\", sentence=14051, chars=[83,85], words=[11,11]), Span(\"dilated cardiomyopathy\", sentence=14051, chars=[175,196], words=[24,25]))\n",
      "Checking Biomarker: 28262437::span:532:534\n",
      "Checking Condition: 28262437::span:162:196\n",
      "1\n",
      "(Span(\"LGE\", sentence=14051, chars=[83,85], words=[11,11]), Span(\"hypertrophic cardiomyopathy\", sentence=14051, chars=[202,228], words=[27,28]))\n",
      "(Span(\"RANKL\", sentence=14393, chars=[248,252], words=[34,34]), Span(\"periodontitis\", sentence=14393, chars=[79,91], words=[11,11]))\n",
      "Checking Biomarker: 28261746::span:558:562\n",
      "Checking Condition: 28261746::span:59:91\n",
      "1\n",
      "(Span(\"AND\", sentence=14393, chars=[10,12], words=[1,1]), Span(\"periodontitis\", sentence=14393, chars=[79,91], words=[11,11]))\n",
      "Checking Biomarker: 28261746::span:320:322\n",
      "Checking Condition: 28261746::span:59:91\n",
      "1\n",
      "(Span(\"MATERIALS\", sentence=14393, chars=[0,8], words=[0,0]), Span(\"periodontitis\", sentence=14393, chars=[79,91], words=[11,11]))\n",
      "Checking Biomarker: 28261746::span:310:318\n",
      "Checking Condition: 28261746::span:59:91\n",
      "1\n",
      "(Span(\"METHODS\", sentence=14393, chars=[14,20], words=[2,2]), Span(\"periodontitis\", sentence=14393, chars=[79,91], words=[11,11]))\n"
     ]
    },
    {
     "name": "stdout",
     "output_type": "stream",
     "text": [
      "Checking Biomarker: 28261746::span:324:330\n",
      "Checking Condition: 28261746::span:59:91\n",
      "1\n",
      "(Span(\"TRAP-5\", sentence=14393, chars=[240,245], words=[32,32]), Span(\"periodontitis\", sentence=14393, chars=[79,91], words=[11,11]))\n",
      "Checking Biomarker: 28261746::span:550:555\n",
      "Checking Condition: 28261746::span:59:91\n",
      "1\n",
      "(Span(\"OPG\", sentence=14393, chars=[259,261], words=[37,37]), Span(\"periodontitis\", sentence=14393, chars=[79,91], words=[11,11]))\n",
      "Checking Biomarker: 28261746::span:569:571\n",
      "Checking Condition: 28261746::span:59:91\n",
      "1\n",
      "(Span(\"AIM\", sentence=14239, chars=[0,2], words=[0,0]), Span(\"rheumatoid arthritis\", sentence=14239, chars=[48,67], words=[7,8]))\n",
      "(Span(\"METHOD\", sentence=14240, chars=[0,5], words=[0,0]), Span(\"osteoarthritis\", sentence=14240, chars=[87,100], words=[14,14]))\n",
      "(Span(\"TRAP5\", sentence=14399, chars=[129,133], words=[15,15]), Span(\"periodontitis\", sentence=14399, chars=[50,62], words=[6,6]))\n",
      "Checking Biomarker: 28261746::span:1629:1633\n",
      "Checking Condition: 28261746::span:31:62\n",
      "1\n",
      "(Span(\"CLINICAL\", sentence=14399, chars=[0,7], words=[0,0]), Span(\"periodontitis\", sentence=14399, chars=[50,62], words=[6,6]))\n",
      "Checking Biomarker: 28261746::span:1500:1507\n",
      "Checking Condition: 28261746::span:31:62\n",
      "1\n",
      "(Span(\"RELEVANCE\", sentence=14399, chars=[9,17], words=[1,1]), Span(\"periodontitis\", sentence=14399, chars=[50,62], words=[6,6]))\n",
      "Checking Biomarker: 28261746::span:1509:1517\n",
      "Checking Condition: 28261746::span:31:62\n",
      "1\n",
      "(Span(\"BACKGROUND\", sentence=14036, chars=[0,9], words=[0,0]), Span(\"pulmonary fibrosis\", sentence=14036, chars=[56,73], words=[9,10]))\n",
      "(Span(\"RANKL\", sentence=14396, chars=[5,9], words=[2,2]), Span(\"periodontitis\", sentence=14396, chars=[226,238], words=[38,38]))\n",
      "Checking Biomarker: 28261746::span:957:961\n",
      "Checking Condition: 28261746::span:206:238\n",
      "1\n",
      "(Span(\"OPG\", sentence=14396, chars=[0,2], words=[0,0]), Span(\"periodontitis\", sentence=14396, chars=[226,238], words=[38,38]))\n",
      "Checking Biomarker: 28261746::span:952:954\n",
      "Checking Condition: 28261746::span:206:238\n",
      "1\n",
      "(Span(\"AUC\", sentence=14396, chars=[112,114], words=[18,18]), Span(\"periodontitis\", sentence=14396, chars=[226,238], words=[38,38]))\n",
      "Checking Biomarker: 28261746::span:1064:1066\n",
      "Checking Condition: 28261746::span:206:238\n",
      "1\n",
      "(Span(\"AUC\", sentence=14396, chars=[288,290], words=[52,52]), Span(\"periodontitis\", sentence=14396, chars=[226,238], words=[38,38]))\n",
      "Checking Biomarker: 28261746::span:1240:1242\n",
      "Checking Condition: 28261746::span:206:238\n",
      "1\n",
      "(Span(\"AUC\", sentence=14396, chars=[241,243], words=[40,40]), Span(\"periodontitis\", sentence=14396, chars=[226,238], words=[38,38]))\n",
      "Checking Biomarker: 28261746::span:1193:1195\n",
      "Checking Condition: 28261746::span:206:238\n",
      "1\n",
      "(Span(\"TRAP-5\", sentence=14396, chars=[145,150], words=[28,28]), Span(\"periodontitis\", sentence=14396, chars=[226,238], words=[38,38]))\n",
      "Checking Biomarker: 28261746::span:1097:1102\n",
      "Checking Condition: 28261746::span:206:238\n",
      "1\n",
      "(Span(\"FTD\", sentence=13479, chars=[211,213], words=[37,37]), Span(\"frontotemporal dementia\", sentence=13479, chars=[186,208], words=[34,35]))\n",
      "(Span(\"FTD\", sentence=13479, chars=[211,213], words=[37,37]), Span(\"Alzheimer's disease\", sentence=13479, chars=[117,135], words=[20,22]))\n",
      "Checking Biomarker: 28263742::span:304:306\n",
      "Checking Condition: 28263742::span:108:135\n",
      "1\n",
      "(Span(\"FTD\", sentence=13479, chars=[308,310], words=[56,56]), Span(\"frontotemporal dementia\", sentence=13479, chars=[186,208], words=[34,35]))\n",
      "(Span(\"FTD\", sentence=13479, chars=[308,310], words=[56,56]), Span(\"Alzheimer's disease\", sentence=13479, chars=[117,135], words=[20,22]))\n",
      "Checking Biomarker: 28263742::span:401:403\n",
      "Checking Condition: 28263742::span:108:135\n",
      "1\n",
      "(Span(\"INTRODUCTION\", sentence=13479, chars=[0,11], words=[0,0]), Span(\"frontotemporal dementia\", sentence=13479, chars=[186,208], words=[34,35]))\n",
      "(Span(\"INTRODUCTION\", sentence=13479, chars=[0,11], words=[0,0]), Span(\"Alzheimer's disease\", sentence=13479, chars=[117,135], words=[20,22]))\n",
      "Checking Biomarker: 28263742::span:93:104\n",
      "Checking Condition: 28263742::span:108:135\n",
      "1\n",
      "(Span(\"CSF\", sentence=13479, chars=[375,377], words=[64,64]), Span(\"frontotemporal dementia\", sentence=13479, chars=[186,208], words=[34,35]))\n",
      "(Span(\"CSF\", sentence=13479, chars=[375,377], words=[64,64]), Span(\"Alzheimer's disease\", sentence=13479, chars=[117,135], words=[20,22]))\n",
      "Checking Biomarker: 28263742::span:468:470\n",
      "Checking Condition: 28263742::span:108:135\n",
      "1\n",
      "(Span(\"CSF\", sentence=13479, chars=[74,76], words=[11,11]), Span(\"frontotemporal dementia\", sentence=13479, chars=[186,208], words=[34,35]))\n",
      "(Span(\"CSF\", sentence=13479, chars=[74,76], words=[11,11]), Span(\"Alzheimer's disease\", sentence=13479, chars=[117,135], words=[20,22]))\n",
      "Checking Biomarker: 28263742::span:167:169\n",
      "Checking Condition: 28263742::span:108:135\n",
      "1\n",
      "(Span(\"I-II\", sentence=13817, chars=[166,169], words=[28,28]), Span(\"adenocarcinoma\", sentence=13817, chars=[86,99], words=[13,13]))\n",
      "(Span(\"I-II\", sentence=13817, chars=[166,169], words=[28,28]), Span(\"squamous cell carcinoma\", sentence=13817, chars=[111,133], words=[18,20]))\n",
      "(Span(\"III-IV\", sentence=13817, chars=[175,180], words=[30,30]), Span(\"adenocarcinoma\", sentence=13817, chars=[86,99], words=[13,13]))\n",
      "(Span(\"III-IV\", sentence=13817, chars=[175,180], words=[30,30]), Span(\"squamous cell carcinoma\", sentence=13817, chars=[111,133], words=[18,20]))\n",
      "(Span(\"N1-N3\", sentence=13817, chars=[201,205], words=[38,38]), Span(\"adenocarcinoma\", sentence=13817, chars=[86,99], words=[13,13]))\n",
      "(Span(\"N1-N3\", sentence=13817, chars=[201,205], words=[38,38]), Span(\"squamous cell carcinoma\", sentence=13817, chars=[111,133], words=[18,20]))\n",
      "(Span(\"PTEN\", sentence=13817, chars=[0,3], words=[0,0]), Span(\"adenocarcinoma\", sentence=13817, chars=[86,99], words=[13,13]))\n",
      "(Span(\"PTEN\", sentence=13817, chars=[0,3], words=[0,0]), Span(\"squamous cell carcinoma\", sentence=13817, chars=[111,133], words=[18,20]))\n",
      "(Span(\"ADC\", sentence=13817, chars=[102,104], words=[15,15]), Span(\"adenocarcinoma\", sentence=13817, chars=[86,99], words=[13,13]))\n",
      "(Span(\"ADC\", sentence=13817, chars=[102,104], words=[15,15]), Span(\"squamous cell carcinoma\", sentence=13817, chars=[111,133], words=[18,20]))\n",
      "(Span(\"NIVT\", sentence=14305, chars=[88,91], words=[14,14]), Span(\"ischemia\", sentence=14305, chars=[35,42], words=[5,5]))\n",
      "Checking Biomarker: 28261908::span:1552:1555\n",
      "Checking Condition: 28261908::span:21:42\n",
      "1\n",
      "(Span(\"T1\", sentence=14932, chars=[211,212], words=[37,37]), Span(\"Cancer\", sentence=14932, chars=[163,168], words=[29,29]))\n",
      "(Span(\"T3\", sentence=14932, chars=[237,238], words=[48,48]), Span(\"Cancer\", sentence=14932, chars=[163,168], words=[29,29]))\n",
      "(Span(\"T2\", sentence=14932, chars=[221,222], words=[42,42]), Span(\"Cancer\", sentence=14932, chars=[163,168], words=[29,29]))\n",
      "(Span(\"PLCO\", sentence=14932, chars=[157,160], words=[27,27]), Span(\"Cancer\", sentence=14932, chars=[163,168], words=[29,29]))\n",
      "(Span(\"METHODS\", sentence=14932, chars=[0,6], words=[0,0]), Span(\"Cancer\", sentence=14932, chars=[163,168], words=[29,29]))\n",
      "(Span(\"METHODS\", sentence=14038, chars=[0,6], words=[0,0]), Span(\"pulmonary fibrosis\", sentence=14038, chars=[73,90], words=[12,13]))\n",
      "(Span(\"HIV\", sentence=13355, chars=[145,147], words=[24,24]), Span(\"Disease\", sentence=13355, chars=[100,106], words=[17,17]))\n",
      "Checking Biomarker: 28264037::span:1230:1232\n",
      "Checking Condition: 28264037::span:89:106\n",
      "1\n",
      "(Span(\"TC\", sentence=13992, chars=[9,10], words=[5,5]), Span(\"histidinemia\", sentence=13992, chars=[141,152], words=[40,40]))\n",
      "(Span(\"TC\", sentence=13992, chars=[9,10], words=[5,5]), Span(\"disease\", sentence=13992, chars=[154,160], words=[41,41]))\n",
      "Checking Biomarker: 28262611::span:506:507\n",
      "Checking Condition: 28262611::span:141:160\n",
      "1\n",
      "(Span(\"SETD2\", sentence=14877, chars=[116,120], words=[20,20]), Span(\"Cancer\", sentence=14877, chars=[60,65], words=[10,10]))\n",
      "(Span(\"mRNA\", sentence=14877, chars=[122,125], words=[21,21]), Span(\"Cancer\", sentence=14877, chars=[60,65], words=[10,10]))\n",
      "(Span(\"TC\", sentence=13994, chars=[79,80], words=[15,15]), Span(\"histidinemia\", sentence=13994, chars=[307,318], words=[57,57]))\n",
      "(Span(\"mRNA\", sentence=14515, chars=[0,3], words=[0,0]), Span(\"cancer\", sentence=14515, chars=[45,50], words=[7,7]))\n",
      "Checking Biomarker: 28261345::span:791:794\n",
      "Checking Condition: 28261345::span:37:50\n",
      "1\n",
      "(Span(\"CONCLUSIONS\", sentence=14047, chars=[0,10], words=[0,0]), Span(\"pulmonary fibrosis\", sentence=14047, chars=[230,247], words=[36,37]))\n",
      "(Span(\"BRCA1\", sentence=14516, chars=[271,275], words=[50,50]), Span(\"cancer\", sentence=14516, chars=[63,68], words=[12,12]))\n",
      "Checking Biomarker: 28261345::span:1276:1280\n",
      "Checking Condition: 28261345::span:46:68\n",
      "1\n",
      "(Span(\"TOPO1\", sentence=14516, chars=[354,358], words=[70,70]), Span(\"cancer\", sentence=14516, chars=[63,68], words=[12,12]))\n",
      "Checking Biomarker: 28261345::span:1359:1363\n",
      "Checking Condition: 28261345::span:46:68\n",
      "1\n",
      "(Span(\"TS\", sentence=14516, chars=[217,218], words=[39,39]), Span(\"cancer\", sentence=14516, chars=[63,68], words=[12,12]))\n",
      "Checking Biomarker: 28261345::span:1222:1223\n",
      "Checking Condition: 28261345::span:46:68\n",
      "1\n",
      "(Span(\"mRNA\", sentence=14516, chars=[122,125], words=[23,23]), Span(\"cancer\", sentence=14516, chars=[63,68], words=[12,12]))\n",
      "Checking Biomarker: 28261345::span:1127:1130\n",
      "Checking Condition: 28261345::span:46:68\n",
      "1\n",
      "(Span(\"BRCA1\", sentence=14516, chars=[154,158], words=[27,27]), Span(\"cancer\", sentence=14516, chars=[63,68], words=[12,12]))\n",
      "Checking Biomarker: 28261345::span:1159:1163\n",
      "Checking Condition: 28261345::span:46:68\n",
      "1\n",
      "(Span(\"III\", sentence=14516, chars=[77,79], words=[15,15]), Span(\"cancer\", sentence=14516, chars=[63,68], words=[12,12]))\n",
      "Checking Biomarker: 28261345::span:1082:1084\n",
      "Checking Condition: 28261345::span:46:68\n",
      "1\n",
      "(Span(\"ADC\", sentence=13819, chars=[105,107], words=[16,16]), Span(\"squamous cell carcinoma\", sentence=13819, chars=[141,163], words=[24,26]))\n",
      "(Span(\"PTEN\", sentence=13819, chars=[39,42], words=[5,5]), Span(\"squamous cell carcinoma\", sentence=13819, chars=[141,163], words=[24,26]))\n",
      "(Span(\"PH\", sentence=13980, chars=[24,25], words=[3,3]), Span(\"Pulmonary hypertension\", sentence=13980, chars=[0,21], words=[0,1]))\n",
      "(Span(\"PH\", sentence=13980, chars=[24,25], words=[3,3]), Span(\"disease\", sentence=13980, chars=[46,52], words=[9,9]))\n",
      "Checking Biomarker: 28262616::span:113:114\n",
      "Checking Condition: 28262616::span:40:52\n",
      "1\n",
      "(Span(\"PTEN\", sentence=14082, chars=[32,35], words=[3,3]), Span(\"cancer\", sentence=14082, chars=[93,98], words=[14,14]))\n",
      "Checking Biomarker: 28262306::span:32:35\n",
      "Checking Condition: 28262306::span:85:98\n",
      "1\n",
      "(Span(\"CONCLUSION\", sentence=15009, chars=[0,9], words=[0,0]), Span(\"disease\", sentence=15009, chars=[78,84], words=[12,12]))\n",
      "Checking Biomarker: 28260391::span:1604:1613\n",
      "Checking Condition: 28260391::span:63:84\n",
      "1\n",
      "(Span(\"HIV\", sentence=15009, chars=[12,14], words=[2,2]), Span(\"disease\", sentence=15009, chars=[78,84], words=[12,12]))\n",
      "Checking Biomarker: 28260391::span:1616:1618\n",
      "Checking Condition: 28260391::span:63:84\n",
      "1\n",
      "(Span(\"cART\", sentence=15009, chars=[31,34], words=[5,5]), Span(\"disease\", sentence=15009, chars=[78,84], words=[12,12]))\n",
      "Checking Biomarker: 28260391::span:1635:1638\n",
      "Checking Condition: 28260391::span:63:84\n",
      "1\n"
     ]
    },
    {
     "name": "stdout",
     "output_type": "stream",
     "text": [
      "(Span(\"IN\", sentence=13763, chars=[73,74], words=[11,11]), Span(\"DIABETIC MACULAR EDEMA\", sentence=13763, chars=[76,97], words=[12,14]))\n",
      "(Span(\"OF\", sentence=13763, chars=[49,50], words=[7,7]), Span(\"DIABETIC MACULAR EDEMA\", sentence=13763, chars=[76,97], words=[12,14]))\n",
      "(Span(\"OF\", sentence=13763, chars=[10,11], words=[1,1]), Span(\"DIABETIC MACULAR EDEMA\", sentence=13763, chars=[76,97], words=[12,14]))\n",
      "(Span(\"SURGERY\", sentence=13763, chars=[24,30], words=[3,3]), Span(\"DIABETIC MACULAR EDEMA\", sentence=13763, chars=[76,97], words=[12,14]))\n",
      "(Span(\"RETINAL\", sentence=13763, chars=[58,64], words=[9,9]), Span(\"DIABETIC MACULAR EDEMA\", sentence=13763, chars=[76,97], words=[12,14]))\n",
      "(Span(\"VITRECTOMY\", sentence=13763, chars=[13,22], words=[2,2]), Span(\"DIABETIC MACULAR EDEMA\", sentence=13763, chars=[76,97], words=[12,14]))\n",
      "(Span(\"INTEGRITY\", sentence=13763, chars=[39,47], words=[6,6]), Span(\"DIABETIC MACULAR EDEMA\", sentence=13763, chars=[76,97], words=[12,14]))\n",
      "(Span(\"INFLUENCE\", sentence=13763, chars=[0,8], words=[0,0]), Span(\"DIABETIC MACULAR EDEMA\", sentence=13763, chars=[76,97], words=[12,14]))\n",
      "(Span(\"LAYERS\", sentence=13763, chars=[66,71], words=[10,10]), Span(\"DIABETIC MACULAR EDEMA\", sentence=13763, chars=[76,97], words=[12,14]))\n",
      "(Span(\"OUTER\", sentence=13763, chars=[52,56], words=[8,8]), Span(\"DIABETIC MACULAR EDEMA\", sentence=13763, chars=[76,97], words=[12,14]))\n",
      "(Span(\"THE\", sentence=13763, chars=[35,37], words=[5,5]), Span(\"DIABETIC MACULAR EDEMA\", sentence=13763, chars=[76,97], words=[12,14]))\n",
      "(Span(\"SD-OCT\", sentence=13764, chars=[333,338], words=[52,52]), Span(\"diabetic macular edema\", sentence=13764, chars=[123,144], words=[22,24]))\n",
      "(Span(\"PURPOSE\", sentence=13764, chars=[0,6], words=[0,0]), Span(\"diabetic macular edema\", sentence=13764, chars=[123,144], words=[22,24]))\n",
      "(Span(\"RPE\", sentence=13764, chars=[258,260], words=[41,41]), Span(\"diabetic macular edema\", sentence=13764, chars=[123,144], words=[22,24]))\n",
      "(Span(\"DME\", sentence=13764, chars=[147,149], words=[26,26]), Span(\"diabetic macular edema\", sentence=13764, chars=[123,144], words=[22,24]))\n",
      "(Span(\"PPV\", sentence=13764, chars=[64,66], words=[11,11]), Span(\"diabetic macular edema\", sentence=13764, chars=[123,144], words=[22,24]))\n",
      "(Span(\"METHODS\", sentence=13765, chars=[0,6], words=[0,0]), Span(\"diabetic macular edema\", sentence=13765, chars=[61,82], words=[12,14]))\n",
      "(Span(\"MDD\", sentence=14795, chars=[101,103], words=[17,17]), Span(\"bipolar disorder\", sentence=14795, chars=[168,183], words=[28,29]))\n",
      "(Span(\"MDD\", sentence=14795, chars=[101,103], words=[17,17]), Span(\"schizophrenia\", sentence=14795, chars=[150,162], words=[26,26]))\n",
      "(Span(\"MDD\", sentence=14795, chars=[124,126], words=[21,21]), Span(\"bipolar disorder\", sentence=14795, chars=[168,183], words=[28,29]))\n",
      "(Span(\"MDD\", sentence=14795, chars=[124,126], words=[21,21]), Span(\"schizophrenia\", sentence=14795, chars=[150,162], words=[26,26]))\n",
      "(Span(\"SETD2\", sentence=14867, chars=[8,12], words=[2,2]), Span(\"renal cell carcinoma\", sentence=14867, chars=[103,122], words=[16,18]))\n",
      "Checking Biomarker: 28260718::span:8:12\n",
      "Checking Condition: 28260718::span:92:122\n",
      "1\n",
      "(Span(\"DNA\", sentence=14868, chars=[30,32], words=[4,4]), Span(\"renal cell carcinoma\", sentence=14868, chars=[152,171], words=[23,25]))\n",
      "Checking Biomarker: 28260718::span:164:166\n",
      "Checking Condition: 28260718::span:132:171\n",
      "1\n",
      "(Span(\"SETD2\", sentence=14868, chars=[83,87], words=[11,11]), Span(\"renal cell carcinoma\", sentence=14868, chars=[152,171], words=[23,25]))\n",
      "Checking Biomarker: 28260718::span:217:221\n",
      "Checking Condition: 28260718::span:132:171\n",
      "1\n",
      "(Span(\"METHODS\", sentence=14999, chars=[0,6], words=[0,0]), Span(\"disease\", sentence=14999, chars=[101,107], words=[15,15]))\n",
      "Checking Biomarker: 28260391::span:434:440\n",
      "Checking Condition: 28260391::span:86:107\n",
      "1\n",
      "(Span(\"IMA\", sentence=13641, chars=[59,61], words=[8,8]), Span(\"epilepsy\", sentence=13641, chars=[161,168], words=[25,25]))\n",
      "(Span(\"NIVT\", sentence=14301, chars=[424,427], words=[70,70]), Span(\"myocardial infarction\", sentence=14301, chars=[186,206], words=[31,32]))\n",
      "Checking Biomarker: 28261908::span:1070:1073\n",
      "Checking Condition: 28261908::span:173:206\n",
      "1\n",
      "(Span(\"NIVT\", sentence=14301, chars=[424,427], words=[70,70]), Span(\"coronary artery disease\", sentence=14301, chars=[454,476], words=[75,77]))\n",
      "Checking Biomarker: 28261908::span:1070:1073\n",
      "Checking Condition: 28261908::span:442:476\n",
      "1\n",
      "(Span(\"NIVT\", sentence=14301, chars=[424,427], words=[70,70]), Span(\"ischemia\", sentence=14301, chars=[498,505], words=[81,81]))\n",
      "Checking Biomarker: 28261908::span:1070:1073\n",
      "Checking Condition: 28261908::span:488:505\n",
      "1\n",
      "(Span(\"NIVT\", sentence=14301, chars=[424,427], words=[70,70]), Span(\"myocardial infarction\", sentence=14301, chars=[340,360], words=[53,54]))\n",
      "Checking Biomarker: 28261908::span:1070:1073\n",
      "Checking Condition: 28261908::span:323:360\n",
      "1\n",
      "(Span(\"ECG\", sentence=14301, chars=[156,158], words=[26,26]), Span(\"myocardial infarction\", sentence=14301, chars=[186,206], words=[31,32]))\n",
      "Checking Biomarker: 28261908::span:802:804\n",
      "Checking Condition: 28261908::span:173:206\n",
      "1\n",
      "(Span(\"ECG\", sentence=14301, chars=[156,158], words=[26,26]), Span(\"coronary artery disease\", sentence=14301, chars=[454,476], words=[75,77]))\n",
      "Checking Biomarker: 28261908::span:802:804\n",
      "Checking Condition: 28261908::span:442:476\n",
      "1\n",
      "(Span(\"ECG\", sentence=14301, chars=[156,158], words=[26,26]), Span(\"ischemia\", sentence=14301, chars=[498,505], words=[81,81]))\n",
      "Checking Biomarker: 28261908::span:802:804\n",
      "Checking Condition: 28261908::span:488:505\n",
      "1\n",
      "(Span(\"ECG\", sentence=14301, chars=[156,158], words=[26,26]), Span(\"myocardial infarction\", sentence=14301, chars=[340,360], words=[53,54]))\n",
      "Checking Biomarker: 28261908::span:802:804\n",
      "Checking Condition: 28261908::span:323:360\n",
      "1\n",
      "(Span(\"NSTEMI\", sentence=14301, chars=[363,368], words=[56,56]), Span(\"myocardial infarction\", sentence=14301, chars=[186,206], words=[31,32]))\n",
      "Checking Biomarker: 28261908::span:1009:1014\n",
      "Checking Condition: 28261908::span:173:206\n",
      "1\n",
      "(Span(\"NSTEMI\", sentence=14301, chars=[363,368], words=[56,56]), Span(\"coronary artery disease\", sentence=14301, chars=[454,476], words=[75,77]))\n",
      "Checking Biomarker: 28261908::span:1009:1014\n",
      "Checking Condition: 28261908::span:442:476\n",
      "1\n",
      "(Span(\"NSTEMI\", sentence=14301, chars=[363,368], words=[56,56]), Span(\"ischemia\", sentence=14301, chars=[498,505], words=[81,81]))\n",
      "Checking Biomarker: 28261908::span:1009:1014\n",
      "Checking Condition: 28261908::span:488:505\n",
      "1\n",
      "(Span(\"NSTEMI\", sentence=14301, chars=[363,368], words=[56,56]), Span(\"myocardial infarction\", sentence=14301, chars=[340,360], words=[53,54]))\n",
      "Checking Biomarker: 28261908::span:1009:1014\n",
      "Checking Condition: 28261908::span:323:360\n",
      "1\n",
      "(Span(\"STEMI\", sentence=14301, chars=[209,213], words=[34,34]), Span(\"myocardial infarction\", sentence=14301, chars=[186,206], words=[31,32]))\n",
      "Checking Biomarker: 28261908::span:855:859\n",
      "Checking Condition: 28261908::span:173:206\n",
      "1\n",
      "(Span(\"STEMI\", sentence=14301, chars=[209,213], words=[34,34]), Span(\"coronary artery disease\", sentence=14301, chars=[454,476], words=[75,77]))\n",
      "Checking Biomarker: 28261908::span:855:859\n",
      "Checking Condition: 28261908::span:442:476\n",
      "1\n",
      "(Span(\"STEMI\", sentence=14301, chars=[209,213], words=[34,34]), Span(\"ischemia\", sentence=14301, chars=[498,505], words=[81,81]))\n",
      "Checking Biomarker: 28261908::span:855:859\n",
      "Checking Condition: 28261908::span:488:505\n",
      "1\n",
      "(Span(\"STEMI\", sentence=14301, chars=[209,213], words=[34,34]), Span(\"myocardial infarction\", sentence=14301, chars=[340,360], words=[53,54]))\n",
      "Checking Biomarker: 28261908::span:855:859\n",
      "Checking Condition: 28261908::span:323:360\n",
      "1\n",
      "(Span(\"ADH\", sentence=14600, chars=[35,37], words=[5,5]), Span(\"carcinoma\", sentence=14600, chars=[73,81], words=[13,13]))\n",
      "(Span(\"GOLPH3L\", sentence=14493, chars=[35,41], words=[5,5]), Span(\"ovarian cancer\", sentence=14493, chars=[79,92], words=[12,13]))\n",
      "(Span(\"NFL\", sentence=14258, chars=[71,73], words=[10,10]), Span(\"disease\", sentence=14258, chars=[175,181], words=[28,28]))\n",
      "(Span(\"CONCLUSIONS\", sentence=14258, chars=[0,10], words=[0,0]), Span(\"disease\", sentence=14258, chars=[175,181], words=[28,28]))\n",
      "(Span(\"CIS\", sentence=14258, chars=[94,96], words=[15,15]), Span(\"disease\", sentence=14258, chars=[175,181], words=[28,28]))\n",
      "(Span(\"CSF\", sentence=14258, chars=[87,89], words=[13,13]), Span(\"disease\", sentence=14258, chars=[175,181], words=[28,28]))\n",
      "(Span(\"HIV\", sentence=13359, chars=[119,121], words=[18,18]), Span(\"traditional HIV disease\", sentence=13359, chars=[107,129], words=[17,19]))\n",
      "(Span(\"PTEN\", sentence=13820, chars=[20,23], words=[4,4]), Span(\"non-small cell lung cancer\", sentence=13820, chars=[91,116], words=[15,18]))\n",
      "(Span(\"LTBP-4\", sentence=13734, chars=[40,45], words=[7,7]), Span(\"human scleroderma\", sentence=13734, chars=[50,66], words=[9,10]))\n",
      "(Span(\"POAG\", sentence=14801, chars=[110,113], words=[18,18]), Span(\"early primary open-angle glaucoma\", sentence=14801, chars=[75,107], words=[13,16]))\n",
      "(Span(\"CONCLUSIONS\", sentence=15052, chars=[0,10], words=[0,0]), Span(\"metastatic renal cell cancer\", sentence=15052, chars=[124,151], words=[21,24]))\n",
      "(Span(\"POAG\", sentence=14802, chars=[26,29], words=[4,4]), Span(\"academic hospital-based glaucoma\", sentence=14802, chars=[109,140], words=[18,20]))\n",
      "(Span(\"NPC\", sentence=14521, chars=[192,194], words=[27,27]), Span(\"nasopharyngeal carcinoma\", sentence=14521, chars=[166,189], words=[24,25]))\n",
      "(Span(\"ARDS\", sentence=15028, chars=[50,53], words=[8,8]), Span(\"acute respiratory distress syndrome\", sentence=15028, chars=[13,47], words=[3,6]))\n",
      "(Span(\"BACKGROUND\", sentence=14083, chars=[0,9], words=[0,0]), Span(\"gastric cancer\", sentence=14083, chars=[60,73], words=[9,10]))\n",
      "(Span(\"mRNA\", sentence=14509, chars=[7,10], words=[1,1]), Span(\"advanced gastric cancer\", sentence=14509, chars=[59,81], words=[8,10]))\n",
      "(Span(\"SETD2\", sentence=14874, chars=[4,8], words=[1,1]), Span(\"SETD2 protein deficiency\", sentence=14874, chars=[4,27], words=[1,3]))\n",
      "(Span(\"uNGAL\", sentence=14606, chars=[85,89], words=[14,14]), Span(\"diabetic kidney disease\", sentence=14606, chars=[165,187], words=[29,31]))\n",
      "(Span(\"BACKGROUND\", sentence=14297, chars=[0,9], words=[0,0]), Span(\"acute coronary syndrome\", sentence=14297, chars=[43,65], words=[8,10]))\n",
      "(Span(\"BACKGROUND\", sentence=14921, chars=[0,9], words=[0,0]), Span(\"advanced hepatocellular carcinoma\", sentence=14921, chars=[97,129], words=[15,17]))\n",
      "(Span(\"METHODS\", sentence=14113, chars=[0,6], words=[0,0]), Span(\"pancreatic neuroendocrine tumor\", sentence=14113, chars=[84,114], words=[15,17]))\n",
      "(Span(\"EGFR\", sentence=13380, chars=[17,20], words=[2,2]), Span(\"esophageal squamous cell carcinoma\", sentence=13380, chars=[70,103], words=[11,14]))\n",
      "(Span(\"ESCC\", sentence=13381, chars=[136,139], words=[21,21]), Span(\"esophageal squamous cell carcinoma\", sentence=13381, chars=[100,133], words=[16,19]))\n",
      "(Span(\"CSF\", sentence=14232, chars=[270,272], words=[44,44]), Span(\"CSF Alzheimer's disease\", sentence=14232, chars=[231,253], words=[38,41]))\n",
      "(Span(\"AIM\", sentence=14218, chars=[0,2], words=[0,0]), Span(\"knee osteoarthritis\", sentence=14218, chars=[91,109], words=[15,16]))\n",
      "(Span(\"ACS\", sentence=14839, chars=[25,27], words=[4,4]), Span(\"Acute coronary syndrome\", sentence=14839, chars=[0,22], words=[0,2]))\n",
      "(Span(\"AML-3\", sentence=14427, chars=[126,130], words=[20,20]), Span(\"second human myeloid leukemia\", sentence=14427, chars=[85,113], words=[13,16]))\n",
      "(Span(\"METHODS\", sentence=15045, chars=[0,6], words=[0,0]), Span(\"metastatic renal cell cancer\", sentence=15045, chars=[97,124], words=[16,19]))\n",
      "(Span(\"CD133\", sentence=14259, chars=[27,31], words=[3,3]), Span(\"colorectal carcinoma\", sentence=14259, chars=[57,76], words=[8,9]))\n",
      "(Span(\"UBC1\", sentence=14769, chars=[45,48], words=[7,7]), Span(\"bladder cancer\", sentence=14769, chars=[22,35], words=[3,4]))\n",
      "(Span(\"UBC1\", sentence=14769, chars=[45,48], words=[7,7]), Span(\"certain cancer\", sentence=14769, chars=[90,103], words=[16,17]))\n",
      "(Span(\"OBJECTIVE\", sentence=14143, chars=[0,8], words=[0,0]), Span(\"large lupus nephritis\", sentence=14143, chars=[185,205], words=[30,32]))\n",
      "(Span(\"PURPOSE\", sentence=14402, chars=[0,6], words=[0,0]), Span(\"common cancer\", sentence=14402, chars=[24,36], words=[5,6]))\n",
      "(Span(\"PURPOSE\", sentence=14402, chars=[0,6], words=[0,0]), Span(\"bladder cancer\", sentence=14402, chars=[54,67], words=[10,11]))\n",
      "(Span(\"CT\", sentence=14361, chars=[91,92], words=[12,12]), Span(\"oropharyngeal cancer\", sentence=14361, chars=[155,174], words=[28,29]))\n",
      "(Span(\"MAPP\", sentence=13673, chars=[171,174], words=[25,25]), Span(\"urinary chronic pelvic pain syndrome\", sentence=13673, chars=[51,86], words=[6,10]))\n",
      "(Span(\"LMR\", sentence=14760, chars=[80,82], words=[12,12]), Span(\"related hepatocellular carcinoma\", sentence=14760, chars=[111,142], words=[21,23]))\n",
      "(Span(\"C5a\", sentence=14144, chars=[87,89], words=[20,20]), Span(\"active systemic lupus erythematosus\", sentence=14144, chars=[283,317], words=[50,53]))\n",
      "(Span(\"C5a\", sentence=14144, chars=[87,89], words=[20,20]), Span(\"active biopsy-proven lupus nephritis\", sentence=14144, chars=[181,216], words=[34,37]))\n",
      "(Span(\"CONCLUSION\", sentence=14766, chars=[0,9], words=[0,0]), Span(\"primary HBV-positive hepatocellular carcinoma\", sentence=14766, chars=[73,117], words=[11,14]))\n",
      "(Span(\"PBX1\", sentence=13715, chars=[45,48], words=[6,6]), Span(\"estrogen receptor-negative breast cancer\", sentence=13715, chars=[93,132], words=[14,17]))\n",
      "(Span(\"BACKGROUND\", sentence=13822, chars=[0,9], words=[0,0]), Span(\"Gaucher disease\", sentence=13822, chars=[12,26], words=[2,3]))\n",
      "(Span(\"OBJECTIVES\", sentence=14964, chars=[0,9], words=[0,0]), Span(\"Renal Disease\", sentence=14964, chars=[127,139], words=[19,20]))\n",
      "(Span(\"GD1\", sentence=13826, chars=[83,85], words=[13,13]), Span(\"Gaucher disease\", sentence=13826, chars=[66,80], words=[10,11]))\n",
      "(Span(\"OBJECTIVE\", sentence=13674, chars=[0,8], words=[0,0]), Span(\"urological chronic pelvic pain syndrome\", sentence=13674, chars=[56,94], words=[10,14]))\n",
      "(Span(\"INTRODUCTION\", sentence=14056, chars=[0,11], words=[0,0]), Span(\"severe acute malnutrition\", sentence=14056, chars=[303,327], words=[43,45]))\n",
      "(Span(\"CT\", sentence=14376, chars=[56,57], words=[7,7]), Span(\"head/neck cancer\", sentence=14376, chars=[93,108], words=[14,15]))\n",
      "(Span(\"CAD\", sentence=14842, chars=[101,103], words=[18,18]), Span(\"Acute Coronary Syndrome\", sentence=14842, chars=[125,147], words=[24,26]))\n",
      "(Span(\"CAD\", sentence=14842, chars=[101,103], words=[18,18]), Span(\"premature coronary artery disease\", sentence=14842, chars=[66,98], words=[13,16]))\n",
      "(Span(\"HNSCC\", sentence=14541, chars=[201,205], words=[30,30]), Span(\"metastatic head and neck squamous cell carcinoma\", sentence=14541, chars=[151,198], words=[22,28]))\n",
      "(Span(\"CD163\", sentence=14528, chars=[31,35], words=[4,4]), Span(\"Recurrent Gastric Cancer\", sentence=14528, chars=[163,186], words=[24,26]))\n",
      "(Span(\"GC\", sentence=14531, chars=[83,84], words=[15,15]), Span(\"gastric cancer\", sentence=14531, chars=[67,80], words=[12,13]))\n",
      "(Span(\"mRNA\", sentence=14514, chars=[86,89], words=[13,13]), Span(\"advanced gastric cancer\", sentence=14514, chars=[175,197], words=[27,29]))\n",
      "(Span(\"mRNA\", sentence=14519, chars=[7,10], words=[1,1]), Span(\"gastric cancer\", sentence=14519, chars=[101,114], words=[15,16]))\n",
      "(Span(\"MACE\", sentence=14321, chars=[73,76], words=[12,12]), Span(\"acute coronary syndrome\", sentence=14321, chars=[97,119], words=[18,20]))\n",
      "(Span(\"NPC\", sentence=14527, chars=[171,173], words=[25,25]), Span(\"metastatic disease\", sentence=14527, chars=[200,217], words=[30,31]))\n",
      "(Span(\"CKD\", sentence=13888, chars=[88,90], words=[11,11]), Span(\"metabolic syndrome\", sentence=13888, chars=[140,157], words=[20,21]))\n",
      "(Span(\"CDK11\", sentence=13863, chars=[14,18], words=[2,2]), Span(\"wild type osteosarcoma\", sentence=13863, chars=[169,190], words=[24,26]))\n",
      "(Span(\"IHD\", sentence=14846, chars=[88,90], words=[14,14]), Span(\"metabolic syndrome\", sentence=14846, chars=[23,40], words=[4,5]))\n",
      "(Span(\"IHD\", sentence=14846, chars=[88,90], words=[14,14]), Span(\"ischemic heart disease\", sentence=14846, chars=[64,85], words=[10,12]))\n",
      "(Span(\"HR\", sentence=13300, chars=[27,28], words=[5,5]), Span(\"leg syndrome\", sentence=13300, chars=[255,266], words=[67,68]))\n",
      "(Span(\"PATIENTS\", sentence=14761, chars=[0,7], words=[0,0]), Span(\"primary HBV-positive hepatocellular carcinoma\", sentence=14761, chars=[51,95], words=[10,13]))\n",
      "(Span(\"CI\", sentence=14149, chars=[154,155], words=[28,28]), Span(\"renal disease\", sentence=14149, chars=[55,67], words=[8,9]))\n",
      "(Span(\"CONCLUSIONS\", sentence=14150, chars=[0,10], words=[0,0]), Span(\"renal disease\", sentence=14150, chars=[221,233], words=[36,37]))\n",
      "(Span(\"PTEN\", sentence=14097, chars=[42,45], words=[7,7]), Span(\"gastric cancer\", sentence=14097, chars=[87,100], words=[14,15]))\n",
      "(Span(\"OF\", sentence=15054, chars=[8,9], words=[1,1]), Span(\"cardiovascular disease\", sentence=15054, chars=[206,227], words=[33,34]))\n",
      "(Span(\"PMP\", sentence=13745, chars=[41,43], words=[4,4]), Span(\"Appendix-derived Pseudomyxoma Peritonei\", sentence=13745, chars=[0,38], words=[0,2]))\n",
      "(Span(\"OS\", sentence=14517, chars=[221,222], words=[60,60]), Span(\"advanced cancer\", sentence=14517, chars=[31,45], words=[5,6]))\n",
      "(Span(\"PBX1\", sentence=13718, chars=[127,130], words=[22,22]), Span(\"Pre-B-cell leukemia\", sentence=13718, chars=[95,113], words=[18,19]))\n",
      "(Span(\"RESULTS\", sentence=14970, chars=[0,6], words=[0,0]), Span(\"Renal Disease\", sentence=14970, chars=[139,151], words=[24,25]))\n",
      "(Span(\"CONCLUSIONS\", sentence=14973, chars=[0,10], words=[0,0]), Span(\"Renal Disease\", sentence=14973, chars=[246,258], words=[41,42]))\n",
      "(Span(\"STEC\", sentence=14958, chars=[185,188], words=[28,28]), Span(\"severe disease\", sentence=14958, chars=[207,220], words=[33,34]))\n",
      "(Span(\"PURPOSE\", sentence=15041, chars=[0,6], words=[0,0]), Span(\"metastatic renal cell cancer\", sentence=15041, chars=[92,119], words=[14,17]))\n",
      "(Span(\"C3a\", sentence=14146, chars=[84,86], words=[17,17]), Span(\"active systemic lupus erythematosus\", sentence=14146, chars=[213,247], words=[38,41]))\n",
      "(Span(\"C3a\", sentence=14146, chars=[84,86], words=[17,17]), Span(\"active lupus nephritis\", sentence=14146, chars=[156,177], words=[29,31]))\n",
      "(Span(\"NAFLD\", sentence=14780, chars=[127,131], words=[21,21]), Span(\"nonalcoholic fatty liver disease\", sentence=14780, chars=[93,124], words=[16,19]))\n",
      "(Span(\"FDG\", sentence=13365, chars=[58,60], words=[10,10]), Span(\"VX2 carcinoma\", sentence=13365, chars=[159,171], words=[26,27]))\n",
      "(Span(\"OS\", sentence=13510, chars=[236,237], words=[37,37]), Span(\"sorafenib-induced hypertension\", sentence=13510, chars=[57,86], words=[9,10]))\n",
      "(Span(\"PTEN\", sentence=14084, chars=[62,65], words=[11,11]), Span(\"gastric cancer\", sentence=14084, chars=[134,147], words=[22,23]))\n",
      "(Span(\"AND\", sentence=14085, chars=[9,11], words=[1,1]), Span(\"gastric carcinoma\", sentence=14085, chars=[75,91], words=[12,13]))\n",
      "(Span(\"PTEN\", sentence=14090, chars=[113,116], words=[16,16]), Span(\"gastric carcinoma\", sentence=14090, chars=[69,85], words=[10,11]))\n",
      "(Span(\"GARP\", sentence=14643, chars=[157,160], words=[23,23]), Span(\"advanced cancer\", sentence=14643, chars=[110,124], words=[16,17]))\n",
      "(Span(\"GARP\", sentence=14644, chars=[105,108], words=[16,16]), Span(\"human lung cancer\", sentence=14644, chars=[45,61], words=[6,8]))\n",
      "(Span(\"SCD\", sentence=14557, chars=[103,105], words=[18,18]), Span(\"sickle cell disease\", sentence=14557, chars=[82,100], words=[14,16]))\n",
      "(Span(\"SCD\", sentence=14564, chars=[175,177], words=[27,27]), Span(\"further alloimmunization\", sentence=14564, chars=[341,364], words=[55,56]))\n",
      "(Span(\"ER\", sentence=13716, chars=[39,40], words=[6,6]), Span(\"negative breast cancer\", sentence=13716, chars=[43,64], words=[9,11]))\n",
      "(Span(\"DNA\", sentence=14549, chars=[52,54], words=[9,9]), Span(\"certain cancer\", sentence=14549, chars=[116,129], words=[18,19]))\n",
      "(Span(\"AR\", sentence=13866, chars=[0,1], words=[0,0]), Span(\"various osteosarcoma\", sentence=13866, chars=[35,54], words=[6,7]))\n",
      "(Span(\"CONCLUSION\", sentence=14175, chars=[0,9], words=[0,0]), Span(\"Pre-gestational obesity\", sentence=14175, chars=[12,34], words=[2,3]))\n",
      "(Span(\"ER\", sentence=13721, chars=[53,54], words=[7,7]), Span(\"contralateral cancer\", sentence=13721, chars=[70,89], words=[11,12]))\n",
      "(Span(\"LGE\", sentence=14051, chars=[83,85], words=[11,11]), Span(\"non-ischemic dilated cardiomyopathy\", sentence=14051, chars=[162,196], words=[23,25]))\n",
      "(Span(\"RANKL\", sentence=14393, chars=[248,252], words=[34,34]), Span(\"asymptomatic apical periodontitis\", sentence=14393, chars=[59,91], words=[9,11]))\n",
      "(Span(\"TRAP5\", sentence=14399, chars=[129,133], words=[15,15]), Span(\"symptomatic apical periodontitis\", sentence=14399, chars=[31,62], words=[4,6]))\n",
      "(Span(\"RANKL\", sentence=14396, chars=[5,9], words=[2,2]), Span(\"asymptomatic apical periodontitis\", sentence=14396, chars=[206,238], words=[36,38]))\n",
      "(Span(\"FTD\", sentence=13479, chars=[211,213], words=[37,37]), Span(\"clinical Alzheimer's disease\", sentence=13479, chars=[108,135], words=[19,22]))\n",
      "(Span(\"NIVT\", sentence=14305, chars=[88,91], words=[14,14]), Span(\"noninfarction ischemia\", sentence=14305, chars=[21,42], words=[4,5]))\n",
      "(Span(\"HIV\", sentence=13355, chars=[145,147], words=[24,24]), Span(\"Infectious Disease\", sentence=13355, chars=[89,106], words=[16,17]))\n",
      "(Span(\"TC\", sentence=13992, chars=[9,10], words=[5,5]), Span(\"histidinemia disease\", sentence=13992, chars=[141,160], words=[40,41]))\n",
      "(Span(\"mRNA\", sentence=14515, chars=[0,3], words=[0,0]), Span(\"gastric cancer\", sentence=14515, chars=[37,50], words=[6,7]))\n",
      "(Span(\"BRCA1\", sentence=14516, chars=[271,275], words=[50,50]), Span(\"advanced gastric cancer\", sentence=14516, chars=[46,68], words=[10,12]))\n",
      "(Span(\"PH\", sentence=13980, chars=[24,25], words=[3,3]), Span(\"fatal disease\", sentence=13980, chars=[40,52], words=[8,9]))\n",
      "(Span(\"PTEN\", sentence=14082, chars=[32,35], words=[3,3]), Span(\"gastric cancer\", sentence=14082, chars=[85,98], words=[13,14]))\n",
      "(Span(\"CONCLUSION\", sentence=15009, chars=[0,9], words=[0,0]), Span(\"cardiovascular disease\", sentence=15009, chars=[63,84], words=[11,12]))\n",
      "(Span(\"SETD2\", sentence=14867, chars=[8,12], words=[2,2]), Span(\"clear cell renal cell carcinoma\", sentence=14867, chars=[92,122], words=[14,18]))\n",
      "(Span(\"DNA\", sentence=14868, chars=[30,32], words=[4,4]), Span(\"sporadic clear cell renal cell carcinoma\", sentence=14868, chars=[132,171], words=[20,25]))\n",
      "(Span(\"METHODS\", sentence=14999, chars=[0,6], words=[0,0]), Span(\"cardiovascular disease\", sentence=14999, chars=[86,107], words=[14,15]))\n",
      "(Span(\"NIVT\", sentence=14301, chars=[424,427], words=[70,70]), Span(\"ST-elevation myocardial infarction\", sentence=14301, chars=[173,206], words=[30,32]))\n",
      "(Span(\"NIVT\", sentence=14301, chars=[424,427], words=[70,70]), Span(\"obstructive coronary artery disease\", sentence=14301, chars=[442,476], words=[74,77]))\n",
      "(Span(\"NIVT\", sentence=14301, chars=[424,427], words=[70,70]), Span(\"inducible ischemia\", sentence=14301, chars=[488,505], words=[80,81]))\n",
      "(Span(\"NIVT\", sentence=14301, chars=[424,427], words=[70,70]), Span(\"non-ST-elevation myocardial infarction\", sentence=14301, chars=[323,360], words=[52,54]))\n",
      "Finished Processing Existing Candidates\n",
      " added to Alzheimer's disease\n",
      " added to Alzheimer's disease\n",
      "hiv traditional  added to disease\n",
      "hiv traditional  added to disease\n",
      "cell non-small  added to lung cancer\n",
      "cell non-small  added to lung cancer\n",
      "cell non-small  added to lung cancer\n",
      "human  added to scleroderma\n",
      "primary early  added to open-angle glaucoma\n",
      "primary early  added to open-angle glaucoma\n",
      "cell renal metastatic  added to cancer\n",
      "hospital-based academic  added to glaucoma\n",
      "hospital-based academic  added to glaucoma\n",
      "hospital-based academic  added to glaucoma\n",
      "nasopharyngeal  added to carcinoma\n",
      "distress respiratory acute  added to syndrome\n",
      "distress respiratory acute  added to syndrome\n",
      " added to cancer\n",
      "gastric  added to cancer\n",
      " added to colitis\n",
      "gastric advanced  added to cancer\n",
      " added to disease\n",
      " added to osteosarcoma\n",
      "setd2  added to protein deficiency\n",
      "setd2  added to protein deficiency\n",
      "diabetic  added to kidney disease\n",
      " added to Mitral valve prolapse\n",
      "coronary acute  added to syndrome\n",
      "coronary acute  added to syndrome\n",
      " added to pulmonary tuberculosis\n",
      " added to pulmonary tuberculosis\n",
      "advanced  added to hepatocellular carcinoma\n",
      "advanced  added to hepatocellular carcinoma\n",
      "pancreatic  added to neuroendocrine tumor\n",
      " added to cancer\n",
      " added to hepatitis B\n",
      " added to cancer\n",
      " added to hepatitis B\n",
      " added to cancer\n",
      " added to hepatitis B\n",
      " added to myocardial infarction\n",
      "esophageal  added to squamous cell carcinoma\n",
      "esophageal  added to squamous cell carcinoma\n",
      "esophageal  added to squamous cell carcinoma\n",
      "esophageal  added to squamous cell carcinoma\n",
      "csf  added to Alzheimer's disease\n",
      " added to Alzheimer's disease\n",
      "csf  added to Alzheimer's disease\n",
      " added to Alzheimer's disease\n",
      "csf  added to Alzheimer's disease\n",
      " added to Alzheimer's disease\n",
      "csf  added to Alzheimer's disease\n",
      " added to Alzheimer's disease\n",
      "csf  added to Alzheimer's disease\n",
      " added to Alzheimer's disease\n",
      " added to cancer\n",
      " added to Scleroderma\n",
      " added to disease\n",
      "knee  added to osteoarthritis\n",
      " added to scleroderma\n",
      " added to systemic scleroderma\n",
      " added to localized scleroderma\n",
      " added to systemic scleroderma\n",
      " added to localized scleroderma\n",
      " added to disease\n",
      " added to disease\n",
      " added to disease\n",
      " added to scleroderma\n",
      " added to disease\n",
      " added to scleroderma\n",
      " added to disease\n",
      "coronary acute  added to syndrome\n",
      " added to glaucoma\n",
      "human second  added to myeloid leukemia\n",
      "cell renal metastatic  added to cancer\n",
      "colorectal  added to carcinoma\n",
      " added to schizophrenia\n",
      " added to colorectal cancer\n",
      " added to colorectal cancer\n",
      "bladder  added to cancer\n",
      "certain  added to cancer\n",
      " added to colorectal cancer\n",
      "bladder  added to cancer\n",
      "certain  added to cancer\n",
      " added to colorectal cancer\n",
      "large  added to lupus nephritis\n",
      " added to disease\n",
      "common  added to cancer\n",
      "bladder  added to cancer\n",
      "oropharyngeal  added to cancer\n",
      "oropharyngeal  added to cancer\n",
      "oropharyngeal  added to cancer\n",
      "oropharyngeal  added to cancer\n",
      "oropharyngeal  added to cancer\n",
      " added to osteosarcoma\n",
      " added to osteosarcoma\n",
      " added to osteosarcoma\n",
      "pain pelvic chronic urinary  added to syndrome\n",
      " added to hepatitis B\n",
      "related  added to hepatocellular carcinoma\n",
      " added to hepatitis B\n",
      "related  added to hepatocellular carcinoma\n",
      " added to breast cancer\n",
      " added to hepatocellular carcinoma\n",
      " added to hepatocellular carcinoma\n",
      " added to hepatocellular carcinoma\n",
      " added to Colon Cancer\n",
      " added to Colon Cancer\n",
      " added to Colon Cancer\n",
      " added to colon cancer\n",
      " added to colon cancer\n",
      "active  added to systemic lupus erythematosus\n",
      "biopsy-proven active  added to lupus nephritis\n",
      " added to lupus nephritis\n",
      "active  added to systemic lupus erythematosus\n",
      "biopsy-proven active  added to lupus nephritis\n",
      " added to lupus nephritis\n",
      "active  added to systemic lupus erythematosus\n",
      "biopsy-proven active  added to lupus nephritis\n",
      " added to lupus nephritis\n",
      "active  added to systemic lupus erythematosus\n",
      "biopsy-proven active  added to lupus nephritis\n",
      " added to lupus nephritis\n",
      "active  added to systemic lupus erythematosus\n",
      "biopsy-proven active  added to lupus nephritis\n",
      " added to lupus nephritis\n",
      "active  added to systemic lupus erythematosus\n",
      "biopsy-proven active  added to lupus nephritis\n",
      " added to lupus nephritis\n",
      "hbv-positive primary  added to hepatocellular carcinoma\n",
      "hbv-positive primary  added to hepatocellular carcinoma\n",
      " added to cancer\n",
      " added to cancer\n",
      " added to cancer\n",
      "receptor-negative estrogen  added to breast cancer\n",
      " added to Coronary Artery Disease\n",
      " added to acute myocardial infarction\n",
      " added to Coronary Artery Disease\n",
      " added to acute myocardial infarction\n",
      "gaucher  added to disease\n",
      "gaucher  added to disease\n",
      "renal  added to Disease\n",
      "gaucher  added to disease\n",
      "gaucher  added to disease\n",
      "gaucher  added to disease\n",
      " added to Hepatocellular carcinoma\n",
      " added to cancer\n",
      " added to Colon cancer\n",
      " added to Colon cancer\n",
      " added to Colon cancer\n",
      "pain pelvic chronic urological  added to syndrome\n",
      "pain pelvic chronic urological  added to syndrome\n",
      " added to colorectal cancer\n",
      "acute severe  added to malnutrition\n",
      "acute severe  added to malnutrition\n",
      "acute severe  added to malnutrition\n",
      "head/neck  added to cancer\n",
      "head/neck  added to cancer\n",
      "head/neck  added to cancer\n",
      "coronary acute  added to Syndrome\n",
      "premature  added to coronary artery disease\n",
      "metastatic  added to head and neck squamous cell carcinoma\n",
      " added to cancer\n",
      "gastric recurrent  added to Cancer\n",
      "gastric  added to cancer\n",
      " added to hepatocellular carcinoma\n",
      " added to hepatocellular carcinoma\n",
      " added to lung metastasis\n",
      " added to lung metastasis\n",
      " added to lung metastasis\n",
      "gastric advanced  added to cancer\n",
      "gastric advanced  added to cancer\n",
      "gastric advanced  added to cancer\n",
      "gastric advanced  added to cancer\n",
      " added to lupus nephritis\n",
      "gastric  added to cancer\n",
      " added to cervical squamous cell carcinoma\n",
      " added to syndrome\n",
      " added to syndrome\n",
      " added to osteosarcoma\n",
      " added to osteosarcoma\n",
      " added to lung cancer\n",
      " added to lung cancer\n",
      " added to Cervical Cancer\n",
      " added to Cervical Cancer\n",
      "coronary acute  added to syndrome\n",
      "coronary acute  added to syndrome\n",
      " added to cervical cancer\n",
      " added to cervical squamous cell carcinoma\n",
      " added to cervical squamous cell carcinoma\n",
      "metastatic  added to disease\n",
      " added to cervical squamous cell carcinoma\n",
      " added to cervical cancer\n",
      " added to diabetes mellitus\n",
      " added to cancer\n",
      "metabolic  added to syndrome\n",
      " added to amyotrophic lateral sclerosis\n",
      " added to amyotrophic lateral sclerosis\n",
      " added to osteosarcoma\n",
      " added to osteosarcoma\n",
      " added to osteosarcoma\n",
      " added to osteosarcoma\n",
      " added to osteosarcoma\n",
      " added to disease\n",
      " added to disease\n",
      " added to disease\n",
      " added to osteosarcoma\n",
      " added to osteosarcoma\n",
      " added to osteosarcoma\n",
      " added to osteosarcoma\n",
      "type wild  added to osteosarcoma\n",
      "type wild  added to osteosarcoma\n",
      " added to osteosarcoma\n",
      " added to osteosarcoma\n",
      " added to cancer\n"
     ]
    },
    {
     "name": "stdout",
     "output_type": "stream",
     "text": [
      " added to frontotemporal dementia\n",
      " added to frontotemporal dementia\n",
      " added to disease\n",
      " added to disease\n",
      " added to diabetes mellitus\n",
      "metabolic  added to syndrome\n",
      "ischemic  added to heart disease\n",
      " added to progressive bulbar palsy\n",
      " added to progressive muscular atrophy\n",
      "leg  added to syndrome\n",
      " added to progressive bulbar palsy\n",
      " added to progressive muscular atrophy\n",
      "leg  added to syndrome\n",
      " added to progressive bulbar palsy\n",
      " added to progressive muscular atrophy\n",
      "leg  added to syndrome\n",
      " added to progressive bulbar palsy\n",
      " added to progressive muscular atrophy\n",
      "leg  added to syndrome\n",
      " added to progressive bulbar palsy\n",
      " added to progressive muscular atrophy\n",
      "leg  added to syndrome\n",
      " added to progressive bulbar palsy\n",
      " added to progressive muscular atrophy\n",
      "leg  added to syndrome\n",
      " added to progressive bulbar palsy\n",
      " added to progressive muscular atrophy\n",
      "leg  added to syndrome\n",
      " added to progressive bulbar palsy\n",
      " added to progressive muscular atrophy\n",
      "leg  added to syndrome\n",
      " added to progressive bulbar palsy\n",
      " added to progressive muscular atrophy\n",
      "leg  added to syndrome\n",
      " added to progressive bulbar palsy\n",
      " added to progressive muscular atrophy\n",
      "leg  added to syndrome\n",
      " added to progressive bulbar palsy\n",
      " added to progressive muscular atrophy\n",
      "leg  added to syndrome\n",
      " added to progressive bulbar palsy\n",
      " added to progressive muscular atrophy\n",
      "leg  added to syndrome\n",
      "hbv-positive primary  added to hepatocellular carcinoma\n",
      "hbv-positive primary  added to hepatocellular carcinoma\n",
      "hbv-positive primary  added to hepatocellular carcinoma\n",
      " added to lupus nephritis\n",
      "renal  added to disease\n",
      " added to colon cancer\n",
      " added to colon cancer\n",
      " added to Cholera\n",
      " added to glaucoma\n",
      " added to multiple myeloma\n",
      " added to multiple myeloma\n",
      " added to multiple myeloma\n",
      " added to lupus nephritis\n",
      "renal  added to disease\n",
      " added to Major depressive disorder\n",
      " added to brain edema\n",
      " added to brain edema\n",
      " added to brain edema\n",
      "gastric  added to cancer\n",
      " added to generalized anxiety disorder\n",
      " added to cervical cancer\n",
      "cardiovascular  added to disease\n",
      "cardiovascular  added to disease\n",
      "cardiovascular  added to disease\n",
      "cardiovascular  added to disease\n",
      "appendix-derived  added to Pseudomyxoma Peritonei\n",
      " added to Pseudomyxoma peritonei\n",
      " added to Pseudomyxoma peritonei\n",
      " added to Vitamin D deficiency\n",
      " added to Vitamin D deficiency\n",
      "advanced  added to cancer\n",
      "advanced  added to cancer\n",
      "advanced  added to cancer\n",
      "advanced  added to cancer\n",
      "advanced  added to cancer\n",
      "advanced  added to cancer\n",
      "pre-b-cell  added to leukemia\n",
      "pre-b-cell  added to leukemia\n",
      "renal  added to Disease\n",
      "renal  added to Disease\n",
      " added to Cancer\n",
      " added to Cancer\n",
      " added to Cancer\n",
      "severe  added to disease\n",
      "cell renal metastatic  added to cancer\n",
      " added to osteosarcoma\n",
      " added to Congestive Heart Failure\n",
      " added to Congestive Heart Failure\n",
      " added to Congestive Heart Failure\n",
      " added to Congestive Heart Failure\n",
      " added to Congestive Heart Failure\n",
      " added to colitis\n",
      " added to major depressive disorder\n",
      " added to major depressive disorder\n",
      " added to major depressive disorder\n",
      " added to major depressive disorder\n",
      " added to major depressive disorder\n",
      " added to major depressive disorder\n",
      " added to major depressive disorder\n",
      "active  added to systemic lupus erythematosus\n",
      "active  added to lupus nephritis\n",
      "active  added to systemic lupus erythematosus\n",
      "active  added to lupus nephritis\n",
      "active  added to systemic lupus erythematosus\n",
      "active  added to lupus nephritis\n",
      "active  added to systemic lupus erythematosus\n",
      "active  added to lupus nephritis\n",
      " added to hepatitis C\n",
      " added to obesity\n",
      "nonalcoholic  added to fatty liver disease\n",
      " added to colorectal cancer\n",
      " added to bipolar disorder\n",
      " added to schizophrenia\n",
      " added to bipolar disorder\n",
      " added to schizophrenia\n",
      " added to bipolar disorder\n",
      " added to schizophrenia\n",
      " added to bipolar disorder\n",
      " added to schizophrenia\n",
      " added to bipolar disorder\n",
      " added to schizophrenia\n",
      " added to cancer\n",
      " added to disease\n",
      " added to cancer\n",
      " added to autoimmune hepatitis\n",
      " added to primary sclerosing cholangitis\n",
      " added to primary biliary cirrhosis\n",
      " added to autoimmune hepatitis\n",
      " added to primary sclerosing cholangitis\n",
      " added to primary biliary cirrhosis\n",
      " added to autoimmune hepatitis\n",
      " added to primary sclerosing cholangitis\n",
      " added to primary biliary cirrhosis\n",
      " added to autoimmune hepatitis\n",
      " added to primary sclerosing cholangitis\n",
      " added to primary biliary cirrhosis\n",
      " added to abdominal aortic aneurysm\n",
      " added to myocardial infarction\n",
      " added to acute myeloid leukemia\n",
      " added to disease\n",
      " added to Chronic kidney disease\n",
      " added to viral hepatitis\n",
      " added to viral hepatitis\n",
      " added to viral hepatitis\n",
      "vx2  added to carcinoma\n",
      "vx2  added to carcinoma\n",
      "vx2  added to carcinoma\n",
      "vx2  added to carcinoma\n",
      "vx2  added to carcinoma\n",
      "sorafenib-induced  added to hypertension\n",
      " added to hyperglycemia\n",
      " added to hypertension\n",
      " added to hypertension\n",
      "gastric  added to cancer\n",
      "gastric  added to cancer\n",
      "gastric  added to cancer\n",
      "gastric  added to carcinoma\n",
      "gastric  added to carcinoma\n",
      "gastric  added to carcinoma\n",
      "gastric  added to carcinoma\n",
      " added to Lung Cancer\n",
      " added to Lung Cancer\n",
      " added to Alzheimer's disease\n",
      " added to Alzheimer's disease\n",
      " added to lung cancer\n",
      " added to lung cancer\n",
      " added to lung cancer\n",
      "advanced  added to cancer\n",
      "advanced  added to cancer\n",
      "human  added to lung cancer\n",
      " added to cancer\n",
      " added to Alzheimer's disease\n",
      " added to Alzheimer's disease\n",
      " added to Alzheimer's disease\n",
      " added to Alzheimer's disease\n",
      " added to osteosarcoma\n",
      "coronary acute  added to syndrome\n",
      " added to vitamin D deficiency\n",
      "cell sickle  added to disease\n",
      "cell sickle  added to disease\n",
      " added to alloimmunization\n",
      " added to alloimmunization\n",
      "further  added to alloimmunization\n",
      "further  added to alloimmunization\n",
      " added to alloimmunization\n",
      " added to alloimmunization\n",
      " added to disease\n",
      " added to disease\n",
      " added to disease\n",
      " added to disease\n",
      " added to atrial fibrillation\n",
      "negative  added to breast cancer\n",
      " added to breast cancer\n",
      "certain  added to cancer\n",
      " added to osteosarcoma\n",
      " added to osteosarcoma\n",
      "various  added to osteosarcoma\n",
      " added to osteosarcoma\n",
      " added to osteosarcoma\n",
      " added to osteosarcoma\n",
      " added to osteosarcoma\n",
      " added to disease\n",
      " added to disease\n",
      " added to disease\n",
      " added to Barrett's esophagus\n",
      " added to colitis\n",
      "pre-gestational  added to obesity\n",
      "contralateral  added to cancer\n",
      " added to multiple sclerosis\n",
      " added to multiple sclerosis\n",
      " added to multiple sclerosis\n",
      " added to syndrome\n",
      " added to disease\n",
      " added to syndrome\n",
      " added to disease\n",
      " added to syndrome\n",
      " added to disease\n",
      " added to syndrome\n",
      " added to disease\n",
      " added to syndrome\n",
      " added to disease\n",
      " added to syndrome\n",
      " added to disease\n",
      " added to syndrome\n",
      " added to disease\n",
      " added to syndrome\n",
      " added to disease\n",
      " added to syndrome\n",
      " added to disease\n",
      " added to syndrome\n",
      " added to disease\n",
      " added to syndrome\n",
      " added to disease\n",
      " added to syndrome\n",
      " added to disease\n",
      " added to Parkinson's disease\n",
      "non-ischemic  added to dilated cardiomyopathy\n",
      " added to hypertrophic cardiomyopathy\n",
      "apical asymptomatic  added to periodontitis\n",
      "apical asymptomatic  added to periodontitis\n",
      "apical asymptomatic  added to periodontitis\n",
      "apical asymptomatic  added to periodontitis\n",
      "apical asymptomatic  added to periodontitis\n",
      "apical asymptomatic  added to periodontitis\n",
      " added to rheumatoid arthritis\n",
      " added to osteoarthritis\n",
      "apical symptomatic  added to periodontitis\n",
      "apical symptomatic  added to periodontitis\n",
      "apical symptomatic  added to periodontitis\n",
      " added to pulmonary fibrosis\n",
      "apical asymptomatic  added to periodontitis\n",
      "apical asymptomatic  added to periodontitis\n",
      "apical asymptomatic  added to periodontitis\n",
      "apical asymptomatic  added to periodontitis\n",
      "apical asymptomatic  added to periodontitis\n",
      "apical asymptomatic  added to periodontitis\n",
      " added to frontotemporal dementia\n",
      "clinical  added to Alzheimer's disease\n",
      " added to frontotemporal dementia\n",
      "clinical  added to Alzheimer's disease\n",
      " added to frontotemporal dementia\n",
      "clinical  added to Alzheimer's disease\n",
      " added to frontotemporal dementia\n",
      "clinical  added to Alzheimer's disease\n",
      " added to frontotemporal dementia\n",
      "clinical  added to Alzheimer's disease\n",
      " added to adenocarcinoma\n",
      " added to squamous cell carcinoma\n",
      " added to adenocarcinoma\n",
      " added to squamous cell carcinoma\n",
      " added to adenocarcinoma\n",
      " added to squamous cell carcinoma\n",
      " added to adenocarcinoma\n",
      " added to squamous cell carcinoma\n",
      " added to adenocarcinoma\n",
      " added to squamous cell carcinoma\n",
      "noninfarction  added to ischemia\n",
      " added to Cancer\n",
      " added to Cancer\n",
      " added to Cancer\n",
      " added to Cancer\n",
      " added to Cancer\n",
      " added to pulmonary fibrosis\n",
      "infectious  added to Disease\n",
      " added to histidinemia\n",
      "histidinemia  added to disease\n",
      " added to Cancer\n",
      " added to Cancer\n",
      " added to histidinemia\n",
      "gastric  added to cancer\n",
      " added to pulmonary fibrosis\n",
      "gastric advanced  added to cancer\n",
      "gastric advanced  added to cancer\n",
      "gastric advanced  added to cancer\n",
      "gastric advanced  added to cancer\n",
      "gastric advanced  added to cancer\n",
      "gastric advanced  added to cancer\n",
      " added to squamous cell carcinoma\n",
      " added to squamous cell carcinoma\n",
      " added to Pulmonary hypertension\n",
      "fatal  added to disease\n",
      "gastric  added to cancer\n",
      "cardiovascular  added to disease\n",
      "cardiovascular  added to disease\n",
      "cardiovascular  added to disease\n",
      " added to DIABETIC MACULAR EDEMA\n",
      " added to DIABETIC MACULAR EDEMA\n",
      " added to DIABETIC MACULAR EDEMA\n",
      " added to DIABETIC MACULAR EDEMA\n",
      " added to DIABETIC MACULAR EDEMA\n",
      " added to DIABETIC MACULAR EDEMA\n",
      " added to DIABETIC MACULAR EDEMA\n",
      " added to DIABETIC MACULAR EDEMA\n",
      " added to DIABETIC MACULAR EDEMA\n",
      " added to DIABETIC MACULAR EDEMA\n",
      " added to DIABETIC MACULAR EDEMA\n",
      " added to diabetic macular edema\n",
      " added to diabetic macular edema\n",
      " added to diabetic macular edema\n",
      " added to diabetic macular edema\n",
      " added to diabetic macular edema\n",
      " added to diabetic macular edema\n",
      " added to bipolar disorder\n",
      " added to schizophrenia\n",
      " added to bipolar disorder\n",
      " added to schizophrenia\n",
      "cell clear  added to renal cell carcinoma\n",
      "cell clear sporadic  added to renal cell carcinoma\n",
      "cell clear sporadic  added to renal cell carcinoma\n",
      "cardiovascular  added to disease\n",
      " added to epilepsy\n",
      "st-elevation  added to myocardial infarction\n",
      "obstructive  added to coronary artery disease\n",
      "inducible  added to ischemia\n",
      "non-st-elevation  added to myocardial infarction\n",
      "st-elevation  added to myocardial infarction\n",
      "obstructive  added to coronary artery disease\n",
      "inducible  added to ischemia\n",
      "non-st-elevation  added to myocardial infarction\n",
      "st-elevation  added to myocardial infarction\n",
      "obstructive  added to coronary artery disease\n",
      "inducible  added to ischemia\n",
      "non-st-elevation  added to myocardial infarction\n",
      "st-elevation  added to myocardial infarction\n",
      "obstructive  added to coronary artery disease\n",
      "inducible  added to ischemia\n",
      "non-st-elevation  added to myocardial infarction\n",
      " added to carcinoma\n",
      " added to ovarian cancer\n",
      " added to disease\n",
      " added to disease\n",
      " added to disease\n",
      " added to disease\n",
      " added to traditional HIV disease\n",
      " added to non-small cell lung cancer\n",
      " added to human scleroderma\n",
      " added to early primary open-angle glaucoma\n",
      " added to metastatic renal cell cancer\n",
      " added to academic hospital-based glaucoma\n",
      " added to nasopharyngeal carcinoma\n",
      " added to acute respiratory distress syndrome\n",
      " added to gastric cancer\n",
      " added to advanced gastric cancer\n",
      " added to SETD2 protein deficiency\n",
      " added to diabetic kidney disease\n",
      " added to acute coronary syndrome\n",
      " added to advanced hepatocellular carcinoma\n",
      " added to pancreatic neuroendocrine tumor\n",
      " added to esophageal squamous cell carcinoma\n",
      " added to esophageal squamous cell carcinoma\n",
      " added to CSF Alzheimer's disease\n",
      " added to knee osteoarthritis\n",
      " added to Acute coronary syndrome\n",
      " added to second human myeloid leukemia\n",
      " added to metastatic renal cell cancer\n",
      " added to colorectal carcinoma\n",
      " added to bladder cancer\n",
      " added to certain cancer\n",
      " added to large lupus nephritis\n",
      " added to common cancer\n",
      " added to bladder cancer\n",
      " added to oropharyngeal cancer\n",
      " added to urinary chronic pelvic pain syndrome\n",
      " added to related hepatocellular carcinoma\n",
      " added to active systemic lupus erythematosus\n",
      " added to active biopsy-proven lupus nephritis\n",
      " added to primary HBV-positive hepatocellular carcinoma\n",
      " added to estrogen receptor-negative breast cancer\n",
      " added to Gaucher disease\n",
      " added to Renal Disease\n",
      " added to Gaucher disease\n",
      " added to urological chronic pelvic pain syndrome\n",
      " added to severe acute malnutrition\n",
      " added to head/neck cancer\n",
      " added to Acute Coronary Syndrome\n",
      " added to premature coronary artery disease\n",
      " added to metastatic head and neck squamous cell carcinoma\n",
      " added to Recurrent Gastric Cancer\n",
      " added to gastric cancer\n",
      " added to advanced gastric cancer\n",
      " added to gastric cancer\n",
      " added to acute coronary syndrome\n",
      " added to metastatic disease\n",
      " added to metabolic syndrome\n",
      " added to wild type osteosarcoma\n",
      " added to metabolic syndrome\n",
      " added to ischemic heart disease\n",
      " added to leg syndrome\n",
      " added to primary HBV-positive hepatocellular carcinoma\n",
      " added to renal disease\n",
      " added to renal disease\n",
      " added to gastric cancer\n",
      " added to cardiovascular disease\n",
      " added to Appendix-derived Pseudomyxoma Peritonei\n",
      " added to advanced cancer\n",
      " added to Pre-B-cell leukemia\n",
      " added to Renal Disease\n",
      " added to Renal Disease\n",
      " added to severe disease\n",
      " added to metastatic renal cell cancer\n",
      " added to active systemic lupus erythematosus\n",
      " added to active lupus nephritis\n",
      " added to nonalcoholic fatty liver disease\n",
      " added to VX2 carcinoma\n",
      " added to sorafenib-induced hypertension\n",
      " added to gastric cancer\n",
      " added to gastric carcinoma\n",
      " added to gastric carcinoma\n",
      " added to advanced cancer\n",
      " added to human lung cancer\n",
      " added to sickle cell disease\n",
      " added to further alloimmunization\n",
      " added to negative breast cancer\n",
      " added to certain cancer\n",
      " added to various osteosarcoma\n",
      " added to Pre-gestational obesity\n",
      " added to contralateral cancer\n",
      " added to non-ischemic dilated cardiomyopathy\n",
      " added to asymptomatic apical periodontitis\n",
      " added to symptomatic apical periodontitis\n",
      " added to asymptomatic apical periodontitis\n",
      " added to clinical Alzheimer's disease\n",
      " added to noninfarction ischemia\n",
      " added to Infectious Disease\n",
      " added to histidinemia disease\n",
      " added to gastric cancer\n",
      " added to advanced gastric cancer\n",
      " added to fatal disease\n",
      " added to gastric cancer\n",
      " added to cardiovascular disease\n",
      " added to clear cell renal cell carcinoma\n",
      " added to sporadic clear cell renal cell carcinoma\n",
      " added to cardiovascular disease\n",
      " added to ST-elevation myocardial infarction\n",
      " added to obstructive coronary artery disease\n",
      " added to inducible ischemia\n",
      " added to non-ST-elevation myocardial infarction\n"
     ]
    }
   ],
   "source": [
    "from candidate_adjective_fixer import *\n",
    "from specificityfixer import *\n",
    "add_adj_candidate(session, BiomarkerCondition, dev_cands)\n",
    "fix_specificity(session, BiomarkerCondition, dev_cands)"
   ]
  },
  {
   "cell_type": "code",
   "execution_count": null,
   "metadata": {
    "collapsed": true
   },
   "outputs": [],
   "source": [
    "print len(dev_cands)\n",
    "print session.query(BiomarkerCondition).filter(BiomarkerCondition.split == 1).count()\n",
    "session.commit()"
   ]
  },
  {
   "cell_type": "code",
   "execution_count": null,
   "metadata": {
    "collapsed": true,
    "scrolled": true
   },
   "outputs": [],
   "source": [
    "import re\n",
    "#from snorkel.lf_terms import *\n",
    "from snorkel.lf_helpers import  *\n",
    "from snorkel.lf_helpers import get_sent_candidate_spans\n",
    "from snorkel.lf_helpers import get_left_tokens, get_right_tokens\n",
    "from random import randint\n",
    "import cPickle\n",
    "from PyDictionary import PyDictionary\n",
    "\n",
    "#umls_dict              = load_umls_dictionary()\n",
    "#chemicals              = load_chemdner_dictionary()\n",
    "#abbrv2text, text2abbrv = load_specialist_abbreviations()\n",
    "\n",
    "keyWords = [\"associate\", \"express\", \"marker\", \"biomarker\", \"elevated\", \"decreased\",\n",
    "            \"correlation\", \"correlates\", \"found\", \"diagnose\", \"variant\", \"appear\",\n",
    "            \"connect\", \"relate\", \"exhibit\", \"indicate\", \"signify\", \"show\", \"demonstrate\",\n",
    "            \"reveal\", \"suggest\", \"evidence\", \"elevation\", \"indication\", \"diagnosis\",\n",
    "            \"variation\", \"modification\", \"suggestion\", \"link\", \"derivation\", \"denote\",\n",
    "            \"denotation\", \"demonstration\", \"magnification\", \"depression\", \"boost\", \"level\",\n",
    "            \"advance\", \"augmentation\", \"lessening\", \"enhancement\", \"expression\", \"buildup\",\n",
    "            \"diminishing\", \"diminishment\", \"reduction\", \"drop\", \"dwindling\", \"lowering\"]\n",
    "\n",
    "negationWords = [\"not\", \"nor\", \"neither\"]\n",
    "\n",
    "toAdd = []\n",
    "for keyword in keyWords:\n",
    "    syns = (PyDictionary().synonym(keyword))\n",
    "    if not syns == None:\n",
    "        for syn in syns:\n",
    "            if not syn in keyWords and not syn in toAdd:\n",
    "                toAdd.append(syn)\n",
    "for word in toAdd:\n",
    "    keyWords.append(word)\n",
    "\n",
    "markerDatabase = []\n",
    "with open('databases/markerData.pickle', 'rb') as f:\n",
    "    markerDatabase = cPickle.load(f)\n",
    "\n",
    "    \n",
    "knowAbbreviations = []\n",
    "with open('databases/abbreviations.com.pkl', 'rb') as f:\n",
    "    knowAbbreviations = cPickle.load(f)\n",
    "def LF_distance(c):\n",
    "    '''<TYPE> cancer'''\n",
    "    x = 0\n",
    "    for thing in (get_between_tokens(c)):\n",
    "        x+=1\n",
    "    if(x > 8):\n",
    "        return -1\n",
    "    else:\n",
    "        return 1\n",
    "    '''if(len(get_between_tokens(c)) < 8):\n",
    "        return 1'''\n",
    "    \n",
    "\n",
    "def LF_markerDatabase(c):\n",
    "    if(c.biomarker.get_span() in markerDatabase):\n",
    "#         print c.biomarker.get_span()\n",
    "#         raw_input()\n",
    "        return 1\n",
    "    else:\n",
    "        return 0\n",
    "    \n",
    "def LF_abstract_titleWord(c):\n",
    "    words_in_between = []\n",
    "    for thing in get_between_tokens(c):\n",
    "        words_in_between.append(thing)\n",
    "    if(len(words_in_between) > 1 and words_in_between[0] == \":\"):\n",
    "        return -1\n",
    "\n",
    "def LF_single_letter(c):\n",
    "    if(len(c.biomarker.get_span()) < 2):\n",
    "        return -1\n",
    "    else:\n",
    "        return 0\n",
    "\n",
    "def LF_keyword(c):\n",
    "    for keyword in keyWords:\n",
    "#         print keyword\n",
    "        if(keyword in get_between_tokens(c)):\n",
    "            if(\"not\" in get_between_tokens(c)):\n",
    "                return -1\n",
    "            else:\n",
    "                return 1\n",
    "    return 0\n",
    "    \n",
    "\n",
    "    \n",
    "\n",
    "# def LF_TEST1(c):\n",
    "#  #  phrase = \" \".join(c[0].get_attrib_tokens('dep_labels'))\n",
    "#     tokensbetween = get_between_tokens(c,attrib='lemmas')\n",
    "#     temp_string = \"\"\n",
    "#     for string in tokensbetween:\n",
    "#         temp_string += (string + \" \")\n",
    "#     #print temp_string\n",
    "#     return 1 if re.search(\"^[a-zA-Z]{0,6}\\sVBN\\s[a-zA-Z]{0,6}\\sTO$\", temp_string) else 0\n",
    "\n",
    "# def LF_TEST2(c):\n",
    "#  #  phrase = \" \".join(c[0].get_attrib_tokens('dep_labels'))\n",
    "#     tokensbetween = get_between_tokens(c,attrib='lemmas')\n",
    "#     temp_string = \"\"\n",
    "#     for string in tokensbetween:\n",
    "#         temp_string += (string + \" \")\n",
    "    \n",
    "#     return 1 if re.search(\"^[a-zA-Z]{0,6}\\sVBN\\s[a-zA-Z]{0,6}\\sTO\", temp_string) else 0\n",
    "# def LF_TEST3(c):\n",
    "#  #  phrase = \" \".join(c[0].get_attrib_tokens('dep_labels'))\n",
    "#     tokensbetween = get_between_tokens(c,attrib='lemmas')\n",
    "#     temp_string = \"\"\n",
    "#     for string in tokensbetween:\n",
    "#         temp_string += (string + \" \")\n",
    "    \n",
    "#     return 1 if re.search(\"^[a-zA-Z]*\\sVBN\\s[a-zA-Z]*\\sTO$\", temp_string) else 0\n",
    "# def LF_TEST4(c):\n",
    "#  #  phrase = \" \".join(c[0].get_attrib_tokens('dep_labels'))\n",
    "#     tokensbetween = get_between_tokens(c,attrib='lemmas')\n",
    "#     temp_string = \"\"\n",
    "#     for string in tokensbetween:\n",
    "#         temp_string += (string + \" \")\n",
    "    \n",
    "#     return 1 if re.search(\"^[a-zA-Z]*\\sVBN\\s[a-zA-Z]*\\sTO\", temp_string) else 0\n",
    "# def LF_TEST5(c):\n",
    "#  #  phrase = \" \".join(c[0].get_attrib_tokens('dep_labels'))\n",
    "#     tokensbetween = get_between_tokens(c,attrib='lemmas')\n",
    "#     temp_string = \"\"\n",
    "#     for string in tokensbetween:\n",
    "#         temp_string += (string + \" \")\n",
    "#     return 1 if re.search(\".*\\sVBN\\s.*\\sTO$\", temp_string) else 0\n",
    "\n",
    "# def LF_TEST6(c):\n",
    "#  #  phrase = \" \".join(c[0].get_attrib_tokens('dep_labels'))\n",
    "#     tokensbetween = get_between_tokens(c,attrib='lemmas')\n",
    "#     temp_string = \"\"\n",
    "#     for string in tokensbetween:\n",
    "#         temp_string += (string + \" \")\n",
    "#     return 1 if re.search(\".*\\sVBN\\s.*\\sTO\", temp_string) else 0\n",
    "\n",
    "def LF_auxpass(c):\n",
    "    if not 'auxpass' in get_between_tokens(c, attrib='dep_labels'):\n",
    "        return -1\n",
    "    else:\n",
    "        return 1\n",
    "    \n",
    "def LF_known_abs(c):\n",
    "    if(c.biomarker.get_span() in knowAbbreviations):\n",
    "        return -1\n",
    "    \n",
    "def LF_same_thing(c):\n",
    "    if(c.biomarker.get_span() == c.condition.get_span()):\n",
    "        return -1\n",
    "    \n",
    "    \n",
    "\n",
    "with open('databases/common1000.pkl', 'rb') as f:\n",
    "    common1000 = cPickle.load(f)\n",
    "\n",
    "def LF_common_1000(c):\n",
    "    if(c.condition.get_span() in common1000):\n",
    "        return -1\n",
    "with open('databases/common2000.pkl', 'rb') as f:\n",
    "    common2000 = cPickle.load(f)\n",
    "\n",
    "def LF_common_2000(c):\n",
    "    if(c.condition.get_span() in common2000):\n",
    "        return -1\n",
    "\n"
   ]
  },
  {
   "cell_type": "code",
   "execution_count": null,
   "metadata": {
    "collapsed": true
   },
   "outputs": [],
   "source": [
    "LFs = [ LF_markerDatabase, \n",
    "       LF_keyword, \n",
    "       LF_distance,\n",
    "      LF_abstract_titleWord,\n",
    "      LF_single_letter,\n",
    "      LF_auxpass, LF_known_abs, LF_same_thing, LF_common_1000, LF_common_2000]"
   ]
  },
  {
   "cell_type": "code",
   "execution_count": null,
   "metadata": {
    "collapsed": true
   },
   "outputs": [],
   "source": [
    "from snorkel.annotations import LabelAnnotator\n",
    "labeler = LabelAnnotator(lfs=LFs)"
   ]
  },
  {
   "cell_type": "code",
   "execution_count": null,
   "metadata": {
    "collapsed": true
   },
   "outputs": [],
   "source": [
    "# for thing in dev_cands:\n",
    "#     print thing.biomarker.meta\n",
    "#     print (thing.biomarker.sentence.stable_id)\n",
    "#     print (thing.biomarker.get_stable_id())\n",
    "#     print thing.__argnames__\n",
    "print type(dev_cands)"
   ]
  },
  {
   "cell_type": "code",
   "execution_count": null,
   "metadata": {
    "collapsed": true
   },
   "outputs": [],
   "source": [
    "%time L_train = labeler.apply(split=0)\n",
    "L_train"
   ]
  },
  {
   "cell_type": "code",
   "execution_count": null,
   "metadata": {
    "collapsed": true
   },
   "outputs": [],
   "source": [
    "L_train.lf_stats(session)"
   ]
  },
  {
   "cell_type": "code",
   "execution_count": null,
   "metadata": {
    "collapsed": true
   },
   "outputs": [],
   "source": [
    "from snorkel.learning.structure import DependencySelector\n",
    "ds = DependencySelector()\n",
    "deps = ds.select(L_train, threshold=0.1)\n",
    "len(deps)"
   ]
  },
  {
   "cell_type": "code",
   "execution_count": null,
   "metadata": {
    "collapsed": true
   },
   "outputs": [],
   "source": [
    "deps"
   ]
  },
  {
   "cell_type": "code",
   "execution_count": null,
   "metadata": {
    "collapsed": true
   },
   "outputs": [],
   "source": [
    "deps = set()"
   ]
  },
  {
   "cell_type": "code",
   "execution_count": null,
   "metadata": {
    "collapsed": true
   },
   "outputs": [],
   "source": [
    "from snorkel.learning import GenerativeModel\n",
    "\n",
    "gen_model = GenerativeModel(lf_propensity=True)\n",
    "gen_model.train(\n",
    "    L_train, deps=deps, decay=0.95, step_size=0.1/L_train.shape[0], reg_param=0.0\n",
    ")"
   ]
  },
  {
   "cell_type": "code",
   "execution_count": null,
   "metadata": {
    "collapsed": true
   },
   "outputs": [],
   "source": [
    "train_marginals = gen_model.marginals(L_train)"
   ]
  },
  {
   "cell_type": "code",
   "execution_count": null,
   "metadata": {
    "collapsed": true,
    "scrolled": true
   },
   "outputs": [],
   "source": [
    "import matplotlib.pyplot as plt\n",
    "plt.hist(train_marginals, bins=20)\n",
    "plt.show()"
   ]
  },
  {
   "cell_type": "code",
   "execution_count": null,
   "metadata": {
    "collapsed": true,
    "scrolled": true
   },
   "outputs": [],
   "source": [
    "gen_model.learned_lf_stats()"
   ]
  },
  {
   "cell_type": "code",
   "execution_count": null,
   "metadata": {
    "collapsed": true
   },
   "outputs": [],
   "source": [
    "from snorkel.annotations import save_marginals\n",
    "save_marginals(session, L_train, train_marginals)"
   ]
  },
  {
   "cell_type": "code",
   "execution_count": null,
   "metadata": {
    "collapsed": true,
    "scrolled": true
   },
   "outputs": [],
   "source": [
    "from load_external_annotations_new import load_external_labels\n",
    "load_external_labels(session, BiomarkerCondition, 'Biomarker', 'Condition', 'articles/disease_gold_labels.tsv', dev_cands, annotator_name='gold')\n"
   ]
  },
  {
   "cell_type": "code",
   "execution_count": null,
   "metadata": {
    "collapsed": true
   },
   "outputs": [],
   "source": [
    "from snorkel.annotations import load_gold_labels\n",
    "L_gold_dev = load_gold_labels(session, annotator_name='gold', split=1)\n",
    "L_gold_dev\n",
    "print L_gold_dev\n"
   ]
  },
  {
   "cell_type": "code",
   "execution_count": null,
   "metadata": {
    "collapsed": true
   },
   "outputs": [],
   "source": [
    "for thing in L_gold_dev:\n",
    "    print thing"
   ]
  },
  {
   "cell_type": "code",
   "execution_count": null,
   "metadata": {
    "collapsed": true
   },
   "outputs": [],
   "source": [
    "L_dev = labeler.apply_existing(split=1)\n",
    "_ = gen_model.score(session, L_dev, L_gold_dev)"
   ]
  },
  {
   "cell_type": "code",
   "execution_count": null,
   "metadata": {
    "collapsed": true,
    "scrolled": true
   },
   "outputs": [],
   "source": [
    "for candidate in dev_cands:\n",
    "    print candidate[1].get_stable_id()"
   ]
  },
  {
   "cell_type": "code",
   "execution_count": null,
   "metadata": {
    "collapsed": true,
    "scrolled": true
   },
   "outputs": [],
   "source": [
    "L_dev.lf_stats(session, L_gold_dev, gen_model.learned_lf_stats()['Accuracy'])"
   ]
  },
  {
   "cell_type": "code",
   "execution_count": null,
   "metadata": {
    "collapsed": true
   },
   "outputs": [],
   "source": [
    "from snorkel.viewer import SentenceNgramViewer\n",
    "labeled = []\n",
    "for c in session.query(BiomarkerCondition).filter(BiomarkerCondition.split == 1).all():\n",
    "    if LF_markerDatabase(c) == 1:\n",
    "        labeled.append(c)\n",
    "SentenceNgramViewer(labeled, session, n_per_page=3)"
   ]
  },
  {
   "cell_type": "code",
   "execution_count": null,
   "metadata": {
    "collapsed": true
   },
   "outputs": [],
   "source": [
    "import numpy as np\n",
    "\n",
    "# Load dev labels and convert to [0, 1] range\n",
    "from snorkel.annotations import load_gold_labels\n",
    "L_gold_dev = load_gold_labels(session, annotator_name='gold', split=1)\n",
    "dev_labels = (np.ravel(L_gold_dev.todense()) + 1) / 2"
   ]
  },
  {
   "cell_type": "code",
   "execution_count": null,
   "metadata": {
    "collapsed": true
   },
   "outputs": [],
   "source": [
    "from snorkel.annotations import FeatureAnnotator\n",
    "featurizer = FeatureAnnotator()\n",
    "\n",
    "%time F_train = featurizer.apply(split=0)\n",
    "F_train"
   ]
  },
  {
   "cell_type": "code",
   "execution_count": null,
   "metadata": {
    "collapsed": true
   },
   "outputs": [],
   "source": [
    "%%time\n",
    "F_dev  = featurizer.apply_existing(split=1)\n",
    "F_test = featurizer.apply_existing(split=2)"
   ]
  },
  {
   "cell_type": "code",
   "execution_count": null,
   "metadata": {
    "collapsed": true
   },
   "outputs": [],
   "source": [
    "from snorkel.annotations import load_marginals\n",
    "train_marginals = load_marginals(session, F_train, split=0)"
   ]
  },
  {
   "cell_type": "code",
   "execution_count": null,
   "metadata": {
    "collapsed": true
   },
   "outputs": [],
   "source": [
    "from snorkel.learning import SparseLogisticRegression\n",
    "disc_model = SparseLogisticRegression()"
   ]
  },
  {
   "cell_type": "code",
   "execution_count": null,
   "metadata": {
    "collapsed": true
   },
   "outputs": [],
   "source": [
    "from snorkel.learning.utils import MentionScorer\n",
    "from snorkel.learning import RandomSearch, ListParameter, RangeParameter\n",
    "\n",
    "# Searching over learning rate\n",
    "rate_param = RangeParameter('lr', 1e-6, 1e-2, step=1, log_base=10)\n",
    "l1_param  = RangeParameter('l1_penalty', 1e-6, 1e-2, step=1, log_base=10)\n",
    "l2_param  = RangeParameter('l2_penalty', 1e-6, 1e-2, step=1, log_base=10)\n",
    "\n",
    "searcher = RandomSearch(session, disc_model, F_train, train_marginals, [rate_param, l1_param, l2_param], n=20)"
   ]
  },
  {
   "cell_type": "code",
   "execution_count": null,
   "metadata": {
    "collapsed": true
   },
   "outputs": [],
   "source": [
    "from snorkel.annotations import load_gold_labels\n",
    "L_gold_dev = load_gold_labels(session, annotator_name='gold', split=1)\n",
    "L_gold_dev\n",
    "\n",
    "import numpy as np\n",
    "np.random.seed(1701)\n",
    "searcher.fit(F_dev, L_gold_dev, n_epochs=50, rebalance=0.5, print_freq=25)\n",
    "\n",
    "### Scoring on the test set\n",
    "\n"
   ]
  },
  {
   "cell_type": "code",
   "execution_count": null,
   "metadata": {
    "collapsed": true
   },
   "outputs": [],
   "source": [
    "test_cands = session.query(BiomarkerCondition).filter(BiomarkerCondition.split == 2).all()\n",
    "train_cands = session.query(BiomarkerCondition).filter(BiomarkerCondition.split == 0).all()"
   ]
  },
  {
   "cell_type": "code",
   "execution_count": null,
   "metadata": {
    "collapsed": true
   },
   "outputs": [],
   "source": [
    "from load_external_annotations_new import load_external_labels\n",
    "load_external_labels(session, BiomarkerCondition, 'Biomarker', 'Condition', 'articles/disease_test_labels.tsv', test_cands, annotator_name='gold')\n",
    "\n",
    "from snorkel.annotations import load_gold_labels\n",
    "L_gold_test = load_gold_labels(session, annotator_name='gold', split=2)\n",
    "L_gold_test\n",
    "\n",
    "tp, fp, tn, fn = disc_model.score(session, F_test, L_gold_test)"
   ]
  },
  {
   "cell_type": "code",
   "execution_count": null,
   "metadata": {
    "collapsed": true
   },
   "outputs": [],
   "source": [
    "tp, fp, tn, fn = disc_model.score(session, F_test, L_gold_test)"
   ]
  },
  {
   "cell_type": "code",
   "execution_count": null,
   "metadata": {
    "collapsed": true
   },
   "outputs": [],
   "source": [
    "print tp"
   ]
  },
  {
   "cell_type": "code",
   "execution_count": null,
   "metadata": {
    "collapsed": true
   },
   "outputs": [],
   "source": [
    "from snorkel.contrib.rnn import reRNN\n",
    "\n",
    "train_kwargs = {\n",
    "    'lr':         0.01,\n",
    "    'dim':        100,\n",
    "    'n_epochs':   50,\n",
    "    'dropout':    0.5,\n",
    "    'rebalance':  0.25,\n",
    "    'print_freq': 5\n",
    "}\n",
    "\n",
    "lstm = reRNN(seed=1701, n_threads=None)\n",
    "lstm.train(train_cands, train_marginals, dev_candidates=dev_cands, dev_labels=dev_labels, **train_kwargs)"
   ]
  },
  {
   "cell_type": "code",
   "execution_count": null,
   "metadata": {
    "collapsed": true
   },
   "outputs": [],
   "source": [
    "lstm.save(\"biomarkercondition.lstm\")"
   ]
  }
 ],
 "metadata": {
  "kernelspec": {
   "display_name": "Python 2",
   "language": "python",
   "name": "python2"
  },
  "language_info": {
   "codemirror_mode": {
    "name": "ipython",
    "version": 2
   },
   "file_extension": ".py",
   "mimetype": "text/x-python",
   "name": "python",
   "nbconvert_exporter": "python",
   "pygments_lexer": "ipython2",
   "version": "2.7.12"
  }
 },
 "nbformat": 4,
 "nbformat_minor": 2
}
