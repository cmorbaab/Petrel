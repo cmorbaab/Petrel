{
 "cells": [
  {
   "cell_type": "code",
   "execution_count": 1,
   "metadata": {
    "collapsed": true
   },
   "outputs": [],
   "source": [
    "%load_ext autoreload\n",
    "%autoreload 2\n",
    "%matplotlib inline\n",
    "\n",
    "from snorkel import SnorkelSession\n",
    "session = SnorkelSession()\n",
    "\n",
    "import os\n",
    "from snorkel.parser import XMLMultiDocPreprocessor\n",
    "\n",
    "# The following line is for testing only. Feel free to ignore it.\n",
    "\n",
    "file_path = 'articles/training.xml'\n",
    "train_preprocessor = XMLMultiDocPreprocessor(\n",
    "    path=file_path,\n",
    "    doc='.//article',\n",
    "    text='.//front/article-meta/abstract/p/text()',\n",
    "    id=  './/front/article-meta/article-id/text()'\n",
    ")\n",
    "\n",
    "file_path = 'articles/development.xml'\n",
    "dev_preprocessor = XMLMultiDocPreprocessor(\n",
    "    path=file_path,    \n",
    "    doc='.//document',    \n",
    "    text='.//passage/text/text()',    \n",
    "    id='.//id/text()'\n",
    ")\n",
    "\n",
    "file_path = 'articles/testcorpus.xml'\n",
    "test_preprocessor = XMLMultiDocPreprocessor(\n",
    "    path=file_path,    \n",
    "    doc='.//document',    \n",
    "    text='.//passage/text/text()',    \n",
    "    id='.//id/text()'\n",
    ")\n",
    "\n"
   ]
  },
  {
   "cell_type": "code",
   "execution_count": 2,
   "metadata": {
    "scrolled": true
   },
   "outputs": [
    {
     "name": "stdout",
     "output_type": "stream",
     "text": [
      "Clearing existing...\n",
      "Running UDF...\n",
      "[=                                       ] 0%"
     ]
    },
    {
     "name": "stderr",
     "output_type": "stream",
     "text": [
      "Warning, empty document 5305186 passed to CoreNLP\n",
      "Warning, empty document 28182863 passed to CoreNLP\n"
     ]
    },
    {
     "name": "stdout",
     "output_type": "stream",
     "text": [
      "\r",
      "[=                                       ] 1%"
     ]
    },
    {
     "name": "stderr",
     "output_type": "stream",
     "text": [
      "Warning, empty document 27462919 passed to CoreNLP\n",
      "Warning, empty document 27494853 passed to CoreNLP\n",
      "Warning, empty document 27447745 passed to CoreNLP\n",
      "Warning, empty document 27447854 passed to CoreNLP\n"
     ]
    },
    {
     "name": "stdout",
     "output_type": "stream",
     "text": [
      "\r",
      "[=                                       ] 2%"
     ]
    },
    {
     "name": "stderr",
     "output_type": "stream",
     "text": [
      "Warning, empty document 27486880 passed to CoreNLP\n"
     ]
    },
    {
     "name": "stdout",
     "output_type": "stream",
     "text": [
      "\r",
      "[==                                      ] 3%"
     ]
    },
    {
     "name": "stderr",
     "output_type": "stream",
     "text": [
      "Warning, empty document 28012176 passed to CoreNLP\n",
      "Warning, empty document 5300950 passed to CoreNLP\n",
      "Warning, empty document 5300948 passed to CoreNLP\n",
      "Warning, empty document 5300945 passed to CoreNLP\n",
      "Warning, empty document 5300911 passed to CoreNLP\n"
     ]
    },
    {
     "name": "stdout",
     "output_type": "stream",
     "text": [
      "\r",
      "[==                                      ] 4%"
     ]
    },
    {
     "name": "stderr",
     "output_type": "stream",
     "text": [
      "Warning, empty document 28179006 passed to CoreNLP\n",
      "Warning, empty document 28178960 passed to CoreNLP\n",
      "Warning, empty document 28178970 passed to CoreNLP\n",
      "Warning, empty document 28178948 passed to CoreNLP\n",
      "Warning, empty document 28178945 passed to CoreNLP\n",
      "Warning, empty document 28179018 passed to CoreNLP\n",
      "Warning, empty document 28178966 passed to CoreNLP\n",
      "Warning, empty document 28178923 passed to CoreNLP\n",
      "Warning, empty document 5299725 passed to CoreNLP\n",
      "Warning, empty document 28178997 passed to CoreNLP\n",
      "Warning, empty document 5299688 passed to CoreNLP\n",
      "Warning, empty document 28178959 passed to CoreNLP\n",
      "Warning, empty document 28178957 passed to CoreNLP\n",
      "Warning, empty document 28178925 passed to CoreNLP\n",
      "Warning, empty document 28178952 passed to CoreNLP\n",
      "Warning, empty document 5299656 passed to CoreNLP\n",
      "Warning, empty document 28178989 passed to CoreNLP\n",
      "Warning, empty document 28179021 passed to CoreNLP\n"
     ]
    },
    {
     "name": "stdout",
     "output_type": "stream",
     "text": [
      "\r",
      "[===                                     ] 5%"
     ]
    },
    {
     "name": "stderr",
     "output_type": "stream",
     "text": [
      "Warning, empty document 5299079 passed to CoreNLP\n",
      "Warning, empty document 28173772 passed to CoreNLP\n",
      "Warning, empty document 5297221 passed to CoreNLP\n"
     ]
    },
    {
     "name": "stdout",
     "output_type": "stream",
     "text": [
      "[===                                     ] 7%"
     ]
    },
    {
     "name": "stderr",
     "output_type": "stream",
     "text": [
      "Warning, empty document 28144859 passed to CoreNLP\n",
      "Warning, empty document 26902522 passed to CoreNLP\n"
     ]
    },
    {
     "name": "stdout",
     "output_type": "stream",
     "text": [
      "\r",
      "[====                                    ] 8%"
     ]
    },
    {
     "name": "stderr",
     "output_type": "stream",
     "text": [
      "Warning, empty document 27838763 passed to CoreNLP\n",
      "Warning, empty document 27554774 passed to CoreNLP\n",
      "Warning, empty document 27379386 passed to CoreNLP\n"
     ]
    },
    {
     "name": "stdout",
     "output_type": "stream",
     "text": [
      "\r",
      "[====                                    ] 9%"
     ]
    },
    {
     "name": "stderr",
     "output_type": "stream",
     "text": [
      "Warning, empty document 28130689 passed to CoreNLP\n",
      "Warning, empty document 5270378 passed to CoreNLP\n",
      "Warning, empty document 5270363 passed to CoreNLP\n",
      "Warning, empty document 26552421 passed to CoreNLP\n",
      "Warning, empty document 22660553 passed to CoreNLP\n",
      "Warning, empty document 19496923 passed to CoreNLP\n"
     ]
    },
    {
     "name": "stdout",
     "output_type": "stream",
     "text": [
      "[=====                                   ] 11%"
     ]
    },
    {
     "name": "stderr",
     "output_type": "stream",
     "text": [
      "Warning, empty document 24029061 passed to CoreNLP\n",
      "Warning, empty document 27344180 passed to CoreNLP\n"
     ]
    },
    {
     "name": "stdout",
     "output_type": "stream",
     "text": [
      "\r",
      "[=====                                   ] 12%"
     ]
    },
    {
     "name": "stderr",
     "output_type": "stream",
     "text": [
      "Warning, empty document 27486820 passed to CoreNLP\n"
     ]
    },
    {
     "name": "stdout",
     "output_type": "stream",
     "text": [
      "\r",
      "[======                                  ] 13%"
     ]
    },
    {
     "name": "stderr",
     "output_type": "stream",
     "text": [
      "Warning, empty document 5301370 passed to CoreNLP\n"
     ]
    },
    {
     "name": "stdout",
     "output_type": "stream",
     "text": [
      "\r",
      "[======                                  ] 14%"
     ]
    },
    {
     "name": "stderr",
     "output_type": "stream",
     "text": [
      "Warning, empty document 5301067 passed to CoreNLP\n",
      "Warning, empty document 5300912 passed to CoreNLP\n"
     ]
    },
    {
     "name": "stdout",
     "output_type": "stream",
     "text": [
      "\r",
      "[=======                                 ] 15%"
     ]
    },
    {
     "name": "stderr",
     "output_type": "stream",
     "text": [
      "Warning, empty document 28179014 passed to CoreNLP\n",
      "Warning, empty document 28178929 passed to CoreNLP\n",
      "Warning, empty document 28178951 passed to CoreNLP\n",
      "Warning, empty document 28179026 passed to CoreNLP\n",
      "Warning, empty document 28179020 passed to CoreNLP\n",
      "Warning, empty document 28179007 passed to CoreNLP\n",
      "Warning, empty document 28178999 passed to CoreNLP\n",
      "Warning, empty document 28183321 passed to CoreNLP\n",
      "Warning, empty document 28178994 passed to CoreNLP\n",
      "Warning, empty document 5299695 passed to CoreNLP\n",
      "Warning, empty document 28178938 passed to CoreNLP\n",
      "Warning, empty document 5299675 passed to CoreNLP\n",
      "Warning, empty document 28151938 passed to CoreNLP\n",
      "Warning, empty document 28151939 passed to CoreNLP\n"
     ]
    },
    {
     "name": "stdout",
     "output_type": "stream",
     "text": [
      "\r",
      "[=======                                 ] 16%"
     ]
    },
    {
     "name": "stderr",
     "output_type": "stream",
     "text": [
      "Warning, empty document 28151970 passed to CoreNLP\n",
      "Warning, empty document 28152059 passed to CoreNLP\n",
      "Warning, empty document 28151974 passed to CoreNLP\n",
      "Warning, empty document 28150141 passed to CoreNLP\n",
      "Warning, empty document 28148286 passed to CoreNLP\n",
      "Warning, empty document 28148267 passed to CoreNLP\n",
      "Warning, empty document 28148238 passed to CoreNLP\n",
      "Warning, empty document 28148272 passed to CoreNLP\n",
      "Warning, empty document 28148276 passed to CoreNLP\n",
      "Warning, empty document 28152978 passed to CoreNLP\n"
     ]
    },
    {
     "name": "stdout",
     "output_type": "stream",
     "text": [
      "\r",
      "[=======                                 ] 17%"
     ]
    },
    {
     "name": "stderr",
     "output_type": "stream",
     "text": [
      "Warning, empty document 28148281 passed to CoreNLP\n",
      "Warning, empty document 28148239 passed to CoreNLP\n"
     ]
    },
    {
     "name": "stdout",
     "output_type": "stream",
     "text": [
      "\r",
      "[========                                ] 18%"
     ]
    },
    {
     "name": "stderr",
     "output_type": "stream",
     "text": [
      "Warning, empty document 28184245 passed to CoreNLP\n",
      "Warning, empty document 28148244 passed to CoreNLP\n",
      "Warning, empty document 28153034 passed to CoreNLP\n",
      "Warning, empty document 28148302 passed to CoreNLP\n",
      "Warning, empty document 28148236 passed to CoreNLP\n",
      "Warning, empty document 28148246 passed to CoreNLP\n",
      "Warning, empty document 28184256 passed to CoreNLP\n",
      "Warning, empty document 28153009 passed to CoreNLP\n",
      "Warning, empty document 28148221 passed to CoreNLP\n",
      "Warning, empty document 28148225 passed to CoreNLP\n",
      "Warning, empty document 28184251 passed to CoreNLP\n",
      "Warning, empty document 28148293 passed to CoreNLP\n",
      "Warning, empty document 28148305 passed to CoreNLP\n",
      "Warning, empty document 28152990 passed to CoreNLP\n",
      "Warning, empty document 28148242 passed to CoreNLP\n",
      "Warning, empty document 28148301 passed to CoreNLP\n",
      "Warning, empty document 28148279 passed to CoreNLP\n",
      "Warning, empty document 28148290 passed to CoreNLP\n",
      "Warning, empty document 28153017 passed to CoreNLP\n",
      "Warning, empty document 28153033 passed to CoreNLP\n",
      "Warning, empty document 28148223 passed to CoreNLP\n",
      "Warning, empty document 28153003 passed to CoreNLP\n",
      "Warning, empty document 28148240 passed to CoreNLP\n",
      "Warning, empty document 28148303 passed to CoreNLP\n",
      "Warning, empty document 28167864 passed to CoreNLP\n",
      "Warning, empty document 28152989 passed to CoreNLP\n",
      "Warning, empty document 28153048 passed to CoreNLP\n",
      "Warning, empty document 28148274 passed to CoreNLP\n",
      "Warning, empty document 28168006 passed to CoreNLP\n"
     ]
    },
    {
     "name": "stdout",
     "output_type": "stream",
     "text": [
      "[=========                               ] 22%"
     ]
    },
    {
     "name": "stderr",
     "output_type": "stream",
     "text": [
      "Warning, empty document 28210239 passed to CoreNLP\n",
      "Warning, empty document 27681113 passed to CoreNLP\n",
      "Warning, empty document 5308771 passed to CoreNLP\n",
      "Warning, empty document 28192800 passed to CoreNLP\n",
      "Warning, empty document 5308769 passed to CoreNLP\n"
     ]
    },
    {
     "name": "stdout",
     "output_type": "stream",
     "text": [
      "\r",
      "[==========                              ] 23%"
     ]
    },
    {
     "name": "stderr",
     "output_type": "stream",
     "text": [
      "Warning, empty document 5304385 passed to CoreNLP\n",
      "Warning, empty document 5304361 passed to CoreNLP\n",
      "Warning, empty document 28210447 passed to CoreNLP\n",
      "Warning, empty document 28210445 passed to CoreNLP\n",
      "Warning, empty document 28210437 passed to CoreNLP\n",
      "Warning, empty document 28210430 passed to CoreNLP\n",
      "Warning, empty document 5302179 passed to CoreNLP\n",
      "Warning, empty document 28145395 passed to CoreNLP\n",
      "Warning, empty document 28170537 passed to CoreNLP\n"
     ]
    },
    {
     "name": "stdout",
     "output_type": "stream",
     "text": [
      "\r",
      "[==========                              ] 24%"
     ]
    },
    {
     "name": "stderr",
     "output_type": "stream",
     "text": [
      "Warning, empty document 28203066 passed to CoreNLP\n",
      "Warning, empty document 28159976 passed to CoreNLP\n",
      "Warning, empty document 28152139 passed to CoreNLP\n",
      "Warning, empty document 28146236 passed to CoreNLP\n",
      "Warning, empty document 28146237 passed to CoreNLP\n",
      "Warning, empty document 5294949 passed to CoreNLP\n",
      "Warning, empty document 5294947 passed to CoreNLP\n",
      "Warning, empty document 5294943 passed to CoreNLP\n",
      "Warning, empty document 5294940 passed to CoreNLP\n",
      "Warning, empty document 28191321 passed to CoreNLP\n",
      "Warning, empty document 28177049 passed to CoreNLP\n",
      "Warning, empty document 28177046 passed to CoreNLP\n",
      "Warning, empty document 28177045 passed to CoreNLP\n",
      "Warning, empty document 27477328 passed to CoreNLP\n",
      "Warning, empty document 27484038 passed to CoreNLP\n",
      "Warning, empty document 27555459 passed to CoreNLP\n"
     ]
    },
    {
     "name": "stdout",
     "output_type": "stream",
     "text": [
      "\r",
      "[===========                             ] 25%"
     ]
    },
    {
     "name": "stderr",
     "output_type": "stream",
     "text": [
      "Warning, empty document 27939045 passed to CoreNLP\n",
      "Warning, empty document 28184180 passed to CoreNLP\n",
      "Warning, empty document 28180185 passed to CoreNLP\n",
      "Warning, empty document 28148220 passed to CoreNLP\n",
      "Warning, empty document 28148277 passed to CoreNLP\n",
      "Warning, empty document 28148288 passed to CoreNLP\n",
      "Warning, empty document 28148232 passed to CoreNLP\n"
     ]
    },
    {
     "name": "stdout",
     "output_type": "stream",
     "text": [
      "\r",
      "[===========                             ] 26%"
     ]
    },
    {
     "name": "stderr",
     "output_type": "stream",
     "text": [
      "Warning, empty document 28146567 passed to CoreNLP\n",
      "Warning, empty document 28146578 passed to CoreNLP\n",
      "Warning, empty document 28146577 passed to CoreNLP\n",
      "Warning, empty document 28146553 passed to CoreNLP\n"
     ]
    },
    {
     "name": "stdout",
     "output_type": "stream",
     "text": [
      "\r",
      "[===========                             ] 27%"
     ]
    },
    {
     "name": "stderr",
     "output_type": "stream",
     "text": [
      "Warning, empty document 27846616 passed to CoreNLP\n",
      "Warning, empty document 27789675 passed to CoreNLP\n",
      "Warning, empty document 27789679 passed to CoreNLP\n"
     ]
    },
    {
     "name": "stdout",
     "output_type": "stream",
     "text": [
      "\r",
      "[============                            ] 28%"
     ]
    },
    {
     "name": "stderr",
     "output_type": "stream",
     "text": [
      "Warning, empty document 28148241 passed to CoreNLP\n",
      "Warning, empty document 28143492 passed to CoreNLP\n",
      "Warning, empty document 28148261 passed to CoreNLP\n",
      "Warning, empty document 28143545 passed to CoreNLP\n",
      "Warning, empty document 28143561 passed to CoreNLP\n",
      "Warning, empty document 28168037 passed to CoreNLP\n",
      "Warning, empty document 28143565 passed to CoreNLP\n",
      "Warning, empty document 28143511 passed to CoreNLP\n",
      "Warning, empty document 28143522 passed to CoreNLP\n",
      "Warning, empty document 28143451 passed to CoreNLP\n",
      "Warning, empty document 28143571 passed to CoreNLP\n",
      "Warning, empty document 28168005 passed to CoreNLP\n",
      "Warning, empty document 28143589 passed to CoreNLP\n",
      "Warning, empty document 28143426 passed to CoreNLP\n",
      "Warning, empty document 28143433 passed to CoreNLP\n",
      "Warning, empty document 28143526 passed to CoreNLP\n"
     ]
    },
    {
     "name": "stdout",
     "output_type": "stream",
     "text": [
      "\r",
      "[============                            ] 29%"
     ]
    },
    {
     "name": "stderr",
     "output_type": "stream",
     "text": [
      "Warning, empty document 28148260 passed to CoreNLP\n",
      "Warning, empty document 28143587 passed to CoreNLP\n",
      "Warning, empty document 28143491 passed to CoreNLP\n",
      "Warning, empty document 28143435 passed to CoreNLP\n",
      "Warning, empty document 28143541 passed to CoreNLP\n",
      "Warning, empty document 28148265 passed to CoreNLP\n",
      "Warning, empty document 28143562 passed to CoreNLP\n",
      "Warning, empty document 28143584 passed to CoreNLP\n",
      "Warning, empty document 28143520 passed to CoreNLP\n",
      "Warning, empty document 28143601 passed to CoreNLP\n",
      "Warning, empty document 28143606 passed to CoreNLP\n",
      "Warning, empty document 28148307 passed to CoreNLP\n"
     ]
    },
    {
     "name": "stdout",
     "output_type": "stream",
     "text": [
      "[=============                           ] 31%"
     ]
    },
    {
     "name": "stderr",
     "output_type": "stream",
     "text": [
      "Warning, empty document 28137381 passed to CoreNLP\n",
      "Warning, empty document 28087201 passed to CoreNLP\n"
     ]
    },
    {
     "name": "stdout",
     "output_type": "stream",
     "text": [
      "\r",
      "[=============                           ] 32%"
     ]
    },
    {
     "name": "stderr",
     "output_type": "stream",
     "text": [
      "Warning, empty document 28203208 passed to CoreNLP\n",
      "Warning, empty document 28144808 passed to CoreNLP\n"
     ]
    },
    {
     "name": "stdout",
     "output_type": "stream",
     "text": [
      "\r",
      "[==============                          ] 33%"
     ]
    },
    {
     "name": "stderr",
     "output_type": "stream",
     "text": [
      "Warning, empty document 27863903 passed to CoreNLP\n",
      "Warning, empty document 27908689 passed to CoreNLP\n",
      "Warning, empty document 27818097 passed to CoreNLP\n",
      "Warning, empty document 28164012 passed to CoreNLP\n",
      "Warning, empty document 28164013 passed to CoreNLP\n"
     ]
    },
    {
     "name": "stdout",
     "output_type": "stream",
     "text": [
      "\r",
      "[==============                          ] 34%"
     ]
    },
    {
     "name": "stderr",
     "output_type": "stream",
     "text": [
      "Warning, empty document 27506906 passed to CoreNLP\n",
      "Warning, empty document 28148904 passed to CoreNLP\n",
      "Warning, empty document 5309451 passed to CoreNLP\n",
      "Warning, empty document 28203553 passed to CoreNLP\n",
      "Warning, empty document 28203552 passed to CoreNLP\n"
     ]
    },
    {
     "name": "stdout",
     "output_type": "stream",
     "text": [
      "\r",
      "[===============                         ] 35%"
     ]
    },
    {
     "name": "stderr",
     "output_type": "stream",
     "text": [
      "Warning, empty document 28138126 passed to CoreNLP\n",
      "Warning, empty document 28194229 passed to CoreNLP\n",
      "Warning, empty document 28203105 passed to CoreNLP\n",
      "Warning, empty document 28203104 passed to CoreNLP\n",
      "Warning, empty document 28203107 passed to CoreNLP\n",
      "Warning, empty document 28203068 passed to CoreNLP\n",
      "Warning, empty document 28203070 passed to CoreNLP\n",
      "Warning, empty document 28203106 passed to CoreNLP\n",
      "Warning, empty document 28168095 passed to CoreNLP\n",
      "Warning, empty document 28168103 passed to CoreNLP\n",
      "Warning, empty document 28168111 passed to CoreNLP\n"
     ]
    },
    {
     "name": "stdout",
     "output_type": "stream",
     "text": [
      "\r",
      "[===============                         ] 36%"
     ]
    },
    {
     "name": "stderr",
     "output_type": "stream",
     "text": [
      "Warning, empty document 28143592 passed to CoreNLP\n",
      "Warning, empty document 28143478 passed to CoreNLP\n",
      "Warning, empty document 28143619 passed to CoreNLP\n",
      "Warning, empty document 28143609 passed to CoreNLP\n",
      "Warning, empty document 28143417 passed to CoreNLP\n",
      "Warning, empty document 28143400 passed to CoreNLP\n",
      "Warning, empty document 28143425 passed to CoreNLP\n",
      "Warning, empty document 28163748 passed to CoreNLP\n",
      "Warning, empty document 28143493 passed to CoreNLP\n"
     ]
    },
    {
     "name": "stdout",
     "output_type": "stream",
     "text": [
      "\r",
      "[===============                         ] 37%"
     ]
    },
    {
     "name": "stderr",
     "output_type": "stream",
     "text": [
      "Warning, empty document 28141815 passed to CoreNLP\n",
      "Warning, empty document 28141863 passed to CoreNLP\n",
      "Warning, empty document 28141847 passed to CoreNLP\n",
      "Warning, empty document 28141816 passed to CoreNLP\n"
     ]
    },
    {
     "name": "stdout",
     "output_type": "stream",
     "text": [
      "\r",
      "[================                        ] 38%"
     ]
    },
    {
     "name": "stderr",
     "output_type": "stream",
     "text": [
      "Warning, empty document 28143401 passed to CoreNLP\n",
      "Warning, empty document 28137277 passed to CoreNLP\n",
      "Warning, empty document 28143399 passed to CoreNLP\n",
      "Warning, empty document 28163789 passed to CoreNLP\n"
     ]
    },
    {
     "name": "stdout",
     "output_type": "stream",
     "text": [
      "\r",
      "[================                        ] 39%"
     ]
    },
    {
     "name": "stderr",
     "output_type": "stream",
     "text": [
      "Warning, empty document 28143472 passed to CoreNLP\n",
      "Warning, empty document 28143481 passed to CoreNLP\n",
      "Warning, empty document 28137278 passed to CoreNLP\n",
      "Warning, empty document 28143479 passed to CoreNLP\n",
      "Warning, empty document 28143623 passed to CoreNLP\n",
      "Warning, empty document 28143518 passed to CoreNLP\n",
      "Warning, empty document 28163793 passed to CoreNLP\n",
      "Warning, empty document 28143463 passed to CoreNLP\n",
      "Warning, empty document 28163782 passed to CoreNLP\n",
      "Warning, empty document 28137259 passed to CoreNLP\n",
      "Warning, empty document 28143566 passed to CoreNLP\n",
      "Warning, empty document 28143441 passed to CoreNLP\n",
      "Warning, empty document 28137264 passed to CoreNLP\n",
      "Warning, empty document 28143391 passed to CoreNLP\n",
      "Warning, empty document 28137276 passed to CoreNLP\n",
      "Warning, empty document 28143523 passed to CoreNLP\n",
      "Warning, empty document 28143405 passed to CoreNLP\n",
      "Warning, empty document 28137295 passed to CoreNLP\n",
      "Warning, empty document 28143608 passed to CoreNLP\n",
      "Warning, empty document 28163780 passed to CoreNLP\n",
      "Warning, empty document 28143622 passed to CoreNLP\n",
      "Warning, empty document 28163787 passed to CoreNLP\n",
      "Warning, empty document 28143397 passed to CoreNLP\n"
     ]
    },
    {
     "name": "stdout",
     "output_type": "stream",
     "text": [
      "\r",
      "[=================                       ] 40%"
     ]
    },
    {
     "name": "stderr",
     "output_type": "stream",
     "text": [
      "Warning, empty document 28143567 passed to CoreNLP\n",
      "Warning, empty document 28143464 passed to CoreNLP\n",
      "Warning, empty document 28143503 passed to CoreNLP\n",
      "Warning, empty document 28137245 passed to CoreNLP\n",
      "Warning, empty document 28143614 passed to CoreNLP\n",
      "Warning, empty document 28137282 passed to CoreNLP\n",
      "Warning, empty document 28137267 passed to CoreNLP\n",
      "Warning, empty document 28143497 passed to CoreNLP\n",
      "Warning, empty document 28143440 passed to CoreNLP\n",
      "Warning, empty document 28137296 passed to CoreNLP\n",
      "Warning, empty document 28143402 passed to CoreNLP\n",
      "Warning, empty document 28143410 passed to CoreNLP\n",
      "Warning, empty document 28143530 passed to CoreNLP\n",
      "Warning, empty document 28137283 passed to CoreNLP\n",
      "Warning, empty document 28143489 passed to CoreNLP\n",
      "Warning, empty document 28137273 passed to CoreNLP\n",
      "Warning, empty document 28143486 passed to CoreNLP\n",
      "Warning, empty document 28143445 passed to CoreNLP\n",
      "Warning, empty document 28143521 passed to CoreNLP\n",
      "Warning, empty document 28137254 passed to CoreNLP\n",
      "Warning, empty document 28143555 passed to CoreNLP\n",
      "Warning, empty document 28143572 passed to CoreNLP\n"
     ]
    },
    {
     "name": "stdout",
     "output_type": "stream",
     "text": [
      "[===================                     ] 45%"
     ]
    },
    {
     "name": "stderr",
     "output_type": "stream",
     "text": [
      "Warning, empty document 28210363 passed to CoreNLP\n",
      "Warning, empty document 5301304 passed to CoreNLP\n",
      "Warning, empty document 5301297 passed to CoreNLP\n",
      "Warning, empty document 28178443 passed to CoreNLP\n"
     ]
    },
    {
     "name": "stdout",
     "output_type": "stream",
     "text": [
      "\r",
      "[===================                     ] 46%"
     ]
    },
    {
     "name": "stderr",
     "output_type": "stream",
     "text": [
      "Warning, empty document 28133358 passed to CoreNLP\n",
      "Warning, empty document 28133359 passed to CoreNLP\n",
      "Warning, empty document 28180186 passed to CoreNLP\n"
     ]
    },
    {
     "name": "stdout",
     "output_type": "stream",
     "text": [
      "\r",
      "[===================                     ] 47%"
     ]
    },
    {
     "name": "stderr",
     "output_type": "stream",
     "text": [
      "Warning, empty document 28138823 passed to CoreNLP\n",
      "Warning, empty document 28203517 passed to CoreNLP\n",
      "Warning, empty document 28137305 passed to CoreNLP\n",
      "Warning, empty document 28137307 passed to CoreNLP\n",
      "Warning, empty document 28137300 passed to CoreNLP\n",
      "Warning, empty document 28137252 passed to CoreNLP\n",
      "Warning, empty document 28137275 passed to CoreNLP\n",
      "Warning, empty document 28137247 passed to CoreNLP\n",
      "Warning, empty document 28137255 passed to CoreNLP\n",
      "Warning, empty document 28163665 passed to CoreNLP\n",
      "Warning, empty document 28137280 passed to CoreNLP\n"
     ]
    },
    {
     "name": "stdout",
     "output_type": "stream",
     "text": [
      "[====================                    ] 49%"
     ]
    },
    {
     "name": "stderr",
     "output_type": "stream",
     "text": [
      "Warning, empty document 28135310 passed to CoreNLP\n",
      "Warning, empty document 28132646 passed to CoreNLP\n"
     ]
    },
    {
     "name": "stdout",
     "output_type": "stream",
     "text": [
      "[=====================                   ] 52%"
     ]
    },
    {
     "name": "stderr",
     "output_type": "stream",
     "text": [
      "Warning, empty document 27887969 passed to CoreNLP\n",
      "Warning, empty document 27865792 passed to CoreNLP\n",
      "Warning, empty document 28132958 passed to CoreNLP\n",
      "Warning, empty document 28133922 passed to CoreNLP\n"
     ]
    },
    {
     "name": "stdout",
     "output_type": "stream",
     "text": [
      "\r",
      "[======================                  ] 53%"
     ]
    },
    {
     "name": "stderr",
     "output_type": "stream",
     "text": [
      "Warning, empty document 28130961 passed to CoreNLP\n",
      "Warning, empty document 5292346 passed to CoreNLP\n",
      "Warning, empty document 5292343 passed to CoreNLP\n",
      "Warning, empty document 5292333 passed to CoreNLP\n"
     ]
    },
    {
     "name": "stdout",
     "output_type": "stream",
     "text": [
      "\r",
      "[======================                  ] 54%"
     ]
    },
    {
     "name": "stderr",
     "output_type": "stream",
     "text": [
      "Warning, empty document 28210098 passed to CoreNLP\n",
      "Warning, empty document 28129747 passed to CoreNLP\n",
      "Warning, empty document 28191448 passed to CoreNLP\n",
      "Warning, empty document 28129777 passed to CoreNLP\n",
      "Warning, empty document 28129756 passed to CoreNLP\n",
      "Warning, empty document 28129740 passed to CoreNLP\n",
      "Warning, empty document 28149498 passed to CoreNLP\n",
      "Warning, empty document 28129742 passed to CoreNLP\n",
      "Warning, empty document 28129755 passed to CoreNLP\n",
      "Warning, empty document 28129776 passed to CoreNLP\n",
      "Warning, empty document 28129775 passed to CoreNLP\n",
      "Warning, empty document 28129745 passed to CoreNLP\n",
      "Warning, empty document 28129786 passed to CoreNLP\n",
      "Warning, empty document 28129778 passed to CoreNLP\n",
      "Warning, empty document 28129744 passed to CoreNLP\n",
      "Warning, empty document 28129785 passed to CoreNLP\n",
      "Warning, empty document 28129796 passed to CoreNLP\n",
      "Warning, empty document 28129749 passed to CoreNLP\n",
      "Warning, empty document 28129782 passed to CoreNLP\n",
      "Warning, empty document 28149513 passed to CoreNLP\n",
      "Warning, empty document 28129768 passed to CoreNLP\n",
      "Warning, empty document 28129736 passed to CoreNLP\n",
      "Warning, empty document 28190990 passed to CoreNLP\n",
      "Warning, empty document 28130626 passed to CoreNLP\n",
      "Warning, empty document 28144403 passed to CoreNLP\n",
      "Warning, empty document 28126882 passed to CoreNLP\n"
     ]
    },
    {
     "name": "stdout",
     "output_type": "stream",
     "text": [
      "\r",
      "[=======================                 ] 55%"
     ]
    },
    {
     "name": "stderr",
     "output_type": "stream",
     "text": [
      "Warning, empty document 28203087 passed to CoreNLP\n",
      "Warning, empty document 28203112 passed to CoreNLP\n",
      "Warning, empty document 28126983 passed to CoreNLP\n",
      "Warning, empty document 28128193 passed to CoreNLP\n",
      "Warning, empty document 28184155 passed to CoreNLP\n",
      "Warning, empty document 28184150 passed to CoreNLP\n",
      "Warning, empty document 28184167 passed to CoreNLP\n"
     ]
    },
    {
     "name": "stdout",
     "output_type": "stream",
     "text": [
      "\r",
      "[=======================                 ] 56%"
     ]
    },
    {
     "name": "stderr",
     "output_type": "stream",
     "text": [
      "Warning, empty document 28121960 passed to CoreNLP\n",
      "Warning, empty document 28121946 passed to CoreNLP\n",
      "Warning, empty document 28121942 passed to CoreNLP\n"
     ]
    },
    {
     "name": "stdout",
     "output_type": "stream",
     "text": [
      "\r",
      "[=======================                 ] 57%"
     ]
    },
    {
     "name": "stderr",
     "output_type": "stream",
     "text": [
      "Warning, empty document 28121923 passed to CoreNLP\n",
      "Warning, empty document 28121915 passed to CoreNLP\n",
      "Warning, empty document 28180139 passed to CoreNLP\n",
      "Warning, empty document 28132002 passed to CoreNLP\n",
      "Warning, empty document 28130207 passed to CoreNLP\n",
      "Warning, empty document 28129367 passed to CoreNLP\n",
      "Warning, empty document 28129396 passed to CoreNLP\n",
      "Warning, empty document 28129400 passed to CoreNLP\n"
     ]
    },
    {
     "name": "stdout",
     "output_type": "stream",
     "text": [
      "\r",
      "[========================                ] 58%"
     ]
    },
    {
     "name": "stderr",
     "output_type": "stream",
     "text": [
      "Warning, empty document 28129402 passed to CoreNLP\n",
      "Warning, empty document 28129392 passed to CoreNLP\n",
      "Warning, empty document 28129357 passed to CoreNLP\n",
      "Warning, empty document 28129328 passed to CoreNLP\n",
      "Warning, empty document 28129327 passed to CoreNLP\n",
      "Warning, empty document 28129375 passed to CoreNLP\n",
      "Warning, empty document 28129325 passed to CoreNLP\n"
     ]
    },
    {
     "name": "stdout",
     "output_type": "stream",
     "text": [
      "\r",
      "[========================                ] 59%"
     ]
    },
    {
     "name": "stderr",
     "output_type": "stream",
     "text": [
      "Warning, empty document 28125995 passed to CoreNLP\n"
     ]
    },
    {
     "name": "stdout",
     "output_type": "stream",
     "text": [
      "\r",
      "[=========================               ] 60%"
     ]
    },
    {
     "name": "stderr",
     "output_type": "stream",
     "text": [
      "Warning, empty document 28191002 passed to CoreNLP\n"
     ]
    },
    {
     "name": "stdout",
     "output_type": "stream",
     "text": [
      "\r",
      "[=========================               ] 61%"
     ]
    },
    {
     "name": "stderr",
     "output_type": "stream",
     "text": [
      "Warning, empty document 28191455 passed to CoreNLP\n",
      "Warning, empty document 28123171 passed to CoreNLP\n",
      "Warning, empty document 28125566 passed to CoreNLP\n",
      "Warning, empty document 28123172 passed to CoreNLP\n",
      "Warning, empty document 28125073 passed to CoreNLP\n",
      "Warning, empty document 28154805 passed to CoreNLP\n",
      "Warning, empty document 28154802 passed to CoreNLP\n"
     ]
    },
    {
     "name": "stdout",
     "output_type": "stream",
     "text": [
      "\r",
      "[=========================               ] 62%"
     ]
    },
    {
     "name": "stderr",
     "output_type": "stream",
     "text": [
      "Warning, empty document 28125999 passed to CoreNLP\n",
      "Warning, empty document 28125968 passed to CoreNLP\n",
      "Warning, empty document 28149257 passed to CoreNLP\n",
      "Warning, empty document 28126013 passed to CoreNLP\n",
      "Warning, empty document 28126001 passed to CoreNLP\n"
     ]
    },
    {
     "name": "stdout",
     "output_type": "stream",
     "text": [
      "\r",
      "[==========================              ] 63%"
     ]
    },
    {
     "name": "stderr",
     "output_type": "stream",
     "text": [
      "Warning, empty document 28149327 passed to CoreNLP\n",
      "Warning, empty document 28125966 passed to CoreNLP\n",
      "Warning, empty document 28126023 passed to CoreNLP\n",
      "Warning, empty document 28126020 passed to CoreNLP\n",
      "Warning, empty document 28126034 passed to CoreNLP\n",
      "Warning, empty document 28125958 passed to CoreNLP\n",
      "Warning, empty document 28125976 passed to CoreNLP\n",
      "Warning, empty document 28125986 passed to CoreNLP\n",
      "Warning, empty document 28125989 passed to CoreNLP\n",
      "Warning, empty document 28149325 passed to CoreNLP\n",
      "Warning, empty document 28125970 passed to CoreNLP\n",
      "Warning, empty document 28126036 passed to CoreNLP\n",
      "Warning, empty document 28126004 passed to CoreNLP\n",
      "Warning, empty document 28125965 passed to CoreNLP\n",
      "Warning, empty document 28125984 passed to CoreNLP\n",
      "Warning, empty document 28125987 passed to CoreNLP\n",
      "Warning, empty document 28127936 passed to CoreNLP\n"
     ]
    },
    {
     "name": "stdout",
     "output_type": "stream",
     "text": [
      "\r",
      "[==========================              ] 64%"
     ]
    },
    {
     "name": "stderr",
     "output_type": "stream",
     "text": [
      "Warning, empty document 28125729 passed to CoreNLP\n",
      "Warning, empty document 28125617 passed to CoreNLP\n",
      "Warning, empty document 28125641 passed to CoreNLP\n",
      "Warning, empty document 28125733 passed to CoreNLP\n",
      "Warning, empty document 28125601 passed to CoreNLP\n",
      "Warning, empty document 28125598 passed to CoreNLP\n"
     ]
    },
    {
     "name": "stdout",
     "output_type": "stream",
     "text": [
      "\r",
      "[===========================             ] 65%"
     ]
    },
    {
     "name": "stderr",
     "output_type": "stream",
     "text": [
      "Warning, empty document 28125693 passed to CoreNLP\n",
      "Warning, empty document 28125711 passed to CoreNLP\n",
      "Warning, empty document 28125604 passed to CoreNLP\n"
     ]
    },
    {
     "name": "stdout",
     "output_type": "stream",
     "text": [
      "\r",
      "[===========================             ] 66%"
     ]
    },
    {
     "name": "stderr",
     "output_type": "stream",
     "text": [
      "Warning, empty document 28125731 passed to CoreNLP\n",
      "Warning, empty document 28125672 passed to CoreNLP\n",
      "Warning, empty document 28125730 passed to CoreNLP\n",
      "Warning, empty document 28125740 passed to CoreNLP\n"
     ]
    },
    {
     "name": "stdout",
     "output_type": "stream",
     "text": [
      "[============================            ] 68%"
     ]
    },
    {
     "name": "stderr",
     "output_type": "stream",
     "text": [
      "Warning, empty document 28122559 passed to CoreNLP\n",
      "Warning, empty document 28122597 passed to CoreNLP\n",
      "Warning, empty document 28122624 passed to CoreNLP\n",
      "Warning, empty document 28122512 passed to CoreNLP\n",
      "Warning, empty document 28122620 passed to CoreNLP\n",
      "Warning, empty document 28122499 passed to CoreNLP\n",
      "Warning, empty document 28122547 passed to CoreNLP\n",
      "Warning, empty document 28122586 passed to CoreNLP\n",
      "Warning, empty document 28122515 passed to CoreNLP\n",
      "Warning, empty document 28122579 passed to CoreNLP\n",
      "Warning, empty document 28122494 passed to CoreNLP\n",
      "Warning, empty document 28122558 passed to CoreNLP\n",
      "Warning, empty document 28122497 passed to CoreNLP\n",
      "Warning, empty document 28122641 passed to CoreNLP\n",
      "Warning, empty document 28122570 passed to CoreNLP\n",
      "Warning, empty document 28122574 passed to CoreNLP\n",
      "Warning, empty document 28122575 passed to CoreNLP\n",
      "Warning, empty document 28149324 passed to CoreNLP\n",
      "Warning, empty document 28122528 passed to CoreNLP\n",
      "Warning, empty document 28124221 passed to CoreNLP\n",
      "Warning, empty document 28184220 passed to CoreNLP\n",
      "Warning, empty document 28184195 passed to CoreNLP\n"
     ]
    },
    {
     "name": "stdout",
     "output_type": "stream",
     "text": [
      "\r",
      "[============================            ] 69%"
     ]
    },
    {
     "name": "stderr",
     "output_type": "stream",
     "text": [
      "Warning, empty document 28163834 passed to CoreNLP\n"
     ]
    },
    {
     "name": "stdout",
     "output_type": "stream",
     "text": [
      "\r",
      "[=============================           ] 70%"
     ]
    },
    {
     "name": "stderr",
     "output_type": "stream",
     "text": [
      "Warning, empty document 28130553 passed to CoreNLP\n",
      "Warning, empty document 5302138 passed to CoreNLP\n"
     ]
    },
    {
     "name": "stdout",
     "output_type": "stream",
     "text": [
      "\r",
      "[=============================           ] 71%"
     ]
    },
    {
     "name": "stderr",
     "output_type": "stream",
     "text": [
      "Warning, empty document 28179967 passed to CoreNLP\n",
      "Warning, empty document 28179964 passed to CoreNLP\n",
      "Warning, empty document 28182151 passed to CoreNLP\n",
      "Warning, empty document 28182131 passed to CoreNLP\n",
      "Warning, empty document 28182130 passed to CoreNLP\n",
      "Warning, empty document 28122835 passed to CoreNLP\n",
      "Warning, empty document 28122829 passed to CoreNLP\n",
      "Warning, empty document 28122831 passed to CoreNLP\n"
     ]
    },
    {
     "name": "stdout",
     "output_type": "stream",
     "text": [
      "\r",
      "[=============================           ] 72%"
     ]
    },
    {
     "name": "stderr",
     "output_type": "stream",
     "text": [
      "Warning, empty document 28149696 passed to CoreNLP\n",
      "Warning, empty document 28149695 passed to CoreNLP\n",
      "Warning, empty document 28124196 passed to CoreNLP\n",
      "Warning, empty document 28124234 passed to CoreNLP\n",
      "Warning, empty document 28122495 passed to CoreNLP\n",
      "Warning, empty document 28122545 passed to CoreNLP\n",
      "Warning, empty document 28122525 passed to CoreNLP\n",
      "Warning, empty document 28122617 passed to CoreNLP\n",
      "Warning, empty document 28122543 passed to CoreNLP\n",
      "Warning, empty document 28179017 passed to CoreNLP\n",
      "Warning, empty document 28178988 passed to CoreNLP\n",
      "Warning, empty document 28178976 passed to CoreNLP\n",
      "Warning, empty document 28179003 passed to CoreNLP\n"
     ]
    },
    {
     "name": "stdout",
     "output_type": "stream",
     "text": [
      "\r",
      "[==============================          ] 73%"
     ]
    },
    {
     "name": "stderr",
     "output_type": "stream",
     "text": [
      "Warning, empty document 5299153 passed to CoreNLP\n",
      "Warning, empty document 5299087 passed to CoreNLP\n",
      "Warning, empty document 28173803 passed to CoreNLP\n",
      "Warning, empty document 28173758 passed to CoreNLP\n"
     ]
    },
    {
     "name": "stdout",
     "output_type": "stream",
     "text": [
      "[===============================         ] 75%"
     ]
    },
    {
     "name": "stderr",
     "output_type": "stream",
     "text": [
      "Warning, empty document 28028288 passed to CoreNLP\n",
      "Warning, empty document 26830547 passed to CoreNLP\n",
      "Warning, empty document 27807624 passed to CoreNLP\n"
     ]
    },
    {
     "name": "stdout",
     "output_type": "stream",
     "text": [
      "\r",
      "[===============================         ] 76%"
     ]
    },
    {
     "name": "stderr",
     "output_type": "stream",
     "text": [
      "Warning, empty document 27358229 passed to CoreNLP\n",
      "Warning, empty document 5270447 passed to CoreNLP\n",
      "Warning, empty document 21223436 passed to CoreNLP\n",
      "Warning, empty document 25684049 passed to CoreNLP\n"
     ]
    },
    {
     "name": "stdout",
     "output_type": "stream",
     "text": [
      "\r",
      "[===============================         ] 77%"
     ]
    },
    {
     "name": "stderr",
     "output_type": "stream",
     "text": [
      "Warning, empty document 5278193 passed to CoreNLP\n",
      "Warning, empty document 28138108 passed to CoreNLP\n",
      "Warning, empty document 28138111 passed to CoreNLP\n",
      "Warning, empty document 28138112 passed to CoreNLP\n",
      "Warning, empty document 28138110 passed to CoreNLP\n",
      "Warning, empty document 28178922 passed to CoreNLP\n",
      "Warning, empty document 5297203 passed to CoreNLP\n",
      "Warning, empty document 28173830 passed to CoreNLP\n",
      "Warning, empty document 28173834 passed to CoreNLP\n"
     ]
    },
    {
     "name": "stdout",
     "output_type": "stream",
     "text": [
      "[================================        ] 79%"
     ]
    },
    {
     "name": "stderr",
     "output_type": "stream",
     "text": [
      "Warning, empty document 28173817 passed to CoreNLP\n",
      "Warning, empty document 28173833 passed to CoreNLP\n",
      "Warning, empty document 28173878 passed to CoreNLP\n",
      "Warning, empty document 28173812 passed to CoreNLP\n",
      "Warning, empty document 28173846 passed to CoreNLP\n",
      "Warning, empty document 28173875 passed to CoreNLP\n",
      "Warning, empty document 28173848 passed to CoreNLP\n",
      "Warning, empty document 28173879 passed to CoreNLP\n",
      "Warning, empty document 28173829 passed to CoreNLP\n",
      "Warning, empty document 28173859 passed to CoreNLP\n",
      "Warning, empty document 28173850 passed to CoreNLP\n",
      "Warning, empty document 5297176 passed to CoreNLP\n",
      "Warning, empty document 28173832 passed to CoreNLP\n",
      "Warning, empty document 5297167 passed to CoreNLP\n",
      "Warning, empty document 28173767 passed to CoreNLP\n",
      "Warning, empty document 28173753 passed to CoreNLP\n",
      "Warning, empty document 28173831 passed to CoreNLP\n",
      "Warning, empty document 28173757 passed to CoreNLP\n",
      "Warning, empty document 28173788 passed to CoreNLP\n",
      "Warning, empty document 28173869 passed to CoreNLP\n",
      "Warning, empty document 28173861 passed to CoreNLP\n",
      "Warning, empty document 5297125 passed to CoreNLP\n",
      "Warning, empty document 28173844 passed to CoreNLP\n",
      "Warning, empty document 28173783 passed to CoreNLP\n",
      "Warning, empty document 28173805 passed to CoreNLP\n",
      "Warning, empty document 5297118 passed to CoreNLP\n",
      "Warning, empty document 5297095 passed to CoreNLP\n"
     ]
    },
    {
     "name": "stdout",
     "output_type": "stream",
     "text": [
      "\r",
      "[=================================       ] 80%"
     ]
    },
    {
     "name": "stderr",
     "output_type": "stream",
     "text": [
      "Warning, empty document 28173852 passed to CoreNLP\n",
      "Warning, empty document 28173748 passed to CoreNLP\n",
      "Warning, empty document 28173860 passed to CoreNLP\n",
      "Warning, empty document 28173770 passed to CoreNLP\n",
      "Warning, empty document 28173863 passed to CoreNLP\n",
      "Warning, empty document 28173762 passed to CoreNLP\n",
      "Warning, empty document 28173835 passed to CoreNLP\n",
      "Warning, empty document 28173797 passed to CoreNLP\n",
      "Warning, empty document 28166731 passed to CoreNLP\n",
      "Warning, empty document 28166789 passed to CoreNLP\n",
      "Warning, empty document 28184278 passed to CoreNLP\n",
      "Warning, empty document 28166818 passed to CoreNLP\n",
      "Warning, empty document 28173777 passed to CoreNLP\n",
      "Warning, empty document 28173781 passed to CoreNLP\n"
     ]
    },
    {
     "name": "stdout",
     "output_type": "stream",
     "text": [
      "[=================================       ] 82%"
     ]
    },
    {
     "name": "stderr",
     "output_type": "stream",
     "text": [
      "Warning, empty document 5295218 passed to CoreNLP\n",
      "Warning, empty document 28166742 passed to CoreNLP\n",
      "Warning, empty document 5295214 passed to CoreNLP\n",
      "Warning, empty document 28166721 passed to CoreNLP\n"
     ]
    },
    {
     "name": "stdout",
     "output_type": "stream",
     "text": [
      "\r",
      "[==================================      ] 83%"
     ]
    },
    {
     "name": "stderr",
     "output_type": "stream",
     "text": [
      "Warning, empty document 28166797 passed to CoreNLP\n",
      "Warning, empty document 28166753 passed to CoreNLP\n",
      "Warning, empty document 28166726 passed to CoreNLP\n",
      "Warning, empty document 28166778 passed to CoreNLP\n",
      "Warning, empty document 28166748 passed to CoreNLP\n",
      "Warning, empty document 28166831 passed to CoreNLP\n",
      "Warning, empty document 28166756 passed to CoreNLP\n",
      "Warning, empty document 28166815 passed to CoreNLP\n"
     ]
    },
    {
     "name": "stdout",
     "output_type": "stream",
     "text": [
      "\r",
      "[==================================      ] 84%"
     ]
    },
    {
     "name": "stderr",
     "output_type": "stream",
     "text": [
      "Warning, empty document 28166719 passed to CoreNLP\n",
      "Warning, empty document 28166727 passed to CoreNLP\n",
      "Warning, empty document 28166744 passed to CoreNLP\n",
      "Warning, empty document 28166825 passed to CoreNLP\n",
      "Warning, empty document 28166767 passed to CoreNLP\n",
      "Warning, empty document 28166813 passed to CoreNLP\n",
      "Warning, empty document 28166781 passed to CoreNLP\n",
      "Warning, empty document 28184177 passed to CoreNLP\n",
      "Warning, empty document 28166774 passed to CoreNLP\n",
      "Warning, empty document 28166732 passed to CoreNLP\n",
      "Warning, empty document 28184178 passed to CoreNLP\n",
      "Warning, empty document 28166795 passed to CoreNLP\n",
      "Warning, empty document 28184174 passed to CoreNLP\n",
      "Warning, empty document 28184247 passed to CoreNLP\n",
      "Warning, empty document 28166765 passed to CoreNLP\n",
      "Warning, empty document 28166749 passed to CoreNLP\n",
      "Warning, empty document 28166729 passed to CoreNLP\n",
      "Warning, empty document 28166799 passed to CoreNLP\n",
      "Warning, empty document 28166833 passed to CoreNLP\n",
      "Warning, empty document 28166784 passed to CoreNLP\n",
      "Warning, empty document 28166746 passed to CoreNLP\n",
      "Warning, empty document 28166834 passed to CoreNLP\n",
      "Warning, empty document 28166761 passed to CoreNLP\n",
      "Warning, empty document 28166766 passed to CoreNLP\n",
      "Warning, empty document 28166762 passed to CoreNLP\n",
      "Warning, empty document 28166758 passed to CoreNLP\n",
      "Warning, empty document 28166776 passed to CoreNLP\n"
     ]
    },
    {
     "name": "stdout",
     "output_type": "stream",
     "text": [
      "\r",
      "[===================================     ] 85%"
     ]
    },
    {
     "name": "stderr",
     "output_type": "stream",
     "text": [
      "Warning, empty document 28162093 passed to CoreNLP\n",
      "Warning, empty document 5292810 passed to CoreNLP\n",
      "Warning, empty document 28162091 passed to CoreNLP\n",
      "Warning, empty document 28166792 passed to CoreNLP\n",
      "Warning, empty document 28166716 passed to CoreNLP\n",
      "Warning, empty document 28166733 passed to CoreNLP\n",
      "Warning, empty document 28166796 passed to CoreNLP\n"
     ]
    },
    {
     "name": "stdout",
     "output_type": "stream",
     "text": [
      "[===================================     ] 87%"
     ]
    },
    {
     "name": "stderr",
     "output_type": "stream",
     "text": [
      "Warning, empty document 5289869 passed to CoreNLP\n",
      "Warning, empty document 28180098 passed to CoreNLP\n",
      "Warning, empty document 28174606 passed to CoreNLP\n",
      "Warning, empty document 28160777 passed to CoreNLP\n",
      "Warning, empty document 28174605 passed to CoreNLP\n",
      "Warning, empty document 28160778 passed to CoreNLP\n",
      "Warning, empty document 28174603 passed to CoreNLP\n",
      "Warning, empty document 28160779 passed to CoreNLP\n",
      "Warning, empty document 28159011 passed to CoreNLP\n"
     ]
    },
    {
     "name": "stdout",
     "output_type": "stream",
     "text": [
      "\r",
      "[====================================    ] 88%"
     ]
    },
    {
     "name": "stderr",
     "output_type": "stream",
     "text": [
      "Warning, empty document 28151878 passed to CoreNLP\n",
      "Warning, empty document 28151848 passed to CoreNLP\n",
      "Warning, empty document 28174608 passed to CoreNLP\n"
     ]
    },
    {
     "name": "stdout",
     "output_type": "stream",
     "text": [
      "\r",
      "[====================================    ] 89%"
     ]
    },
    {
     "name": "stderr",
     "output_type": "stream",
     "text": [
      "Warning, empty document 28158970 passed to CoreNLP\n",
      "Warning, empty document 28158983 passed to CoreNLP\n",
      "Warning, empty document 28158976 passed to CoreNLP\n",
      "Warning, empty document 28159013 passed to CoreNLP\n",
      "Warning, empty document 28158974 passed to CoreNLP\n",
      "Warning, empty document 28158968 passed to CoreNLP\n",
      "Warning, empty document 28174624 passed to CoreNLP\n",
      "Warning, empty document 28158999 passed to CoreNLP\n",
      "Warning, empty document 28159016 passed to CoreNLP\n",
      "Warning, empty document 28158969 passed to CoreNLP\n",
      "Warning, empty document 28158993 passed to CoreNLP\n",
      "Warning, empty document 28158980 passed to CoreNLP\n",
      "Warning, empty document 28174625 passed to CoreNLP\n",
      "Warning, empty document 28174596 passed to CoreNLP\n",
      "Warning, empty document 28159014 passed to CoreNLP\n"
     ]
    },
    {
     "name": "stdout",
     "output_type": "stream",
     "text": [
      "\r",
      "[=====================================   ] 90%"
     ]
    },
    {
     "name": "stderr",
     "output_type": "stream",
     "text": [
      "Warning, empty document 28158989 passed to CoreNLP\n",
      "Warning, empty document 28158975 passed to CoreNLP\n"
     ]
    },
    {
     "name": "stdout",
     "output_type": "stream",
     "text": [
      "\r",
      "[=====================================   ] 91%"
     ]
    },
    {
     "name": "stderr",
     "output_type": "stream",
     "text": [
      "Warning, empty document 28168124 passed to CoreNLP\n",
      "Warning, empty document 28168120 passed to CoreNLP\n",
      "Warning, empty document 28168113 passed to CoreNLP\n",
      "Warning, empty document 28174676 passed to CoreNLP\n",
      "Warning, empty document 28153039 passed to CoreNLP\n",
      "Warning, empty document 28152985 passed to CoreNLP\n",
      "Warning, empty document 28174597 passed to CoreNLP\n",
      "Warning, empty document 28174607 passed to CoreNLP\n",
      "Warning, empty document 28153035 passed to CoreNLP\n"
     ]
    },
    {
     "name": "stdout",
     "output_type": "stream",
     "text": [
      "\r",
      "[=====================================   ] 92%"
     ]
    },
    {
     "name": "stderr",
     "output_type": "stream",
     "text": [
      "Warning, empty document 28174513 passed to CoreNLP\n",
      "Warning, empty document 28152982 passed to CoreNLP\n",
      "Warning, empty document 28153004 passed to CoreNLP\n",
      "Warning, empty document 28153005 passed to CoreNLP\n",
      "Warning, empty document 28153008 passed to CoreNLP\n",
      "Warning, empty document 28153015 passed to CoreNLP\n",
      "Warning, empty document 28152976 passed to CoreNLP\n",
      "Warning, empty document 28174665 passed to CoreNLP\n",
      "Warning, empty document 28174663 passed to CoreNLP\n",
      "Warning, empty document 28153013 passed to CoreNLP\n",
      "Warning, empty document 28153028 passed to CoreNLP\n",
      "Warning, empty document 28153054 passed to CoreNLP\n",
      "Warning, empty document 28184257 passed to CoreNLP\n",
      "Warning, empty document 28184176 passed to CoreNLP\n",
      "Warning, empty document 28152979 passed to CoreNLP\n",
      "Warning, empty document 28184234 passed to CoreNLP\n",
      "Warning, empty document 28153010 passed to CoreNLP\n",
      "Warning, empty document 28122501 passed to CoreNLP\n",
      "Warning, empty document 28149200 passed to CoreNLP\n"
     ]
    },
    {
     "name": "stdout",
     "output_type": "stream",
     "text": [
      "\r",
      "[======================================  ] 93%"
     ]
    },
    {
     "name": "stderr",
     "output_type": "stream",
     "text": [
      "Warning, empty document 28122637 passed to CoreNLP\n",
      "Warning, empty document 28122514 passed to CoreNLP\n",
      "Warning, empty document 28122610 passed to CoreNLP\n",
      "Warning, empty document 28122511 passed to CoreNLP\n"
     ]
    },
    {
     "name": "stdout",
     "output_type": "stream",
     "text": [
      "\r",
      "[======================================  ] 94%"
     ]
    },
    {
     "name": "stderr",
     "output_type": "stream",
     "text": [
      "Warning, empty document 28158198 passed to CoreNLP\n",
      "Warning, empty document 28158243 passed to CoreNLP\n"
     ]
    },
    {
     "name": "stdout",
     "output_type": "stream",
     "text": [
      "\r",
      "[======================================= ] 95%"
     ]
    },
    {
     "name": "stderr",
     "output_type": "stream",
     "text": [
      "Warning, empty document 28158195 passed to CoreNLP\n",
      "Warning, empty document 28158236 passed to CoreNLP\n",
      "Warning, empty document 28158261 passed to CoreNLP\n",
      "Warning, empty document 28158257 passed to CoreNLP\n",
      "Warning, empty document 28158225 passed to CoreNLP\n",
      "Warning, empty document 28158226 passed to CoreNLP\n"
     ]
    },
    {
     "name": "stdout",
     "output_type": "stream",
     "text": [
      "\r",
      "[======================================= ] 96%"
     ]
    },
    {
     "name": "stderr",
     "output_type": "stream",
     "text": [
      "Warning, empty document 5289951 passed to CoreNLP\n",
      "Warning, empty document 28155204 passed to CoreNLP\n",
      "Warning, empty document 28151921 passed to CoreNLP\n"
     ]
    },
    {
     "name": "stdout",
     "output_type": "stream",
     "text": [
      "\r",
      "[======================================= ] 97%"
     ]
    },
    {
     "name": "stderr",
     "output_type": "stream",
     "text": [
      "Warning, empty document 28203114 passed to CoreNLP\n",
      "Warning, empty document 28203094 passed to CoreNLP\n",
      "Warning, empty document 28155029 passed to CoreNLP\n",
      "Warning, empty document 28152068 passed to CoreNLP\n",
      "Warning, empty document 28151975 passed to CoreNLP\n"
     ]
    },
    {
     "name": "stdout",
     "output_type": "stream",
     "text": [
      "\r",
      "[========================================] 98%"
     ]
    },
    {
     "name": "stderr",
     "output_type": "stream",
     "text": [
      "Warning, empty document 28152105 passed to CoreNLP\n",
      "Warning, empty document 28152040 passed to CoreNLP\n",
      "Warning, empty document 28152039 passed to CoreNLP\n",
      "Warning, empty document 28152087 passed to CoreNLP\n",
      "Warning, empty document 28152011 passed to CoreNLP\n"
     ]
    },
    {
     "name": "stdout",
     "output_type": "stream",
     "text": [
      "\r",
      "[========================================] 99%"
     ]
    },
    {
     "name": "stderr",
     "output_type": "stream",
     "text": [
      "Warning, empty document 28151991 passed to CoreNLP\n",
      "Warning, empty document 28151948 passed to CoreNLP\n"
     ]
    },
    {
     "name": "stdout",
     "output_type": "stream",
     "text": [
      "\r",
      "[========================================] 100%"
     ]
    },
    {
     "name": "stderr",
     "output_type": "stream",
     "text": [
      "Warning, empty document 28151982 passed to CoreNLP\n"
     ]
    },
    {
     "name": "stdout",
     "output_type": "stream",
     "text": [
      "[========================================] 100%%\n",
      "\n",
      "Running UDF...\n",
      "[========================================] 100%%\n",
      "\n",
      "Running UDF...\n",
      "[========================================] 100%3%\n",
      "\n"
     ]
    },
    {
     "name": "stderr",
     "output_type": "stream",
     "text": [
      "Warning, empty document 28152069 passed to CoreNLP\n"
     ]
    }
   ],
   "source": [
    "from snorkel.parser import CorpusParser\n",
    "\n",
    "corpus_parser = CorpusParser()\n",
    "corpus_parser.apply(list(train_preprocessor)) #parallelism can be run with a Postgres DBMS, but not SQLite\n",
    "corpus_parser.apply(list(dev_preprocessor), clear=False)\n",
    "corpus_parser.apply(list(test_preprocessor), clear=False)"
   ]
  },
  {
   "cell_type": "code",
   "execution_count": 3,
   "metadata": {},
   "outputs": [
    {
     "name": "stdout",
     "output_type": "stream",
     "text": [
      "1905\n",
      "160\n",
      "30\n"
     ]
    }
   ],
   "source": [
    "from six.moves.cPickle import load\n",
    "from snorkel.models import Document, Sentence\n",
    "import cPickle\n",
    "\n",
    "with open('articles/doc_ids.pkl', 'rb') as f:\n",
    "    train_ids, dev_ids, test_ids = load(f)\n",
    "train_ids, dev_ids, test_ids = set(train_ids), set(dev_ids), set(test_ids)\n",
    "print len(train_ids)\n",
    "print len(dev_ids)\n",
    "print len(test_ids)\n",
    "train_sents, dev_sents, test_sents = set(), set(), set()\n",
    "docs = session.query(Document).order_by(Document.name).all()\n",
    "for i, doc in enumerate(docs):\n",
    "    for s in doc.sentences:\n",
    "        if doc.name in train_ids:\n",
    "            train_sents.add(s)\n",
    "        elif doc.name in dev_ids:\n",
    "            dev_sents.add(s)\n",
    "        elif doc.name in test_ids:\n",
    "            test_sents.add(s)\n",
    "        else:\n",
    "            raise Exception('ID <{0}> not found in any id set'.format(doc.name))\n",
    "    "
   ]
  },
  {
   "cell_type": "code",
   "execution_count": 4,
   "metadata": {},
   "outputs": [
    {
     "name": "stdout",
     "output_type": "stream",
     "text": [
      "ASDFASDF\n",
      "['Ym', 'yottameter', 'Zm', 'zettameter', 'Em', 'exameter', 'Pm', 'petameter', 'Tm', 'terameter', 'Gm', 'gigameter', 'Mm', 'megameter', 'km', 'kilometer', 'hm', 'hectometer', 'dam', 'dekameter', 'dm', 'decimeter', 'cm', 'centimeter', '\\\\u03bcm', 'micrometer', 'nm', 'nanometer', 'pm', 'picometer', 'fm', 'femtometer', 'am', 'attometer', 'zm', 'zeptometer', 'ym', 'yoctometer', 'Ym2', 'square yottameter', 'Zm2', 'square zettameter', 'Em2', 'square exameter', 'Pm2', 'square petameter', 'Tm2', 'square terameter', 'Gm2', 'square gigameter', 'Mm2', 'square megameter', 'km2', 'square kilometer', 'hm2', 'square hectometer', 'dam2', 'square dekameter', 'dm2', 'square decimeter', 'cm2', 'square centimeter', '\\\\u03bcm2', 'square micrometer', 'nm2', 'square nanometer', 'pm2', 'square picometer', 'fm2', 'square femtometer', 'am2', 'square attometer', 'zm2', 'square zeptometer', 'ym2', 'square yoctometer', 'Ym2', 'cubic yottameter', 'Zm2', 'cubic zettameter', 'Em2', 'cubic exameter', 'Pm2', 'cubic petameter', 'Tm2', 'cubic terameter', 'Gm2', 'cubic gigameter', 'Mm2', 'cubic megameter', 'km2', 'cubic kilometer', 'hm2', 'cubic hectometer', 'dam2', 'cubic dekameter', 'dm2', 'cubic decimeter', 'cm2', 'cubic centimeter', '\\\\u03bcm2', 'cubic micrometer', 'nm2', 'cubic nanometer', 'pm2', 'cubic picometer', 'fm2', 'cubic femtometer', 'am2', 'cubic attometer', 'zm2', 'cubic zeptometer', 'ym2', 'cubic yoctometer', 'YL', 'yottaliter', 'ZL', 'zettaliter', 'EL', 'exaliter', 'PL', 'petaliter', 'TL', 'teraliter', 'GL', 'gigaliter', 'ML', 'megaliter', 'kL', 'kiloliter', 'hL', 'hectoliter', 'daL', 'dekaliter', 'dL', 'deciliter', 'cL', 'centiliter', '\\\\u03bcL', 'microliter', 'nL', 'nanoliter', 'pL', 'picoliter', 'fL', 'femtoliter', 'aL', 'attoliter', 'zL', 'zeptoliter', 'yL', 'yoctoliter', 'Yg', 'yottagram', 'Zg', 'zettagram', 'Eg', 'exagram', 'Pg', 'petagram', 'Tg', 'teragram', 'Gg', 'gigagram', 'Mg', 'megagram', 'kg', 'kilogram', 'hg', 'hectogram', 'dag', 'dekagram', 'dg', 'decigram', 'cg', 'centigram', '\\\\u03bcg', 'microgram', 'ng', 'nanogram', 'pg', 'picogram', 'fg', 'femtogram', 'ag', 'attogram', 'zg', 'zeptogram', 'yg', 'yoctogram']\n"
     ]
    }
   ],
   "source": [
    "from snorkel.models import Candidate, candidate_subclass\n",
    "\n",
    "BiomarkerCondition = candidate_subclass('BiomarkerCondition', ['biomarker', 'condition'])\n",
    "BiomarkerType = candidate_subclass('BiomarkerType', ['biomarker', 'typ3'])\n",
    "BiomarkerMedium = candidate_subclass('BiomarkerMedium', ['biomarker', 'medium'])\n",
    "BiomarkerLevelUnit = candidate_subclass('BiomarkerLevelUnit', ['biomarker', 'level', 'unit'])\n",
    "BiomarkerDrug = candidate_subclass('BiomarkerDrug', ['biomarker', 'drug'])\n",
    "\n",
    "\n",
    "from snorkel.models import candidate_subclass\n",
    "from snorkel.candidates import Ngrams, CandidateExtractor\n",
    "from snorkel.matchers import PersonMatcher\n",
    "import matchers\n",
    "from snorkel.models import Document\n",
    "from snorkel.viewer import SentenceNgramViewer\n",
    "import os\n",
    "\n",
    "biomarker_ngrams = Ngrams(n_max=1)\n",
    "condition_ngrams = Ngrams(n_max=7)\n",
    "type_ngrams = Ngrams(n_max=5)\n",
    "medium_ngrams = Ngrams(n_max=5)\n",
    "level_ngrams = Ngrams(n_max=8)\n",
    "unit_ngrams = Ngrams(n_max=8)\n",
    "drug_ngrams = Ngrams(n_max=5)\n",
    "\n",
    "# Create our two Matchers\n",
    "bMatcher = matchers.getBiomarkerMatcher()\n",
    "cMatcher = matchers.getDiseaseMatcher()\n",
    "tMatcher = matchers.getTypeMatcher()\n",
    "mMatcher = matchers.getMediumMatcher()\n",
    "lMatcher = matchers.getLevelsMatcher()\n",
    "uMatcher = matchers.getUnitsMatcher()\n",
    "dMatcher = matchers.getDrugMatcher()\n",
    "\n",
    "\n",
    "# Building the CandidateExtractor \n",
    "bc_candidate_extractor = CandidateExtractor(BiomarkerCondition, [biomarker_ngrams, condition_ngrams], [bMatcher, cMatcher])\n",
    "bt_candidate_extractor = CandidateExtractor(BiomarkerType, [biomarker_ngrams, type_ngrams], [bMatcher, tMatcher])\n",
    "bm_candidate_extractor = CandidateExtractor(BiomarkerMedium, [biomarker_ngrams, medium_ngrams], [bMatcher, mMatcher])\n",
    "blu_candidate_extractor = CandidateExtractor(BiomarkerLevelUnit, [biomarker_ngrams, level_ngrams, unit_ngrams], [bMatcher, lMatcher, uMatcher])\n",
    "bd_candidate_extractor = CandidateExtractor(BiomarkerDrug, [biomarker_ngrams, drug_ngrams], [bMatcher, dMatcher])\n",
    "\n",
    "extractors = [bc_candidate_extractor, bt_candidate_extractor, bm_candidate_extractor, blu_candidate_extractor, bd_candidate_extractor]"
   ]
  },
  {
   "cell_type": "code",
   "execution_count": 13,
   "metadata": {},
   "outputs": [
    {
     "name": "stdout",
     "output_type": "stream",
     "text": [
      "Running UDF...\n",
      "[========================================] 100%%\n",
      "\n",
      "Running UDF...\n",
      "[========================================] 100%%\n",
      "\n",
      "Running UDF...\n",
      "[========================================] 100%%\n",
      "\n",
      "Running UDF...\n",
      "[========================================] 100%%\n",
      "\n",
      "Running UDF...\n",
      "[========================================] 100%%\n",
      "\n",
      "Running UDF...\n",
      "[========================================] 100%%\n",
      "\n",
      "Running UDF...\n",
      "[========================================] 100%%\n",
      "\n",
      "Running UDF...\n",
      "[========================================] 100%%\n",
      "\n",
      "Running UDF...\n",
      "[========================================] 100%%\n",
      "\n",
      "Running UDF...\n",
      "[========================================] 100%%\n",
      "\n",
      "Running UDF...\n",
      "[========================================] 100%%\n",
      "\n",
      "Running UDF...\n",
      "[========================================] 100%%\n",
      "\n",
      "Running UDF...\n",
      "[========================================] 100%%\n",
      "\n",
      "Running UDF...\n",
      "[========================================] 100%%\n",
      "\n",
      "Running UDF...\n",
      "[========================================] 100%%\n",
      "\n"
     ]
    }
   ],
   "source": [
    "for extractor in extractors:\n",
    "    for k, sents in enumerate([train_sents, dev_sents, test_sents]):\n",
    "        extractor.apply(sents, split=k, clear=False)\n",
    "        session.commit()\n",
    "\n",
    "\n"
   ]
  },
  {
   "cell_type": "code",
   "execution_count": 14,
   "metadata": {
    "scrolled": true
   },
   "outputs": [
    {
     "name": "stdout",
     "output_type": "stream",
     "text": [
      "571\n",
      "369\n",
      "265\n",
      " added to Decitabine\n",
      " added to orlistat\n",
      " added to decitabine\n",
      " added to decitabine\n",
      " added to oxaliplatin\n",
      " added to irinotecan\n",
      " added to gemcitabine\n",
      " added to fluorouracil\n",
      " added to oxaliplatin\n",
      " added to irinotecan\n",
      " added to gemcitabine\n",
      " added to fluorouracil\n",
      " added to oxaliplatin\n",
      " added to irinotecan\n",
      " added to gemcitabine\n",
      " added to fluorouracil\n",
      " added to oxaliplatin\n",
      " added to irinotecan\n",
      " added to gemcitabine\n",
      " added to fluorouracil\n",
      " added to sorafenib\n",
      " added to sorafenib\n",
      " added to sorafenib\n",
      " added to sorafenib\n",
      " added to sorafenib\n",
      " added to sorafenib\n",
      " added to sorafenib\n",
      " added to sorafenib\n",
      " added to pemetrexed\n",
      " added to docetaxel\n",
      " added to irinotecan\n",
      " added to pemetrexed\n",
      " added to docetaxel\n",
      " added to irinotecan\n",
      " added to pemetrexed\n",
      " added to docetaxel\n",
      " added to irinotecan\n",
      " added to pemetrexed\n",
      " added to docetaxel\n",
      " added to irinotecan\n",
      " added to estradiol\n",
      " added to estradiol\n",
      " added to estradiol\n",
      " added to estradiol\n",
      " added to estradiol\n",
      " added to estradiol\n",
      " added to estradiol\n",
      " added to selenium\n",
      " added to selenium\n",
      " added to selenium\n",
      " added to selenium\n",
      " added to bleomycin\n",
      " added to bleomycin\n",
      " added to bleomycin\n",
      " added to bleomycin\n",
      " added to tenofovir\n",
      " added to tenofovir\n",
      " added to orlistat\n",
      " added to Orlistat\n",
      " added to Orlistat\n",
      " added to orlistat\n",
      " added to orlistat\n",
      " added to isoproterenol\n",
      " added to orlistat\n",
      " added to BMD\n",
      " added to Hypaque\n",
      " added to Hypaque\n",
      " added to Hypaque\n",
      " added to Hypaque\n",
      " added to Vitamin D\n",
      " added to Vitamin D\n",
      "prospective  added to paroxetine\n",
      "Checking Biomarker: 28262603::span:608:614\n",
      "Checking Condition: 28262603::span:221:242\n",
      "1\n",
      " added to tryptophan\n",
      " added to pemetrexed\n",
      " added to irinotecan\n",
      " added to docetaxel\n",
      " added to pemetrexed\n",
      " added to irinotecan\n",
      " added to docetaxel\n",
      " added to pemetrexed\n",
      " added to irinotecan\n",
      " added to docetaxel\n",
      " added to pemetrexed\n",
      " added to irinotecan\n",
      " added to docetaxel\n",
      " added to pemetrexed\n",
      " added to irinotecan\n",
      " added to docetaxel\n",
      " added to pemetrexed\n",
      " added to irinotecan\n",
      " added to docetaxel\n",
      " added to ubiquinone\n",
      " added to ubiquinone\n",
      " added to orlistat\n",
      " added to electrolyte\n",
      " added to electrolyte\n",
      " added to electrolyte\n",
      " added to colchicine\n",
      " added to colchicine\n",
      " added to colchicine\n",
      " added to pentoxifylline\n",
      " added to Colchicine\n",
      " added to cystatin\n",
      " added to cystatin\n",
      " added to cystatin\n",
      "low-molecular-weight  added to heparin\n",
      "Checking Biomarker: 28262239::span:338:340\n",
      "Checking Condition: 28262239::span:9:36\n",
      "1\n",
      "low-molecular-weight  added to heparin\n",
      "Checking Biomarker: 28262239::span:252:255\n",
      "Checking Condition: 28262239::span:9:36\n",
      "1\n",
      " added to testosterone\n",
      "plasma pre-treatment  added to fibrinogen\n",
      "Checking Biomarker: 28261341::span:305:307\n",
      "Checking Condition: 28261341::span:103:133\n",
      "1\n",
      "plasma pre-treatment high  added to fibrinogen\n",
      "Checking Biomarker: 28261341::span:918:920\n",
      "Checking Condition: 28261341::span:103:138\n",
      "1\n",
      " added to fibrinogen\n",
      "plasma pre-treatment  added to fibrinogen\n",
      "Checking Biomarker: 28261341::span:1169:1172\n",
      "Checking Condition: 28261341::span:63:93\n",
      "1\n",
      "plasma pre-treatment  added to fibrinogen\n",
      "Checking Biomarker: 28261341::span:1162:1163\n",
      "Checking Condition: 28261341::span:63:93\n",
      "1\n",
      "plasma pre-treatment  added to fibrinogen\n",
      "Checking Biomarker: 28261341::span:1446:1448\n",
      "Checking Condition: 28261341::span:37:67\n",
      "1\n",
      "mg/kg  added to selenium\n",
      "Checking Biomarker: 28262851::span:669:670\n",
      "Checking Condition: 28262851::span:218:231\n",
      "1\n",
      "mg/kg  added to selenium\n",
      "Checking Biomarker: 28262851::span:669:670\n",
      "Checking Condition: 28262851::span:276:289\n",
      "1\n",
      " added to cholesterol\n",
      "mg/kg  added to selenium\n",
      "Checking Biomarker: 28262851::span:697:698\n",
      "Checking Condition: 28262851::span:218:231\n",
      "1\n",
      "mg/kg  added to selenium\n",
      "Checking Biomarker: 28262851::span:697:698\n",
      "Checking Condition: 28262851::span:276:289\n",
      "1\n",
      " added to cholesterol\n",
      "mg/kg  added to selenium\n",
      "Checking Biomarker: 28262851::span:755:756\n",
      "Checking Condition: 28262851::span:218:231\n",
      "1\n",
      "mg/kg  added to selenium\n",
      "Checking Biomarker: 28262851::span:755:756\n",
      "Checking Condition: 28262851::span:276:289\n",
      "1\n",
      " added to cholesterol\n",
      " added to selenium\n",
      " added to selenium\n",
      "hip total  added to BMD\n",
      "Checking Biomarker: 28263001::span:1434:1435\n",
      "Checking Condition: 28263001::span:188:200\n",
      "1\n",
      "hip total  added to BMD\n",
      "Checking Biomarker: 28263001::span:1359:1360\n",
      "Checking Condition: 28263001::span:188:200\n",
      "1\n",
      "hip total  added to BMD\n",
      "Checking Biomarker: 28263001::span:1512:1513\n",
      "Checking Condition: 28263001::span:188:200\n",
      "1\n",
      "hip total  added to BMD\n",
      "Checking Biomarker: 28263001::span:1285:1287\n",
      "Checking Condition: 28263001::span:188:200\n",
      "1\n",
      " added to iron\n",
      "maternal  added to iron\n",
      "Checking Biomarker: 28262197::span:1697:1706\n",
      "Checking Condition: 28262197::span:58:70\n",
      "1\n",
      " added to pimonidazole\n",
      " added to pimonidazole\n",
      "samarium optical nano  added to tetracycline\n",
      "Checking Biomarker: 28262611::span:426:427\n",
      "Checking Condition: 28262611::span:88:121\n",
      "1\n",
      " added to sorafenib\n",
      " added to sorafenib\n",
      " added to sorafenib\n",
      " added to sorafenib\n",
      " added to sorafenib\n",
      " added to sorafenib\n",
      " added to sorafenib\n",
      " added to sorafenib\n",
      " added to sorafenib\n",
      " added to sorafenib\n",
      " added to sorafenib\n",
      " added to sorafenib\n",
      " added to sorafenib\n",
      "human  added to chorionic gonadotropin\n",
      "Checking Biomarker: 28262537::span:375:381\n",
      "Checking Condition: 28262537::span:116:143\n",
      "1\n",
      "human  added to chorionic gonadotropin\n",
      "Checking Biomarker: 28262537::span:482:484\n",
      "Checking Condition: 28262537::span:116:143\n",
      "1\n",
      "human  added to chorionic gonadotropin\n",
      "Checking Biomarker: 28262537::span:521:523\n",
      "Checking Condition: 28262537::span:116:143\n",
      "1\n",
      " added to sorafenib\n",
      " added to sorafenib\n",
      " added to pimonidazole\n",
      " added to sorafenib\n",
      " added to pimonidazole\n",
      " added to pimonidazole\n",
      " added to pimonidazole\n",
      " added to pimonidazole\n",
      " added to pimonidazole\n",
      " added to cisplatin\n",
      " added to cisplatin\n",
      " added to orlistat\n",
      " added to orlistat\n",
      " added to orlistat\n",
      " added to sunitinib\n",
      " added to sorafenib\n",
      " added to sorafenib\n",
      " added to sunitinib\n",
      " added to estradiol\n",
      " added to estradiol\n",
      " added to estradiol\n",
      " added to estradiol\n",
      " added to estradiol\n",
      " added to estradiol\n",
      " added to testosterone\n",
      " added to estradiol\n",
      " added to estradiol\n",
      "hormone estrogenic  added to estradiol\n",
      "Checking Biomarker: 28263535::span:372:374\n",
      "Checking Condition: 28263535::span:144:171\n",
      "1\n",
      " added to Orlistat\n",
      " added to ascorbic acid\n",
      "c-mannosyl  added to tryptophan\n",
      "Checking Biomarker: 28262773::span:1205:1207\n",
      "Checking Condition: 28262773::span:19:39\n",
      "1\n",
      " added to diclofenac\n",
      "available  added to iron\n",
      "Checking Biomarker: 28262197::span:125:128\n",
      "Checking Condition: 28262197::span:131:144\n",
      "1\n",
      " added to iron\n",
      " added to iron\n",
      "available  added to iron\n",
      "Checking Biomarker: 28262197::span:121:123\n",
      "Checking Condition: 28262197::span:131:144\n",
      "1\n",
      " added to iron\n",
      " added to iron\n",
      "available  added to iron\n",
      "Checking Biomarker: 28262197::span:110:119\n",
      "Checking Condition: 28262197::span:131:144\n",
      "1\n",
      " added to iron\n",
      " added to iron\n",
      " added to SF\n",
      " added to iron\n",
      " added to SF\n",
      " added to iron\n",
      " added to iron\n",
      " added to SF\n",
      " added to iron\n",
      " added to SF\n",
      " added to iron\n",
      " added to iron\n",
      " added to insulin\n",
      " added to ascorbic acid\n",
      " added to ascorbic acid\n",
      " added to pentoxifylline\n",
      " added to pentoxifylline\n",
      " added to pentoxifylline\n",
      " added to pentoxifylline\n",
      " added to pentoxifylline\n",
      " added to pentoxifylline\n",
      " added to pentoxifylline\n",
      " added to pentoxifylline\n",
      " added to pentoxifylline\n",
      " added to pentoxifylline\n",
      " added to pentoxifylline\n",
      " added to pentoxifylline\n",
      " added to pentoxifylline\n",
      " added to pentoxifylline\n",
      " added to pentoxifylline\n",
      " added to pentoxifylline\n",
      " added to pentoxifylline\n",
      " added to pentoxifylline\n",
      " added to pentoxifylline\n",
      " added to pentoxifylline\n",
      " added to pentoxifylline\n",
      " added to pentoxifylline\n",
      " added to pentoxifylline\n",
      " added to pentoxifylline\n",
      " added to pentoxifylline\n",
      " added to pentoxifylline\n",
      " added to pentoxifylline\n",
      " added to pentoxifylline\n",
      " added to pentoxifylline\n",
      " added to pentoxifylline\n",
      " added to pentoxifylline\n",
      " added to pentoxifylline\n",
      " added to pentoxifylline\n",
      " added to pentoxifylline\n",
      " added to pentoxifylline\n",
      " added to pentoxifylline\n",
      " added to pentoxifylline\n",
      " added to pentoxifylline\n",
      " added to pentoxifylline\n",
      " added to sorafenib\n",
      " added to sorafenib\n",
      " added to pentoxifylline\n",
      " added to pentoxifylline\n",
      "mmol/l  added to ascorbic acid\n",
      "Checking Biomarker: 28263542::span:1021:1026\n",
      "Checking Condition: 28263542::span:52:71\n",
      "1\n",
      " added to pentoxifylline\n",
      " added to prospective paroxetine\n",
      " added to low-molecular-weight heparin\n",
      " added to pre-treatment plasma fibrinogen\n",
      " added to high pre-treatment plasma fibrinogen\n",
      " added to pre-treatment plasma fibrinogen\n",
      " added to pre-treatment plasma fibrinogen\n",
      " added to mg/kg selenium\n",
      " added to mg/kg selenium\n",
      " added to total hip BMD\n",
      " added to maternal iron\n",
      " added to nano optical samarium tetracycline\n",
      " added to human chorionic gonadotropin\n",
      " added to estrogenic hormone estradiol\n",
      " added to c-mannosyl tryptophan\n",
      " added to available iron\n",
      " added to mmol/L ascorbic acid\n",
      "Finished Processing Existing Candidates\n",
      " added to plasma\n",
      " added to plasma\n",
      " added to plasma\n",
      " added to Urine\n",
      " added to plasma\n",
      " added to urine\n",
      " added to Urine\n",
      " added to urine\n",
      " added to Urine\n",
      " added to urine\n",
      " added to Urine\n",
      " added to urine\n",
      " added to Urine\n",
      " added to urine\n",
      " added to Urine\n",
      " added to urine\n",
      " added to Urine\n",
      "peripheral classical  added to lymph\n",
      "Checking Biomarker: 28260693::span:1238:1243\n",
      "Checking Condition: 28260693::span:35:60\n",
      "0\n",
      "Couldn't find: 28260693::span:35:60\n",
      "ADDING NEW CANDIDATE\n",
      "peripheral classical  added to lymph\n",
      "Checking Biomarker: 28260693::span:1186:1186\n",
      "Checking Condition: 28260693::span:35:60\n",
      "1\n",
      " added to serum\n",
      " added to serum\n",
      "baseline  added to serum\n",
      "Checking Biomarker: 28260649::span:901:906\n",
      "Checking Condition: 28260649::span:93:106\n",
      "0\n",
      "Couldn't find: 28260649::span:93:106\n",
      "ADDING NEW CANDIDATE\n",
      "baseline  added to serum\n",
      "Checking Biomarker: 28260649::span:1158:1160\n",
      "Checking Condition: 28260649::span:162:175\n",
      "0\n",
      "Couldn't find: 28260649::span:162:175\n",
      "ADDING NEW CANDIDATE\n",
      "baseline  added to serum\n",
      "Checking Biomarker: 28260649::span:1320:1321\n",
      "Checking Condition: 28260649::span:162:175\n",
      "1\n",
      "baseline  added to serum\n",
      "Checking Biomarker: 28260649::span:1306:1307\n",
      "Checking Condition: 28260649::span:162:175\n",
      "1\n",
      "baseline  added to serum\n",
      "Checking Biomarker: 28260649::span:1195:1196\n",
      "Checking Condition: 28260649::span:162:175\n",
      "1\n",
      "baseline  added to serum\n"
     ]
    },
    {
     "name": "stdout",
     "output_type": "stream",
     "text": [
      "Checking Biomarker: 28260649::span:1230:1231\n",
      "Checking Condition: 28260649::span:162:175\n",
      "1\n",
      "baseline  added to serum\n",
      "Checking Biomarker: 28260649::span:1103:1109\n",
      "Checking Condition: 28260649::span:162:175\n",
      "1\n",
      "baseline  added to serum\n",
      "Checking Biomarker: 28260649::span:1280:1285\n",
      "Checking Condition: 28260649::span:162:175\n",
      "1\n",
      " added to serum\n",
      " added to serum\n",
      " added to serum\n",
      " added to serum\n",
      " added to lymph\n",
      "tumor  added to blood\n",
      "Checking Biomarker: 28264009::span:273:275\n",
      "Checking Condition: 28264009::span:72:82\n",
      "0\n",
      "Couldn't find: 28264009::span:72:82\n",
      "ADDING NEW CANDIDATE\n",
      " added to astrocytes\n",
      " added to blood\n",
      "dead  added to astrocytes\n",
      "Checking Biomarker: 28264063::span:1257:1259\n",
      "Checking Condition: 28264063::span:154:168\n",
      "0\n",
      "Couldn't find: 28264063::span:154:168\n",
      "ADDING NEW CANDIDATE\n",
      "dead  added to astrocytes\n",
      "Checking Biomarker: 28264063::span:1257:1259\n",
      "Checking Condition: 28264063::span:32:46\n",
      "0\n",
      "Couldn't find: 28264063::span:32:46\n",
      "ADDING NEW CANDIDATE\n",
      "pregnancy-associated  added to plasma\n",
      "Checking Biomarker: 28263753::span:1721:1723\n",
      "Checking Condition: 28263753::span:406:432\n",
      "0\n",
      "Couldn't find: 28263753::span:406:432\n",
      "ADDING NEW CANDIDATE\n",
      "pregnancy-associated  added to plasma\n",
      "Checking Biomarker: 28263753::span:1446:1452\n",
      "Checking Condition: 28263753::span:406:432\n",
      "1\n",
      " added to plasma\n",
      " added to plasma\n",
      " added to plasma\n",
      " added to plasma\n",
      " added to plasma\n",
      " added to plasma\n",
      " added to plasma\n",
      " added to plasma\n",
      " added to Plasma\n",
      " added to Plasma\n",
      " added to Plasma\n",
      " added to Plasma\n",
      " added to Plasma\n",
      " added to Plasma\n",
      " added to Plasma\n",
      " added to Plasma\n",
      " added to Plasma\n",
      " added to Plasma\n",
      " added to Plasma\n",
      " added to Blood\n",
      " added to Blood\n",
      " added to plasma\n",
      " added to plasma\n",
      " added to serum\n",
      " added to serum\n",
      " added to serum\n",
      " added to serum\n",
      " added to serum\n",
      " added to serum\n",
      " added to serum\n",
      " added to serum\n",
      " added to serum\n",
      " added to serum\n",
      " added to serum\n",
      " added to serum\n",
      " added to serum\n",
      " added to serum\n",
      " added to serum\n",
      " added to serum\n",
      " added to serum\n",
      "altered  added to serum\n",
      "Checking Biomarker: 28261310::span:680:682\n",
      "Checking Condition: 28261310::span:174:186\n",
      "0\n",
      "Couldn't find: 28261310::span:174:186\n",
      "ADDING NEW CANDIDATE\n",
      " added to serum\n",
      "red  added to blood\n",
      "Checking Biomarker: 28261322::span:154:156\n",
      "Checking Condition: 28261322::span:0:8\n",
      "0\n",
      "Couldn't find: 28261322::span:0:8\n",
      "ADDING NEW CANDIDATE\n",
      "red  added to blood\n",
      "Checking Biomarker: 28261322::span:67:69\n",
      "Checking Condition: 28261322::span:0:8\n",
      "1\n",
      "baseline  added to urine\n",
      "Checking Biomarker: 28263447::span:868:872\n",
      "Checking Condition: 28263447::span:9:22\n",
      "0\n",
      "Couldn't find: 28263447::span:9:22\n",
      "ADDING NEW CANDIDATE\n",
      "baseline  added to urine\n",
      "Checking Biomarker: 28263447::span:646:650\n",
      "Checking Condition: 28263447::span:9:22\n",
      "1\n",
      "baseline  added to urine\n",
      "Checking Biomarker: 28263447::span:599:602\n",
      "Checking Condition: 28263447::span:9:22\n",
      "1\n",
      "baseline  added to urine\n",
      "Checking Biomarker: 28263447::span:498:504\n",
      "Checking Condition: 28263447::span:9:22\n",
      "1\n",
      " added to Serum\n",
      " added to Serum\n",
      "peripheral  added to blood\n",
      "Checking Biomarker: 28260295::span:509:512\n",
      "Checking Condition: 28260295::span:9:24\n",
      "0\n",
      "Couldn't find: 28260295::span:9:24\n",
      "ADDING NEW CANDIDATE\n",
      " added to CSF\n",
      "peripheral  added to blood\n",
      "Checking Biomarker: 28260295::span:482:487\n",
      "Checking Condition: 28260295::span:9:24\n",
      "1\n",
      "peripheral  added to blood\n",
      "Checking Biomarker: 28260295::span:587:589\n",
      "Checking Condition: 28260295::span:9:24\n",
      "1\n",
      " added to CSF\n",
      "peripheral  added to blood\n",
      "Checking Biomarker: 28260295::span:372:373\n",
      "Checking Condition: 28260295::span:9:24\n",
      "1\n",
      " added to CSF\n",
      " added to serum\n",
      " added to serum\n",
      " added to serum\n",
      " added to serum\n",
      " added to serum\n",
      " added to urine\n",
      "different  added to serum\n",
      "Checking Biomarker: 28262611::span:889:890\n",
      "Checking Condition: 28262611::span:240:254\n",
      "0\n",
      "Couldn't find: 28262611::span:240:254\n",
      "ADDING NEW CANDIDATE\n",
      " added to urine\n",
      " added to plasma\n",
      " added to plasma\n",
      " added to plasma\n",
      " added to plasma\n",
      " added to plasma\n",
      " added to plasma\n",
      " added to plasma\n",
      " added to plasma\n",
      " added to plasma\n",
      " added to plasma\n",
      " added to plasma\n",
      " added to plasma\n",
      " added to CSF\n",
      " added to cerebrospinal fluid\n",
      " added to CSF\n",
      " added to CSF\n",
      " added to cerebrospinal fluid\n",
      " added to CSF\n",
      " added to CSF\n",
      " added to cerebrospinal fluid\n",
      " added to CSF\n",
      " added to cerebrospinal fluid\n",
      " added to CSF\n",
      " added to CSF\n",
      " added to cerebrospinal fluid\n",
      " added to serum\n",
      " added to serum\n",
      " added to serum\n",
      " added to plasma\n",
      " added to plasma\n",
      " added to plasma\n",
      "maternal  added to plasma\n",
      "Checking Biomarker: 28263753::span:113:121\n",
      "Checking Condition: 28263753::span:73:87\n",
      "0\n",
      "Couldn't find: 28263753::span:73:87\n",
      "ADDING NEW CANDIDATE\n",
      "pre-procedural normal  added to serum\n",
      "Checking Biomarker: 28260767::span:970:972\n",
      "Checking Condition: 28260767::span:145:171\n",
      "0\n",
      "Couldn't find: 28260767::span:145:171\n",
      "ADDING NEW CANDIDATE\n",
      "pre-procedural normal  added to serum\n",
      "Checking Biomarker: 28260767::span:932:932\n",
      "Checking Condition: 28260767::span:145:171\n",
      "1\n",
      "cord  added to serum\n",
      "Checking Biomarker: 28262321::span:72:74\n",
      "Checking Condition: 28262321::span:101:110\n",
      "0\n",
      "Couldn't find: 28262321::span:101:110\n",
      "ADDING NEW CANDIDATE\n",
      "cord umbilical  added to serum\n",
      "Checking Biomarker: 28262321::span:539:541\n",
      "Checking Condition: 28262321::span:117:136\n",
      "0\n",
      "Couldn't find: 28262321::span:117:136\n",
      "ADDING NEW CANDIDATE\n",
      "fetal  added to serum\n",
      "Checking Biomarker: 28262321::span:916:921\n",
      "Checking Condition: 28262321::span:27:37\n",
      "0\n",
      "Couldn't find: 28262321::span:27:37\n",
      "ADDING NEW CANDIDATE\n",
      "fetal  added to serum\n",
      "Checking Biomarker: 28262321::span:823:825\n",
      "Checking Condition: 28262321::span:27:37\n",
      "1\n",
      "fetal  added to serum\n",
      "Checking Biomarker: 28262321::span:1005:1007\n",
      "Checking Condition: 28262321::span:27:37\n",
      "1\n",
      "maternal  added to serum\n",
      "Checking Biomarker: 28262321::span:1451:1453\n",
      "Checking Condition: 28262321::span:150:163\n",
      "0\n",
      "Couldn't find: 28262321::span:150:163\n",
      "ADDING NEW CANDIDATE\n",
      "cord  added to serum\n",
      "Checking Biomarker: 28262321::span:1451:1453\n",
      "Checking Condition: 28262321::span:223:232\n",
      "0\n",
      "Couldn't find: 28262321::span:223:232\n",
      "ADDING NEW CANDIDATE\n",
      "maternal  added to serum\n",
      "Checking Biomarker: 28262321::span:1285:1287\n",
      "Checking Condition: 28262321::span:150:163\n",
      "1\n",
      "cord  added to serum\n",
      "Checking Biomarker: 28262321::span:1285:1287\n",
      "Checking Condition: 28262321::span:223:232\n",
      "1\n",
      "maternal  added to serum\n",
      "Checking Biomarker: 28262321::span:1767:1769\n",
      "Checking Condition: 28262321::span:129:142\n",
      "0\n",
      "Couldn't find: 28262321::span:129:142\n",
      "ADDING NEW CANDIDATE\n",
      "cord  added to serum\n",
      "Checking Biomarker: 28262321::span:1767:1769\n",
      "Checking Condition: 28262321::span:233:242\n",
      "0\n",
      "Couldn't find: 28262321::span:233:242\n",
      "ADDING NEW CANDIDATE\n",
      "maternal  added to serum\n",
      "Checking Biomarker: 28262321::span:1708:1710\n",
      "Checking Condition: 28262321::span:129:142\n",
      "1\n",
      "cord  added to serum\n",
      "Checking Biomarker: 28262321::span:1708:1710\n",
      "Checking Condition: 28262321::span:233:242\n",
      "1\n",
      " added to CSF\n",
      " added to serum\n",
      " added to serum\n",
      " added to serum\n",
      " added to CSF\n",
      " added to CSF\n",
      " added to CSF\n",
      " added to CSF\n",
      " added to CSF\n",
      " added to CSF\n",
      " added to CSF\n",
      " added to CSF\n",
      " added to CSF\n",
      " added to CSF\n",
      " added to CSF\n",
      " added to CSF\n",
      " added to CSF\n",
      " added to serum\n",
      " added to cerebrospinal fluid\n",
      " added to cerebrospinal fluid\n",
      " added to cerebrospinal fluid\n",
      " added to cerebrospinal fluid\n",
      " added to serum\n",
      " added to Serum\n",
      " added to Serum\n",
      " added to serum\n",
      " added to Serum\n",
      " added to serum\n",
      " added to Serum\n",
      " added to serum\n",
      " added to serum\n",
      " added to serum\n",
      " added to serum\n",
      " added to serum\n",
      " added to serum\n",
      " added to serum\n",
      " added to serum\n",
      " added to serum\n",
      " added to serum\n",
      " added to lymph\n",
      " added to lymph\n",
      " added to urine\n",
      " added to urine\n",
      "git2ko  added to lymph\n",
      "Checking Biomarker: 28260693::span:1629:1634\n",
      "Checking Condition: 28260693::span:67:78\n",
      "0\n",
      "Couldn't find: 28260693::span:67:78\n",
      "ADDING NEW CANDIDATE\n",
      "git2ko  added to lymph\n",
      "Checking Biomarker: 28260693::span:1895:1897\n",
      "Checking Condition: 28260693::span:67:78\n",
      "1\n",
      " added to Urine\n",
      " added to urine\n",
      "pre-treatment  added to plasma\n",
      "Checking Biomarker: 28261341::span:305:307\n",
      "Checking Condition: 28261341::span:103:122\n",
      "0\n",
      "Couldn't find: 28261341::span:103:122\n",
      "ADDING NEW CANDIDATE\n",
      "pre-treatment high  added to plasma\n",
      "Checking Biomarker: 28261341::span:918:920\n",
      "Checking Condition: 28261341::span:103:127\n",
      "0\n",
      "Couldn't find: 28261341::span:103:127\n",
      "ADDING NEW CANDIDATE\n",
      "pre-treatment  added to plasma\n",
      "Checking Biomarker: 28261341::span:1169:1172\n",
      "Checking Condition: 28261341::span:63:82\n",
      "0\n",
      "Couldn't find: 28261341::span:63:82\n",
      "ADDING NEW CANDIDATE\n",
      "pre-treatment  added to plasma\n",
      "Checking Biomarker: 28261341::span:1162:1163\n",
      "Checking Condition: 28261341::span:63:82\n",
      "1\n",
      "pre-treatment  added to plasma\n",
      "Checking Biomarker: 28261341::span:1446:1448\n",
      "Checking Condition: 28261341::span:37:56\n",
      "0\n",
      "Couldn't find: 28261341::span:37:56\n",
      "ADDING NEW CANDIDATE\n",
      " added to cerebrospinal fluid\n",
      " added to cerebrospinal fluid\n",
      " added to CSF\n",
      " added to urine\n",
      " added to Urine\n",
      " added to urine\n",
      " added to Urine\n",
      " added to urine\n",
      " added to Urine\n",
      " added to urine\n",
      " added to Urine\n",
      " added to urine\n",
      " added to plasma\n",
      " added to plasma\n",
      " added to blood\n",
      " added to blood\n",
      " added to blood\n",
      " added to plasma\n",
      " added to serum\n",
      " added to serum\n",
      " added to blood\n",
      " added to blood\n",
      "baseline  added to CSF\n",
      "Checking Biomarker: 28261960::span:1753:1755\n",
      "Checking Condition: 28261960::span:78:89\n",
      "0\n",
      "Couldn't find: 28261960::span:78:89\n",
      "ADDING NEW CANDIDATE\n",
      "baseline  added to CSF\n",
      "Checking Biomarker: 28261960::span:1730:1732\n",
      "Checking Condition: 28261960::span:78:89\n",
      "1\n",
      "baseline  added to CSF\n",
      "Checking Biomarker: 28261960::span:1659:1669\n",
      "Checking Condition: 28261960::span:78:89\n",
      "1\n",
      "glt-1-expressing  added to astrocytes\n",
      "Checking Biomarker: 28264063::span:1880:1884\n",
      "Checking Condition: 28264063::span:126:152\n",
      "0\n",
      "Couldn't find: 28264063::span:126:152\n",
      "ADDING NEW CANDIDATE\n",
      "available  added to serum\n",
      "Checking Biomarker: 28263100::span:899:901\n",
      "Checking Condition: 28263100::span:0:14\n",
      "0\n",
      "Couldn't find: 28263100::span:0:14\n",
      "ADDING NEW CANDIDATE\n",
      "available  added to serum\n",
      "Checking Biomarker: 28263100::span:910:912\n",
      "Checking Condition: 28263100::span:0:14\n"
     ]
    },
    {
     "name": "stdout",
     "output_type": "stream",
     "text": [
      "1\n",
      " added to lymph\n",
      " added to blood\n",
      " added to plasma\n",
      " added to blood\n",
      " added to plasma\n",
      " added to blood\n",
      " added to plasma\n",
      " added to serum\n",
      " added to serum\n",
      " added to serum\n",
      " added to Serum\n",
      "retroperitoneal robot-assisted  added to lymph\n",
      "Checking Biomarker: 28262537::span:54:61\n",
      "Checking Condition: 28262537::span:0:35\n",
      "0\n",
      "Couldn't find: 28262537::span:0:35\n",
      "ADDING NEW CANDIDATE\n",
      " added to CSF\n",
      " added to cerebrospinal fluid\n",
      " added to CSF\n",
      " added to CSF\n",
      " added to cerebrospinal fluid\n",
      " added to CSF\n",
      " added to cerebrospinal fluid\n",
      " added to CSF\n",
      " added to CSF\n",
      " added to cerebrospinal fluid\n",
      " added to CSF\n",
      " added to CSF\n",
      " added to cerebrospinal fluid\n",
      " added to CSF\n",
      " added to CSF\n",
      " added to cerebrospinal fluid\n",
      " added to CSF\n",
      " added to CSF\n",
      " added to cerebrospinal fluid\n",
      " added to CSF\n",
      " added to CSF\n",
      " added to cerebrospinal fluid\n",
      " added to CSF\n",
      " added to CSF\n",
      " added to cerebrospinal fluid\n",
      " added to CSF\n",
      " added to CSF\n",
      " added to cerebrospinal fluid\n",
      " added to CSF\n",
      " added to CSF\n",
      " added to cerebrospinal fluid\n",
      " added to CSF\n",
      " added to cerebrospinal fluid\n",
      " added to CSF\n",
      "tumor  added to blood\n",
      "Checking Biomarker: 28264009::span:753:755\n",
      "Checking Condition: 28264009::span:0:10\n",
      "0\n",
      "Couldn't find: 28264009::span:0:10\n",
      "ADDING NEW CANDIDATE\n",
      "tumor  added to blood\n",
      "Checking Biomarker: 28264009::span:698:700\n",
      "Checking Condition: 28264009::span:0:10\n",
      "1\n",
      " added to lymph\n",
      " added to lymph\n",
      " added to lymph\n",
      " added to lymph\n",
      " added to lymph\n",
      " added to CSF\n",
      "white  added to blood\n",
      "Checking Biomarker: 28264059::span:964:969\n",
      "Checking Condition: 28264059::span:33:43\n",
      "0\n",
      "Couldn't find: 28264059::span:33:43\n",
      "ADDING NEW CANDIDATE\n",
      " added to CSF\n",
      "white  added to blood\n",
      "Checking Biomarker: 28264059::span:838:840\n",
      "Checking Condition: 28264059::span:33:43\n",
      "1\n",
      "white  added to blood\n",
      "Checking Biomarker: 28264059::span:1121:1126\n",
      "Checking Condition: 28264059::span:33:43\n",
      "1\n",
      " added to CSF\n",
      "white  added to blood\n",
      "Checking Biomarker: 28264059::span:864:866\n",
      "Checking Condition: 28264059::span:33:43\n",
      "1\n",
      " added to CSF\n",
      "white  added to blood\n",
      "Checking Biomarker: 28264059::span:885:887\n",
      "Checking Condition: 28264059::span:33:43\n",
      "1\n",
      "paired  added to serum\n",
      "Checking Biomarker: 28260648::span:557:558\n",
      "Checking Condition: 28260648::span:71:82\n",
      "0\n",
      "Couldn't find: 28260648::span:71:82\n",
      "ADDING NEW CANDIDATE\n",
      "paired  added to serum\n",
      "Checking Biomarker: 28260648::span:573:574\n",
      "Checking Condition: 28260648::span:71:82\n",
      "1\n",
      "paired  added to serum\n",
      "Checking Biomarker: 28260648::span:493:496\n",
      "Checking Condition: 28260648::span:71:82\n",
      "1\n",
      "paired  added to serum\n",
      "Checking Biomarker: 28260648::span:336:342\n",
      "Checking Condition: 28260648::span:71:82\n",
      "1\n",
      "paired  added to serum\n",
      "Checking Biomarker: 28260648::span:547:548\n",
      "Checking Condition: 28260648::span:71:82\n",
      "1\n",
      "potential  added to serum\n",
      "Checking Biomarker: 28260649::span:534:535\n",
      "Checking Condition: 28260649::span:45:59\n",
      "0\n",
      "Couldn't find: 28260649::span:45:59\n",
      "ADDING NEW CANDIDATE\n",
      "potential  added to serum\n",
      "Checking Biomarker: 28260649::span:574:576\n",
      "Checking Condition: 28260649::span:45:59\n",
      "1\n",
      "potential  added to serum\n",
      "Checking Biomarker: 28260649::span:596:598\n",
      "Checking Condition: 28260649::span:45:59\n",
      "1\n",
      "peripheral  added to blood\n",
      "Checking Biomarker: 28261204::span:703:706\n",
      "Checking Condition: 28261204::span:72:87\n",
      "0\n",
      "Couldn't find: 28261204::span:72:87\n",
      "ADDING NEW CANDIDATE\n",
      " added to CSF\n",
      " added to CSF\n",
      " added to blood\n",
      " added to blood\n",
      " added to blood\n",
      " added to blood\n",
      " added to blood\n",
      " added to cerebrospinal fluid\n",
      " added to cerebrospinal fluid\n",
      " added to plasma\n",
      " added to cerebrospinal fluid\n",
      " added to CSF\n",
      " added to plasma\n",
      " added to cerebrospinal fluid\n",
      " added to serum\n",
      " added to serum\n",
      "red  added to blood\n",
      "Checking Biomarker: 28263172::span:87:89\n",
      "Checking Condition: 28263172::span:0:8\n",
      "0\n",
      "Couldn't find: 28263172::span:0:8\n",
      "ADDING NEW CANDIDATE\n",
      "time first  added to serum\n",
      "Checking Biomarker: 28263100::span:413:415\n",
      "Checking Condition: 28263100::span:20:35\n",
      "0\n",
      "Couldn't find: 28263100::span:20:35\n",
      "ADDING NEW CANDIDATE\n",
      " added to Plasma\n",
      " added to blood\n",
      " added to plasma\n",
      "ssc  added to plasma\n",
      "Checking Biomarker: 28263294::span:2584:2589\n",
      "Checking Condition: 28263294::span:125:134\n",
      "0\n",
      "Couldn't find: 28263294::span:125:134\n",
      "ADDING NEW CANDIDATE\n",
      "ssc  added to plasma\n",
      "Checking Biomarker: 28263294::span:2509:2514\n",
      "Checking Condition: 28263294::span:125:134\n",
      "1\n",
      " added to plasma\n",
      " added to plasma\n",
      "human  added to plasma\n",
      "Checking Biomarker: 28262555::span:545:547\n",
      "Checking Condition: 28262555::span:29:40\n",
      "0\n",
      "Couldn't find: 28262555::span:29:40\n",
      "ADDING NEW CANDIDATE\n",
      "marrow bone  added to plasma\n",
      "Checking Biomarker: 28262555::span:545:547\n",
      "Checking Condition: 28262555::span:159:176\n",
      "0\n",
      "Couldn't find: 28262555::span:159:176\n",
      "ADDING NEW CANDIDATE\n",
      " added to bone marrow\n",
      "human  added to plasma\n",
      "Checking Biomarker: 28262555::span:549:551\n",
      "Checking Condition: 28262555::span:29:40\n",
      "1\n",
      "marrow bone  added to plasma\n",
      "Checking Biomarker: 28262555::span:549:551\n",
      "Checking Condition: 28262555::span:159:176\n",
      "1\n",
      " added to bone marrow\n",
      " added to blood\n",
      " added to urine\n",
      " added to urine\n",
      " added to serum\n",
      " added to Plasma\n",
      "retroperitoneal robot-assisted  added to lymph\n",
      "Checking Biomarker: 28262537::span:160:167\n",
      "Checking Condition: 28262537::span:12:47\n",
      "0\n",
      "Couldn't find: 28262537::span:12:47\n",
      "ADDING NEW CANDIDATE\n",
      "retroperitoneal robot-assisted  added to lymph\n",
      "Checking Biomarker: 28262537::span:222:226\n",
      "Checking Condition: 28262537::span:12:47\n",
      "1\n",
      "retroperitoneal robot-assisted  added to lymph\n",
      "Checking Biomarker: 28262537::span:94:103\n",
      "Checking Condition: 28262537::span:12:47\n",
      "1\n",
      " added to plasma\n",
      " added to plasma\n",
      " added to plasma\n",
      " added to sera\n",
      " added to sera\n",
      " added to blood\n",
      " added to Serum\n",
      " added to Serum\n",
      " added to Serum\n",
      " added to sera\n",
      " added to sera\n",
      " added to sera\n",
      " added to plasma\n",
      " added to Blood\n",
      " added to Blood\n",
      " added to Serum\n",
      " added to lymph\n",
      " added to blood\n",
      " added to blood\n",
      " added to blood\n",
      " added to blood\n",
      " added to blood\n",
      " added to serum\n",
      " added to serum\n",
      " added to serum\n",
      " added to serum\n",
      "Finished Processing Existing Candidates\n",
      "Checking Biomarker: 28260391::span:1604:1613\n",
      "Checking Condition: 28260391::span:63:84\n",
      "0\n",
      "Couldn't find: 28260391::span:63:84\n",
      "ADDING NEW CANDIDATE\n",
      "Checking Biomarker: 28260391::span:1616:1618\n",
      "Checking Condition: 28260391::span:63:84\n",
      "1\n",
      "Checking Biomarker: 28260391::span:1635:1638\n",
      "Checking Condition: 28260391::span:63:84\n",
      "1\n",
      "Checking Biomarker: 28261908::span:69:78\n",
      "Checking Condition: 28261908::span:43:65\n",
      "0\n",
      "Couldn't find: 28261908::span:43:65\n",
      "ADDING NEW CANDIDATE\n",
      "Checking Biomarker: 28261908::span:137:139\n",
      "Checking Condition: 28261908::span:43:65\n",
      "1\n",
      "Checking Biomarker: 28261345::span:791:794\n",
      "Checking Condition: 28261345::span:37:50\n",
      "0\n",
      "Couldn't find: 28261345::span:37:50\n",
      "ADDING NEW CANDIDATE\n",
      "Checking Biomarker: 28260854::span:176:179\n",
      "Checking Condition: 28260854::span:75:107\n",
      "0\n",
      "Couldn't find: 28260854::span:75:107\n",
      "ADDING NEW CANDIDATE\n",
      "Checking Biomarker: 28260854::span:66:72\n",
      "Checking Condition: 28260854::span:75:107\n",
      "1\n",
      "Checking Biomarker: 28260854::span:209:212\n",
      "Checking Condition: 28260854::span:109:140\n",
      "0\n",
      "Couldn't find: 28260854::span:109:140\n",
      "ADDING NEW CANDIDATE\n",
      "Checking Biomarker: 28260854::span:264:267\n",
      "Checking Condition: 28260854::span:109:140\n",
      "1\n",
      "Checking Biomarker: 28260854::span:183:189\n",
      "Checking Condition: 28260854::span:109:140\n",
      "1\n",
      "Checking Biomarker: 28261908::span:1552:1555\n",
      "Checking Condition: 28261908::span:21:42\n",
      "0\n",
      "Couldn't find: 28261908::span:21:42\n",
      "ADDING NEW CANDIDATE\n",
      "Checking Biomarker: 28262616::span:113:114\n",
      "Checking Condition: 28262616::span:40:52\n",
      "0\n",
      "Couldn't find: 28262616::span:40:52\n",
      "ADDING NEW CANDIDATE\n",
      "Checking Biomarker: 28261562::span:1627:1631\n",
      "Checking Condition: 28261562::span:85:113\n",
      "0\n",
      "Couldn't find: 28261562::span:85:113\n",
      "ADDING NEW CANDIDATE\n",
      "Checking Biomarker: 28264037::span:1230:1232\n",
      "Checking Condition: 28264037::span:89:106\n",
      "0\n",
      "Couldn't find: 28264037::span:89:106\n",
      "ADDING NEW CANDIDATE\n",
      "Checking Biomarker: 28260919::span:311:314\n",
      "Checking Condition: 28260919::span:22:35\n",
      "0\n",
      "Couldn't find: 28260919::span:22:35\n",
      "ADDING NEW CANDIDATE\n",
      "Checking Biomarker: 28260919::span:311:314\n",
      "Checking Condition: 28260919::span:90:103\n",
      "0\n",
      "Couldn't find: 28260919::span:90:103\n",
      "ADDING NEW CANDIDATE\n",
      "Checking Biomarker: 28260919::span:444:446\n",
      "Checking Condition: 28260919::span:22:35\n",
      "1\n",
      "Checking Biomarker: 28260919::span:444:446\n",
      "Checking Condition: 28260919::span:90:103\n",
      "1\n",
      "Checking Biomarker: 28260933::span:462:464\n",
      "Checking Condition: 28260933::span:111:142\n",
      "0\n",
      "Couldn't find: 28260933::span:111:142\n",
      "ADDING NEW CANDIDATE\n",
      "Checking Biomarker: 28260933::span:436:438\n",
      "Checking Condition: 28260933::span:111:142\n",
      "1\n",
      "Checking Biomarker: 28263391::span:469:471\n",
      "Checking Condition: 28263391::span:95:113\n",
      "0\n",
      "Couldn't find: 28263391::span:95:113\n",
      "ADDING NEW CANDIDATE\n",
      "Checking Biomarker: 28263391::span:534:537\n",
      "Checking Condition: 28263391::span:95:113\n",
      "1\n",
      "Checking Biomarker: 28261345::span:505:508\n",
      "Checking Condition: 28261345::span:175:197\n",
      "0\n",
      "Couldn't find: 28261345::span:175:197\n",
      "ADDING NEW CANDIDATE\n",
      "Checking Biomarker: 28261345::span:550:553\n",
      "Checking Condition: 28261345::span:175:197\n",
      "1\n",
      "Checking Biomarker: 28261345::span:679:681\n",
      "Checking Condition: 28261345::span:175:197\n",
      "1\n",
      "Checking Biomarker: 28261345::span:689:692\n",
      "Checking Condition: 28261345::span:175:197\n",
      "1\n"
     ]
    },
    {
     "name": "stdout",
     "output_type": "stream",
     "text": [
      "Checking Biomarker: 28263391::span:871:872\n",
      "Checking Condition: 28263391::span:70:89\n",
      "0\n",
      "Couldn't find: 28263391::span:70:89\n",
      "ADDING NEW CANDIDATE\n",
      "Checking Biomarker: 28264096::span:1760:1761\n",
      "Checking Condition: 28264096::span:255:266\n",
      "0\n",
      "Couldn't find: 28264096::span:255:266\n",
      "ADDING NEW CANDIDATE\n",
      "Checking Biomarker: 28264096::span:1741:1743\n",
      "Checking Condition: 28264096::span:255:266\n",
      "1\n",
      "Checking Biomarker: 28264096::span:1874:1875\n",
      "Checking Condition: 28264096::span:255:266\n",
      "1\n",
      "Checking Biomarker: 28264096::span:1613:1615\n",
      "Checking Condition: 28264096::span:255:266\n",
      "1\n",
      "Checking Biomarker: 28264096::span:1951:1952\n",
      "Checking Condition: 28264096::span:255:266\n",
      "1\n",
      "Checking Biomarker: 28264096::span:1680:1681\n",
      "Checking Condition: 28264096::span:255:266\n",
      "1\n",
      "Checking Biomarker: 28264096::span:1937:1938\n",
      "Checking Condition: 28264096::span:255:266\n",
      "1\n",
      "Checking Biomarker: 28264096::span:1809:1811\n",
      "Checking Condition: 28264096::span:255:266\n",
      "1\n",
      "Checking Biomarker: 28264096::span:1666:1667\n",
      "Checking Condition: 28264096::span:255:266\n",
      "1\n",
      "Checking Biomarker: 28264096::span:1860:1861\n",
      "Checking Condition: 28264096::span:255:266\n",
      "1\n",
      "Checking Biomarker: 28264096::span:1746:1747\n",
      "Checking Condition: 28264096::span:255:266\n",
      "1\n",
      "Checking Biomarker: 28264096::span:1618:1619\n",
      "Checking Condition: 28264096::span:255:266\n",
      "1\n",
      "Checking Biomarker: 28261953::span:27:31\n",
      "Checking Condition: 28261953::span:57:76\n",
      "0\n",
      "Couldn't find: 28261953::span:57:76\n",
      "ADDING NEW CANDIDATE\n",
      "Checking Biomarker: 28263001::span:707:708\n",
      "Checking Condition: 28263001::span:66:80\n",
      "0\n",
      "Couldn't find: 28263001::span:66:80\n",
      "ADDING NEW CANDIDATE\n",
      "Checking Biomarker: 28263001::span:578:584\n",
      "Checking Condition: 28263001::span:66:80\n",
      "1\n",
      "Checking Biomarker: 28263001::span:661:663\n",
      "Checking Condition: 28263001::span:66:80\n",
      "1\n",
      "Checking Biomarker: 28262211::span:79:87\n",
      "Checking Condition: 28262211::span:185:205\n",
      "0\n",
      "Couldn't find: 28262211::span:185:205\n",
      "ADDING NEW CANDIDATE\n",
      "Checking Biomarker: 28262211::span:383:384\n",
      "Checking Condition: 28262211::span:283:317\n",
      "0\n",
      "Couldn't find: 28262211::span:283:317\n",
      "ADDING NEW CANDIDATE\n",
      "Checking Biomarker: 28262211::span:383:384\n",
      "Checking Condition: 28262211::span:181:216\n",
      "0\n",
      "Couldn't find: 28262211::span:181:216\n",
      "ADDING NEW CANDIDATE\n",
      "Checking Biomarker: 28262211::span:319:325\n",
      "Checking Condition: 28262211::span:283:317\n",
      "1\n",
      "Checking Biomarker: 28262211::span:319:325\n",
      "Checking Condition: 28262211::span:181:216\n",
      "1\n",
      "Checking Biomarker: 28262211::span:387:389\n",
      "Checking Condition: 28262211::span:283:317\n",
      "1\n",
      "Checking Biomarker: 28262211::span:387:389\n",
      "Checking Condition: 28262211::span:181:216\n",
      "1\n",
      "Checking Biomarker: 28262211::span:305:313\n",
      "Checking Condition: 28262211::span:283:317\n",
      "1\n",
      "Checking Biomarker: 28262211::span:305:313\n",
      "Checking Condition: 28262211::span:181:216\n",
      "1\n",
      "Checking Biomarker: 28262211::span:392:394\n",
      "Checking Condition: 28262211::span:283:317\n",
      "1\n",
      "Checking Biomarker: 28262211::span:392:394\n",
      "Checking Condition: 28262211::span:181:216\n",
      "1\n",
      "Checking Biomarker: 28262211::span:315:317\n",
      "Checking Condition: 28262211::span:283:317\n",
      "1\n",
      "Checking Biomarker: 28262211::span:315:317\n",
      "Checking Condition: 28262211::span:181:216\n",
      "1\n",
      "Checking Biomarker: 28262211::span:889:891\n",
      "Checking Condition: 28262211::span:213:247\n",
      "0\n",
      "Couldn't find: 28262211::span:213:247\n",
      "ADDING NEW CANDIDATE\n",
      "Checking Biomarker: 28262211::span:889:891\n",
      "Checking Condition: 28262211::span:156:177\n",
      "0\n",
      "Couldn't find: 28262211::span:156:177\n",
      "ADDING NEW CANDIDATE\n",
      "Checking Biomarker: 28262211::span:894:896\n",
      "Checking Condition: 28262211::span:213:247\n",
      "1\n",
      "Checking Biomarker: 28262211::span:894:896\n",
      "Checking Condition: 28262211::span:156:177\n",
      "1\n",
      "Checking Biomarker: 28262211::span:839:840\n",
      "Checking Condition: 28262211::span:213:247\n",
      "1\n",
      "Checking Biomarker: 28262211::span:839:840\n",
      "Checking Condition: 28262211::span:156:177\n",
      "1\n",
      "Checking Biomarker: 28262211::span:805:811\n",
      "Checking Condition: 28262211::span:213:247\n",
      "1\n",
      "Checking Biomarker: 28262211::span:805:811\n",
      "Checking Condition: 28262211::span:156:177\n",
      "1\n",
      "Checking Biomarker: 28262211::span:1569:1570\n",
      "Checking Condition: 28262211::span:55:67\n",
      "0\n",
      "Couldn't find: 28262211::span:55:67\n",
      "ADDING NEW CANDIDATE\n",
      "Checking Biomarker: 28262211::span:1627:1637\n",
      "Checking Condition: 28262211::span:221:233\n",
      "0\n",
      "Couldn't find: 28262211::span:221:233\n",
      "ADDING NEW CANDIDATE\n",
      "Checking Biomarker: 28263981::span:272:275\n",
      "Checking Condition: 28263981::span:100:133\n",
      "0\n",
      "Couldn't find: 28263981::span:100:133\n",
      "ADDING NEW CANDIDATE\n",
      "Checking Biomarker: 28263981::span:161:164\n",
      "Checking Condition: 28263981::span:100:133\n",
      "1\n",
      "Checking Biomarker: 28263981::span:242:245\n",
      "Checking Condition: 28263981::span:100:133\n",
      "1\n",
      "Checking Biomarker: 28263001::span:126:127\n",
      "Checking Condition: 28263001::span:12:26\n",
      "0\n",
      "Couldn't find: 28263001::span:12:26\n",
      "ADDING NEW CANDIDATE\n",
      "Checking Biomarker: 28263001::span:97:106\n",
      "Checking Condition: 28263001::span:12:26\n",
      "1\n",
      "Checking Biomarker: 28263391::span:45:48\n",
      "Checking Condition: 28263391::span:93:132\n",
      "0\n",
      "Couldn't find: 28263391::span:93:132\n",
      "ADDING NEW CANDIDATE\n",
      "Checking Biomarker: 28263391::span:174:175\n",
      "Checking Condition: 28263391::span:43:64\n",
      "0\n",
      "Couldn't find: 28263391::span:43:64\n",
      "ADDING NEW CANDIDATE\n",
      "Checking Biomarker: 28262437::span:532:534\n",
      "Checking Condition: 28262437::span:162:196\n",
      "0\n",
      "Couldn't find: 28262437::span:162:196\n",
      "ADDING NEW CANDIDATE\n",
      "Checking Biomarker: 28261746::span:324:330\n",
      "Checking Condition: 28261746::span:59:91\n",
      "0\n",
      "Couldn't find: 28261746::span:59:91\n",
      "ADDING NEW CANDIDATE\n",
      "Checking Biomarker: 28261746::span:550:555\n",
      "Checking Condition: 28261746::span:59:91\n",
      "1\n",
      "Checking Biomarker: 28261746::span:310:318\n",
      "Checking Condition: 28261746::span:59:91\n",
      "1\n",
      "Checking Biomarker: 28261746::span:320:322\n",
      "Checking Condition: 28261746::span:59:91\n",
      "1\n",
      "Checking Biomarker: 28261746::span:558:562\n",
      "Checking Condition: 28261746::span:59:91\n",
      "1\n",
      "Checking Biomarker: 28261746::span:569:571\n",
      "Checking Condition: 28261746::span:59:91\n",
      "1\n",
      "Checking Biomarker: 28261322::span:154:156\n",
      "Checking Condition: 28261322::span:82:100\n",
      "0\n",
      "Couldn't find: 28261322::span:82:100\n",
      "ADDING NEW CANDIDATE\n",
      "Checking Biomarker: 28261322::span:67:69\n",
      "Checking Condition: 28261322::span:82:100\n",
      "1\n",
      "Checking Biomarker: 28263447::span:195:203\n",
      "Checking Condition: 28263447::span:56:94\n",
      "0\n",
      "Couldn't find: 28263447::span:56:94\n",
      "ADDING NEW CANDIDATE\n",
      "Checking Biomarker: 28263447::span:292:296\n",
      "Checking Condition: 28263447::span:56:94\n",
      "1\n",
      "Checking Biomarker: 28263231::span:41:43\n",
      "Checking Condition: 28263231::span:0:38\n",
      "0\n",
      "Couldn't find: 28263231::span:0:38\n",
      "ADDING NEW CANDIDATE\n",
      "Checking Biomarker: 28261746::span:1629:1633\n",
      "Checking Condition: 28261746::span:31:62\n",
      "0\n",
      "Couldn't find: 28261746::span:31:62\n",
      "ADDING NEW CANDIDATE\n",
      "Checking Biomarker: 28261746::span:1500:1507\n",
      "Checking Condition: 28261746::span:31:62\n",
      "1\n",
      "Checking Biomarker: 28261746::span:1509:1517\n",
      "Checking Condition: 28261746::span:31:62\n",
      "1\n",
      "Checking Biomarker: 28261322::span:1331:1333\n",
      "Checking Condition: 28261322::span:341:364\n",
      "0\n",
      "Couldn't find: 28261322::span:341:364\n",
      "ADDING NEW CANDIDATE\n",
      "Checking Biomarker: 28261322::span:1204:1206\n",
      "Checking Condition: 28261322::span:341:364\n",
      "1\n",
      "Checking Biomarker: 28263447::span:171:174\n",
      "Checking Condition: 28263447::span:51:86\n",
      "0\n",
      "Couldn't find: 28263447::span:51:86\n",
      "ADDING NEW CANDIDATE\n",
      "Checking Biomarker: 28261908::span:1070:1073\n",
      "Checking Condition: 28261908::span:173:206\n",
      "0\n",
      "Couldn't find: 28261908::span:173:206\n",
      "ADDING NEW CANDIDATE\n",
      "Checking Biomarker: 28261908::span:1070:1073\n",
      "Checking Condition: 28261908::span:442:476\n",
      "0\n",
      "Couldn't find: 28261908::span:442:476\n",
      "ADDING NEW CANDIDATE\n",
      "Checking Biomarker: 28261908::span:1070:1073\n",
      "Checking Condition: 28261908::span:488:505\n",
      "0\n",
      "Couldn't find: 28261908::span:488:505\n",
      "ADDING NEW CANDIDATE\n",
      "Checking Biomarker: 28261908::span:1070:1073\n",
      "Checking Condition: 28261908::span:323:360\n",
      "0\n",
      "Couldn't find: 28261908::span:323:360\n",
      "ADDING NEW CANDIDATE\n",
      "Checking Biomarker: 28261908::span:802:804\n",
      "Checking Condition: 28261908::span:173:206\n",
      "1\n",
      "Checking Biomarker: 28261908::span:802:804\n",
      "Checking Condition: 28261908::span:442:476\n",
      "1\n",
      "Checking Biomarker: 28261908::span:802:804\n",
      "Checking Condition: 28261908::span:488:505\n",
      "1\n",
      "Checking Biomarker: 28261908::span:802:804\n",
      "Checking Condition: 28261908::span:323:360\n",
      "1\n",
      "Checking Biomarker: 28261908::span:1009:1014\n",
      "Checking Condition: 28261908::span:173:206\n",
      "1\n",
      "Checking Biomarker: 28261908::span:1009:1014\n",
      "Checking Condition: 28261908::span:442:476\n",
      "1\n",
      "Checking Biomarker: 28261908::span:1009:1014\n",
      "Checking Condition: 28261908::span:488:505\n"
     ]
    },
    {
     "name": "stdout",
     "output_type": "stream",
     "text": [
      "1\n",
      "Checking Biomarker: 28261908::span:1009:1014\n",
      "Checking Condition: 28261908::span:323:360\n",
      "1\n",
      "Checking Biomarker: 28261908::span:855:859\n",
      "Checking Condition: 28261908::span:173:206\n",
      "1\n",
      "Checking Biomarker: 28261908::span:855:859\n",
      "Checking Condition: 28261908::span:442:476\n",
      "1\n",
      "Checking Biomarker: 28261908::span:855:859\n",
      "Checking Condition: 28261908::span:488:505\n",
      "1\n",
      "Checking Biomarker: 28261908::span:855:859\n",
      "Checking Condition: 28261908::span:323:360\n",
      "1\n",
      "Checking Biomarker: 28260175::span:107:113\n",
      "Checking Condition: 28260175::span:13:47\n",
      "0\n",
      "Couldn't find: 28260175::span:13:47\n",
      "ADDING NEW CANDIDATE\n",
      "Checking Biomarker: 28260175::span:157:160\n",
      "Checking Condition: 28260175::span:13:47\n",
      "1\n",
      "Checking Biomarker: 28260391::span:434:440\n",
      "Checking Condition: 28260391::span:86:107\n",
      "0\n",
      "Couldn't find: 28260391::span:86:107\n",
      "ADDING NEW CANDIDATE\n",
      "Checking Biomarker: 28262611::span:506:507\n",
      "Checking Condition: 28262611::span:141:160\n",
      "0\n",
      "Couldn't find: 28262611::span:141:160\n",
      "ADDING NEW CANDIDATE\n",
      "Checking Biomarker: 28261345::span:1276:1280\n",
      "Checking Condition: 28261345::span:46:68\n",
      "0\n",
      "Couldn't find: 28261345::span:46:68\n",
      "ADDING NEW CANDIDATE\n",
      "Checking Biomarker: 28261345::span:1359:1363\n",
      "Checking Condition: 28261345::span:46:68\n",
      "1\n",
      "Checking Biomarker: 28261345::span:1222:1223\n",
      "Checking Condition: 28261345::span:46:68\n",
      "1\n",
      "Checking Biomarker: 28261345::span:1127:1130\n",
      "Checking Condition: 28261345::span:46:68\n",
      "1\n",
      "Checking Biomarker: 28261345::span:1159:1163\n",
      "Checking Condition: 28261345::span:46:68\n",
      "1\n",
      "Checking Biomarker: 28261345::span:1082:1084\n",
      "Checking Condition: 28261345::span:46:68\n",
      "1\n",
      "Checking Biomarker: 28260759::span:116:118\n",
      "Checking Condition: 28260759::span:0:22\n",
      "0\n",
      "Couldn't find: 28260759::span:0:22\n",
      "ADDING NEW CANDIDATE\n",
      "Checking Biomarker: 28263742::span:304:306\n",
      "Checking Condition: 28263742::span:108:135\n",
      "0\n",
      "Couldn't find: 28263742::span:108:135\n",
      "ADDING NEW CANDIDATE\n",
      "Checking Biomarker: 28263742::span:401:403\n",
      "Checking Condition: 28263742::span:108:135\n",
      "1\n",
      "Checking Biomarker: 28263742::span:93:104\n",
      "Checking Condition: 28263742::span:108:135\n",
      "1\n",
      "Checking Biomarker: 28263742::span:468:470\n",
      "Checking Condition: 28263742::span:108:135\n",
      "1\n",
      "Checking Biomarker: 28263742::span:167:169\n",
      "Checking Condition: 28263742::span:108:135\n",
      "1\n",
      "Checking Biomarker: 28260759::span:570:572\n",
      "Checking Condition: 28260759::span:66:98\n",
      "0\n",
      "Couldn't find: 28260759::span:66:98\n",
      "ADDING NEW CANDIDATE\n",
      "Checking Biomarker: 28260759::span:570:572\n",
      "Checking Condition: 28260759::span:125:147\n",
      "0\n",
      "Couldn't find: 28260759::span:125:147\n",
      "ADDING NEW CANDIDATE\n",
      "Checking Biomarker: 28260759::span:915:917\n",
      "Checking Condition: 28260759::span:0:22\n",
      "1\n",
      "Checking Biomarker: 28260759::span:1119:1121\n",
      "Checking Condition: 28260759::span:64:85\n",
      "0\n",
      "Couldn't find: 28260759::span:64:85\n",
      "ADDING NEW CANDIDATE\n",
      "Checking Biomarker: 28260759::span:1119:1121\n",
      "Checking Condition: 28260759::span:23:40\n",
      "0\n",
      "Couldn't find: 28260759::span:23:40\n",
      "ADDING NEW CANDIDATE\n",
      "Checking Biomarker: 28262306::span:1880:1883\n",
      "Checking Condition: 28262306::span:87:100\n",
      "0\n",
      "Couldn't find: 28262306::span:87:100\n",
      "ADDING NEW CANDIDATE\n",
      "Checking Biomarker: 28262322::span:141:152\n",
      "Checking Condition: 28262322::span:303:327\n",
      "0\n",
      "Couldn't find: 28262322::span:303:327\n",
      "ADDING NEW CANDIDATE\n",
      "Checking Biomarker: 28262322::span:471:473\n",
      "Checking Condition: 28262322::span:303:327\n",
      "1\n",
      "Checking Biomarker: 28262322::span:282:290\n",
      "Checking Condition: 28262322::span:303:327\n",
      "1\n",
      "Checking Biomarker: 28261746::span:952:954\n",
      "Checking Condition: 28261746::span:206:238\n",
      "0\n",
      "Couldn't find: 28261746::span:206:238\n",
      "ADDING NEW CANDIDATE\n",
      "Checking Biomarker: 28261746::span:1240:1242\n",
      "Checking Condition: 28261746::span:206:238\n",
      "1\n",
      "Checking Biomarker: 28261746::span:1193:1195\n",
      "Checking Condition: 28261746::span:206:238\n",
      "1\n",
      "Checking Biomarker: 28261746::span:1064:1066\n",
      "Checking Condition: 28261746::span:206:238\n",
      "1\n",
      "Checking Biomarker: 28261746::span:1097:1102\n",
      "Checking Condition: 28261746::span:206:238\n",
      "1\n",
      "Checking Biomarker: 28261746::span:957:961\n",
      "Checking Condition: 28261746::span:206:238\n",
      "1\n",
      "Checking Biomarker: 28261965::span:973:975\n",
      "Checking Condition: 28261965::span:231:253\n",
      "0\n",
      "Couldn't find: 28261965::span:231:253\n",
      "ADDING NEW CANDIDATE\n",
      "Checking Biomarker: 28261965::span:1100:1102\n",
      "Checking Condition: 28261965::span:231:253\n",
      "1\n",
      "Checking Biomarker: 28261965::span:885:887\n",
      "Checking Condition: 28261965::span:231:253\n",
      "1\n",
      "Checking Biomarker: 28261965::span:981:983\n",
      "Checking Condition: 28261965::span:231:253\n",
      "1\n",
      "Checking Biomarker: 28261965::span:1139:1141\n",
      "Checking Condition: 28261965::span:231:253\n",
      "1\n",
      "Checking Biomarker: 28261974::span:91:93\n",
      "Checking Condition: 28261974::span:91:109\n",
      "0\n",
      "Couldn't find: 28261974::span:91:109\n",
      "ADDING NEW CANDIDATE\n",
      "Checking Biomarker: 28260446::span:1175:1181\n",
      "Checking Condition: 28260446::span:139:151\n",
      "0\n",
      "Couldn't find: 28260446::span:139:151\n",
      "ADDING NEW CANDIDATE\n",
      "Checking Biomarker: 28260446::span:1877:1887\n",
      "Checking Condition: 28260446::span:246:258\n",
      "0\n",
      "Couldn't find: 28260446::span:246:258\n",
      "ADDING NEW CANDIDATE\n",
      "Checking Biomarker: 28261336::span:573:574\n",
      "Checking Condition: 28261336::span:67:80\n",
      "0\n",
      "Couldn't find: 28261336::span:67:80\n",
      "ADDING NEW CANDIDATE\n",
      "Checking Biomarker: 28261341::span:305:307\n",
      "Checking Condition: 28261341::span:166:189\n",
      "0\n",
      "Couldn't find: 28261341::span:166:189\n",
      "ADDING NEW CANDIDATE\n",
      "Checking Biomarker: 28262254::span:519:525\n",
      "Checking Condition: 28262254::span:84:114\n",
      "0\n",
      "Couldn't find: 28262254::span:84:114\n",
      "ADDING NEW CANDIDATE\n",
      "Checking Biomarker: 28261284::span:487:491\n",
      "Checking Condition: 28261284::span:165:187\n",
      "0\n",
      "Couldn't find: 28261284::span:165:187\n",
      "ADDING NEW CANDIDATE\n",
      "Checking Biomarker: 28261341::span:1446:1448\n",
      "Checking Condition: 28261341::span:200:217\n",
      "0\n",
      "Couldn't find: 28261341::span:200:217\n",
      "ADDING NEW CANDIDATE\n",
      "Checking Biomarker: 28263294::span:834:839\n",
      "Checking Condition: 28263294::span:50:66\n",
      "0\n",
      "Couldn't find: 28263294::span:50:66\n",
      "ADDING NEW CANDIDATE\n",
      "Checking Biomarker: 28262798::span:340:344\n",
      "Checking Condition: 28262798::span:169:190\n",
      "0\n",
      "Couldn't find: 28262798::span:169:190\n",
      "ADDING NEW CANDIDATE\n",
      "Checking Biomarker: 28262798::span:474:478\n",
      "Checking Condition: 28262798::span:169:190\n",
      "1\n",
      "Checking Biomarker: 28261371::span:151:152\n",
      "Checking Condition: 28261371::span:206:227\n",
      "0\n",
      "Couldn't find: 28261371::span:206:227\n",
      "ADDING NEW CANDIDATE\n",
      "Checking Biomarker: 28261371::span:373:375\n",
      "Checking Condition: 28261371::span:206:227\n",
      "1\n",
      "Checking Biomarker: 28261371::span:154:159\n",
      "Checking Condition: 28261371::span:206:227\n",
      "1\n",
      "Checking Biomarker: 28261371::span:143:149\n",
      "Checking Condition: 28261371::span:206:227\n",
      "1\n",
      "Checking Biomarker: 28262798::span:728:729\n",
      "Checking Condition: 28262798::span:35:54\n",
      "0\n",
      "Couldn't find: 28262798::span:35:54\n",
      "ADDING NEW CANDIDATE\n",
      "Checking Biomarker: 28260933::span:526:533\n",
      "Checking Condition: 28260933::span:51:95\n",
      "0\n",
      "Couldn't find: 28260933::span:51:95\n",
      "ADDING NEW CANDIDATE\n",
      "Checking Biomarker: 28260933::span:539:545\n",
      "Checking Condition: 28260933::span:51:95\n",
      "1\n",
      "Checking Biomarker: 28260933::span:535:537\n",
      "Checking Condition: 28260933::span:51:95\n",
      "1\n",
      "Checking Biomarker: 28260933::span:1476:1485\n",
      "Checking Condition: 28260933::span:73:117\n",
      "0\n",
      "Couldn't find: 28260933::span:73:117\n",
      "ADDING NEW CANDIDATE\n",
      "Checking Biomarker: 28260933::span:1488:1490\n",
      "Checking Condition: 28260933::span:73:117\n",
      "1\n",
      "Checking Biomarker: 28260718::span:8:12\n",
      "Checking Condition: 28260718::span:92:122\n",
      "0\n",
      "Couldn't find: 28260718::span:92:122\n",
      "ADDING NEW CANDIDATE\n",
      "Checking Biomarker: 28260718::span:217:221\n",
      "Checking Condition: 28260718::span:132:171\n",
      "0\n",
      "Couldn't find: 28260718::span:132:171\n",
      "ADDING NEW CANDIDATE\n",
      "Checking Biomarker: 28260718::span:164:166\n",
      "Checking Condition: 28260718::span:132:171\n",
      "1\n",
      "Checking Biomarker: 28260718::span:848:852\n",
      "Checking Condition: 28260718::span:4:27\n",
      "0\n",
      "Couldn't find: 28260718::span:4:27\n",
      "ADDING NEW CANDIDATE\n",
      "Checking Biomarker: 28260718::span:929:933\n",
      "Checking Condition: 28260718::span:4:27\n",
      "1\n",
      "Checking Biomarker: 28262197::span:1697:1706\n",
      "Checking Condition: 28262197::span:12:34\n",
      "0\n",
      "Couldn't find: 28262197::span:12:34\n",
      "ADDING NEW CANDIDATE\n",
      "Checking Biomarker: 28261896::span:1315:1318\n",
      "Checking Condition: 28261896::span:97:119\n",
      "0\n",
      "Couldn't find: 28261896::span:97:119\n",
      "ADDING NEW CANDIDATE\n",
      "Checking Biomarker: 28261896::span:1364:1366\n",
      "Checking Condition: 28261896::span:97:119\n",
      "1\n",
      "Checking Biomarker: 28264009::span:447:449\n",
      "Checking Condition: 28264009::span:159:171\n",
      "0\n",
      "Couldn't find: 28264009::span:159:171\n",
      "ADDING NEW CANDIDATE\n",
      "Checking Biomarker: 28264009::span:413:415\n",
      "Checking Condition: 28264009::span:159:171\n",
      "1\n",
      "Checking Biomarker: 28264009::span:514:516\n",
      "Checking Condition: 28264009::span:159:171\n",
      "1\n",
      "Checking Biomarker: 28264009::span:401:402\n",
      "Checking Condition: 28264009::span:159:171\n",
      "1\n",
      "Checking Biomarker: 28264009::span:355:361\n",
      "Checking Condition: 28264009::span:159:171\n",
      "1\n",
      "Checking Biomarker: 28260649::span:206:215\n",
      "Checking Condition: 28260649::span:97:129\n",
      "0\n",
      "Couldn't find: 28260649::span:97:129\n",
      "ADDING NEW CANDIDATE\n",
      "Checking Biomarker: 28260649::span:338:340\n",
      "Checking Condition: 28260649::span:97:129\n",
      "1\n",
      "Checking Biomarker: 28261204::span:1301:1304\n",
      "Checking Condition: 28261204::span:110:124\n",
      "0\n",
      "Couldn't find: 28261204::span:110:124\n",
      "ADDING NEW CANDIDATE\n",
      "Checking Biomarker: 28261204::span:1223:1226\n",
      "Checking Condition: 28261204::span:110:124\n",
      "1\n",
      "Checking Biomarker: 28261204::span:1451:1454\n",
      "Checking Condition: 28261204::span:45:61\n",
      "0\n",
      "Couldn't find: 28261204::span:45:61\n",
      "ADDING NEW CANDIDATE\n"
     ]
    },
    {
     "name": "stdout",
     "output_type": "stream",
     "text": [
      "Checking Biomarker: 28261333::span:295:299\n",
      "Checking Condition: 28261333::span:151:198\n",
      "0\n",
      "Couldn't find: 28261333::span:151:198\n",
      "ADDING NEW CANDIDATE\n",
      "Checking Biomarker: 28263701::span:1335:1336\n",
      "Checking Condition: 28263701::span:57:86\n",
      "0\n",
      "Couldn't find: 28263701::span:57:86\n",
      "ADDING NEW CANDIDATE\n",
      "Checking Biomarker: 28261336::span:31:35\n",
      "Checking Condition: 28261336::span:163:186\n",
      "0\n",
      "Couldn't find: 28261336::span:163:186\n",
      "ADDING NEW CANDIDATE\n",
      "Checking Biomarker: 28263037::span:1312:1321\n",
      "Checking Condition: 28263037::span:91:116\n",
      "0\n",
      "Couldn't find: 28263037::span:91:116\n",
      "ADDING NEW CANDIDATE\n",
      "Checking Biomarker: 28263037::span:1460:1462\n",
      "Checking Condition: 28263037::span:91:116\n",
      "1\n",
      "Checking Biomarker: 28263037::span:1332:1335\n",
      "Checking Condition: 28263037::span:91:116\n",
      "1\n",
      "Checking Biomarker: 28260162::span:108:114\n",
      "Checking Condition: 28260162::span:92:119\n",
      "0\n",
      "Couldn't find: 28260162::span:92:119\n",
      "ADDING NEW CANDIDATE\n",
      "Checking Biomarker: 28260162::span:618:624\n",
      "Checking Condition: 28260162::span:97:124\n",
      "0\n",
      "Couldn't find: 28260162::span:97:124\n",
      "ADDING NEW CANDIDATE\n",
      "Checking Biomarker: 28260162::span:1553:1563\n",
      "Checking Condition: 28260162::span:124:151\n",
      "0\n",
      "Couldn't find: 28260162::span:124:151\n",
      "ADDING NEW CANDIDATE\n",
      "Checking Biomarker: 28260536::span:727:730\n",
      "Checking Condition: 28260536::span:207:220\n",
      "0\n",
      "Couldn't find: 28260536::span:207:220\n",
      "ADDING NEW CANDIDATE\n",
      "Checking Biomarker: 28261345::span:7:10\n",
      "Checking Condition: 28261345::span:59:81\n",
      "0\n",
      "Couldn't find: 28261345::span:59:81\n",
      "ADDING NEW CANDIDATE\n",
      "Checking Biomarker: 28260907::span:256:260\n",
      "Checking Condition: 28260907::span:93:124\n",
      "0\n",
      "Couldn't find: 28260907::span:93:124\n",
      "ADDING NEW CANDIDATE\n",
      "Checking Biomarker: 28261684::span:168:174\n",
      "Checking Condition: 28261684::span:54:67\n",
      "0\n",
      "Couldn't find: 28261684::span:54:67\n",
      "ADDING NEW CANDIDATE\n",
      "Checking Biomarker: 28261684::span:168:174\n",
      "Checking Condition: 28261684::span:24:36\n",
      "0\n",
      "Couldn't find: 28261684::span:24:36\n",
      "ADDING NEW CANDIDATE\n",
      "Checking Biomarker: 28261345::span:1648:1649\n",
      "Checking Condition: 28261345::span:31:45\n",
      "0\n",
      "Couldn't find: 28261345::span:31:45\n",
      "ADDING NEW CANDIDATE\n",
      "Checking Biomarker: 28261345::span:1664:1666\n",
      "Checking Condition: 28261345::span:31:45\n",
      "1\n",
      "Checking Biomarker: 28261345::span:1570:1571\n",
      "Checking Condition: 28261345::span:31:45\n",
      "1\n",
      "Checking Biomarker: 28261345::span:1497:1498\n",
      "Checking Condition: 28261345::span:31:45\n",
      "1\n",
      "Checking Biomarker: 28261345::span:1529:1530\n",
      "Checking Condition: 28261345::span:31:45\n",
      "1\n",
      "Checking Biomarker: 28261345::span:1552:1554\n",
      "Checking Condition: 28261345::span:31:45\n",
      "1\n",
      "Checking Biomarker: 28262306::span:1068:1071\n",
      "Checking Condition: 28262306::span:69:85\n",
      "0\n",
      "Couldn't find: 28262306::span:69:85\n",
      "ADDING NEW CANDIDATE\n",
      "Checking Biomarker: 28263981::span:17:20\n",
      "Checking Condition: 28263981::span:70:103\n",
      "0\n",
      "Couldn't find: 28263981::span:70:103\n",
      "ADDING NEW CANDIDATE\n",
      "Checking Biomarker: 28261818::span:3493:3494\n",
      "Checking Condition: 28261818::span:93:108\n",
      "0\n",
      "Couldn't find: 28261818::span:93:108\n",
      "ADDING NEW CANDIDATE\n",
      "Checking Biomarker: 28261818::span:3437:3447\n",
      "Checking Condition: 28261818::span:93:108\n",
      "1\n",
      "Checking Biomarker: 28261818::span:3506:3509\n",
      "Checking Condition: 28261818::span:93:108\n",
      "1\n",
      "Checking Biomarker: 28262773::span:1334:1336\n",
      "Checking Condition: 28262773::span:140:157\n",
      "0\n",
      "Couldn't find: 28262773::span:140:157\n",
      "ADDING NEW CANDIDATE\n",
      "Checking Biomarker: 28261345::span:1839:1842\n",
      "Checking Condition: 28261345::span:101:114\n",
      "0\n",
      "Couldn't find: 28261345::span:101:114\n",
      "ADDING NEW CANDIDATE\n",
      "Checking Biomarker: 28264037::span:2550:2553\n",
      "Checking Condition: 28264037::span:107:129\n",
      "0\n",
      "Couldn't find: 28264037::span:107:129\n",
      "ADDING NEW CANDIDATE\n",
      "Checking Biomarker: 28264037::span:2572:2574\n",
      "Checking Condition: 28264037::span:107:129\n",
      "1\n",
      "Checking Biomarker: 28261818::span:244:247\n",
      "Checking Condition: 28261818::span:155:174\n",
      "0\n",
      "Couldn't find: 28261818::span:155:174\n",
      "ADDING NEW CANDIDATE\n",
      "Checking Biomarker: 28261818::span:240:241\n",
      "Checking Condition: 28261818::span:155:174\n",
      "1\n",
      "Checking Biomarker: 28261818::span:126:132\n",
      "Checking Condition: 28261818::span:155:174\n",
      "1\n",
      "Checking Biomarker: 28261818::span:217:218\n",
      "Checking Condition: 28261818::span:155:174\n",
      "1\n",
      "Checking Biomarker: 28261818::span:221:223\n",
      "Checking Condition: 28261818::span:155:174\n",
      "1\n",
      "Checking Biomarker: 28260446::span:145:154\n",
      "Checking Condition: 28260446::span:127:139\n",
      "0\n",
      "Couldn't find: 28260446::span:127:139\n",
      "ADDING NEW CANDIDATE\n",
      "Checking Biomarker: 28261325::span:564:566\n",
      "Checking Condition: 28261325::span:116:129\n",
      "0\n",
      "Couldn't find: 28261325::span:116:129\n",
      "ADDING NEW CANDIDATE\n",
      "Checking Biomarker: 28262306::span:32:35\n",
      "Checking Condition: 28262306::span:85:98\n",
      "0\n",
      "Couldn't find: 28262306::span:85:98\n",
      "ADDING NEW CANDIDATE\n",
      "Checking Biomarker: 28262306::span:137:146\n",
      "Checking Condition: 28262306::span:60:73\n",
      "0\n",
      "Couldn't find: 28262306::span:60:73\n",
      "ADDING NEW CANDIDATE\n",
      "Checking Biomarker: 28262306::span:358:361\n",
      "Checking Condition: 28262306::span:134:147\n",
      "0\n",
      "Couldn't find: 28262306::span:134:147\n",
      "ADDING NEW CANDIDATE\n",
      "Checking Biomarker: 28262306::span:507:509\n",
      "Checking Condition: 28262306::span:134:147\n",
      "1\n",
      "Checking Biomarker: 28262306::span:500:501\n",
      "Checking Condition: 28262306::span:134:147\n",
      "1\n",
      "Checking Biomarker: 28262306::span:512:519\n",
      "Checking Condition: 28262306::span:75:91\n",
      "0\n",
      "Couldn't find: 28262306::span:75:91\n",
      "ADDING NEW CANDIDATE\n",
      "Checking Biomarker: 28262306::span:525:531\n",
      "Checking Condition: 28262306::span:75:91\n",
      "1\n",
      "Checking Biomarker: 28262306::span:521:523\n",
      "Checking Condition: 28262306::span:75:91\n",
      "1\n",
      "Finished Processing Existing Candidates\n"
     ]
    }
   ],
   "source": [
    "import candidate_adjective_fixer\n",
    "import candidate_adjective_fixer_medium\n",
    "import candidate_adjective_fixer_drug \n",
    "\n",
    "c_dev_cands = session.query(BiomarkerCondition).filter(BiomarkerCondition.split == 1).all()\n",
    "m_dev_cands = session.query(BiomarkerMedium).filter(BiomarkerMedium.split == 1).all()\n",
    "d_dev_cands = session.query(BiomarkerDrug).filter(BiomarkerDrug.split == 1).all()\n",
    "\n",
    "print len(c_dev_cands)\n",
    "print len(m_dev_cands)\n",
    "print len(d_dev_cands)\n",
    "\n",
    "candidate_adjective_fixer_drug.add_adj_candidate(session, BiomarkerDrug, d_dev_cands)\n",
    "candidate_adjective_fixer_medium.add_adj_candidate(session, BiomarkerMedium, m_dev_cands)\n",
    "candidate_adjective_fixer.add_adj_candidate(session, BiomarkerCondition, c_dev_cands)\n"
   ]
  },
  {
   "cell_type": "code",
   "execution_count": 15,
   "metadata": {},
   "outputs": [
    {
     "name": "stdout",
     "output_type": "stream",
     "text": [
      "675\n"
     ]
    }
   ],
   "source": [
    "# print len(dev_cands)\n",
    "print session.query(BiomarkerCondition).filter(BiomarkerCondition.split == 1).count()\n",
    "session.commit()"
   ]
  },
  {
   "cell_type": "code",
   "execution_count": null,
   "metadata": {
    "collapsed": true,
    "scrolled": true
   },
   "outputs": [],
   "source": [
    "import re\n",
    "#from snorkel.lf_terms import *\n",
    "from snorkel.lf_helpers import  *\n",
    "from snorkel.lf_helpers import get_sent_candidate_spans\n",
    "from snorkel.lf_helpers import get_left_tokens, get_right_tokens\n",
    "from random import randint\n",
    "import cPickle\n",
    "from PyDictionary import PyDictionary\n",
    "\n",
    "\n",
    "\n",
    "#umls_dict              = load_umls_dictionary()\n",
    "#chemicals              = load_chemdner_dictionary()\n",
    "#abbrv2text, text2abbrv = load_specialist_abbreviations()\n",
    "\n",
    "keyWords = [\"associate\", \"express\", \"marker\", \"biomarker\", \"elevated\", \"decreased\",\n",
    "            \"correlation\", \"correlates\", \"found\", \"diagnose\", \"variant\", \"appear\",\n",
    "            \"connect\", \"relate\", \"exhibit\", \"indicate\", \"signify\", \"show\", \"demonstrate\",\n",
    "            \"reveal\", \"suggest\", \"evidence\", \"elevation\", \"indication\", \"diagnosis\",\n",
    "            \"variation\", \"modification\", \"suggestion\", \"link\", \"derivation\", \"denote\",\n",
    "            \"denotation\", \"demonstration\", \"magnification\", \"depression\", \"boost\", \"level\",\n",
    "            \"advance\", \"augmentation\", \"lessening\", \"enhancement\", \"expression\", \"buildup\",\n",
    "            \"diminishing\", \"diminishment\", \"reduction\", \"drop\", \"dwindling\", \"lowering\"]\n",
    "\n",
    "negationWords = [\"not\", \"nor\", \"neither\"]\n",
    "\n",
    "toAdd = []\n",
    "for keyword in keyWords:\n",
    "    syns = (PyDictionary().synonym(keyword))\n",
    "    if not syns == None:\n",
    "        for syn in syns:\n",
    "            if not syn in keyWords and not syn in toAdd:\n",
    "                toAdd.append(syn)\n",
    "for word in toAdd:\n",
    "    keyWords.append(word)\n",
    "\n",
    "markerDatabase = []\n",
    "with open('databases/markerData.pickle', 'rb') as f:\n",
    "    markerDatabase = cPickle.load(f)\n",
    "\n",
    "    \n",
    "knowAbbreviations = []\n",
    "with open('databases/abbreviations.com.pkl', 'rb') as f:\n",
    "    knowAbbreviations = cPickle.load(f)\n",
    "    \n",
    "\n",
    "# Biomarker Validity \n",
    "\n",
    "def LF_markerDatabase(c):\n",
    "    if(c.biomarker.get_span() in markerDatabase):\n",
    "        return 1\n",
    "    else:\n",
    "        return 0\n",
    "def LF_abstract_titleWord(c):\n",
    "    words_in_between = []\n",
    "    for thing in get_between_tokens(c):\n",
    "        words_in_between.append(thing)\n",
    "    if(len(words_in_between) > 1 and words_in_between[0] == \":\"):\n",
    "        return -1\n",
    "\n",
    "def LF_single_letter(c):\n",
    "    if(len(c.biomarker.get_span()) < 2):\n",
    "        return -1\n",
    "    else:\n",
    "        return 0\n",
    "\n",
    "def LF_known_abs(c):\n",
    "    if(c.biomarker.get_span() in knowAbbreviations):\n",
    "        return -1\n",
    "    \n",
    "def LF_same_thing(c):\n",
    "    if(c[0].get_span() == c[1].get_span()):\n",
    "        return -1\n",
    "    \n",
    "def LF_roman_numeral(c):\n",
    "    biomarker = (c.biomarker.get_span())\n",
    "    unicodedata.normalize('NFKD', biomarker).encode('ascii','ignore')\n",
    "    if re.match(r'((?<=\\s)|(?<=^))(M{1,4}(CM|CD|D?C{0,3})(XC|XL|L?X{0,3})(IX|IV|V?I{0,3})|M{0,4}(CM|CD|D?C{1,3})(XC|XL|L?X{0,3})(IX|IV|V?I{0,3})|M{0,4}(CM|CD|D?C{0,3})(XC|XL|L?X{1,3})(IX|IV|V?I{0,3})|M{0,4}(CM|CD|D?C{0,3})(XC|XL|L?X{0,3})(IX|IV|V?I{1,3}))(?=\\s)',\n",
    "                biomarker):\n",
    "        return -1 \n",
    "    \n",
    "    \n",
    "# Disease Specific\n",
    "    \n",
    "def LF_distance(c):\n",
    "    '''<TYPE> cancer'''\n",
    "    x = 0\n",
    "    for thing in (get_between_tokens(c)):\n",
    "        x+=1\n",
    "    if(x > 8):\n",
    "        return -1\n",
    "    else:\n",
    "        return 1\n",
    "    '''if(len(get_between_tokens(c)) < 8):\n",
    "        return 1'''\n",
    "\n",
    "def LF_keyword(c):\n",
    "    for keyword in keyWords:\n",
    "#         print keyword\n",
    "        if(keyword in get_between_tokens(c)):\n",
    "            if(\"not\" in get_between_tokens(c)):\n",
    "                return -1\n",
    "            else:\n",
    "                return 1\n",
    "    return 0\n",
    "    \n",
    "def LF_auxpass(c):\n",
    "    if not 'auxpass' in get_between_tokens(c, attrib='dep_labels'):\n",
    "        return -1\n",
    "    else:\n",
    "        return 1\n",
    "    \n",
    "with open('databases/common2000.pkl', 'rb') as f:\n",
    "    common2000 = cPickle.load(f)\n",
    "\n",
    "def LF_common_2000(c):\n",
    "    if(c.condition.get_span() in common2000):\n",
    "        return -1\n",
    "\n",
    "# Medium Specific\n",
    "# Type Specific\n",
    "# Drug Specific\n",
    "# Level/Units Specific\n",
    "\n"
   ]
  },
  {
   "cell_type": "code",
   "execution_count": null,
   "metadata": {
    "collapsed": true
   },
   "outputs": [],
   "source": [
    "BiomarkerSpecificLFs = [LF_markerDatabase, LF_abstract_titleWord, LF_single_letter, LF_known_abs, LF_same_thing, LF_roman_numeral]\n",
    "DiseaseSpecificLFs = [LF_distance,  LF_keyword, LF_auxpass, LF_common_2000]\n",
    "MediumSpecificLFs = []\n",
    "TypeSpecificLFs = []\n",
    "DrugSpecificLFs = []\n",
    "LevelUnitSpecificLFs = []"
   ]
  },
  {
   "cell_type": "code",
   "execution_count": null,
   "metadata": {
    "collapsed": true
   },
   "outputs": [],
   "source": [
    "from snorkel.annotations import LabelAnnotator\n",
    "labeler = LabelAnnotator(lfs=LFs)"
   ]
  },
  {
   "cell_type": "code",
   "execution_count": null,
   "metadata": {
    "collapsed": true
   },
   "outputs": [],
   "source": [
    "%time L_train = labeler.apply(split=0)\n",
    "L_train"
   ]
  },
  {
   "cell_type": "code",
   "execution_count": null,
   "metadata": {
    "collapsed": true
   },
   "outputs": [],
   "source": [
    "L_train.lf_stats(session)"
   ]
  },
  {
   "cell_type": "code",
   "execution_count": null,
   "metadata": {
    "collapsed": true
   },
   "outputs": [],
   "source": [
    "from snorkel.learning.structure import DependencySelector\n",
    "ds = DependencySelector()\n",
    "deps = ds.select(L_train, threshold=0.1)\n",
    "len(deps)"
   ]
  },
  {
   "cell_type": "code",
   "execution_count": null,
   "metadata": {
    "collapsed": true
   },
   "outputs": [],
   "source": [
    "deps"
   ]
  },
  {
   "cell_type": "code",
   "execution_count": null,
   "metadata": {
    "collapsed": true
   },
   "outputs": [],
   "source": [
    "deps = set()"
   ]
  },
  {
   "cell_type": "code",
   "execution_count": null,
   "metadata": {
    "collapsed": true
   },
   "outputs": [],
   "source": [
    "from snorkel.learning import GenerativeModel\n",
    "\n",
    "gen_model = GenerativeModel(lf_propensity=True)\n",
    "gen_model.train(\n",
    "    L_train, deps=deps, decay=0.95, step_size=0.1/L_train.shape[0], reg_param=0.0\n",
    ")"
   ]
  },
  {
   "cell_type": "code",
   "execution_count": null,
   "metadata": {
    "collapsed": true
   },
   "outputs": [],
   "source": [
    "train_marginals = gen_model.marginals(L_train)"
   ]
  },
  {
   "cell_type": "code",
   "execution_count": null,
   "metadata": {
    "collapsed": true,
    "scrolled": true
   },
   "outputs": [],
   "source": [
    "import matplotlib.pyplot as plt\n",
    "plt.hist(train_marginals, bins=20)\n",
    "plt.show()"
   ]
  },
  {
   "cell_type": "code",
   "execution_count": null,
   "metadata": {
    "collapsed": true,
    "scrolled": true
   },
   "outputs": [],
   "source": [
    "gen_model.learned_lf_stats()"
   ]
  },
  {
   "cell_type": "code",
   "execution_count": null,
   "metadata": {
    "collapsed": true
   },
   "outputs": [],
   "source": [
    "from snorkel.annotations import save_marginals\n",
    "save_marginals(session, L_train, train_marginals)"
   ]
  },
  {
   "cell_type": "code",
   "execution_count": null,
   "metadata": {
    "collapsed": true,
    "scrolled": true
   },
   "outputs": [],
   "source": [
    "from load_external_annotations_new import load_external_labels\n",
    "load_external_labels(session, BiomarkerCondition, 'Biomarker', 'Condition', 'articles/disease_gold_labels.tsv', dev_cands, annotator_name='gold')\n"
   ]
  },
  {
   "cell_type": "code",
   "execution_count": null,
   "metadata": {
    "collapsed": true
   },
   "outputs": [],
   "source": [
    "from snorkel.annotations import load_gold_labels\n",
    "L_gold_dev = load_gold_labels(session, annotator_name='gold', split=1)\n",
    "L_gold_dev\n",
    "print L_gold_dev\n"
   ]
  },
  {
   "cell_type": "code",
   "execution_count": null,
   "metadata": {
    "collapsed": true
   },
   "outputs": [],
   "source": [
    "for thing in L_gold_dev:\n",
    "    print thing"
   ]
  },
  {
   "cell_type": "code",
   "execution_count": null,
   "metadata": {
    "collapsed": true
   },
   "outputs": [],
   "source": [
    "L_dev = labeler.apply_existing(split=1)\n",
    "_ = gen_model.score(session, L_dev, L_gold_dev)"
   ]
  },
  {
   "cell_type": "code",
   "execution_count": null,
   "metadata": {
    "collapsed": true,
    "scrolled": true
   },
   "outputs": [],
   "source": [
    "for candidate in dev_cands:\n",
    "    print candidate[1].get_stable_id()"
   ]
  },
  {
   "cell_type": "code",
   "execution_count": null,
   "metadata": {
    "collapsed": true,
    "scrolled": true
   },
   "outputs": [],
   "source": [
    "L_dev.lf_stats(session, L_gold_dev, gen_model.learned_lf_stats()['Accuracy'])"
   ]
  },
  {
   "cell_type": "code",
   "execution_count": null,
   "metadata": {
    "collapsed": true
   },
   "outputs": [],
   "source": [
    "from snorkel.viewer import SentenceNgramViewer\n",
    "labeled = []\n",
    "for c in session.query(BiomarkerCondition).filter(BiomarkerCondition.split == 1).all():\n",
    "    if LF_markerDatabase(c) == 1:\n",
    "        labeled.append(c)\n",
    "SentenceNgramViewer(labeled, session, n_per_page=3)"
   ]
  },
  {
   "cell_type": "code",
   "execution_count": null,
   "metadata": {
    "collapsed": true
   },
   "outputs": [],
   "source": [
    "import numpy as np\n",
    "\n",
    "# Load dev labels and convert to [0, 1] range\n",
    "from snorkel.annotations import load_gold_labels\n",
    "L_gold_dev = load_gold_labels(session, annotator_name='gold', split=1)\n",
    "dev_labels = (np.ravel(L_gold_dev.todense()) + 1) / 2"
   ]
  },
  {
   "cell_type": "code",
   "execution_count": null,
   "metadata": {
    "collapsed": true
   },
   "outputs": [],
   "source": [
    "from snorkel.annotations import FeatureAnnotator\n",
    "featurizer = FeatureAnnotator()\n",
    "\n",
    "%time F_train = featurizer.apply(split=0)\n",
    "F_train"
   ]
  },
  {
   "cell_type": "code",
   "execution_count": null,
   "metadata": {
    "collapsed": true
   },
   "outputs": [],
   "source": [
    "%%time\n",
    "F_dev  = featurizer.apply_existing(split=1)\n",
    "F_test = featurizer.apply_existing(split=2)"
   ]
  },
  {
   "cell_type": "code",
   "execution_count": null,
   "metadata": {
    "collapsed": true
   },
   "outputs": [],
   "source": [
    "from snorkel.annotations import load_marginals\n",
    "train_marginals = load_marginals(session, F_train, split=0)"
   ]
  },
  {
   "cell_type": "code",
   "execution_count": null,
   "metadata": {
    "collapsed": true
   },
   "outputs": [],
   "source": [
    "from snorkel.learning import SparseLogisticRegression\n",
    "disc_model = SparseLogisticRegression()"
   ]
  },
  {
   "cell_type": "code",
   "execution_count": null,
   "metadata": {
    "collapsed": true
   },
   "outputs": [],
   "source": [
    "from snorkel.learning.utils import MentionScorer\n",
    "from snorkel.learning import RandomSearch, ListParameter, RangeParameter\n",
    "\n",
    "# Searching over learning rate\n",
    "rate_param = RangeParameter('lr', 1e-6, 1e-2, step=1, log_base=10)\n",
    "l1_param  = RangeParameter('l1_penalty', 1e-6, 1e-2, step=1, log_base=10)\n",
    "l2_param  = RangeParameter('l2_penalty', 1e-6, 1e-2, step=1, log_base=10)\n",
    "\n",
    "searcher = RandomSearch(session, disc_model, F_train, train_marginals, [rate_param, l1_param, l2_param], n=20)"
   ]
  },
  {
   "cell_type": "code",
   "execution_count": null,
   "metadata": {
    "collapsed": true
   },
   "outputs": [],
   "source": [
    "from snorkel.annotations import load_gold_labels\n",
    "L_gold_dev = load_gold_labels(session, annotator_name='gold', split=1)\n",
    "L_gold_dev\n",
    "\n",
    "import numpy as np\n",
    "np.random.seed(1701)\n",
    "searcher.fit(F_dev, L_gold_dev, n_epochs=50, rebalance=0.5, print_freq=25)\n",
    "\n",
    "### Scoring on the test set\n",
    "\n"
   ]
  },
  {
   "cell_type": "code",
   "execution_count": null,
   "metadata": {
    "collapsed": true
   },
   "outputs": [],
   "source": [
    "test_cands = session.query(BiomarkerCondition).filter(BiomarkerCondition.split == 2).all()\n",
    "train_cands = session.query(BiomarkerCondition).filter(BiomarkerCondition.split == 0).all()"
   ]
  },
  {
   "cell_type": "code",
   "execution_count": null,
   "metadata": {
    "collapsed": true
   },
   "outputs": [],
   "source": [
    "from load_external_annotations_new import load_external_labels\n",
    "load_external_labels(session, BiomarkerCondition, 'Biomarker', 'Condition', 'articles/disease_test_labels.tsv', test_cands, annotator_name='gold')\n",
    "\n",
    "from snorkel.annotations import load_gold_labels\n",
    "L_gold_test = load_gold_labels(session, annotator_name='gold', split=2)\n",
    "L_gold_test\n",
    "\n",
    "tp, fp, tn, fn = disc_model.score(session, F_test, L_gold_test)"
   ]
  },
  {
   "cell_type": "code",
   "execution_count": null,
   "metadata": {
    "collapsed": true
   },
   "outputs": [],
   "source": [
    "tp, fp, tn, fn = disc_model.score(session, F_test, L_gold_test)"
   ]
  },
  {
   "cell_type": "code",
   "execution_count": null,
   "metadata": {
    "collapsed": true
   },
   "outputs": [],
   "source": [
    "print tp"
   ]
  },
  {
   "cell_type": "code",
   "execution_count": null,
   "metadata": {
    "collapsed": true
   },
   "outputs": [],
   "source": [
    "from snorkel.contrib.rnn import reRNN\n",
    "\n",
    "train_kwargs = {\n",
    "    'lr':         0.01,\n",
    "    'dim':        100,\n",
    "    'n_epochs':   50,\n",
    "    'dropout':    0.5,\n",
    "    'rebalance':  0.25,\n",
    "    'print_freq': 5\n",
    "}\n",
    "\n",
    "lstm = reRNN(seed=1701, n_threads=None)\n",
    "lstm.train(train_cands, train_marginals, dev_candidates=dev_cands, dev_labels=dev_labels, **train_kwargs)"
   ]
  },
  {
   "cell_type": "code",
   "execution_count": null,
   "metadata": {
    "collapsed": true
   },
   "outputs": [],
   "source": [
    "lstm.save(\"biomarkercondition.lstm\")"
   ]
  },
  {
   "cell_type": "code",
   "execution_count": null,
   "metadata": {
    "collapsed": true
   },
   "outputs": [],
   "source": []
  }
 ],
 "metadata": {
  "kernelspec": {
   "display_name": "Python 2",
   "language": "python",
   "name": "python2"
  },
  "language_info": {
   "codemirror_mode": {
    "name": "ipython",
    "version": 2
   },
   "file_extension": ".py",
   "mimetype": "text/x-python",
   "name": "python",
   "nbconvert_exporter": "python",
   "pygments_lexer": "ipython2",
   "version": "2.7.12"
  }
 },
 "nbformat": 4,
 "nbformat_minor": 2
}
